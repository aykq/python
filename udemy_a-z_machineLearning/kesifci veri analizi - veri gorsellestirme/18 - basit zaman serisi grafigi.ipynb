{
 "cells": [
  {
   "attachments": {},
   "cell_type": "markdown",
   "metadata": {},
   "source": [
    "## basit zaman serisi grafigi\n"
   ]
  },
  {
   "cell_type": "code",
   "execution_count": 29,
   "metadata": {},
   "outputs": [],
   "source": [
    "# pip install pandas_datareader\n",
    "import pandas_datareader as pr\n",
    "\n",
    "\n",
    "# =====================================\n",
    "\n",
    "# in cmd, 1) pip install yfinance\n",
    "#         2) pip install fix_yahoo_finance\n",
    "\n",
    "# import fix_yahoo_finance as fyf\n",
    "# from pandas_datareader import data as pdr\n",
    "\n",
    "# fyf.pdr_override()\n",
    "\n",
    "# =====================================\n",
    "\n",
    "\n",
    "# veri setimiz: apple'ın borsadaki hisse senedi değerleri\n",
    "# zaman serisi verisi olacak, zamana bağlı bir veri seti"
   ]
  },
  {
   "cell_type": "code",
   "execution_count": 23,
   "metadata": {},
   "outputs": [],
   "source": [
    "import yfinance as yf"
   ]
  },
  {
   "cell_type": "code",
   "execution_count": 28,
   "metadata": {},
   "outputs": [
    {
     "name": "stdout",
     "output_type": "stream",
     "text": [
      "[*********************100%***********************]  1 of 1 completed\n"
     ]
    },
    {
     "data": {
      "text/plain": [
       "<bound method NDFrame.head of                  Open       High        Low      Close  Adj Close     Volume\n",
       "Date                                                                        \n",
       "2016-01-04  25.652500  26.342501  25.500000  26.337500  24.041485  270597600\n",
       "2016-01-05  26.437500  26.462500  25.602501  25.677500  23.439026  223164000\n",
       "2016-01-06  25.139999  25.592501  24.967501  25.174999  22.980335  273829600\n",
       "2016-01-07  24.670000  25.032499  24.107500  24.112499  22.010458  324377600\n",
       "2016-01-08  24.637501  24.777500  24.190001  24.240000  22.126842  283192000\n",
       "...               ...        ...        ...        ...        ...        ...\n",
       "2019-08-19  52.654999  53.182499  52.507500  52.587502  51.215435   97654400\n",
       "2019-08-20  52.720001  53.337502  52.580002  52.590000  51.217869  107537200\n",
       "2019-08-21  53.247501  53.412498  52.900002  53.160000  51.772999   86141600\n",
       "2019-08-22  53.297501  53.610001  52.687500  53.115002  51.729172   89014800\n",
       "2019-08-23  52.357498  53.012501  50.250000  50.660000  49.338226  187272000\n",
       "\n",
       "[917 rows x 6 columns]>"
      ]
     },
     "execution_count": 28,
     "metadata": {},
     "output_type": "execute_result"
    }
   ],
   "source": [
    "df = yf.download(\"AAPL\", start=\"2016-01-01\", end=\"2019-08-25\")\n",
    "df.head"
   ]
  },
  {
   "attachments": {},
   "cell_type": "markdown",
   "metadata": {},
   "source": [
    "#### buna sonra tekrar bakacağım anlamadığım bir sorun var\n"
   ]
  }
 ],
 "metadata": {
  "kernelspec": {
   "display_name": "Python 3",
   "language": "python",
   "name": "python3"
  },
  "language_info": {
   "codemirror_mode": {
    "name": "ipython",
    "version": 3
   },
   "file_extension": ".py",
   "mimetype": "text/x-python",
   "name": "python",
   "nbconvert_exporter": "python",
   "pygments_lexer": "ipython3",
   "version": "3.10.6"
  },
  "orig_nbformat": 4
 },
 "nbformat": 4,
 "nbformat_minor": 2
}
