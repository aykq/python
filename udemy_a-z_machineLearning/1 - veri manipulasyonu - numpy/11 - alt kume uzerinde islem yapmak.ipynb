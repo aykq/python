{
 "cells": [
  {
   "attachments": {},
   "cell_type": "markdown",
   "metadata": {},
   "source": [
    "## alt kume uzerinde islem yapmak"
   ]
  },
  {
   "cell_type": "code",
   "execution_count": 1,
   "metadata": {},
   "outputs": [
    {
     "data": {
      "text/plain": [
       "array([[8, 6, 4, 8, 7],\n",
       "       [6, 9, 1, 8, 0],\n",
       "       [8, 4, 1, 3, 9],\n",
       "       [2, 1, 5, 7, 1],\n",
       "       [0, 4, 6, 9, 0]])"
      ]
     },
     "execution_count": 1,
     "metadata": {},
     "output_type": "execute_result"
    }
   ],
   "source": [
    "import numpy as np\n",
    "a = np.random.randint(10, size=(5, 5))\n",
    "a"
   ]
  },
  {
   "cell_type": "code",
   "execution_count": 2,
   "metadata": {},
   "outputs": [
    {
     "data": {
      "text/plain": [
       "array([[8, 6],\n",
       "       [6, 9],\n",
       "       [8, 4]])"
      ]
     },
     "execution_count": 2,
     "metadata": {},
     "output_type": "execute_result"
    }
   ],
   "source": [
    "altA = a[0:3, 0:2]\n",
    "altA"
   ]
  },
  {
   "cell_type": "code",
   "execution_count": 3,
   "metadata": {},
   "outputs": [
    {
     "data": {
      "text/plain": [
       "array([[99999,     6],\n",
       "       [    6,   888],\n",
       "       [    8,     4]])"
      ]
     },
     "execution_count": 3,
     "metadata": {},
     "output_type": "execute_result"
    }
   ],
   "source": [
    "altA[0, 0] = 99999\n",
    "altA[1, 1] = 888\n",
    "altA"
   ]
  },
  {
   "cell_type": "code",
   "execution_count": 4,
   "metadata": {},
   "outputs": [
    {
     "data": {
      "text/plain": [
       "array([[99999,     6,     4,     8,     7],\n",
       "       [    6,   888,     1,     8,     0],\n",
       "       [    8,     4,     1,     3,     9],\n",
       "       [    2,     1,     5,     7,     1],\n",
       "       [    0,     4,     6,     9,     0]])"
      ]
     },
     "execution_count": 4,
     "metadata": {},
     "output_type": "execute_result"
    }
   ],
   "source": [
    "a\n",
    "\n",
    "# a'nın alt kümesi olan altA'da değişiklik yaptığımızda ana küme olan a'da da değişiklik oldu."
   ]
  },
  {
   "cell_type": "code",
   "execution_count": 5,
   "metadata": {},
   "outputs": [
    {
     "data": {
      "text/plain": [
       "array([[2, 9, 7, 4, 9],\n",
       "       [3, 6, 1, 2, 3],\n",
       "       [7, 0, 0, 8, 9],\n",
       "       [4, 7, 2, 1, 7],\n",
       "       [9, 1, 7, 9, 0]])"
      ]
     },
     "execution_count": 5,
     "metadata": {},
     "output_type": "execute_result"
    }
   ],
   "source": [
    "x = np.random.randint(10, size=(5, 5))\n",
    "x"
   ]
  },
  {
   "cell_type": "code",
   "execution_count": 6,
   "metadata": {},
   "outputs": [
    {
     "data": {
      "text/plain": [
       "array([[2, 9],\n",
       "       [3, 6],\n",
       "       [7, 0]])"
      ]
     },
     "execution_count": 6,
     "metadata": {},
     "output_type": "execute_result"
    }
   ],
   "source": [
    "altB = x[0:3, 0:2].copy()\n",
    "altB\n",
    "\n",
    "# copy() eklediğimizde, alt kümeyi ana kümeden bağımsızlaştırmış oluyor."
   ]
  },
  {
   "cell_type": "code",
   "execution_count": 7,
   "metadata": {},
   "outputs": [
    {
     "data": {
      "text/plain": [
       "array([[999,   9],\n",
       "       [  3,   6],\n",
       "       [  7,   0]])"
      ]
     },
     "execution_count": 7,
     "metadata": {},
     "output_type": "execute_result"
    }
   ],
   "source": [
    "altB[0, 0] = 999\n",
    "altB"
   ]
  },
  {
   "cell_type": "code",
   "execution_count": 8,
   "metadata": {},
   "outputs": [
    {
     "data": {
      "text/plain": [
       "array([[99999,     6,     4,     8,     7],\n",
       "       [    6,   888,     1,     8,     0],\n",
       "       [    8,     4,     1,     3,     9],\n",
       "       [    2,     1,     5,     7,     1],\n",
       "       [    0,     4,     6,     9,     0]])"
      ]
     },
     "execution_count": 8,
     "metadata": {},
     "output_type": "execute_result"
    }
   ],
   "source": [
    "a"
   ]
  }
 ],
 "metadata": {
  "kernelspec": {
   "display_name": "Python 3",
   "language": "python",
   "name": "python3"
  },
  "language_info": {
   "codemirror_mode": {
    "name": "ipython",
    "version": 3
   },
   "file_extension": ".py",
   "mimetype": "text/x-python",
   "name": "python",
   "nbconvert_exporter": "python",
   "pygments_lexer": "ipython3",
   "version": "3.10.6"
  },
  "orig_nbformat": 4
 },
 "nbformat": 4,
 "nbformat_minor": 2
}
