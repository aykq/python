{
 "cells": [
  {
   "attachments": {},
   "cell_type": "markdown",
   "metadata": {},
   "source": [
    "## coklu dogrusal regresyon - model tuning - model dogrulama\n"
   ]
  },
  {
   "cell_type": "code",
   "execution_count": 1,
   "metadata": {},
   "outputs": [],
   "source": [
    "from sklearn.metrics import mean_squared_error\n",
    "from sklearn.model_selection import train_test_split, cross_val_score, cross_val_predict\n",
    "from sklearn.linear_model import LinearRegression\n",
    "import statsmodels.formula.api as smf\n",
    "import statsmodels.api as sm\n",
    "import numpy as np\n",
    "import pandas as pd\n",
    "\n",
    "ad = pd.read_csv('Advertising.csv')\n",
    "df = ad.copy()\n",
    "df.head()\n",
    "\n",
    "x = df[['TV']]\n",
    "y = df['sales']\n",
    "x_train, x_test, y_train, y_test = train_test_split(x, y,\n",
    "                                                    test_size=0.20,\n",
    "                                                    random_state=144)\n",
    "\n",
    "lm = LinearRegression()\n",
    "model = lm.fit(x_train, y_train)\n",
    "\n",
    "# random_state degerini degistirdigimizde np.sqrt ve model.score degerleri de degisir\n",
    "# burada onemli olan soru sudur: biz veri setinin bir kismini sececegiz fakat hangi kismini sececegiz?\n",
    "\n",
    "# bu problemi giderebilmek icin cross validation yontemi kullanilir"
   ]
  },
  {
   "cell_type": "code",
   "execution_count": 2,
   "metadata": {},
   "outputs": [
    {
     "data": {
      "text/plain": [
       "3.107647496632468"
      ]
     },
     "execution_count": 2,
     "metadata": {},
     "output_type": "execute_result"
    }
   ],
   "source": [
    "np.sqrt(mean_squared_error(y_train, model.predict(x_train)))"
   ]
  },
  {
   "cell_type": "code",
   "execution_count": 3,
   "metadata": {},
   "outputs": [
    {
     "data": {
      "text/plain": [
       "0.6459499057909992"
      ]
     },
     "execution_count": 3,
     "metadata": {},
     "output_type": "execute_result"
    }
   ],
   "source": [
    "model.score(x_train, y_train)"
   ]
  },
  {
   "cell_type": "code",
   "execution_count": 4,
   "metadata": {},
   "outputs": [
    {
     "data": {
      "text/plain": [
       "array([0.70015158, 0.43449405, 0.58322591, 0.78975123, 0.47952235,\n",
       "       0.62298657, 0.66525353, 0.60389703, 0.16530872, 0.64237498])"
      ]
     },
     "execution_count": 4,
     "metadata": {},
     "output_type": "execute_result"
    }
   ],
   "source": [
    "cross_val_score(model, x, y, cv=10, scoring=\"r2\")\n",
    "\n",
    "# 10 katli cross validation"
   ]
  },
  {
   "cell_type": "code",
   "execution_count": 5,
   "metadata": {},
   "outputs": [
    {
     "data": {
      "text/plain": [
       "0.5686965937483904"
      ]
     },
     "execution_count": 5,
     "metadata": {},
     "output_type": "execute_result"
    }
   ],
   "source": [
    "cross_val_score(model, x, y, cv=10, scoring=\"r2\").mean()\n",
    "\n",
    "# modelimizin daha guvenilir, valide edilmis, dogrulanmis r^2 degeri budur\n",
    "# ancak biz bu islemi butun veri seti icin yaptik"
   ]
  },
  {
   "cell_type": "code",
   "execution_count": 6,
   "metadata": {},
   "outputs": [
    {
     "data": {
      "text/plain": [
       "0.6459499057909992"
      ]
     },
     "execution_count": 6,
     "metadata": {},
     "output_type": "execute_result"
    }
   ],
   "source": [
    "model.score(x_train, y_train)\n",
    "\n",
    "# az once elde ettigimiz skor. asagidaki valide edilmis skordan farkli"
   ]
  },
  {
   "cell_type": "code",
   "execution_count": 7,
   "metadata": {},
   "outputs": [
    {
     "data": {
      "text/plain": [
       "0.5596563213243794"
      ]
     },
     "execution_count": 7,
     "metadata": {},
     "output_type": "execute_result"
    }
   ],
   "source": [
    "cross_val_score(model, x_train, y_train, cv=10, scoring=\"r2\").mean()"
   ]
  },
  {
   "cell_type": "code",
   "execution_count": 8,
   "metadata": {},
   "outputs": [
    {
     "data": {
      "text/plain": [
       "array([13.92062056,  9.29383535,  6.32443072,  8.50622704,  9.41266889,\n",
       "       11.33575591,  9.26203478,  9.77714338,  9.90424031, 10.79827468])"
      ]
     },
     "execution_count": 8,
     "metadata": {},
     "output_type": "execute_result"
    }
   ],
   "source": [
    "-cross_val_score(model, x_train, y_train, cv=10, scoring=\"neg_mean_squared_error\")\n",
    "\n",
    "# en basa - koymamizin sebebi, sonucun -'li olarak geliyor olmasi"
   ]
  },
  {
   "cell_type": "code",
   "execution_count": 9,
   "metadata": {},
   "outputs": [
    {
     "data": {
      "text/plain": [
       "array([3.73103478, 3.04857924, 2.51484209, 2.91654368, 3.06800732,\n",
       "       3.36686143, 3.04335913, 3.1268424 , 3.1471003 , 3.28607283])"
      ]
     },
     "execution_count": 9,
     "metadata": {},
     "output_type": "execute_result"
    }
   ],
   "source": [
    "rmse = np.sqrt(\n",
    "    -cross_val_score(model, x_train, y_train, cv=10, scoring=\"neg_mean_squared_error\")\n",
    ")\n",
    "rmse\n",
    "\n",
    "# egitim setimiz icin 10 adet egitim hatasi olusturuldu\n",
    "\n",
    "# 3. hucredeki np.sqrt(mean_squared_error(y_train, model.predict(x_train))) ciktisindan daha farkli sonuclar cikiyor\n",
    "# veri setindeki sectigimiz parcalara gore farklı farklı egitim hatalari olusuyor"
   ]
  },
  {
   "cell_type": "code",
   "execution_count": 10,
   "metadata": {},
   "outputs": [
    {
     "data": {
      "text/plain": [
       "3.1249243196480836"
      ]
     },
     "execution_count": 10,
     "metadata": {},
     "output_type": "execute_result"
    }
   ],
   "source": [
    "rmse = np.sqrt(\n",
    "    -cross_val_score(model, x_train, y_train, cv=10, scoring=\"neg_mean_squared_error\")\n",
    ").mean()\n",
    "rmse\n",
    "\n",
    "# yukarıdaki degerlerin ortalamasi alindiginda bu degerleri valide etmis oluyoruz ve gercek egitim hatasini buluyoruz."
   ]
  },
  {
   "attachments": {},
   "cell_type": "markdown",
   "metadata": {},
   "source": [
    "### ========================================================\n"
   ]
  },
  {
   "cell_type": "code",
   "execution_count": 11,
   "metadata": {},
   "outputs": [
    {
     "data": {
      "text/plain": [
       "3.74366601636939"
      ]
     },
     "execution_count": 11,
     "metadata": {},
     "output_type": "execute_result"
    }
   ],
   "source": [
    "np.sqrt(mean_squared_error(y_test, model.predict(x_test)))"
   ]
  },
  {
   "cell_type": "code",
   "execution_count": 12,
   "metadata": {},
   "outputs": [
    {
     "data": {
      "text/plain": [
       "3.8494070328044403"
      ]
     },
     "execution_count": 12,
     "metadata": {},
     "output_type": "execute_result"
    }
   ],
   "source": [
    "rmse = np.sqrt(\n",
    "    -cross_val_score(model, x_test, y_test, cv=10, scoring=\"neg_mean_squared_error\")\n",
    ").mean()\n",
    "rmse"
   ]
  }
 ],
 "metadata": {
  "kernelspec": {
   "display_name": "Python 3",
   "language": "python",
   "name": "python3"
  },
  "language_info": {
   "codemirror_mode": {
    "name": "ipython",
    "version": 3
   },
   "file_extension": ".py",
   "mimetype": "text/x-python",
   "name": "python",
   "nbconvert_exporter": "python",
   "pygments_lexer": "ipython3",
   "version": "3.10.6"
  },
  "orig_nbformat": 4
 },
 "nbformat": 4,
 "nbformat_minor": 2
}
