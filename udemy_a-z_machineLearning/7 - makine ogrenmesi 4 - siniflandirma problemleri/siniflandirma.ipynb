{
 "cells": [
  {
   "cell_type": "markdown",
   "metadata": {},
   "source": [
    "# Sınıflandırma Problemleri"
   ]
  },
  {
   "cell_type": "code",
   "execution_count": 1,
   "metadata": {},
   "outputs": [],
   "source": [
    "import numpy as np\n",
    "import pandas as pd \n",
    "import statsmodels.api as sm\n",
    "import statsmodels.formula.api as smf\n",
    "import seaborn as sns\n",
    "from sklearn.preprocessing import scale \n",
    "from sklearn.model_selection import train_test_split, GridSearchCV, cross_val_score\n",
    "from sklearn.metrics import confusion_matrix, accuracy_score, classification_report\n",
    "from sklearn.metrics import roc_auc_score,roc_curve\n",
    "import statsmodels.formula.api as smf\n",
    "import matplotlib.pyplot as plt\n",
    "from sklearn.neighbors import KNeighborsClassifier\n",
    "from sklearn.discriminant_analysis import LinearDiscriminantAnalysis\n",
    "from sklearn.linear_model import LogisticRegression\n",
    "from sklearn.svm import SVC\n",
    "from sklearn.naive_bayes import GaussianNB\n",
    "from sklearn import tree\n",
    "from sklearn.ensemble import RandomForestClassifier\n",
    "from sklearn.ensemble import GradientBoostingClassifier\n",
    "from xgboost import XGBClassifier\n",
    "from lightgbm import LGBMClassifier\n",
    "from catboost import CatBoostClassifier\n",
    "\n",
    "from warnings import filterwarnings\n",
    "filterwarnings('ignore')"
   ]
  },
  {
   "cell_type": "markdown",
   "metadata": {},
   "source": [
    "# Lojistik Regresyon "
   ]
  },
  {
   "cell_type": "markdown",
   "metadata": {},
   "source": [
    "## Model "
   ]
  },
  {
   "cell_type": "code",
   "execution_count": 2,
   "metadata": {},
   "outputs": [
    {
     "data": {
      "text/html": [
       "<div>\n",
       "<style scoped>\n",
       "    .dataframe tbody tr th:only-of-type {\n",
       "        vertical-align: middle;\n",
       "    }\n",
       "\n",
       "    .dataframe tbody tr th {\n",
       "        vertical-align: top;\n",
       "    }\n",
       "\n",
       "    .dataframe thead th {\n",
       "        text-align: right;\n",
       "    }\n",
       "</style>\n",
       "<table border=\"1\" class=\"dataframe\">\n",
       "  <thead>\n",
       "    <tr style=\"text-align: right;\">\n",
       "      <th></th>\n",
       "      <th>Pregnancies</th>\n",
       "      <th>Glucose</th>\n",
       "      <th>BloodPressure</th>\n",
       "      <th>SkinThickness</th>\n",
       "      <th>Insulin</th>\n",
       "      <th>BMI</th>\n",
       "      <th>DiabetesPedigreeFunction</th>\n",
       "      <th>Age</th>\n",
       "      <th>Outcome</th>\n",
       "    </tr>\n",
       "  </thead>\n",
       "  <tbody>\n",
       "    <tr>\n",
       "      <th>0</th>\n",
       "      <td>6</td>\n",
       "      <td>148</td>\n",
       "      <td>72</td>\n",
       "      <td>35</td>\n",
       "      <td>0</td>\n",
       "      <td>33.6</td>\n",
       "      <td>0.627</td>\n",
       "      <td>50</td>\n",
       "      <td>1</td>\n",
       "    </tr>\n",
       "    <tr>\n",
       "      <th>1</th>\n",
       "      <td>1</td>\n",
       "      <td>85</td>\n",
       "      <td>66</td>\n",
       "      <td>29</td>\n",
       "      <td>0</td>\n",
       "      <td>26.6</td>\n",
       "      <td>0.351</td>\n",
       "      <td>31</td>\n",
       "      <td>0</td>\n",
       "    </tr>\n",
       "    <tr>\n",
       "      <th>2</th>\n",
       "      <td>8</td>\n",
       "      <td>183</td>\n",
       "      <td>64</td>\n",
       "      <td>0</td>\n",
       "      <td>0</td>\n",
       "      <td>23.3</td>\n",
       "      <td>0.672</td>\n",
       "      <td>32</td>\n",
       "      <td>1</td>\n",
       "    </tr>\n",
       "    <tr>\n",
       "      <th>3</th>\n",
       "      <td>1</td>\n",
       "      <td>89</td>\n",
       "      <td>66</td>\n",
       "      <td>23</td>\n",
       "      <td>94</td>\n",
       "      <td>28.1</td>\n",
       "      <td>0.167</td>\n",
       "      <td>21</td>\n",
       "      <td>0</td>\n",
       "    </tr>\n",
       "    <tr>\n",
       "      <th>4</th>\n",
       "      <td>0</td>\n",
       "      <td>137</td>\n",
       "      <td>40</td>\n",
       "      <td>35</td>\n",
       "      <td>168</td>\n",
       "      <td>43.1</td>\n",
       "      <td>2.288</td>\n",
       "      <td>33</td>\n",
       "      <td>1</td>\n",
       "    </tr>\n",
       "  </tbody>\n",
       "</table>\n",
       "</div>"
      ],
      "text/plain": [
       "   Pregnancies  Glucose  BloodPressure  SkinThickness  Insulin   BMI  \\\n",
       "0            6      148             72             35        0  33.6   \n",
       "1            1       85             66             29        0  26.6   \n",
       "2            8      183             64              0        0  23.3   \n",
       "3            1       89             66             23       94  28.1   \n",
       "4            0      137             40             35      168  43.1   \n",
       "\n",
       "   DiabetesPedigreeFunction  Age  Outcome  \n",
       "0                     0.627   50        1  \n",
       "1                     0.351   31        0  \n",
       "2                     0.672   32        1  \n",
       "3                     0.167   21        0  \n",
       "4                     2.288   33        1  "
      ]
     },
     "execution_count": 2,
     "metadata": {},
     "output_type": "execute_result"
    }
   ],
   "source": [
    "diabetes = pd.read_csv(\"diabetes.csv\")\n",
    "df = diabetes.copy()\n",
    "df = df.dropna()\n",
    "df.head()"
   ]
  },
  {
   "cell_type": "code",
   "execution_count": 3,
   "metadata": {},
   "outputs": [
    {
     "name": "stdout",
     "output_type": "stream",
     "text": [
      "<class 'pandas.core.frame.DataFrame'>\n",
      "RangeIndex: 768 entries, 0 to 767\n",
      "Data columns (total 9 columns):\n",
      " #   Column                    Non-Null Count  Dtype  \n",
      "---  ------                    --------------  -----  \n",
      " 0   Pregnancies               768 non-null    int64  \n",
      " 1   Glucose                   768 non-null    int64  \n",
      " 2   BloodPressure             768 non-null    int64  \n",
      " 3   SkinThickness             768 non-null    int64  \n",
      " 4   Insulin                   768 non-null    int64  \n",
      " 5   BMI                       768 non-null    float64\n",
      " 6   DiabetesPedigreeFunction  768 non-null    float64\n",
      " 7   Age                       768 non-null    int64  \n",
      " 8   Outcome                   768 non-null    int64  \n",
      "dtypes: float64(2), int64(7)\n",
      "memory usage: 54.1 KB\n"
     ]
    }
   ],
   "source": [
    "df.info()"
   ]
  },
  {
   "cell_type": "code",
   "execution_count": 4,
   "metadata": {},
   "outputs": [
    {
     "data": {
      "text/plain": [
       "Outcome\n",
       "0    500\n",
       "1    268\n",
       "Name: count, dtype: int64"
      ]
     },
     "execution_count": 4,
     "metadata": {},
     "output_type": "execute_result"
    }
   ],
   "source": [
    "df[\"Outcome\"].value_counts()"
   ]
  },
  {
   "cell_type": "code",
   "execution_count": 5,
   "metadata": {},
   "outputs": [
    {
     "data": {
      "image/png": "[encoded data removed]",
      "text/plain": [
       "<Figure size 640x480 with 1 Axes>"
      ]
     },
     "metadata": {},
     "output_type": "display_data"
    }
   ],
   "source": [
    "df[\"Outcome\"].value_counts().plot.barh();"
   ]
  },
  {
   "cell_type": "code",
   "execution_count": 6,
   "metadata": {},
   "outputs": [
    {
     "data": {
      "text/html": [
       "<div>\n",
       "<style scoped>\n",
       "    .dataframe tbody tr th:only-of-type {\n",
       "        vertical-align: middle;\n",
       "    }\n",
       "\n",
       "    .dataframe tbody tr th {\n",
       "        vertical-align: top;\n",
       "    }\n",
       "\n",
       "    .dataframe thead th {\n",
       "        text-align: right;\n",
       "    }\n",
       "</style>\n",
       "<table border=\"1\" class=\"dataframe\">\n",
       "  <thead>\n",
       "    <tr style=\"text-align: right;\">\n",
       "      <th></th>\n",
       "      <th>count</th>\n",
       "      <th>mean</th>\n",
       "      <th>std</th>\n",
       "      <th>min</th>\n",
       "      <th>25%</th>\n",
       "      <th>50%</th>\n",
       "      <th>75%</th>\n",
       "      <th>max</th>\n",
       "    </tr>\n",
       "  </thead>\n",
       "  <tbody>\n",
       "    <tr>\n",
       "      <th>Pregnancies</th>\n",
       "      <td>768.0</td>\n",
       "      <td>3.845052</td>\n",
       "      <td>3.369578</td>\n",
       "      <td>0.000</td>\n",
       "      <td>1.00000</td>\n",
       "      <td>3.0000</td>\n",
       "      <td>6.00000</td>\n",
       "      <td>17.00</td>\n",
       "    </tr>\n",
       "    <tr>\n",
       "      <th>Glucose</th>\n",
       "      <td>768.0</td>\n",
       "      <td>120.894531</td>\n",
       "      <td>31.972618</td>\n",
       "      <td>0.000</td>\n",
       "      <td>99.00000</td>\n",
       "      <td>117.0000</td>\n",
       "      <td>140.25000</td>\n",
       "      <td>199.00</td>\n",
       "    </tr>\n",
       "    <tr>\n",
       "      <th>BloodPressure</th>\n",
       "      <td>768.0</td>\n",
       "      <td>69.105469</td>\n",
       "      <td>19.355807</td>\n",
       "      <td>0.000</td>\n",
       "      <td>62.00000</td>\n",
       "      <td>72.0000</td>\n",
       "      <td>80.00000</td>\n",
       "      <td>122.00</td>\n",
       "    </tr>\n",
       "    <tr>\n",
       "      <th>SkinThickness</th>\n",
       "      <td>768.0</td>\n",
       "      <td>20.536458</td>\n",
       "      <td>15.952218</td>\n",
       "      <td>0.000</td>\n",
       "      <td>0.00000</td>\n",
       "      <td>23.0000</td>\n",
       "      <td>32.00000</td>\n",
       "      <td>99.00</td>\n",
       "    </tr>\n",
       "    <tr>\n",
       "      <th>Insulin</th>\n",
       "      <td>768.0</td>\n",
       "      <td>79.799479</td>\n",
       "      <td>115.244002</td>\n",
       "      <td>0.000</td>\n",
       "      <td>0.00000</td>\n",
       "      <td>30.5000</td>\n",
       "      <td>127.25000</td>\n",
       "      <td>846.00</td>\n",
       "    </tr>\n",
       "    <tr>\n",
       "      <th>BMI</th>\n",
       "      <td>768.0</td>\n",
       "      <td>31.992578</td>\n",
       "      <td>7.884160</td>\n",
       "      <td>0.000</td>\n",
       "      <td>27.30000</td>\n",
       "      <td>32.0000</td>\n",
       "      <td>36.60000</td>\n",
       "      <td>67.10</td>\n",
       "    </tr>\n",
       "    <tr>\n",
       "      <th>DiabetesPedigreeFunction</th>\n",
       "      <td>768.0</td>\n",
       "      <td>0.471876</td>\n",
       "      <td>0.331329</td>\n",
       "      <td>0.078</td>\n",
       "      <td>0.24375</td>\n",
       "      <td>0.3725</td>\n",
       "      <td>0.62625</td>\n",
       "      <td>2.42</td>\n",
       "    </tr>\n",
       "    <tr>\n",
       "      <th>Age</th>\n",
       "      <td>768.0</td>\n",
       "      <td>33.240885</td>\n",
       "      <td>11.760232</td>\n",
       "      <td>21.000</td>\n",
       "      <td>24.00000</td>\n",
       "      <td>29.0000</td>\n",
       "      <td>41.00000</td>\n",
       "      <td>81.00</td>\n",
       "    </tr>\n",
       "    <tr>\n",
       "      <th>Outcome</th>\n",
       "      <td>768.0</td>\n",
       "      <td>0.348958</td>\n",
       "      <td>0.476951</td>\n",
       "      <td>0.000</td>\n",
       "      <td>0.00000</td>\n",
       "      <td>0.0000</td>\n",
       "      <td>1.00000</td>\n",
       "      <td>1.00</td>\n",
       "    </tr>\n",
       "  </tbody>\n",
       "</table>\n",
       "</div>"
      ],
      "text/plain": [
       "                          count        mean         std     min       25%  \\\n",
       "Pregnancies               768.0    3.845052    3.369578   0.000   1.00000   \n",
       "Glucose                   768.0  120.894531   31.972618   0.000  99.00000   \n",
       "BloodPressure             768.0   69.105469   19.355807   0.000  62.00000   \n",
       "SkinThickness             768.0   20.536458   15.952218   0.000   0.00000   \n",
       "Insulin                   768.0   79.799479  115.244002   0.000   0.00000   \n",
       "BMI                       768.0   31.992578    7.884160   0.000  27.30000   \n",
       "DiabetesPedigreeFunction  768.0    0.471876    0.331329   0.078   0.24375   \n",
       "Age                       768.0   33.240885   11.760232  21.000  24.00000   \n",
       "Outcome                   768.0    0.348958    0.476951   0.000   0.00000   \n",
       "\n",
       "                               50%        75%     max  \n",
       "Pregnancies                 3.0000    6.00000   17.00  \n",
       "Glucose                   117.0000  140.25000  199.00  \n",
       "BloodPressure              72.0000   80.00000  122.00  \n",
       "SkinThickness              23.0000   32.00000   99.00  \n",
       "Insulin                    30.5000  127.25000  846.00  \n",
       "BMI                        32.0000   36.60000   67.10  \n",
       "DiabetesPedigreeFunction    0.3725    0.62625    2.42  \n",
       "Age                        29.0000   41.00000   81.00  \n",
       "Outcome                     0.0000    1.00000    1.00  "
      ]
     },
     "execution_count": 6,
     "metadata": {},
     "output_type": "execute_result"
    }
   ],
   "source": [
    "df.describe().T"
   ]
  },
  {
   "cell_type": "code",
   "execution_count": 7,
   "metadata": {},
   "outputs": [],
   "source": [
    "y = df[\"Outcome\"]\n",
    "X = df.drop([\"Outcome\"], axis=1)"
   ]
  },
  {
   "cell_type": "code",
   "execution_count": 8,
   "metadata": {},
   "outputs": [],
   "source": [
    "#statsmodels"
   ]
  },
  {
   "cell_type": "code",
   "execution_count": 9,
   "metadata": {},
   "outputs": [
    {
     "name": "stdout",
     "output_type": "stream",
     "text": [
      "Optimization terminated successfully.\n",
      "         Current function value: 0.608498\n",
      "         Iterations 5\n"
     ]
    },
    {
     "data": {
      "text/html": [
       "<table class=\"simpletable\">\n",
       "<caption>Logit Regression Results</caption>\n",
       "<tr>\n",
       "  <th>Dep. Variable:</th>        <td>Outcome</td>     <th>  No. Observations:  </th>  <td>   768</td>  \n",
       "</tr>\n",
       "<tr>\n",
       "  <th>Model:</th>                 <td>Logit</td>      <th>  Df Residuals:      </th>  <td>   760</td>  \n",
       "</tr>\n",
       "<tr>\n",
       "  <th>Method:</th>                 <td>MLE</td>       <th>  Df Model:          </th>  <td>     7</td>  \n",
       "</tr>\n",
       "<tr>\n",
       "  <th>Date:</th>            <td>Thu, 25 Jan 2024</td> <th>  Pseudo R-squ.:     </th>  <td>0.05922</td> \n",
       "</tr>\n",
       "<tr>\n",
       "  <th>Time:</th>                <td>23:30:01</td>     <th>  Log-Likelihood:    </th> <td> -467.33</td> \n",
       "</tr>\n",
       "<tr>\n",
       "  <th>converged:</th>             <td>True</td>       <th>  LL-Null:           </th> <td> -496.74</td> \n",
       "</tr>\n",
       "<tr>\n",
       "  <th>Covariance Type:</th>     <td>nonrobust</td>    <th>  LLR p-value:       </th> <td>2.583e-10</td>\n",
       "</tr>\n",
       "</table>\n",
       "<table class=\"simpletable\">\n",
       "<tr>\n",
       "              <td></td>                <th>coef</th>     <th>std err</th>      <th>z</th>      <th>P>|z|</th>  <th>[0.025</th>    <th>0.975]</th>  \n",
       "</tr>\n",
       "<tr>\n",
       "  <th>Pregnancies</th>              <td>    0.1284</td> <td>    0.029</td> <td>    4.484</td> <td> 0.000</td> <td>    0.072</td> <td>    0.185</td>\n",
       "</tr>\n",
       "<tr>\n",
       "  <th>Glucose</th>                  <td>    0.0129</td> <td>    0.003</td> <td>    4.757</td> <td> 0.000</td> <td>    0.008</td> <td>    0.018</td>\n",
       "</tr>\n",
       "<tr>\n",
       "  <th>BloodPressure</th>            <td>   -0.0303</td> <td>    0.005</td> <td>   -6.481</td> <td> 0.000</td> <td>   -0.039</td> <td>   -0.021</td>\n",
       "</tr>\n",
       "<tr>\n",
       "  <th>SkinThickness</th>            <td>    0.0002</td> <td>    0.006</td> <td>    0.032</td> <td> 0.974</td> <td>   -0.012</td> <td>    0.012</td>\n",
       "</tr>\n",
       "<tr>\n",
       "  <th>Insulin</th>                  <td>    0.0007</td> <td>    0.001</td> <td>    0.942</td> <td> 0.346</td> <td>   -0.001</td> <td>    0.002</td>\n",
       "</tr>\n",
       "<tr>\n",
       "  <th>BMI</th>                      <td>   -0.0048</td> <td>    0.011</td> <td>   -0.449</td> <td> 0.653</td> <td>   -0.026</td> <td>    0.016</td>\n",
       "</tr>\n",
       "<tr>\n",
       "  <th>DiabetesPedigreeFunction</th> <td>    0.3203</td> <td>    0.240</td> <td>    1.335</td> <td> 0.182</td> <td>   -0.150</td> <td>    0.790</td>\n",
       "</tr>\n",
       "<tr>\n",
       "  <th>Age</th>                      <td>   -0.0156</td> <td>    0.008</td> <td>   -1.852</td> <td> 0.064</td> <td>   -0.032</td> <td>    0.001</td>\n",
       "</tr>\n",
       "</table>"
      ],
      "text/latex": [
       "\\begin{center}\n",
       "\\begin{tabular}{lclc}\n",
       "\\toprule\n",
       "\\textbf{Dep. Variable:}           &     Outcome      & \\textbf{  No. Observations:  } &      768    \\\\\n",
       "\\textbf{Model:}                   &      Logit       & \\textbf{  Df Residuals:      } &      760    \\\\\n",
       "\\textbf{Method:}                  &       MLE        & \\textbf{  Df Model:          } &        7    \\\\\n",
       "\\textbf{Date:}                    & Thu, 25 Jan 2024 & \\textbf{  Pseudo R-squ.:     } &  0.05922    \\\\\n",
       "\\textbf{Time:}                    &     23:30:01     & \\textbf{  Log-Likelihood:    } &   -467.33   \\\\\n",
       "\\textbf{converged:}               &       True       & \\textbf{  LL-Null:           } &   -496.74   \\\\\n",
       "\\textbf{Covariance Type:}         &    nonrobust     & \\textbf{  LLR p-value:       } & 2.583e-10   \\\\\n",
       "\\bottomrule\n",
       "\\end{tabular}\n",
       "\\begin{tabular}{lcccccc}\n",
       "                                  & \\textbf{coef} & \\textbf{std err} & \\textbf{z} & \\textbf{P$> |$z$|$} & \\textbf{[0.025} & \\textbf{0.975]}  \\\\\n",
       "\\midrule\n",
       "\\textbf{Pregnancies}              &       0.1284  &        0.029     &     4.484  &         0.000        &        0.072    &        0.185     \\\\\n",
       "\\textbf{Glucose}                  &       0.0129  &        0.003     &     4.757  &         0.000        &        0.008    &        0.018     \\\\\n",
       "\\textbf{BloodPressure}            &      -0.0303  &        0.005     &    -6.481  &         0.000        &       -0.039    &       -0.021     \\\\\n",
       "\\textbf{SkinThickness}            &       0.0002  &        0.006     &     0.032  &         0.974        &       -0.012    &        0.012     \\\\\n",
       "\\textbf{Insulin}                  &       0.0007  &        0.001     &     0.942  &         0.346        &       -0.001    &        0.002     \\\\\n",
       "\\textbf{BMI}                      &      -0.0048  &        0.011     &    -0.449  &         0.653        &       -0.026    &        0.016     \\\\\n",
       "\\textbf{DiabetesPedigreeFunction} &       0.3203  &        0.240     &     1.335  &         0.182        &       -0.150    &        0.790     \\\\\n",
       "\\textbf{Age}                      &      -0.0156  &        0.008     &    -1.852  &         0.064        &       -0.032    &        0.001     \\\\\n",
       "\\bottomrule\n",
       "\\end{tabular}\n",
       "%\\caption{Logit Regression Results}\n",
       "\\end{center}"
      ],
      "text/plain": [
       "<class 'statsmodels.iolib.summary.Summary'>\n",
       "\"\"\"\n",
       "                           Logit Regression Results                           \n",
       "==============================================================================\n",
       "Dep. Variable:                Outcome   No. Observations:                  768\n",
       "Model:                          Logit   Df Residuals:                      760\n",
       "Method:                           MLE   Df Model:                            7\n",
       "Date:                Thu, 25 Jan 2024   Pseudo R-squ.:                 0.05922\n",
       "Time:                        23:30:01   Log-Likelihood:                -467.33\n",
       "converged:                       True   LL-Null:                       -496.74\n",
       "Covariance Type:            nonrobust   LLR p-value:                 2.583e-10\n",
       "============================================================================================\n",
       "                               coef    std err          z      P>|z|      [0.025      0.975]\n",
       "--------------------------------------------------------------------------------------------\n",
       "Pregnancies                  0.1284      0.029      4.484      0.000       0.072       0.185\n",
       "Glucose                      0.0129      0.003      4.757      0.000       0.008       0.018\n",
       "BloodPressure               -0.0303      0.005     -6.481      0.000      -0.039      -0.021\n",
       "SkinThickness                0.0002      0.006      0.032      0.974      -0.012       0.012\n",
       "Insulin                      0.0007      0.001      0.942      0.346      -0.001       0.002\n",
       "BMI                         -0.0048      0.011     -0.449      0.653      -0.026       0.016\n",
       "DiabetesPedigreeFunction     0.3203      0.240      1.335      0.182      -0.150       0.790\n",
       "Age                         -0.0156      0.008     -1.852      0.064      -0.032       0.001\n",
       "============================================================================================\n",
       "\"\"\""
      ]
     },
     "execution_count": 9,
     "metadata": {},
     "output_type": "execute_result"
    }
   ],
   "source": [
    "loj = sm.Logit(y, X)\n",
    "loj_model= loj.fit()\n",
    "loj_model.summary()"
   ]
  },
  {
   "cell_type": "code",
   "execution_count": 10,
   "metadata": {},
   "outputs": [],
   "source": [
    "#scikit-learn"
   ]
  },
  {
   "cell_type": "code",
   "execution_count": 11,
   "metadata": {},
   "outputs": [
    {
     "data": {
      "text/html": [
       "<style>#sk-container-id-1 {color: black;}#sk-container-id-1 pre{padding: 0;}#sk-container-id-1 div.sk-toggleable {background-color: white;}#sk-container-id-1 label.sk-toggleable__label {cursor: pointer;display: block;width: 100%;margin-bottom: 0;padding: 0.3em;box-sizing: border-box;text-align: center;}#sk-container-id-1 label.sk-toggleable__label-arrow:before {content: \"▸\";float: left;margin-right: 0.25em;color: #696969;}#sk-container-id-1 label.sk-toggleable__label-arrow:hover:before {color: black;}#sk-container-id-1 div.sk-estimator:hover label.sk-toggleable__label-arrow:before {color: black;}#sk-container-id-1 div.sk-toggleable__content {max-height: 0;max-width: 0;overflow: hidden;text-align: left;background-color: #f0f8ff;}#sk-container-id-1 div.sk-toggleable__content pre {margin: 0.2em;color: black;border-radius: 0.25em;background-color: #f0f8ff;}#sk-container-id-1 input.sk-toggleable__control:checked~div.sk-toggleable__content {max-height: 200px;max-width: 100%;overflow: auto;}#sk-container-id-1 input.sk-toggleable__control:checked~label.sk-toggleable__label-arrow:before {content: \"▾\";}#sk-container-id-1 div.sk-estimator input.sk-toggleable__control:checked~label.sk-toggleable__label {background-color: #d4ebff;}#sk-container-id-1 div.sk-label input.sk-toggleable__control:checked~label.sk-toggleable__label {background-color: #d4ebff;}#sk-container-id-1 input.sk-hidden--visually {border: 0;clip: rect(1px 1px 1px 1px);clip: rect(1px, 1px, 1px, 1px);height: 1px;margin: -1px;overflow: hidden;padding: 0;position: absolute;width: 1px;}#sk-container-id-1 div.sk-estimator {font-family: monospace;background-color: #f0f8ff;border: 1px dotted black;border-radius: 0.25em;box-sizing: border-box;margin-bottom: 0.5em;}#sk-container-id-1 div.sk-estimator:hover {background-color: #d4ebff;}#sk-container-id-1 div.sk-parallel-item::after {content: \"\";width: 100%;border-bottom: 1px solid gray;flex-grow: 1;}#sk-container-id-1 div.sk-label:hover label.sk-toggleable__label {background-color: #d4ebff;}#sk-container-id-1 div.sk-serial::before {content: \"\";position: absolute;border-left: 1px solid gray;box-sizing: border-box;top: 0;bottom: 0;left: 50%;z-index: 0;}#sk-container-id-1 div.sk-serial {display: flex;flex-direction: column;align-items: center;background-color: white;padding-right: 0.2em;padding-left: 0.2em;position: relative;}#sk-container-id-1 div.sk-item {position: relative;z-index: 1;}#sk-container-id-1 div.sk-parallel {display: flex;align-items: stretch;justify-content: center;background-color: white;position: relative;}#sk-container-id-1 div.sk-item::before, #sk-container-id-1 div.sk-parallel-item::before {content: \"\";position: absolute;border-left: 1px solid gray;box-sizing: border-box;top: 0;bottom: 0;left: 50%;z-index: -1;}#sk-container-id-1 div.sk-parallel-item {display: flex;flex-direction: column;z-index: 1;position: relative;background-color: white;}#sk-container-id-1 div.sk-parallel-item:first-child::after {align-self: flex-end;width: 50%;}#sk-container-id-1 div.sk-parallel-item:last-child::after {align-self: flex-start;width: 50%;}#sk-container-id-1 div.sk-parallel-item:only-child::after {width: 0;}#sk-container-id-1 div.sk-dashed-wrapped {border: 1px dashed gray;margin: 0 0.4em 0.5em 0.4em;box-sizing: border-box;padding-bottom: 0.4em;background-color: white;}#sk-container-id-1 div.sk-label label {font-family: monospace;font-weight: bold;display: inline-block;line-height: 1.2em;}#sk-container-id-1 div.sk-label-container {text-align: center;}#sk-container-id-1 div.sk-container {/* jupyter's `normalize.less` sets `[hidden] { display: none; }` but bootstrap.min.css set `[hidden] { display: none !important; }` so we also need the `!important` here to be able to override the default hidden behavior on the sphinx rendered scikit-learn.org. See: https://github.com/scikit-learn/scikit-learn/issues/21755 */display: inline-block !important;position: relative;}#sk-container-id-1 div.sk-text-repr-fallback {display: none;}</style><div id=\"sk-container-id-1\" class=\"sk-top-container\"><div class=\"sk-text-repr-fallback\"><pre>LogisticRegression(solver=&#x27;liblinear&#x27;)</pre><b>In a Jupyter environment, please rerun this cell to show the HTML representation or trust the notebook. <br />On GitHub, the HTML representation is unable to render, please try loading this page with nbviewer.org.</b></div><div class=\"sk-container\" hidden><div class=\"sk-item\"><div class=\"sk-estimator sk-toggleable\"><input class=\"sk-toggleable__control sk-hidden--visually\" id=\"sk-estimator-id-1\" type=\"checkbox\" checked><label for=\"sk-estimator-id-1\" class=\"sk-toggleable__label sk-toggleable__label-arrow\">LogisticRegression</label><div class=\"sk-toggleable__content\"><pre>LogisticRegression(solver=&#x27;liblinear&#x27;)</pre></div></div></div></div></div>"
      ],
      "text/plain": [
       "LogisticRegression(solver='liblinear')"
      ]
     },
     "execution_count": 11,
     "metadata": {},
     "output_type": "execute_result"
    }
   ],
   "source": [
    "from sklearn.linear_model import LogisticRegression\n",
    "loj = LogisticRegression(solver = \"liblinear\")\n",
    "loj_model = loj.fit(X,y)\n",
    "loj_model"
   ]
  },
  {
   "cell_type": "code",
   "execution_count": 12,
   "metadata": {},
   "outputs": [
    {
     "data": {
      "text/plain": [
       "array([-5.8925225])"
      ]
     },
     "execution_count": 12,
     "metadata": {},
     "output_type": "execute_result"
    }
   ],
   "source": [
    "loj_model.intercept_"
   ]
  },
  {
   "cell_type": "code",
   "execution_count": 13,
   "metadata": {},
   "outputs": [
    {
     "data": {
      "text/plain": [
       "array([[ 1.17061920e-01,  2.83894195e-02, -1.68880229e-02,\n",
       "         7.55649933e-04, -6.42925073e-04,  5.97762380e-02,\n",
       "         6.77482311e-01,  7.24176673e-03]])"
      ]
     },
     "execution_count": 13,
     "metadata": {},
     "output_type": "execute_result"
    }
   ],
   "source": [
    "loj_model.coef_"
   ]
  },
  {
   "cell_type": "markdown",
   "metadata": {},
   "source": [
    "## Tahmin & Model Tuning"
   ]
  },
  {
   "cell_type": "code",
   "execution_count": 14,
   "metadata": {},
   "outputs": [],
   "source": [
    "y_pred = loj_model.predict(X)"
   ]
  },
  {
   "cell_type": "code",
   "execution_count": 15,
   "metadata": {},
   "outputs": [
    {
     "data": {
      "text/plain": [
       "array([[448,  52],\n",
       "       [121, 147]], dtype=int64)"
      ]
     },
     "execution_count": 15,
     "metadata": {},
     "output_type": "execute_result"
    }
   ],
   "source": [
    "confusion_matrix(y, y_pred)"
   ]
  },
  {
   "cell_type": "code",
   "execution_count": 16,
   "metadata": {},
   "outputs": [
    {
     "data": {
      "text/plain": [
       "0.7747395833333334"
      ]
     },
     "execution_count": 16,
     "metadata": {},
     "output_type": "execute_result"
    }
   ],
   "source": [
    "accuracy_score(y, y_pred)"
   ]
  },
  {
   "cell_type": "code",
   "execution_count": 17,
   "metadata": {},
   "outputs": [
    {
     "name": "stdout",
     "output_type": "stream",
     "text": [
      "              precision    recall  f1-score   support\n",
      "\n",
      "           0       0.79      0.90      0.84       500\n",
      "           1       0.74      0.55      0.63       268\n",
      "\n",
      "    accuracy                           0.77       768\n",
      "   macro avg       0.76      0.72      0.73       768\n",
      "weighted avg       0.77      0.77      0.77       768\n",
      "\n"
     ]
    }
   ],
   "source": [
    "print(classification_report(y, y_pred))"
   ]
  },
  {
   "cell_type": "code",
   "execution_count": 18,
   "metadata": {},
   "outputs": [
    {
     "data": {
      "text/plain": [
       "array([1, 0, 1, 0, 1, 0, 0, 1, 1, 0], dtype=int64)"
      ]
     },
     "execution_count": 18,
     "metadata": {},
     "output_type": "execute_result"
    }
   ],
   "source": [
    "loj_model.predict(X)[0:10]"
   ]
  },
  {
   "cell_type": "code",
   "execution_count": 19,
   "metadata": {},
   "outputs": [
    {
     "data": {
      "text/plain": [
       "array([[0.35038563, 0.64961437],\n",
       "       [0.91703422, 0.08296578],\n",
       "       [0.22475047, 0.77524953],\n",
       "       [0.92140111, 0.07859889],\n",
       "       [0.16726207, 0.83273793],\n",
       "       [0.79899988, 0.20100012],\n",
       "       [0.88020731, 0.11979269],\n",
       "       [0.27812627, 0.72187373],\n",
       "       [0.32058549, 0.67941451],\n",
       "       [0.92275407, 0.07724593]])"
      ]
     },
     "execution_count": 19,
     "metadata": {},
     "output_type": "execute_result"
    }
   ],
   "source": [
    "loj_model.predict_proba(X)[0:10][:,0:2]"
   ]
  },
  {
   "cell_type": "code",
   "execution_count": 20,
   "metadata": {},
   "outputs": [
    {
     "data": {
      "text/plain": [
       "0    1\n",
       "1    0\n",
       "2    1\n",
       "3    0\n",
       "4    1\n",
       "5    0\n",
       "6    1\n",
       "7    0\n",
       "8    1\n",
       "9    1\n",
       "Name: Outcome, dtype: int64"
      ]
     },
     "execution_count": 20,
     "metadata": {},
     "output_type": "execute_result"
    }
   ],
   "source": [
    "y[0:10]"
   ]
  },
  {
   "cell_type": "code",
   "execution_count": 21,
   "metadata": {},
   "outputs": [],
   "source": [
    "y_probs = loj_model.predict_proba(X)\n",
    "y_probs = y_probs[:,1]"
   ]
  },
  {
   "cell_type": "code",
   "execution_count": 22,
   "metadata": {},
   "outputs": [
    {
     "data": {
      "text/plain": [
       "array([0.64961437, 0.08296578, 0.77524953, 0.07859889, 0.83273793,\n",
       "       0.20100012, 0.11979269, 0.72187373, 0.67941451, 0.07724593])"
      ]
     },
     "execution_count": 22,
     "metadata": {},
     "output_type": "execute_result"
    }
   ],
   "source": [
    "y_probs[0:10]"
   ]
  },
  {
   "cell_type": "code",
   "execution_count": 23,
   "metadata": {},
   "outputs": [],
   "source": [
    "y_pred = [1 if i > 0.5 else 0 for i in y_probs]"
   ]
  },
  {
   "cell_type": "code",
   "execution_count": 24,
   "metadata": {},
   "outputs": [
    {
     "data": {
      "text/plain": [
       "[1, 0, 1, 0, 1, 0, 0, 1, 1, 0]"
      ]
     },
     "execution_count": 24,
     "metadata": {},
     "output_type": "execute_result"
    }
   ],
   "source": [
    "y_pred[0:10]"
   ]
  },
  {
   "cell_type": "code",
   "execution_count": 25,
   "metadata": {},
   "outputs": [
    {
     "data": {
      "text/plain": [
       "array([[448,  52],\n",
       "       [121, 147]], dtype=int64)"
      ]
     },
     "execution_count": 25,
     "metadata": {},
     "output_type": "execute_result"
    }
   ],
   "source": [
    "confusion_matrix(y, y_pred)"
   ]
  },
  {
   "cell_type": "code",
   "execution_count": 26,
   "metadata": {},
   "outputs": [
    {
     "data": {
      "text/plain": [
       "0.7747395833333334"
      ]
     },
     "execution_count": 26,
     "metadata": {},
     "output_type": "execute_result"
    }
   ],
   "source": [
    "accuracy_score(y, y_pred)"
   ]
  },
  {
   "cell_type": "code",
   "execution_count": 27,
   "metadata": {},
   "outputs": [
    {
     "name": "stdout",
     "output_type": "stream",
     "text": [
      "              precision    recall  f1-score   support\n",
      "\n",
      "           0       0.79      0.90      0.84       500\n",
      "           1       0.74      0.55      0.63       268\n",
      "\n",
      "    accuracy                           0.77       768\n",
      "   macro avg       0.76      0.72      0.73       768\n",
      "weighted avg       0.77      0.77      0.77       768\n",
      "\n"
     ]
    }
   ],
   "source": [
    "print(classification_report(y, y_pred))"
   ]
  },
  {
   "cell_type": "code",
   "execution_count": 28,
   "metadata": {},
   "outputs": [
    {
     "data": {
      "text/plain": [
       "array([0.64961437, 0.08296578, 0.77524953, 0.07859889, 0.83273793])"
      ]
     },
     "execution_count": 28,
     "metadata": {},
     "output_type": "execute_result"
    }
   ],
   "source": [
    "loj_model.predict_proba(X)[:,1][0:5]"
   ]
  },
  {
   "cell_type": "code",
   "execution_count": 29,
   "metadata": {},
   "outputs": [
    {
     "data": {
      "image/png": "[encoded data removed]",
      "text/plain": [
       "<Figure size 640x480 with 1 Axes>"
      ]
     },
     "metadata": {},
     "output_type": "display_data"
    }
   ],
   "source": [
    "logit_roc_auc = roc_auc_score(y, loj_model.predict(X))\n",
    "\n",
    "fpr, tpr, thresholds = roc_curve(y, loj_model.predict_proba(X)[:,1])\n",
    "plt.figure()\n",
    "plt.plot(fpr, tpr, label='AUC (area = %0.2f)' % logit_roc_auc)\n",
    "plt.plot([0, 1], [0, 1],'r--')\n",
    "plt.xlim([0.0, 1.0])\n",
    "plt.ylim([0.0, 1.05])\n",
    "plt.xlabel('False Positive Oranı')\n",
    "plt.ylabel('True Positive Oranı')\n",
    "plt.title('ROC')\n",
    "plt.show()"
   ]
  },
  {
   "cell_type": "code",
   "execution_count": 30,
   "metadata": {},
   "outputs": [],
   "source": [
    "X_train, X_test, y_train, y_test = train_test_split(X, y, \n",
    "                                                    test_size = 0.30, \n",
    "                                                    random_state = 42)\n"
   ]
  },
  {
   "cell_type": "code",
   "execution_count": 31,
   "metadata": {},
   "outputs": [
    {
     "data": {
      "text/html": [
       "<style>#sk-container-id-2 {color: black;}#sk-container-id-2 pre{padding: 0;}#sk-container-id-2 div.sk-toggleable {background-color: white;}#sk-container-id-2 label.sk-toggleable__label {cursor: pointer;display: block;width: 100%;margin-bottom: 0;padding: 0.3em;box-sizing: border-box;text-align: center;}#sk-container-id-2 label.sk-toggleable__label-arrow:before {content: \"▸\";float: left;margin-right: 0.25em;color: #696969;}#sk-container-id-2 label.sk-toggleable__label-arrow:hover:before {color: black;}#sk-container-id-2 div.sk-estimator:hover label.sk-toggleable__label-arrow:before {color: black;}#sk-container-id-2 div.sk-toggleable__content {max-height: 0;max-width: 0;overflow: hidden;text-align: left;background-color: #f0f8ff;}#sk-container-id-2 div.sk-toggleable__content pre {margin: 0.2em;color: black;border-radius: 0.25em;background-color: #f0f8ff;}#sk-container-id-2 input.sk-toggleable__control:checked~div.sk-toggleable__content {max-height: 200px;max-width: 100%;overflow: auto;}#sk-container-id-2 input.sk-toggleable__control:checked~label.sk-toggleable__label-arrow:before {content: \"▾\";}#sk-container-id-2 div.sk-estimator input.sk-toggleable__control:checked~label.sk-toggleable__label {background-color: #d4ebff;}#sk-container-id-2 div.sk-label input.sk-toggleable__control:checked~label.sk-toggleable__label {background-color: #d4ebff;}#sk-container-id-2 input.sk-hidden--visually {border: 0;clip: rect(1px 1px 1px 1px);clip: rect(1px, 1px, 1px, 1px);height: 1px;margin: -1px;overflow: hidden;padding: 0;position: absolute;width: 1px;}#sk-container-id-2 div.sk-estimator {font-family: monospace;background-color: #f0f8ff;border: 1px dotted black;border-radius: 0.25em;box-sizing: border-box;margin-bottom: 0.5em;}#sk-container-id-2 div.sk-estimator:hover {background-color: #d4ebff;}#sk-container-id-2 div.sk-parallel-item::after {content: \"\";width: 100%;border-bottom: 1px solid gray;flex-grow: 1;}#sk-container-id-2 div.sk-label:hover label.sk-toggleable__label {background-color: #d4ebff;}#sk-container-id-2 div.sk-serial::before {content: \"\";position: absolute;border-left: 1px solid gray;box-sizing: border-box;top: 0;bottom: 0;left: 50%;z-index: 0;}#sk-container-id-2 div.sk-serial {display: flex;flex-direction: column;align-items: center;background-color: white;padding-right: 0.2em;padding-left: 0.2em;position: relative;}#sk-container-id-2 div.sk-item {position: relative;z-index: 1;}#sk-container-id-2 div.sk-parallel {display: flex;align-items: stretch;justify-content: center;background-color: white;position: relative;}#sk-container-id-2 div.sk-item::before, #sk-container-id-2 div.sk-parallel-item::before {content: \"\";position: absolute;border-left: 1px solid gray;box-sizing: border-box;top: 0;bottom: 0;left: 50%;z-index: -1;}#sk-container-id-2 div.sk-parallel-item {display: flex;flex-direction: column;z-index: 1;position: relative;background-color: white;}#sk-container-id-2 div.sk-parallel-item:first-child::after {align-self: flex-end;width: 50%;}#sk-container-id-2 div.sk-parallel-item:last-child::after {align-self: flex-start;width: 50%;}#sk-container-id-2 div.sk-parallel-item:only-child::after {width: 0;}#sk-container-id-2 div.sk-dashed-wrapped {border: 1px dashed gray;margin: 0 0.4em 0.5em 0.4em;box-sizing: border-box;padding-bottom: 0.4em;background-color: white;}#sk-container-id-2 div.sk-label label {font-family: monospace;font-weight: bold;display: inline-block;line-height: 1.2em;}#sk-container-id-2 div.sk-label-container {text-align: center;}#sk-container-id-2 div.sk-container {/* jupyter's `normalize.less` sets `[hidden] { display: none; }` but bootstrap.min.css set `[hidden] { display: none !important; }` so we also need the `!important` here to be able to override the default hidden behavior on the sphinx rendered scikit-learn.org. See: https://github.com/scikit-learn/scikit-learn/issues/21755 */display: inline-block !important;position: relative;}#sk-container-id-2 div.sk-text-repr-fallback {display: none;}</style><div id=\"sk-container-id-2\" class=\"sk-top-container\"><div class=\"sk-text-repr-fallback\"><pre>LogisticRegression(solver=&#x27;liblinear&#x27;)</pre><b>In a Jupyter environment, please rerun this cell to show the HTML representation or trust the notebook. <br />On GitHub, the HTML representation is unable to render, please try loading this page with nbviewer.org.</b></div><div class=\"sk-container\" hidden><div class=\"sk-item\"><div class=\"sk-estimator sk-toggleable\"><input class=\"sk-toggleable__control sk-hidden--visually\" id=\"sk-estimator-id-2\" type=\"checkbox\" checked><label for=\"sk-estimator-id-2\" class=\"sk-toggleable__label sk-toggleable__label-arrow\">LogisticRegression</label><div class=\"sk-toggleable__content\"><pre>LogisticRegression(solver=&#x27;liblinear&#x27;)</pre></div></div></div></div></div>"
      ],
      "text/plain": [
       "LogisticRegression(solver='liblinear')"
      ]
     },
     "execution_count": 31,
     "metadata": {},
     "output_type": "execute_result"
    }
   ],
   "source": [
    "loj = LogisticRegression(solver = \"liblinear\")\n",
    "loj_model = loj.fit(X_train,y_train)\n",
    "loj_model"
   ]
  },
  {
   "cell_type": "code",
   "execution_count": 32,
   "metadata": {},
   "outputs": [
    {
     "data": {
      "text/plain": [
       "0.7532467532467533"
      ]
     },
     "execution_count": 32,
     "metadata": {},
     "output_type": "execute_result"
    }
   ],
   "source": [
    "accuracy_score(y_test, loj_model.predict(X_test))"
   ]
  },
  {
   "cell_type": "code",
   "execution_count": 33,
   "metadata": {},
   "outputs": [
    {
     "data": {
      "text/plain": [
       "0.7704710144927536"
      ]
     },
     "execution_count": 33,
     "metadata": {},
     "output_type": "execute_result"
    }
   ],
   "source": [
    "cross_val_score(loj_model, X_test, y_test, cv = 10).mean()"
   ]
  },
  {
   "cell_type": "markdown",
   "metadata": {},
   "source": [
    "# Gaussian Naive Bayes"
   ]
  },
  {
   "cell_type": "code",
   "execution_count": 34,
   "metadata": {},
   "outputs": [],
   "source": [
    "df = diabetes.copy()\n",
    "df = df.dropna()\n",
    "y = df[\"Outcome\"]\n",
    "X = df.drop(['Outcome'], axis=1)\n",
    "X_train, X_test, y_train, y_test = train_test_split(X, y, \n",
    "                                                    test_size=0.30, \n",
    "                                                    random_state=42)\n",
    "\n"
   ]
  },
  {
   "cell_type": "code",
   "execution_count": 35,
   "metadata": {},
   "outputs": [],
   "source": [
    "from sklearn.naive_bayes import GaussianNB"
   ]
  },
  {
   "cell_type": "code",
   "execution_count": 36,
   "metadata": {},
   "outputs": [
    {
     "data": {
      "text/html": [
       "<style>#sk-container-id-3 {color: black;}#sk-container-id-3 pre{padding: 0;}#sk-container-id-3 div.sk-toggleable {background-color: white;}#sk-container-id-3 label.sk-toggleable__label {cursor: pointer;display: block;width: 100%;margin-bottom: 0;padding: 0.3em;box-sizing: border-box;text-align: center;}#sk-container-id-3 label.sk-toggleable__label-arrow:before {content: \"▸\";float: left;margin-right: 0.25em;color: #696969;}#sk-container-id-3 label.sk-toggleable__label-arrow:hover:before {color: black;}#sk-container-id-3 div.sk-estimator:hover label.sk-toggleable__label-arrow:before {color: black;}#sk-container-id-3 div.sk-toggleable__content {max-height: 0;max-width: 0;overflow: hidden;text-align: left;background-color: #f0f8ff;}#sk-container-id-3 div.sk-toggleable__content pre {margin: 0.2em;color: black;border-radius: 0.25em;background-color: #f0f8ff;}#sk-container-id-3 input.sk-toggleable__control:checked~div.sk-toggleable__content {max-height: 200px;max-width: 100%;overflow: auto;}#sk-container-id-3 input.sk-toggleable__control:checked~label.sk-toggleable__label-arrow:before {content: \"▾\";}#sk-container-id-3 div.sk-estimator input.sk-toggleable__control:checked~label.sk-toggleable__label {background-color: #d4ebff;}#sk-container-id-3 div.sk-label input.sk-toggleable__control:checked~label.sk-toggleable__label {background-color: #d4ebff;}#sk-container-id-3 input.sk-hidden--visually {border: 0;clip: rect(1px 1px 1px 1px);clip: rect(1px, 1px, 1px, 1px);height: 1px;margin: -1px;overflow: hidden;padding: 0;position: absolute;width: 1px;}#sk-container-id-3 div.sk-estimator {font-family: monospace;background-color: #f0f8ff;border: 1px dotted black;border-radius: 0.25em;box-sizing: border-box;margin-bottom: 0.5em;}#sk-container-id-3 div.sk-estimator:hover {background-color: #d4ebff;}#sk-container-id-3 div.sk-parallel-item::after {content: \"\";width: 100%;border-bottom: 1px solid gray;flex-grow: 1;}#sk-container-id-3 div.sk-label:hover label.sk-toggleable__label {background-color: #d4ebff;}#sk-container-id-3 div.sk-serial::before {content: \"\";position: absolute;border-left: 1px solid gray;box-sizing: border-box;top: 0;bottom: 0;left: 50%;z-index: 0;}#sk-container-id-3 div.sk-serial {display: flex;flex-direction: column;align-items: center;background-color: white;padding-right: 0.2em;padding-left: 0.2em;position: relative;}#sk-container-id-3 div.sk-item {position: relative;z-index: 1;}#sk-container-id-3 div.sk-parallel {display: flex;align-items: stretch;justify-content: center;background-color: white;position: relative;}#sk-container-id-3 div.sk-item::before, #sk-container-id-3 div.sk-parallel-item::before {content: \"\";position: absolute;border-left: 1px solid gray;box-sizing: border-box;top: 0;bottom: 0;left: 50%;z-index: -1;}#sk-container-id-3 div.sk-parallel-item {display: flex;flex-direction: column;z-index: 1;position: relative;background-color: white;}#sk-container-id-3 div.sk-parallel-item:first-child::after {align-self: flex-end;width: 50%;}#sk-container-id-3 div.sk-parallel-item:last-child::after {align-self: flex-start;width: 50%;}#sk-container-id-3 div.sk-parallel-item:only-child::after {width: 0;}#sk-container-id-3 div.sk-dashed-wrapped {border: 1px dashed gray;margin: 0 0.4em 0.5em 0.4em;box-sizing: border-box;padding-bottom: 0.4em;background-color: white;}#sk-container-id-3 div.sk-label label {font-family: monospace;font-weight: bold;display: inline-block;line-height: 1.2em;}#sk-container-id-3 div.sk-label-container {text-align: center;}#sk-container-id-3 div.sk-container {/* jupyter's `normalize.less` sets `[hidden] { display: none; }` but bootstrap.min.css set `[hidden] { display: none !important; }` so we also need the `!important` here to be able to override the default hidden behavior on the sphinx rendered scikit-learn.org. See: https://github.com/scikit-learn/scikit-learn/issues/21755 */display: inline-block !important;position: relative;}#sk-container-id-3 div.sk-text-repr-fallback {display: none;}</style><div id=\"sk-container-id-3\" class=\"sk-top-container\"><div class=\"sk-text-repr-fallback\"><pre>GaussianNB()</pre><b>In a Jupyter environment, please rerun this cell to show the HTML representation or trust the notebook. <br />On GitHub, the HTML representation is unable to render, please try loading this page with nbviewer.org.</b></div><div class=\"sk-container\" hidden><div class=\"sk-item\"><div class=\"sk-estimator sk-toggleable\"><input class=\"sk-toggleable__control sk-hidden--visually\" id=\"sk-estimator-id-3\" type=\"checkbox\" checked><label for=\"sk-estimator-id-3\" class=\"sk-toggleable__label sk-toggleable__label-arrow\">GaussianNB</label><div class=\"sk-toggleable__content\"><pre>GaussianNB()</pre></div></div></div></div></div>"
      ],
      "text/plain": [
       "GaussianNB()"
      ]
     },
     "execution_count": 36,
     "metadata": {},
     "output_type": "execute_result"
    }
   ],
   "source": [
    "nb = GaussianNB()\n",
    "nb_model = nb.fit(X_train, y_train)\n",
    "nb_model"
   ]
  },
  {
   "cell_type": "code",
   "execution_count": 37,
   "metadata": {},
   "outputs": [
    {
     "data": {
      "text/plain": [
       "array([0, 0, 0, 0, 1, 1, 0, 0, 0, 1], dtype=int64)"
      ]
     },
     "execution_count": 37,
     "metadata": {},
     "output_type": "execute_result"
    }
   ],
   "source": [
    "nb_model.predict(X_test)[0:10]"
   ]
  },
  {
   "cell_type": "code",
   "execution_count": 38,
   "metadata": {},
   "outputs": [
    {
     "data": {
      "text/plain": [
       "array([[0.73815858, 0.26184142],\n",
       "       [0.94027894, 0.05972106],\n",
       "       [0.97242831, 0.02757169],\n",
       "       [0.82840069, 0.17159931],\n",
       "       [0.47153473, 0.52846527],\n",
       "       [0.47274458, 0.52725542],\n",
       "       [0.99607705, 0.00392295],\n",
       "       [0.69925055, 0.30074945],\n",
       "       [0.53838117, 0.46161883],\n",
       "       [0.25004536, 0.74995464]])"
      ]
     },
     "execution_count": 38,
     "metadata": {},
     "output_type": "execute_result"
    }
   ],
   "source": [
    "nb_model.predict_proba(X_test)[0:10]"
   ]
  },
  {
   "cell_type": "code",
   "execution_count": 39,
   "metadata": {},
   "outputs": [],
   "source": [
    "y_pred = nb_model.predict(X_test)"
   ]
  },
  {
   "cell_type": "code",
   "execution_count": 40,
   "metadata": {},
   "outputs": [
    {
     "data": {
      "text/plain": [
       "0.7445887445887446"
      ]
     },
     "execution_count": 40,
     "metadata": {},
     "output_type": "execute_result"
    }
   ],
   "source": [
    "accuracy_score(y_test, y_pred)"
   ]
  },
  {
   "cell_type": "code",
   "execution_count": 41,
   "metadata": {},
   "outputs": [
    {
     "data": {
      "text/plain": [
       "0.775"
      ]
     },
     "execution_count": 41,
     "metadata": {},
     "output_type": "execute_result"
    }
   ],
   "source": [
    "cross_val_score(nb_model, X_test, y_test, cv = 10).mean()"
   ]
  },
  {
   "cell_type": "markdown",
   "metadata": {},
   "source": [
    "# KNN"
   ]
  },
  {
   "cell_type": "markdown",
   "metadata": {},
   "source": [
    "## Model & Tahmin"
   ]
  },
  {
   "cell_type": "code",
   "execution_count": 42,
   "metadata": {},
   "outputs": [],
   "source": [
    "df = diabetes.copy()\n",
    "df = df.dropna()\n",
    "y = df[\"Outcome\"]\n",
    "X = df.drop(['Outcome'], axis=1)\n",
    "X_train, X_test, y_train, y_test = train_test_split(X, y, \n",
    "                                                    test_size=0.30, \n",
    "                                                    random_state=42)"
   ]
  },
  {
   "cell_type": "code",
   "execution_count": 43,
   "metadata": {},
   "outputs": [
    {
     "data": {
      "text/html": [
       "<style>#sk-container-id-4 {color: black;}#sk-container-id-4 pre{padding: 0;}#sk-container-id-4 div.sk-toggleable {background-color: white;}#sk-container-id-4 label.sk-toggleable__label {cursor: pointer;display: block;width: 100%;margin-bottom: 0;padding: 0.3em;box-sizing: border-box;text-align: center;}#sk-container-id-4 label.sk-toggleable__label-arrow:before {content: \"▸\";float: left;margin-right: 0.25em;color: #696969;}#sk-container-id-4 label.sk-toggleable__label-arrow:hover:before {color: black;}#sk-container-id-4 div.sk-estimator:hover label.sk-toggleable__label-arrow:before {color: black;}#sk-container-id-4 div.sk-toggleable__content {max-height: 0;max-width: 0;overflow: hidden;text-align: left;background-color: #f0f8ff;}#sk-container-id-4 div.sk-toggleable__content pre {margin: 0.2em;color: black;border-radius: 0.25em;background-color: #f0f8ff;}#sk-container-id-4 input.sk-toggleable__control:checked~div.sk-toggleable__content {max-height: 200px;max-width: 100%;overflow: auto;}#sk-container-id-4 input.sk-toggleable__control:checked~label.sk-toggleable__label-arrow:before {content: \"▾\";}#sk-container-id-4 div.sk-estimator input.sk-toggleable__control:checked~label.sk-toggleable__label {background-color: #d4ebff;}#sk-container-id-4 div.sk-label input.sk-toggleable__control:checked~label.sk-toggleable__label {background-color: #d4ebff;}#sk-container-id-4 input.sk-hidden--visually {border: 0;clip: rect(1px 1px 1px 1px);clip: rect(1px, 1px, 1px, 1px);height: 1px;margin: -1px;overflow: hidden;padding: 0;position: absolute;width: 1px;}#sk-container-id-4 div.sk-estimator {font-family: monospace;background-color: #f0f8ff;border: 1px dotted black;border-radius: 0.25em;box-sizing: border-box;margin-bottom: 0.5em;}#sk-container-id-4 div.sk-estimator:hover {background-color: #d4ebff;}#sk-container-id-4 div.sk-parallel-item::after {content: \"\";width: 100%;border-bottom: 1px solid gray;flex-grow: 1;}#sk-container-id-4 div.sk-label:hover label.sk-toggleable__label {background-color: #d4ebff;}#sk-container-id-4 div.sk-serial::before {content: \"\";position: absolute;border-left: 1px solid gray;box-sizing: border-box;top: 0;bottom: 0;left: 50%;z-index: 0;}#sk-container-id-4 div.sk-serial {display: flex;flex-direction: column;align-items: center;background-color: white;padding-right: 0.2em;padding-left: 0.2em;position: relative;}#sk-container-id-4 div.sk-item {position: relative;z-index: 1;}#sk-container-id-4 div.sk-parallel {display: flex;align-items: stretch;justify-content: center;background-color: white;position: relative;}#sk-container-id-4 div.sk-item::before, #sk-container-id-4 div.sk-parallel-item::before {content: \"\";position: absolute;border-left: 1px solid gray;box-sizing: border-box;top: 0;bottom: 0;left: 50%;z-index: -1;}#sk-container-id-4 div.sk-parallel-item {display: flex;flex-direction: column;z-index: 1;position: relative;background-color: white;}#sk-container-id-4 div.sk-parallel-item:first-child::after {align-self: flex-end;width: 50%;}#sk-container-id-4 div.sk-parallel-item:last-child::after {align-self: flex-start;width: 50%;}#sk-container-id-4 div.sk-parallel-item:only-child::after {width: 0;}#sk-container-id-4 div.sk-dashed-wrapped {border: 1px dashed gray;margin: 0 0.4em 0.5em 0.4em;box-sizing: border-box;padding-bottom: 0.4em;background-color: white;}#sk-container-id-4 div.sk-label label {font-family: monospace;font-weight: bold;display: inline-block;line-height: 1.2em;}#sk-container-id-4 div.sk-label-container {text-align: center;}#sk-container-id-4 div.sk-container {/* jupyter's `normalize.less` sets `[hidden] { display: none; }` but bootstrap.min.css set `[hidden] { display: none !important; }` so we also need the `!important` here to be able to override the default hidden behavior on the sphinx rendered scikit-learn.org. See: https://github.com/scikit-learn/scikit-learn/issues/21755 */display: inline-block !important;position: relative;}#sk-container-id-4 div.sk-text-repr-fallback {display: none;}</style><div id=\"sk-container-id-4\" class=\"sk-top-container\"><div class=\"sk-text-repr-fallback\"><pre>KNeighborsClassifier()</pre><b>In a Jupyter environment, please rerun this cell to show the HTML representation or trust the notebook. <br />On GitHub, the HTML representation is unable to render, please try loading this page with nbviewer.org.</b></div><div class=\"sk-container\" hidden><div class=\"sk-item\"><div class=\"sk-estimator sk-toggleable\"><input class=\"sk-toggleable__control sk-hidden--visually\" id=\"sk-estimator-id-4\" type=\"checkbox\" checked><label for=\"sk-estimator-id-4\" class=\"sk-toggleable__label sk-toggleable__label-arrow\">KNeighborsClassifier</label><div class=\"sk-toggleable__content\"><pre>KNeighborsClassifier()</pre></div></div></div></div></div>"
      ],
      "text/plain": [
       "KNeighborsClassifier()"
      ]
     },
     "execution_count": 43,
     "metadata": {},
     "output_type": "execute_result"
    }
   ],
   "source": [
    "knn = KNeighborsClassifier()\n",
    "knn_model = knn.fit(X_train, y_train)\n",
    "knn_model"
   ]
  },
  {
   "cell_type": "code",
   "execution_count": 44,
   "metadata": {},
   "outputs": [],
   "source": [
    "y_pred = knn_model.predict(X_test)"
   ]
  },
  {
   "cell_type": "code",
   "execution_count": 45,
   "metadata": {},
   "outputs": [
    {
     "data": {
      "text/plain": [
       "0.6883116883116883"
      ]
     },
     "execution_count": 45,
     "metadata": {},
     "output_type": "execute_result"
    }
   ],
   "source": [
    "accuracy_score(y_test, y_pred)"
   ]
  },
  {
   "cell_type": "code",
   "execution_count": 46,
   "metadata": {},
   "outputs": [
    {
     "name": "stdout",
     "output_type": "stream",
     "text": [
      "              precision    recall  f1-score   support\n",
      "\n",
      "           0       0.77      0.75      0.76       151\n",
      "           1       0.55      0.56      0.56        80\n",
      "\n",
      "    accuracy                           0.69       231\n",
      "   macro avg       0.66      0.66      0.66       231\n",
      "weighted avg       0.69      0.69      0.69       231\n",
      "\n"
     ]
    }
   ],
   "source": [
    "print(classification_report(y_test, y_pred))"
   ]
  },
  {
   "cell_type": "markdown",
   "metadata": {},
   "source": [
    "## Model Tuning"
   ]
  },
  {
   "cell_type": "code",
   "execution_count": 47,
   "metadata": {},
   "outputs": [],
   "source": [
    "knn_params = {\"n_neighbors\": np.arange(1,50)}"
   ]
  },
  {
   "cell_type": "code",
   "execution_count": 48,
   "metadata": {},
   "outputs": [
    {
     "data": {
      "text/html": [
       "<style>#sk-container-id-5 {color: black;}#sk-container-id-5 pre{padding: 0;}#sk-container-id-5 div.sk-toggleable {background-color: white;}#sk-container-id-5 label.sk-toggleable__label {cursor: pointer;display: block;width: 100%;margin-bottom: 0;padding: 0.3em;box-sizing: border-box;text-align: center;}#sk-container-id-5 label.sk-toggleable__label-arrow:before {content: \"▸\";float: left;margin-right: 0.25em;color: #696969;}#sk-container-id-5 label.sk-toggleable__label-arrow:hover:before {color: black;}#sk-container-id-5 div.sk-estimator:hover label.sk-toggleable__label-arrow:before {color: black;}#sk-container-id-5 div.sk-toggleable__content {max-height: 0;max-width: 0;overflow: hidden;text-align: left;background-color: #f0f8ff;}#sk-container-id-5 div.sk-toggleable__content pre {margin: 0.2em;color: black;border-radius: 0.25em;background-color: #f0f8ff;}#sk-container-id-5 input.sk-toggleable__control:checked~div.sk-toggleable__content {max-height: 200px;max-width: 100%;overflow: auto;}#sk-container-id-5 input.sk-toggleable__control:checked~label.sk-toggleable__label-arrow:before {content: \"▾\";}#sk-container-id-5 div.sk-estimator input.sk-toggleable__control:checked~label.sk-toggleable__label {background-color: #d4ebff;}#sk-container-id-5 div.sk-label input.sk-toggleable__control:checked~label.sk-toggleable__label {background-color: #d4ebff;}#sk-container-id-5 input.sk-hidden--visually {border: 0;clip: rect(1px 1px 1px 1px);clip: rect(1px, 1px, 1px, 1px);height: 1px;margin: -1px;overflow: hidden;padding: 0;position: absolute;width: 1px;}#sk-container-id-5 div.sk-estimator {font-family: monospace;background-color: #f0f8ff;border: 1px dotted black;border-radius: 0.25em;box-sizing: border-box;margin-bottom: 0.5em;}#sk-container-id-5 div.sk-estimator:hover {background-color: #d4ebff;}#sk-container-id-5 div.sk-parallel-item::after {content: \"\";width: 100%;border-bottom: 1px solid gray;flex-grow: 1;}#sk-container-id-5 div.sk-label:hover label.sk-toggleable__label {background-color: #d4ebff;}#sk-container-id-5 div.sk-serial::before {content: \"\";position: absolute;border-left: 1px solid gray;box-sizing: border-box;top: 0;bottom: 0;left: 50%;z-index: 0;}#sk-container-id-5 div.sk-serial {display: flex;flex-direction: column;align-items: center;background-color: white;padding-right: 0.2em;padding-left: 0.2em;position: relative;}#sk-container-id-5 div.sk-item {position: relative;z-index: 1;}#sk-container-id-5 div.sk-parallel {display: flex;align-items: stretch;justify-content: center;background-color: white;position: relative;}#sk-container-id-5 div.sk-item::before, #sk-container-id-5 div.sk-parallel-item::before {content: \"\";position: absolute;border-left: 1px solid gray;box-sizing: border-box;top: 0;bottom: 0;left: 50%;z-index: -1;}#sk-container-id-5 div.sk-parallel-item {display: flex;flex-direction: column;z-index: 1;position: relative;background-color: white;}#sk-container-id-5 div.sk-parallel-item:first-child::after {align-self: flex-end;width: 50%;}#sk-container-id-5 div.sk-parallel-item:last-child::after {align-self: flex-start;width: 50%;}#sk-container-id-5 div.sk-parallel-item:only-child::after {width: 0;}#sk-container-id-5 div.sk-dashed-wrapped {border: 1px dashed gray;margin: 0 0.4em 0.5em 0.4em;box-sizing: border-box;padding-bottom: 0.4em;background-color: white;}#sk-container-id-5 div.sk-label label {font-family: monospace;font-weight: bold;display: inline-block;line-height: 1.2em;}#sk-container-id-5 div.sk-label-container {text-align: center;}#sk-container-id-5 div.sk-container {/* jupyter's `normalize.less` sets `[hidden] { display: none; }` but bootstrap.min.css set `[hidden] { display: none !important; }` so we also need the `!important` here to be able to override the default hidden behavior on the sphinx rendered scikit-learn.org. See: https://github.com/scikit-learn/scikit-learn/issues/21755 */display: inline-block !important;position: relative;}#sk-container-id-5 div.sk-text-repr-fallback {display: none;}</style><div id=\"sk-container-id-5\" class=\"sk-top-container\"><div class=\"sk-text-repr-fallback\"><pre>GridSearchCV(cv=10, estimator=KNeighborsClassifier(),\n",
       "             param_grid={&#x27;n_neighbors&#x27;: array([ 1,  2,  3,  4,  5,  6,  7,  8,  9, 10, 11, 12, 13, 14, 15, 16, 17,\n",
       "       18, 19, 20, 21, 22, 23, 24, 25, 26, 27, 28, 29, 30, 31, 32, 33, 34,\n",
       "       35, 36, 37, 38, 39, 40, 41, 42, 43, 44, 45, 46, 47, 48, 49])})</pre><b>In a Jupyter environment, please rerun this cell to show the HTML representation or trust the notebook. <br />On GitHub, the HTML representation is unable to render, please try loading this page with nbviewer.org.</b></div><div class=\"sk-container\" hidden><div class=\"sk-item sk-dashed-wrapped\"><div class=\"sk-label-container\"><div class=\"sk-label sk-toggleable\"><input class=\"sk-toggleable__control sk-hidden--visually\" id=\"sk-estimator-id-5\" type=\"checkbox\" ><label for=\"sk-estimator-id-5\" class=\"sk-toggleable__label sk-toggleable__label-arrow\">GridSearchCV</label><div class=\"sk-toggleable__content\"><pre>GridSearchCV(cv=10, estimator=KNeighborsClassifier(),\n",
       "             param_grid={&#x27;n_neighbors&#x27;: array([ 1,  2,  3,  4,  5,  6,  7,  8,  9, 10, 11, 12, 13, 14, 15, 16, 17,\n",
       "       18, 19, 20, 21, 22, 23, 24, 25, 26, 27, 28, 29, 30, 31, 32, 33, 34,\n",
       "       35, 36, 37, 38, 39, 40, 41, 42, 43, 44, 45, 46, 47, 48, 49])})</pre></div></div></div><div class=\"sk-parallel\"><div class=\"sk-parallel-item\"><div class=\"sk-item\"><div class=\"sk-label-container\"><div class=\"sk-label sk-toggleable\"><input class=\"sk-toggleable__control sk-hidden--visually\" id=\"sk-estimator-id-6\" type=\"checkbox\" ><label for=\"sk-estimator-id-6\" class=\"sk-toggleable__label sk-toggleable__label-arrow\">estimator: KNeighborsClassifier</label><div class=\"sk-toggleable__content\"><pre>KNeighborsClassifier()</pre></div></div></div><div class=\"sk-serial\"><div class=\"sk-item\"><div class=\"sk-estimator sk-toggleable\"><input class=\"sk-toggleable__control sk-hidden--visually\" id=\"sk-estimator-id-7\" type=\"checkbox\" ><label for=\"sk-estimator-id-7\" class=\"sk-toggleable__label sk-toggleable__label-arrow\">KNeighborsClassifier</label><div class=\"sk-toggleable__content\"><pre>KNeighborsClassifier()</pre></div></div></div></div></div></div></div></div></div></div>"
      ],
      "text/plain": [
       "GridSearchCV(cv=10, estimator=KNeighborsClassifier(),\n",
       "             param_grid={'n_neighbors': array([ 1,  2,  3,  4,  5,  6,  7,  8,  9, 10, 11, 12, 13, 14, 15, 16, 17,\n",
       "       18, 19, 20, 21, 22, 23, 24, 25, 26, 27, 28, 29, 30, 31, 32, 33, 34,\n",
       "       35, 36, 37, 38, 39, 40, 41, 42, 43, 44, 45, 46, 47, 48, 49])})"
      ]
     },
     "execution_count": 48,
     "metadata": {},
     "output_type": "execute_result"
    }
   ],
   "source": [
    "knn = KNeighborsClassifier()\n",
    "knn_cv = GridSearchCV(knn, knn_params, cv=10)\n",
    "knn_cv.fit(X_train, y_train)"
   ]
  },
  {
   "cell_type": "code",
   "execution_count": 49,
   "metadata": {},
   "outputs": [
    {
     "name": "stdout",
     "output_type": "stream",
     "text": [
      "En iyi skor:0.748637316561845\n",
      "En iyi parametreler: {'n_neighbors': 11}\n"
     ]
    }
   ],
   "source": [
    "print(\"En iyi skor:\" + str(knn_cv.best_score_))\n",
    "print(\"En iyi parametreler: \" + str(knn_cv.best_params_))"
   ]
  },
  {
   "cell_type": "code",
   "execution_count": null,
   "metadata": {},
   "outputs": [],
   "source": []
  },
  {
   "cell_type": "code",
   "execution_count": 50,
   "metadata": {},
   "outputs": [],
   "source": [
    "knn = KNeighborsClassifier(11)\n",
    "knn_tuned = knn.fit(X_train, y_train)"
   ]
  },
  {
   "cell_type": "code",
   "execution_count": 51,
   "metadata": {},
   "outputs": [
    {
     "data": {
      "text/plain": [
       "0.7316017316017316"
      ]
     },
     "execution_count": 51,
     "metadata": {},
     "output_type": "execute_result"
    }
   ],
   "source": [
    "knn_tuned.score(X_test, y_test)"
   ]
  },
  {
   "cell_type": "code",
   "execution_count": 52,
   "metadata": {},
   "outputs": [],
   "source": [
    "y_pred = knn_tuned.predict(X_test)"
   ]
  },
  {
   "cell_type": "code",
   "execution_count": 53,
   "metadata": {},
   "outputs": [
    {
     "data": {
      "text/plain": [
       "0.7316017316017316"
      ]
     },
     "execution_count": 53,
     "metadata": {},
     "output_type": "execute_result"
    }
   ],
   "source": [
    "accuracy_score(y_test, y_pred)"
   ]
  },
  {
   "cell_type": "markdown",
   "metadata": {},
   "source": [
    "# SVC"
   ]
  },
  {
   "cell_type": "markdown",
   "metadata": {},
   "source": [
    "## Model & Tahmin"
   ]
  },
  {
   "cell_type": "code",
   "execution_count": 54,
   "metadata": {},
   "outputs": [],
   "source": [
    "df = diabetes.copy()\n",
    "df = df.dropna()\n",
    "y = df[\"Outcome\"]\n",
    "X = df.drop(['Outcome'], axis=1)\n",
    "X_train, X_test, y_train, y_test = train_test_split(X, y, \n",
    "                                                    test_size=0.30, \n",
    "                                                    random_state=42)"
   ]
  },
  {
   "cell_type": "code",
   "execution_count": 55,
   "metadata": {},
   "outputs": [],
   "source": [
    "svm_model = SVC(kernel = \"linear\").fit(X_train, y_train)"
   ]
  },
  {
   "cell_type": "code",
   "execution_count": 56,
   "metadata": {},
   "outputs": [
    {
     "data": {
      "text/html": [
       "<style>#sk-container-id-6 {color: black;}#sk-container-id-6 pre{padding: 0;}#sk-container-id-6 div.sk-toggleable {background-color: white;}#sk-container-id-6 label.sk-toggleable__label {cursor: pointer;display: block;width: 100%;margin-bottom: 0;padding: 0.3em;box-sizing: border-box;text-align: center;}#sk-container-id-6 label.sk-toggleable__label-arrow:before {content: \"▸\";float: left;margin-right: 0.25em;color: #696969;}#sk-container-id-6 label.sk-toggleable__label-arrow:hover:before {color: black;}#sk-container-id-6 div.sk-estimator:hover label.sk-toggleable__label-arrow:before {color: black;}#sk-container-id-6 div.sk-toggleable__content {max-height: 0;max-width: 0;overflow: hidden;text-align: left;background-color: #f0f8ff;}#sk-container-id-6 div.sk-toggleable__content pre {margin: 0.2em;color: black;border-radius: 0.25em;background-color: #f0f8ff;}#sk-container-id-6 input.sk-toggleable__control:checked~div.sk-toggleable__content {max-height: 200px;max-width: 100%;overflow: auto;}#sk-container-id-6 input.sk-toggleable__control:checked~label.sk-toggleable__label-arrow:before {content: \"▾\";}#sk-container-id-6 div.sk-estimator input.sk-toggleable__control:checked~label.sk-toggleable__label {background-color: #d4ebff;}#sk-container-id-6 div.sk-label input.sk-toggleable__control:checked~label.sk-toggleable__label {background-color: #d4ebff;}#sk-container-id-6 input.sk-hidden--visually {border: 0;clip: rect(1px 1px 1px 1px);clip: rect(1px, 1px, 1px, 1px);height: 1px;margin: -1px;overflow: hidden;padding: 0;position: absolute;width: 1px;}#sk-container-id-6 div.sk-estimator {font-family: monospace;background-color: #f0f8ff;border: 1px dotted black;border-radius: 0.25em;box-sizing: border-box;margin-bottom: 0.5em;}#sk-container-id-6 div.sk-estimator:hover {background-color: #d4ebff;}#sk-container-id-6 div.sk-parallel-item::after {content: \"\";width: 100%;border-bottom: 1px solid gray;flex-grow: 1;}#sk-container-id-6 div.sk-label:hover label.sk-toggleable__label {background-color: #d4ebff;}#sk-container-id-6 div.sk-serial::before {content: \"\";position: absolute;border-left: 1px solid gray;box-sizing: border-box;top: 0;bottom: 0;left: 50%;z-index: 0;}#sk-container-id-6 div.sk-serial {display: flex;flex-direction: column;align-items: center;background-color: white;padding-right: 0.2em;padding-left: 0.2em;position: relative;}#sk-container-id-6 div.sk-item {position: relative;z-index: 1;}#sk-container-id-6 div.sk-parallel {display: flex;align-items: stretch;justify-content: center;background-color: white;position: relative;}#sk-container-id-6 div.sk-item::before, #sk-container-id-6 div.sk-parallel-item::before {content: \"\";position: absolute;border-left: 1px solid gray;box-sizing: border-box;top: 0;bottom: 0;left: 50%;z-index: -1;}#sk-container-id-6 div.sk-parallel-item {display: flex;flex-direction: column;z-index: 1;position: relative;background-color: white;}#sk-container-id-6 div.sk-parallel-item:first-child::after {align-self: flex-end;width: 50%;}#sk-container-id-6 div.sk-parallel-item:last-child::after {align-self: flex-start;width: 50%;}#sk-container-id-6 div.sk-parallel-item:only-child::after {width: 0;}#sk-container-id-6 div.sk-dashed-wrapped {border: 1px dashed gray;margin: 0 0.4em 0.5em 0.4em;box-sizing: border-box;padding-bottom: 0.4em;background-color: white;}#sk-container-id-6 div.sk-label label {font-family: monospace;font-weight: bold;display: inline-block;line-height: 1.2em;}#sk-container-id-6 div.sk-label-container {text-align: center;}#sk-container-id-6 div.sk-container {/* jupyter's `normalize.less` sets `[hidden] { display: none; }` but bootstrap.min.css set `[hidden] { display: none !important; }` so we also need the `!important` here to be able to override the default hidden behavior on the sphinx rendered scikit-learn.org. See: https://github.com/scikit-learn/scikit-learn/issues/21755 */display: inline-block !important;position: relative;}#sk-container-id-6 div.sk-text-repr-fallback {display: none;}</style><div id=\"sk-container-id-6\" class=\"sk-top-container\"><div class=\"sk-text-repr-fallback\"><pre>SVC(kernel=&#x27;linear&#x27;)</pre><b>In a Jupyter environment, please rerun this cell to show the HTML representation or trust the notebook. <br />On GitHub, the HTML representation is unable to render, please try loading this page with nbviewer.org.</b></div><div class=\"sk-container\" hidden><div class=\"sk-item\"><div class=\"sk-estimator sk-toggleable\"><input class=\"sk-toggleable__control sk-hidden--visually\" id=\"sk-estimator-id-8\" type=\"checkbox\" checked><label for=\"sk-estimator-id-8\" class=\"sk-toggleable__label sk-toggleable__label-arrow\">SVC</label><div class=\"sk-toggleable__content\"><pre>SVC(kernel=&#x27;linear&#x27;)</pre></div></div></div></div></div>"
      ],
      "text/plain": [
       "SVC(kernel='linear')"
      ]
     },
     "execution_count": 56,
     "metadata": {},
     "output_type": "execute_result"
    }
   ],
   "source": [
    "svm_model"
   ]
  },
  {
   "cell_type": "code",
   "execution_count": 57,
   "metadata": {},
   "outputs": [],
   "source": [
    "y_pred = svm_model.predict(X_test)"
   ]
  },
  {
   "cell_type": "code",
   "execution_count": 58,
   "metadata": {},
   "outputs": [
    {
     "data": {
      "text/plain": [
       "0.7445887445887446"
      ]
     },
     "execution_count": 58,
     "metadata": {},
     "output_type": "execute_result"
    }
   ],
   "source": [
    "accuracy_score(y_test, y_pred)"
   ]
  },
  {
   "cell_type": "markdown",
   "metadata": {},
   "source": [
    "## Model Tuning"
   ]
  },
  {
   "cell_type": "code",
   "execution_count": 59,
   "metadata": {},
   "outputs": [
    {
     "name": "stdout",
     "output_type": "stream",
     "text": [
      "Fitting 10 folds for each of 9 candidates, totalling 90 fits\n"
     ]
    },
    {
     "data": {
      "text/html": [
       "<style>#sk-container-id-7 {color: black;}#sk-container-id-7 pre{padding: 0;}#sk-container-id-7 div.sk-toggleable {background-color: white;}#sk-container-id-7 label.sk-toggleable__label {cursor: pointer;display: block;width: 100%;margin-bottom: 0;padding: 0.3em;box-sizing: border-box;text-align: center;}#sk-container-id-7 label.sk-toggleable__label-arrow:before {content: \"▸\";float: left;margin-right: 0.25em;color: #696969;}#sk-container-id-7 label.sk-toggleable__label-arrow:hover:before {color: black;}#sk-container-id-7 div.sk-estimator:hover label.sk-toggleable__label-arrow:before {color: black;}#sk-container-id-7 div.sk-toggleable__content {max-height: 0;max-width: 0;overflow: hidden;text-align: left;background-color: #f0f8ff;}#sk-container-id-7 div.sk-toggleable__content pre {margin: 0.2em;color: black;border-radius: 0.25em;background-color: #f0f8ff;}#sk-container-id-7 input.sk-toggleable__control:checked~div.sk-toggleable__content {max-height: 200px;max-width: 100%;overflow: auto;}#sk-container-id-7 input.sk-toggleable__control:checked~label.sk-toggleable__label-arrow:before {content: \"▾\";}#sk-container-id-7 div.sk-estimator input.sk-toggleable__control:checked~label.sk-toggleable__label {background-color: #d4ebff;}#sk-container-id-7 div.sk-label input.sk-toggleable__control:checked~label.sk-toggleable__label {background-color: #d4ebff;}#sk-container-id-7 input.sk-hidden--visually {border: 0;clip: rect(1px 1px 1px 1px);clip: rect(1px, 1px, 1px, 1px);height: 1px;margin: -1px;overflow: hidden;padding: 0;position: absolute;width: 1px;}#sk-container-id-7 div.sk-estimator {font-family: monospace;background-color: #f0f8ff;border: 1px dotted black;border-radius: 0.25em;box-sizing: border-box;margin-bottom: 0.5em;}#sk-container-id-7 div.sk-estimator:hover {background-color: #d4ebff;}#sk-container-id-7 div.sk-parallel-item::after {content: \"\";width: 100%;border-bottom: 1px solid gray;flex-grow: 1;}#sk-container-id-7 div.sk-label:hover label.sk-toggleable__label {background-color: #d4ebff;}#sk-container-id-7 div.sk-serial::before {content: \"\";position: absolute;border-left: 1px solid gray;box-sizing: border-box;top: 0;bottom: 0;left: 50%;z-index: 0;}#sk-container-id-7 div.sk-serial {display: flex;flex-direction: column;align-items: center;background-color: white;padding-right: 0.2em;padding-left: 0.2em;position: relative;}#sk-container-id-7 div.sk-item {position: relative;z-index: 1;}#sk-container-id-7 div.sk-parallel {display: flex;align-items: stretch;justify-content: center;background-color: white;position: relative;}#sk-container-id-7 div.sk-item::before, #sk-container-id-7 div.sk-parallel-item::before {content: \"\";position: absolute;border-left: 1px solid gray;box-sizing: border-box;top: 0;bottom: 0;left: 50%;z-index: -1;}#sk-container-id-7 div.sk-parallel-item {display: flex;flex-direction: column;z-index: 1;position: relative;background-color: white;}#sk-container-id-7 div.sk-parallel-item:first-child::after {align-self: flex-end;width: 50%;}#sk-container-id-7 div.sk-parallel-item:last-child::after {align-self: flex-start;width: 50%;}#sk-container-id-7 div.sk-parallel-item:only-child::after {width: 0;}#sk-container-id-7 div.sk-dashed-wrapped {border: 1px dashed gray;margin: 0 0.4em 0.5em 0.4em;box-sizing: border-box;padding-bottom: 0.4em;background-color: white;}#sk-container-id-7 div.sk-label label {font-family: monospace;font-weight: bold;display: inline-block;line-height: 1.2em;}#sk-container-id-7 div.sk-label-container {text-align: center;}#sk-container-id-7 div.sk-container {/* jupyter's `normalize.less` sets `[hidden] { display: none; }` but bootstrap.min.css set `[hidden] { display: none !important; }` so we also need the `!important` here to be able to override the default hidden behavior on the sphinx rendered scikit-learn.org. See: https://github.com/scikit-learn/scikit-learn/issues/21755 */display: inline-block !important;position: relative;}#sk-container-id-7 div.sk-text-repr-fallback {display: none;}</style><div id=\"sk-container-id-7\" class=\"sk-top-container\"><div class=\"sk-text-repr-fallback\"><pre>GridSearchCV(cv=10, estimator=SVC(kernel=&#x27;linear&#x27;), n_jobs=-1,\n",
       "             param_grid={&#x27;C&#x27;: array([1, 2, 3, 4, 5, 6, 7, 8, 9])}, verbose=2)</pre><b>In a Jupyter environment, please rerun this cell to show the HTML representation or trust the notebook. <br />On GitHub, the HTML representation is unable to render, please try loading this page with nbviewer.org.</b></div><div class=\"sk-container\" hidden><div class=\"sk-item sk-dashed-wrapped\"><div class=\"sk-label-container\"><div class=\"sk-label sk-toggleable\"><input class=\"sk-toggleable__control sk-hidden--visually\" id=\"sk-estimator-id-9\" type=\"checkbox\" ><label for=\"sk-estimator-id-9\" class=\"sk-toggleable__label sk-toggleable__label-arrow\">GridSearchCV</label><div class=\"sk-toggleable__content\"><pre>GridSearchCV(cv=10, estimator=SVC(kernel=&#x27;linear&#x27;), n_jobs=-1,\n",
       "             param_grid={&#x27;C&#x27;: array([1, 2, 3, 4, 5, 6, 7, 8, 9])}, verbose=2)</pre></div></div></div><div class=\"sk-parallel\"><div class=\"sk-parallel-item\"><div class=\"sk-item\"><div class=\"sk-label-container\"><div class=\"sk-label sk-toggleable\"><input class=\"sk-toggleable__control sk-hidden--visually\" id=\"sk-estimator-id-10\" type=\"checkbox\" ><label for=\"sk-estimator-id-10\" class=\"sk-toggleable__label sk-toggleable__label-arrow\">estimator: SVC</label><div class=\"sk-toggleable__content\"><pre>SVC(kernel=&#x27;linear&#x27;)</pre></div></div></div><div class=\"sk-serial\"><div class=\"sk-item\"><div class=\"sk-estimator sk-toggleable\"><input class=\"sk-toggleable__control sk-hidden--visually\" id=\"sk-estimator-id-11\" type=\"checkbox\" ><label for=\"sk-estimator-id-11\" class=\"sk-toggleable__label sk-toggleable__label-arrow\">SVC</label><div class=\"sk-toggleable__content\"><pre>SVC(kernel=&#x27;linear&#x27;)</pre></div></div></div></div></div></div></div></div></div></div>"
      ],
      "text/plain": [
       "GridSearchCV(cv=10, estimator=SVC(kernel='linear'), n_jobs=-1,\n",
       "             param_grid={'C': array([1, 2, 3, 4, 5, 6, 7, 8, 9])}, verbose=2)"
      ]
     },
     "execution_count": 59,
     "metadata": {},
     "output_type": "execute_result"
    }
   ],
   "source": [
    "svc_params = {\"C\": np.arange(1,10)}\n",
    "\n",
    "svc = SVC(kernel = \"linear\")\n",
    "\n",
    "svc_cv_model = GridSearchCV(svc,svc_params, \n",
    "                            cv = 10, \n",
    "                            n_jobs = -1, \n",
    "                            verbose = 2 )\n",
    "\n",
    "svc_cv_model.fit(X_train, y_train)"
   ]
  },
  {
   "cell_type": "code",
   "execution_count": 60,
   "metadata": {},
   "outputs": [
    {
     "name": "stdout",
     "output_type": "stream",
     "text": [
      "En iyi parametreler: {'C': 1}\n"
     ]
    }
   ],
   "source": [
    "print(\"En iyi parametreler: \" + str(svc_cv_model.best_params_))"
   ]
  },
  {
   "cell_type": "code",
   "execution_count": null,
   "metadata": {},
   "outputs": [],
   "source": []
  },
  {
   "cell_type": "code",
   "execution_count": 61,
   "metadata": {},
   "outputs": [],
   "source": [
    "svc_tuned = SVC(kernel = \"linear\", C = 5).fit(X_train, y_train)"
   ]
  },
  {
   "cell_type": "code",
   "execution_count": 62,
   "metadata": {},
   "outputs": [
    {
     "data": {
      "text/plain": [
       "0.7445887445887446"
      ]
     },
     "execution_count": 62,
     "metadata": {},
     "output_type": "execute_result"
    }
   ],
   "source": [
    "y_pred = svc_tuned.predict(X_test)\n",
    "accuracy_score(y_test, y_pred)"
   ]
  },
  {
   "cell_type": "markdown",
   "metadata": {},
   "source": [
    "# RBF SVC"
   ]
  },
  {
   "cell_type": "markdown",
   "metadata": {},
   "source": [
    "## Model & Tahmin"
   ]
  },
  {
   "cell_type": "code",
   "execution_count": 63,
   "metadata": {},
   "outputs": [],
   "source": [
    "df = diabetes.copy()\n",
    "df = df.dropna()\n",
    "y = df[\"Outcome\"]\n",
    "X = df.drop(['Outcome'], axis=1)\n",
    "X_train, X_test, y_train, y_test = train_test_split(X, y, \n",
    "                                                    test_size=0.30, \n",
    "                                                    random_state=42)"
   ]
  },
  {
   "cell_type": "code",
   "execution_count": 64,
   "metadata": {},
   "outputs": [],
   "source": [
    "svc_model = SVC(kernel = \"rbf\").fit(X_train, y_train)"
   ]
  },
  {
   "cell_type": "code",
   "execution_count": 65,
   "metadata": {},
   "outputs": [
    {
     "data": {
      "text/html": [
       "<style>#sk-container-id-8 {color: black;}#sk-container-id-8 pre{padding: 0;}#sk-container-id-8 div.sk-toggleable {background-color: white;}#sk-container-id-8 label.sk-toggleable__label {cursor: pointer;display: block;width: 100%;margin-bottom: 0;padding: 0.3em;box-sizing: border-box;text-align: center;}#sk-container-id-8 label.sk-toggleable__label-arrow:before {content: \"▸\";float: left;margin-right: 0.25em;color: #696969;}#sk-container-id-8 label.sk-toggleable__label-arrow:hover:before {color: black;}#sk-container-id-8 div.sk-estimator:hover label.sk-toggleable__label-arrow:before {color: black;}#sk-container-id-8 div.sk-toggleable__content {max-height: 0;max-width: 0;overflow: hidden;text-align: left;background-color: #f0f8ff;}#sk-container-id-8 div.sk-toggleable__content pre {margin: 0.2em;color: black;border-radius: 0.25em;background-color: #f0f8ff;}#sk-container-id-8 input.sk-toggleable__control:checked~div.sk-toggleable__content {max-height: 200px;max-width: 100%;overflow: auto;}#sk-container-id-8 input.sk-toggleable__control:checked~label.sk-toggleable__label-arrow:before {content: \"▾\";}#sk-container-id-8 div.sk-estimator input.sk-toggleable__control:checked~label.sk-toggleable__label {background-color: #d4ebff;}#sk-container-id-8 div.sk-label input.sk-toggleable__control:checked~label.sk-toggleable__label {background-color: #d4ebff;}#sk-container-id-8 input.sk-hidden--visually {border: 0;clip: rect(1px 1px 1px 1px);clip: rect(1px, 1px, 1px, 1px);height: 1px;margin: -1px;overflow: hidden;padding: 0;position: absolute;width: 1px;}#sk-container-id-8 div.sk-estimator {font-family: monospace;background-color: #f0f8ff;border: 1px dotted black;border-radius: 0.25em;box-sizing: border-box;margin-bottom: 0.5em;}#sk-container-id-8 div.sk-estimator:hover {background-color: #d4ebff;}#sk-container-id-8 div.sk-parallel-item::after {content: \"\";width: 100%;border-bottom: 1px solid gray;flex-grow: 1;}#sk-container-id-8 div.sk-label:hover label.sk-toggleable__label {background-color: #d4ebff;}#sk-container-id-8 div.sk-serial::before {content: \"\";position: absolute;border-left: 1px solid gray;box-sizing: border-box;top: 0;bottom: 0;left: 50%;z-index: 0;}#sk-container-id-8 div.sk-serial {display: flex;flex-direction: column;align-items: center;background-color: white;padding-right: 0.2em;padding-left: 0.2em;position: relative;}#sk-container-id-8 div.sk-item {position: relative;z-index: 1;}#sk-container-id-8 div.sk-parallel {display: flex;align-items: stretch;justify-content: center;background-color: white;position: relative;}#sk-container-id-8 div.sk-item::before, #sk-container-id-8 div.sk-parallel-item::before {content: \"\";position: absolute;border-left: 1px solid gray;box-sizing: border-box;top: 0;bottom: 0;left: 50%;z-index: -1;}#sk-container-id-8 div.sk-parallel-item {display: flex;flex-direction: column;z-index: 1;position: relative;background-color: white;}#sk-container-id-8 div.sk-parallel-item:first-child::after {align-self: flex-end;width: 50%;}#sk-container-id-8 div.sk-parallel-item:last-child::after {align-self: flex-start;width: 50%;}#sk-container-id-8 div.sk-parallel-item:only-child::after {width: 0;}#sk-container-id-8 div.sk-dashed-wrapped {border: 1px dashed gray;margin: 0 0.4em 0.5em 0.4em;box-sizing: border-box;padding-bottom: 0.4em;background-color: white;}#sk-container-id-8 div.sk-label label {font-family: monospace;font-weight: bold;display: inline-block;line-height: 1.2em;}#sk-container-id-8 div.sk-label-container {text-align: center;}#sk-container-id-8 div.sk-container {/* jupyter's `normalize.less` sets `[hidden] { display: none; }` but bootstrap.min.css set `[hidden] { display: none !important; }` so we also need the `!important` here to be able to override the default hidden behavior on the sphinx rendered scikit-learn.org. See: https://github.com/scikit-learn/scikit-learn/issues/21755 */display: inline-block !important;position: relative;}#sk-container-id-8 div.sk-text-repr-fallback {display: none;}</style><div id=\"sk-container-id-8\" class=\"sk-top-container\"><div class=\"sk-text-repr-fallback\"><pre>SVC()</pre><b>In a Jupyter environment, please rerun this cell to show the HTML representation or trust the notebook. <br />On GitHub, the HTML representation is unable to render, please try loading this page with nbviewer.org.</b></div><div class=\"sk-container\" hidden><div class=\"sk-item\"><div class=\"sk-estimator sk-toggleable\"><input class=\"sk-toggleable__control sk-hidden--visually\" id=\"sk-estimator-id-12\" type=\"checkbox\" checked><label for=\"sk-estimator-id-12\" class=\"sk-toggleable__label sk-toggleable__label-arrow\">SVC</label><div class=\"sk-toggleable__content\"><pre>SVC()</pre></div></div></div></div></div>"
      ],
      "text/plain": [
       "SVC()"
      ]
     },
     "execution_count": 65,
     "metadata": {},
     "output_type": "execute_result"
    }
   ],
   "source": [
    "svc_model"
   ]
  },
  {
   "cell_type": "code",
   "execution_count": 66,
   "metadata": {},
   "outputs": [
    {
     "data": {
      "text/plain": [
       "0.7359307359307359"
      ]
     },
     "execution_count": 66,
     "metadata": {},
     "output_type": "execute_result"
    }
   ],
   "source": [
    "y_pred = svc_model.predict(X_test)\n",
    "accuracy_score(y_test, y_pred)"
   ]
  },
  {
   "cell_type": "markdown",
   "metadata": {},
   "source": [
    "## Model Tuning"
   ]
  },
  {
   "cell_type": "code",
   "execution_count": 67,
   "metadata": {},
   "outputs": [],
   "source": [
    "svc_params = {\"C\": [0.0001, 0.001, 0.1, 1, 5, 10 ,50 ,100],\n",
    "             \"gamma\": [0.0001, 0.001, 0.1, 1, 5, 10 ,50 ,100]}"
   ]
  },
  {
   "cell_type": "code",
   "execution_count": 68,
   "metadata": {},
   "outputs": [
    {
     "name": "stdout",
     "output_type": "stream",
     "text": [
      "Fitting 10 folds for each of 64 candidates, totalling 640 fits\n"
     ]
    },
    {
     "data": {
      "text/html": [
       "<style>#sk-container-id-9 {color: black;}#sk-container-id-9 pre{padding: 0;}#sk-container-id-9 div.sk-toggleable {background-color: white;}#sk-container-id-9 label.sk-toggleable__label {cursor: pointer;display: block;width: 100%;margin-bottom: 0;padding: 0.3em;box-sizing: border-box;text-align: center;}#sk-container-id-9 label.sk-toggleable__label-arrow:before {content: \"▸\";float: left;margin-right: 0.25em;color: #696969;}#sk-container-id-9 label.sk-toggleable__label-arrow:hover:before {color: black;}#sk-container-id-9 div.sk-estimator:hover label.sk-toggleable__label-arrow:before {color: black;}#sk-container-id-9 div.sk-toggleable__content {max-height: 0;max-width: 0;overflow: hidden;text-align: left;background-color: #f0f8ff;}#sk-container-id-9 div.sk-toggleable__content pre {margin: 0.2em;color: black;border-radius: 0.25em;background-color: #f0f8ff;}#sk-container-id-9 input.sk-toggleable__control:checked~div.sk-toggleable__content {max-height: 200px;max-width: 100%;overflow: auto;}#sk-container-id-9 input.sk-toggleable__control:checked~label.sk-toggleable__label-arrow:before {content: \"▾\";}#sk-container-id-9 div.sk-estimator input.sk-toggleable__control:checked~label.sk-toggleable__label {background-color: #d4ebff;}#sk-container-id-9 div.sk-label input.sk-toggleable__control:checked~label.sk-toggleable__label {background-color: #d4ebff;}#sk-container-id-9 input.sk-hidden--visually {border: 0;clip: rect(1px 1px 1px 1px);clip: rect(1px, 1px, 1px, 1px);height: 1px;margin: -1px;overflow: hidden;padding: 0;position: absolute;width: 1px;}#sk-container-id-9 div.sk-estimator {font-family: monospace;background-color: #f0f8ff;border: 1px dotted black;border-radius: 0.25em;box-sizing: border-box;margin-bottom: 0.5em;}#sk-container-id-9 div.sk-estimator:hover {background-color: #d4ebff;}#sk-container-id-9 div.sk-parallel-item::after {content: \"\";width: 100%;border-bottom: 1px solid gray;flex-grow: 1;}#sk-container-id-9 div.sk-label:hover label.sk-toggleable__label {background-color: #d4ebff;}#sk-container-id-9 div.sk-serial::before {content: \"\";position: absolute;border-left: 1px solid gray;box-sizing: border-box;top: 0;bottom: 0;left: 50%;z-index: 0;}#sk-container-id-9 div.sk-serial {display: flex;flex-direction: column;align-items: center;background-color: white;padding-right: 0.2em;padding-left: 0.2em;position: relative;}#sk-container-id-9 div.sk-item {position: relative;z-index: 1;}#sk-container-id-9 div.sk-parallel {display: flex;align-items: stretch;justify-content: center;background-color: white;position: relative;}#sk-container-id-9 div.sk-item::before, #sk-container-id-9 div.sk-parallel-item::before {content: \"\";position: absolute;border-left: 1px solid gray;box-sizing: border-box;top: 0;bottom: 0;left: 50%;z-index: -1;}#sk-container-id-9 div.sk-parallel-item {display: flex;flex-direction: column;z-index: 1;position: relative;background-color: white;}#sk-container-id-9 div.sk-parallel-item:first-child::after {align-self: flex-end;width: 50%;}#sk-container-id-9 div.sk-parallel-item:last-child::after {align-self: flex-start;width: 50%;}#sk-container-id-9 div.sk-parallel-item:only-child::after {width: 0;}#sk-container-id-9 div.sk-dashed-wrapped {border: 1px dashed gray;margin: 0 0.4em 0.5em 0.4em;box-sizing: border-box;padding-bottom: 0.4em;background-color: white;}#sk-container-id-9 div.sk-label label {font-family: monospace;font-weight: bold;display: inline-block;line-height: 1.2em;}#sk-container-id-9 div.sk-label-container {text-align: center;}#sk-container-id-9 div.sk-container {/* jupyter's `normalize.less` sets `[hidden] { display: none; }` but bootstrap.min.css set `[hidden] { display: none !important; }` so we also need the `!important` here to be able to override the default hidden behavior on the sphinx rendered scikit-learn.org. See: https://github.com/scikit-learn/scikit-learn/issues/21755 */display: inline-block !important;position: relative;}#sk-container-id-9 div.sk-text-repr-fallback {display: none;}</style><div id=\"sk-container-id-9\" class=\"sk-top-container\"><div class=\"sk-text-repr-fallback\"><pre>GridSearchCV(cv=10, estimator=SVC(), n_jobs=-1,\n",
       "             param_grid={&#x27;C&#x27;: [0.0001, 0.001, 0.1, 1, 5, 10, 50, 100],\n",
       "                         &#x27;gamma&#x27;: [0.0001, 0.001, 0.1, 1, 5, 10, 50, 100]},\n",
       "             verbose=2)</pre><b>In a Jupyter environment, please rerun this cell to show the HTML representation or trust the notebook. <br />On GitHub, the HTML representation is unable to render, please try loading this page with nbviewer.org.</b></div><div class=\"sk-container\" hidden><div class=\"sk-item sk-dashed-wrapped\"><div class=\"sk-label-container\"><div class=\"sk-label sk-toggleable\"><input class=\"sk-toggleable__control sk-hidden--visually\" id=\"sk-estimator-id-13\" type=\"checkbox\" ><label for=\"sk-estimator-id-13\" class=\"sk-toggleable__label sk-toggleable__label-arrow\">GridSearchCV</label><div class=\"sk-toggleable__content\"><pre>GridSearchCV(cv=10, estimator=SVC(), n_jobs=-1,\n",
       "             param_grid={&#x27;C&#x27;: [0.0001, 0.001, 0.1, 1, 5, 10, 50, 100],\n",
       "                         &#x27;gamma&#x27;: [0.0001, 0.001, 0.1, 1, 5, 10, 50, 100]},\n",
       "             verbose=2)</pre></div></div></div><div class=\"sk-parallel\"><div class=\"sk-parallel-item\"><div class=\"sk-item\"><div class=\"sk-label-container\"><div class=\"sk-label sk-toggleable\"><input class=\"sk-toggleable__control sk-hidden--visually\" id=\"sk-estimator-id-14\" type=\"checkbox\" ><label for=\"sk-estimator-id-14\" class=\"sk-toggleable__label sk-toggleable__label-arrow\">estimator: SVC</label><div class=\"sk-toggleable__content\"><pre>SVC()</pre></div></div></div><div class=\"sk-serial\"><div class=\"sk-item\"><div class=\"sk-estimator sk-toggleable\"><input class=\"sk-toggleable__control sk-hidden--visually\" id=\"sk-estimator-id-15\" type=\"checkbox\" ><label for=\"sk-estimator-id-15\" class=\"sk-toggleable__label sk-toggleable__label-arrow\">SVC</label><div class=\"sk-toggleable__content\"><pre>SVC()</pre></div></div></div></div></div></div></div></div></div></div>"
      ],
      "text/plain": [
       "GridSearchCV(cv=10, estimator=SVC(), n_jobs=-1,\n",
       "             param_grid={'C': [0.0001, 0.001, 0.1, 1, 5, 10, 50, 100],\n",
       "                         'gamma': [0.0001, 0.001, 0.1, 1, 5, 10, 50, 100]},\n",
       "             verbose=2)"
      ]
     },
     "execution_count": 68,
     "metadata": {},
     "output_type": "execute_result"
    }
   ],
   "source": [
    "svc = SVC()\n",
    "svc_cv_model = GridSearchCV(svc, svc_params, \n",
    "                         cv = 10, \n",
    "                         n_jobs = -1,\n",
    "                         verbose = 2)\n",
    "\n",
    "svc_cv_model.fit(X_train, y_train)"
   ]
  },
  {
   "cell_type": "code",
   "execution_count": 69,
   "metadata": {},
   "outputs": [
    {
     "name": "stdout",
     "output_type": "stream",
     "text": [
      "En iyi parametreler: {'C': 10, 'gamma': 0.0001}\n"
     ]
    }
   ],
   "source": [
    "print(\"En iyi parametreler: \" + str(svc_cv_model.best_params_))"
   ]
  },
  {
   "cell_type": "code",
   "execution_count": 70,
   "metadata": {},
   "outputs": [],
   "source": [
    "svc_tuned = SVC(C = 10, gamma = 0.0001).fit(X_train, y_train)"
   ]
  },
  {
   "cell_type": "code",
   "execution_count": 71,
   "metadata": {},
   "outputs": [
    {
     "data": {
      "text/plain": [
       "0.7359307359307359"
      ]
     },
     "execution_count": 71,
     "metadata": {},
     "output_type": "execute_result"
    }
   ],
   "source": [
    "y_pred = svc_tuned.predict(X_test)\n",
    "accuracy_score(y_test, y_pred)"
   ]
  },
  {
   "cell_type": "markdown",
   "metadata": {},
   "source": [
    "# Yapay Sinir Ağları"
   ]
  },
  {
   "cell_type": "markdown",
   "metadata": {},
   "source": [
    "## Model & Tahmin"
   ]
  },
  {
   "cell_type": "code",
   "execution_count": 72,
   "metadata": {},
   "outputs": [],
   "source": [
    "df = diabetes.copy()\n",
    "df = df.dropna()\n",
    "y = df[\"Outcome\"]\n",
    "X = df.drop(['Outcome'], axis=1)\n",
    "X_train, X_test, y_train, y_test = train_test_split(X, y, \n",
    "                                                    test_size=0.30, \n",
    "                                                    random_state=42)"
   ]
  },
  {
   "cell_type": "code",
   "execution_count": 73,
   "metadata": {},
   "outputs": [],
   "source": [
    "from sklearn.preprocessing import StandardScaler  "
   ]
  },
  {
   "cell_type": "code",
   "execution_count": 74,
   "metadata": {},
   "outputs": [],
   "source": [
    "scaler = StandardScaler()"
   ]
  },
  {
   "cell_type": "code",
   "execution_count": 75,
   "metadata": {},
   "outputs": [],
   "source": [
    "scaler.fit(X_train)\n",
    "X_train_scaled = scaler.transform(X_train)\n",
    "X_test_scaled = scaler.transform(X_test)"
   ]
  },
  {
   "cell_type": "code",
   "execution_count": 76,
   "metadata": {},
   "outputs": [
    {
     "data": {
      "text/plain": [
       "array([[ 0.69748316, -0.70719864, -0.64639893,  0.81207927,  0.95720244,\n",
       "         0.26575953, -0.11680393,  0.85019217],\n",
       "       [-0.52953881, -0.27388818,  0.29399563,  0.74746428, -0.6936878 ,\n",
       "         0.488933  , -0.94192338, -1.03426754],\n",
       "       [-0.52953881, -0.39769117, -0.31449497, -1.3202154 , -0.6936878 ,\n",
       "        -0.1543317 , -0.91266382, -1.03426754],\n",
       "       [ 1.31099414, -0.42864191,  0.57058226, -1.3202154 , -0.6936878 ,\n",
       "        -0.96825847,  1.12965312,  0.07927683],\n",
       "       [ 1.00423865,  0.46892976,  1.12375553, -1.3202154 , -0.6936878 ,\n",
       "        -0.27248236, -0.76051413,  1.44979298]])"
      ]
     },
     "execution_count": 76,
     "metadata": {},
     "output_type": "execute_result"
    }
   ],
   "source": [
    "X_test_scaled[0:5]"
   ]
  },
  {
   "cell_type": "code",
   "execution_count": 77,
   "metadata": {},
   "outputs": [],
   "source": [
    "from sklearn.neural_network import MLPClassifier"
   ]
  },
  {
   "cell_type": "code",
   "execution_count": 78,
   "metadata": {},
   "outputs": [],
   "source": [
    "mlpc = MLPClassifier().fit(X_train_scaled, y_train)"
   ]
  },
  {
   "cell_type": "code",
   "execution_count": 79,
   "metadata": {},
   "outputs": [
    {
     "data": {
      "text/plain": [
       "0.7445887445887446"
      ]
     },
     "execution_count": 79,
     "metadata": {},
     "output_type": "execute_result"
    }
   ],
   "source": [
    "y_pred = mlpc.predict(X_test_scaled)\n",
    "accuracy_score(y_test, y_pred)"
   ]
  },
  {
   "cell_type": "markdown",
   "metadata": {},
   "source": [
    "## Model Tuning"
   ]
  },
  {
   "cell_type": "code",
   "execution_count": 80,
   "metadata": {},
   "outputs": [
    {
     "data": {
      "text/html": [
       "<style>#sk-container-id-10 {color: black;}#sk-container-id-10 pre{padding: 0;}#sk-container-id-10 div.sk-toggleable {background-color: white;}#sk-container-id-10 label.sk-toggleable__label {cursor: pointer;display: block;width: 100%;margin-bottom: 0;padding: 0.3em;box-sizing: border-box;text-align: center;}#sk-container-id-10 label.sk-toggleable__label-arrow:before {content: \"▸\";float: left;margin-right: 0.25em;color: #696969;}#sk-container-id-10 label.sk-toggleable__label-arrow:hover:before {color: black;}#sk-container-id-10 div.sk-estimator:hover label.sk-toggleable__label-arrow:before {color: black;}#sk-container-id-10 div.sk-toggleable__content {max-height: 0;max-width: 0;overflow: hidden;text-align: left;background-color: #f0f8ff;}#sk-container-id-10 div.sk-toggleable__content pre {margin: 0.2em;color: black;border-radius: 0.25em;background-color: #f0f8ff;}#sk-container-id-10 input.sk-toggleable__control:checked~div.sk-toggleable__content {max-height: 200px;max-width: 100%;overflow: auto;}#sk-container-id-10 input.sk-toggleable__control:checked~label.sk-toggleable__label-arrow:before {content: \"▾\";}#sk-container-id-10 div.sk-estimator input.sk-toggleable__control:checked~label.sk-toggleable__label {background-color: #d4ebff;}#sk-container-id-10 div.sk-label input.sk-toggleable__control:checked~label.sk-toggleable__label {background-color: #d4ebff;}#sk-container-id-10 input.sk-hidden--visually {border: 0;clip: rect(1px 1px 1px 1px);clip: rect(1px, 1px, 1px, 1px);height: 1px;margin: -1px;overflow: hidden;padding: 0;position: absolute;width: 1px;}#sk-container-id-10 div.sk-estimator {font-family: monospace;background-color: #f0f8ff;border: 1px dotted black;border-radius: 0.25em;box-sizing: border-box;margin-bottom: 0.5em;}#sk-container-id-10 div.sk-estimator:hover {background-color: #d4ebff;}#sk-container-id-10 div.sk-parallel-item::after {content: \"\";width: 100%;border-bottom: 1px solid gray;flex-grow: 1;}#sk-container-id-10 div.sk-label:hover label.sk-toggleable__label {background-color: #d4ebff;}#sk-container-id-10 div.sk-serial::before {content: \"\";position: absolute;border-left: 1px solid gray;box-sizing: border-box;top: 0;bottom: 0;left: 50%;z-index: 0;}#sk-container-id-10 div.sk-serial {display: flex;flex-direction: column;align-items: center;background-color: white;padding-right: 0.2em;padding-left: 0.2em;position: relative;}#sk-container-id-10 div.sk-item {position: relative;z-index: 1;}#sk-container-id-10 div.sk-parallel {display: flex;align-items: stretch;justify-content: center;background-color: white;position: relative;}#sk-container-id-10 div.sk-item::before, #sk-container-id-10 div.sk-parallel-item::before {content: \"\";position: absolute;border-left: 1px solid gray;box-sizing: border-box;top: 0;bottom: 0;left: 50%;z-index: -1;}#sk-container-id-10 div.sk-parallel-item {display: flex;flex-direction: column;z-index: 1;position: relative;background-color: white;}#sk-container-id-10 div.sk-parallel-item:first-child::after {align-self: flex-end;width: 50%;}#sk-container-id-10 div.sk-parallel-item:last-child::after {align-self: flex-start;width: 50%;}#sk-container-id-10 div.sk-parallel-item:only-child::after {width: 0;}#sk-container-id-10 div.sk-dashed-wrapped {border: 1px dashed gray;margin: 0 0.4em 0.5em 0.4em;box-sizing: border-box;padding-bottom: 0.4em;background-color: white;}#sk-container-id-10 div.sk-label label {font-family: monospace;font-weight: bold;display: inline-block;line-height: 1.2em;}#sk-container-id-10 div.sk-label-container {text-align: center;}#sk-container-id-10 div.sk-container {/* jupyter's `normalize.less` sets `[hidden] { display: none; }` but bootstrap.min.css set `[hidden] { display: none !important; }` so we also need the `!important` here to be able to override the default hidden behavior on the sphinx rendered scikit-learn.org. See: https://github.com/scikit-learn/scikit-learn/issues/21755 */display: inline-block !important;position: relative;}#sk-container-id-10 div.sk-text-repr-fallback {display: none;}</style><div id=\"sk-container-id-10\" class=\"sk-top-container\"><div class=\"sk-text-repr-fallback\"><pre>MLPClassifier()</pre><b>In a Jupyter environment, please rerun this cell to show the HTML representation or trust the notebook. <br />On GitHub, the HTML representation is unable to render, please try loading this page with nbviewer.org.</b></div><div class=\"sk-container\" hidden><div class=\"sk-item\"><div class=\"sk-estimator sk-toggleable\"><input class=\"sk-toggleable__control sk-hidden--visually\" id=\"sk-estimator-id-16\" type=\"checkbox\" checked><label for=\"sk-estimator-id-16\" class=\"sk-toggleable__label sk-toggleable__label-arrow\">MLPClassifier</label><div class=\"sk-toggleable__content\"><pre>MLPClassifier()</pre></div></div></div></div></div>"
      ],
      "text/plain": [
       "MLPClassifier()"
      ]
     },
     "execution_count": 80,
     "metadata": {},
     "output_type": "execute_result"
    }
   ],
   "source": [
    "mlpc"
   ]
  },
  {
   "cell_type": "code",
   "execution_count": 81,
   "metadata": {},
   "outputs": [
    {
     "data": {
      "text/html": [
       "<style>#sk-container-id-11 {color: black;}#sk-container-id-11 pre{padding: 0;}#sk-container-id-11 div.sk-toggleable {background-color: white;}#sk-container-id-11 label.sk-toggleable__label {cursor: pointer;display: block;width: 100%;margin-bottom: 0;padding: 0.3em;box-sizing: border-box;text-align: center;}#sk-container-id-11 label.sk-toggleable__label-arrow:before {content: \"▸\";float: left;margin-right: 0.25em;color: #696969;}#sk-container-id-11 label.sk-toggleable__label-arrow:hover:before {color: black;}#sk-container-id-11 div.sk-estimator:hover label.sk-toggleable__label-arrow:before {color: black;}#sk-container-id-11 div.sk-toggleable__content {max-height: 0;max-width: 0;overflow: hidden;text-align: left;background-color: #f0f8ff;}#sk-container-id-11 div.sk-toggleable__content pre {margin: 0.2em;color: black;border-radius: 0.25em;background-color: #f0f8ff;}#sk-container-id-11 input.sk-toggleable__control:checked~div.sk-toggleable__content {max-height: 200px;max-width: 100%;overflow: auto;}#sk-container-id-11 input.sk-toggleable__control:checked~label.sk-toggleable__label-arrow:before {content: \"▾\";}#sk-container-id-11 div.sk-estimator input.sk-toggleable__control:checked~label.sk-toggleable__label {background-color: #d4ebff;}#sk-container-id-11 div.sk-label input.sk-toggleable__control:checked~label.sk-toggleable__label {background-color: #d4ebff;}#sk-container-id-11 input.sk-hidden--visually {border: 0;clip: rect(1px 1px 1px 1px);clip: rect(1px, 1px, 1px, 1px);height: 1px;margin: -1px;overflow: hidden;padding: 0;position: absolute;width: 1px;}#sk-container-id-11 div.sk-estimator {font-family: monospace;background-color: #f0f8ff;border: 1px dotted black;border-radius: 0.25em;box-sizing: border-box;margin-bottom: 0.5em;}#sk-container-id-11 div.sk-estimator:hover {background-color: #d4ebff;}#sk-container-id-11 div.sk-parallel-item::after {content: \"\";width: 100%;border-bottom: 1px solid gray;flex-grow: 1;}#sk-container-id-11 div.sk-label:hover label.sk-toggleable__label {background-color: #d4ebff;}#sk-container-id-11 div.sk-serial::before {content: \"\";position: absolute;border-left: 1px solid gray;box-sizing: border-box;top: 0;bottom: 0;left: 50%;z-index: 0;}#sk-container-id-11 div.sk-serial {display: flex;flex-direction: column;align-items: center;background-color: white;padding-right: 0.2em;padding-left: 0.2em;position: relative;}#sk-container-id-11 div.sk-item {position: relative;z-index: 1;}#sk-container-id-11 div.sk-parallel {display: flex;align-items: stretch;justify-content: center;background-color: white;position: relative;}#sk-container-id-11 div.sk-item::before, #sk-container-id-11 div.sk-parallel-item::before {content: \"\";position: absolute;border-left: 1px solid gray;box-sizing: border-box;top: 0;bottom: 0;left: 50%;z-index: -1;}#sk-container-id-11 div.sk-parallel-item {display: flex;flex-direction: column;z-index: 1;position: relative;background-color: white;}#sk-container-id-11 div.sk-parallel-item:first-child::after {align-self: flex-end;width: 50%;}#sk-container-id-11 div.sk-parallel-item:last-child::after {align-self: flex-start;width: 50%;}#sk-container-id-11 div.sk-parallel-item:only-child::after {width: 0;}#sk-container-id-11 div.sk-dashed-wrapped {border: 1px dashed gray;margin: 0 0.4em 0.5em 0.4em;box-sizing: border-box;padding-bottom: 0.4em;background-color: white;}#sk-container-id-11 div.sk-label label {font-family: monospace;font-weight: bold;display: inline-block;line-height: 1.2em;}#sk-container-id-11 div.sk-label-container {text-align: center;}#sk-container-id-11 div.sk-container {/* jupyter's `normalize.less` sets `[hidden] { display: none; }` but bootstrap.min.css set `[hidden] { display: none !important; }` so we also need the `!important` here to be able to override the default hidden behavior on the sphinx rendered scikit-learn.org. See: https://github.com/scikit-learn/scikit-learn/issues/21755 */display: inline-block !important;position: relative;}#sk-container-id-11 div.sk-text-repr-fallback {display: none;}</style><div id=\"sk-container-id-11\" class=\"sk-top-container\"><div class=\"sk-text-repr-fallback\"><pre>MLPClassifier()</pre><b>In a Jupyter environment, please rerun this cell to show the HTML representation or trust the notebook. <br />On GitHub, the HTML representation is unable to render, please try loading this page with nbviewer.org.</b></div><div class=\"sk-container\" hidden><div class=\"sk-item\"><div class=\"sk-estimator sk-toggleable\"><input class=\"sk-toggleable__control sk-hidden--visually\" id=\"sk-estimator-id-17\" type=\"checkbox\" checked><label for=\"sk-estimator-id-17\" class=\"sk-toggleable__label sk-toggleable__label-arrow\">MLPClassifier</label><div class=\"sk-toggleable__content\"><pre>MLPClassifier()</pre></div></div></div></div></div>"
      ],
      "text/plain": [
       "MLPClassifier()"
      ]
     },
     "execution_count": 81,
     "metadata": {},
     "output_type": "execute_result"
    }
   ],
   "source": [
    "mlpc"
   ]
  },
  {
   "cell_type": "code",
   "execution_count": 82,
   "metadata": {},
   "outputs": [],
   "source": [
    "mlpc_params = {\"alpha\": [0.1, 0.01, 0.02, 0.005, 0.0001,0.00001],\n",
    "              \"hidden_layer_sizes\": [(10,10,10),\n",
    "                                     (100,100,100),\n",
    "                                     (100,100),\n",
    "                                     (3,5), \n",
    "                                     (5, 3)],\n",
    "              \"solver\" : [\"lbfgs\",\"adam\",\"sgd\"],\n",
    "              \"activation\": [\"relu\",\"logistic\"]}\n"
   ]
  },
  {
   "cell_type": "code",
   "execution_count": 83,
   "metadata": {},
   "outputs": [
    {
     "name": "stdout",
     "output_type": "stream",
     "text": [
      "Fitting 10 folds for each of 180 candidates, totalling 1800 fits\n"
     ]
    },
    {
     "data": {
      "text/html": [
       "<style>#sk-container-id-12 {color: black;}#sk-container-id-12 pre{padding: 0;}#sk-container-id-12 div.sk-toggleable {background-color: white;}#sk-container-id-12 label.sk-toggleable__label {cursor: pointer;display: block;width: 100%;margin-bottom: 0;padding: 0.3em;box-sizing: border-box;text-align: center;}#sk-container-id-12 label.sk-toggleable__label-arrow:before {content: \"▸\";float: left;margin-right: 0.25em;color: #696969;}#sk-container-id-12 label.sk-toggleable__label-arrow:hover:before {color: black;}#sk-container-id-12 div.sk-estimator:hover label.sk-toggleable__label-arrow:before {color: black;}#sk-container-id-12 div.sk-toggleable__content {max-height: 0;max-width: 0;overflow: hidden;text-align: left;background-color: #f0f8ff;}#sk-container-id-12 div.sk-toggleable__content pre {margin: 0.2em;color: black;border-radius: 0.25em;background-color: #f0f8ff;}#sk-container-id-12 input.sk-toggleable__control:checked~div.sk-toggleable__content {max-height: 200px;max-width: 100%;overflow: auto;}#sk-container-id-12 input.sk-toggleable__control:checked~label.sk-toggleable__label-arrow:before {content: \"▾\";}#sk-container-id-12 div.sk-estimator input.sk-toggleable__control:checked~label.sk-toggleable__label {background-color: #d4ebff;}#sk-container-id-12 div.sk-label input.sk-toggleable__control:checked~label.sk-toggleable__label {background-color: #d4ebff;}#sk-container-id-12 input.sk-hidden--visually {border: 0;clip: rect(1px 1px 1px 1px);clip: rect(1px, 1px, 1px, 1px);height: 1px;margin: -1px;overflow: hidden;padding: 0;position: absolute;width: 1px;}#sk-container-id-12 div.sk-estimator {font-family: monospace;background-color: #f0f8ff;border: 1px dotted black;border-radius: 0.25em;box-sizing: border-box;margin-bottom: 0.5em;}#sk-container-id-12 div.sk-estimator:hover {background-color: #d4ebff;}#sk-container-id-12 div.sk-parallel-item::after {content: \"\";width: 100%;border-bottom: 1px solid gray;flex-grow: 1;}#sk-container-id-12 div.sk-label:hover label.sk-toggleable__label {background-color: #d4ebff;}#sk-container-id-12 div.sk-serial::before {content: \"\";position: absolute;border-left: 1px solid gray;box-sizing: border-box;top: 0;bottom: 0;left: 50%;z-index: 0;}#sk-container-id-12 div.sk-serial {display: flex;flex-direction: column;align-items: center;background-color: white;padding-right: 0.2em;padding-left: 0.2em;position: relative;}#sk-container-id-12 div.sk-item {position: relative;z-index: 1;}#sk-container-id-12 div.sk-parallel {display: flex;align-items: stretch;justify-content: center;background-color: white;position: relative;}#sk-container-id-12 div.sk-item::before, #sk-container-id-12 div.sk-parallel-item::before {content: \"\";position: absolute;border-left: 1px solid gray;box-sizing: border-box;top: 0;bottom: 0;left: 50%;z-index: -1;}#sk-container-id-12 div.sk-parallel-item {display: flex;flex-direction: column;z-index: 1;position: relative;background-color: white;}#sk-container-id-12 div.sk-parallel-item:first-child::after {align-self: flex-end;width: 50%;}#sk-container-id-12 div.sk-parallel-item:last-child::after {align-self: flex-start;width: 50%;}#sk-container-id-12 div.sk-parallel-item:only-child::after {width: 0;}#sk-container-id-12 div.sk-dashed-wrapped {border: 1px dashed gray;margin: 0 0.4em 0.5em 0.4em;box-sizing: border-box;padding-bottom: 0.4em;background-color: white;}#sk-container-id-12 div.sk-label label {font-family: monospace;font-weight: bold;display: inline-block;line-height: 1.2em;}#sk-container-id-12 div.sk-label-container {text-align: center;}#sk-container-id-12 div.sk-container {/* jupyter's `normalize.less` sets `[hidden] { display: none; }` but bootstrap.min.css set `[hidden] { display: none !important; }` so we also need the `!important` here to be able to override the default hidden behavior on the sphinx rendered scikit-learn.org. See: https://github.com/scikit-learn/scikit-learn/issues/21755 */display: inline-block !important;position: relative;}#sk-container-id-12 div.sk-text-repr-fallback {display: none;}</style><div id=\"sk-container-id-12\" class=\"sk-top-container\"><div class=\"sk-text-repr-fallback\"><pre>GridSearchCV(cv=10, estimator=MLPClassifier(), n_jobs=-1,\n",
       "             param_grid={&#x27;activation&#x27;: [&#x27;relu&#x27;, &#x27;logistic&#x27;],\n",
       "                         &#x27;alpha&#x27;: [0.1, 0.01, 0.02, 0.005, 0.0001, 1e-05],\n",
       "                         &#x27;hidden_layer_sizes&#x27;: [(10, 10, 10), (100, 100, 100),\n",
       "                                                (100, 100), (3, 5), (5, 3)],\n",
       "                         &#x27;solver&#x27;: [&#x27;lbfgs&#x27;, &#x27;adam&#x27;, &#x27;sgd&#x27;]},\n",
       "             verbose=2)</pre><b>In a Jupyter environment, please rerun this cell to show the HTML representation or trust the notebook. <br />On GitHub, the HTML representation is unable to render, please try loading this page with nbviewer.org.</b></div><div class=\"sk-container\" hidden><div class=\"sk-item sk-dashed-wrapped\"><div class=\"sk-label-container\"><div class=\"sk-label sk-toggleable\"><input class=\"sk-toggleable__control sk-hidden--visually\" id=\"sk-estimator-id-18\" type=\"checkbox\" ><label for=\"sk-estimator-id-18\" class=\"sk-toggleable__label sk-toggleable__label-arrow\">GridSearchCV</label><div class=\"sk-toggleable__content\"><pre>GridSearchCV(cv=10, estimator=MLPClassifier(), n_jobs=-1,\n",
       "             param_grid={&#x27;activation&#x27;: [&#x27;relu&#x27;, &#x27;logistic&#x27;],\n",
       "                         &#x27;alpha&#x27;: [0.1, 0.01, 0.02, 0.005, 0.0001, 1e-05],\n",
       "                         &#x27;hidden_layer_sizes&#x27;: [(10, 10, 10), (100, 100, 100),\n",
       "                                                (100, 100), (3, 5), (5, 3)],\n",
       "                         &#x27;solver&#x27;: [&#x27;lbfgs&#x27;, &#x27;adam&#x27;, &#x27;sgd&#x27;]},\n",
       "             verbose=2)</pre></div></div></div><div class=\"sk-parallel\"><div class=\"sk-parallel-item\"><div class=\"sk-item\"><div class=\"sk-label-container\"><div class=\"sk-label sk-toggleable\"><input class=\"sk-toggleable__control sk-hidden--visually\" id=\"sk-estimator-id-19\" type=\"checkbox\" ><label for=\"sk-estimator-id-19\" class=\"sk-toggleable__label sk-toggleable__label-arrow\">estimator: MLPClassifier</label><div class=\"sk-toggleable__content\"><pre>MLPClassifier()</pre></div></div></div><div class=\"sk-serial\"><div class=\"sk-item\"><div class=\"sk-estimator sk-toggleable\"><input class=\"sk-toggleable__control sk-hidden--visually\" id=\"sk-estimator-id-20\" type=\"checkbox\" ><label for=\"sk-estimator-id-20\" class=\"sk-toggleable__label sk-toggleable__label-arrow\">MLPClassifier</label><div class=\"sk-toggleable__content\"><pre>MLPClassifier()</pre></div></div></div></div></div></div></div></div></div></div>"
      ],
      "text/plain": [
       "GridSearchCV(cv=10, estimator=MLPClassifier(), n_jobs=-1,\n",
       "             param_grid={'activation': ['relu', 'logistic'],\n",
       "                         'alpha': [0.1, 0.01, 0.02, 0.005, 0.0001, 1e-05],\n",
       "                         'hidden_layer_sizes': [(10, 10, 10), (100, 100, 100),\n",
       "                                                (100, 100), (3, 5), (5, 3)],\n",
       "                         'solver': ['lbfgs', 'adam', 'sgd']},\n",
       "             verbose=2)"
      ]
     },
     "execution_count": 83,
     "metadata": {},
     "output_type": "execute_result"
    }
   ],
   "source": [
    "mlpc = MLPClassifier()\n",
    "mlpc_cv_model = GridSearchCV(mlpc, mlpc_params, \n",
    "                         cv = 10, \n",
    "                         n_jobs = -1,\n",
    "                         verbose = 2)\n",
    "\n",
    "mlpc_cv_model.fit(X_train_scaled, y_train)"
   ]
  },
  {
   "cell_type": "code",
   "execution_count": 84,
   "metadata": {},
   "outputs": [
    {
     "name": "stdout",
     "output_type": "stream",
     "text": [
      "En iyi parametreler: {'activation': 'logistic', 'alpha': 0.005, 'hidden_layer_sizes': (100, 100), 'solver': 'adam'}\n"
     ]
    }
   ],
   "source": [
    "print(\"En iyi parametreler: \" + str(mlpc_cv_model.best_params_))"
   ]
  },
  {
   "cell_type": "code",
   "execution_count": 85,
   "metadata": {},
   "outputs": [],
   "source": [
    "mlpc_tuned = MLPClassifier(activation = \"logistic\", \n",
    "                           alpha = 0.1, \n",
    "                           hidden_layer_sizes = (100, 100, 100),\n",
    "                          solver = \"adam\")"
   ]
  },
  {
   "cell_type": "code",
   "execution_count": 86,
   "metadata": {},
   "outputs": [
    {
     "data": {
      "text/html": [
       "<style>#sk-container-id-13 {color: black;}#sk-container-id-13 pre{padding: 0;}#sk-container-id-13 div.sk-toggleable {background-color: white;}#sk-container-id-13 label.sk-toggleable__label {cursor: pointer;display: block;width: 100%;margin-bottom: 0;padding: 0.3em;box-sizing: border-box;text-align: center;}#sk-container-id-13 label.sk-toggleable__label-arrow:before {content: \"▸\";float: left;margin-right: 0.25em;color: #696969;}#sk-container-id-13 label.sk-toggleable__label-arrow:hover:before {color: black;}#sk-container-id-13 div.sk-estimator:hover label.sk-toggleable__label-arrow:before {color: black;}#sk-container-id-13 div.sk-toggleable__content {max-height: 0;max-width: 0;overflow: hidden;text-align: left;background-color: #f0f8ff;}#sk-container-id-13 div.sk-toggleable__content pre {margin: 0.2em;color: black;border-radius: 0.25em;background-color: #f0f8ff;}#sk-container-id-13 input.sk-toggleable__control:checked~div.sk-toggleable__content {max-height: 200px;max-width: 100%;overflow: auto;}#sk-container-id-13 input.sk-toggleable__control:checked~label.sk-toggleable__label-arrow:before {content: \"▾\";}#sk-container-id-13 div.sk-estimator input.sk-toggleable__control:checked~label.sk-toggleable__label {background-color: #d4ebff;}#sk-container-id-13 div.sk-label input.sk-toggleable__control:checked~label.sk-toggleable__label {background-color: #d4ebff;}#sk-container-id-13 input.sk-hidden--visually {border: 0;clip: rect(1px 1px 1px 1px);clip: rect(1px, 1px, 1px, 1px);height: 1px;margin: -1px;overflow: hidden;padding: 0;position: absolute;width: 1px;}#sk-container-id-13 div.sk-estimator {font-family: monospace;background-color: #f0f8ff;border: 1px dotted black;border-radius: 0.25em;box-sizing: border-box;margin-bottom: 0.5em;}#sk-container-id-13 div.sk-estimator:hover {background-color: #d4ebff;}#sk-container-id-13 div.sk-parallel-item::after {content: \"\";width: 100%;border-bottom: 1px solid gray;flex-grow: 1;}#sk-container-id-13 div.sk-label:hover label.sk-toggleable__label {background-color: #d4ebff;}#sk-container-id-13 div.sk-serial::before {content: \"\";position: absolute;border-left: 1px solid gray;box-sizing: border-box;top: 0;bottom: 0;left: 50%;z-index: 0;}#sk-container-id-13 div.sk-serial {display: flex;flex-direction: column;align-items: center;background-color: white;padding-right: 0.2em;padding-left: 0.2em;position: relative;}#sk-container-id-13 div.sk-item {position: relative;z-index: 1;}#sk-container-id-13 div.sk-parallel {display: flex;align-items: stretch;justify-content: center;background-color: white;position: relative;}#sk-container-id-13 div.sk-item::before, #sk-container-id-13 div.sk-parallel-item::before {content: \"\";position: absolute;border-left: 1px solid gray;box-sizing: border-box;top: 0;bottom: 0;left: 50%;z-index: -1;}#sk-container-id-13 div.sk-parallel-item {display: flex;flex-direction: column;z-index: 1;position: relative;background-color: white;}#sk-container-id-13 div.sk-parallel-item:first-child::after {align-self: flex-end;width: 50%;}#sk-container-id-13 div.sk-parallel-item:last-child::after {align-self: flex-start;width: 50%;}#sk-container-id-13 div.sk-parallel-item:only-child::after {width: 0;}#sk-container-id-13 div.sk-dashed-wrapped {border: 1px dashed gray;margin: 0 0.4em 0.5em 0.4em;box-sizing: border-box;padding-bottom: 0.4em;background-color: white;}#sk-container-id-13 div.sk-label label {font-family: monospace;font-weight: bold;display: inline-block;line-height: 1.2em;}#sk-container-id-13 div.sk-label-container {text-align: center;}#sk-container-id-13 div.sk-container {/* jupyter's `normalize.less` sets `[hidden] { display: none; }` but bootstrap.min.css set `[hidden] { display: none !important; }` so we also need the `!important` here to be able to override the default hidden behavior on the sphinx rendered scikit-learn.org. See: https://github.com/scikit-learn/scikit-learn/issues/21755 */display: inline-block !important;position: relative;}#sk-container-id-13 div.sk-text-repr-fallback {display: none;}</style><div id=\"sk-container-id-13\" class=\"sk-top-container\"><div class=\"sk-text-repr-fallback\"><pre>MLPClassifier(activation=&#x27;logistic&#x27;, alpha=0.1,\n",
       "              hidden_layer_sizes=(100, 100, 100))</pre><b>In a Jupyter environment, please rerun this cell to show the HTML representation or trust the notebook. <br />On GitHub, the HTML representation is unable to render, please try loading this page with nbviewer.org.</b></div><div class=\"sk-container\" hidden><div class=\"sk-item\"><div class=\"sk-estimator sk-toggleable\"><input class=\"sk-toggleable__control sk-hidden--visually\" id=\"sk-estimator-id-21\" type=\"checkbox\" checked><label for=\"sk-estimator-id-21\" class=\"sk-toggleable__label sk-toggleable__label-arrow\">MLPClassifier</label><div class=\"sk-toggleable__content\"><pre>MLPClassifier(activation=&#x27;logistic&#x27;, alpha=0.1,\n",
       "              hidden_layer_sizes=(100, 100, 100))</pre></div></div></div></div></div>"
      ],
      "text/plain": [
       "MLPClassifier(activation='logistic', alpha=0.1,\n",
       "              hidden_layer_sizes=(100, 100, 100))"
      ]
     },
     "execution_count": 86,
     "metadata": {},
     "output_type": "execute_result"
    }
   ],
   "source": [
    "mlpc_tuned.fit(X_train_scaled, y_train)"
   ]
  },
  {
   "cell_type": "code",
   "execution_count": 87,
   "metadata": {},
   "outputs": [
    {
     "data": {
      "text/plain": [
       "0.7402597402597403"
      ]
     },
     "execution_count": 87,
     "metadata": {},
     "output_type": "execute_result"
    }
   ],
   "source": [
    "y_pred = mlpc_tuned.predict(X_test_scaled)\n",
    "accuracy_score(y_test, y_pred)"
   ]
  },
  {
   "cell_type": "markdown",
   "metadata": {},
   "source": [
    "# CART"
   ]
  },
  {
   "cell_type": "markdown",
   "metadata": {},
   "source": [
    "## Model & Tahmin"
   ]
  },
  {
   "cell_type": "code",
   "execution_count": 88,
   "metadata": {},
   "outputs": [],
   "source": [
    "df = diabetes.copy()\n",
    "df = df.dropna()\n",
    "y = df[\"Outcome\"]\n",
    "X = df.drop(['Outcome'], axis=1)\n",
    "#X = df[\"Pregnancies\"]\n",
    "X = pd.DataFrame(X)\n",
    "X_train, X_test, y_train, y_test = train_test_split(X, y, \n",
    "                                                    test_size=0.30, \n",
    "                                                    random_state=42)"
   ]
  },
  {
   "cell_type": "code",
   "execution_count": 89,
   "metadata": {},
   "outputs": [],
   "source": [
    "from sklearn.tree import DecisionTreeClassifier"
   ]
  },
  {
   "cell_type": "code",
   "execution_count": 90,
   "metadata": {},
   "outputs": [],
   "source": [
    "cart = DecisionTreeClassifier()\n",
    "cart_model = cart.fit(X_train, y_train)"
   ]
  },
  {
   "cell_type": "code",
   "execution_count": 91,
   "metadata": {},
   "outputs": [
    {
     "data": {
      "text/html": [
       "<style>#sk-container-id-14 {color: black;}#sk-container-id-14 pre{padding: 0;}#sk-container-id-14 div.sk-toggleable {background-color: white;}#sk-container-id-14 label.sk-toggleable__label {cursor: pointer;display: block;width: 100%;margin-bottom: 0;padding: 0.3em;box-sizing: border-box;text-align: center;}#sk-container-id-14 label.sk-toggleable__label-arrow:before {content: \"▸\";float: left;margin-right: 0.25em;color: #696969;}#sk-container-id-14 label.sk-toggleable__label-arrow:hover:before {color: black;}#sk-container-id-14 div.sk-estimator:hover label.sk-toggleable__label-arrow:before {color: black;}#sk-container-id-14 div.sk-toggleable__content {max-height: 0;max-width: 0;overflow: hidden;text-align: left;background-color: #f0f8ff;}#sk-container-id-14 div.sk-toggleable__content pre {margin: 0.2em;color: black;border-radius: 0.25em;background-color: #f0f8ff;}#sk-container-id-14 input.sk-toggleable__control:checked~div.sk-toggleable__content {max-height: 200px;max-width: 100%;overflow: auto;}#sk-container-id-14 input.sk-toggleable__control:checked~label.sk-toggleable__label-arrow:before {content: \"▾\";}#sk-container-id-14 div.sk-estimator input.sk-toggleable__control:checked~label.sk-toggleable__label {background-color: #d4ebff;}#sk-container-id-14 div.sk-label input.sk-toggleable__control:checked~label.sk-toggleable__label {background-color: #d4ebff;}#sk-container-id-14 input.sk-hidden--visually {border: 0;clip: rect(1px 1px 1px 1px);clip: rect(1px, 1px, 1px, 1px);height: 1px;margin: -1px;overflow: hidden;padding: 0;position: absolute;width: 1px;}#sk-container-id-14 div.sk-estimator {font-family: monospace;background-color: #f0f8ff;border: 1px dotted black;border-radius: 0.25em;box-sizing: border-box;margin-bottom: 0.5em;}#sk-container-id-14 div.sk-estimator:hover {background-color: #d4ebff;}#sk-container-id-14 div.sk-parallel-item::after {content: \"\";width: 100%;border-bottom: 1px solid gray;flex-grow: 1;}#sk-container-id-14 div.sk-label:hover label.sk-toggleable__label {background-color: #d4ebff;}#sk-container-id-14 div.sk-serial::before {content: \"\";position: absolute;border-left: 1px solid gray;box-sizing: border-box;top: 0;bottom: 0;left: 50%;z-index: 0;}#sk-container-id-14 div.sk-serial {display: flex;flex-direction: column;align-items: center;background-color: white;padding-right: 0.2em;padding-left: 0.2em;position: relative;}#sk-container-id-14 div.sk-item {position: relative;z-index: 1;}#sk-container-id-14 div.sk-parallel {display: flex;align-items: stretch;justify-content: center;background-color: white;position: relative;}#sk-container-id-14 div.sk-item::before, #sk-container-id-14 div.sk-parallel-item::before {content: \"\";position: absolute;border-left: 1px solid gray;box-sizing: border-box;top: 0;bottom: 0;left: 50%;z-index: -1;}#sk-container-id-14 div.sk-parallel-item {display: flex;flex-direction: column;z-index: 1;position: relative;background-color: white;}#sk-container-id-14 div.sk-parallel-item:first-child::after {align-self: flex-end;width: 50%;}#sk-container-id-14 div.sk-parallel-item:last-child::after {align-self: flex-start;width: 50%;}#sk-container-id-14 div.sk-parallel-item:only-child::after {width: 0;}#sk-container-id-14 div.sk-dashed-wrapped {border: 1px dashed gray;margin: 0 0.4em 0.5em 0.4em;box-sizing: border-box;padding-bottom: 0.4em;background-color: white;}#sk-container-id-14 div.sk-label label {font-family: monospace;font-weight: bold;display: inline-block;line-height: 1.2em;}#sk-container-id-14 div.sk-label-container {text-align: center;}#sk-container-id-14 div.sk-container {/* jupyter's `normalize.less` sets `[hidden] { display: none; }` but bootstrap.min.css set `[hidden] { display: none !important; }` so we also need the `!important` here to be able to override the default hidden behavior on the sphinx rendered scikit-learn.org. See: https://github.com/scikit-learn/scikit-learn/issues/21755 */display: inline-block !important;position: relative;}#sk-container-id-14 div.sk-text-repr-fallback {display: none;}</style><div id=\"sk-container-id-14\" class=\"sk-top-container\"><div class=\"sk-text-repr-fallback\"><pre>DecisionTreeClassifier()</pre><b>In a Jupyter environment, please rerun this cell to show the HTML representation or trust the notebook. <br />On GitHub, the HTML representation is unable to render, please try loading this page with nbviewer.org.</b></div><div class=\"sk-container\" hidden><div class=\"sk-item\"><div class=\"sk-estimator sk-toggleable\"><input class=\"sk-toggleable__control sk-hidden--visually\" id=\"sk-estimator-id-22\" type=\"checkbox\" checked><label for=\"sk-estimator-id-22\" class=\"sk-toggleable__label sk-toggleable__label-arrow\">DecisionTreeClassifier</label><div class=\"sk-toggleable__content\"><pre>DecisionTreeClassifier()</pre></div></div></div></div></div>"
      ],
      "text/plain": [
       "DecisionTreeClassifier()"
      ]
     },
     "execution_count": 91,
     "metadata": {},
     "output_type": "execute_result"
    }
   ],
   "source": [
    "cart_model"
   ]
  },
  {
   "cell_type": "code",
   "execution_count": 92,
   "metadata": {},
   "outputs": [
    {
     "name": "stdout",
     "output_type": "stream",
     "text": [
      "((((((0 if x[6] <= 0.671999990940094 else 1 if x[6] <= 0.6974999904632568 else\n",
      "    0) if x[5] <= 31.40000057220459 else ((0 if x[3] <= 40.5 else 1) if x[1\n",
      "    ] <= 111.5 else ((1 if x[1] <= 123.0 else 0) if x[2] <= 65.0 else 0) if\n",
      "    x[2] <= 72.0 else 1) if x[4] <= 9.0 else (0 if x[6] <= \n",
      "    0.6395000219345093 else 1 if x[6] <= 0.6759999990463257 else 0) if x[0] <=\n",
      "    4.5 else 0 if x[6] <= 0.39149999618530273 else 1) if x[5] <= \n",
      "    49.10000038146973 else 1) if x[1] <= 127.5 else 1 if x[2] <= 56.0 else \n",
      "    (0 if x[7] <= 27.5 else 0 if x[3] <= 14.5 else 1) if x[5] <= \n",
      "    30.300000190734863 else 1 if x[5] <= 32.000000953674316 else ((0 if x[5\n",
      "    ] <= 33.75 else 1) if x[0] <= 0.5 else 1 if x[5] <= 32.45000076293945 else\n",
      "    0) if x[2] <= 85.0 else 1) if x[7] <= 28.5 else (1 if x[7] <= 29.5 else\n",
      "    (1 if x[6] <= 0.4359999895095825 else 0) if x[5] <= 9.649999618530273 else\n",
      "    0 if x[1] <= 133.0 else (0 if x[6] <= 0.2420000061392784 else 1) if x[0\n",
      "    ] <= 5.0 else 0) if x[5] <= 26.949999809265137 else (1 if x[1] <= 28.5 else\n",
      "    0 if x[0] <= 9.5 else 0 if x[6] <= 0.29099999368190765 else 1 if x[4] <=\n",
      "    27.0 else 0) if x[1] <= 94.5 else ((((0 if x[6] <= 0.24950000643730164 else\n",
      "    1 if x[6] <= 0.44750000536441803 else 0) if x[5] <= 28.34999942779541 else\n",
      "    1 if x[2] <= 67.0 else 0 if x[7] <= 30.5 else ((0 if x[0] <= 5.5 else 1\n",
      "    ) if x[6] <= 0.21000000089406967 else 1 if x[6] <= 0.42249999940395355 else\n",
      "    0 if x[2] <= 81.0 else 1) if x[0] <= 9.0 else 0 if x[4] <= 57.5 else 1) if\n",
      "    x[3] <= 26.5 else ((0 if x[3] <= 29.5 else 1 if x[5] <= \n",
      "    41.19999885559082 else 0) if x[2] <= 67.0 else 0 if x[4] <= 155.0 else \n",
      "    1 if x[4] <= 288.5 else 0) if x[1] <= 127.5 else (0 if x[0] <= 12.0 else\n",
      "    1) if x[6] <= 0.3110000044107437 else 1) if x[2] <= 83.0 else ((0 if x[\n",
      "    3] <= 39.5 else 1 if x[1] <= 136.5 else 0) if x[5] <= 41.19999885559082\n",
      "     else 1) if x[4] <= 124.0 else 0 if x[3] <= 19.5 else 1) if x[6] <= \n",
      "    0.527999997138977 else ((((1 if x[3] <= 10.0 else 0) if x[0] <= 2.0 else\n",
      "    1) if x[1] <= 132.0 else 0) if x[5] <= 29.09999942779541 else 1 if x[6] <=\n",
      "    0.5479999780654907 else 0) if x[5] <= 31.600000381469727 else ((1 if x[\n",
      "    2] <= 87.0 else 1 if x[5] <= 36.64999961853027 else 0) if x[3] <= 54.5 else\n",
      "    0) if x[6] <= 1.1489999890327454 else 1 if x[7] <= 36.0 else 0) if x[1] <=\n",
      "    154.5 else (1 if x[5] <= 25.350000381469727 else 0 if x[6] <= \n",
      "    0.3684999942779541 else (0 if x[6] <= 0.9229999780654907 else 1) if x[3\n",
      "    ] <= 16.5 else 1) if x[5] <= 28.700000762939453 else (((((1 if x[6] <= \n",
      "    0.2695000022649765 else 0) if x[4] <= 180.0 else 0) if x[4] <= 457.0 else\n",
      "    1) if x[7] <= 30.5 else 1) if x[6] <= 0.3044999986886978 else (1 if x[1\n",
      "    ] <= 164.5 else 0) if x[1] <= 165.5 else 1) if x[6] <= \n",
      "    1.4275000095367432 else 1 if x[7] <= 28.0 else 0)\n",
      "\n"
     ]
    }
   ],
   "source": [
    "#!pip install skompiler\n",
    "from skompiler import skompile\n",
    "print(skompile(cart_model.predict).to(\"python/code\"))"
   ]
  },
  {
   "cell_type": "code",
   "execution_count": 93,
   "metadata": {},
   "outputs": [],
   "source": [
    "x = [9]"
   ]
  },
  {
   "cell_type": "code",
   "execution_count": 94,
   "metadata": {},
   "outputs": [
    {
     "data": {
      "text/plain": [
       "1"
      ]
     },
     "execution_count": 94,
     "metadata": {},
     "output_type": "execute_result"
    }
   ],
   "source": [
    "((0 if x[0] <= 2.5 else 0) if x[0] <= 6.5 else 1 if x[0] <= 13.5 else 1)"
   ]
  },
  {
   "cell_type": "code",
   "execution_count": 95,
   "metadata": {},
   "outputs": [
    {
     "data": {
      "text/plain": [
       "0.696969696969697"
      ]
     },
     "execution_count": 95,
     "metadata": {},
     "output_type": "execute_result"
    }
   ],
   "source": [
    "y_pred = cart_model.predict(X_test)\n",
    "accuracy_score(y_test, y_pred)"
   ]
  },
  {
   "cell_type": "markdown",
   "metadata": {},
   "source": [
    "## Model Tuning"
   ]
  },
  {
   "cell_type": "code",
   "execution_count": 96,
   "metadata": {},
   "outputs": [
    {
     "data": {
      "text/html": [
       "<style>#sk-container-id-15 {color: black;}#sk-container-id-15 pre{padding: 0;}#sk-container-id-15 div.sk-toggleable {background-color: white;}#sk-container-id-15 label.sk-toggleable__label {cursor: pointer;display: block;width: 100%;margin-bottom: 0;padding: 0.3em;box-sizing: border-box;text-align: center;}#sk-container-id-15 label.sk-toggleable__label-arrow:before {content: \"▸\";float: left;margin-right: 0.25em;color: #696969;}#sk-container-id-15 label.sk-toggleable__label-arrow:hover:before {color: black;}#sk-container-id-15 div.sk-estimator:hover label.sk-toggleable__label-arrow:before {color: black;}#sk-container-id-15 div.sk-toggleable__content {max-height: 0;max-width: 0;overflow: hidden;text-align: left;background-color: #f0f8ff;}#sk-container-id-15 div.sk-toggleable__content pre {margin: 0.2em;color: black;border-radius: 0.25em;background-color: #f0f8ff;}#sk-container-id-15 input.sk-toggleable__control:checked~div.sk-toggleable__content {max-height: 200px;max-width: 100%;overflow: auto;}#sk-container-id-15 input.sk-toggleable__control:checked~label.sk-toggleable__label-arrow:before {content: \"▾\";}#sk-container-id-15 div.sk-estimator input.sk-toggleable__control:checked~label.sk-toggleable__label {background-color: #d4ebff;}#sk-container-id-15 div.sk-label input.sk-toggleable__control:checked~label.sk-toggleable__label {background-color: #d4ebff;}#sk-container-id-15 input.sk-hidden--visually {border: 0;clip: rect(1px 1px 1px 1px);clip: rect(1px, 1px, 1px, 1px);height: 1px;margin: -1px;overflow: hidden;padding: 0;position: absolute;width: 1px;}#sk-container-id-15 div.sk-estimator {font-family: monospace;background-color: #f0f8ff;border: 1px dotted black;border-radius: 0.25em;box-sizing: border-box;margin-bottom: 0.5em;}#sk-container-id-15 div.sk-estimator:hover {background-color: #d4ebff;}#sk-container-id-15 div.sk-parallel-item::after {content: \"\";width: 100%;border-bottom: 1px solid gray;flex-grow: 1;}#sk-container-id-15 div.sk-label:hover label.sk-toggleable__label {background-color: #d4ebff;}#sk-container-id-15 div.sk-serial::before {content: \"\";position: absolute;border-left: 1px solid gray;box-sizing: border-box;top: 0;bottom: 0;left: 50%;z-index: 0;}#sk-container-id-15 div.sk-serial {display: flex;flex-direction: column;align-items: center;background-color: white;padding-right: 0.2em;padding-left: 0.2em;position: relative;}#sk-container-id-15 div.sk-item {position: relative;z-index: 1;}#sk-container-id-15 div.sk-parallel {display: flex;align-items: stretch;justify-content: center;background-color: white;position: relative;}#sk-container-id-15 div.sk-item::before, #sk-container-id-15 div.sk-parallel-item::before {content: \"\";position: absolute;border-left: 1px solid gray;box-sizing: border-box;top: 0;bottom: 0;left: 50%;z-index: -1;}#sk-container-id-15 div.sk-parallel-item {display: flex;flex-direction: column;z-index: 1;position: relative;background-color: white;}#sk-container-id-15 div.sk-parallel-item:first-child::after {align-self: flex-end;width: 50%;}#sk-container-id-15 div.sk-parallel-item:last-child::after {align-self: flex-start;width: 50%;}#sk-container-id-15 div.sk-parallel-item:only-child::after {width: 0;}#sk-container-id-15 div.sk-dashed-wrapped {border: 1px dashed gray;margin: 0 0.4em 0.5em 0.4em;box-sizing: border-box;padding-bottom: 0.4em;background-color: white;}#sk-container-id-15 div.sk-label label {font-family: monospace;font-weight: bold;display: inline-block;line-height: 1.2em;}#sk-container-id-15 div.sk-label-container {text-align: center;}#sk-container-id-15 div.sk-container {/* jupyter's `normalize.less` sets `[hidden] { display: none; }` but bootstrap.min.css set `[hidden] { display: none !important; }` so we also need the `!important` here to be able to override the default hidden behavior on the sphinx rendered scikit-learn.org. See: https://github.com/scikit-learn/scikit-learn/issues/21755 */display: inline-block !important;position: relative;}#sk-container-id-15 div.sk-text-repr-fallback {display: none;}</style><div id=\"sk-container-id-15\" class=\"sk-top-container\"><div class=\"sk-text-repr-fallback\"><pre>DecisionTreeClassifier()</pre><b>In a Jupyter environment, please rerun this cell to show the HTML representation or trust the notebook. <br />On GitHub, the HTML representation is unable to render, please try loading this page with nbviewer.org.</b></div><div class=\"sk-container\" hidden><div class=\"sk-item\"><div class=\"sk-estimator sk-toggleable\"><input class=\"sk-toggleable__control sk-hidden--visually\" id=\"sk-estimator-id-23\" type=\"checkbox\" checked><label for=\"sk-estimator-id-23\" class=\"sk-toggleable__label sk-toggleable__label-arrow\">DecisionTreeClassifier</label><div class=\"sk-toggleable__content\"><pre>DecisionTreeClassifier()</pre></div></div></div></div></div>"
      ],
      "text/plain": [
       "DecisionTreeClassifier()"
      ]
     },
     "execution_count": 96,
     "metadata": {},
     "output_type": "execute_result"
    }
   ],
   "source": [
    "cart_model"
   ]
  },
  {
   "cell_type": "code",
   "execution_count": 97,
   "metadata": {},
   "outputs": [
    {
     "data": {
      "text/html": [
       "<style>#sk-container-id-16 {color: black;}#sk-container-id-16 pre{padding: 0;}#sk-container-id-16 div.sk-toggleable {background-color: white;}#sk-container-id-16 label.sk-toggleable__label {cursor: pointer;display: block;width: 100%;margin-bottom: 0;padding: 0.3em;box-sizing: border-box;text-align: center;}#sk-container-id-16 label.sk-toggleable__label-arrow:before {content: \"▸\";float: left;margin-right: 0.25em;color: #696969;}#sk-container-id-16 label.sk-toggleable__label-arrow:hover:before {color: black;}#sk-container-id-16 div.sk-estimator:hover label.sk-toggleable__label-arrow:before {color: black;}#sk-container-id-16 div.sk-toggleable__content {max-height: 0;max-width: 0;overflow: hidden;text-align: left;background-color: #f0f8ff;}#sk-container-id-16 div.sk-toggleable__content pre {margin: 0.2em;color: black;border-radius: 0.25em;background-color: #f0f8ff;}#sk-container-id-16 input.sk-toggleable__control:checked~div.sk-toggleable__content {max-height: 200px;max-width: 100%;overflow: auto;}#sk-container-id-16 input.sk-toggleable__control:checked~label.sk-toggleable__label-arrow:before {content: \"▾\";}#sk-container-id-16 div.sk-estimator input.sk-toggleable__control:checked~label.sk-toggleable__label {background-color: #d4ebff;}#sk-container-id-16 div.sk-label input.sk-toggleable__control:checked~label.sk-toggleable__label {background-color: #d4ebff;}#sk-container-id-16 input.sk-hidden--visually {border: 0;clip: rect(1px 1px 1px 1px);clip: rect(1px, 1px, 1px, 1px);height: 1px;margin: -1px;overflow: hidden;padding: 0;position: absolute;width: 1px;}#sk-container-id-16 div.sk-estimator {font-family: monospace;background-color: #f0f8ff;border: 1px dotted black;border-radius: 0.25em;box-sizing: border-box;margin-bottom: 0.5em;}#sk-container-id-16 div.sk-estimator:hover {background-color: #d4ebff;}#sk-container-id-16 div.sk-parallel-item::after {content: \"\";width: 100%;border-bottom: 1px solid gray;flex-grow: 1;}#sk-container-id-16 div.sk-label:hover label.sk-toggleable__label {background-color: #d4ebff;}#sk-container-id-16 div.sk-serial::before {content: \"\";position: absolute;border-left: 1px solid gray;box-sizing: border-box;top: 0;bottom: 0;left: 50%;z-index: 0;}#sk-container-id-16 div.sk-serial {display: flex;flex-direction: column;align-items: center;background-color: white;padding-right: 0.2em;padding-left: 0.2em;position: relative;}#sk-container-id-16 div.sk-item {position: relative;z-index: 1;}#sk-container-id-16 div.sk-parallel {display: flex;align-items: stretch;justify-content: center;background-color: white;position: relative;}#sk-container-id-16 div.sk-item::before, #sk-container-id-16 div.sk-parallel-item::before {content: \"\";position: absolute;border-left: 1px solid gray;box-sizing: border-box;top: 0;bottom: 0;left: 50%;z-index: -1;}#sk-container-id-16 div.sk-parallel-item {display: flex;flex-direction: column;z-index: 1;position: relative;background-color: white;}#sk-container-id-16 div.sk-parallel-item:first-child::after {align-self: flex-end;width: 50%;}#sk-container-id-16 div.sk-parallel-item:last-child::after {align-self: flex-start;width: 50%;}#sk-container-id-16 div.sk-parallel-item:only-child::after {width: 0;}#sk-container-id-16 div.sk-dashed-wrapped {border: 1px dashed gray;margin: 0 0.4em 0.5em 0.4em;box-sizing: border-box;padding-bottom: 0.4em;background-color: white;}#sk-container-id-16 div.sk-label label {font-family: monospace;font-weight: bold;display: inline-block;line-height: 1.2em;}#sk-container-id-16 div.sk-label-container {text-align: center;}#sk-container-id-16 div.sk-container {/* jupyter's `normalize.less` sets `[hidden] { display: none; }` but bootstrap.min.css set `[hidden] { display: none !important; }` so we also need the `!important` here to be able to override the default hidden behavior on the sphinx rendered scikit-learn.org. See: https://github.com/scikit-learn/scikit-learn/issues/21755 */display: inline-block !important;position: relative;}#sk-container-id-16 div.sk-text-repr-fallback {display: none;}</style><div id=\"sk-container-id-16\" class=\"sk-top-container\"><div class=\"sk-text-repr-fallback\"><pre>DecisionTreeClassifier()</pre><b>In a Jupyter environment, please rerun this cell to show the HTML representation or trust the notebook. <br />On GitHub, the HTML representation is unable to render, please try loading this page with nbviewer.org.</b></div><div class=\"sk-container\" hidden><div class=\"sk-item\"><div class=\"sk-estimator sk-toggleable\"><input class=\"sk-toggleable__control sk-hidden--visually\" id=\"sk-estimator-id-24\" type=\"checkbox\" checked><label for=\"sk-estimator-id-24\" class=\"sk-toggleable__label sk-toggleable__label-arrow\">DecisionTreeClassifier</label><div class=\"sk-toggleable__content\"><pre>DecisionTreeClassifier()</pre></div></div></div></div></div>"
      ],
      "text/plain": [
       "DecisionTreeClassifier()"
      ]
     },
     "execution_count": 97,
     "metadata": {},
     "output_type": "execute_result"
    }
   ],
   "source": [
    "cart_model"
   ]
  },
  {
   "cell_type": "code",
   "execution_count": 98,
   "metadata": {},
   "outputs": [],
   "source": [
    "cart_grid = {\"max_depth\": range(1,10),\n",
    "            \"min_samples_split\" : list(range(2,50)) }"
   ]
  },
  {
   "cell_type": "code",
   "execution_count": 99,
   "metadata": {},
   "outputs": [
    {
     "name": "stdout",
     "output_type": "stream",
     "text": [
      "Fitting 10 folds for each of 432 candidates, totalling 4320 fits\n"
     ]
    }
   ],
   "source": [
    "cart = tree.DecisionTreeClassifier()\n",
    "cart_cv = GridSearchCV(cart, cart_grid, cv = 10, n_jobs = -1, verbose = 2)\n",
    "cart_cv_model = cart_cv.fit(X_train, y_train)"
   ]
  },
  {
   "cell_type": "code",
   "execution_count": 100,
   "metadata": {},
   "outputs": [
    {
     "name": "stdout",
     "output_type": "stream",
     "text": [
      "En iyi parametreler: {'max_depth': 5, 'min_samples_split': 19}\n"
     ]
    }
   ],
   "source": [
    "print(\"En iyi parametreler: \" + str(cart_cv_model.best_params_))"
   ]
  },
  {
   "cell_type": "code",
   "execution_count": 101,
   "metadata": {},
   "outputs": [],
   "source": [
    "#final"
   ]
  },
  {
   "cell_type": "code",
   "execution_count": 102,
   "metadata": {},
   "outputs": [],
   "source": [
    "cart = tree.DecisionTreeClassifier(max_depth = 5, min_samples_split = 19)\n",
    "cart_tuned = cart.fit(X_train, y_train)"
   ]
  },
  {
   "cell_type": "code",
   "execution_count": 103,
   "metadata": {},
   "outputs": [
    {
     "data": {
      "text/plain": [
       "0.7532467532467533"
      ]
     },
     "execution_count": 103,
     "metadata": {},
     "output_type": "execute_result"
    }
   ],
   "source": [
    "y_pred = cart_tuned.predict(X_test)\n",
    "accuracy_score(y_test, y_pred)"
   ]
  },
  {
   "cell_type": "markdown",
   "metadata": {},
   "source": [
    "# Random Forests"
   ]
  },
  {
   "cell_type": "code",
   "execution_count": 104,
   "metadata": {},
   "outputs": [],
   "source": [
    "df = diabetes.copy()\n",
    "df = df.dropna()\n",
    "y = df[\"Outcome\"]\n",
    "X = df.drop(['Outcome'], axis=1)\n",
    "#X = df[\"Pregnancies\"]\n",
    "X = pd.DataFrame(X)\n",
    "X_train, X_test, y_train, y_test = train_test_split(X, y, \n",
    "                                                    test_size=0.30, \n",
    "                                                    random_state=42)"
   ]
  },
  {
   "cell_type": "code",
   "execution_count": 105,
   "metadata": {},
   "outputs": [],
   "source": [
    "from sklearn.ensemble import RandomForestClassifier"
   ]
  },
  {
   "cell_type": "code",
   "execution_count": 106,
   "metadata": {},
   "outputs": [],
   "source": [
    "rf_model = RandomForestClassifier().fit(X_train, y_train)"
   ]
  },
  {
   "cell_type": "code",
   "execution_count": 107,
   "metadata": {},
   "outputs": [
    {
     "data": {
      "text/html": [
       "<style>#sk-container-id-17 {color: black;}#sk-container-id-17 pre{padding: 0;}#sk-container-id-17 div.sk-toggleable {background-color: white;}#sk-container-id-17 label.sk-toggleable__label {cursor: pointer;display: block;width: 100%;margin-bottom: 0;padding: 0.3em;box-sizing: border-box;text-align: center;}#sk-container-id-17 label.sk-toggleable__label-arrow:before {content: \"▸\";float: left;margin-right: 0.25em;color: #696969;}#sk-container-id-17 label.sk-toggleable__label-arrow:hover:before {color: black;}#sk-container-id-17 div.sk-estimator:hover label.sk-toggleable__label-arrow:before {color: black;}#sk-container-id-17 div.sk-toggleable__content {max-height: 0;max-width: 0;overflow: hidden;text-align: left;background-color: #f0f8ff;}#sk-container-id-17 div.sk-toggleable__content pre {margin: 0.2em;color: black;border-radius: 0.25em;background-color: #f0f8ff;}#sk-container-id-17 input.sk-toggleable__control:checked~div.sk-toggleable__content {max-height: 200px;max-width: 100%;overflow: auto;}#sk-container-id-17 input.sk-toggleable__control:checked~label.sk-toggleable__label-arrow:before {content: \"▾\";}#sk-container-id-17 div.sk-estimator input.sk-toggleable__control:checked~label.sk-toggleable__label {background-color: #d4ebff;}#sk-container-id-17 div.sk-label input.sk-toggleable__control:checked~label.sk-toggleable__label {background-color: #d4ebff;}#sk-container-id-17 input.sk-hidden--visually {border: 0;clip: rect(1px 1px 1px 1px);clip: rect(1px, 1px, 1px, 1px);height: 1px;margin: -1px;overflow: hidden;padding: 0;position: absolute;width: 1px;}#sk-container-id-17 div.sk-estimator {font-family: monospace;background-color: #f0f8ff;border: 1px dotted black;border-radius: 0.25em;box-sizing: border-box;margin-bottom: 0.5em;}#sk-container-id-17 div.sk-estimator:hover {background-color: #d4ebff;}#sk-container-id-17 div.sk-parallel-item::after {content: \"\";width: 100%;border-bottom: 1px solid gray;flex-grow: 1;}#sk-container-id-17 div.sk-label:hover label.sk-toggleable__label {background-color: #d4ebff;}#sk-container-id-17 div.sk-serial::before {content: \"\";position: absolute;border-left: 1px solid gray;box-sizing: border-box;top: 0;bottom: 0;left: 50%;z-index: 0;}#sk-container-id-17 div.sk-serial {display: flex;flex-direction: column;align-items: center;background-color: white;padding-right: 0.2em;padding-left: 0.2em;position: relative;}#sk-container-id-17 div.sk-item {position: relative;z-index: 1;}#sk-container-id-17 div.sk-parallel {display: flex;align-items: stretch;justify-content: center;background-color: white;position: relative;}#sk-container-id-17 div.sk-item::before, #sk-container-id-17 div.sk-parallel-item::before {content: \"\";position: absolute;border-left: 1px solid gray;box-sizing: border-box;top: 0;bottom: 0;left: 50%;z-index: -1;}#sk-container-id-17 div.sk-parallel-item {display: flex;flex-direction: column;z-index: 1;position: relative;background-color: white;}#sk-container-id-17 div.sk-parallel-item:first-child::after {align-self: flex-end;width: 50%;}#sk-container-id-17 div.sk-parallel-item:last-child::after {align-self: flex-start;width: 50%;}#sk-container-id-17 div.sk-parallel-item:only-child::after {width: 0;}#sk-container-id-17 div.sk-dashed-wrapped {border: 1px dashed gray;margin: 0 0.4em 0.5em 0.4em;box-sizing: border-box;padding-bottom: 0.4em;background-color: white;}#sk-container-id-17 div.sk-label label {font-family: monospace;font-weight: bold;display: inline-block;line-height: 1.2em;}#sk-container-id-17 div.sk-label-container {text-align: center;}#sk-container-id-17 div.sk-container {/* jupyter's `normalize.less` sets `[hidden] { display: none; }` but bootstrap.min.css set `[hidden] { display: none !important; }` so we also need the `!important` here to be able to override the default hidden behavior on the sphinx rendered scikit-learn.org. See: https://github.com/scikit-learn/scikit-learn/issues/21755 */display: inline-block !important;position: relative;}#sk-container-id-17 div.sk-text-repr-fallback {display: none;}</style><div id=\"sk-container-id-17\" class=\"sk-top-container\"><div class=\"sk-text-repr-fallback\"><pre>RandomForestClassifier()</pre><b>In a Jupyter environment, please rerun this cell to show the HTML representation or trust the notebook. <br />On GitHub, the HTML representation is unable to render, please try loading this page with nbviewer.org.</b></div><div class=\"sk-container\" hidden><div class=\"sk-item\"><div class=\"sk-estimator sk-toggleable\"><input class=\"sk-toggleable__control sk-hidden--visually\" id=\"sk-estimator-id-25\" type=\"checkbox\" checked><label for=\"sk-estimator-id-25\" class=\"sk-toggleable__label sk-toggleable__label-arrow\">RandomForestClassifier</label><div class=\"sk-toggleable__content\"><pre>RandomForestClassifier()</pre></div></div></div></div></div>"
      ],
      "text/plain": [
       "RandomForestClassifier()"
      ]
     },
     "execution_count": 107,
     "metadata": {},
     "output_type": "execute_result"
    }
   ],
   "source": [
    "rf_model"
   ]
  },
  {
   "cell_type": "code",
   "execution_count": 108,
   "metadata": {},
   "outputs": [
    {
     "data": {
      "text/plain": [
       "0.7402597402597403"
      ]
     },
     "execution_count": 108,
     "metadata": {},
     "output_type": "execute_result"
    }
   ],
   "source": [
    "y_pred = rf_model.predict(X_test)\n",
    "accuracy_score(y_test, y_pred)"
   ]
  },
  {
   "cell_type": "markdown",
   "metadata": {},
   "source": [
    "## Model Tuning"
   ]
  },
  {
   "cell_type": "code",
   "execution_count": 109,
   "metadata": {},
   "outputs": [
    {
     "data": {
      "text/html": [
       "<style>#sk-container-id-18 {color: black;}#sk-container-id-18 pre{padding: 0;}#sk-container-id-18 div.sk-toggleable {background-color: white;}#sk-container-id-18 label.sk-toggleable__label {cursor: pointer;display: block;width: 100%;margin-bottom: 0;padding: 0.3em;box-sizing: border-box;text-align: center;}#sk-container-id-18 label.sk-toggleable__label-arrow:before {content: \"▸\";float: left;margin-right: 0.25em;color: #696969;}#sk-container-id-18 label.sk-toggleable__label-arrow:hover:before {color: black;}#sk-container-id-18 div.sk-estimator:hover label.sk-toggleable__label-arrow:before {color: black;}#sk-container-id-18 div.sk-toggleable__content {max-height: 0;max-width: 0;overflow: hidden;text-align: left;background-color: #f0f8ff;}#sk-container-id-18 div.sk-toggleable__content pre {margin: 0.2em;color: black;border-radius: 0.25em;background-color: #f0f8ff;}#sk-container-id-18 input.sk-toggleable__control:checked~div.sk-toggleable__content {max-height: 200px;max-width: 100%;overflow: auto;}#sk-container-id-18 input.sk-toggleable__control:checked~label.sk-toggleable__label-arrow:before {content: \"▾\";}#sk-container-id-18 div.sk-estimator input.sk-toggleable__control:checked~label.sk-toggleable__label {background-color: #d4ebff;}#sk-container-id-18 div.sk-label input.sk-toggleable__control:checked~label.sk-toggleable__label {background-color: #d4ebff;}#sk-container-id-18 input.sk-hidden--visually {border: 0;clip: rect(1px 1px 1px 1px);clip: rect(1px, 1px, 1px, 1px);height: 1px;margin: -1px;overflow: hidden;padding: 0;position: absolute;width: 1px;}#sk-container-id-18 div.sk-estimator {font-family: monospace;background-color: #f0f8ff;border: 1px dotted black;border-radius: 0.25em;box-sizing: border-box;margin-bottom: 0.5em;}#sk-container-id-18 div.sk-estimator:hover {background-color: #d4ebff;}#sk-container-id-18 div.sk-parallel-item::after {content: \"\";width: 100%;border-bottom: 1px solid gray;flex-grow: 1;}#sk-container-id-18 div.sk-label:hover label.sk-toggleable__label {background-color: #d4ebff;}#sk-container-id-18 div.sk-serial::before {content: \"\";position: absolute;border-left: 1px solid gray;box-sizing: border-box;top: 0;bottom: 0;left: 50%;z-index: 0;}#sk-container-id-18 div.sk-serial {display: flex;flex-direction: column;align-items: center;background-color: white;padding-right: 0.2em;padding-left: 0.2em;position: relative;}#sk-container-id-18 div.sk-item {position: relative;z-index: 1;}#sk-container-id-18 div.sk-parallel {display: flex;align-items: stretch;justify-content: center;background-color: white;position: relative;}#sk-container-id-18 div.sk-item::before, #sk-container-id-18 div.sk-parallel-item::before {content: \"\";position: absolute;border-left: 1px solid gray;box-sizing: border-box;top: 0;bottom: 0;left: 50%;z-index: -1;}#sk-container-id-18 div.sk-parallel-item {display: flex;flex-direction: column;z-index: 1;position: relative;background-color: white;}#sk-container-id-18 div.sk-parallel-item:first-child::after {align-self: flex-end;width: 50%;}#sk-container-id-18 div.sk-parallel-item:last-child::after {align-self: flex-start;width: 50%;}#sk-container-id-18 div.sk-parallel-item:only-child::after {width: 0;}#sk-container-id-18 div.sk-dashed-wrapped {border: 1px dashed gray;margin: 0 0.4em 0.5em 0.4em;box-sizing: border-box;padding-bottom: 0.4em;background-color: white;}#sk-container-id-18 div.sk-label label {font-family: monospace;font-weight: bold;display: inline-block;line-height: 1.2em;}#sk-container-id-18 div.sk-label-container {text-align: center;}#sk-container-id-18 div.sk-container {/* jupyter's `normalize.less` sets `[hidden] { display: none; }` but bootstrap.min.css set `[hidden] { display: none !important; }` so we also need the `!important` here to be able to override the default hidden behavior on the sphinx rendered scikit-learn.org. See: https://github.com/scikit-learn/scikit-learn/issues/21755 */display: inline-block !important;position: relative;}#sk-container-id-18 div.sk-text-repr-fallback {display: none;}</style><div id=\"sk-container-id-18\" class=\"sk-top-container\"><div class=\"sk-text-repr-fallback\"><pre>RandomForestClassifier()</pre><b>In a Jupyter environment, please rerun this cell to show the HTML representation or trust the notebook. <br />On GitHub, the HTML representation is unable to render, please try loading this page with nbviewer.org.</b></div><div class=\"sk-container\" hidden><div class=\"sk-item\"><div class=\"sk-estimator sk-toggleable\"><input class=\"sk-toggleable__control sk-hidden--visually\" id=\"sk-estimator-id-26\" type=\"checkbox\" checked><label for=\"sk-estimator-id-26\" class=\"sk-toggleable__label sk-toggleable__label-arrow\">RandomForestClassifier</label><div class=\"sk-toggleable__content\"><pre>RandomForestClassifier()</pre></div></div></div></div></div>"
      ],
      "text/plain": [
       "RandomForestClassifier()"
      ]
     },
     "execution_count": 109,
     "metadata": {},
     "output_type": "execute_result"
    }
   ],
   "source": [
    "rf_model"
   ]
  },
  {
   "cell_type": "code",
   "execution_count": 110,
   "metadata": {},
   "outputs": [
    {
     "data": {
      "text/html": [
       "<style>#sk-container-id-19 {color: black;}#sk-container-id-19 pre{padding: 0;}#sk-container-id-19 div.sk-toggleable {background-color: white;}#sk-container-id-19 label.sk-toggleable__label {cursor: pointer;display: block;width: 100%;margin-bottom: 0;padding: 0.3em;box-sizing: border-box;text-align: center;}#sk-container-id-19 label.sk-toggleable__label-arrow:before {content: \"▸\";float: left;margin-right: 0.25em;color: #696969;}#sk-container-id-19 label.sk-toggleable__label-arrow:hover:before {color: black;}#sk-container-id-19 div.sk-estimator:hover label.sk-toggleable__label-arrow:before {color: black;}#sk-container-id-19 div.sk-toggleable__content {max-height: 0;max-width: 0;overflow: hidden;text-align: left;background-color: #f0f8ff;}#sk-container-id-19 div.sk-toggleable__content pre {margin: 0.2em;color: black;border-radius: 0.25em;background-color: #f0f8ff;}#sk-container-id-19 input.sk-toggleable__control:checked~div.sk-toggleable__content {max-height: 200px;max-width: 100%;overflow: auto;}#sk-container-id-19 input.sk-toggleable__control:checked~label.sk-toggleable__label-arrow:before {content: \"▾\";}#sk-container-id-19 div.sk-estimator input.sk-toggleable__control:checked~label.sk-toggleable__label {background-color: #d4ebff;}#sk-container-id-19 div.sk-label input.sk-toggleable__control:checked~label.sk-toggleable__label {background-color: #d4ebff;}#sk-container-id-19 input.sk-hidden--visually {border: 0;clip: rect(1px 1px 1px 1px);clip: rect(1px, 1px, 1px, 1px);height: 1px;margin: -1px;overflow: hidden;padding: 0;position: absolute;width: 1px;}#sk-container-id-19 div.sk-estimator {font-family: monospace;background-color: #f0f8ff;border: 1px dotted black;border-radius: 0.25em;box-sizing: border-box;margin-bottom: 0.5em;}#sk-container-id-19 div.sk-estimator:hover {background-color: #d4ebff;}#sk-container-id-19 div.sk-parallel-item::after {content: \"\";width: 100%;border-bottom: 1px solid gray;flex-grow: 1;}#sk-container-id-19 div.sk-label:hover label.sk-toggleable__label {background-color: #d4ebff;}#sk-container-id-19 div.sk-serial::before {content: \"\";position: absolute;border-left: 1px solid gray;box-sizing: border-box;top: 0;bottom: 0;left: 50%;z-index: 0;}#sk-container-id-19 div.sk-serial {display: flex;flex-direction: column;align-items: center;background-color: white;padding-right: 0.2em;padding-left: 0.2em;position: relative;}#sk-container-id-19 div.sk-item {position: relative;z-index: 1;}#sk-container-id-19 div.sk-parallel {display: flex;align-items: stretch;justify-content: center;background-color: white;position: relative;}#sk-container-id-19 div.sk-item::before, #sk-container-id-19 div.sk-parallel-item::before {content: \"\";position: absolute;border-left: 1px solid gray;box-sizing: border-box;top: 0;bottom: 0;left: 50%;z-index: -1;}#sk-container-id-19 div.sk-parallel-item {display: flex;flex-direction: column;z-index: 1;position: relative;background-color: white;}#sk-container-id-19 div.sk-parallel-item:first-child::after {align-self: flex-end;width: 50%;}#sk-container-id-19 div.sk-parallel-item:last-child::after {align-self: flex-start;width: 50%;}#sk-container-id-19 div.sk-parallel-item:only-child::after {width: 0;}#sk-container-id-19 div.sk-dashed-wrapped {border: 1px dashed gray;margin: 0 0.4em 0.5em 0.4em;box-sizing: border-box;padding-bottom: 0.4em;background-color: white;}#sk-container-id-19 div.sk-label label {font-family: monospace;font-weight: bold;display: inline-block;line-height: 1.2em;}#sk-container-id-19 div.sk-label-container {text-align: center;}#sk-container-id-19 div.sk-container {/* jupyter's `normalize.less` sets `[hidden] { display: none; }` but bootstrap.min.css set `[hidden] { display: none !important; }` so we also need the `!important` here to be able to override the default hidden behavior on the sphinx rendered scikit-learn.org. See: https://github.com/scikit-learn/scikit-learn/issues/21755 */display: inline-block !important;position: relative;}#sk-container-id-19 div.sk-text-repr-fallback {display: none;}</style><div id=\"sk-container-id-19\" class=\"sk-top-container\"><div class=\"sk-text-repr-fallback\"><pre>RandomForestClassifier()</pre><b>In a Jupyter environment, please rerun this cell to show the HTML representation or trust the notebook. <br />On GitHub, the HTML representation is unable to render, please try loading this page with nbviewer.org.</b></div><div class=\"sk-container\" hidden><div class=\"sk-item\"><div class=\"sk-estimator sk-toggleable\"><input class=\"sk-toggleable__control sk-hidden--visually\" id=\"sk-estimator-id-27\" type=\"checkbox\" checked><label for=\"sk-estimator-id-27\" class=\"sk-toggleable__label sk-toggleable__label-arrow\">RandomForestClassifier</label><div class=\"sk-toggleable__content\"><pre>RandomForestClassifier()</pre></div></div></div></div></div>"
      ],
      "text/plain": [
       "RandomForestClassifier()"
      ]
     },
     "execution_count": 110,
     "metadata": {},
     "output_type": "execute_result"
    }
   ],
   "source": [
    "rf_model"
   ]
  },
  {
   "cell_type": "code",
   "execution_count": 111,
   "metadata": {},
   "outputs": [],
   "source": [
    "rf_params = {\"max_depth\": [2,5,8,10],\n",
    "            \"max_features\": [2,5,8],\n",
    "            \"n_estimators\": [10,500,1000],\n",
    "            \"min_samples_split\": [2,5,10]}"
   ]
  },
  {
   "cell_type": "code",
   "execution_count": 112,
   "metadata": {},
   "outputs": [],
   "source": [
    "rf_model = RandomForestClassifier()\n",
    "\n",
    "rf_cv_model = GridSearchCV(rf_model, \n",
    "                           rf_params, \n",
    "                           cv = 10, \n",
    "                           n_jobs = -1, \n",
    "                           verbose = 2) "
   ]
  },
  {
   "cell_type": "code",
   "execution_count": 113,
   "metadata": {},
   "outputs": [
    {
     "name": "stdout",
     "output_type": "stream",
     "text": [
      "Fitting 10 folds for each of 108 candidates, totalling 1080 fits\n"
     ]
    },
    {
     "data": {
      "text/html": [
       "<style>#sk-container-id-20 {color: black;}#sk-container-id-20 pre{padding: 0;}#sk-container-id-20 div.sk-toggleable {background-color: white;}#sk-container-id-20 label.sk-toggleable__label {cursor: pointer;display: block;width: 100%;margin-bottom: 0;padding: 0.3em;box-sizing: border-box;text-align: center;}#sk-container-id-20 label.sk-toggleable__label-arrow:before {content: \"▸\";float: left;margin-right: 0.25em;color: #696969;}#sk-container-id-20 label.sk-toggleable__label-arrow:hover:before {color: black;}#sk-container-id-20 div.sk-estimator:hover label.sk-toggleable__label-arrow:before {color: black;}#sk-container-id-20 div.sk-toggleable__content {max-height: 0;max-width: 0;overflow: hidden;text-align: left;background-color: #f0f8ff;}#sk-container-id-20 div.sk-toggleable__content pre {margin: 0.2em;color: black;border-radius: 0.25em;background-color: #f0f8ff;}#sk-container-id-20 input.sk-toggleable__control:checked~div.sk-toggleable__content {max-height: 200px;max-width: 100%;overflow: auto;}#sk-container-id-20 input.sk-toggleable__control:checked~label.sk-toggleable__label-arrow:before {content: \"▾\";}#sk-container-id-20 div.sk-estimator input.sk-toggleable__control:checked~label.sk-toggleable__label {background-color: #d4ebff;}#sk-container-id-20 div.sk-label input.sk-toggleable__control:checked~label.sk-toggleable__label {background-color: #d4ebff;}#sk-container-id-20 input.sk-hidden--visually {border: 0;clip: rect(1px 1px 1px 1px);clip: rect(1px, 1px, 1px, 1px);height: 1px;margin: -1px;overflow: hidden;padding: 0;position: absolute;width: 1px;}#sk-container-id-20 div.sk-estimator {font-family: monospace;background-color: #f0f8ff;border: 1px dotted black;border-radius: 0.25em;box-sizing: border-box;margin-bottom: 0.5em;}#sk-container-id-20 div.sk-estimator:hover {background-color: #d4ebff;}#sk-container-id-20 div.sk-parallel-item::after {content: \"\";width: 100%;border-bottom: 1px solid gray;flex-grow: 1;}#sk-container-id-20 div.sk-label:hover label.sk-toggleable__label {background-color: #d4ebff;}#sk-container-id-20 div.sk-serial::before {content: \"\";position: absolute;border-left: 1px solid gray;box-sizing: border-box;top: 0;bottom: 0;left: 50%;z-index: 0;}#sk-container-id-20 div.sk-serial {display: flex;flex-direction: column;align-items: center;background-color: white;padding-right: 0.2em;padding-left: 0.2em;position: relative;}#sk-container-id-20 div.sk-item {position: relative;z-index: 1;}#sk-container-id-20 div.sk-parallel {display: flex;align-items: stretch;justify-content: center;background-color: white;position: relative;}#sk-container-id-20 div.sk-item::before, #sk-container-id-20 div.sk-parallel-item::before {content: \"\";position: absolute;border-left: 1px solid gray;box-sizing: border-box;top: 0;bottom: 0;left: 50%;z-index: -1;}#sk-container-id-20 div.sk-parallel-item {display: flex;flex-direction: column;z-index: 1;position: relative;background-color: white;}#sk-container-id-20 div.sk-parallel-item:first-child::after {align-self: flex-end;width: 50%;}#sk-container-id-20 div.sk-parallel-item:last-child::after {align-self: flex-start;width: 50%;}#sk-container-id-20 div.sk-parallel-item:only-child::after {width: 0;}#sk-container-id-20 div.sk-dashed-wrapped {border: 1px dashed gray;margin: 0 0.4em 0.5em 0.4em;box-sizing: border-box;padding-bottom: 0.4em;background-color: white;}#sk-container-id-20 div.sk-label label {font-family: monospace;font-weight: bold;display: inline-block;line-height: 1.2em;}#sk-container-id-20 div.sk-label-container {text-align: center;}#sk-container-id-20 div.sk-container {/* jupyter's `normalize.less` sets `[hidden] { display: none; }` but bootstrap.min.css set `[hidden] { display: none !important; }` so we also need the `!important` here to be able to override the default hidden behavior on the sphinx rendered scikit-learn.org. See: https://github.com/scikit-learn/scikit-learn/issues/21755 */display: inline-block !important;position: relative;}#sk-container-id-20 div.sk-text-repr-fallback {display: none;}</style><div id=\"sk-container-id-20\" class=\"sk-top-container\"><div class=\"sk-text-repr-fallback\"><pre>GridSearchCV(cv=10, estimator=RandomForestClassifier(), n_jobs=-1,\n",
       "             param_grid={&#x27;max_depth&#x27;: [2, 5, 8, 10], &#x27;max_features&#x27;: [2, 5, 8],\n",
       "                         &#x27;min_samples_split&#x27;: [2, 5, 10],\n",
       "                         &#x27;n_estimators&#x27;: [10, 500, 1000]},\n",
       "             verbose=2)</pre><b>In a Jupyter environment, please rerun this cell to show the HTML representation or trust the notebook. <br />On GitHub, the HTML representation is unable to render, please try loading this page with nbviewer.org.</b></div><div class=\"sk-container\" hidden><div class=\"sk-item sk-dashed-wrapped\"><div class=\"sk-label-container\"><div class=\"sk-label sk-toggleable\"><input class=\"sk-toggleable__control sk-hidden--visually\" id=\"sk-estimator-id-28\" type=\"checkbox\" ><label for=\"sk-estimator-id-28\" class=\"sk-toggleable__label sk-toggleable__label-arrow\">GridSearchCV</label><div class=\"sk-toggleable__content\"><pre>GridSearchCV(cv=10, estimator=RandomForestClassifier(), n_jobs=-1,\n",
       "             param_grid={&#x27;max_depth&#x27;: [2, 5, 8, 10], &#x27;max_features&#x27;: [2, 5, 8],\n",
       "                         &#x27;min_samples_split&#x27;: [2, 5, 10],\n",
       "                         &#x27;n_estimators&#x27;: [10, 500, 1000]},\n",
       "             verbose=2)</pre></div></div></div><div class=\"sk-parallel\"><div class=\"sk-parallel-item\"><div class=\"sk-item\"><div class=\"sk-label-container\"><div class=\"sk-label sk-toggleable\"><input class=\"sk-toggleable__control sk-hidden--visually\" id=\"sk-estimator-id-29\" type=\"checkbox\" ><label for=\"sk-estimator-id-29\" class=\"sk-toggleable__label sk-toggleable__label-arrow\">estimator: RandomForestClassifier</label><div class=\"sk-toggleable__content\"><pre>RandomForestClassifier()</pre></div></div></div><div class=\"sk-serial\"><div class=\"sk-item\"><div class=\"sk-estimator sk-toggleable\"><input class=\"sk-toggleable__control sk-hidden--visually\" id=\"sk-estimator-id-30\" type=\"checkbox\" ><label for=\"sk-estimator-id-30\" class=\"sk-toggleable__label sk-toggleable__label-arrow\">RandomForestClassifier</label><div class=\"sk-toggleable__content\"><pre>RandomForestClassifier()</pre></div></div></div></div></div></div></div></div></div></div>"
      ],
      "text/plain": [
       "GridSearchCV(cv=10, estimator=RandomForestClassifier(), n_jobs=-1,\n",
       "             param_grid={'max_depth': [2, 5, 8, 10], 'max_features': [2, 5, 8],\n",
       "                         'min_samples_split': [2, 5, 10],\n",
       "                         'n_estimators': [10, 500, 1000]},\n",
       "             verbose=2)"
      ]
     },
     "execution_count": 113,
     "metadata": {},
     "output_type": "execute_result"
    }
   ],
   "source": [
    "rf_cv_model.fit(X_train, y_train)"
   ]
  },
  {
   "cell_type": "code",
   "execution_count": 114,
   "metadata": {},
   "outputs": [
    {
     "name": "stdout",
     "output_type": "stream",
     "text": [
      "En iyi parametreler: {'max_depth': 10, 'max_features': 2, 'min_samples_split': 10, 'n_estimators': 10}\n"
     ]
    }
   ],
   "source": [
    "print(\"En iyi parametreler: \" + str(rf_cv_model.best_params_))"
   ]
  },
  {
   "cell_type": "code",
   "execution_count": 115,
   "metadata": {},
   "outputs": [],
   "source": [
    "#final"
   ]
  },
  {
   "cell_type": "code",
   "execution_count": 116,
   "metadata": {},
   "outputs": [
    {
     "data": {
      "text/html": [
       "<style>#sk-container-id-21 {color: black;}#sk-container-id-21 pre{padding: 0;}#sk-container-id-21 div.sk-toggleable {background-color: white;}#sk-container-id-21 label.sk-toggleable__label {cursor: pointer;display: block;width: 100%;margin-bottom: 0;padding: 0.3em;box-sizing: border-box;text-align: center;}#sk-container-id-21 label.sk-toggleable__label-arrow:before {content: \"▸\";float: left;margin-right: 0.25em;color: #696969;}#sk-container-id-21 label.sk-toggleable__label-arrow:hover:before {color: black;}#sk-container-id-21 div.sk-estimator:hover label.sk-toggleable__label-arrow:before {color: black;}#sk-container-id-21 div.sk-toggleable__content {max-height: 0;max-width: 0;overflow: hidden;text-align: left;background-color: #f0f8ff;}#sk-container-id-21 div.sk-toggleable__content pre {margin: 0.2em;color: black;border-radius: 0.25em;background-color: #f0f8ff;}#sk-container-id-21 input.sk-toggleable__control:checked~div.sk-toggleable__content {max-height: 200px;max-width: 100%;overflow: auto;}#sk-container-id-21 input.sk-toggleable__control:checked~label.sk-toggleable__label-arrow:before {content: \"▾\";}#sk-container-id-21 div.sk-estimator input.sk-toggleable__control:checked~label.sk-toggleable__label {background-color: #d4ebff;}#sk-container-id-21 div.sk-label input.sk-toggleable__control:checked~label.sk-toggleable__label {background-color: #d4ebff;}#sk-container-id-21 input.sk-hidden--visually {border: 0;clip: rect(1px 1px 1px 1px);clip: rect(1px, 1px, 1px, 1px);height: 1px;margin: -1px;overflow: hidden;padding: 0;position: absolute;width: 1px;}#sk-container-id-21 div.sk-estimator {font-family: monospace;background-color: #f0f8ff;border: 1px dotted black;border-radius: 0.25em;box-sizing: border-box;margin-bottom: 0.5em;}#sk-container-id-21 div.sk-estimator:hover {background-color: #d4ebff;}#sk-container-id-21 div.sk-parallel-item::after {content: \"\";width: 100%;border-bottom: 1px solid gray;flex-grow: 1;}#sk-container-id-21 div.sk-label:hover label.sk-toggleable__label {background-color: #d4ebff;}#sk-container-id-21 div.sk-serial::before {content: \"\";position: absolute;border-left: 1px solid gray;box-sizing: border-box;top: 0;bottom: 0;left: 50%;z-index: 0;}#sk-container-id-21 div.sk-serial {display: flex;flex-direction: column;align-items: center;background-color: white;padding-right: 0.2em;padding-left: 0.2em;position: relative;}#sk-container-id-21 div.sk-item {position: relative;z-index: 1;}#sk-container-id-21 div.sk-parallel {display: flex;align-items: stretch;justify-content: center;background-color: white;position: relative;}#sk-container-id-21 div.sk-item::before, #sk-container-id-21 div.sk-parallel-item::before {content: \"\";position: absolute;border-left: 1px solid gray;box-sizing: border-box;top: 0;bottom: 0;left: 50%;z-index: -1;}#sk-container-id-21 div.sk-parallel-item {display: flex;flex-direction: column;z-index: 1;position: relative;background-color: white;}#sk-container-id-21 div.sk-parallel-item:first-child::after {align-self: flex-end;width: 50%;}#sk-container-id-21 div.sk-parallel-item:last-child::after {align-self: flex-start;width: 50%;}#sk-container-id-21 div.sk-parallel-item:only-child::after {width: 0;}#sk-container-id-21 div.sk-dashed-wrapped {border: 1px dashed gray;margin: 0 0.4em 0.5em 0.4em;box-sizing: border-box;padding-bottom: 0.4em;background-color: white;}#sk-container-id-21 div.sk-label label {font-family: monospace;font-weight: bold;display: inline-block;line-height: 1.2em;}#sk-container-id-21 div.sk-label-container {text-align: center;}#sk-container-id-21 div.sk-container {/* jupyter's `normalize.less` sets `[hidden] { display: none; }` but bootstrap.min.css set `[hidden] { display: none !important; }` so we also need the `!important` here to be able to override the default hidden behavior on the sphinx rendered scikit-learn.org. See: https://github.com/scikit-learn/scikit-learn/issues/21755 */display: inline-block !important;position: relative;}#sk-container-id-21 div.sk-text-repr-fallback {display: none;}</style><div id=\"sk-container-id-21\" class=\"sk-top-container\"><div class=\"sk-text-repr-fallback\"><pre>RandomForestClassifier(max_depth=10, max_features=8, min_samples_split=10,\n",
       "                       n_estimators=1000)</pre><b>In a Jupyter environment, please rerun this cell to show the HTML representation or trust the notebook. <br />On GitHub, the HTML representation is unable to render, please try loading this page with nbviewer.org.</b></div><div class=\"sk-container\" hidden><div class=\"sk-item\"><div class=\"sk-estimator sk-toggleable\"><input class=\"sk-toggleable__control sk-hidden--visually\" id=\"sk-estimator-id-31\" type=\"checkbox\" checked><label for=\"sk-estimator-id-31\" class=\"sk-toggleable__label sk-toggleable__label-arrow\">RandomForestClassifier</label><div class=\"sk-toggleable__content\"><pre>RandomForestClassifier(max_depth=10, max_features=8, min_samples_split=10,\n",
       "                       n_estimators=1000)</pre></div></div></div></div></div>"
      ],
      "text/plain": [
       "RandomForestClassifier(max_depth=10, max_features=8, min_samples_split=10,\n",
       "                       n_estimators=1000)"
      ]
     },
     "execution_count": 116,
     "metadata": {},
     "output_type": "execute_result"
    }
   ],
   "source": [
    "rf_tuned = RandomForestClassifier(max_depth = 10, \n",
    "                                  max_features = 8, \n",
    "                                  min_samples_split = 10,\n",
    "                                  n_estimators = 1000)\n",
    "\n",
    "rf_tuned.fit(X_train, y_train)"
   ]
  },
  {
   "cell_type": "code",
   "execution_count": 117,
   "metadata": {},
   "outputs": [
    {
     "data": {
      "text/plain": [
       "0.7575757575757576"
      ]
     },
     "execution_count": 117,
     "metadata": {},
     "output_type": "execute_result"
    }
   ],
   "source": [
    "y_pred = rf_tuned.predict(X_test)\n",
    "accuracy_score(y_test, y_pred)"
   ]
  },
  {
   "cell_type": "code",
   "execution_count": 118,
   "metadata": {},
   "outputs": [],
   "source": [
    "Importance = pd.DataFrame({\"Importance\": rf_tuned.feature_importances_*100},\n",
    "                         index = X_train.columns)"
   ]
  },
  {
   "cell_type": "code",
   "execution_count": 119,
   "metadata": {},
   "outputs": [
    {
     "data": {
      "text/plain": [
       "Text(0.5, 0, 'Değişken Önem Düzeyleri')"
      ]
     },
     "execution_count": 119,
     "metadata": {},
     "output_type": "execute_result"
    },
    {
     "data": {
      "image/png": "[encoded data removed]",
      "text/plain": [
       "<Figure size 640x480 with 1 Axes>"
      ]
     },
     "metadata": {},
     "output_type": "display_data"
    }
   ],
   "source": [
    "Importance.sort_values(by = \"Importance\", \n",
    "                       axis = 0, \n",
    "                       ascending = True).plot(kind =\"barh\", color = \"r\")\n",
    "\n",
    "plt.xlabel(\"Değişken Önem Düzeyleri\")"
   ]
  },
  {
   "cell_type": "markdown",
   "metadata": {},
   "source": [
    "# Gradient Boosting Machines"
   ]
  },
  {
   "cell_type": "code",
   "execution_count": 120,
   "metadata": {},
   "outputs": [],
   "source": [
    "df = diabetes.copy()\n",
    "df = df.dropna()\n",
    "y = df[\"Outcome\"]\n",
    "X = df.drop(['Outcome'], axis=1)\n",
    "#X = df[\"Pregnancies\"]\n",
    "X = pd.DataFrame(X)\n",
    "X_train, X_test, y_train, y_test = train_test_split(X, y, \n",
    "                                                    test_size=0.30, \n",
    "                                                    random_state=42)"
   ]
  },
  {
   "cell_type": "code",
   "execution_count": 121,
   "metadata": {},
   "outputs": [],
   "source": [
    "from sklearn.ensemble import GradientBoostingClassifier"
   ]
  },
  {
   "cell_type": "code",
   "execution_count": 122,
   "metadata": {},
   "outputs": [],
   "source": [
    "gbm_model = GradientBoostingClassifier().fit(X_train, y_train)"
   ]
  },
  {
   "cell_type": "code",
   "execution_count": 123,
   "metadata": {},
   "outputs": [
    {
     "data": {
      "text/plain": [
       "0.7532467532467533"
      ]
     },
     "execution_count": 123,
     "metadata": {},
     "output_type": "execute_result"
    }
   ],
   "source": [
    "y_pred = gbm_model.predict(X_test)\n",
    "accuracy_score(y_test, y_pred)"
   ]
  },
  {
   "cell_type": "markdown",
   "metadata": {},
   "source": [
    "## Model Tuning"
   ]
  },
  {
   "cell_type": "code",
   "execution_count": 124,
   "metadata": {},
   "outputs": [
    {
     "data": {
      "text/html": [
       "<style>#sk-container-id-22 {color: black;}#sk-container-id-22 pre{padding: 0;}#sk-container-id-22 div.sk-toggleable {background-color: white;}#sk-container-id-22 label.sk-toggleable__label {cursor: pointer;display: block;width: 100%;margin-bottom: 0;padding: 0.3em;box-sizing: border-box;text-align: center;}#sk-container-id-22 label.sk-toggleable__label-arrow:before {content: \"▸\";float: left;margin-right: 0.25em;color: #696969;}#sk-container-id-22 label.sk-toggleable__label-arrow:hover:before {color: black;}#sk-container-id-22 div.sk-estimator:hover label.sk-toggleable__label-arrow:before {color: black;}#sk-container-id-22 div.sk-toggleable__content {max-height: 0;max-width: 0;overflow: hidden;text-align: left;background-color: #f0f8ff;}#sk-container-id-22 div.sk-toggleable__content pre {margin: 0.2em;color: black;border-radius: 0.25em;background-color: #f0f8ff;}#sk-container-id-22 input.sk-toggleable__control:checked~div.sk-toggleable__content {max-height: 200px;max-width: 100%;overflow: auto;}#sk-container-id-22 input.sk-toggleable__control:checked~label.sk-toggleable__label-arrow:before {content: \"▾\";}#sk-container-id-22 div.sk-estimator input.sk-toggleable__control:checked~label.sk-toggleable__label {background-color: #d4ebff;}#sk-container-id-22 div.sk-label input.sk-toggleable__control:checked~label.sk-toggleable__label {background-color: #d4ebff;}#sk-container-id-22 input.sk-hidden--visually {border: 0;clip: rect(1px 1px 1px 1px);clip: rect(1px, 1px, 1px, 1px);height: 1px;margin: -1px;overflow: hidden;padding: 0;position: absolute;width: 1px;}#sk-container-id-22 div.sk-estimator {font-family: monospace;background-color: #f0f8ff;border: 1px dotted black;border-radius: 0.25em;box-sizing: border-box;margin-bottom: 0.5em;}#sk-container-id-22 div.sk-estimator:hover {background-color: #d4ebff;}#sk-container-id-22 div.sk-parallel-item::after {content: \"\";width: 100%;border-bottom: 1px solid gray;flex-grow: 1;}#sk-container-id-22 div.sk-label:hover label.sk-toggleable__label {background-color: #d4ebff;}#sk-container-id-22 div.sk-serial::before {content: \"\";position: absolute;border-left: 1px solid gray;box-sizing: border-box;top: 0;bottom: 0;left: 50%;z-index: 0;}#sk-container-id-22 div.sk-serial {display: flex;flex-direction: column;align-items: center;background-color: white;padding-right: 0.2em;padding-left: 0.2em;position: relative;}#sk-container-id-22 div.sk-item {position: relative;z-index: 1;}#sk-container-id-22 div.sk-parallel {display: flex;align-items: stretch;justify-content: center;background-color: white;position: relative;}#sk-container-id-22 div.sk-item::before, #sk-container-id-22 div.sk-parallel-item::before {content: \"\";position: absolute;border-left: 1px solid gray;box-sizing: border-box;top: 0;bottom: 0;left: 50%;z-index: -1;}#sk-container-id-22 div.sk-parallel-item {display: flex;flex-direction: column;z-index: 1;position: relative;background-color: white;}#sk-container-id-22 div.sk-parallel-item:first-child::after {align-self: flex-end;width: 50%;}#sk-container-id-22 div.sk-parallel-item:last-child::after {align-self: flex-start;width: 50%;}#sk-container-id-22 div.sk-parallel-item:only-child::after {width: 0;}#sk-container-id-22 div.sk-dashed-wrapped {border: 1px dashed gray;margin: 0 0.4em 0.5em 0.4em;box-sizing: border-box;padding-bottom: 0.4em;background-color: white;}#sk-container-id-22 div.sk-label label {font-family: monospace;font-weight: bold;display: inline-block;line-height: 1.2em;}#sk-container-id-22 div.sk-label-container {text-align: center;}#sk-container-id-22 div.sk-container {/* jupyter's `normalize.less` sets `[hidden] { display: none; }` but bootstrap.min.css set `[hidden] { display: none !important; }` so we also need the `!important` here to be able to override the default hidden behavior on the sphinx rendered scikit-learn.org. See: https://github.com/scikit-learn/scikit-learn/issues/21755 */display: inline-block !important;position: relative;}#sk-container-id-22 div.sk-text-repr-fallback {display: none;}</style><div id=\"sk-container-id-22\" class=\"sk-top-container\"><div class=\"sk-text-repr-fallback\"><pre>GradientBoostingClassifier()</pre><b>In a Jupyter environment, please rerun this cell to show the HTML representation or trust the notebook. <br />On GitHub, the HTML representation is unable to render, please try loading this page with nbviewer.org.</b></div><div class=\"sk-container\" hidden><div class=\"sk-item\"><div class=\"sk-estimator sk-toggleable\"><input class=\"sk-toggleable__control sk-hidden--visually\" id=\"sk-estimator-id-32\" type=\"checkbox\" checked><label for=\"sk-estimator-id-32\" class=\"sk-toggleable__label sk-toggleable__label-arrow\">GradientBoostingClassifier</label><div class=\"sk-toggleable__content\"><pre>GradientBoostingClassifier()</pre></div></div></div></div></div>"
      ],
      "text/plain": [
       "GradientBoostingClassifier()"
      ]
     },
     "execution_count": 124,
     "metadata": {},
     "output_type": "execute_result"
    }
   ],
   "source": [
    "gbm_model"
   ]
  },
  {
   "cell_type": "code",
   "execution_count": 125,
   "metadata": {},
   "outputs": [],
   "source": [
    "gbm_params = {\"learning_rate\" : [0.001, 0.01, 0.1, 0.05],\n",
    "             \"n_estimators\": [100,500,100],\n",
    "             \"max_depth\": [3,5,10],\n",
    "             \"min_samples_split\": [2,5,10]}"
   ]
  },
  {
   "cell_type": "code",
   "execution_count": 126,
   "metadata": {},
   "outputs": [],
   "source": [
    "gbm = GradientBoostingClassifier()\n",
    "\n",
    "gbm_cv = GridSearchCV(gbm, gbm_params, cv = 10, n_jobs = -1, verbose = 2)"
   ]
  },
  {
   "cell_type": "code",
   "execution_count": 127,
   "metadata": {},
   "outputs": [
    {
     "name": "stdout",
     "output_type": "stream",
     "text": [
      "Fitting 10 folds for each of 108 candidates, totalling 1080 fits\n"
     ]
    },
    {
     "data": {
      "text/html": [
       "<style>#sk-container-id-23 {color: black;}#sk-container-id-23 pre{padding: 0;}#sk-container-id-23 div.sk-toggleable {background-color: white;}#sk-container-id-23 label.sk-toggleable__label {cursor: pointer;display: block;width: 100%;margin-bottom: 0;padding: 0.3em;box-sizing: border-box;text-align: center;}#sk-container-id-23 label.sk-toggleable__label-arrow:before {content: \"▸\";float: left;margin-right: 0.25em;color: #696969;}#sk-container-id-23 label.sk-toggleable__label-arrow:hover:before {color: black;}#sk-container-id-23 div.sk-estimator:hover label.sk-toggleable__label-arrow:before {color: black;}#sk-container-id-23 div.sk-toggleable__content {max-height: 0;max-width: 0;overflow: hidden;text-align: left;background-color: #f0f8ff;}#sk-container-id-23 div.sk-toggleable__content pre {margin: 0.2em;color: black;border-radius: 0.25em;background-color: #f0f8ff;}#sk-container-id-23 input.sk-toggleable__control:checked~div.sk-toggleable__content {max-height: 200px;max-width: 100%;overflow: auto;}#sk-container-id-23 input.sk-toggleable__control:checked~label.sk-toggleable__label-arrow:before {content: \"▾\";}#sk-container-id-23 div.sk-estimator input.sk-toggleable__control:checked~label.sk-toggleable__label {background-color: #d4ebff;}#sk-container-id-23 div.sk-label input.sk-toggleable__control:checked~label.sk-toggleable__label {background-color: #d4ebff;}#sk-container-id-23 input.sk-hidden--visually {border: 0;clip: rect(1px 1px 1px 1px);clip: rect(1px, 1px, 1px, 1px);height: 1px;margin: -1px;overflow: hidden;padding: 0;position: absolute;width: 1px;}#sk-container-id-23 div.sk-estimator {font-family: monospace;background-color: #f0f8ff;border: 1px dotted black;border-radius: 0.25em;box-sizing: border-box;margin-bottom: 0.5em;}#sk-container-id-23 div.sk-estimator:hover {background-color: #d4ebff;}#sk-container-id-23 div.sk-parallel-item::after {content: \"\";width: 100%;border-bottom: 1px solid gray;flex-grow: 1;}#sk-container-id-23 div.sk-label:hover label.sk-toggleable__label {background-color: #d4ebff;}#sk-container-id-23 div.sk-serial::before {content: \"\";position: absolute;border-left: 1px solid gray;box-sizing: border-box;top: 0;bottom: 0;left: 50%;z-index: 0;}#sk-container-id-23 div.sk-serial {display: flex;flex-direction: column;align-items: center;background-color: white;padding-right: 0.2em;padding-left: 0.2em;position: relative;}#sk-container-id-23 div.sk-item {position: relative;z-index: 1;}#sk-container-id-23 div.sk-parallel {display: flex;align-items: stretch;justify-content: center;background-color: white;position: relative;}#sk-container-id-23 div.sk-item::before, #sk-container-id-23 div.sk-parallel-item::before {content: \"\";position: absolute;border-left: 1px solid gray;box-sizing: border-box;top: 0;bottom: 0;left: 50%;z-index: -1;}#sk-container-id-23 div.sk-parallel-item {display: flex;flex-direction: column;z-index: 1;position: relative;background-color: white;}#sk-container-id-23 div.sk-parallel-item:first-child::after {align-self: flex-end;width: 50%;}#sk-container-id-23 div.sk-parallel-item:last-child::after {align-self: flex-start;width: 50%;}#sk-container-id-23 div.sk-parallel-item:only-child::after {width: 0;}#sk-container-id-23 div.sk-dashed-wrapped {border: 1px dashed gray;margin: 0 0.4em 0.5em 0.4em;box-sizing: border-box;padding-bottom: 0.4em;background-color: white;}#sk-container-id-23 div.sk-label label {font-family: monospace;font-weight: bold;display: inline-block;line-height: 1.2em;}#sk-container-id-23 div.sk-label-container {text-align: center;}#sk-container-id-23 div.sk-container {/* jupyter's `normalize.less` sets `[hidden] { display: none; }` but bootstrap.min.css set `[hidden] { display: none !important; }` so we also need the `!important` here to be able to override the default hidden behavior on the sphinx rendered scikit-learn.org. See: https://github.com/scikit-learn/scikit-learn/issues/21755 */display: inline-block !important;position: relative;}#sk-container-id-23 div.sk-text-repr-fallback {display: none;}</style><div id=\"sk-container-id-23\" class=\"sk-top-container\"><div class=\"sk-text-repr-fallback\"><pre>GridSearchCV(cv=10, estimator=GradientBoostingClassifier(), n_jobs=-1,\n",
       "             param_grid={&#x27;learning_rate&#x27;: [0.001, 0.01, 0.1, 0.05],\n",
       "                         &#x27;max_depth&#x27;: [3, 5, 10],\n",
       "                         &#x27;min_samples_split&#x27;: [2, 5, 10],\n",
       "                         &#x27;n_estimators&#x27;: [100, 500, 100]},\n",
       "             verbose=2)</pre><b>In a Jupyter environment, please rerun this cell to show the HTML representation or trust the notebook. <br />On GitHub, the HTML representation is unable to render, please try loading this page with nbviewer.org.</b></div><div class=\"sk-container\" hidden><div class=\"sk-item sk-dashed-wrapped\"><div class=\"sk-label-container\"><div class=\"sk-label sk-toggleable\"><input class=\"sk-toggleable__control sk-hidden--visually\" id=\"sk-estimator-id-33\" type=\"checkbox\" ><label for=\"sk-estimator-id-33\" class=\"sk-toggleable__label sk-toggleable__label-arrow\">GridSearchCV</label><div class=\"sk-toggleable__content\"><pre>GridSearchCV(cv=10, estimator=GradientBoostingClassifier(), n_jobs=-1,\n",
       "             param_grid={&#x27;learning_rate&#x27;: [0.001, 0.01, 0.1, 0.05],\n",
       "                         &#x27;max_depth&#x27;: [3, 5, 10],\n",
       "                         &#x27;min_samples_split&#x27;: [2, 5, 10],\n",
       "                         &#x27;n_estimators&#x27;: [100, 500, 100]},\n",
       "             verbose=2)</pre></div></div></div><div class=\"sk-parallel\"><div class=\"sk-parallel-item\"><div class=\"sk-item\"><div class=\"sk-label-container\"><div class=\"sk-label sk-toggleable\"><input class=\"sk-toggleable__control sk-hidden--visually\" id=\"sk-estimator-id-34\" type=\"checkbox\" ><label for=\"sk-estimator-id-34\" class=\"sk-toggleable__label sk-toggleable__label-arrow\">estimator: GradientBoostingClassifier</label><div class=\"sk-toggleable__content\"><pre>GradientBoostingClassifier()</pre></div></div></div><div class=\"sk-serial\"><div class=\"sk-item\"><div class=\"sk-estimator sk-toggleable\"><input class=\"sk-toggleable__control sk-hidden--visually\" id=\"sk-estimator-id-35\" type=\"checkbox\" ><label for=\"sk-estimator-id-35\" class=\"sk-toggleable__label sk-toggleable__label-arrow\">GradientBoostingClassifier</label><div class=\"sk-toggleable__content\"><pre>GradientBoostingClassifier()</pre></div></div></div></div></div></div></div></div></div></div>"
      ],
      "text/plain": [
       "GridSearchCV(cv=10, estimator=GradientBoostingClassifier(), n_jobs=-1,\n",
       "             param_grid={'learning_rate': [0.001, 0.01, 0.1, 0.05],\n",
       "                         'max_depth': [3, 5, 10],\n",
       "                         'min_samples_split': [2, 5, 10],\n",
       "                         'n_estimators': [100, 500, 100]},\n",
       "             verbose=2)"
      ]
     },
     "execution_count": 127,
     "metadata": {},
     "output_type": "execute_result"
    }
   ],
   "source": [
    "gbm_cv.fit(X_train, y_train)"
   ]
  },
  {
   "cell_type": "code",
   "execution_count": 128,
   "metadata": {},
   "outputs": [
    {
     "name": "stdout",
     "output_type": "stream",
     "text": [
      "En iyi parametreler: {'learning_rate': 0.1, 'max_depth': 3, 'min_samples_split': 5, 'n_estimators': 100}\n"
     ]
    }
   ],
   "source": [
    "print(\"En iyi parametreler: \" + str(gbm_cv.best_params_))"
   ]
  },
  {
   "cell_type": "code",
   "execution_count": 129,
   "metadata": {},
   "outputs": [],
   "source": [
    "gbm = GradientBoostingClassifier(learning_rate = 0.01, \n",
    "                                 max_depth = 3,\n",
    "                                min_samples_split = 5,\n",
    "                                n_estimators = 500)"
   ]
  },
  {
   "cell_type": "code",
   "execution_count": 130,
   "metadata": {},
   "outputs": [],
   "source": [
    "gbm_tuned =  gbm.fit(X_train,y_train)"
   ]
  },
  {
   "cell_type": "code",
   "execution_count": 131,
   "metadata": {},
   "outputs": [
    {
     "data": {
      "text/plain": [
       "0.7489177489177489"
      ]
     },
     "execution_count": 131,
     "metadata": {},
     "output_type": "execute_result"
    }
   ],
   "source": [
    "y_pred = gbm_tuned.predict(X_test)\n",
    "accuracy_score(y_test, y_pred)"
   ]
  },
  {
   "cell_type": "markdown",
   "metadata": {},
   "source": [
    "# XGBoost"
   ]
  },
  {
   "cell_type": "code",
   "execution_count": 132,
   "metadata": {},
   "outputs": [],
   "source": [
    "df = diabetes.copy()\n",
    "df = df.dropna()\n",
    "y = df[\"Outcome\"]\n",
    "X = df.drop(['Outcome'], axis=1)\n",
    "#X = df[\"Pregnancies\"]\n",
    "X = pd.DataFrame(X)\n",
    "X_train, X_test, y_train, y_test = train_test_split(X, y, \n",
    "                                                    test_size=0.30, \n",
    "                                                    random_state=42)"
   ]
  },
  {
   "cell_type": "code",
   "execution_count": 133,
   "metadata": {},
   "outputs": [],
   "source": [
    "#!pip install xgboost\n",
    "from xgboost import XGBClassifier"
   ]
  },
  {
   "cell_type": "code",
   "execution_count": 134,
   "metadata": {},
   "outputs": [],
   "source": [
    "xgb_model = XGBClassifier().fit(X_train, y_train)"
   ]
  },
  {
   "cell_type": "code",
   "execution_count": 135,
   "metadata": {},
   "outputs": [
    {
     "data": {
      "text/html": [
       "<style>#sk-container-id-24 {color: black;}#sk-container-id-24 pre{padding: 0;}#sk-container-id-24 div.sk-toggleable {background-color: white;}#sk-container-id-24 label.sk-toggleable__label {cursor: pointer;display: block;width: 100%;margin-bottom: 0;padding: 0.3em;box-sizing: border-box;text-align: center;}#sk-container-id-24 label.sk-toggleable__label-arrow:before {content: \"▸\";float: left;margin-right: 0.25em;color: #696969;}#sk-container-id-24 label.sk-toggleable__label-arrow:hover:before {color: black;}#sk-container-id-24 div.sk-estimator:hover label.sk-toggleable__label-arrow:before {color: black;}#sk-container-id-24 div.sk-toggleable__content {max-height: 0;max-width: 0;overflow: hidden;text-align: left;background-color: #f0f8ff;}#sk-container-id-24 div.sk-toggleable__content pre {margin: 0.2em;color: black;border-radius: 0.25em;background-color: #f0f8ff;}#sk-container-id-24 input.sk-toggleable__control:checked~div.sk-toggleable__content {max-height: 200px;max-width: 100%;overflow: auto;}#sk-container-id-24 input.sk-toggleable__control:checked~label.sk-toggleable__label-arrow:before {content: \"▾\";}#sk-container-id-24 div.sk-estimator input.sk-toggleable__control:checked~label.sk-toggleable__label {background-color: #d4ebff;}#sk-container-id-24 div.sk-label input.sk-toggleable__control:checked~label.sk-toggleable__label {background-color: #d4ebff;}#sk-container-id-24 input.sk-hidden--visually {border: 0;clip: rect(1px 1px 1px 1px);clip: rect(1px, 1px, 1px, 1px);height: 1px;margin: -1px;overflow: hidden;padding: 0;position: absolute;width: 1px;}#sk-container-id-24 div.sk-estimator {font-family: monospace;background-color: #f0f8ff;border: 1px dotted black;border-radius: 0.25em;box-sizing: border-box;margin-bottom: 0.5em;}#sk-container-id-24 div.sk-estimator:hover {background-color: #d4ebff;}#sk-container-id-24 div.sk-parallel-item::after {content: \"\";width: 100%;border-bottom: 1px solid gray;flex-grow: 1;}#sk-container-id-24 div.sk-label:hover label.sk-toggleable__label {background-color: #d4ebff;}#sk-container-id-24 div.sk-serial::before {content: \"\";position: absolute;border-left: 1px solid gray;box-sizing: border-box;top: 0;bottom: 0;left: 50%;z-index: 0;}#sk-container-id-24 div.sk-serial {display: flex;flex-direction: column;align-items: center;background-color: white;padding-right: 0.2em;padding-left: 0.2em;position: relative;}#sk-container-id-24 div.sk-item {position: relative;z-index: 1;}#sk-container-id-24 div.sk-parallel {display: flex;align-items: stretch;justify-content: center;background-color: white;position: relative;}#sk-container-id-24 div.sk-item::before, #sk-container-id-24 div.sk-parallel-item::before {content: \"\";position: absolute;border-left: 1px solid gray;box-sizing: border-box;top: 0;bottom: 0;left: 50%;z-index: -1;}#sk-container-id-24 div.sk-parallel-item {display: flex;flex-direction: column;z-index: 1;position: relative;background-color: white;}#sk-container-id-24 div.sk-parallel-item:first-child::after {align-self: flex-end;width: 50%;}#sk-container-id-24 div.sk-parallel-item:last-child::after {align-self: flex-start;width: 50%;}#sk-container-id-24 div.sk-parallel-item:only-child::after {width: 0;}#sk-container-id-24 div.sk-dashed-wrapped {border: 1px dashed gray;margin: 0 0.4em 0.5em 0.4em;box-sizing: border-box;padding-bottom: 0.4em;background-color: white;}#sk-container-id-24 div.sk-label label {font-family: monospace;font-weight: bold;display: inline-block;line-height: 1.2em;}#sk-container-id-24 div.sk-label-container {text-align: center;}#sk-container-id-24 div.sk-container {/* jupyter's `normalize.less` sets `[hidden] { display: none; }` but bootstrap.min.css set `[hidden] { display: none !important; }` so we also need the `!important` here to be able to override the default hidden behavior on the sphinx rendered scikit-learn.org. See: https://github.com/scikit-learn/scikit-learn/issues/21755 */display: inline-block !important;position: relative;}#sk-container-id-24 div.sk-text-repr-fallback {display: none;}</style><div id=\"sk-container-id-24\" class=\"sk-top-container\"><div class=\"sk-text-repr-fallback\"><pre>XGBClassifier(base_score=None, booster=None, callbacks=None,\n",
       "              colsample_bylevel=None, colsample_bynode=None,\n",
       "              colsample_bytree=None, device=None, early_stopping_rounds=None,\n",
       "              enable_categorical=False, eval_metric=None, feature_types=None,\n",
       "              gamma=None, grow_policy=None, importance_type=None,\n",
       "              interaction_constraints=None, learning_rate=None, max_bin=None,\n",
       "              max_cat_threshold=None, max_cat_to_onehot=None,\n",
       "              max_delta_step=None, max_depth=None, max_leaves=None,\n",
       "              min_child_weight=None, missing=nan, monotone_constraints=None,\n",
       "              multi_strategy=None, n_estimators=None, n_jobs=None,\n",
       "              num_parallel_tree=None, random_state=None, ...)</pre><b>In a Jupyter environment, please rerun this cell to show the HTML representation or trust the notebook. <br />On GitHub, the HTML representation is unable to render, please try loading this page with nbviewer.org.</b></div><div class=\"sk-container\" hidden><div class=\"sk-item\"><div class=\"sk-estimator sk-toggleable\"><input class=\"sk-toggleable__control sk-hidden--visually\" id=\"sk-estimator-id-36\" type=\"checkbox\" checked><label for=\"sk-estimator-id-36\" class=\"sk-toggleable__label sk-toggleable__label-arrow\">XGBClassifier</label><div class=\"sk-toggleable__content\"><pre>XGBClassifier(base_score=None, booster=None, callbacks=None,\n",
       "              colsample_bylevel=None, colsample_bynode=None,\n",
       "              colsample_bytree=None, device=None, early_stopping_rounds=None,\n",
       "              enable_categorical=False, eval_metric=None, feature_types=None,\n",
       "              gamma=None, grow_policy=None, importance_type=None,\n",
       "              interaction_constraints=None, learning_rate=None, max_bin=None,\n",
       "              max_cat_threshold=None, max_cat_to_onehot=None,\n",
       "              max_delta_step=None, max_depth=None, max_leaves=None,\n",
       "              min_child_weight=None, missing=nan, monotone_constraints=None,\n",
       "              multi_strategy=None, n_estimators=None, n_jobs=None,\n",
       "              num_parallel_tree=None, random_state=None, ...)</pre></div></div></div></div></div>"
      ],
      "text/plain": [
       "XGBClassifier(base_score=None, booster=None, callbacks=None,\n",
       "              colsample_bylevel=None, colsample_bynode=None,\n",
       "              colsample_bytree=None, device=None, early_stopping_rounds=None,\n",
       "              enable_categorical=False, eval_metric=None, feature_types=None,\n",
       "              gamma=None, grow_policy=None, importance_type=None,\n",
       "              interaction_constraints=None, learning_rate=None, max_bin=None,\n",
       "              max_cat_threshold=None, max_cat_to_onehot=None,\n",
       "              max_delta_step=None, max_depth=None, max_leaves=None,\n",
       "              min_child_weight=None, missing=nan, monotone_constraints=None,\n",
       "              multi_strategy=None, n_estimators=None, n_jobs=None,\n",
       "              num_parallel_tree=None, random_state=None, ...)"
      ]
     },
     "execution_count": 135,
     "metadata": {},
     "output_type": "execute_result"
    }
   ],
   "source": [
    "xgb_model"
   ]
  },
  {
   "cell_type": "code",
   "execution_count": 136,
   "metadata": {},
   "outputs": [
    {
     "data": {
      "text/plain": [
       "0.7272727272727273"
      ]
     },
     "execution_count": 136,
     "metadata": {},
     "output_type": "execute_result"
    }
   ],
   "source": [
    "y_pred = xgb_model.predict(X_test)\n",
    "accuracy_score(y_test, y_pred)"
   ]
  },
  {
   "cell_type": "markdown",
   "metadata": {},
   "source": [
    "## Model Tuning"
   ]
  },
  {
   "cell_type": "code",
   "execution_count": 137,
   "metadata": {},
   "outputs": [
    {
     "data": {
      "text/html": [
       "<style>#sk-container-id-25 {color: black;}#sk-container-id-25 pre{padding: 0;}#sk-container-id-25 div.sk-toggleable {background-color: white;}#sk-container-id-25 label.sk-toggleable__label {cursor: pointer;display: block;width: 100%;margin-bottom: 0;padding: 0.3em;box-sizing: border-box;text-align: center;}#sk-container-id-25 label.sk-toggleable__label-arrow:before {content: \"▸\";float: left;margin-right: 0.25em;color: #696969;}#sk-container-id-25 label.sk-toggleable__label-arrow:hover:before {color: black;}#sk-container-id-25 div.sk-estimator:hover label.sk-toggleable__label-arrow:before {color: black;}#sk-container-id-25 div.sk-toggleable__content {max-height: 0;max-width: 0;overflow: hidden;text-align: left;background-color: #f0f8ff;}#sk-container-id-25 div.sk-toggleable__content pre {margin: 0.2em;color: black;border-radius: 0.25em;background-color: #f0f8ff;}#sk-container-id-25 input.sk-toggleable__control:checked~div.sk-toggleable__content {max-height: 200px;max-width: 100%;overflow: auto;}#sk-container-id-25 input.sk-toggleable__control:checked~label.sk-toggleable__label-arrow:before {content: \"▾\";}#sk-container-id-25 div.sk-estimator input.sk-toggleable__control:checked~label.sk-toggleable__label {background-color: #d4ebff;}#sk-container-id-25 div.sk-label input.sk-toggleable__control:checked~label.sk-toggleable__label {background-color: #d4ebff;}#sk-container-id-25 input.sk-hidden--visually {border: 0;clip: rect(1px 1px 1px 1px);clip: rect(1px, 1px, 1px, 1px);height: 1px;margin: -1px;overflow: hidden;padding: 0;position: absolute;width: 1px;}#sk-container-id-25 div.sk-estimator {font-family: monospace;background-color: #f0f8ff;border: 1px dotted black;border-radius: 0.25em;box-sizing: border-box;margin-bottom: 0.5em;}#sk-container-id-25 div.sk-estimator:hover {background-color: #d4ebff;}#sk-container-id-25 div.sk-parallel-item::after {content: \"\";width: 100%;border-bottom: 1px solid gray;flex-grow: 1;}#sk-container-id-25 div.sk-label:hover label.sk-toggleable__label {background-color: #d4ebff;}#sk-container-id-25 div.sk-serial::before {content: \"\";position: absolute;border-left: 1px solid gray;box-sizing: border-box;top: 0;bottom: 0;left: 50%;z-index: 0;}#sk-container-id-25 div.sk-serial {display: flex;flex-direction: column;align-items: center;background-color: white;padding-right: 0.2em;padding-left: 0.2em;position: relative;}#sk-container-id-25 div.sk-item {position: relative;z-index: 1;}#sk-container-id-25 div.sk-parallel {display: flex;align-items: stretch;justify-content: center;background-color: white;position: relative;}#sk-container-id-25 div.sk-item::before, #sk-container-id-25 div.sk-parallel-item::before {content: \"\";position: absolute;border-left: 1px solid gray;box-sizing: border-box;top: 0;bottom: 0;left: 50%;z-index: -1;}#sk-container-id-25 div.sk-parallel-item {display: flex;flex-direction: column;z-index: 1;position: relative;background-color: white;}#sk-container-id-25 div.sk-parallel-item:first-child::after {align-self: flex-end;width: 50%;}#sk-container-id-25 div.sk-parallel-item:last-child::after {align-self: flex-start;width: 50%;}#sk-container-id-25 div.sk-parallel-item:only-child::after {width: 0;}#sk-container-id-25 div.sk-dashed-wrapped {border: 1px dashed gray;margin: 0 0.4em 0.5em 0.4em;box-sizing: border-box;padding-bottom: 0.4em;background-color: white;}#sk-container-id-25 div.sk-label label {font-family: monospace;font-weight: bold;display: inline-block;line-height: 1.2em;}#sk-container-id-25 div.sk-label-container {text-align: center;}#sk-container-id-25 div.sk-container {/* jupyter's `normalize.less` sets `[hidden] { display: none; }` but bootstrap.min.css set `[hidden] { display: none !important; }` so we also need the `!important` here to be able to override the default hidden behavior on the sphinx rendered scikit-learn.org. See: https://github.com/scikit-learn/scikit-learn/issues/21755 */display: inline-block !important;position: relative;}#sk-container-id-25 div.sk-text-repr-fallback {display: none;}</style><div id=\"sk-container-id-25\" class=\"sk-top-container\"><div class=\"sk-text-repr-fallback\"><pre>XGBClassifier(base_score=None, booster=None, callbacks=None,\n",
       "              colsample_bylevel=None, colsample_bynode=None,\n",
       "              colsample_bytree=None, device=None, early_stopping_rounds=None,\n",
       "              enable_categorical=False, eval_metric=None, feature_types=None,\n",
       "              gamma=None, grow_policy=None, importance_type=None,\n",
       "              interaction_constraints=None, learning_rate=None, max_bin=None,\n",
       "              max_cat_threshold=None, max_cat_to_onehot=None,\n",
       "              max_delta_step=None, max_depth=None, max_leaves=None,\n",
       "              min_child_weight=None, missing=nan, monotone_constraints=None,\n",
       "              multi_strategy=None, n_estimators=None, n_jobs=None,\n",
       "              num_parallel_tree=None, random_state=None, ...)</pre><b>In a Jupyter environment, please rerun this cell to show the HTML representation or trust the notebook. <br />On GitHub, the HTML representation is unable to render, please try loading this page with nbviewer.org.</b></div><div class=\"sk-container\" hidden><div class=\"sk-item\"><div class=\"sk-estimator sk-toggleable\"><input class=\"sk-toggleable__control sk-hidden--visually\" id=\"sk-estimator-id-37\" type=\"checkbox\" checked><label for=\"sk-estimator-id-37\" class=\"sk-toggleable__label sk-toggleable__label-arrow\">XGBClassifier</label><div class=\"sk-toggleable__content\"><pre>XGBClassifier(base_score=None, booster=None, callbacks=None,\n",
       "              colsample_bylevel=None, colsample_bynode=None,\n",
       "              colsample_bytree=None, device=None, early_stopping_rounds=None,\n",
       "              enable_categorical=False, eval_metric=None, feature_types=None,\n",
       "              gamma=None, grow_policy=None, importance_type=None,\n",
       "              interaction_constraints=None, learning_rate=None, max_bin=None,\n",
       "              max_cat_threshold=None, max_cat_to_onehot=None,\n",
       "              max_delta_step=None, max_depth=None, max_leaves=None,\n",
       "              min_child_weight=None, missing=nan, monotone_constraints=None,\n",
       "              multi_strategy=None, n_estimators=None, n_jobs=None,\n",
       "              num_parallel_tree=None, random_state=None, ...)</pre></div></div></div></div></div>"
      ],
      "text/plain": [
       "XGBClassifier(base_score=None, booster=None, callbacks=None,\n",
       "              colsample_bylevel=None, colsample_bynode=None,\n",
       "              colsample_bytree=None, device=None, early_stopping_rounds=None,\n",
       "              enable_categorical=False, eval_metric=None, feature_types=None,\n",
       "              gamma=None, grow_policy=None, importance_type=None,\n",
       "              interaction_constraints=None, learning_rate=None, max_bin=None,\n",
       "              max_cat_threshold=None, max_cat_to_onehot=None,\n",
       "              max_delta_step=None, max_depth=None, max_leaves=None,\n",
       "              min_child_weight=None, missing=nan, monotone_constraints=None,\n",
       "              multi_strategy=None, n_estimators=None, n_jobs=None,\n",
       "              num_parallel_tree=None, random_state=None, ...)"
      ]
     },
     "execution_count": 137,
     "metadata": {},
     "output_type": "execute_result"
    }
   ],
   "source": [
    "xgb_model"
   ]
  },
  {
   "cell_type": "code",
   "execution_count": 138,
   "metadata": {},
   "outputs": [],
   "source": [
    "xgb_params = {\n",
    "        'n_estimators': [100, 500, 1000, 2000],\n",
    "        'subsample': [0.6, 0.8, 1.0],\n",
    "        'max_depth': [3, 4, 5,6],\n",
    "        'learning_rate': [0.1,0.01,0.02,0.05],\n",
    "        \"min_samples_split\": [2,5,10]}"
   ]
  },
  {
   "cell_type": "code",
   "execution_count": 139,
   "metadata": {},
   "outputs": [],
   "source": [
    "xgb = XGBClassifier()\n",
    "\n",
    "xgb_cv_model = GridSearchCV(xgb, xgb_params, cv = 10, n_jobs = -1, verbose = 2)"
   ]
  },
  {
   "cell_type": "code",
   "execution_count": 140,
   "metadata": {},
   "outputs": [
    {
     "name": "stdout",
     "output_type": "stream",
     "text": [
      "Fitting 10 folds for each of 576 candidates, totalling 5760 fits\n"
     ]
    },
    {
     "data": {
      "text/html": [
       "<style>#sk-container-id-26 {color: black;}#sk-container-id-26 pre{padding: 0;}#sk-container-id-26 div.sk-toggleable {background-color: white;}#sk-container-id-26 label.sk-toggleable__label {cursor: pointer;display: block;width: 100%;margin-bottom: 0;padding: 0.3em;box-sizing: border-box;text-align: center;}#sk-container-id-26 label.sk-toggleable__label-arrow:before {content: \"▸\";float: left;margin-right: 0.25em;color: #696969;}#sk-container-id-26 label.sk-toggleable__label-arrow:hover:before {color: black;}#sk-container-id-26 div.sk-estimator:hover label.sk-toggleable__label-arrow:before {color: black;}#sk-container-id-26 div.sk-toggleable__content {max-height: 0;max-width: 0;overflow: hidden;text-align: left;background-color: #f0f8ff;}#sk-container-id-26 div.sk-toggleable__content pre {margin: 0.2em;color: black;border-radius: 0.25em;background-color: #f0f8ff;}#sk-container-id-26 input.sk-toggleable__control:checked~div.sk-toggleable__content {max-height: 200px;max-width: 100%;overflow: auto;}#sk-container-id-26 input.sk-toggleable__control:checked~label.sk-toggleable__label-arrow:before {content: \"▾\";}#sk-container-id-26 div.sk-estimator input.sk-toggleable__control:checked~label.sk-toggleable__label {background-color: #d4ebff;}#sk-container-id-26 div.sk-label input.sk-toggleable__control:checked~label.sk-toggleable__label {background-color: #d4ebff;}#sk-container-id-26 input.sk-hidden--visually {border: 0;clip: rect(1px 1px 1px 1px);clip: rect(1px, 1px, 1px, 1px);height: 1px;margin: -1px;overflow: hidden;padding: 0;position: absolute;width: 1px;}#sk-container-id-26 div.sk-estimator {font-family: monospace;background-color: #f0f8ff;border: 1px dotted black;border-radius: 0.25em;box-sizing: border-box;margin-bottom: 0.5em;}#sk-container-id-26 div.sk-estimator:hover {background-color: #d4ebff;}#sk-container-id-26 div.sk-parallel-item::after {content: \"\";width: 100%;border-bottom: 1px solid gray;flex-grow: 1;}#sk-container-id-26 div.sk-label:hover label.sk-toggleable__label {background-color: #d4ebff;}#sk-container-id-26 div.sk-serial::before {content: \"\";position: absolute;border-left: 1px solid gray;box-sizing: border-box;top: 0;bottom: 0;left: 50%;z-index: 0;}#sk-container-id-26 div.sk-serial {display: flex;flex-direction: column;align-items: center;background-color: white;padding-right: 0.2em;padding-left: 0.2em;position: relative;}#sk-container-id-26 div.sk-item {position: relative;z-index: 1;}#sk-container-id-26 div.sk-parallel {display: flex;align-items: stretch;justify-content: center;background-color: white;position: relative;}#sk-container-id-26 div.sk-item::before, #sk-container-id-26 div.sk-parallel-item::before {content: \"\";position: absolute;border-left: 1px solid gray;box-sizing: border-box;top: 0;bottom: 0;left: 50%;z-index: -1;}#sk-container-id-26 div.sk-parallel-item {display: flex;flex-direction: column;z-index: 1;position: relative;background-color: white;}#sk-container-id-26 div.sk-parallel-item:first-child::after {align-self: flex-end;width: 50%;}#sk-container-id-26 div.sk-parallel-item:last-child::after {align-self: flex-start;width: 50%;}#sk-container-id-26 div.sk-parallel-item:only-child::after {width: 0;}#sk-container-id-26 div.sk-dashed-wrapped {border: 1px dashed gray;margin: 0 0.4em 0.5em 0.4em;box-sizing: border-box;padding-bottom: 0.4em;background-color: white;}#sk-container-id-26 div.sk-label label {font-family: monospace;font-weight: bold;display: inline-block;line-height: 1.2em;}#sk-container-id-26 div.sk-label-container {text-align: center;}#sk-container-id-26 div.sk-container {/* jupyter's `normalize.less` sets `[hidden] { display: none; }` but bootstrap.min.css set `[hidden] { display: none !important; }` so we also need the `!important` here to be able to override the default hidden behavior on the sphinx rendered scikit-learn.org. See: https://github.com/scikit-learn/scikit-learn/issues/21755 */display: inline-block !important;position: relative;}#sk-container-id-26 div.sk-text-repr-fallback {display: none;}</style><div id=\"sk-container-id-26\" class=\"sk-top-container\"><div class=\"sk-text-repr-fallback\"><pre>GridSearchCV(cv=10,\n",
       "             estimator=XGBClassifier(base_score=None, booster=None,\n",
       "                                     callbacks=None, colsample_bylevel=None,\n",
       "                                     colsample_bynode=None,\n",
       "                                     colsample_bytree=None, device=None,\n",
       "                                     early_stopping_rounds=None,\n",
       "                                     enable_categorical=False, eval_metric=None,\n",
       "                                     feature_types=None, gamma=None,\n",
       "                                     grow_policy=None, importance_type=None,\n",
       "                                     interaction_constraints=None,\n",
       "                                     learning_rate=None...\n",
       "                                     max_leaves=None, min_child_weight=None,\n",
       "                                     missing=nan, monotone_constraints=None,\n",
       "                                     multi_strategy=None, n_estimators=None,\n",
       "                                     n_jobs=None, num_parallel_tree=None,\n",
       "                                     random_state=None, ...),\n",
       "             n_jobs=-1,\n",
       "             param_grid={&#x27;learning_rate&#x27;: [0.1, 0.01, 0.02, 0.05],\n",
       "                         &#x27;max_depth&#x27;: [3, 4, 5, 6],\n",
       "                         &#x27;min_samples_split&#x27;: [2, 5, 10],\n",
       "                         &#x27;n_estimators&#x27;: [100, 500, 1000, 2000],\n",
       "                         &#x27;subsample&#x27;: [0.6, 0.8, 1.0]},\n",
       "             verbose=2)</pre><b>In a Jupyter environment, please rerun this cell to show the HTML representation or trust the notebook. <br />On GitHub, the HTML representation is unable to render, please try loading this page with nbviewer.org.</b></div><div class=\"sk-container\" hidden><div class=\"sk-item sk-dashed-wrapped\"><div class=\"sk-label-container\"><div class=\"sk-label sk-toggleable\"><input class=\"sk-toggleable__control sk-hidden--visually\" id=\"sk-estimator-id-38\" type=\"checkbox\" ><label for=\"sk-estimator-id-38\" class=\"sk-toggleable__label sk-toggleable__label-arrow\">GridSearchCV</label><div class=\"sk-toggleable__content\"><pre>GridSearchCV(cv=10,\n",
       "             estimator=XGBClassifier(base_score=None, booster=None,\n",
       "                                     callbacks=None, colsample_bylevel=None,\n",
       "                                     colsample_bynode=None,\n",
       "                                     colsample_bytree=None, device=None,\n",
       "                                     early_stopping_rounds=None,\n",
       "                                     enable_categorical=False, eval_metric=None,\n",
       "                                     feature_types=None, gamma=None,\n",
       "                                     grow_policy=None, importance_type=None,\n",
       "                                     interaction_constraints=None,\n",
       "                                     learning_rate=None...\n",
       "                                     max_leaves=None, min_child_weight=None,\n",
       "                                     missing=nan, monotone_constraints=None,\n",
       "                                     multi_strategy=None, n_estimators=None,\n",
       "                                     n_jobs=None, num_parallel_tree=None,\n",
       "                                     random_state=None, ...),\n",
       "             n_jobs=-1,\n",
       "             param_grid={&#x27;learning_rate&#x27;: [0.1, 0.01, 0.02, 0.05],\n",
       "                         &#x27;max_depth&#x27;: [3, 4, 5, 6],\n",
       "                         &#x27;min_samples_split&#x27;: [2, 5, 10],\n",
       "                         &#x27;n_estimators&#x27;: [100, 500, 1000, 2000],\n",
       "                         &#x27;subsample&#x27;: [0.6, 0.8, 1.0]},\n",
       "             verbose=2)</pre></div></div></div><div class=\"sk-parallel\"><div class=\"sk-parallel-item\"><div class=\"sk-item\"><div class=\"sk-label-container\"><div class=\"sk-label sk-toggleable\"><input class=\"sk-toggleable__control sk-hidden--visually\" id=\"sk-estimator-id-39\" type=\"checkbox\" ><label for=\"sk-estimator-id-39\" class=\"sk-toggleable__label sk-toggleable__label-arrow\">estimator: XGBClassifier</label><div class=\"sk-toggleable__content\"><pre>XGBClassifier(base_score=None, booster=None, callbacks=None,\n",
       "              colsample_bylevel=None, colsample_bynode=None,\n",
       "              colsample_bytree=None, device=None, early_stopping_rounds=None,\n",
       "              enable_categorical=False, eval_metric=None, feature_types=None,\n",
       "              gamma=None, grow_policy=None, importance_type=None,\n",
       "              interaction_constraints=None, learning_rate=None, max_bin=None,\n",
       "              max_cat_threshold=None, max_cat_to_onehot=None,\n",
       "              max_delta_step=None, max_depth=None, max_leaves=None,\n",
       "              min_child_weight=None, missing=nan, monotone_constraints=None,\n",
       "              multi_strategy=None, n_estimators=None, n_jobs=None,\n",
       "              num_parallel_tree=None, random_state=None, ...)</pre></div></div></div><div class=\"sk-serial\"><div class=\"sk-item\"><div class=\"sk-estimator sk-toggleable\"><input class=\"sk-toggleable__control sk-hidden--visually\" id=\"sk-estimator-id-40\" type=\"checkbox\" ><label for=\"sk-estimator-id-40\" class=\"sk-toggleable__label sk-toggleable__label-arrow\">XGBClassifier</label><div class=\"sk-toggleable__content\"><pre>XGBClassifier(base_score=None, booster=None, callbacks=None,\n",
       "              colsample_bylevel=None, colsample_bynode=None,\n",
       "              colsample_bytree=None, device=None, early_stopping_rounds=None,\n",
       "              enable_categorical=False, eval_metric=None, feature_types=None,\n",
       "              gamma=None, grow_policy=None, importance_type=None,\n",
       "              interaction_constraints=None, learning_rate=None, max_bin=None,\n",
       "              max_cat_threshold=None, max_cat_to_onehot=None,\n",
       "              max_delta_step=None, max_depth=None, max_leaves=None,\n",
       "              min_child_weight=None, missing=nan, monotone_constraints=None,\n",
       "              multi_strategy=None, n_estimators=None, n_jobs=None,\n",
       "              num_parallel_tree=None, random_state=None, ...)</pre></div></div></div></div></div></div></div></div></div></div>"
      ],
      "text/plain": [
       "GridSearchCV(cv=10,\n",
       "             estimator=XGBClassifier(base_score=None, booster=None,\n",
       "                                     callbacks=None, colsample_bylevel=None,\n",
       "                                     colsample_bynode=None,\n",
       "                                     colsample_bytree=None, device=None,\n",
       "                                     early_stopping_rounds=None,\n",
       "                                     enable_categorical=False, eval_metric=None,\n",
       "                                     feature_types=None, gamma=None,\n",
       "                                     grow_policy=None, importance_type=None,\n",
       "                                     interaction_constraints=None,\n",
       "                                     learning_rate=None...\n",
       "                                     max_leaves=None, min_child_weight=None,\n",
       "                                     missing=nan, monotone_constraints=None,\n",
       "                                     multi_strategy=None, n_estimators=None,\n",
       "                                     n_jobs=None, num_parallel_tree=None,\n",
       "                                     random_state=None, ...),\n",
       "             n_jobs=-1,\n",
       "             param_grid={'learning_rate': [0.1, 0.01, 0.02, 0.05],\n",
       "                         'max_depth': [3, 4, 5, 6],\n",
       "                         'min_samples_split': [2, 5, 10],\n",
       "                         'n_estimators': [100, 500, 1000, 2000],\n",
       "                         'subsample': [0.6, 0.8, 1.0]},\n",
       "             verbose=2)"
      ]
     },
     "execution_count": 140,
     "metadata": {},
     "output_type": "execute_result"
    }
   ],
   "source": [
    "xgb_cv_model.fit(X_train, y_train)"
   ]
  },
  {
   "cell_type": "code",
   "execution_count": 141,
   "metadata": {},
   "outputs": [
    {
     "data": {
      "text/plain": [
       "{'learning_rate': 0.05,\n",
       " 'max_depth': 3,\n",
       " 'min_samples_split': 2,\n",
       " 'n_estimators': 100,\n",
       " 'subsample': 1.0}"
      ]
     },
     "execution_count": 141,
     "metadata": {},
     "output_type": "execute_result"
    }
   ],
   "source": [
    "xgb_cv_model.best_params_"
   ]
  },
  {
   "cell_type": "code",
   "execution_count": 142,
   "metadata": {},
   "outputs": [],
   "source": [
    "xgb = XGBClassifier(learning_rate = 0.01, \n",
    "                    max_depth = 6,\n",
    "                    min_samples_split = 2,\n",
    "                    n_estimators = 100,\n",
    "                    subsample = 0.8)"
   ]
  },
  {
   "cell_type": "code",
   "execution_count": 143,
   "metadata": {},
   "outputs": [],
   "source": [
    "xgb_tuned =  xgb.fit(X_train,y_train)"
   ]
  },
  {
   "cell_type": "code",
   "execution_count": 144,
   "metadata": {},
   "outputs": [
    {
     "data": {
      "text/plain": [
       "0.7532467532467533"
      ]
     },
     "execution_count": 144,
     "metadata": {},
     "output_type": "execute_result"
    }
   ],
   "source": [
    "y_pred = xgb_tuned.predict(X_test)\n",
    "accuracy_score(y_test, y_pred)"
   ]
  },
  {
   "cell_type": "markdown",
   "metadata": {},
   "source": [
    "# LightGBM"
   ]
  },
  {
   "cell_type": "code",
   "execution_count": 145,
   "metadata": {},
   "outputs": [],
   "source": [
    "df = diabetes.copy()\n",
    "df = df.dropna()\n",
    "y = df[\"Outcome\"]\n",
    "X = df.drop(['Outcome'], axis=1)\n",
    "#X = df[\"Pregnancies\"]\n",
    "X = pd.DataFrame(X)\n",
    "X_train, X_test, y_train, y_test = train_test_split(X, y, \n",
    "                                                    test_size=0.30, \n",
    "                                                    random_state=42)"
   ]
  },
  {
   "cell_type": "code",
   "execution_count": 146,
   "metadata": {},
   "outputs": [],
   "source": [
    "#!conda install -c conda-forge lightgbm\n",
    "from lightgbm import LGBMClassifier"
   ]
  },
  {
   "cell_type": "code",
   "execution_count": 147,
   "metadata": {},
   "outputs": [
    {
     "name": "stdout",
     "output_type": "stream",
     "text": [
      "[LightGBM] [Info] Number of positive: 188, number of negative: 349\n",
      "[LightGBM] [Info] Auto-choosing row-wise multi-threading, the overhead of testing was 0.000482 seconds.\n",
      "You can set `force_row_wise=true` to remove the overhead.\n",
      "And if memory is not enough, you can set `force_col_wise=true`.\n",
      "[LightGBM] [Info] Total Bins 606\n",
      "[LightGBM] [Info] Number of data points in the train set: 537, number of used features: 8\n",
      "[LightGBM] [Info] [binary:BoostFromScore]: pavg=0.350093 -> initscore=-0.618630\n",
      "[LightGBM] [Info] Start training from score -0.618630\n",
      "[LightGBM] [Warning] No further splits with positive gain, best gain: -inf\n",
      "[LightGBM] [Warning] No further splits with positive gain, best gain: -inf\n",
      "[LightGBM] [Warning] No further splits with positive gain, best gain: -inf\n",
      "[LightGBM] [Warning] No further splits with positive gain, best gain: -inf\n",
      "[LightGBM] [Warning] No further splits with positive gain, best gain: -inf\n",
      "[LightGBM] [Warning] No further splits with positive gain, best gain: -inf\n",
      "[LightGBM] [Warning] No further splits with positive gain, best gain: -inf\n",
      "[LightGBM] [Warning] No further splits with positive gain, best gain: -inf\n",
      "[LightGBM] [Warning] No further splits with positive gain, best gain: -inf\n",
      "[LightGBM] [Warning] No further splits with positive gain, best gain: -inf\n",
      "[LightGBM] [Warning] No further splits with positive gain, best gain: -inf\n",
      "[LightGBM] [Warning] No further splits with positive gain, best gain: -inf\n",
      "[LightGBM] [Warning] No further splits with positive gain, best gain: -inf\n",
      "[LightGBM] [Warning] No further splits with positive gain, best gain: -inf\n",
      "[LightGBM] [Warning] No further splits with positive gain, best gain: -inf\n",
      "[LightGBM] [Warning] No further splits with positive gain, best gain: -inf\n",
      "[LightGBM] [Warning] No further splits with positive gain, best gain: -inf\n",
      "[LightGBM] [Warning] No further splits with positive gain, best gain: -inf\n",
      "[LightGBM] [Warning] No further splits with positive gain, best gain: -inf\n",
      "[LightGBM] [Warning] No further splits with positive gain, best gain: -inf\n",
      "[LightGBM] [Warning] No further splits with positive gain, best gain: -inf\n",
      "[LightGBM] [Warning] No further splits with positive gain, best gain: -inf\n",
      "[LightGBM] [Warning] No further splits with positive gain, best gain: -inf\n",
      "[LightGBM] [Warning] No further splits with positive gain, best gain: -inf\n",
      "[LightGBM] [Warning] No further splits with positive gain, best gain: -inf\n",
      "[LightGBM] [Warning] No further splits with positive gain, best gain: -inf\n",
      "[LightGBM] [Warning] No further splits with positive gain, best gain: -inf\n",
      "[LightGBM] [Warning] No further splits with positive gain, best gain: -inf\n",
      "[LightGBM] [Warning] No further splits with positive gain, best gain: -inf\n",
      "[LightGBM] [Warning] No further splits with positive gain, best gain: -inf\n",
      "[LightGBM] [Warning] No further splits with positive gain, best gain: -inf\n",
      "[LightGBM] [Warning] No further splits with positive gain, best gain: -inf\n",
      "[LightGBM] [Warning] No further splits with positive gain, best gain: -inf\n",
      "[LightGBM] [Warning] No further splits with positive gain, best gain: -inf\n",
      "[LightGBM] [Warning] No further splits with positive gain, best gain: -inf\n",
      "[LightGBM] [Warning] No further splits with positive gain, best gain: -inf\n",
      "[LightGBM] [Warning] No further splits with positive gain, best gain: -inf\n",
      "[LightGBM] [Warning] No further splits with positive gain, best gain: -inf\n",
      "[LightGBM] [Warning] No further splits with positive gain, best gain: -inf\n",
      "[LightGBM] [Warning] No further splits with positive gain, best gain: -inf\n",
      "[LightGBM] [Warning] No further splits with positive gain, best gain: -inf\n",
      "[LightGBM] [Warning] No further splits with positive gain, best gain: -inf\n",
      "[LightGBM] [Warning] No further splits with positive gain, best gain: -inf\n",
      "[LightGBM] [Warning] No further splits with positive gain, best gain: -inf\n",
      "[LightGBM] [Warning] No further splits with positive gain, best gain: -inf\n",
      "[LightGBM] [Warning] No further splits with positive gain, best gain: -inf\n",
      "[LightGBM] [Warning] No further splits with positive gain, best gain: -inf\n",
      "[LightGBM] [Warning] No further splits with positive gain, best gain: -inf\n",
      "[LightGBM] [Warning] No further splits with positive gain, best gain: -inf\n",
      "[LightGBM] [Warning] No further splits with positive gain, best gain: -inf\n",
      "[LightGBM] [Warning] No further splits with positive gain, best gain: -inf\n",
      "[LightGBM] [Warning] No further splits with positive gain, best gain: -inf\n",
      "[LightGBM] [Warning] No further splits with positive gain, best gain: -inf\n",
      "[LightGBM] [Warning] No further splits with positive gain, best gain: -inf\n",
      "[LightGBM] [Warning] No further splits with positive gain, best gain: -inf\n",
      "[LightGBM] [Warning] No further splits with positive gain, best gain: -inf\n",
      "[LightGBM] [Warning] No further splits with positive gain, best gain: -inf\n",
      "[LightGBM] [Warning] No further splits with positive gain, best gain: -inf\n",
      "[LightGBM] [Warning] No further splits with positive gain, best gain: -inf\n",
      "[LightGBM] [Warning] No further splits with positive gain, best gain: -inf\n",
      "[LightGBM] [Warning] No further splits with positive gain, best gain: -inf\n",
      "[LightGBM] [Warning] No further splits with positive gain, best gain: -inf\n",
      "[LightGBM] [Warning] No further splits with positive gain, best gain: -inf\n",
      "[LightGBM] [Warning] No further splits with positive gain, best gain: -inf\n",
      "[LightGBM] [Warning] No further splits with positive gain, best gain: -inf\n",
      "[LightGBM] [Warning] No further splits with positive gain, best gain: -inf\n",
      "[LightGBM] [Warning] No further splits with positive gain, best gain: -inf\n",
      "[LightGBM] [Warning] No further splits with positive gain, best gain: -inf\n",
      "[LightGBM] [Warning] No further splits with positive gain, best gain: -inf\n",
      "[LightGBM] [Warning] No further splits with positive gain, best gain: -inf\n",
      "[LightGBM] [Warning] No further splits with positive gain, best gain: -inf\n",
      "[LightGBM] [Warning] No further splits with positive gain, best gain: -inf\n",
      "[LightGBM] [Warning] No further splits with positive gain, best gain: -inf\n",
      "[LightGBM] [Warning] No further splits with positive gain, best gain: -inf\n",
      "[LightGBM] [Warning] No further splits with positive gain, best gain: -inf\n",
      "[LightGBM] [Warning] No further splits with positive gain, best gain: -inf\n",
      "[LightGBM] [Warning] No further splits with positive gain, best gain: -inf\n",
      "[LightGBM] [Warning] No further splits with positive gain, best gain: -inf\n",
      "[LightGBM] [Warning] No further splits with positive gain, best gain: -inf\n",
      "[LightGBM] [Warning] No further splits with positive gain, best gain: -inf\n",
      "[LightGBM] [Warning] No further splits with positive gain, best gain: -inf\n",
      "[LightGBM] [Warning] No further splits with positive gain, best gain: -inf\n",
      "[LightGBM] [Warning] No further splits with positive gain, best gain: -inf\n",
      "[LightGBM] [Warning] No further splits with positive gain, best gain: -inf\n",
      "[LightGBM] [Warning] No further splits with positive gain, best gain: -inf\n",
      "[LightGBM] [Warning] No further splits with positive gain, best gain: -inf\n",
      "[LightGBM] [Warning] No further splits with positive gain, best gain: -inf\n",
      "[LightGBM] [Warning] No further splits with positive gain, best gain: -inf\n",
      "[LightGBM] [Warning] No further splits with positive gain, best gain: -inf\n",
      "[LightGBM] [Warning] No further splits with positive gain, best gain: -inf\n",
      "[LightGBM] [Warning] No further splits with positive gain, best gain: -inf\n",
      "[LightGBM] [Warning] No further splits with positive gain, best gain: -inf\n",
      "[LightGBM] [Warning] No further splits with positive gain, best gain: -inf\n",
      "[LightGBM] [Warning] No further splits with positive gain, best gain: -inf\n",
      "[LightGBM] [Warning] No further splits with positive gain, best gain: -inf\n",
      "[LightGBM] [Warning] No further splits with positive gain, best gain: -inf\n",
      "[LightGBM] [Warning] No further splits with positive gain, best gain: -inf\n",
      "[LightGBM] [Warning] No further splits with positive gain, best gain: -inf\n",
      "[LightGBM] [Warning] No further splits with positive gain, best gain: -inf\n",
      "[LightGBM] [Warning] No further splits with positive gain, best gain: -inf\n"
     ]
    }
   ],
   "source": [
    "lgbm_model = LGBMClassifier().fit(X_train, y_train)"
   ]
  },
  {
   "cell_type": "code",
   "execution_count": 148,
   "metadata": {},
   "outputs": [
    {
     "data": {
      "text/plain": [
       "0.7229437229437229"
      ]
     },
     "execution_count": 148,
     "metadata": {},
     "output_type": "execute_result"
    }
   ],
   "source": [
    "y_pred = lgbm_model.predict(X_test)\n",
    "accuracy_score(y_test, y_pred)"
   ]
  },
  {
   "cell_type": "code",
   "execution_count": 149,
   "metadata": {},
   "outputs": [],
   "source": [
    "## Model Tuning"
   ]
  },
  {
   "cell_type": "code",
   "execution_count": 150,
   "metadata": {},
   "outputs": [
    {
     "data": {
      "text/html": [
       "<style>#sk-container-id-27 {color: black;}#sk-container-id-27 pre{padding: 0;}#sk-container-id-27 div.sk-toggleable {background-color: white;}#sk-container-id-27 label.sk-toggleable__label {cursor: pointer;display: block;width: 100%;margin-bottom: 0;padding: 0.3em;box-sizing: border-box;text-align: center;}#sk-container-id-27 label.sk-toggleable__label-arrow:before {content: \"▸\";float: left;margin-right: 0.25em;color: #696969;}#sk-container-id-27 label.sk-toggleable__label-arrow:hover:before {color: black;}#sk-container-id-27 div.sk-estimator:hover label.sk-toggleable__label-arrow:before {color: black;}#sk-container-id-27 div.sk-toggleable__content {max-height: 0;max-width: 0;overflow: hidden;text-align: left;background-color: #f0f8ff;}#sk-container-id-27 div.sk-toggleable__content pre {margin: 0.2em;color: black;border-radius: 0.25em;background-color: #f0f8ff;}#sk-container-id-27 input.sk-toggleable__control:checked~div.sk-toggleable__content {max-height: 200px;max-width: 100%;overflow: auto;}#sk-container-id-27 input.sk-toggleable__control:checked~label.sk-toggleable__label-arrow:before {content: \"▾\";}#sk-container-id-27 div.sk-estimator input.sk-toggleable__control:checked~label.sk-toggleable__label {background-color: #d4ebff;}#sk-container-id-27 div.sk-label input.sk-toggleable__control:checked~label.sk-toggleable__label {background-color: #d4ebff;}#sk-container-id-27 input.sk-hidden--visually {border: 0;clip: rect(1px 1px 1px 1px);clip: rect(1px, 1px, 1px, 1px);height: 1px;margin: -1px;overflow: hidden;padding: 0;position: absolute;width: 1px;}#sk-container-id-27 div.sk-estimator {font-family: monospace;background-color: #f0f8ff;border: 1px dotted black;border-radius: 0.25em;box-sizing: border-box;margin-bottom: 0.5em;}#sk-container-id-27 div.sk-estimator:hover {background-color: #d4ebff;}#sk-container-id-27 div.sk-parallel-item::after {content: \"\";width: 100%;border-bottom: 1px solid gray;flex-grow: 1;}#sk-container-id-27 div.sk-label:hover label.sk-toggleable__label {background-color: #d4ebff;}#sk-container-id-27 div.sk-serial::before {content: \"\";position: absolute;border-left: 1px solid gray;box-sizing: border-box;top: 0;bottom: 0;left: 50%;z-index: 0;}#sk-container-id-27 div.sk-serial {display: flex;flex-direction: column;align-items: center;background-color: white;padding-right: 0.2em;padding-left: 0.2em;position: relative;}#sk-container-id-27 div.sk-item {position: relative;z-index: 1;}#sk-container-id-27 div.sk-parallel {display: flex;align-items: stretch;justify-content: center;background-color: white;position: relative;}#sk-container-id-27 div.sk-item::before, #sk-container-id-27 div.sk-parallel-item::before {content: \"\";position: absolute;border-left: 1px solid gray;box-sizing: border-box;top: 0;bottom: 0;left: 50%;z-index: -1;}#sk-container-id-27 div.sk-parallel-item {display: flex;flex-direction: column;z-index: 1;position: relative;background-color: white;}#sk-container-id-27 div.sk-parallel-item:first-child::after {align-self: flex-end;width: 50%;}#sk-container-id-27 div.sk-parallel-item:last-child::after {align-self: flex-start;width: 50%;}#sk-container-id-27 div.sk-parallel-item:only-child::after {width: 0;}#sk-container-id-27 div.sk-dashed-wrapped {border: 1px dashed gray;margin: 0 0.4em 0.5em 0.4em;box-sizing: border-box;padding-bottom: 0.4em;background-color: white;}#sk-container-id-27 div.sk-label label {font-family: monospace;font-weight: bold;display: inline-block;line-height: 1.2em;}#sk-container-id-27 div.sk-label-container {text-align: center;}#sk-container-id-27 div.sk-container {/* jupyter's `normalize.less` sets `[hidden] { display: none; }` but bootstrap.min.css set `[hidden] { display: none !important; }` so we also need the `!important` here to be able to override the default hidden behavior on the sphinx rendered scikit-learn.org. See: https://github.com/scikit-learn/scikit-learn/issues/21755 */display: inline-block !important;position: relative;}#sk-container-id-27 div.sk-text-repr-fallback {display: none;}</style><div id=\"sk-container-id-27\" class=\"sk-top-container\"><div class=\"sk-text-repr-fallback\"><pre>LGBMClassifier()</pre><b>In a Jupyter environment, please rerun this cell to show the HTML representation or trust the notebook. <br />On GitHub, the HTML representation is unable to render, please try loading this page with nbviewer.org.</b></div><div class=\"sk-container\" hidden><div class=\"sk-item\"><div class=\"sk-estimator sk-toggleable\"><input class=\"sk-toggleable__control sk-hidden--visually\" id=\"sk-estimator-id-41\" type=\"checkbox\" checked><label for=\"sk-estimator-id-41\" class=\"sk-toggleable__label sk-toggleable__label-arrow\">LGBMClassifier</label><div class=\"sk-toggleable__content\"><pre>LGBMClassifier()</pre></div></div></div></div></div>"
      ],
      "text/plain": [
       "LGBMClassifier()"
      ]
     },
     "execution_count": 150,
     "metadata": {},
     "output_type": "execute_result"
    }
   ],
   "source": [
    "lgbm_model"
   ]
  },
  {
   "cell_type": "code",
   "execution_count": 151,
   "metadata": {},
   "outputs": [],
   "source": [
    "lgbm_params = {\n",
    "        'n_estimators': [100, 500, 1000, 2000],\n",
    "        'subsample': [0.6, 0.8, 1.0],\n",
    "        'max_depth': [3, 4, 5,6],\n",
    "        'learning_rate': [0.1,0.01,0.02,0.05],\n",
    "        \"min_child_samples\": [5,10,20]}"
   ]
  },
  {
   "cell_type": "code",
   "execution_count": 152,
   "metadata": {},
   "outputs": [],
   "source": [
    "lgbm = LGBMClassifier()\n",
    "\n",
    "lgbm_cv_model = GridSearchCV(lgbm, lgbm_params, \n",
    "                             cv = 10, \n",
    "                             n_jobs = -1, \n",
    "                             verbose = 2)\n",
    "\n"
   ]
  },
  {
   "cell_type": "code",
   "execution_count": 153,
   "metadata": {},
   "outputs": [
    {
     "name": "stdout",
     "output_type": "stream",
     "text": [
      "Fitting 10 folds for each of 576 candidates, totalling 5760 fits\n",
      "[LightGBM] [Info] Number of positive: 188, number of negative: 349\n",
      "[LightGBM] [Info] Auto-choosing col-wise multi-threading, the overhead of testing was 0.000077 seconds.\n",
      "You can set `force_col_wise=true` to remove the overhead.\n",
      "[LightGBM] [Info] Total Bins 606\n",
      "[LightGBM] [Info] Number of data points in the train set: 537, number of used features: 8\n",
      "[LightGBM] [Info] [binary:BoostFromScore]: pavg=0.350093 -> initscore=-0.618630\n",
      "[LightGBM] [Info] Start training from score -0.618630\n",
      "[LightGBM] [Warning] No further splits with positive gain, best gain: -inf\n",
      "[LightGBM] [Warning] No further splits with positive gain, best gain: -inf\n",
      "[LightGBM] [Warning] No further splits with positive gain, best gain: -inf\n",
      "[LightGBM] [Warning] No further splits with positive gain, best gain: -inf\n",
      "[LightGBM] [Warning] No further splits with positive gain, best gain: -inf\n",
      "[LightGBM] [Warning] No further splits with positive gain, best gain: -inf\n",
      "[LightGBM] [Warning] No further splits with positive gain, best gain: -inf\n",
      "[LightGBM] [Warning] No further splits with positive gain, best gain: -inf\n",
      "[LightGBM] [Warning] No further splits with positive gain, best gain: -inf\n",
      "[LightGBM] [Warning] No further splits with positive gain, best gain: -inf\n",
      "[LightGBM] [Warning] No further splits with positive gain, best gain: -inf\n",
      "[LightGBM] [Warning] No further splits with positive gain, best gain: -inf\n",
      "[LightGBM] [Warning] No further splits with positive gain, best gain: -inf\n",
      "[LightGBM] [Warning] No further splits with positive gain, best gain: -inf\n",
      "[LightGBM] [Warning] No further splits with positive gain, best gain: -inf\n",
      "[LightGBM] [Warning] No further splits with positive gain, best gain: -inf\n",
      "[LightGBM] [Warning] No further splits with positive gain, best gain: -inf\n",
      "[LightGBM] [Warning] No further splits with positive gain, best gain: -inf\n",
      "[LightGBM] [Warning] No further splits with positive gain, best gain: -inf\n",
      "[LightGBM] [Warning] No further splits with positive gain, best gain: -inf\n",
      "[LightGBM] [Warning] No further splits with positive gain, best gain: -inf\n",
      "[LightGBM] [Warning] No further splits with positive gain, best gain: -inf\n",
      "[LightGBM] [Warning] No further splits with positive gain, best gain: -inf\n",
      "[LightGBM] [Warning] No further splits with positive gain, best gain: -inf\n",
      "[LightGBM] [Warning] No further splits with positive gain, best gain: -inf\n",
      "[LightGBM] [Warning] No further splits with positive gain, best gain: -inf\n",
      "[LightGBM] [Warning] No further splits with positive gain, best gain: -inf\n",
      "[LightGBM] [Warning] No further splits with positive gain, best gain: -inf\n",
      "[LightGBM] [Warning] No further splits with positive gain, best gain: -inf\n",
      "[LightGBM] [Warning] No further splits with positive gain, best gain: -inf\n",
      "[LightGBM] [Warning] No further splits with positive gain, best gain: -inf\n",
      "[LightGBM] [Warning] No further splits with positive gain, best gain: -inf\n",
      "[LightGBM] [Warning] No further splits with positive gain, best gain: -inf\n",
      "[LightGBM] [Warning] No further splits with positive gain, best gain: -inf\n",
      "[LightGBM] [Warning] No further splits with positive gain, best gain: -inf\n",
      "[LightGBM] [Warning] No further splits with positive gain, best gain: -inf\n",
      "[LightGBM] [Warning] No further splits with positive gain, best gain: -inf\n",
      "[LightGBM] [Warning] No further splits with positive gain, best gain: -inf\n",
      "[LightGBM] [Warning] No further splits with positive gain, best gain: -inf\n",
      "[LightGBM] [Warning] No further splits with positive gain, best gain: -inf\n",
      "[LightGBM] [Warning] No further splits with positive gain, best gain: -inf\n",
      "[LightGBM] [Warning] No further splits with positive gain, best gain: -inf\n",
      "[LightGBM] [Warning] No further splits with positive gain, best gain: -inf\n",
      "[LightGBM] [Warning] No further splits with positive gain, best gain: -inf\n",
      "[LightGBM] [Warning] No further splits with positive gain, best gain: -inf\n",
      "[LightGBM] [Warning] No further splits with positive gain, best gain: -inf\n",
      "[LightGBM] [Warning] No further splits with positive gain, best gain: -inf\n",
      "[LightGBM] [Warning] No further splits with positive gain, best gain: -inf\n",
      "[LightGBM] [Warning] No further splits with positive gain, best gain: -inf\n",
      "[LightGBM] [Warning] No further splits with positive gain, best gain: -inf\n",
      "[LightGBM] [Warning] No further splits with positive gain, best gain: -inf\n",
      "[LightGBM] [Warning] No further splits with positive gain, best gain: -inf\n",
      "[LightGBM] [Warning] No further splits with positive gain, best gain: -inf\n",
      "[LightGBM] [Warning] No further splits with positive gain, best gain: -inf\n",
      "[LightGBM] [Warning] No further splits with positive gain, best gain: -inf\n",
      "[LightGBM] [Warning] No further splits with positive gain, best gain: -inf\n",
      "[LightGBM] [Warning] No further splits with positive gain, best gain: -inf\n",
      "[LightGBM] [Warning] No further splits with positive gain, best gain: -inf\n",
      "[LightGBM] [Warning] No further splits with positive gain, best gain: -inf\n",
      "[LightGBM] [Warning] No further splits with positive gain, best gain: -inf\n",
      "[LightGBM] [Warning] No further splits with positive gain, best gain: -inf\n",
      "[LightGBM] [Warning] No further splits with positive gain, best gain: -inf\n",
      "[LightGBM] [Warning] No further splits with positive gain, best gain: -inf\n",
      "[LightGBM] [Warning] No further splits with positive gain, best gain: -inf\n",
      "[LightGBM] [Warning] No further splits with positive gain, best gain: -inf\n",
      "[LightGBM] [Warning] No further splits with positive gain, best gain: -inf\n",
      "[LightGBM] [Warning] No further splits with positive gain, best gain: -inf\n",
      "[LightGBM] [Warning] No further splits with positive gain, best gain: -inf\n",
      "[LightGBM] [Warning] No further splits with positive gain, best gain: -inf\n",
      "[LightGBM] [Warning] No further splits with positive gain, best gain: -inf\n",
      "[LightGBM] [Warning] No further splits with positive gain, best gain: -inf\n",
      "[LightGBM] [Warning] No further splits with positive gain, best gain: -inf\n",
      "[LightGBM] [Warning] No further splits with positive gain, best gain: -inf\n",
      "[LightGBM] [Warning] No further splits with positive gain, best gain: -inf\n",
      "[LightGBM] [Warning] No further splits with positive gain, best gain: -inf\n"
     ]
    },
    {
     "data": {
      "text/html": [
       "<style>#sk-container-id-28 {color: black;}#sk-container-id-28 pre{padding: 0;}#sk-container-id-28 div.sk-toggleable {background-color: white;}#sk-container-id-28 label.sk-toggleable__label {cursor: pointer;display: block;width: 100%;margin-bottom: 0;padding: 0.3em;box-sizing: border-box;text-align: center;}#sk-container-id-28 label.sk-toggleable__label-arrow:before {content: \"▸\";float: left;margin-right: 0.25em;color: #696969;}#sk-container-id-28 label.sk-toggleable__label-arrow:hover:before {color: black;}#sk-container-id-28 div.sk-estimator:hover label.sk-toggleable__label-arrow:before {color: black;}#sk-container-id-28 div.sk-toggleable__content {max-height: 0;max-width: 0;overflow: hidden;text-align: left;background-color: #f0f8ff;}#sk-container-id-28 div.sk-toggleable__content pre {margin: 0.2em;color: black;border-radius: 0.25em;background-color: #f0f8ff;}#sk-container-id-28 input.sk-toggleable__control:checked~div.sk-toggleable__content {max-height: 200px;max-width: 100%;overflow: auto;}#sk-container-id-28 input.sk-toggleable__control:checked~label.sk-toggleable__label-arrow:before {content: \"▾\";}#sk-container-id-28 div.sk-estimator input.sk-toggleable__control:checked~label.sk-toggleable__label {background-color: #d4ebff;}#sk-container-id-28 div.sk-label input.sk-toggleable__control:checked~label.sk-toggleable__label {background-color: #d4ebff;}#sk-container-id-28 input.sk-hidden--visually {border: 0;clip: rect(1px 1px 1px 1px);clip: rect(1px, 1px, 1px, 1px);height: 1px;margin: -1px;overflow: hidden;padding: 0;position: absolute;width: 1px;}#sk-container-id-28 div.sk-estimator {font-family: monospace;background-color: #f0f8ff;border: 1px dotted black;border-radius: 0.25em;box-sizing: border-box;margin-bottom: 0.5em;}#sk-container-id-28 div.sk-estimator:hover {background-color: #d4ebff;}#sk-container-id-28 div.sk-parallel-item::after {content: \"\";width: 100%;border-bottom: 1px solid gray;flex-grow: 1;}#sk-container-id-28 div.sk-label:hover label.sk-toggleable__label {background-color: #d4ebff;}#sk-container-id-28 div.sk-serial::before {content: \"\";position: absolute;border-left: 1px solid gray;box-sizing: border-box;top: 0;bottom: 0;left: 50%;z-index: 0;}#sk-container-id-28 div.sk-serial {display: flex;flex-direction: column;align-items: center;background-color: white;padding-right: 0.2em;padding-left: 0.2em;position: relative;}#sk-container-id-28 div.sk-item {position: relative;z-index: 1;}#sk-container-id-28 div.sk-parallel {display: flex;align-items: stretch;justify-content: center;background-color: white;position: relative;}#sk-container-id-28 div.sk-item::before, #sk-container-id-28 div.sk-parallel-item::before {content: \"\";position: absolute;border-left: 1px solid gray;box-sizing: border-box;top: 0;bottom: 0;left: 50%;z-index: -1;}#sk-container-id-28 div.sk-parallel-item {display: flex;flex-direction: column;z-index: 1;position: relative;background-color: white;}#sk-container-id-28 div.sk-parallel-item:first-child::after {align-self: flex-end;width: 50%;}#sk-container-id-28 div.sk-parallel-item:last-child::after {align-self: flex-start;width: 50%;}#sk-container-id-28 div.sk-parallel-item:only-child::after {width: 0;}#sk-container-id-28 div.sk-dashed-wrapped {border: 1px dashed gray;margin: 0 0.4em 0.5em 0.4em;box-sizing: border-box;padding-bottom: 0.4em;background-color: white;}#sk-container-id-28 div.sk-label label {font-family: monospace;font-weight: bold;display: inline-block;line-height: 1.2em;}#sk-container-id-28 div.sk-label-container {text-align: center;}#sk-container-id-28 div.sk-container {/* jupyter's `normalize.less` sets `[hidden] { display: none; }` but bootstrap.min.css set `[hidden] { display: none !important; }` so we also need the `!important` here to be able to override the default hidden behavior on the sphinx rendered scikit-learn.org. See: https://github.com/scikit-learn/scikit-learn/issues/21755 */display: inline-block !important;position: relative;}#sk-container-id-28 div.sk-text-repr-fallback {display: none;}</style><div id=\"sk-container-id-28\" class=\"sk-top-container\"><div class=\"sk-text-repr-fallback\"><pre>GridSearchCV(cv=10, estimator=LGBMClassifier(), n_jobs=-1,\n",
       "             param_grid={&#x27;learning_rate&#x27;: [0.1, 0.01, 0.02, 0.05],\n",
       "                         &#x27;max_depth&#x27;: [3, 4, 5, 6],\n",
       "                         &#x27;min_child_samples&#x27;: [5, 10, 20],\n",
       "                         &#x27;n_estimators&#x27;: [100, 500, 1000, 2000],\n",
       "                         &#x27;subsample&#x27;: [0.6, 0.8, 1.0]},\n",
       "             verbose=2)</pre><b>In a Jupyter environment, please rerun this cell to show the HTML representation or trust the notebook. <br />On GitHub, the HTML representation is unable to render, please try loading this page with nbviewer.org.</b></div><div class=\"sk-container\" hidden><div class=\"sk-item sk-dashed-wrapped\"><div class=\"sk-label-container\"><div class=\"sk-label sk-toggleable\"><input class=\"sk-toggleable__control sk-hidden--visually\" id=\"sk-estimator-id-42\" type=\"checkbox\" ><label for=\"sk-estimator-id-42\" class=\"sk-toggleable__label sk-toggleable__label-arrow\">GridSearchCV</label><div class=\"sk-toggleable__content\"><pre>GridSearchCV(cv=10, estimator=LGBMClassifier(), n_jobs=-1,\n",
       "             param_grid={&#x27;learning_rate&#x27;: [0.1, 0.01, 0.02, 0.05],\n",
       "                         &#x27;max_depth&#x27;: [3, 4, 5, 6],\n",
       "                         &#x27;min_child_samples&#x27;: [5, 10, 20],\n",
       "                         &#x27;n_estimators&#x27;: [100, 500, 1000, 2000],\n",
       "                         &#x27;subsample&#x27;: [0.6, 0.8, 1.0]},\n",
       "             verbose=2)</pre></div></div></div><div class=\"sk-parallel\"><div class=\"sk-parallel-item\"><div class=\"sk-item\"><div class=\"sk-label-container\"><div class=\"sk-label sk-toggleable\"><input class=\"sk-toggleable__control sk-hidden--visually\" id=\"sk-estimator-id-43\" type=\"checkbox\" ><label for=\"sk-estimator-id-43\" class=\"sk-toggleable__label sk-toggleable__label-arrow\">estimator: LGBMClassifier</label><div class=\"sk-toggleable__content\"><pre>LGBMClassifier()</pre></div></div></div><div class=\"sk-serial\"><div class=\"sk-item\"><div class=\"sk-estimator sk-toggleable\"><input class=\"sk-toggleable__control sk-hidden--visually\" id=\"sk-estimator-id-44\" type=\"checkbox\" ><label for=\"sk-estimator-id-44\" class=\"sk-toggleable__label sk-toggleable__label-arrow\">LGBMClassifier</label><div class=\"sk-toggleable__content\"><pre>LGBMClassifier()</pre></div></div></div></div></div></div></div></div></div></div>"
      ],
      "text/plain": [
       "GridSearchCV(cv=10, estimator=LGBMClassifier(), n_jobs=-1,\n",
       "             param_grid={'learning_rate': [0.1, 0.01, 0.02, 0.05],\n",
       "                         'max_depth': [3, 4, 5, 6],\n",
       "                         'min_child_samples': [5, 10, 20],\n",
       "                         'n_estimators': [100, 500, 1000, 2000],\n",
       "                         'subsample': [0.6, 0.8, 1.0]},\n",
       "             verbose=2)"
      ]
     },
     "execution_count": 153,
     "metadata": {},
     "output_type": "execute_result"
    }
   ],
   "source": [
    "lgbm_cv_model.fit(X_train, y_train)"
   ]
  },
  {
   "cell_type": "code",
   "execution_count": 154,
   "metadata": {},
   "outputs": [
    {
     "data": {
      "text/plain": [
       "{'learning_rate': 0.05,\n",
       " 'max_depth': 3,\n",
       " 'min_child_samples': 20,\n",
       " 'n_estimators': 100,\n",
       " 'subsample': 0.6}"
      ]
     },
     "execution_count": 154,
     "metadata": {},
     "output_type": "execute_result"
    }
   ],
   "source": [
    "lgbm_cv_model.best_params_"
   ]
  },
  {
   "cell_type": "code",
   "execution_count": 155,
   "metadata": {},
   "outputs": [],
   "source": [
    "lgbm = LGBMClassifier(learning_rate = 0.01, \n",
    "                       max_depth = 3,\n",
    "                       subsample = 0.6,\n",
    "                       n_estimators = 500,\n",
    "                       min_child_samples = 20)"
   ]
  },
  {
   "cell_type": "code",
   "execution_count": 156,
   "metadata": {},
   "outputs": [
    {
     "name": "stdout",
     "output_type": "stream",
     "text": [
      "[LightGBM] [Info] Number of positive: 188, number of negative: 349\n",
      "[LightGBM] [Info] Auto-choosing col-wise multi-threading, the overhead of testing was 0.000081 seconds.\n",
      "You can set `force_col_wise=true` to remove the overhead.\n",
      "[LightGBM] [Info] Total Bins 606\n",
      "[LightGBM] [Info] Number of data points in the train set: 537, number of used features: 8\n",
      "[LightGBM] [Info] [binary:BoostFromScore]: pavg=0.350093 -> initscore=-0.618630\n",
      "[LightGBM] [Info] Start training from score -0.618630\n",
      "[LightGBM] [Warning] No further splits with positive gain, best gain: -inf\n",
      "[LightGBM] [Warning] No further splits with positive gain, best gain: -inf\n",
      "[LightGBM] [Warning] No further splits with positive gain, best gain: -inf\n",
      "[LightGBM] [Warning] No further splits with positive gain, best gain: -inf\n",
      "[LightGBM] [Warning] No further splits with positive gain, best gain: -inf\n",
      "[LightGBM] [Warning] No further splits with positive gain, best gain: -inf\n",
      "[LightGBM] [Warning] No further splits with positive gain, best gain: -inf\n",
      "[LightGBM] [Warning] No further splits with positive gain, best gain: -inf\n",
      "[LightGBM] [Warning] No further splits with positive gain, best gain: -inf\n",
      "[LightGBM] [Warning] No further splits with positive gain, best gain: -inf\n",
      "[LightGBM] [Warning] No further splits with positive gain, best gain: -inf\n",
      "[LightGBM] [Warning] No further splits with positive gain, best gain: -inf\n",
      "[LightGBM] [Warning] No further splits with positive gain, best gain: -inf\n",
      "[LightGBM] [Warning] No further splits with positive gain, best gain: -inf\n",
      "[LightGBM] [Warning] No further splits with positive gain, best gain: -inf\n",
      "[LightGBM] [Warning] No further splits with positive gain, best gain: -inf\n",
      "[LightGBM] [Warning] No further splits with positive gain, best gain: -inf\n",
      "[LightGBM] [Warning] No further splits with positive gain, best gain: -inf\n",
      "[LightGBM] [Warning] No further splits with positive gain, best gain: -inf\n",
      "[LightGBM] [Warning] No further splits with positive gain, best gain: -inf\n",
      "[LightGBM] [Warning] No further splits with positive gain, best gain: -inf\n",
      "[LightGBM] [Warning] No further splits with positive gain, best gain: -inf\n",
      "[LightGBM] [Warning] No further splits with positive gain, best gain: -inf\n",
      "[LightGBM] [Warning] No further splits with positive gain, best gain: -inf\n",
      "[LightGBM] [Warning] No further splits with positive gain, best gain: -inf\n",
      "[LightGBM] [Warning] No further splits with positive gain, best gain: -inf\n",
      "[LightGBM] [Warning] No further splits with positive gain, best gain: -inf\n",
      "[LightGBM] [Warning] No further splits with positive gain, best gain: -inf\n",
      "[LightGBM] [Warning] No further splits with positive gain, best gain: -inf\n",
      "[LightGBM] [Warning] No further splits with positive gain, best gain: -inf\n",
      "[LightGBM] [Warning] No further splits with positive gain, best gain: -inf\n",
      "[LightGBM] [Warning] No further splits with positive gain, best gain: -inf\n",
      "[LightGBM] [Warning] No further splits with positive gain, best gain: -inf\n",
      "[LightGBM] [Warning] No further splits with positive gain, best gain: -inf\n",
      "[LightGBM] [Warning] No further splits with positive gain, best gain: -inf\n",
      "[LightGBM] [Warning] No further splits with positive gain, best gain: -inf\n",
      "[LightGBM] [Warning] No further splits with positive gain, best gain: -inf\n",
      "[LightGBM] [Warning] No further splits with positive gain, best gain: -inf\n",
      "[LightGBM] [Warning] No further splits with positive gain, best gain: -inf\n",
      "[LightGBM] [Warning] No further splits with positive gain, best gain: -inf\n",
      "[LightGBM] [Warning] No further splits with positive gain, best gain: -inf\n",
      "[LightGBM] [Warning] No further splits with positive gain, best gain: -inf\n",
      "[LightGBM] [Warning] No further splits with positive gain, best gain: -inf\n",
      "[LightGBM] [Warning] No further splits with positive gain, best gain: -inf\n",
      "[LightGBM] [Warning] No further splits with positive gain, best gain: -inf\n",
      "[LightGBM] [Warning] No further splits with positive gain, best gain: -inf\n",
      "[LightGBM] [Warning] No further splits with positive gain, best gain: -inf\n",
      "[LightGBM] [Warning] No further splits with positive gain, best gain: -inf\n",
      "[LightGBM] [Warning] No further splits with positive gain, best gain: -inf\n",
      "[LightGBM] [Warning] No further splits with positive gain, best gain: -inf\n",
      "[LightGBM] [Warning] No further splits with positive gain, best gain: -inf\n",
      "[LightGBM] [Warning] No further splits with positive gain, best gain: -inf\n",
      "[LightGBM] [Warning] No further splits with positive gain, best gain: -inf\n",
      "[LightGBM] [Warning] No further splits with positive gain, best gain: -inf\n",
      "[LightGBM] [Warning] No further splits with positive gain, best gain: -inf\n",
      "[LightGBM] [Warning] No further splits with positive gain, best gain: -inf\n",
      "[LightGBM] [Warning] No further splits with positive gain, best gain: -inf\n",
      "[LightGBM] [Warning] No further splits with positive gain, best gain: -inf\n",
      "[LightGBM] [Warning] No further splits with positive gain, best gain: -inf\n",
      "[LightGBM] [Warning] No further splits with positive gain, best gain: -inf\n",
      "[LightGBM] [Warning] No further splits with positive gain, best gain: -inf\n",
      "[LightGBM] [Warning] No further splits with positive gain, best gain: -inf\n",
      "[LightGBM] [Warning] No further splits with positive gain, best gain: -inf\n",
      "[LightGBM] [Warning] No further splits with positive gain, best gain: -inf\n",
      "[LightGBM] [Warning] No further splits with positive gain, best gain: -inf\n",
      "[LightGBM] [Warning] No further splits with positive gain, best gain: -inf\n",
      "[LightGBM] [Warning] No further splits with positive gain, best gain: -inf\n",
      "[LightGBM] [Warning] No further splits with positive gain, best gain: -inf\n",
      "[LightGBM] [Warning] No further splits with positive gain, best gain: -inf\n",
      "[LightGBM] [Warning] No further splits with positive gain, best gain: -inf\n",
      "[LightGBM] [Warning] No further splits with positive gain, best gain: -inf\n",
      "[LightGBM] [Warning] No further splits with positive gain, best gain: -inf\n",
      "[LightGBM] [Warning] No further splits with positive gain, best gain: -inf\n",
      "[LightGBM] [Warning] No further splits with positive gain, best gain: -inf\n",
      "[LightGBM] [Warning] No further splits with positive gain, best gain: -inf\n",
      "[LightGBM] [Warning] No further splits with positive gain, best gain: -inf\n",
      "[LightGBM] [Warning] No further splits with positive gain, best gain: -inf\n",
      "[LightGBM] [Warning] No further splits with positive gain, best gain: -inf\n",
      "[LightGBM] [Warning] No further splits with positive gain, best gain: -inf\n",
      "[LightGBM] [Warning] No further splits with positive gain, best gain: -inf\n",
      "[LightGBM] [Warning] No further splits with positive gain, best gain: -inf\n",
      "[LightGBM] [Warning] No further splits with positive gain, best gain: -inf\n",
      "[LightGBM] [Warning] No further splits with positive gain, best gain: -inf\n",
      "[LightGBM] [Warning] No further splits with positive gain, best gain: -inf\n",
      "[LightGBM] [Warning] No further splits with positive gain, best gain: -inf\n",
      "[LightGBM] [Warning] No further splits with positive gain, best gain: -inf\n",
      "[LightGBM] [Warning] No further splits with positive gain, best gain: -inf\n",
      "[LightGBM] [Warning] No further splits with positive gain, best gain: -inf\n",
      "[LightGBM] [Warning] No further splits with positive gain, best gain: -inf\n",
      "[LightGBM] [Warning] No further splits with positive gain, best gain: -inf\n",
      "[LightGBM] [Warning] No further splits with positive gain, best gain: -inf\n",
      "[LightGBM] [Warning] No further splits with positive gain, best gain: -inf\n",
      "[LightGBM] [Warning] No further splits with positive gain, best gain: -inf\n",
      "[LightGBM] [Warning] No further splits with positive gain, best gain: -inf\n",
      "[LightGBM] [Warning] No further splits with positive gain, best gain: -inf\n",
      "[LightGBM] [Warning] No further splits with positive gain, best gain: -inf\n",
      "[LightGBM] [Warning] No further splits with positive gain, best gain: -inf\n",
      "[LightGBM] [Warning] No further splits with positive gain, best gain: -inf\n",
      "[LightGBM] [Warning] No further splits with positive gain, best gain: -inf\n",
      "[LightGBM] [Warning] No further splits with positive gain, best gain: -inf\n",
      "[LightGBM] [Warning] No further splits with positive gain, best gain: -inf\n",
      "[LightGBM] [Warning] No further splits with positive gain, best gain: -inf\n",
      "[LightGBM] [Warning] No further splits with positive gain, best gain: -inf\n",
      "[LightGBM] [Warning] No further splits with positive gain, best gain: -inf\n",
      "[LightGBM] [Warning] No further splits with positive gain, best gain: -inf\n",
      "[LightGBM] [Warning] No further splits with positive gain, best gain: -inf\n",
      "[LightGBM] [Warning] No further splits with positive gain, best gain: -inf\n",
      "[LightGBM] [Warning] No further splits with positive gain, best gain: -inf\n",
      "[LightGBM] [Warning] No further splits with positive gain, best gain: -inf\n",
      "[LightGBM] [Warning] No further splits with positive gain, best gain: -inf\n",
      "[LightGBM] [Warning] No further splits with positive gain, best gain: -inf\n",
      "[LightGBM] [Warning] No further splits with positive gain, best gain: -inf\n",
      "[LightGBM] [Warning] No further splits with positive gain, best gain: -inf\n",
      "[LightGBM] [Warning] No further splits with positive gain, best gain: -inf\n",
      "[LightGBM] [Warning] No further splits with positive gain, best gain: -inf\n",
      "[LightGBM] [Warning] No further splits with positive gain, best gain: -inf\n",
      "[LightGBM] [Warning] No further splits with positive gain, best gain: -inf\n",
      "[LightGBM] [Warning] No further splits with positive gain, best gain: -inf\n",
      "[LightGBM] [Warning] No further splits with positive gain, best gain: -inf\n",
      "[LightGBM] [Warning] No further splits with positive gain, best gain: -inf\n",
      "[LightGBM] [Warning] No further splits with positive gain, best gain: -inf\n",
      "[LightGBM] [Warning] No further splits with positive gain, best gain: -inf\n",
      "[LightGBM] [Warning] No further splits with positive gain, best gain: -inf\n",
      "[LightGBM] [Warning] No further splits with positive gain, best gain: -inf\n",
      "[LightGBM] [Warning] No further splits with positive gain, best gain: -inf\n",
      "[LightGBM] [Warning] No further splits with positive gain, best gain: -inf\n",
      "[LightGBM] [Warning] No further splits with positive gain, best gain: -inf\n",
      "[LightGBM] [Warning] No further splits with positive gain, best gain: -inf\n",
      "[LightGBM] [Warning] No further splits with positive gain, best gain: -inf\n",
      "[LightGBM] [Warning] No further splits with positive gain, best gain: -inf\n",
      "[LightGBM] [Warning] No further splits with positive gain, best gain: -inf\n",
      "[LightGBM] [Warning] No further splits with positive gain, best gain: -inf\n",
      "[LightGBM] [Warning] No further splits with positive gain, best gain: -inf\n",
      "[LightGBM] [Warning] No further splits with positive gain, best gain: -inf\n",
      "[LightGBM] [Warning] No further splits with positive gain, best gain: -inf\n",
      "[LightGBM] [Warning] No further splits with positive gain, best gain: -inf\n",
      "[LightGBM] [Warning] No further splits with positive gain, best gain: -inf\n",
      "[LightGBM] [Warning] No further splits with positive gain, best gain: -inf\n",
      "[LightGBM] [Warning] No further splits with positive gain, best gain: -inf\n",
      "[LightGBM] [Warning] No further splits with positive gain, best gain: -inf\n",
      "[LightGBM] [Warning] No further splits with positive gain, best gain: -inf\n",
      "[LightGBM] [Warning] No further splits with positive gain, best gain: -inf\n",
      "[LightGBM] [Warning] No further splits with positive gain, best gain: -inf\n",
      "[LightGBM] [Warning] No further splits with positive gain, best gain: -inf\n",
      "[LightGBM] [Warning] No further splits with positive gain, best gain: -inf\n",
      "[LightGBM] [Warning] No further splits with positive gain, best gain: -inf\n",
      "[LightGBM] [Warning] No further splits with positive gain, best gain: -inf\n",
      "[LightGBM] [Warning] No further splits with positive gain, best gain: -inf\n",
      "[LightGBM] [Warning] No further splits with positive gain, best gain: -inf\n",
      "[LightGBM] [Warning] No further splits with positive gain, best gain: -inf\n",
      "[LightGBM] [Warning] No further splits with positive gain, best gain: -inf\n",
      "[LightGBM] [Warning] No further splits with positive gain, best gain: -inf\n",
      "[LightGBM] [Warning] No further splits with positive gain, best gain: -inf\n",
      "[LightGBM] [Warning] No further splits with positive gain, best gain: -inf\n",
      "[LightGBM] [Warning] No further splits with positive gain, best gain: -inf\n",
      "[LightGBM] [Warning] No further splits with positive gain, best gain: -inf\n",
      "[LightGBM] [Warning] No further splits with positive gain, best gain: -inf\n",
      "[LightGBM] [Warning] No further splits with positive gain, best gain: -inf\n",
      "[LightGBM] [Warning] No further splits with positive gain, best gain: -inf\n",
      "[LightGBM] [Warning] No further splits with positive gain, best gain: -inf\n",
      "[LightGBM] [Warning] No further splits with positive gain, best gain: -inf\n",
      "[LightGBM] [Warning] No further splits with positive gain, best gain: -inf\n",
      "[LightGBM] [Warning] No further splits with positive gain, best gain: -inf\n",
      "[LightGBM] [Warning] No further splits with positive gain, best gain: -inf\n",
      "[LightGBM] [Warning] No further splits with positive gain, best gain: -inf\n",
      "[LightGBM] [Warning] No further splits with positive gain, best gain: -inf\n",
      "[LightGBM] [Warning] No further splits with positive gain, best gain: -inf\n",
      "[LightGBM] [Warning] No further splits with positive gain, best gain: -inf\n",
      "[LightGBM] [Warning] No further splits with positive gain, best gain: -inf\n",
      "[LightGBM] [Warning] No further splits with positive gain, best gain: -inf\n",
      "[LightGBM] [Warning] No further splits with positive gain, best gain: -inf\n",
      "[LightGBM] [Warning] No further splits with positive gain, best gain: -inf\n",
      "[LightGBM] [Warning] No further splits with positive gain, best gain: -inf\n",
      "[LightGBM] [Warning] No further splits with positive gain, best gain: -inf\n",
      "[LightGBM] [Warning] No further splits with positive gain, best gain: -inf\n",
      "[LightGBM] [Warning] No further splits with positive gain, best gain: -inf\n",
      "[LightGBM] [Warning] No further splits with positive gain, best gain: -inf\n",
      "[LightGBM] [Warning] No further splits with positive gain, best gain: -inf\n",
      "[LightGBM] [Warning] No further splits with positive gain, best gain: -inf\n",
      "[LightGBM] [Warning] No further splits with positive gain, best gain: -inf\n",
      "[LightGBM] [Warning] No further splits with positive gain, best gain: -inf\n",
      "[LightGBM] [Warning] No further splits with positive gain, best gain: -inf\n",
      "[LightGBM] [Warning] No further splits with positive gain, best gain: -inf\n",
      "[LightGBM] [Warning] No further splits with positive gain, best gain: -inf\n",
      "[LightGBM] [Warning] No further splits with positive gain, best gain: -inf\n",
      "[LightGBM] [Warning] No further splits with positive gain, best gain: -inf\n",
      "[LightGBM] [Warning] No further splits with positive gain, best gain: -inf\n",
      "[LightGBM] [Warning] No further splits with positive gain, best gain: -inf\n",
      "[LightGBM] [Warning] No further splits with positive gain, best gain: -inf\n",
      "[LightGBM] [Warning] No further splits with positive gain, best gain: -inf\n",
      "[LightGBM] [Warning] No further splits with positive gain, best gain: -inf\n",
      "[LightGBM] [Warning] No further splits with positive gain, best gain: -inf\n",
      "[LightGBM] [Warning] No further splits with positive gain, best gain: -inf\n",
      "[LightGBM] [Warning] No further splits with positive gain, best gain: -inf\n",
      "[LightGBM] [Warning] No further splits with positive gain, best gain: -inf\n",
      "[LightGBM] [Warning] No further splits with positive gain, best gain: -inf\n",
      "[LightGBM] [Warning] No further splits with positive gain, best gain: -inf\n",
      "[LightGBM] [Warning] No further splits with positive gain, best gain: -inf\n",
      "[LightGBM] [Warning] No further splits with positive gain, best gain: -inf\n",
      "[LightGBM] [Warning] No further splits with positive gain, best gain: -inf\n",
      "[LightGBM] [Warning] No further splits with positive gain, best gain: -inf\n",
      "[LightGBM] [Warning] No further splits with positive gain, best gain: -inf\n",
      "[LightGBM] [Warning] No further splits with positive gain, best gain: -inf\n",
      "[LightGBM] [Warning] No further splits with positive gain, best gain: -inf\n",
      "[LightGBM] [Warning] No further splits with positive gain, best gain: -inf\n",
      "[LightGBM] [Warning] No further splits with positive gain, best gain: -inf\n",
      "[LightGBM] [Warning] No further splits with positive gain, best gain: -inf\n",
      "[LightGBM] [Warning] No further splits with positive gain, best gain: -inf\n",
      "[LightGBM] [Warning] No further splits with positive gain, best gain: -inf\n",
      "[LightGBM] [Warning] No further splits with positive gain, best gain: -inf\n",
      "[LightGBM] [Warning] No further splits with positive gain, best gain: -inf\n",
      "[LightGBM] [Warning] No further splits with positive gain, best gain: -inf\n",
      "[LightGBM] [Warning] No further splits with positive gain, best gain: -inf\n",
      "[LightGBM] [Warning] No further splits with positive gain, best gain: -inf\n",
      "[LightGBM] [Warning] No further splits with positive gain, best gain: -inf\n",
      "[LightGBM] [Warning] No further splits with positive gain, best gain: -inf\n",
      "[LightGBM] [Warning] No further splits with positive gain, best gain: -inf\n",
      "[LightGBM] [Warning] No further splits with positive gain, best gain: -inf\n",
      "[LightGBM] [Warning] No further splits with positive gain, best gain: -inf\n",
      "[LightGBM] [Warning] No further splits with positive gain, best gain: -inf\n",
      "[LightGBM] [Warning] No further splits with positive gain, best gain: -inf\n",
      "[LightGBM] [Warning] No further splits with positive gain, best gain: -inf\n",
      "[LightGBM] [Warning] No further splits with positive gain, best gain: -inf\n",
      "[LightGBM] [Warning] No further splits with positive gain, best gain: -inf\n",
      "[LightGBM] [Warning] No further splits with positive gain, best gain: -inf\n",
      "[LightGBM] [Warning] No further splits with positive gain, best gain: -inf\n",
      "[LightGBM] [Warning] No further splits with positive gain, best gain: -inf\n",
      "[LightGBM] [Warning] No further splits with positive gain, best gain: -inf\n",
      "[LightGBM] [Warning] No further splits with positive gain, best gain: -inf\n",
      "[LightGBM] [Warning] No further splits with positive gain, best gain: -inf\n",
      "[LightGBM] [Warning] No further splits with positive gain, best gain: -inf\n",
      "[LightGBM] [Warning] No further splits with positive gain, best gain: -inf\n",
      "[LightGBM] [Warning] No further splits with positive gain, best gain: -inf\n",
      "[LightGBM] [Warning] No further splits with positive gain, best gain: -inf\n",
      "[LightGBM] [Warning] No further splits with positive gain, best gain: -inf\n",
      "[LightGBM] [Warning] No further splits with positive gain, best gain: -inf\n",
      "[LightGBM] [Warning] No further splits with positive gain, best gain: -inf\n",
      "[LightGBM] [Warning] No further splits with positive gain, best gain: -inf\n",
      "[LightGBM] [Warning] No further splits with positive gain, best gain: -inf\n",
      "[LightGBM] [Warning] No further splits with positive gain, best gain: -inf\n",
      "[LightGBM] [Warning] No further splits with positive gain, best gain: -inf\n",
      "[LightGBM] [Warning] No further splits with positive gain, best gain: -inf\n",
      "[LightGBM] [Warning] No further splits with positive gain, best gain: -inf\n",
      "[LightGBM] [Warning] No further splits with positive gain, best gain: -inf\n",
      "[LightGBM] [Warning] No further splits with positive gain, best gain: -inf\n",
      "[LightGBM] [Warning] No further splits with positive gain, best gain: -inf\n",
      "[LightGBM] [Warning] No further splits with positive gain, best gain: -inf\n",
      "[LightGBM] [Warning] No further splits with positive gain, best gain: -inf\n",
      "[LightGBM] [Warning] No further splits with positive gain, best gain: -inf\n",
      "[LightGBM] [Warning] No further splits with positive gain, best gain: -inf\n",
      "[LightGBM] [Warning] No further splits with positive gain, best gain: -inf\n",
      "[LightGBM] [Warning] No further splits with positive gain, best gain: -inf\n",
      "[LightGBM] [Warning] No further splits with positive gain, best gain: -inf\n",
      "[LightGBM] [Warning] No further splits with positive gain, best gain: -inf\n",
      "[LightGBM] [Warning] No further splits with positive gain, best gain: -inf\n",
      "[LightGBM] [Warning] No further splits with positive gain, best gain: -inf\n",
      "[LightGBM] [Warning] No further splits with positive gain, best gain: -inf\n",
      "[LightGBM] [Warning] No further splits with positive gain, best gain: -inf\n",
      "[LightGBM] [Warning] No further splits with positive gain, best gain: -inf\n",
      "[LightGBM] [Warning] No further splits with positive gain, best gain: -inf\n",
      "[LightGBM] [Warning] No further splits with positive gain, best gain: -inf\n",
      "[LightGBM] [Warning] No further splits with positive gain, best gain: -inf\n",
      "[LightGBM] [Warning] No further splits with positive gain, best gain: -inf\n",
      "[LightGBM] [Warning] No further splits with positive gain, best gain: -inf\n",
      "[LightGBM] [Warning] No further splits with positive gain, best gain: -inf\n",
      "[LightGBM] [Warning] No further splits with positive gain, best gain: -inf\n",
      "[LightGBM] [Warning] No further splits with positive gain, best gain: -inf\n",
      "[LightGBM] [Warning] No further splits with positive gain, best gain: -inf\n",
      "[LightGBM] [Warning] No further splits with positive gain, best gain: -inf\n",
      "[LightGBM] [Warning] No further splits with positive gain, best gain: -inf\n",
      "[LightGBM] [Warning] No further splits with positive gain, best gain: -inf\n",
      "[LightGBM] [Warning] No further splits with positive gain, best gain: -inf\n",
      "[LightGBM] [Warning] No further splits with positive gain, best gain: -inf\n",
      "[LightGBM] [Warning] No further splits with positive gain, best gain: -inf\n",
      "[LightGBM] [Warning] No further splits with positive gain, best gain: -inf\n",
      "[LightGBM] [Warning] No further splits with positive gain, best gain: -inf\n",
      "[LightGBM] [Warning] No further splits with positive gain, best gain: -inf\n",
      "[LightGBM] [Warning] No further splits with positive gain, best gain: -inf\n",
      "[LightGBM] [Warning] No further splits with positive gain, best gain: -inf\n",
      "[LightGBM] [Warning] No further splits with positive gain, best gain: -inf\n",
      "[LightGBM] [Warning] No further splits with positive gain, best gain: -inf\n",
      "[LightGBM] [Warning] No further splits with positive gain, best gain: -inf\n",
      "[LightGBM] [Warning] No further splits with positive gain, best gain: -inf\n",
      "[LightGBM] [Warning] No further splits with positive gain, best gain: -inf\n",
      "[LightGBM] [Warning] No further splits with positive gain, best gain: -inf\n",
      "[LightGBM] [Warning] No further splits with positive gain, best gain: -inf\n",
      "[LightGBM] [Warning] No further splits with positive gain, best gain: -inf\n",
      "[LightGBM] [Warning] No further splits with positive gain, best gain: -inf\n",
      "[LightGBM] [Warning] No further splits with positive gain, best gain: -inf\n",
      "[LightGBM] [Warning] No further splits with positive gain, best gain: -inf\n",
      "[LightGBM] [Warning] No further splits with positive gain, best gain: -inf\n",
      "[LightGBM] [Warning] No further splits with positive gain, best gain: -inf\n",
      "[LightGBM] [Warning] No further splits with positive gain, best gain: -inf\n",
      "[LightGBM] [Warning] No further splits with positive gain, best gain: -inf\n",
      "[LightGBM] [Warning] No further splits with positive gain, best gain: -inf\n",
      "[LightGBM] [Warning] No further splits with positive gain, best gain: -inf\n",
      "[LightGBM] [Warning] No further splits with positive gain, best gain: -inf\n",
      "[LightGBM] [Warning] No further splits with positive gain, best gain: -inf\n",
      "[LightGBM] [Warning] No further splits with positive gain, best gain: -inf\n",
      "[LightGBM] [Warning] No further splits with positive gain, best gain: -inf\n",
      "[LightGBM] [Warning] No further splits with positive gain, best gain: -inf\n",
      "[LightGBM] [Warning] No further splits with positive gain, best gain: -inf\n",
      "[LightGBM] [Warning] No further splits with positive gain, best gain: -inf\n",
      "[LightGBM] [Warning] No further splits with positive gain, best gain: -inf\n",
      "[LightGBM] [Warning] No further splits with positive gain, best gain: -inf\n",
      "[LightGBM] [Warning] No further splits with positive gain, best gain: -inf\n",
      "[LightGBM] [Warning] No further splits with positive gain, best gain: -inf\n",
      "[LightGBM] [Warning] No further splits with positive gain, best gain: -inf\n",
      "[LightGBM] [Warning] No further splits with positive gain, best gain: -inf\n",
      "[LightGBM] [Warning] No further splits with positive gain, best gain: -inf\n",
      "[LightGBM] [Warning] No further splits with positive gain, best gain: -inf\n",
      "[LightGBM] [Warning] No further splits with positive gain, best gain: -inf\n",
      "[LightGBM] [Warning] No further splits with positive gain, best gain: -inf\n",
      "[LightGBM] [Warning] No further splits with positive gain, best gain: -inf\n",
      "[LightGBM] [Warning] No further splits with positive gain, best gain: -inf\n",
      "[LightGBM] [Warning] No further splits with positive gain, best gain: -inf\n",
      "[LightGBM] [Warning] No further splits with positive gain, best gain: -inf\n",
      "[LightGBM] [Warning] No further splits with positive gain, best gain: -inf\n",
      "[LightGBM] [Warning] No further splits with positive gain, best gain: -inf\n",
      "[LightGBM] [Warning] No further splits with positive gain, best gain: -inf\n",
      "[LightGBM] [Warning] No further splits with positive gain, best gain: -inf\n",
      "[LightGBM] [Warning] No further splits with positive gain, best gain: -inf\n",
      "[LightGBM] [Warning] No further splits with positive gain, best gain: -inf\n",
      "[LightGBM] [Warning] No further splits with positive gain, best gain: -inf\n",
      "[LightGBM] [Warning] No further splits with positive gain, best gain: -inf\n",
      "[LightGBM] [Warning] No further splits with positive gain, best gain: -inf\n",
      "[LightGBM] [Warning] No further splits with positive gain, best gain: -inf\n",
      "[LightGBM] [Warning] No further splits with positive gain, best gain: -inf\n",
      "[LightGBM] [Warning] No further splits with positive gain, best gain: -inf\n",
      "[LightGBM] [Warning] No further splits with positive gain, best gain: -inf\n",
      "[LightGBM] [Warning] No further splits with positive gain, best gain: -inf\n",
      "[LightGBM] [Warning] No further splits with positive gain, best gain: -inf\n",
      "[LightGBM] [Warning] No further splits with positive gain, best gain: -inf\n",
      "[LightGBM] [Warning] No further splits with positive gain, best gain: -inf\n",
      "[LightGBM] [Warning] No further splits with positive gain, best gain: -inf\n",
      "[LightGBM] [Warning] No further splits with positive gain, best gain: -inf\n",
      "[LightGBM] [Warning] No further splits with positive gain, best gain: -inf\n",
      "[LightGBM] [Warning] No further splits with positive gain, best gain: -inf\n",
      "[LightGBM] [Warning] No further splits with positive gain, best gain: -inf\n",
      "[LightGBM] [Warning] No further splits with positive gain, best gain: -inf\n",
      "[LightGBM] [Warning] No further splits with positive gain, best gain: -inf\n",
      "[LightGBM] [Warning] No further splits with positive gain, best gain: -inf\n",
      "[LightGBM] [Warning] No further splits with positive gain, best gain: -inf\n",
      "[LightGBM] [Warning] No further splits with positive gain, best gain: -inf\n",
      "[LightGBM] [Warning] No further splits with positive gain, best gain: -inf\n",
      "[LightGBM] [Warning] No further splits with positive gain, best gain: -inf\n",
      "[LightGBM] [Warning] No further splits with positive gain, best gain: -inf\n",
      "[LightGBM] [Warning] No further splits with positive gain, best gain: -inf\n",
      "[LightGBM] [Warning] No further splits with positive gain, best gain: -inf\n",
      "[LightGBM] [Warning] No further splits with positive gain, best gain: -inf\n",
      "[LightGBM] [Warning] No further splits with positive gain, best gain: -inf\n",
      "[LightGBM] [Warning] No further splits with positive gain, best gain: -inf\n",
      "[LightGBM] [Warning] No further splits with positive gain, best gain: -inf\n",
      "[LightGBM] [Warning] No further splits with positive gain, best gain: -inf\n",
      "[LightGBM] [Warning] No further splits with positive gain, best gain: -inf\n",
      "[LightGBM] [Warning] No further splits with positive gain, best gain: -inf\n",
      "[LightGBM] [Warning] No further splits with positive gain, best gain: -inf\n",
      "[LightGBM] [Warning] No further splits with positive gain, best gain: -inf\n",
      "[LightGBM] [Warning] No further splits with positive gain, best gain: -inf\n",
      "[LightGBM] [Warning] No further splits with positive gain, best gain: -inf\n",
      "[LightGBM] [Warning] No further splits with positive gain, best gain: -inf\n",
      "[LightGBM] [Warning] No further splits with positive gain, best gain: -inf\n",
      "[LightGBM] [Warning] No further splits with positive gain, best gain: -inf\n",
      "[LightGBM] [Warning] No further splits with positive gain, best gain: -inf\n",
      "[LightGBM] [Warning] No further splits with positive gain, best gain: -inf\n",
      "[LightGBM] [Warning] No further splits with positive gain, best gain: -inf\n",
      "[LightGBM] [Warning] No further splits with positive gain, best gain: -inf\n",
      "[LightGBM] [Warning] No further splits with positive gain, best gain: -inf\n",
      "[LightGBM] [Warning] No further splits with positive gain, best gain: -inf\n",
      "[LightGBM] [Warning] No further splits with positive gain, best gain: -inf\n",
      "[LightGBM] [Warning] No further splits with positive gain, best gain: -inf\n",
      "[LightGBM] [Warning] No further splits with positive gain, best gain: -inf\n",
      "[LightGBM] [Warning] No further splits with positive gain, best gain: -inf\n",
      "[LightGBM] [Warning] No further splits with positive gain, best gain: -inf\n",
      "[LightGBM] [Warning] No further splits with positive gain, best gain: -inf\n",
      "[LightGBM] [Warning] No further splits with positive gain, best gain: -inf\n",
      "[LightGBM] [Warning] No further splits with positive gain, best gain: -inf\n",
      "[LightGBM] [Warning] No further splits with positive gain, best gain: -inf\n",
      "[LightGBM] [Warning] No further splits with positive gain, best gain: -inf\n",
      "[LightGBM] [Warning] No further splits with positive gain, best gain: -inf\n",
      "[LightGBM] [Warning] No further splits with positive gain, best gain: -inf\n",
      "[LightGBM] [Warning] No further splits with positive gain, best gain: -inf\n"
     ]
    }
   ],
   "source": [
    "lgbm_tuned = lgbm.fit(X_train,y_train)"
   ]
  },
  {
   "cell_type": "code",
   "execution_count": 157,
   "metadata": {},
   "outputs": [
    {
     "data": {
      "text/plain": [
       "0.7532467532467533"
      ]
     },
     "execution_count": 157,
     "metadata": {},
     "output_type": "execute_result"
    }
   ],
   "source": [
    "y_pred = lgbm_tuned.predict(X_test)\n",
    "accuracy_score(y_test, y_pred)"
   ]
  },
  {
   "cell_type": "markdown",
   "metadata": {},
   "source": [
    "# CatBoost"
   ]
  },
  {
   "cell_type": "markdown",
   "metadata": {},
   "source": [
    "## Model & Tahmin"
   ]
  },
  {
   "cell_type": "code",
   "execution_count": 158,
   "metadata": {},
   "outputs": [],
   "source": [
    "df = diabetes.copy()\n",
    "df = df.dropna()\n",
    "y = df[\"Outcome\"]\n",
    "X = df.drop(['Outcome'], axis=1)\n",
    "#X = df[\"Pregnancies\"]\n",
    "X = pd.DataFrame(X)\n",
    "X_train, X_test, y_train, y_test = train_test_split(X, y, \n",
    "                                                    test_size=0.30, \n",
    "                                                    random_state=42)"
   ]
  },
  {
   "cell_type": "code",
   "execution_count": 159,
   "metadata": {},
   "outputs": [],
   "source": [
    "\n",
    "from catboost import CatBoostClassifier"
   ]
  },
  {
   "cell_type": "code",
   "execution_count": 160,
   "metadata": {},
   "outputs": [
    {
     "name": "stdout",
     "output_type": "stream",
     "text": [
      "Learning rate set to 0.0079\n",
      "0:\tlearn: 0.6879744\ttotal: 149ms\tremaining: 2m 28s\n",
      "1:\tlearn: 0.6843414\ttotal: 151ms\tremaining: 1m 15s\n",
      "2:\tlearn: 0.6805760\ttotal: 152ms\tremaining: 50.7s\n",
      "3:\tlearn: 0.6765782\ttotal: 154ms\tremaining: 38.4s\n",
      "4:\tlearn: 0.6720829\ttotal: 156ms\tremaining: 31s\n",
      "5:\tlearn: 0.6681617\ttotal: 157ms\tremaining: 26.1s\n",
      "6:\tlearn: 0.6641912\ttotal: 160ms\tremaining: 22.6s\n",
      "7:\tlearn: 0.6602881\ttotal: 161ms\tremaining: 20s\n",
      "8:\tlearn: 0.6562626\ttotal: 163ms\tremaining: 17.9s\n",
      "9:\tlearn: 0.6528483\ttotal: 164ms\tremaining: 16.3s\n",
      "10:\tlearn: 0.6487823\ttotal: 166ms\tremaining: 14.9s\n",
      "11:\tlearn: 0.6454980\ttotal: 168ms\tremaining: 13.8s\n",
      "12:\tlearn: 0.6418953\ttotal: 170ms\tremaining: 12.9s\n",
      "13:\tlearn: 0.6374431\ttotal: 171ms\tremaining: 12.1s\n",
      "14:\tlearn: 0.6339676\ttotal: 173ms\tremaining: 11.4s\n",
      "15:\tlearn: 0.6304252\ttotal: 175ms\tremaining: 10.7s\n",
      "16:\tlearn: 0.6266998\ttotal: 177ms\tremaining: 10.2s\n",
      "17:\tlearn: 0.6237660\ttotal: 179ms\tremaining: 9.78s\n",
      "18:\tlearn: 0.6204394\ttotal: 181ms\tremaining: 9.35s\n",
      "19:\tlearn: 0.6170129\ttotal: 183ms\tremaining: 8.96s\n",
      "20:\tlearn: 0.6133404\ttotal: 185ms\tremaining: 8.61s\n",
      "21:\tlearn: 0.6104932\ttotal: 187ms\tremaining: 8.31s\n",
      "22:\tlearn: 0.6069523\ttotal: 188ms\tremaining: 8.01s\n",
      "23:\tlearn: 0.6036467\ttotal: 190ms\tremaining: 7.73s\n",
      "24:\tlearn: 0.6005392\ttotal: 192ms\tremaining: 7.48s\n",
      "25:\tlearn: 0.5977520\ttotal: 193ms\tremaining: 7.24s\n",
      "26:\tlearn: 0.5948189\ttotal: 195ms\tremaining: 7.02s\n",
      "27:\tlearn: 0.5919831\ttotal: 197ms\tremaining: 6.83s\n",
      "28:\tlearn: 0.5885065\ttotal: 198ms\tremaining: 6.64s\n",
      "29:\tlearn: 0.5848273\ttotal: 200ms\tremaining: 6.47s\n",
      "30:\tlearn: 0.5822076\ttotal: 202ms\tremaining: 6.31s\n",
      "31:\tlearn: 0.5790604\ttotal: 204ms\tremaining: 6.16s\n",
      "32:\tlearn: 0.5762252\ttotal: 206ms\tremaining: 6.03s\n",
      "33:\tlearn: 0.5745338\ttotal: 208ms\tremaining: 5.9s\n",
      "34:\tlearn: 0.5719085\ttotal: 210ms\tremaining: 5.79s\n",
      "35:\tlearn: 0.5693365\ttotal: 212ms\tremaining: 5.67s\n",
      "36:\tlearn: 0.5665486\ttotal: 213ms\tremaining: 5.55s\n",
      "37:\tlearn: 0.5647413\ttotal: 216ms\tremaining: 5.46s\n",
      "38:\tlearn: 0.5622430\ttotal: 217ms\tremaining: 5.35s\n",
      "39:\tlearn: 0.5600038\ttotal: 219ms\tremaining: 5.26s\n",
      "40:\tlearn: 0.5579786\ttotal: 221ms\tremaining: 5.18s\n",
      "41:\tlearn: 0.5555817\ttotal: 223ms\tremaining: 5.08s\n",
      "42:\tlearn: 0.5533884\ttotal: 225ms\tremaining: 5.02s\n",
      "43:\tlearn: 0.5503718\ttotal: 227ms\tremaining: 4.94s\n",
      "44:\tlearn: 0.5482587\ttotal: 229ms\tremaining: 4.86s\n",
      "45:\tlearn: 0.5458783\ttotal: 230ms\tremaining: 4.78s\n",
      "46:\tlearn: 0.5441370\ttotal: 232ms\tremaining: 4.71s\n",
      "47:\tlearn: 0.5422492\ttotal: 234ms\tremaining: 4.64s\n",
      "48:\tlearn: 0.5397111\ttotal: 236ms\tremaining: 4.57s\n",
      "49:\tlearn: 0.5378482\ttotal: 237ms\tremaining: 4.51s\n",
      "50:\tlearn: 0.5355250\ttotal: 239ms\tremaining: 4.45s\n",
      "51:\tlearn: 0.5334717\ttotal: 241ms\tremaining: 4.39s\n",
      "52:\tlearn: 0.5308796\ttotal: 242ms\tremaining: 4.33s\n",
      "53:\tlearn: 0.5291891\ttotal: 244ms\tremaining: 4.28s\n",
      "54:\tlearn: 0.5273404\ttotal: 246ms\tremaining: 4.22s\n",
      "55:\tlearn: 0.5252025\ttotal: 247ms\tremaining: 4.17s\n",
      "56:\tlearn: 0.5232146\ttotal: 249ms\tremaining: 4.11s\n",
      "57:\tlearn: 0.5212394\ttotal: 250ms\tremaining: 4.06s\n",
      "58:\tlearn: 0.5188927\ttotal: 252ms\tremaining: 4.02s\n",
      "59:\tlearn: 0.5166496\ttotal: 253ms\tremaining: 3.97s\n",
      "60:\tlearn: 0.5151264\ttotal: 255ms\tremaining: 3.92s\n",
      "61:\tlearn: 0.5128109\ttotal: 257ms\tremaining: 3.88s\n",
      "62:\tlearn: 0.5114747\ttotal: 258ms\tremaining: 3.84s\n",
      "63:\tlearn: 0.5096208\ttotal: 260ms\tremaining: 3.8s\n",
      "64:\tlearn: 0.5072601\ttotal: 261ms\tremaining: 3.76s\n",
      "65:\tlearn: 0.5052770\ttotal: 263ms\tremaining: 3.72s\n",
      "66:\tlearn: 0.5036623\ttotal: 265ms\tremaining: 3.69s\n",
      "67:\tlearn: 0.5017328\ttotal: 267ms\tremaining: 3.65s\n",
      "68:\tlearn: 0.5005425\ttotal: 268ms\tremaining: 3.61s\n",
      "69:\tlearn: 0.4991695\ttotal: 269ms\tremaining: 3.58s\n",
      "70:\tlearn: 0.4976900\ttotal: 271ms\tremaining: 3.54s\n",
      "71:\tlearn: 0.4958907\ttotal: 272ms\tremaining: 3.51s\n",
      "72:\tlearn: 0.4944550\ttotal: 274ms\tremaining: 3.48s\n",
      "73:\tlearn: 0.4929501\ttotal: 275ms\tremaining: 3.45s\n",
      "74:\tlearn: 0.4913299\ttotal: 277ms\tremaining: 3.42s\n",
      "75:\tlearn: 0.4898798\ttotal: 279ms\tremaining: 3.39s\n",
      "76:\tlearn: 0.4882946\ttotal: 280ms\tremaining: 3.36s\n",
      "77:\tlearn: 0.4866733\ttotal: 282ms\tremaining: 3.33s\n",
      "78:\tlearn: 0.4849083\ttotal: 284ms\tremaining: 3.31s\n",
      "79:\tlearn: 0.4832344\ttotal: 285ms\tremaining: 3.28s\n",
      "80:\tlearn: 0.4822155\ttotal: 287ms\tremaining: 3.25s\n",
      "81:\tlearn: 0.4805651\ttotal: 288ms\tremaining: 3.23s\n",
      "82:\tlearn: 0.4789437\ttotal: 290ms\tremaining: 3.2s\n",
      "83:\tlearn: 0.4773680\ttotal: 291ms\tremaining: 3.18s\n",
      "84:\tlearn: 0.4759592\ttotal: 293ms\tremaining: 3.15s\n",
      "85:\tlearn: 0.4743296\ttotal: 294ms\tremaining: 3.13s\n",
      "86:\tlearn: 0.4733053\ttotal: 296ms\tremaining: 3.11s\n",
      "87:\tlearn: 0.4719029\ttotal: 298ms\tremaining: 3.08s\n",
      "88:\tlearn: 0.4704197\ttotal: 299ms\tremaining: 3.06s\n",
      "89:\tlearn: 0.4692434\ttotal: 301ms\tremaining: 3.04s\n",
      "90:\tlearn: 0.4676877\ttotal: 303ms\tremaining: 3.02s\n",
      "91:\tlearn: 0.4663135\ttotal: 304ms\tremaining: 3s\n",
      "92:\tlearn: 0.4648501\ttotal: 306ms\tremaining: 2.98s\n",
      "93:\tlearn: 0.4634104\ttotal: 308ms\tremaining: 2.97s\n",
      "94:\tlearn: 0.4622453\ttotal: 310ms\tremaining: 2.95s\n",
      "95:\tlearn: 0.4610022\ttotal: 312ms\tremaining: 2.94s\n",
      "96:\tlearn: 0.4596122\ttotal: 313ms\tremaining: 2.92s\n",
      "97:\tlearn: 0.4586478\ttotal: 315ms\tremaining: 2.9s\n",
      "98:\tlearn: 0.4574414\ttotal: 317ms\tremaining: 2.88s\n",
      "99:\tlearn: 0.4564241\ttotal: 318ms\tremaining: 2.86s\n",
      "100:\tlearn: 0.4550640\ttotal: 320ms\tremaining: 2.85s\n",
      "101:\tlearn: 0.4542409\ttotal: 321ms\tremaining: 2.83s\n",
      "102:\tlearn: 0.4532567\ttotal: 323ms\tremaining: 2.82s\n",
      "103:\tlearn: 0.4520656\ttotal: 325ms\tremaining: 2.8s\n",
      "104:\tlearn: 0.4507238\ttotal: 327ms\tremaining: 2.79s\n",
      "105:\tlearn: 0.4498366\ttotal: 329ms\tremaining: 2.77s\n",
      "106:\tlearn: 0.4487896\ttotal: 330ms\tremaining: 2.75s\n",
      "107:\tlearn: 0.4479770\ttotal: 332ms\tremaining: 2.74s\n",
      "108:\tlearn: 0.4470681\ttotal: 333ms\tremaining: 2.73s\n",
      "109:\tlearn: 0.4461679\ttotal: 335ms\tremaining: 2.71s\n",
      "110:\tlearn: 0.4449306\ttotal: 337ms\tremaining: 2.7s\n",
      "111:\tlearn: 0.4442033\ttotal: 338ms\tremaining: 2.68s\n",
      "112:\tlearn: 0.4431958\ttotal: 340ms\tremaining: 2.67s\n",
      "113:\tlearn: 0.4420872\ttotal: 342ms\tremaining: 2.65s\n",
      "114:\tlearn: 0.4411093\ttotal: 343ms\tremaining: 2.64s\n",
      "115:\tlearn: 0.4404177\ttotal: 345ms\tremaining: 2.63s\n",
      "116:\tlearn: 0.4393393\ttotal: 346ms\tremaining: 2.61s\n",
      "117:\tlearn: 0.4385459\ttotal: 348ms\tremaining: 2.6s\n",
      "118:\tlearn: 0.4376311\ttotal: 349ms\tremaining: 2.59s\n",
      "119:\tlearn: 0.4365919\ttotal: 351ms\tremaining: 2.57s\n",
      "120:\tlearn: 0.4356995\ttotal: 352ms\tremaining: 2.56s\n",
      "121:\tlearn: 0.4348411\ttotal: 354ms\tremaining: 2.55s\n",
      "122:\tlearn: 0.4339453\ttotal: 355ms\tremaining: 2.53s\n",
      "123:\tlearn: 0.4328034\ttotal: 357ms\tremaining: 2.52s\n",
      "124:\tlearn: 0.4319283\ttotal: 358ms\tremaining: 2.51s\n",
      "125:\tlearn: 0.4312557\ttotal: 360ms\tremaining: 2.5s\n",
      "126:\tlearn: 0.4304026\ttotal: 361ms\tremaining: 2.48s\n",
      "127:\tlearn: 0.4298280\ttotal: 363ms\tremaining: 2.47s\n",
      "128:\tlearn: 0.4289908\ttotal: 365ms\tremaining: 2.46s\n",
      "129:\tlearn: 0.4281060\ttotal: 366ms\tremaining: 2.45s\n",
      "130:\tlearn: 0.4274906\ttotal: 368ms\tremaining: 2.44s\n",
      "131:\tlearn: 0.4263412\ttotal: 370ms\tremaining: 2.43s\n",
      "132:\tlearn: 0.4253331\ttotal: 371ms\tremaining: 2.42s\n",
      "133:\tlearn: 0.4243619\ttotal: 373ms\tremaining: 2.41s\n",
      "134:\tlearn: 0.4236335\ttotal: 374ms\tremaining: 2.4s\n",
      "135:\tlearn: 0.4228861\ttotal: 376ms\tremaining: 2.39s\n",
      "136:\tlearn: 0.4221383\ttotal: 377ms\tremaining: 2.38s\n",
      "137:\tlearn: 0.4212787\ttotal: 379ms\tremaining: 2.37s\n",
      "138:\tlearn: 0.4205727\ttotal: 380ms\tremaining: 2.36s\n",
      "139:\tlearn: 0.4198398\ttotal: 382ms\tremaining: 2.35s\n",
      "140:\tlearn: 0.4190528\ttotal: 384ms\tremaining: 2.34s\n",
      "141:\tlearn: 0.4181762\ttotal: 385ms\tremaining: 2.33s\n",
      "142:\tlearn: 0.4177653\ttotal: 387ms\tremaining: 2.32s\n",
      "143:\tlearn: 0.4171131\ttotal: 388ms\tremaining: 2.31s\n",
      "144:\tlearn: 0.4165639\ttotal: 390ms\tremaining: 2.3s\n",
      "145:\tlearn: 0.4156471\ttotal: 391ms\tremaining: 2.29s\n",
      "146:\tlearn: 0.4153234\ttotal: 393ms\tremaining: 2.28s\n",
      "147:\tlearn: 0.4145420\ttotal: 395ms\tremaining: 2.27s\n",
      "148:\tlearn: 0.4139180\ttotal: 396ms\tremaining: 2.26s\n",
      "149:\tlearn: 0.4128167\ttotal: 397ms\tremaining: 2.25s\n",
      "150:\tlearn: 0.4120071\ttotal: 399ms\tremaining: 2.24s\n",
      "151:\tlearn: 0.4115050\ttotal: 400ms\tremaining: 2.23s\n",
      "152:\tlearn: 0.4103879\ttotal: 402ms\tremaining: 2.23s\n",
      "153:\tlearn: 0.4096975\ttotal: 404ms\tremaining: 2.22s\n",
      "154:\tlearn: 0.4090180\ttotal: 405ms\tremaining: 2.21s\n",
      "155:\tlearn: 0.4084361\ttotal: 407ms\tremaining: 2.2s\n",
      "156:\tlearn: 0.4075079\ttotal: 408ms\tremaining: 2.19s\n",
      "157:\tlearn: 0.4070229\ttotal: 410ms\tremaining: 2.18s\n",
      "158:\tlearn: 0.4060864\ttotal: 411ms\tremaining: 2.17s\n",
      "159:\tlearn: 0.4055216\ttotal: 413ms\tremaining: 2.17s\n",
      "160:\tlearn: 0.4049737\ttotal: 414ms\tremaining: 2.16s\n",
      "161:\tlearn: 0.4043031\ttotal: 416ms\tremaining: 2.15s\n",
      "162:\tlearn: 0.4037889\ttotal: 417ms\tremaining: 2.14s\n",
      "163:\tlearn: 0.4029969\ttotal: 419ms\tremaining: 2.14s\n",
      "164:\tlearn: 0.4019218\ttotal: 421ms\tremaining: 2.13s\n",
      "165:\tlearn: 0.4013294\ttotal: 422ms\tremaining: 2.12s\n",
      "166:\tlearn: 0.4007642\ttotal: 424ms\tremaining: 2.11s\n",
      "167:\tlearn: 0.4000706\ttotal: 426ms\tremaining: 2.11s\n",
      "168:\tlearn: 0.3996680\ttotal: 427ms\tremaining: 2.1s\n",
      "169:\tlearn: 0.3989467\ttotal: 429ms\tremaining: 2.09s\n",
      "170:\tlearn: 0.3983710\ttotal: 430ms\tremaining: 2.08s\n",
      "171:\tlearn: 0.3975278\ttotal: 432ms\tremaining: 2.08s\n",
      "172:\tlearn: 0.3969084\ttotal: 433ms\tremaining: 2.07s\n",
      "173:\tlearn: 0.3965347\ttotal: 435ms\tremaining: 2.06s\n",
      "174:\tlearn: 0.3956732\ttotal: 436ms\tremaining: 2.06s\n",
      "175:\tlearn: 0.3952873\ttotal: 438ms\tremaining: 2.05s\n",
      "176:\tlearn: 0.3945194\ttotal: 439ms\tremaining: 2.04s\n",
      "177:\tlearn: 0.3937662\ttotal: 441ms\tremaining: 2.04s\n",
      "178:\tlearn: 0.3930186\ttotal: 443ms\tremaining: 2.03s\n",
      "179:\tlearn: 0.3923731\ttotal: 444ms\tremaining: 2.02s\n",
      "180:\tlearn: 0.3918567\ttotal: 446ms\tremaining: 2.02s\n",
      "181:\tlearn: 0.3910109\ttotal: 448ms\tremaining: 2.01s\n",
      "182:\tlearn: 0.3904347\ttotal: 450ms\tremaining: 2.01s\n",
      "183:\tlearn: 0.3898631\ttotal: 452ms\tremaining: 2s\n",
      "184:\tlearn: 0.3889877\ttotal: 454ms\tremaining: 2s\n",
      "185:\tlearn: 0.3883860\ttotal: 456ms\tremaining: 1.99s\n",
      "186:\tlearn: 0.3876585\ttotal: 458ms\tremaining: 1.99s\n",
      "187:\tlearn: 0.3871096\ttotal: 460ms\tremaining: 1.99s\n",
      "188:\tlearn: 0.3866930\ttotal: 462ms\tremaining: 1.98s\n",
      "189:\tlearn: 0.3860056\ttotal: 464ms\tremaining: 1.98s\n",
      "190:\tlearn: 0.3854310\ttotal: 468ms\tremaining: 1.98s\n",
      "191:\tlearn: 0.3848506\ttotal: 470ms\tremaining: 1.98s\n",
      "192:\tlearn: 0.3842016\ttotal: 472ms\tremaining: 1.97s\n",
      "193:\tlearn: 0.3836819\ttotal: 474ms\tremaining: 1.97s\n",
      "194:\tlearn: 0.3830974\ttotal: 476ms\tremaining: 1.96s\n",
      "195:\tlearn: 0.3827259\ttotal: 477ms\tremaining: 1.96s\n",
      "196:\tlearn: 0.3822292\ttotal: 479ms\tremaining: 1.95s\n",
      "197:\tlearn: 0.3818127\ttotal: 481ms\tremaining: 1.95s\n",
      "198:\tlearn: 0.3813381\ttotal: 483ms\tremaining: 1.94s\n",
      "199:\tlearn: 0.3808627\ttotal: 485ms\tremaining: 1.94s\n",
      "200:\tlearn: 0.3802744\ttotal: 486ms\tremaining: 1.93s\n",
      "201:\tlearn: 0.3797151\ttotal: 488ms\tremaining: 1.93s\n",
      "202:\tlearn: 0.3792543\ttotal: 490ms\tremaining: 1.92s\n",
      "203:\tlearn: 0.3787526\ttotal: 491ms\tremaining: 1.92s\n",
      "204:\tlearn: 0.3783154\ttotal: 494ms\tremaining: 1.91s\n",
      "205:\tlearn: 0.3778142\ttotal: 495ms\tremaining: 1.91s\n",
      "206:\tlearn: 0.3770761\ttotal: 497ms\tremaining: 1.9s\n",
      "207:\tlearn: 0.3766516\ttotal: 498ms\tremaining: 1.9s\n",
      "208:\tlearn: 0.3760002\ttotal: 500ms\tremaining: 1.89s\n",
      "209:\tlearn: 0.3753742\ttotal: 501ms\tremaining: 1.89s\n",
      "210:\tlearn: 0.3748945\ttotal: 503ms\tremaining: 1.88s\n",
      "211:\tlearn: 0.3741601\ttotal: 504ms\tremaining: 1.87s\n",
      "212:\tlearn: 0.3737583\ttotal: 506ms\tremaining: 1.87s\n",
      "213:\tlearn: 0.3731306\ttotal: 507ms\tremaining: 1.86s\n",
      "214:\tlearn: 0.3725594\ttotal: 509ms\tremaining: 1.86s\n",
      "215:\tlearn: 0.3717840\ttotal: 510ms\tremaining: 1.85s\n",
      "216:\tlearn: 0.3712366\ttotal: 512ms\tremaining: 1.84s\n",
      "217:\tlearn: 0.3706128\ttotal: 513ms\tremaining: 1.84s\n",
      "218:\tlearn: 0.3701763\ttotal: 515ms\tremaining: 1.83s\n",
      "219:\tlearn: 0.3696732\ttotal: 516ms\tremaining: 1.83s\n",
      "220:\tlearn: 0.3694511\ttotal: 518ms\tremaining: 1.82s\n",
      "221:\tlearn: 0.3691241\ttotal: 519ms\tremaining: 1.82s\n",
      "222:\tlearn: 0.3685841\ttotal: 520ms\tremaining: 1.81s\n",
      "223:\tlearn: 0.3680235\ttotal: 522ms\tremaining: 1.81s\n",
      "224:\tlearn: 0.3674146\ttotal: 523ms\tremaining: 1.8s\n",
      "225:\tlearn: 0.3669959\ttotal: 525ms\tremaining: 1.8s\n",
      "226:\tlearn: 0.3664598\ttotal: 526ms\tremaining: 1.79s\n",
      "227:\tlearn: 0.3660285\ttotal: 528ms\tremaining: 1.79s\n",
      "228:\tlearn: 0.3656118\ttotal: 529ms\tremaining: 1.78s\n",
      "229:\tlearn: 0.3653013\ttotal: 531ms\tremaining: 1.78s\n",
      "230:\tlearn: 0.3648384\ttotal: 532ms\tremaining: 1.77s\n",
      "231:\tlearn: 0.3645751\ttotal: 533ms\tremaining: 1.76s\n",
      "232:\tlearn: 0.3642266\ttotal: 535ms\tremaining: 1.76s\n",
      "233:\tlearn: 0.3638032\ttotal: 536ms\tremaining: 1.75s\n",
      "234:\tlearn: 0.3634127\ttotal: 538ms\tremaining: 1.75s\n",
      "235:\tlearn: 0.3628147\ttotal: 539ms\tremaining: 1.75s\n",
      "236:\tlearn: 0.3624876\ttotal: 540ms\tremaining: 1.74s\n",
      "237:\tlearn: 0.3621678\ttotal: 542ms\tremaining: 1.73s\n",
      "238:\tlearn: 0.3617236\ttotal: 543ms\tremaining: 1.73s\n",
      "239:\tlearn: 0.3613139\ttotal: 545ms\tremaining: 1.72s\n",
      "240:\tlearn: 0.3608153\ttotal: 546ms\tremaining: 1.72s\n",
      "241:\tlearn: 0.3605083\ttotal: 548ms\tremaining: 1.72s\n",
      "242:\tlearn: 0.3600805\ttotal: 549ms\tremaining: 1.71s\n",
      "243:\tlearn: 0.3598540\ttotal: 550ms\tremaining: 1.71s\n",
      "244:\tlearn: 0.3594826\ttotal: 552ms\tremaining: 1.7s\n",
      "245:\tlearn: 0.3589942\ttotal: 554ms\tremaining: 1.7s\n",
      "246:\tlearn: 0.3580868\ttotal: 555ms\tremaining: 1.69s\n",
      "247:\tlearn: 0.3577168\ttotal: 557ms\tremaining: 1.69s\n",
      "248:\tlearn: 0.3572695\ttotal: 559ms\tremaining: 1.68s\n",
      "249:\tlearn: 0.3569883\ttotal: 560ms\tremaining: 1.68s\n",
      "250:\tlearn: 0.3564914\ttotal: 562ms\tremaining: 1.68s\n",
      "251:\tlearn: 0.3563154\ttotal: 563ms\tremaining: 1.67s\n",
      "252:\tlearn: 0.3559500\ttotal: 565ms\tremaining: 1.67s\n",
      "253:\tlearn: 0.3556725\ttotal: 567ms\tremaining: 1.66s\n",
      "254:\tlearn: 0.3554429\ttotal: 568ms\tremaining: 1.66s\n",
      "255:\tlearn: 0.3550410\ttotal: 570ms\tremaining: 1.66s\n",
      "256:\tlearn: 0.3544784\ttotal: 571ms\tremaining: 1.65s\n",
      "257:\tlearn: 0.3541264\ttotal: 573ms\tremaining: 1.65s\n",
      "258:\tlearn: 0.3534407\ttotal: 574ms\tremaining: 1.64s\n",
      "259:\tlearn: 0.3531235\ttotal: 576ms\tremaining: 1.64s\n",
      "260:\tlearn: 0.3527207\ttotal: 577ms\tremaining: 1.63s\n",
      "261:\tlearn: 0.3523243\ttotal: 579ms\tremaining: 1.63s\n",
      "262:\tlearn: 0.3520765\ttotal: 580ms\tremaining: 1.62s\n",
      "263:\tlearn: 0.3515223\ttotal: 581ms\tremaining: 1.62s\n",
      "264:\tlearn: 0.3511085\ttotal: 583ms\tremaining: 1.62s\n",
      "265:\tlearn: 0.3507609\ttotal: 584ms\tremaining: 1.61s\n",
      "266:\tlearn: 0.3505624\ttotal: 586ms\tremaining: 1.61s\n",
      "267:\tlearn: 0.3502285\ttotal: 587ms\tremaining: 1.6s\n",
      "268:\tlearn: 0.3497636\ttotal: 588ms\tremaining: 1.6s\n",
      "269:\tlearn: 0.3493754\ttotal: 590ms\tremaining: 1.59s\n",
      "270:\tlearn: 0.3490792\ttotal: 592ms\tremaining: 1.59s\n",
      "271:\tlearn: 0.3487020\ttotal: 593ms\tremaining: 1.59s\n",
      "272:\tlearn: 0.3483143\ttotal: 595ms\tremaining: 1.58s\n",
      "273:\tlearn: 0.3478934\ttotal: 597ms\tremaining: 1.58s\n",
      "274:\tlearn: 0.3475017\ttotal: 599ms\tremaining: 1.58s\n",
      "275:\tlearn: 0.3471957\ttotal: 600ms\tremaining: 1.57s\n",
      "276:\tlearn: 0.3468656\ttotal: 602ms\tremaining: 1.57s\n",
      "277:\tlearn: 0.3464868\ttotal: 603ms\tremaining: 1.57s\n",
      "278:\tlearn: 0.3462092\ttotal: 605ms\tremaining: 1.56s\n",
      "279:\tlearn: 0.3460606\ttotal: 606ms\tremaining: 1.56s\n",
      "280:\tlearn: 0.3455830\ttotal: 608ms\tremaining: 1.55s\n",
      "281:\tlearn: 0.3453044\ttotal: 609ms\tremaining: 1.55s\n",
      "282:\tlearn: 0.3444292\ttotal: 611ms\tremaining: 1.55s\n",
      "283:\tlearn: 0.3440907\ttotal: 613ms\tremaining: 1.54s\n",
      "284:\tlearn: 0.3435897\ttotal: 614ms\tremaining: 1.54s\n",
      "285:\tlearn: 0.3432924\ttotal: 616ms\tremaining: 1.54s\n",
      "286:\tlearn: 0.3429693\ttotal: 618ms\tremaining: 1.53s\n",
      "287:\tlearn: 0.3423841\ttotal: 619ms\tremaining: 1.53s\n",
      "288:\tlearn: 0.3419082\ttotal: 621ms\tremaining: 1.53s\n",
      "289:\tlearn: 0.3417444\ttotal: 622ms\tremaining: 1.52s\n",
      "290:\tlearn: 0.3413183\ttotal: 624ms\tremaining: 1.52s\n",
      "291:\tlearn: 0.3410967\ttotal: 625ms\tremaining: 1.52s\n",
      "292:\tlearn: 0.3405444\ttotal: 627ms\tremaining: 1.51s\n",
      "293:\tlearn: 0.3400621\ttotal: 629ms\tremaining: 1.51s\n",
      "294:\tlearn: 0.3397168\ttotal: 630ms\tremaining: 1.51s\n",
      "295:\tlearn: 0.3393361\ttotal: 632ms\tremaining: 1.5s\n",
      "296:\tlearn: 0.3390740\ttotal: 633ms\tremaining: 1.5s\n",
      "297:\tlearn: 0.3385868\ttotal: 635ms\tremaining: 1.5s\n",
      "298:\tlearn: 0.3383527\ttotal: 637ms\tremaining: 1.49s\n",
      "299:\tlearn: 0.3381225\ttotal: 639ms\tremaining: 1.49s\n",
      "300:\tlearn: 0.3377180\ttotal: 640ms\tremaining: 1.49s\n",
      "301:\tlearn: 0.3373683\ttotal: 642ms\tremaining: 1.48s\n",
      "302:\tlearn: 0.3369712\ttotal: 644ms\tremaining: 1.48s\n",
      "303:\tlearn: 0.3365943\ttotal: 645ms\tremaining: 1.48s\n",
      "304:\tlearn: 0.3361416\ttotal: 647ms\tremaining: 1.47s\n",
      "305:\tlearn: 0.3357881\ttotal: 649ms\tremaining: 1.47s\n",
      "306:\tlearn: 0.3355420\ttotal: 650ms\tremaining: 1.47s\n",
      "307:\tlearn: 0.3353969\ttotal: 652ms\tremaining: 1.46s\n",
      "308:\tlearn: 0.3350159\ttotal: 653ms\tremaining: 1.46s\n",
      "309:\tlearn: 0.3347592\ttotal: 655ms\tremaining: 1.46s\n",
      "310:\tlearn: 0.3344209\ttotal: 657ms\tremaining: 1.45s\n",
      "311:\tlearn: 0.3340571\ttotal: 658ms\tremaining: 1.45s\n",
      "312:\tlearn: 0.3337410\ttotal: 660ms\tremaining: 1.45s\n",
      "313:\tlearn: 0.3335433\ttotal: 661ms\tremaining: 1.44s\n",
      "314:\tlearn: 0.3331226\ttotal: 663ms\tremaining: 1.44s\n",
      "315:\tlearn: 0.3326529\ttotal: 664ms\tremaining: 1.44s\n",
      "316:\tlearn: 0.3324585\ttotal: 666ms\tremaining: 1.44s\n",
      "317:\tlearn: 0.3319313\ttotal: 668ms\tremaining: 1.43s\n",
      "318:\tlearn: 0.3317666\ttotal: 670ms\tremaining: 1.43s\n",
      "319:\tlearn: 0.3316420\ttotal: 672ms\tremaining: 1.43s\n",
      "320:\tlearn: 0.3313743\ttotal: 673ms\tremaining: 1.42s\n",
      "321:\tlearn: 0.3311034\ttotal: 675ms\tremaining: 1.42s\n",
      "322:\tlearn: 0.3308718\ttotal: 677ms\tremaining: 1.42s\n",
      "323:\tlearn: 0.3305797\ttotal: 679ms\tremaining: 1.42s\n",
      "324:\tlearn: 0.3303344\ttotal: 680ms\tremaining: 1.41s\n",
      "325:\tlearn: 0.3299356\ttotal: 682ms\tremaining: 1.41s\n",
      "326:\tlearn: 0.3297079\ttotal: 684ms\tremaining: 1.41s\n",
      "327:\tlearn: 0.3293339\ttotal: 686ms\tremaining: 1.41s\n",
      "328:\tlearn: 0.3289580\ttotal: 687ms\tremaining: 1.4s\n",
      "329:\tlearn: 0.3285913\ttotal: 689ms\tremaining: 1.4s\n",
      "330:\tlearn: 0.3282758\ttotal: 691ms\tremaining: 1.4s\n",
      "331:\tlearn: 0.3279623\ttotal: 692ms\tremaining: 1.39s\n",
      "332:\tlearn: 0.3274888\ttotal: 694ms\tremaining: 1.39s\n",
      "333:\tlearn: 0.3271103\ttotal: 695ms\tremaining: 1.39s\n",
      "334:\tlearn: 0.3266782\ttotal: 697ms\tremaining: 1.38s\n",
      "335:\tlearn: 0.3263302\ttotal: 698ms\tremaining: 1.38s\n",
      "336:\tlearn: 0.3260965\ttotal: 700ms\tremaining: 1.38s\n",
      "337:\tlearn: 0.3259158\ttotal: 702ms\tremaining: 1.37s\n",
      "338:\tlearn: 0.3258232\ttotal: 703ms\tremaining: 1.37s\n",
      "339:\tlearn: 0.3256590\ttotal: 705ms\tremaining: 1.37s\n",
      "340:\tlearn: 0.3251070\ttotal: 706ms\tremaining: 1.36s\n",
      "341:\tlearn: 0.3248128\ttotal: 708ms\tremaining: 1.36s\n",
      "342:\tlearn: 0.3245641\ttotal: 709ms\tremaining: 1.36s\n",
      "343:\tlearn: 0.3244393\ttotal: 710ms\tremaining: 1.35s\n",
      "344:\tlearn: 0.3239917\ttotal: 712ms\tremaining: 1.35s\n",
      "345:\tlearn: 0.3236587\ttotal: 714ms\tremaining: 1.35s\n",
      "346:\tlearn: 0.3232919\ttotal: 715ms\tremaining: 1.34s\n",
      "347:\tlearn: 0.3229349\ttotal: 717ms\tremaining: 1.34s\n",
      "348:\tlearn: 0.3227158\ttotal: 718ms\tremaining: 1.34s\n",
      "349:\tlearn: 0.3222736\ttotal: 720ms\tremaining: 1.34s\n",
      "350:\tlearn: 0.3219319\ttotal: 721ms\tremaining: 1.33s\n",
      "351:\tlearn: 0.3216924\ttotal: 723ms\tremaining: 1.33s\n",
      "352:\tlearn: 0.3214005\ttotal: 724ms\tremaining: 1.33s\n",
      "353:\tlearn: 0.3212561\ttotal: 726ms\tremaining: 1.32s\n",
      "354:\tlearn: 0.3210802\ttotal: 728ms\tremaining: 1.32s\n",
      "355:\tlearn: 0.3208611\ttotal: 730ms\tremaining: 1.32s\n",
      "356:\tlearn: 0.3207409\ttotal: 731ms\tremaining: 1.32s\n",
      "357:\tlearn: 0.3204410\ttotal: 733ms\tremaining: 1.31s\n",
      "358:\tlearn: 0.3201386\ttotal: 734ms\tremaining: 1.31s\n",
      "359:\tlearn: 0.3199546\ttotal: 736ms\tremaining: 1.31s\n",
      "360:\tlearn: 0.3196740\ttotal: 737ms\tremaining: 1.3s\n",
      "361:\tlearn: 0.3193086\ttotal: 739ms\tremaining: 1.3s\n",
      "362:\tlearn: 0.3190555\ttotal: 741ms\tremaining: 1.3s\n",
      "363:\tlearn: 0.3186316\ttotal: 743ms\tremaining: 1.3s\n",
      "364:\tlearn: 0.3182750\ttotal: 744ms\tremaining: 1.29s\n",
      "365:\tlearn: 0.3179150\ttotal: 746ms\tremaining: 1.29s\n",
      "366:\tlearn: 0.3176213\ttotal: 747ms\tremaining: 1.29s\n",
      "367:\tlearn: 0.3174330\ttotal: 749ms\tremaining: 1.29s\n",
      "368:\tlearn: 0.3170058\ttotal: 751ms\tremaining: 1.28s\n",
      "369:\tlearn: 0.3167177\ttotal: 752ms\tremaining: 1.28s\n",
      "370:\tlearn: 0.3165966\ttotal: 754ms\tremaining: 1.28s\n",
      "371:\tlearn: 0.3163434\ttotal: 756ms\tremaining: 1.28s\n",
      "372:\tlearn: 0.3158102\ttotal: 758ms\tremaining: 1.27s\n",
      "373:\tlearn: 0.3156989\ttotal: 760ms\tremaining: 1.27s\n",
      "374:\tlearn: 0.3153516\ttotal: 761ms\tremaining: 1.27s\n",
      "375:\tlearn: 0.3151365\ttotal: 763ms\tremaining: 1.27s\n",
      "376:\tlearn: 0.3148602\ttotal: 765ms\tremaining: 1.26s\n",
      "377:\tlearn: 0.3146425\ttotal: 767ms\tremaining: 1.26s\n",
      "378:\tlearn: 0.3140533\ttotal: 768ms\tremaining: 1.26s\n",
      "379:\tlearn: 0.3138100\ttotal: 770ms\tremaining: 1.26s\n",
      "380:\tlearn: 0.3134537\ttotal: 772ms\tremaining: 1.25s\n",
      "381:\tlearn: 0.3131326\ttotal: 774ms\tremaining: 1.25s\n",
      "382:\tlearn: 0.3127691\ttotal: 776ms\tremaining: 1.25s\n",
      "383:\tlearn: 0.3123777\ttotal: 777ms\tremaining: 1.25s\n",
      "384:\tlearn: 0.3120189\ttotal: 779ms\tremaining: 1.24s\n",
      "385:\tlearn: 0.3117879\ttotal: 781ms\tremaining: 1.24s\n",
      "386:\tlearn: 0.3117281\ttotal: 783ms\tremaining: 1.24s\n",
      "387:\tlearn: 0.3114269\ttotal: 785ms\tremaining: 1.24s\n",
      "388:\tlearn: 0.3111523\ttotal: 786ms\tremaining: 1.24s\n",
      "389:\tlearn: 0.3107485\ttotal: 788ms\tremaining: 1.23s\n",
      "390:\tlearn: 0.3104823\ttotal: 790ms\tremaining: 1.23s\n",
      "391:\tlearn: 0.3102043\ttotal: 791ms\tremaining: 1.23s\n",
      "392:\tlearn: 0.3100756\ttotal: 793ms\tremaining: 1.22s\n",
      "393:\tlearn: 0.3096455\ttotal: 794ms\tremaining: 1.22s\n",
      "394:\tlearn: 0.3094293\ttotal: 796ms\tremaining: 1.22s\n",
      "395:\tlearn: 0.3091670\ttotal: 797ms\tremaining: 1.22s\n",
      "396:\tlearn: 0.3089720\ttotal: 799ms\tremaining: 1.21s\n",
      "397:\tlearn: 0.3087352\ttotal: 801ms\tremaining: 1.21s\n",
      "398:\tlearn: 0.3083025\ttotal: 803ms\tremaining: 1.21s\n",
      "399:\tlearn: 0.3080730\ttotal: 804ms\tremaining: 1.21s\n",
      "400:\tlearn: 0.3075862\ttotal: 806ms\tremaining: 1.2s\n",
      "401:\tlearn: 0.3072950\ttotal: 807ms\tremaining: 1.2s\n",
      "402:\tlearn: 0.3069260\ttotal: 809ms\tremaining: 1.2s\n",
      "403:\tlearn: 0.3066624\ttotal: 810ms\tremaining: 1.2s\n",
      "404:\tlearn: 0.3064005\ttotal: 812ms\tremaining: 1.19s\n",
      "405:\tlearn: 0.3062175\ttotal: 814ms\tremaining: 1.19s\n",
      "406:\tlearn: 0.3059133\ttotal: 816ms\tremaining: 1.19s\n",
      "407:\tlearn: 0.3056401\ttotal: 817ms\tremaining: 1.19s\n",
      "408:\tlearn: 0.3053706\ttotal: 819ms\tremaining: 1.18s\n",
      "409:\tlearn: 0.3051702\ttotal: 820ms\tremaining: 1.18s\n",
      "410:\tlearn: 0.3047998\ttotal: 822ms\tremaining: 1.18s\n",
      "411:\tlearn: 0.3044851\ttotal: 823ms\tremaining: 1.17s\n",
      "412:\tlearn: 0.3041596\ttotal: 825ms\tremaining: 1.17s\n",
      "413:\tlearn: 0.3039484\ttotal: 827ms\tremaining: 1.17s\n",
      "414:\tlearn: 0.3035868\ttotal: 828ms\tremaining: 1.17s\n",
      "415:\tlearn: 0.3034963\ttotal: 830ms\tremaining: 1.17s\n",
      "416:\tlearn: 0.3032978\ttotal: 831ms\tremaining: 1.16s\n",
      "417:\tlearn: 0.3029297\ttotal: 833ms\tremaining: 1.16s\n",
      "418:\tlearn: 0.3026614\ttotal: 835ms\tremaining: 1.16s\n",
      "419:\tlearn: 0.3025338\ttotal: 836ms\tremaining: 1.15s\n",
      "420:\tlearn: 0.3023329\ttotal: 838ms\tremaining: 1.15s\n",
      "421:\tlearn: 0.3020878\ttotal: 840ms\tremaining: 1.15s\n",
      "422:\tlearn: 0.3018350\ttotal: 842ms\tremaining: 1.15s\n",
      "423:\tlearn: 0.3016547\ttotal: 843ms\tremaining: 1.15s\n",
      "424:\tlearn: 0.3013340\ttotal: 845ms\tremaining: 1.14s\n",
      "425:\tlearn: 0.3012067\ttotal: 847ms\tremaining: 1.14s\n",
      "426:\tlearn: 0.3010644\ttotal: 849ms\tremaining: 1.14s\n",
      "427:\tlearn: 0.3008560\ttotal: 851ms\tremaining: 1.14s\n",
      "428:\tlearn: 0.3007435\ttotal: 853ms\tremaining: 1.14s\n",
      "429:\tlearn: 0.3005282\ttotal: 854ms\tremaining: 1.13s\n",
      "430:\tlearn: 0.3002332\ttotal: 856ms\tremaining: 1.13s\n",
      "431:\tlearn: 0.2999973\ttotal: 858ms\tremaining: 1.13s\n",
      "432:\tlearn: 0.2998342\ttotal: 860ms\tremaining: 1.13s\n",
      "433:\tlearn: 0.2995772\ttotal: 861ms\tremaining: 1.12s\n",
      "434:\tlearn: 0.2994191\ttotal: 863ms\tremaining: 1.12s\n",
      "435:\tlearn: 0.2992121\ttotal: 865ms\tremaining: 1.12s\n",
      "436:\tlearn: 0.2990371\ttotal: 867ms\tremaining: 1.12s\n",
      "437:\tlearn: 0.2988313\ttotal: 868ms\tremaining: 1.11s\n",
      "438:\tlearn: 0.2986686\ttotal: 870ms\tremaining: 1.11s\n",
      "439:\tlearn: 0.2985372\ttotal: 873ms\tremaining: 1.11s\n",
      "440:\tlearn: 0.2982802\ttotal: 874ms\tremaining: 1.11s\n",
      "441:\tlearn: 0.2978098\ttotal: 877ms\tremaining: 1.11s\n",
      "442:\tlearn: 0.2975569\ttotal: 878ms\tremaining: 1.1s\n",
      "443:\tlearn: 0.2974696\ttotal: 880ms\tremaining: 1.1s\n",
      "444:\tlearn: 0.2971000\ttotal: 881ms\tremaining: 1.1s\n",
      "445:\tlearn: 0.2968185\ttotal: 883ms\tremaining: 1.1s\n",
      "446:\tlearn: 0.2965820\ttotal: 885ms\tremaining: 1.09s\n",
      "447:\tlearn: 0.2963367\ttotal: 886ms\tremaining: 1.09s\n",
      "448:\tlearn: 0.2962052\ttotal: 888ms\tremaining: 1.09s\n",
      "449:\tlearn: 0.2958710\ttotal: 889ms\tremaining: 1.09s\n",
      "450:\tlearn: 0.2957278\ttotal: 891ms\tremaining: 1.08s\n",
      "451:\tlearn: 0.2954078\ttotal: 893ms\tremaining: 1.08s\n",
      "452:\tlearn: 0.2950464\ttotal: 894ms\tremaining: 1.08s\n",
      "453:\tlearn: 0.2943738\ttotal: 896ms\tremaining: 1.08s\n",
      "454:\tlearn: 0.2940240\ttotal: 897ms\tremaining: 1.07s\n",
      "455:\tlearn: 0.2937387\ttotal: 899ms\tremaining: 1.07s\n",
      "456:\tlearn: 0.2932645\ttotal: 900ms\tremaining: 1.07s\n",
      "457:\tlearn: 0.2930212\ttotal: 902ms\tremaining: 1.07s\n",
      "458:\tlearn: 0.2927047\ttotal: 904ms\tremaining: 1.06s\n",
      "459:\tlearn: 0.2925782\ttotal: 905ms\tremaining: 1.06s\n",
      "460:\tlearn: 0.2923455\ttotal: 907ms\tremaining: 1.06s\n",
      "461:\tlearn: 0.2921114\ttotal: 909ms\tremaining: 1.06s\n",
      "462:\tlearn: 0.2918372\ttotal: 910ms\tremaining: 1.05s\n",
      "463:\tlearn: 0.2916646\ttotal: 912ms\tremaining: 1.05s\n",
      "464:\tlearn: 0.2914858\ttotal: 914ms\tremaining: 1.05s\n",
      "465:\tlearn: 0.2913746\ttotal: 915ms\tremaining: 1.05s\n",
      "466:\tlearn: 0.2911112\ttotal: 917ms\tremaining: 1.05s\n",
      "467:\tlearn: 0.2909419\ttotal: 918ms\tremaining: 1.04s\n",
      "468:\tlearn: 0.2907768\ttotal: 920ms\tremaining: 1.04s\n",
      "469:\tlearn: 0.2905672\ttotal: 921ms\tremaining: 1.04s\n",
      "470:\tlearn: 0.2902868\ttotal: 923ms\tremaining: 1.04s\n",
      "471:\tlearn: 0.2901459\ttotal: 925ms\tremaining: 1.03s\n",
      "472:\tlearn: 0.2895721\ttotal: 926ms\tremaining: 1.03s\n",
      "473:\tlearn: 0.2893069\ttotal: 928ms\tremaining: 1.03s\n",
      "474:\tlearn: 0.2892238\ttotal: 930ms\tremaining: 1.03s\n",
      "475:\tlearn: 0.2890793\ttotal: 931ms\tremaining: 1.02s\n",
      "476:\tlearn: 0.2888606\ttotal: 933ms\tremaining: 1.02s\n",
      "477:\tlearn: 0.2885725\ttotal: 934ms\tremaining: 1.02s\n",
      "478:\tlearn: 0.2884059\ttotal: 935ms\tremaining: 1.02s\n",
      "479:\tlearn: 0.2881226\ttotal: 937ms\tremaining: 1.01s\n",
      "480:\tlearn: 0.2878577\ttotal: 939ms\tremaining: 1.01s\n",
      "481:\tlearn: 0.2876443\ttotal: 940ms\tremaining: 1.01s\n",
      "482:\tlearn: 0.2872679\ttotal: 942ms\tremaining: 1.01s\n",
      "483:\tlearn: 0.2869225\ttotal: 943ms\tremaining: 1s\n",
      "484:\tlearn: 0.2867176\ttotal: 945ms\tremaining: 1s\n",
      "485:\tlearn: 0.2863829\ttotal: 947ms\tremaining: 1s\n",
      "486:\tlearn: 0.2862343\ttotal: 948ms\tremaining: 999ms\n",
      "487:\tlearn: 0.2860281\ttotal: 949ms\tremaining: 996ms\n",
      "488:\tlearn: 0.2858158\ttotal: 951ms\tremaining: 993ms\n",
      "489:\tlearn: 0.2857030\ttotal: 952ms\tremaining: 991ms\n",
      "490:\tlearn: 0.2853467\ttotal: 953ms\tremaining: 988ms\n",
      "491:\tlearn: 0.2852238\ttotal: 955ms\tremaining: 986ms\n",
      "492:\tlearn: 0.2848703\ttotal: 956ms\tremaining: 983ms\n",
      "493:\tlearn: 0.2847930\ttotal: 958ms\tremaining: 981ms\n",
      "494:\tlearn: 0.2844460\ttotal: 959ms\tremaining: 979ms\n",
      "495:\tlearn: 0.2842826\ttotal: 961ms\tremaining: 976ms\n",
      "496:\tlearn: 0.2840736\ttotal: 962ms\tremaining: 974ms\n",
      "497:\tlearn: 0.2838086\ttotal: 964ms\tremaining: 971ms\n",
      "498:\tlearn: 0.2836780\ttotal: 965ms\tremaining: 969ms\n",
      "499:\tlearn: 0.2835099\ttotal: 967ms\tremaining: 967ms\n",
      "500:\tlearn: 0.2833241\ttotal: 968ms\tremaining: 964ms\n",
      "501:\tlearn: 0.2831782\ttotal: 970ms\tremaining: 962ms\n",
      "502:\tlearn: 0.2829458\ttotal: 972ms\tremaining: 960ms\n",
      "503:\tlearn: 0.2824786\ttotal: 973ms\tremaining: 958ms\n",
      "504:\tlearn: 0.2823866\ttotal: 975ms\tremaining: 956ms\n",
      "505:\tlearn: 0.2821895\ttotal: 976ms\tremaining: 953ms\n",
      "506:\tlearn: 0.2817553\ttotal: 978ms\tremaining: 951ms\n",
      "507:\tlearn: 0.2815476\ttotal: 979ms\tremaining: 948ms\n",
      "508:\tlearn: 0.2813923\ttotal: 981ms\tremaining: 946ms\n",
      "509:\tlearn: 0.2812253\ttotal: 982ms\tremaining: 944ms\n",
      "510:\tlearn: 0.2811270\ttotal: 984ms\tremaining: 941ms\n",
      "511:\tlearn: 0.2809442\ttotal: 985ms\tremaining: 939ms\n",
      "512:\tlearn: 0.2806583\ttotal: 987ms\tremaining: 937ms\n",
      "513:\tlearn: 0.2804053\ttotal: 988ms\tremaining: 934ms\n",
      "514:\tlearn: 0.2802933\ttotal: 990ms\tremaining: 932ms\n",
      "515:\tlearn: 0.2802130\ttotal: 991ms\tremaining: 930ms\n",
      "516:\tlearn: 0.2800198\ttotal: 993ms\tremaining: 928ms\n",
      "517:\tlearn: 0.2797297\ttotal: 994ms\tremaining: 925ms\n",
      "518:\tlearn: 0.2792613\ttotal: 996ms\tremaining: 923ms\n",
      "519:\tlearn: 0.2791178\ttotal: 997ms\tremaining: 921ms\n",
      "520:\tlearn: 0.2787684\ttotal: 999ms\tremaining: 918ms\n",
      "521:\tlearn: 0.2785238\ttotal: 1s\tremaining: 916ms\n",
      "522:\tlearn: 0.2784354\ttotal: 1s\tremaining: 914ms\n",
      "523:\tlearn: 0.2782083\ttotal: 1s\tremaining: 912ms\n",
      "524:\tlearn: 0.2779862\ttotal: 1s\tremaining: 909ms\n",
      "525:\tlearn: 0.2778577\ttotal: 1.01s\tremaining: 907ms\n",
      "526:\tlearn: 0.2776799\ttotal: 1.01s\tremaining: 905ms\n",
      "527:\tlearn: 0.2774047\ttotal: 1.01s\tremaining: 902ms\n",
      "528:\tlearn: 0.2770705\ttotal: 1.01s\tremaining: 900ms\n",
      "529:\tlearn: 0.2767879\ttotal: 1.01s\tremaining: 898ms\n",
      "530:\tlearn: 0.2765573\ttotal: 1.01s\tremaining: 896ms\n",
      "531:\tlearn: 0.2762926\ttotal: 1.02s\tremaining: 894ms\n",
      "532:\tlearn: 0.2760226\ttotal: 1.02s\tremaining: 893ms\n",
      "533:\tlearn: 0.2759634\ttotal: 1.02s\tremaining: 891ms\n",
      "534:\tlearn: 0.2755854\ttotal: 1.02s\tremaining: 889ms\n",
      "535:\tlearn: 0.2753839\ttotal: 1.02s\tremaining: 886ms\n",
      "536:\tlearn: 0.2748993\ttotal: 1.02s\tremaining: 884ms\n",
      "537:\tlearn: 0.2747174\ttotal: 1.03s\tremaining: 882ms\n",
      "538:\tlearn: 0.2745669\ttotal: 1.03s\tremaining: 880ms\n",
      "539:\tlearn: 0.2742959\ttotal: 1.03s\tremaining: 878ms\n",
      "540:\tlearn: 0.2740799\ttotal: 1.03s\tremaining: 876ms\n",
      "541:\tlearn: 0.2739597\ttotal: 1.03s\tremaining: 874ms\n",
      "542:\tlearn: 0.2737468\ttotal: 1.03s\tremaining: 871ms\n",
      "543:\tlearn: 0.2736213\ttotal: 1.04s\tremaining: 869ms\n",
      "544:\tlearn: 0.2734265\ttotal: 1.04s\tremaining: 867ms\n",
      "545:\tlearn: 0.2731554\ttotal: 1.04s\tremaining: 864ms\n",
      "546:\tlearn: 0.2730985\ttotal: 1.04s\tremaining: 862ms\n",
      "547:\tlearn: 0.2727592\ttotal: 1.04s\tremaining: 860ms\n",
      "548:\tlearn: 0.2725759\ttotal: 1.04s\tremaining: 858ms\n",
      "549:\tlearn: 0.2723701\ttotal: 1.04s\tremaining: 855ms\n",
      "550:\tlearn: 0.2720963\ttotal: 1.05s\tremaining: 853ms\n",
      "551:\tlearn: 0.2717838\ttotal: 1.05s\tremaining: 850ms\n",
      "552:\tlearn: 0.2716459\ttotal: 1.05s\tremaining: 848ms\n",
      "553:\tlearn: 0.2714241\ttotal: 1.05s\tremaining: 846ms\n",
      "554:\tlearn: 0.2710796\ttotal: 1.05s\tremaining: 843ms\n",
      "555:\tlearn: 0.2708530\ttotal: 1.05s\tremaining: 841ms\n",
      "556:\tlearn: 0.2707057\ttotal: 1.05s\tremaining: 839ms\n",
      "557:\tlearn: 0.2702598\ttotal: 1.05s\tremaining: 836ms\n",
      "558:\tlearn: 0.2701429\ttotal: 1.06s\tremaining: 834ms\n",
      "559:\tlearn: 0.2699466\ttotal: 1.06s\tremaining: 832ms\n",
      "560:\tlearn: 0.2697293\ttotal: 1.06s\tremaining: 829ms\n",
      "561:\tlearn: 0.2694486\ttotal: 1.06s\tremaining: 827ms\n",
      "562:\tlearn: 0.2690466\ttotal: 1.06s\tremaining: 825ms\n",
      "563:\tlearn: 0.2689248\ttotal: 1.06s\tremaining: 822ms\n",
      "564:\tlearn: 0.2686948\ttotal: 1.06s\tremaining: 820ms\n",
      "565:\tlearn: 0.2685619\ttotal: 1.07s\tremaining: 818ms\n",
      "566:\tlearn: 0.2683828\ttotal: 1.07s\tremaining: 816ms\n",
      "567:\tlearn: 0.2679790\ttotal: 1.07s\tremaining: 813ms\n",
      "568:\tlearn: 0.2678450\ttotal: 1.07s\tremaining: 811ms\n",
      "569:\tlearn: 0.2676119\ttotal: 1.07s\tremaining: 809ms\n",
      "570:\tlearn: 0.2673814\ttotal: 1.07s\tremaining: 806ms\n",
      "571:\tlearn: 0.2672294\ttotal: 1.07s\tremaining: 804ms\n",
      "572:\tlearn: 0.2669753\ttotal: 1.07s\tremaining: 802ms\n",
      "573:\tlearn: 0.2668201\ttotal: 1.08s\tremaining: 799ms\n",
      "574:\tlearn: 0.2663744\ttotal: 1.08s\tremaining: 797ms\n",
      "575:\tlearn: 0.2663089\ttotal: 1.08s\tremaining: 795ms\n",
      "576:\tlearn: 0.2661984\ttotal: 1.08s\tremaining: 792ms\n",
      "577:\tlearn: 0.2657423\ttotal: 1.08s\tremaining: 790ms\n",
      "578:\tlearn: 0.2655906\ttotal: 1.08s\tremaining: 788ms\n",
      "579:\tlearn: 0.2652973\ttotal: 1.08s\tremaining: 786ms\n",
      "580:\tlearn: 0.2651702\ttotal: 1.09s\tremaining: 783ms\n",
      "581:\tlearn: 0.2649804\ttotal: 1.09s\tremaining: 781ms\n",
      "582:\tlearn: 0.2648733\ttotal: 1.09s\tremaining: 779ms\n",
      "583:\tlearn: 0.2645161\ttotal: 1.09s\tremaining: 777ms\n",
      "584:\tlearn: 0.2643629\ttotal: 1.09s\tremaining: 774ms\n",
      "585:\tlearn: 0.2640424\ttotal: 1.09s\tremaining: 772ms\n",
      "586:\tlearn: 0.2639059\ttotal: 1.09s\tremaining: 770ms\n",
      "587:\tlearn: 0.2635783\ttotal: 1.09s\tremaining: 768ms\n",
      "588:\tlearn: 0.2633252\ttotal: 1.1s\tremaining: 765ms\n",
      "589:\tlearn: 0.2631536\ttotal: 1.1s\tremaining: 763ms\n",
      "590:\tlearn: 0.2629800\ttotal: 1.1s\tremaining: 761ms\n",
      "591:\tlearn: 0.2626833\ttotal: 1.1s\tremaining: 759ms\n",
      "592:\tlearn: 0.2624857\ttotal: 1.1s\tremaining: 756ms\n",
      "593:\tlearn: 0.2622796\ttotal: 1.1s\tremaining: 754ms\n",
      "594:\tlearn: 0.2619838\ttotal: 1.1s\tremaining: 752ms\n",
      "595:\tlearn: 0.2618002\ttotal: 1.1s\tremaining: 750ms\n",
      "596:\tlearn: 0.2615721\ttotal: 1.11s\tremaining: 747ms\n",
      "597:\tlearn: 0.2615152\ttotal: 1.11s\tremaining: 745ms\n",
      "598:\tlearn: 0.2613501\ttotal: 1.11s\tremaining: 743ms\n",
      "599:\tlearn: 0.2611080\ttotal: 1.11s\tremaining: 741ms\n",
      "600:\tlearn: 0.2609645\ttotal: 1.11s\tremaining: 739ms\n",
      "601:\tlearn: 0.2606897\ttotal: 1.11s\tremaining: 737ms\n",
      "602:\tlearn: 0.2602639\ttotal: 1.11s\tremaining: 734ms\n",
      "603:\tlearn: 0.2599329\ttotal: 1.12s\tremaining: 732ms\n",
      "604:\tlearn: 0.2597957\ttotal: 1.12s\tremaining: 730ms\n",
      "605:\tlearn: 0.2595943\ttotal: 1.12s\tremaining: 728ms\n",
      "606:\tlearn: 0.2593111\ttotal: 1.12s\tremaining: 726ms\n",
      "607:\tlearn: 0.2591161\ttotal: 1.12s\tremaining: 724ms\n",
      "608:\tlearn: 0.2588429\ttotal: 1.12s\tremaining: 721ms\n",
      "609:\tlearn: 0.2586168\ttotal: 1.12s\tremaining: 719ms\n",
      "610:\tlearn: 0.2583814\ttotal: 1.13s\tremaining: 717ms\n",
      "611:\tlearn: 0.2582859\ttotal: 1.13s\tremaining: 715ms\n",
      "612:\tlearn: 0.2581228\ttotal: 1.13s\tremaining: 713ms\n",
      "613:\tlearn: 0.2576821\ttotal: 1.13s\tremaining: 711ms\n",
      "614:\tlearn: 0.2573665\ttotal: 1.13s\tremaining: 709ms\n",
      "615:\tlearn: 0.2571712\ttotal: 1.13s\tremaining: 707ms\n",
      "616:\tlearn: 0.2569123\ttotal: 1.14s\tremaining: 705ms\n",
      "617:\tlearn: 0.2567421\ttotal: 1.14s\tremaining: 703ms\n",
      "618:\tlearn: 0.2565468\ttotal: 1.14s\tremaining: 700ms\n",
      "619:\tlearn: 0.2560903\ttotal: 1.14s\tremaining: 698ms\n",
      "620:\tlearn: 0.2558848\ttotal: 1.14s\tremaining: 696ms\n",
      "621:\tlearn: 0.2557082\ttotal: 1.14s\tremaining: 694ms\n",
      "622:\tlearn: 0.2555673\ttotal: 1.14s\tremaining: 692ms\n",
      "623:\tlearn: 0.2553104\ttotal: 1.15s\tremaining: 690ms\n",
      "624:\tlearn: 0.2551517\ttotal: 1.15s\tremaining: 688ms\n",
      "625:\tlearn: 0.2548730\ttotal: 1.15s\tremaining: 686ms\n",
      "626:\tlearn: 0.2547001\ttotal: 1.15s\tremaining: 684ms\n",
      "627:\tlearn: 0.2545593\ttotal: 1.15s\tremaining: 682ms\n",
      "628:\tlearn: 0.2543065\ttotal: 1.15s\tremaining: 680ms\n",
      "629:\tlearn: 0.2541924\ttotal: 1.15s\tremaining: 678ms\n",
      "630:\tlearn: 0.2540412\ttotal: 1.16s\tremaining: 676ms\n",
      "631:\tlearn: 0.2540272\ttotal: 1.16s\tremaining: 673ms\n",
      "632:\tlearn: 0.2538574\ttotal: 1.16s\tremaining: 671ms\n",
      "633:\tlearn: 0.2535445\ttotal: 1.16s\tremaining: 669ms\n",
      "634:\tlearn: 0.2533613\ttotal: 1.16s\tremaining: 667ms\n",
      "635:\tlearn: 0.2532291\ttotal: 1.16s\tremaining: 665ms\n",
      "636:\tlearn: 0.2529860\ttotal: 1.16s\tremaining: 663ms\n",
      "637:\tlearn: 0.2529107\ttotal: 1.17s\tremaining: 661ms\n",
      "638:\tlearn: 0.2528306\ttotal: 1.17s\tremaining: 659ms\n",
      "639:\tlearn: 0.2527318\ttotal: 1.17s\tremaining: 657ms\n",
      "640:\tlearn: 0.2526089\ttotal: 1.17s\tremaining: 655ms\n",
      "641:\tlearn: 0.2523294\ttotal: 1.17s\tremaining: 653ms\n",
      "642:\tlearn: 0.2521745\ttotal: 1.17s\tremaining: 651ms\n",
      "643:\tlearn: 0.2520903\ttotal: 1.17s\tremaining: 649ms\n",
      "644:\tlearn: 0.2518111\ttotal: 1.18s\tremaining: 647ms\n",
      "645:\tlearn: 0.2517013\ttotal: 1.18s\tremaining: 645ms\n",
      "646:\tlearn: 0.2513785\ttotal: 1.18s\tremaining: 643ms\n",
      "647:\tlearn: 0.2510264\ttotal: 1.18s\tremaining: 641ms\n",
      "648:\tlearn: 0.2509075\ttotal: 1.18s\tremaining: 639ms\n",
      "649:\tlearn: 0.2507789\ttotal: 1.18s\tremaining: 637ms\n",
      "650:\tlearn: 0.2505793\ttotal: 1.19s\tremaining: 636ms\n",
      "651:\tlearn: 0.2504598\ttotal: 1.19s\tremaining: 634ms\n",
      "652:\tlearn: 0.2502472\ttotal: 1.19s\tremaining: 632ms\n",
      "653:\tlearn: 0.2501631\ttotal: 1.19s\tremaining: 630ms\n",
      "654:\tlearn: 0.2500554\ttotal: 1.19s\tremaining: 628ms\n",
      "655:\tlearn: 0.2499953\ttotal: 1.19s\tremaining: 626ms\n",
      "656:\tlearn: 0.2497997\ttotal: 1.2s\tremaining: 624ms\n",
      "657:\tlearn: 0.2496228\ttotal: 1.2s\tremaining: 622ms\n",
      "658:\tlearn: 0.2493790\ttotal: 1.2s\tremaining: 620ms\n",
      "659:\tlearn: 0.2490870\ttotal: 1.2s\tremaining: 619ms\n",
      "660:\tlearn: 0.2489131\ttotal: 1.2s\tremaining: 617ms\n",
      "661:\tlearn: 0.2487822\ttotal: 1.21s\tremaining: 615ms\n",
      "662:\tlearn: 0.2486344\ttotal: 1.21s\tremaining: 614ms\n",
      "663:\tlearn: 0.2485112\ttotal: 1.21s\tremaining: 612ms\n",
      "664:\tlearn: 0.2483456\ttotal: 1.21s\tremaining: 610ms\n",
      "665:\tlearn: 0.2478812\ttotal: 1.21s\tremaining: 608ms\n",
      "666:\tlearn: 0.2477720\ttotal: 1.21s\tremaining: 606ms\n",
      "667:\tlearn: 0.2476856\ttotal: 1.22s\tremaining: 604ms\n",
      "668:\tlearn: 0.2473703\ttotal: 1.22s\tremaining: 602ms\n",
      "669:\tlearn: 0.2469242\ttotal: 1.22s\tremaining: 601ms\n",
      "670:\tlearn: 0.2468015\ttotal: 1.22s\tremaining: 599ms\n",
      "671:\tlearn: 0.2464829\ttotal: 1.22s\tremaining: 597ms\n",
      "672:\tlearn: 0.2462695\ttotal: 1.22s\tremaining: 595ms\n",
      "673:\tlearn: 0.2460049\ttotal: 1.23s\tremaining: 593ms\n",
      "674:\tlearn: 0.2459397\ttotal: 1.23s\tremaining: 591ms\n",
      "675:\tlearn: 0.2457831\ttotal: 1.23s\tremaining: 589ms\n",
      "676:\tlearn: 0.2456189\ttotal: 1.23s\tremaining: 587ms\n",
      "677:\tlearn: 0.2453592\ttotal: 1.23s\tremaining: 585ms\n",
      "678:\tlearn: 0.2450781\ttotal: 1.23s\tremaining: 583ms\n",
      "679:\tlearn: 0.2449079\ttotal: 1.24s\tremaining: 582ms\n",
      "680:\tlearn: 0.2447622\ttotal: 1.24s\tremaining: 580ms\n",
      "681:\tlearn: 0.2446009\ttotal: 1.24s\tremaining: 578ms\n",
      "682:\tlearn: 0.2444911\ttotal: 1.24s\tremaining: 576ms\n",
      "683:\tlearn: 0.2442647\ttotal: 1.24s\tremaining: 574ms\n",
      "684:\tlearn: 0.2439881\ttotal: 1.24s\tremaining: 572ms\n",
      "685:\tlearn: 0.2438743\ttotal: 1.25s\tremaining: 570ms\n",
      "686:\tlearn: 0.2436232\ttotal: 1.25s\tremaining: 568ms\n",
      "687:\tlearn: 0.2432542\ttotal: 1.25s\tremaining: 566ms\n",
      "688:\tlearn: 0.2430422\ttotal: 1.25s\tremaining: 564ms\n",
      "689:\tlearn: 0.2427875\ttotal: 1.25s\tremaining: 562ms\n",
      "690:\tlearn: 0.2426080\ttotal: 1.25s\tremaining: 560ms\n",
      "691:\tlearn: 0.2423995\ttotal: 1.25s\tremaining: 559ms\n",
      "692:\tlearn: 0.2422839\ttotal: 1.26s\tremaining: 557ms\n",
      "693:\tlearn: 0.2419745\ttotal: 1.26s\tremaining: 556ms\n",
      "694:\tlearn: 0.2419342\ttotal: 1.26s\tremaining: 554ms\n",
      "695:\tlearn: 0.2417488\ttotal: 1.26s\tremaining: 553ms\n",
      "696:\tlearn: 0.2416767\ttotal: 1.27s\tremaining: 551ms\n",
      "697:\tlearn: 0.2415790\ttotal: 1.27s\tremaining: 549ms\n",
      "698:\tlearn: 0.2412939\ttotal: 1.27s\tremaining: 548ms\n",
      "699:\tlearn: 0.2411213\ttotal: 1.27s\tremaining: 546ms\n",
      "700:\tlearn: 0.2408446\ttotal: 1.28s\tremaining: 545ms\n",
      "701:\tlearn: 0.2405587\ttotal: 1.28s\tremaining: 543ms\n",
      "702:\tlearn: 0.2403313\ttotal: 1.28s\tremaining: 541ms\n",
      "703:\tlearn: 0.2401492\ttotal: 1.28s\tremaining: 540ms\n",
      "704:\tlearn: 0.2398918\ttotal: 1.28s\tremaining: 538ms\n",
      "705:\tlearn: 0.2396047\ttotal: 1.29s\tremaining: 536ms\n",
      "706:\tlearn: 0.2395006\ttotal: 1.29s\tremaining: 534ms\n",
      "707:\tlearn: 0.2394055\ttotal: 1.29s\tremaining: 532ms\n",
      "708:\tlearn: 0.2392352\ttotal: 1.29s\tremaining: 531ms\n",
      "709:\tlearn: 0.2390019\ttotal: 1.29s\tremaining: 529ms\n",
      "710:\tlearn: 0.2388457\ttotal: 1.3s\tremaining: 527ms\n",
      "711:\tlearn: 0.2386594\ttotal: 1.3s\tremaining: 525ms\n",
      "712:\tlearn: 0.2385861\ttotal: 1.3s\tremaining: 523ms\n",
      "713:\tlearn: 0.2383764\ttotal: 1.3s\tremaining: 521ms\n",
      "714:\tlearn: 0.2382499\ttotal: 1.3s\tremaining: 519ms\n",
      "715:\tlearn: 0.2380496\ttotal: 1.3s\tremaining: 518ms\n",
      "716:\tlearn: 0.2377915\ttotal: 1.31s\tremaining: 516ms\n",
      "717:\tlearn: 0.2376989\ttotal: 1.31s\tremaining: 514ms\n",
      "718:\tlearn: 0.2375933\ttotal: 1.31s\tremaining: 512ms\n",
      "719:\tlearn: 0.2374398\ttotal: 1.31s\tremaining: 510ms\n",
      "720:\tlearn: 0.2372318\ttotal: 1.31s\tremaining: 508ms\n",
      "721:\tlearn: 0.2370847\ttotal: 1.31s\tremaining: 506ms\n",
      "722:\tlearn: 0.2367496\ttotal: 1.31s\tremaining: 504ms\n",
      "723:\tlearn: 0.2363787\ttotal: 1.32s\tremaining: 502ms\n",
      "724:\tlearn: 0.2362295\ttotal: 1.32s\tremaining: 500ms\n",
      "725:\tlearn: 0.2361886\ttotal: 1.32s\tremaining: 498ms\n",
      "726:\tlearn: 0.2360077\ttotal: 1.32s\tremaining: 497ms\n",
      "727:\tlearn: 0.2358936\ttotal: 1.32s\tremaining: 495ms\n",
      "728:\tlearn: 0.2357625\ttotal: 1.32s\tremaining: 493ms\n",
      "729:\tlearn: 0.2356657\ttotal: 1.33s\tremaining: 491ms\n",
      "730:\tlearn: 0.2355083\ttotal: 1.33s\tremaining: 489ms\n",
      "731:\tlearn: 0.2354345\ttotal: 1.33s\tremaining: 487ms\n",
      "732:\tlearn: 0.2353153\ttotal: 1.33s\tremaining: 485ms\n",
      "733:\tlearn: 0.2352290\ttotal: 1.33s\tremaining: 483ms\n",
      "734:\tlearn: 0.2351001\ttotal: 1.33s\tremaining: 481ms\n",
      "735:\tlearn: 0.2349968\ttotal: 1.34s\tremaining: 479ms\n",
      "736:\tlearn: 0.2349104\ttotal: 1.34s\tremaining: 477ms\n",
      "737:\tlearn: 0.2348057\ttotal: 1.34s\tremaining: 476ms\n",
      "738:\tlearn: 0.2346429\ttotal: 1.34s\tremaining: 474ms\n",
      "739:\tlearn: 0.2344062\ttotal: 1.34s\tremaining: 472ms\n",
      "740:\tlearn: 0.2343251\ttotal: 1.34s\tremaining: 470ms\n",
      "741:\tlearn: 0.2339286\ttotal: 1.34s\tremaining: 468ms\n",
      "742:\tlearn: 0.2337558\ttotal: 1.35s\tremaining: 466ms\n",
      "743:\tlearn: 0.2336824\ttotal: 1.35s\tremaining: 464ms\n",
      "744:\tlearn: 0.2336136\ttotal: 1.35s\tremaining: 462ms\n",
      "745:\tlearn: 0.2334585\ttotal: 1.35s\tremaining: 460ms\n",
      "746:\tlearn: 0.2330439\ttotal: 1.35s\tremaining: 458ms\n",
      "747:\tlearn: 0.2327640\ttotal: 1.35s\tremaining: 457ms\n",
      "748:\tlearn: 0.2325958\ttotal: 1.36s\tremaining: 455ms\n",
      "749:\tlearn: 0.2323885\ttotal: 1.36s\tremaining: 453ms\n",
      "750:\tlearn: 0.2321622\ttotal: 1.36s\tremaining: 451ms\n",
      "751:\tlearn: 0.2320129\ttotal: 1.36s\tremaining: 449ms\n",
      "752:\tlearn: 0.2319447\ttotal: 1.36s\tremaining: 447ms\n",
      "753:\tlearn: 0.2318012\ttotal: 1.36s\tremaining: 445ms\n",
      "754:\tlearn: 0.2316776\ttotal: 1.37s\tremaining: 444ms\n",
      "755:\tlearn: 0.2315503\ttotal: 1.37s\tremaining: 442ms\n",
      "756:\tlearn: 0.2313964\ttotal: 1.37s\tremaining: 440ms\n",
      "757:\tlearn: 0.2313403\ttotal: 1.37s\tremaining: 438ms\n",
      "758:\tlearn: 0.2311582\ttotal: 1.37s\tremaining: 436ms\n",
      "759:\tlearn: 0.2309643\ttotal: 1.37s\tremaining: 434ms\n",
      "760:\tlearn: 0.2308683\ttotal: 1.38s\tremaining: 432ms\n",
      "761:\tlearn: 0.2306519\ttotal: 1.38s\tremaining: 430ms\n",
      "762:\tlearn: 0.2304512\ttotal: 1.38s\tremaining: 428ms\n",
      "763:\tlearn: 0.2303585\ttotal: 1.38s\tremaining: 427ms\n",
      "764:\tlearn: 0.2301186\ttotal: 1.38s\tremaining: 425ms\n",
      "765:\tlearn: 0.2299520\ttotal: 1.38s\tremaining: 423ms\n",
      "766:\tlearn: 0.2298211\ttotal: 1.39s\tremaining: 421ms\n",
      "767:\tlearn: 0.2296461\ttotal: 1.39s\tremaining: 419ms\n",
      "768:\tlearn: 0.2294316\ttotal: 1.39s\tremaining: 417ms\n",
      "769:\tlearn: 0.2292530\ttotal: 1.39s\tremaining: 415ms\n",
      "770:\tlearn: 0.2290728\ttotal: 1.39s\tremaining: 414ms\n",
      "771:\tlearn: 0.2288433\ttotal: 1.39s\tremaining: 412ms\n",
      "772:\tlearn: 0.2287000\ttotal: 1.4s\tremaining: 410ms\n",
      "773:\tlearn: 0.2284832\ttotal: 1.4s\tremaining: 408ms\n",
      "774:\tlearn: 0.2283585\ttotal: 1.4s\tremaining: 406ms\n",
      "775:\tlearn: 0.2282229\ttotal: 1.4s\tremaining: 404ms\n",
      "776:\tlearn: 0.2281303\ttotal: 1.4s\tremaining: 402ms\n",
      "777:\tlearn: 0.2279449\ttotal: 1.4s\tremaining: 400ms\n",
      "778:\tlearn: 0.2277649\ttotal: 1.4s\tremaining: 398ms\n",
      "779:\tlearn: 0.2276696\ttotal: 1.41s\tremaining: 397ms\n",
      "780:\tlearn: 0.2274767\ttotal: 1.41s\tremaining: 395ms\n",
      "781:\tlearn: 0.2272327\ttotal: 1.41s\tremaining: 393ms\n",
      "782:\tlearn: 0.2270917\ttotal: 1.41s\tremaining: 391ms\n",
      "783:\tlearn: 0.2269343\ttotal: 1.41s\tremaining: 389ms\n",
      "784:\tlearn: 0.2266742\ttotal: 1.41s\tremaining: 387ms\n",
      "785:\tlearn: 0.2264986\ttotal: 1.42s\tremaining: 385ms\n",
      "786:\tlearn: 0.2263188\ttotal: 1.42s\tremaining: 384ms\n",
      "787:\tlearn: 0.2261086\ttotal: 1.42s\tremaining: 382ms\n",
      "788:\tlearn: 0.2258824\ttotal: 1.42s\tremaining: 380ms\n",
      "789:\tlearn: 0.2256495\ttotal: 1.42s\tremaining: 378ms\n",
      "790:\tlearn: 0.2253640\ttotal: 1.42s\tremaining: 376ms\n",
      "791:\tlearn: 0.2253015\ttotal: 1.43s\tremaining: 374ms\n",
      "792:\tlearn: 0.2251932\ttotal: 1.43s\tremaining: 372ms\n",
      "793:\tlearn: 0.2250610\ttotal: 1.43s\tremaining: 371ms\n",
      "794:\tlearn: 0.2249378\ttotal: 1.43s\tremaining: 369ms\n",
      "795:\tlearn: 0.2247418\ttotal: 1.43s\tremaining: 367ms\n",
      "796:\tlearn: 0.2243590\ttotal: 1.43s\tremaining: 365ms\n",
      "797:\tlearn: 0.2241881\ttotal: 1.44s\tremaining: 363ms\n",
      "798:\tlearn: 0.2239846\ttotal: 1.44s\tremaining: 362ms\n",
      "799:\tlearn: 0.2238098\ttotal: 1.44s\tremaining: 360ms\n",
      "800:\tlearn: 0.2237013\ttotal: 1.44s\tremaining: 358ms\n",
      "801:\tlearn: 0.2235843\ttotal: 1.44s\tremaining: 356ms\n",
      "802:\tlearn: 0.2234171\ttotal: 1.44s\tremaining: 354ms\n",
      "803:\tlearn: 0.2232202\ttotal: 1.45s\tremaining: 352ms\n",
      "804:\tlearn: 0.2230832\ttotal: 1.45s\tremaining: 350ms\n",
      "805:\tlearn: 0.2229630\ttotal: 1.45s\tremaining: 349ms\n",
      "806:\tlearn: 0.2227556\ttotal: 1.45s\tremaining: 347ms\n",
      "807:\tlearn: 0.2225513\ttotal: 1.45s\tremaining: 345ms\n",
      "808:\tlearn: 0.2224407\ttotal: 1.45s\tremaining: 343ms\n",
      "809:\tlearn: 0.2223815\ttotal: 1.45s\tremaining: 341ms\n",
      "810:\tlearn: 0.2221158\ttotal: 1.46s\tremaining: 339ms\n",
      "811:\tlearn: 0.2218880\ttotal: 1.46s\tremaining: 337ms\n",
      "812:\tlearn: 0.2217191\ttotal: 1.46s\tremaining: 335ms\n",
      "813:\tlearn: 0.2216216\ttotal: 1.46s\tremaining: 334ms\n",
      "814:\tlearn: 0.2214471\ttotal: 1.46s\tremaining: 332ms\n",
      "815:\tlearn: 0.2212460\ttotal: 1.46s\tremaining: 330ms\n",
      "816:\tlearn: 0.2210716\ttotal: 1.46s\tremaining: 328ms\n",
      "817:\tlearn: 0.2207700\ttotal: 1.47s\tremaining: 326ms\n",
      "818:\tlearn: 0.2206518\ttotal: 1.47s\tremaining: 324ms\n",
      "819:\tlearn: 0.2205547\ttotal: 1.47s\tremaining: 322ms\n",
      "820:\tlearn: 0.2202621\ttotal: 1.47s\tremaining: 320ms\n",
      "821:\tlearn: 0.2200709\ttotal: 1.47s\tremaining: 319ms\n",
      "822:\tlearn: 0.2199827\ttotal: 1.47s\tremaining: 317ms\n",
      "823:\tlearn: 0.2198117\ttotal: 1.47s\tremaining: 315ms\n",
      "824:\tlearn: 0.2196338\ttotal: 1.48s\tremaining: 313ms\n",
      "825:\tlearn: 0.2193833\ttotal: 1.48s\tremaining: 311ms\n",
      "826:\tlearn: 0.2191040\ttotal: 1.48s\tremaining: 309ms\n",
      "827:\tlearn: 0.2188188\ttotal: 1.48s\tremaining: 308ms\n",
      "828:\tlearn: 0.2186232\ttotal: 1.48s\tremaining: 306ms\n",
      "829:\tlearn: 0.2184637\ttotal: 1.48s\tremaining: 304ms\n",
      "830:\tlearn: 0.2183447\ttotal: 1.48s\tremaining: 302ms\n",
      "831:\tlearn: 0.2181185\ttotal: 1.49s\tremaining: 300ms\n",
      "832:\tlearn: 0.2179230\ttotal: 1.49s\tremaining: 298ms\n",
      "833:\tlearn: 0.2177289\ttotal: 1.49s\tremaining: 296ms\n",
      "834:\tlearn: 0.2174576\ttotal: 1.49s\tremaining: 295ms\n",
      "835:\tlearn: 0.2173258\ttotal: 1.49s\tremaining: 293ms\n",
      "836:\tlearn: 0.2171739\ttotal: 1.49s\tremaining: 291ms\n",
      "837:\tlearn: 0.2169270\ttotal: 1.49s\tremaining: 289ms\n",
      "838:\tlearn: 0.2166864\ttotal: 1.5s\tremaining: 287ms\n",
      "839:\tlearn: 0.2164157\ttotal: 1.5s\tremaining: 285ms\n",
      "840:\tlearn: 0.2163378\ttotal: 1.5s\tremaining: 283ms\n",
      "841:\tlearn: 0.2162199\ttotal: 1.5s\tremaining: 282ms\n",
      "842:\tlearn: 0.2158899\ttotal: 1.5s\tremaining: 280ms\n",
      "843:\tlearn: 0.2158699\ttotal: 1.5s\tremaining: 278ms\n",
      "844:\tlearn: 0.2157586\ttotal: 1.5s\tremaining: 276ms\n",
      "845:\tlearn: 0.2155410\ttotal: 1.51s\tremaining: 274ms\n",
      "846:\tlearn: 0.2153727\ttotal: 1.51s\tremaining: 272ms\n",
      "847:\tlearn: 0.2151920\ttotal: 1.51s\tremaining: 271ms\n",
      "848:\tlearn: 0.2148853\ttotal: 1.51s\tremaining: 269ms\n",
      "849:\tlearn: 0.2148101\ttotal: 1.51s\tremaining: 267ms\n",
      "850:\tlearn: 0.2146415\ttotal: 1.51s\tremaining: 265ms\n",
      "851:\tlearn: 0.2144046\ttotal: 1.51s\tremaining: 263ms\n",
      "852:\tlearn: 0.2143299\ttotal: 1.52s\tremaining: 261ms\n",
      "853:\tlearn: 0.2141792\ttotal: 1.52s\tremaining: 259ms\n",
      "854:\tlearn: 0.2141206\ttotal: 1.52s\tremaining: 258ms\n",
      "855:\tlearn: 0.2139337\ttotal: 1.52s\tremaining: 256ms\n",
      "856:\tlearn: 0.2136557\ttotal: 1.52s\tremaining: 254ms\n",
      "857:\tlearn: 0.2134691\ttotal: 1.52s\tremaining: 252ms\n",
      "858:\tlearn: 0.2132437\ttotal: 1.52s\tremaining: 250ms\n",
      "859:\tlearn: 0.2130466\ttotal: 1.53s\tremaining: 248ms\n",
      "860:\tlearn: 0.2129277\ttotal: 1.53s\tremaining: 247ms\n",
      "861:\tlearn: 0.2125050\ttotal: 1.53s\tremaining: 245ms\n",
      "862:\tlearn: 0.2122203\ttotal: 1.53s\tremaining: 243ms\n",
      "863:\tlearn: 0.2121312\ttotal: 1.53s\tremaining: 241ms\n",
      "864:\tlearn: 0.2120307\ttotal: 1.53s\tremaining: 239ms\n",
      "865:\tlearn: 0.2118465\ttotal: 1.53s\tremaining: 237ms\n",
      "866:\tlearn: 0.2117302\ttotal: 1.54s\tremaining: 236ms\n",
      "867:\tlearn: 0.2114227\ttotal: 1.54s\tremaining: 234ms\n",
      "868:\tlearn: 0.2113260\ttotal: 1.54s\tremaining: 232ms\n",
      "869:\tlearn: 0.2111942\ttotal: 1.54s\tremaining: 230ms\n",
      "870:\tlearn: 0.2110035\ttotal: 1.54s\tremaining: 228ms\n",
      "871:\tlearn: 0.2107816\ttotal: 1.54s\tremaining: 227ms\n",
      "872:\tlearn: 0.2104724\ttotal: 1.54s\tremaining: 225ms\n",
      "873:\tlearn: 0.2102684\ttotal: 1.55s\tremaining: 223ms\n",
      "874:\tlearn: 0.2101032\ttotal: 1.55s\tremaining: 221ms\n",
      "875:\tlearn: 0.2099989\ttotal: 1.55s\tremaining: 219ms\n",
      "876:\tlearn: 0.2099035\ttotal: 1.55s\tremaining: 217ms\n",
      "877:\tlearn: 0.2097173\ttotal: 1.55s\tremaining: 216ms\n",
      "878:\tlearn: 0.2095486\ttotal: 1.55s\tremaining: 214ms\n",
      "879:\tlearn: 0.2093830\ttotal: 1.55s\tremaining: 212ms\n",
      "880:\tlearn: 0.2092829\ttotal: 1.56s\tremaining: 210ms\n",
      "881:\tlearn: 0.2089713\ttotal: 1.56s\tremaining: 208ms\n",
      "882:\tlearn: 0.2087959\ttotal: 1.56s\tremaining: 207ms\n",
      "883:\tlearn: 0.2087119\ttotal: 1.56s\tremaining: 205ms\n",
      "884:\tlearn: 0.2086137\ttotal: 1.56s\tremaining: 203ms\n",
      "885:\tlearn: 0.2084851\ttotal: 1.56s\tremaining: 201ms\n",
      "886:\tlearn: 0.2082519\ttotal: 1.56s\tremaining: 199ms\n",
      "887:\tlearn: 0.2082281\ttotal: 1.57s\tremaining: 198ms\n",
      "888:\tlearn: 0.2080446\ttotal: 1.57s\tremaining: 196ms\n",
      "889:\tlearn: 0.2079331\ttotal: 1.57s\tremaining: 194ms\n",
      "890:\tlearn: 0.2076840\ttotal: 1.57s\tremaining: 192ms\n",
      "891:\tlearn: 0.2074361\ttotal: 1.57s\tremaining: 190ms\n",
      "892:\tlearn: 0.2072691\ttotal: 1.57s\tremaining: 189ms\n",
      "893:\tlearn: 0.2071863\ttotal: 1.58s\tremaining: 187ms\n",
      "894:\tlearn: 0.2070482\ttotal: 1.58s\tremaining: 185ms\n",
      "895:\tlearn: 0.2068719\ttotal: 1.58s\tremaining: 183ms\n",
      "896:\tlearn: 0.2068010\ttotal: 1.58s\tremaining: 181ms\n",
      "897:\tlearn: 0.2066289\ttotal: 1.58s\tremaining: 180ms\n",
      "898:\tlearn: 0.2065124\ttotal: 1.58s\tremaining: 178ms\n",
      "899:\tlearn: 0.2063746\ttotal: 1.58s\tremaining: 176ms\n",
      "900:\tlearn: 0.2060329\ttotal: 1.59s\tremaining: 174ms\n",
      "901:\tlearn: 0.2059134\ttotal: 1.59s\tremaining: 173ms\n",
      "902:\tlearn: 0.2056670\ttotal: 1.59s\tremaining: 171ms\n",
      "903:\tlearn: 0.2055800\ttotal: 1.59s\tremaining: 169ms\n",
      "904:\tlearn: 0.2054935\ttotal: 1.59s\tremaining: 167ms\n",
      "905:\tlearn: 0.2054216\ttotal: 1.59s\tremaining: 165ms\n",
      "906:\tlearn: 0.2053141\ttotal: 1.59s\tremaining: 164ms\n",
      "907:\tlearn: 0.2051578\ttotal: 1.6s\tremaining: 162ms\n",
      "908:\tlearn: 0.2051277\ttotal: 1.6s\tremaining: 160ms\n",
      "909:\tlearn: 0.2049773\ttotal: 1.6s\tremaining: 158ms\n",
      "910:\tlearn: 0.2049041\ttotal: 1.6s\tremaining: 156ms\n",
      "911:\tlearn: 0.2048033\ttotal: 1.6s\tremaining: 155ms\n",
      "912:\tlearn: 0.2046646\ttotal: 1.6s\tremaining: 153ms\n",
      "913:\tlearn: 0.2045087\ttotal: 1.6s\tremaining: 151ms\n",
      "914:\tlearn: 0.2043556\ttotal: 1.61s\tremaining: 149ms\n",
      "915:\tlearn: 0.2042029\ttotal: 1.61s\tremaining: 148ms\n",
      "916:\tlearn: 0.2041374\ttotal: 1.61s\tremaining: 146ms\n",
      "917:\tlearn: 0.2039668\ttotal: 1.61s\tremaining: 144ms\n",
      "918:\tlearn: 0.2038225\ttotal: 1.61s\tremaining: 142ms\n",
      "919:\tlearn: 0.2037351\ttotal: 1.61s\tremaining: 140ms\n",
      "920:\tlearn: 0.2035562\ttotal: 1.62s\tremaining: 139ms\n",
      "921:\tlearn: 0.2033158\ttotal: 1.62s\tremaining: 137ms\n",
      "922:\tlearn: 0.2031272\ttotal: 1.62s\tremaining: 135ms\n",
      "923:\tlearn: 0.2028653\ttotal: 1.62s\tremaining: 133ms\n",
      "924:\tlearn: 0.2027730\ttotal: 1.62s\tremaining: 132ms\n",
      "925:\tlearn: 0.2025642\ttotal: 1.62s\tremaining: 130ms\n",
      "926:\tlearn: 0.2025182\ttotal: 1.63s\tremaining: 128ms\n",
      "927:\tlearn: 0.2023242\ttotal: 1.63s\tremaining: 126ms\n",
      "928:\tlearn: 0.2021505\ttotal: 1.63s\tremaining: 125ms\n",
      "929:\tlearn: 0.2019405\ttotal: 1.63s\tremaining: 123ms\n",
      "930:\tlearn: 0.2018581\ttotal: 1.63s\tremaining: 121ms\n",
      "931:\tlearn: 0.2015040\ttotal: 1.63s\tremaining: 119ms\n",
      "932:\tlearn: 0.2012963\ttotal: 1.64s\tremaining: 117ms\n",
      "933:\tlearn: 0.2011157\ttotal: 1.64s\tremaining: 116ms\n",
      "934:\tlearn: 0.2010048\ttotal: 1.64s\tremaining: 114ms\n",
      "935:\tlearn: 0.2008797\ttotal: 1.64s\tremaining: 112ms\n",
      "936:\tlearn: 0.2006119\ttotal: 1.64s\tremaining: 110ms\n",
      "937:\tlearn: 0.2003997\ttotal: 1.64s\tremaining: 109ms\n",
      "938:\tlearn: 0.2002994\ttotal: 1.64s\tremaining: 107ms\n",
      "939:\tlearn: 0.2001781\ttotal: 1.65s\tremaining: 105ms\n",
      "940:\tlearn: 0.2001108\ttotal: 1.65s\tremaining: 103ms\n",
      "941:\tlearn: 0.1998029\ttotal: 1.65s\tremaining: 101ms\n",
      "942:\tlearn: 0.1996730\ttotal: 1.65s\tremaining: 99.7ms\n",
      "943:\tlearn: 0.1996001\ttotal: 1.65s\tremaining: 98ms\n",
      "944:\tlearn: 0.1995043\ttotal: 1.65s\tremaining: 96.2ms\n",
      "945:\tlearn: 0.1993791\ttotal: 1.65s\tremaining: 94.4ms\n",
      "946:\tlearn: 0.1993067\ttotal: 1.66s\tremaining: 92.7ms\n",
      "947:\tlearn: 0.1991825\ttotal: 1.66s\tremaining: 90.9ms\n",
      "948:\tlearn: 0.1991477\ttotal: 1.66s\tremaining: 89.1ms\n",
      "949:\tlearn: 0.1989893\ttotal: 1.66s\tremaining: 87.4ms\n",
      "950:\tlearn: 0.1989476\ttotal: 1.66s\tremaining: 85.6ms\n",
      "951:\tlearn: 0.1988571\ttotal: 1.66s\tremaining: 83.9ms\n",
      "952:\tlearn: 0.1987463\ttotal: 1.67s\tremaining: 82.2ms\n",
      "953:\tlearn: 0.1985914\ttotal: 1.67s\tremaining: 80.4ms\n",
      "954:\tlearn: 0.1984601\ttotal: 1.67s\tremaining: 78.7ms\n",
      "955:\tlearn: 0.1983558\ttotal: 1.67s\tremaining: 76.9ms\n",
      "956:\tlearn: 0.1981887\ttotal: 1.67s\tremaining: 75.2ms\n",
      "957:\tlearn: 0.1979755\ttotal: 1.68s\tremaining: 73.4ms\n",
      "958:\tlearn: 0.1978122\ttotal: 1.68s\tremaining: 71.7ms\n",
      "959:\tlearn: 0.1976791\ttotal: 1.68s\tremaining: 70ms\n",
      "960:\tlearn: 0.1976331\ttotal: 1.68s\tremaining: 68.2ms\n",
      "961:\tlearn: 0.1974878\ttotal: 1.68s\tremaining: 66.5ms\n",
      "962:\tlearn: 0.1973825\ttotal: 1.68s\tremaining: 64.7ms\n",
      "963:\tlearn: 0.1973230\ttotal: 1.69s\tremaining: 63ms\n",
      "964:\tlearn: 0.1970565\ttotal: 1.69s\tremaining: 61.2ms\n",
      "965:\tlearn: 0.1969765\ttotal: 1.69s\tremaining: 59.5ms\n",
      "966:\tlearn: 0.1967186\ttotal: 1.69s\tremaining: 57.8ms\n",
      "967:\tlearn: 0.1965649\ttotal: 1.69s\tremaining: 56ms\n",
      "968:\tlearn: 0.1964461\ttotal: 1.7s\tremaining: 54.3ms\n",
      "969:\tlearn: 0.1962676\ttotal: 1.7s\tremaining: 52.5ms\n",
      "970:\tlearn: 0.1961347\ttotal: 1.7s\tremaining: 50.8ms\n",
      "971:\tlearn: 0.1960023\ttotal: 1.7s\tremaining: 49ms\n",
      "972:\tlearn: 0.1958286\ttotal: 1.7s\tremaining: 47.3ms\n",
      "973:\tlearn: 0.1956880\ttotal: 1.71s\tremaining: 45.6ms\n",
      "974:\tlearn: 0.1955273\ttotal: 1.71s\tremaining: 43.8ms\n",
      "975:\tlearn: 0.1954718\ttotal: 1.71s\tremaining: 42.1ms\n",
      "976:\tlearn: 0.1954058\ttotal: 1.71s\tremaining: 40.3ms\n",
      "977:\tlearn: 0.1953148\ttotal: 1.72s\tremaining: 38.6ms\n",
      "978:\tlearn: 0.1951338\ttotal: 1.72s\tremaining: 36.8ms\n",
      "979:\tlearn: 0.1950429\ttotal: 1.72s\tremaining: 35.1ms\n",
      "980:\tlearn: 0.1950004\ttotal: 1.72s\tremaining: 33.4ms\n",
      "981:\tlearn: 0.1948226\ttotal: 1.72s\tremaining: 31.6ms\n",
      "982:\tlearn: 0.1946439\ttotal: 1.73s\tremaining: 29.8ms\n",
      "983:\tlearn: 0.1945826\ttotal: 1.73s\tremaining: 28.1ms\n",
      "984:\tlearn: 0.1944658\ttotal: 1.73s\tremaining: 26.3ms\n",
      "985:\tlearn: 0.1943315\ttotal: 1.73s\tremaining: 24.6ms\n",
      "986:\tlearn: 0.1941699\ttotal: 1.73s\tremaining: 22.8ms\n",
      "987:\tlearn: 0.1939214\ttotal: 1.74s\tremaining: 21.1ms\n",
      "988:\tlearn: 0.1937600\ttotal: 1.74s\tremaining: 19.3ms\n",
      "989:\tlearn: 0.1936543\ttotal: 1.74s\tremaining: 17.6ms\n",
      "990:\tlearn: 0.1935242\ttotal: 1.74s\tremaining: 15.8ms\n",
      "991:\tlearn: 0.1933722\ttotal: 1.74s\tremaining: 14.1ms\n",
      "992:\tlearn: 0.1932137\ttotal: 1.75s\tremaining: 12.3ms\n",
      "993:\tlearn: 0.1931190\ttotal: 1.75s\tremaining: 10.6ms\n",
      "994:\tlearn: 0.1930025\ttotal: 1.75s\tremaining: 8.79ms\n",
      "995:\tlearn: 0.1929036\ttotal: 1.75s\tremaining: 7.04ms\n",
      "996:\tlearn: 0.1927199\ttotal: 1.75s\tremaining: 5.28ms\n",
      "997:\tlearn: 0.1927060\ttotal: 1.76s\tremaining: 3.52ms\n",
      "998:\tlearn: 0.1926449\ttotal: 1.76s\tremaining: 1.76ms\n",
      "999:\tlearn: 0.1925922\ttotal: 1.76s\tremaining: 0us\n"
     ]
    }
   ],
   "source": [
    "cat_model = CatBoostClassifier().fit(X_train, y_train)"
   ]
  },
  {
   "cell_type": "code",
   "execution_count": 161,
   "metadata": {},
   "outputs": [
    {
     "data": {
      "text/plain": [
       "0.7402597402597403"
      ]
     },
     "execution_count": 161,
     "metadata": {},
     "output_type": "execute_result"
    }
   ],
   "source": [
    "y_pred = cat_model.predict(X_test)\n",
    "accuracy_score(y_test, y_pred)"
   ]
  },
  {
   "cell_type": "markdown",
   "metadata": {},
   "source": [
    "## Model Tuning"
   ]
  },
  {
   "cell_type": "code",
   "execution_count": 162,
   "metadata": {},
   "outputs": [],
   "source": [
    "catb_params = {\n",
    "    'iterations': [200,500],\n",
    "    'learning_rate': [0.01,0.05, 0.1],\n",
    "    'depth': [3,5,8] }"
   ]
  },
  {
   "cell_type": "code",
   "execution_count": 163,
   "metadata": {},
   "outputs": [
    {
     "name": "stdout",
     "output_type": "stream",
     "text": [
      "Fitting 5 folds for each of 18 candidates, totalling 90 fits\n",
      "0:\tlearn: 0.6863312\ttotal: 3.71ms\tremaining: 739ms\n",
      "1:\tlearn: 0.6811157\ttotal: 7.25ms\tremaining: 718ms\n",
      "2:\tlearn: 0.6752970\ttotal: 10.3ms\tremaining: 673ms\n",
      "3:\tlearn: 0.6697432\ttotal: 13.2ms\tremaining: 648ms\n",
      "4:\tlearn: 0.6641758\ttotal: 16.1ms\tremaining: 629ms\n",
      "5:\tlearn: 0.6576656\ttotal: 19.1ms\tremaining: 617ms\n",
      "6:\tlearn: 0.6521870\ttotal: 22.2ms\tremaining: 613ms\n",
      "7:\tlearn: 0.6465564\ttotal: 25ms\tremaining: 599ms\n",
      "8:\tlearn: 0.6407595\ttotal: 27.9ms\tremaining: 592ms\n",
      "9:\tlearn: 0.6357725\ttotal: 30.8ms\tremaining: 585ms\n",
      "10:\tlearn: 0.6299942\ttotal: 33.5ms\tremaining: 575ms\n",
      "11:\tlearn: 0.6240480\ttotal: 36.6ms\tremaining: 573ms\n",
      "12:\tlearn: 0.6196095\ttotal: 39.5ms\tremaining: 568ms\n",
      "13:\tlearn: 0.6148715\ttotal: 42.8ms\tremaining: 568ms\n",
      "14:\tlearn: 0.6092626\ttotal: 45.9ms\tremaining: 566ms\n",
      "15:\tlearn: 0.6046764\ttotal: 49.1ms\tremaining: 564ms\n",
      "16:\tlearn: 0.6012725\ttotal: 51.8ms\tremaining: 558ms\n",
      "17:\tlearn: 0.5958121\ttotal: 54.8ms\tremaining: 554ms\n",
      "18:\tlearn: 0.5903243\ttotal: 58ms\tremaining: 553ms\n",
      "19:\tlearn: 0.5866024\ttotal: 60.8ms\tremaining: 548ms\n",
      "20:\tlearn: 0.5831390\ttotal: 63.8ms\tremaining: 544ms\n",
      "21:\tlearn: 0.5787381\ttotal: 66.6ms\tremaining: 539ms\n",
      "22:\tlearn: 0.5749016\ttotal: 69.3ms\tremaining: 533ms\n",
      "23:\tlearn: 0.5703199\ttotal: 72.3ms\tremaining: 530ms\n",
      "24:\tlearn: 0.5662368\ttotal: 75.1ms\tremaining: 526ms\n",
      "25:\tlearn: 0.5628682\ttotal: 78.1ms\tremaining: 523ms\n",
      "26:\tlearn: 0.5589082\ttotal: 81ms\tremaining: 519ms\n",
      "27:\tlearn: 0.5543910\ttotal: 83.8ms\tremaining: 515ms\n",
      "28:\tlearn: 0.5503864\ttotal: 86.6ms\tremaining: 510ms\n",
      "29:\tlearn: 0.5470574\ttotal: 89.2ms\tremaining: 506ms\n",
      "30:\tlearn: 0.5441267\ttotal: 92.1ms\tremaining: 502ms\n",
      "31:\tlearn: 0.5396280\ttotal: 95.2ms\tremaining: 500ms\n",
      "32:\tlearn: 0.5356242\ttotal: 98.2ms\tremaining: 497ms\n",
      "33:\tlearn: 0.5315397\ttotal: 101ms\tremaining: 493ms\n",
      "34:\tlearn: 0.5279847\ttotal: 104ms\tremaining: 490ms\n",
      "35:\tlearn: 0.5248380\ttotal: 107ms\tremaining: 486ms\n",
      "36:\tlearn: 0.5223885\ttotal: 110ms\tremaining: 484ms\n",
      "37:\tlearn: 0.5198269\ttotal: 113ms\tremaining: 482ms\n",
      "38:\tlearn: 0.5167431\ttotal: 116ms\tremaining: 481ms\n",
      "39:\tlearn: 0.5138833\ttotal: 119ms\tremaining: 478ms\n",
      "40:\tlearn: 0.5101494\ttotal: 123ms\tremaining: 475ms\n",
      "41:\tlearn: 0.5066102\ttotal: 126ms\tremaining: 472ms\n",
      "42:\tlearn: 0.5033714\ttotal: 129ms\tremaining: 470ms\n",
      "43:\tlearn: 0.5005898\ttotal: 132ms\tremaining: 468ms\n",
      "44:\tlearn: 0.4980703\ttotal: 135ms\tremaining: 465ms\n",
      "45:\tlearn: 0.4959251\ttotal: 138ms\tremaining: 462ms\n",
      "46:\tlearn: 0.4933987\ttotal: 141ms\tremaining: 459ms\n",
      "47:\tlearn: 0.4906194\ttotal: 144ms\tremaining: 457ms\n",
      "48:\tlearn: 0.4878359\ttotal: 148ms\tremaining: 455ms\n",
      "49:\tlearn: 0.4850755\ttotal: 150ms\tremaining: 451ms\n",
      "50:\tlearn: 0.4825927\ttotal: 154ms\tremaining: 451ms\n",
      "51:\tlearn: 0.4798298\ttotal: 158ms\tremaining: 449ms\n",
      "52:\tlearn: 0.4776108\ttotal: 161ms\tremaining: 446ms\n",
      "53:\tlearn: 0.4754405\ttotal: 164ms\tremaining: 442ms\n",
      "54:\tlearn: 0.4733501\ttotal: 166ms\tremaining: 439ms\n",
      "55:\tlearn: 0.4706076\ttotal: 169ms\tremaining: 435ms\n",
      "56:\tlearn: 0.4677355\ttotal: 172ms\tremaining: 432ms\n",
      "57:\tlearn: 0.4656740\ttotal: 175ms\tremaining: 428ms\n",
      "58:\tlearn: 0.4637413\ttotal: 178ms\tremaining: 425ms\n",
      "59:\tlearn: 0.4615248\ttotal: 181ms\tremaining: 422ms\n",
      "60:\tlearn: 0.4599759\ttotal: 183ms\tremaining: 418ms\n",
      "61:\tlearn: 0.4583985\ttotal: 185ms\tremaining: 412ms\n",
      "62:\tlearn: 0.4567064\ttotal: 189ms\tremaining: 410ms\n",
      "63:\tlearn: 0.4540942\ttotal: 192ms\tremaining: 408ms\n",
      "64:\tlearn: 0.4529822\ttotal: 193ms\tremaining: 401ms\n",
      "65:\tlearn: 0.4512090\ttotal: 196ms\tremaining: 399ms\n",
      "66:\tlearn: 0.4486739\ttotal: 200ms\tremaining: 396ms\n",
      "67:\tlearn: 0.4467865\ttotal: 204ms\tremaining: 395ms\n",
      "68:\tlearn: 0.4449614\ttotal: 207ms\tremaining: 393ms\n",
      "69:\tlearn: 0.4426120\ttotal: 210ms\tremaining: 390ms\n",
      "70:\tlearn: 0.4401612\ttotal: 213ms\tremaining: 387ms\n",
      "71:\tlearn: 0.4380696\ttotal: 216ms\tremaining: 384ms\n",
      "72:\tlearn: 0.4367153\ttotal: 219ms\tremaining: 381ms\n",
      "73:\tlearn: 0.4353223\ttotal: 222ms\tremaining: 378ms\n",
      "74:\tlearn: 0.4339943\ttotal: 225ms\tremaining: 376ms\n",
      "75:\tlearn: 0.4315641\ttotal: 229ms\tremaining: 373ms\n",
      "76:\tlearn: 0.4298680\ttotal: 232ms\tremaining: 371ms\n",
      "77:\tlearn: 0.4285275\ttotal: 235ms\tremaining: 368ms\n",
      "78:\tlearn: 0.4265791\ttotal: 238ms\tremaining: 365ms\n",
      "79:\tlearn: 0.4244024\ttotal: 242ms\tremaining: 363ms\n",
      "80:\tlearn: 0.4228361\ttotal: 245ms\tremaining: 360ms\n",
      "81:\tlearn: 0.4214212\ttotal: 248ms\tremaining: 357ms\n",
      "82:\tlearn: 0.4200602\ttotal: 251ms\tremaining: 354ms\n",
      "83:\tlearn: 0.4184320\ttotal: 254ms\tremaining: 350ms\n",
      "84:\tlearn: 0.4167986\ttotal: 257ms\tremaining: 347ms\n",
      "85:\tlearn: 0.4156404\ttotal: 260ms\tremaining: 345ms\n",
      "86:\tlearn: 0.4140656\ttotal: 263ms\tremaining: 342ms\n",
      "87:\tlearn: 0.4124223\ttotal: 267ms\tremaining: 339ms\n",
      "88:\tlearn: 0.4107329\ttotal: 270ms\tremaining: 336ms\n",
      "89:\tlearn: 0.4090922\ttotal: 273ms\tremaining: 334ms\n",
      "90:\tlearn: 0.4075416\ttotal: 276ms\tremaining: 331ms\n",
      "91:\tlearn: 0.4062399\ttotal: 279ms\tremaining: 328ms\n",
      "92:\tlearn: 0.4044658\ttotal: 282ms\tremaining: 325ms\n",
      "93:\tlearn: 0.4030179\ttotal: 285ms\tremaining: 322ms\n",
      "94:\tlearn: 0.4012034\ttotal: 288ms\tremaining: 319ms\n",
      "95:\tlearn: 0.3994677\ttotal: 291ms\tremaining: 316ms\n",
      "96:\tlearn: 0.3983236\ttotal: 294ms\tremaining: 313ms\n",
      "97:\tlearn: 0.3969830\ttotal: 297ms\tremaining: 309ms\n",
      "98:\tlearn: 0.3955620\ttotal: 300ms\tremaining: 307ms\n",
      "99:\tlearn: 0.3946122\ttotal: 303ms\tremaining: 303ms\n",
      "100:\tlearn: 0.3932345\ttotal: 306ms\tremaining: 300ms\n",
      "101:\tlearn: 0.3920746\ttotal: 309ms\tremaining: 297ms\n",
      "102:\tlearn: 0.3911707\ttotal: 312ms\tremaining: 294ms\n",
      "103:\tlearn: 0.3895752\ttotal: 316ms\tremaining: 291ms\n",
      "104:\tlearn: 0.3880976\ttotal: 319ms\tremaining: 288ms\n",
      "105:\tlearn: 0.3867508\ttotal: 322ms\tremaining: 286ms\n",
      "106:\tlearn: 0.3855281\ttotal: 325ms\tremaining: 282ms\n",
      "107:\tlearn: 0.3841015\ttotal: 328ms\tremaining: 279ms\n",
      "108:\tlearn: 0.3829276\ttotal: 331ms\tremaining: 276ms\n",
      "109:\tlearn: 0.3818795\ttotal: 334ms\tremaining: 273ms\n",
      "110:\tlearn: 0.3809667\ttotal: 337ms\tremaining: 270ms\n",
      "111:\tlearn: 0.3790017\ttotal: 340ms\tremaining: 267ms\n",
      "112:\tlearn: 0.3774333\ttotal: 343ms\tremaining: 264ms\n",
      "113:\tlearn: 0.3762372\ttotal: 346ms\tremaining: 261ms\n",
      "114:\tlearn: 0.3750418\ttotal: 349ms\tremaining: 258ms\n",
      "115:\tlearn: 0.3735203\ttotal: 352ms\tremaining: 255ms\n",
      "116:\tlearn: 0.3727671\ttotal: 355ms\tremaining: 252ms\n",
      "117:\tlearn: 0.3713847\ttotal: 358ms\tremaining: 249ms\n",
      "118:\tlearn: 0.3705588\ttotal: 362ms\tremaining: 246ms\n",
      "119:\tlearn: 0.3694386\ttotal: 364ms\tremaining: 243ms\n",
      "120:\tlearn: 0.3687438\ttotal: 368ms\tremaining: 240ms\n",
      "121:\tlearn: 0.3679429\ttotal: 372ms\tremaining: 238ms\n",
      "122:\tlearn: 0.3666192\ttotal: 376ms\tremaining: 235ms\n",
      "123:\tlearn: 0.3654787\ttotal: 379ms\tremaining: 232ms\n",
      "124:\tlearn: 0.3643185\ttotal: 383ms\tremaining: 230ms\n",
      "125:\tlearn: 0.3636195\ttotal: 386ms\tremaining: 227ms\n",
      "126:\tlearn: 0.3625184\ttotal: 390ms\tremaining: 224ms\n",
      "127:\tlearn: 0.3609778\ttotal: 393ms\tremaining: 221ms\n",
      "128:\tlearn: 0.3595979\ttotal: 396ms\tremaining: 218ms\n",
      "129:\tlearn: 0.3583702\ttotal: 399ms\tremaining: 215ms\n",
      "130:\tlearn: 0.3569225\ttotal: 402ms\tremaining: 212ms\n",
      "131:\tlearn: 0.3558535\ttotal: 405ms\tremaining: 209ms\n",
      "132:\tlearn: 0.3548312\ttotal: 408ms\tremaining: 205ms\n",
      "133:\tlearn: 0.3533459\ttotal: 411ms\tremaining: 202ms\n",
      "134:\tlearn: 0.3524239\ttotal: 413ms\tremaining: 199ms\n",
      "135:\tlearn: 0.3517958\ttotal: 416ms\tremaining: 196ms\n",
      "136:\tlearn: 0.3504984\ttotal: 425ms\tremaining: 196ms\n",
      "137:\tlearn: 0.3497339\ttotal: 429ms\tremaining: 193ms\n",
      "138:\tlearn: 0.3488643\ttotal: 432ms\tremaining: 190ms\n",
      "139:\tlearn: 0.3482265\ttotal: 435ms\tremaining: 186ms\n",
      "140:\tlearn: 0.3470774\ttotal: 438ms\tremaining: 183ms\n",
      "141:\tlearn: 0.3458237\ttotal: 441ms\tremaining: 180ms\n",
      "142:\tlearn: 0.3445470\ttotal: 443ms\tremaining: 177ms\n",
      "143:\tlearn: 0.3436377\ttotal: 447ms\tremaining: 174ms\n",
      "144:\tlearn: 0.3426585\ttotal: 450ms\tremaining: 171ms\n",
      "145:\tlearn: 0.3417233\ttotal: 454ms\tremaining: 168ms\n",
      "146:\tlearn: 0.3407541\ttotal: 458ms\tremaining: 165ms\n",
      "147:\tlearn: 0.3397798\ttotal: 462ms\tremaining: 162ms\n",
      "148:\tlearn: 0.3390128\ttotal: 465ms\tremaining: 159ms\n",
      "149:\tlearn: 0.3381272\ttotal: 468ms\tremaining: 156ms\n",
      "150:\tlearn: 0.3374740\ttotal: 471ms\tremaining: 153ms\n",
      "151:\tlearn: 0.3365500\ttotal: 474ms\tremaining: 150ms\n",
      "152:\tlearn: 0.3358489\ttotal: 477ms\tremaining: 147ms\n",
      "153:\tlearn: 0.3346096\ttotal: 481ms\tremaining: 144ms\n",
      "154:\tlearn: 0.3335622\ttotal: 484ms\tremaining: 140ms\n",
      "155:\tlearn: 0.3330435\ttotal: 487ms\tremaining: 137ms\n",
      "156:\tlearn: 0.3323843\ttotal: 492ms\tremaining: 135ms\n",
      "157:\tlearn: 0.3312172\ttotal: 496ms\tremaining: 132ms\n",
      "158:\tlearn: 0.3299437\ttotal: 500ms\tremaining: 129ms\n",
      "159:\tlearn: 0.3286515\ttotal: 503ms\tremaining: 126ms\n",
      "160:\tlearn: 0.3275885\ttotal: 507ms\tremaining: 123ms\n",
      "161:\tlearn: 0.3266739\ttotal: 511ms\tremaining: 120ms\n",
      "162:\tlearn: 0.3258986\ttotal: 515ms\tremaining: 117ms\n",
      "163:\tlearn: 0.3249133\ttotal: 519ms\tremaining: 114ms\n",
      "164:\tlearn: 0.3241480\ttotal: 525ms\tremaining: 111ms\n",
      "165:\tlearn: 0.3237404\ttotal: 528ms\tremaining: 108ms\n",
      "166:\tlearn: 0.3228217\ttotal: 532ms\tremaining: 105ms\n",
      "167:\tlearn: 0.3218088\ttotal: 537ms\tremaining: 102ms\n",
      "168:\tlearn: 0.3209179\ttotal: 541ms\tremaining: 99.3ms\n",
      "169:\tlearn: 0.3200101\ttotal: 545ms\tremaining: 96.2ms\n",
      "170:\tlearn: 0.3188984\ttotal: 551ms\tremaining: 93.4ms\n",
      "171:\tlearn: 0.3178642\ttotal: 555ms\tremaining: 90.3ms\n",
      "172:\tlearn: 0.3172455\ttotal: 559ms\tremaining: 87.3ms\n",
      "173:\tlearn: 0.3166261\ttotal: 564ms\tremaining: 84.2ms\n",
      "174:\tlearn: 0.3157320\ttotal: 568ms\tremaining: 81.2ms\n",
      "175:\tlearn: 0.3149761\ttotal: 572ms\tremaining: 78.1ms\n",
      "176:\tlearn: 0.3142430\ttotal: 576ms\tremaining: 74.8ms\n",
      "177:\tlearn: 0.3138263\ttotal: 579ms\tremaining: 71.6ms\n",
      "178:\tlearn: 0.3133229\ttotal: 583ms\tremaining: 68.4ms\n",
      "179:\tlearn: 0.3124656\ttotal: 587ms\tremaining: 65.2ms\n",
      "180:\tlearn: 0.3114844\ttotal: 591ms\tremaining: 62ms\n",
      "181:\tlearn: 0.3109799\ttotal: 596ms\tremaining: 58.9ms\n",
      "182:\tlearn: 0.3105137\ttotal: 600ms\tremaining: 55.7ms\n",
      "183:\tlearn: 0.3094123\ttotal: 605ms\tremaining: 52.6ms\n",
      "184:\tlearn: 0.3087045\ttotal: 610ms\tremaining: 49.5ms\n",
      "185:\tlearn: 0.3079423\ttotal: 615ms\tremaining: 46.3ms\n",
      "186:\tlearn: 0.3071831\ttotal: 620ms\tremaining: 43.1ms\n",
      "187:\tlearn: 0.3061123\ttotal: 628ms\tremaining: 40.1ms\n",
      "188:\tlearn: 0.3054302\ttotal: 634ms\tremaining: 36.9ms\n",
      "189:\tlearn: 0.3048047\ttotal: 638ms\tremaining: 33.6ms\n",
      "190:\tlearn: 0.3042241\ttotal: 643ms\tremaining: 30.3ms\n",
      "191:\tlearn: 0.3036602\ttotal: 648ms\tremaining: 27ms\n",
      "192:\tlearn: 0.3028507\ttotal: 652ms\tremaining: 23.7ms\n",
      "193:\tlearn: 0.3019733\ttotal: 656ms\tremaining: 20.3ms\n",
      "194:\tlearn: 0.3009586\ttotal: 660ms\tremaining: 16.9ms\n",
      "195:\tlearn: 0.3001835\ttotal: 665ms\tremaining: 13.6ms\n",
      "196:\tlearn: 0.2999266\ttotal: 667ms\tremaining: 10.2ms\n",
      "197:\tlearn: 0.2993811\ttotal: 671ms\tremaining: 6.78ms\n",
      "198:\tlearn: 0.2986293\ttotal: 675ms\tremaining: 3.39ms\n",
      "199:\tlearn: 0.2980044\ttotal: 679ms\tremaining: 0us\n"
     ]
    },
    {
     "data": {
      "text/plain": [
       "{'depth': 8, 'iterations': 200, 'learning_rate': 0.01}"
      ]
     },
     "execution_count": 163,
     "metadata": {},
     "output_type": "execute_result"
    }
   ],
   "source": [
    "catb = CatBoostClassifier()\n",
    "catb_cv_model = GridSearchCV(catb, catb_params, cv=5, n_jobs = -1, verbose = 2)\n",
    "catb_cv_model.fit(X_train, y_train)\n",
    "catb_cv_model.best_params_"
   ]
  },
  {
   "cell_type": "code",
   "execution_count": 164,
   "metadata": {},
   "outputs": [
    {
     "data": {
      "text/plain": [
       "{'depth': 8, 'iterations': 200, 'learning_rate': 0.01}"
      ]
     },
     "execution_count": 164,
     "metadata": {},
     "output_type": "execute_result"
    }
   ],
   "source": [
    "catb_cv_model.best_params_"
   ]
  },
  {
   "cell_type": "code",
   "execution_count": 165,
   "metadata": {},
   "outputs": [
    {
     "name": "stdout",
     "output_type": "stream",
     "text": [
      "0:\tlearn: 0.6616270\ttotal: 3.26ms\tremaining: 649ms\n",
      "1:\tlearn: 0.6400322\ttotal: 5.91ms\tremaining: 585ms\n",
      "2:\tlearn: 0.6218089\ttotal: 7.9ms\tremaining: 519ms\n",
      "3:\tlearn: 0.6091426\ttotal: 9.59ms\tremaining: 470ms\n",
      "4:\tlearn: 0.5937764\ttotal: 11.6ms\tremaining: 452ms\n",
      "5:\tlearn: 0.5776944\ttotal: 13.1ms\tremaining: 423ms\n",
      "6:\tlearn: 0.5640806\ttotal: 15.1ms\tremaining: 415ms\n",
      "7:\tlearn: 0.5465023\ttotal: 16.9ms\tremaining: 406ms\n",
      "8:\tlearn: 0.5342910\ttotal: 19.3ms\tremaining: 411ms\n",
      "9:\tlearn: 0.5253110\ttotal: 22ms\tremaining: 419ms\n",
      "10:\tlearn: 0.5152173\ttotal: 23.4ms\tremaining: 402ms\n",
      "11:\tlearn: 0.5038768\ttotal: 25.5ms\tremaining: 400ms\n",
      "12:\tlearn: 0.4940545\ttotal: 27.6ms\tremaining: 397ms\n",
      "13:\tlearn: 0.4868880\ttotal: 29.6ms\tremaining: 393ms\n",
      "14:\tlearn: 0.4799839\ttotal: 31.1ms\tremaining: 384ms\n",
      "15:\tlearn: 0.4744068\ttotal: 32.7ms\tremaining: 376ms\n",
      "16:\tlearn: 0.4684004\ttotal: 35.7ms\tremaining: 385ms\n",
      "17:\tlearn: 0.4618850\ttotal: 45.9ms\tremaining: 464ms\n",
      "18:\tlearn: 0.4560376\ttotal: 47.8ms\tremaining: 456ms\n",
      "19:\tlearn: 0.4520084\ttotal: 50ms\tremaining: 450ms\n",
      "20:\tlearn: 0.4496671\ttotal: 51.8ms\tremaining: 442ms\n",
      "21:\tlearn: 0.4455551\ttotal: 53.7ms\tremaining: 435ms\n",
      "22:\tlearn: 0.4422781\ttotal: 56.1ms\tremaining: 432ms\n",
      "23:\tlearn: 0.4386630\ttotal: 58.2ms\tremaining: 427ms\n",
      "24:\tlearn: 0.4349463\ttotal: 59.8ms\tremaining: 418ms\n",
      "25:\tlearn: 0.4309778\ttotal: 61.1ms\tremaining: 409ms\n",
      "26:\tlearn: 0.4266714\ttotal: 62.8ms\tremaining: 403ms\n",
      "27:\tlearn: 0.4234692\ttotal: 64.2ms\tremaining: 395ms\n",
      "28:\tlearn: 0.4208624\ttotal: 66ms\tremaining: 389ms\n",
      "29:\tlearn: 0.4172232\ttotal: 67.9ms\tremaining: 385ms\n",
      "30:\tlearn: 0.4133147\ttotal: 69.6ms\tremaining: 380ms\n",
      "31:\tlearn: 0.4101905\ttotal: 73.2ms\tremaining: 384ms\n",
      "32:\tlearn: 0.4066286\ttotal: 75.6ms\tremaining: 382ms\n",
      "33:\tlearn: 0.4044740\ttotal: 77.8ms\tremaining: 380ms\n",
      "34:\tlearn: 0.4022900\ttotal: 79.3ms\tremaining: 374ms\n",
      "35:\tlearn: 0.3999429\ttotal: 81.2ms\tremaining: 370ms\n",
      "36:\tlearn: 0.3962978\ttotal: 83ms\tremaining: 366ms\n",
      "37:\tlearn: 0.3933701\ttotal: 84.5ms\tremaining: 360ms\n",
      "38:\tlearn: 0.3912523\ttotal: 86.2ms\tremaining: 356ms\n",
      "39:\tlearn: 0.3893302\ttotal: 88.2ms\tremaining: 353ms\n",
      "40:\tlearn: 0.3875203\ttotal: 90.1ms\tremaining: 349ms\n",
      "41:\tlearn: 0.3849304\ttotal: 93ms\tremaining: 350ms\n",
      "42:\tlearn: 0.3813299\ttotal: 96.3ms\tremaining: 352ms\n",
      "43:\tlearn: 0.3795402\ttotal: 98.7ms\tremaining: 350ms\n",
      "44:\tlearn: 0.3777184\ttotal: 111ms\tremaining: 383ms\n",
      "45:\tlearn: 0.3756954\ttotal: 114ms\tremaining: 383ms\n",
      "46:\tlearn: 0.3745321\ttotal: 117ms\tremaining: 380ms\n",
      "47:\tlearn: 0.3721354\ttotal: 118ms\tremaining: 375ms\n",
      "48:\tlearn: 0.3685780\ttotal: 121ms\tremaining: 374ms\n",
      "49:\tlearn: 0.3666452\ttotal: 128ms\tremaining: 383ms\n",
      "50:\tlearn: 0.3644728\ttotal: 131ms\tremaining: 383ms\n",
      "51:\tlearn: 0.3625128\ttotal: 133ms\tremaining: 379ms\n",
      "52:\tlearn: 0.3611870\ttotal: 135ms\tremaining: 374ms\n",
      "53:\tlearn: 0.3603816\ttotal: 137ms\tremaining: 369ms\n",
      "54:\tlearn: 0.3589946\ttotal: 143ms\tremaining: 376ms\n",
      "55:\tlearn: 0.3575038\ttotal: 144ms\tremaining: 371ms\n",
      "56:\tlearn: 0.3554533\ttotal: 146ms\tremaining: 367ms\n",
      "57:\tlearn: 0.3544004\ttotal: 147ms\tremaining: 361ms\n",
      "58:\tlearn: 0.3526026\ttotal: 149ms\tremaining: 357ms\n",
      "59:\tlearn: 0.3511301\ttotal: 151ms\tremaining: 351ms\n",
      "60:\tlearn: 0.3494133\ttotal: 152ms\tremaining: 346ms\n",
      "61:\tlearn: 0.3483027\ttotal: 154ms\tremaining: 342ms\n",
      "62:\tlearn: 0.3451450\ttotal: 155ms\tremaining: 338ms\n",
      "63:\tlearn: 0.3435204\ttotal: 157ms\tremaining: 334ms\n",
      "64:\tlearn: 0.3422728\ttotal: 158ms\tremaining: 328ms\n",
      "65:\tlearn: 0.3398199\ttotal: 161ms\tremaining: 326ms\n",
      "66:\tlearn: 0.3384822\ttotal: 163ms\tremaining: 324ms\n",
      "67:\tlearn: 0.3351317\ttotal: 165ms\tremaining: 321ms\n",
      "68:\tlearn: 0.3340115\ttotal: 167ms\tremaining: 317ms\n",
      "69:\tlearn: 0.3331121\ttotal: 168ms\tremaining: 313ms\n",
      "70:\tlearn: 0.3316302\ttotal: 170ms\tremaining: 308ms\n",
      "71:\tlearn: 0.3301733\ttotal: 171ms\tremaining: 304ms\n",
      "72:\tlearn: 0.3295149\ttotal: 173ms\tremaining: 301ms\n",
      "73:\tlearn: 0.3284217\ttotal: 174ms\tremaining: 297ms\n",
      "74:\tlearn: 0.3279660\ttotal: 176ms\tremaining: 293ms\n",
      "75:\tlearn: 0.3268952\ttotal: 177ms\tremaining: 289ms\n",
      "76:\tlearn: 0.3254518\ttotal: 179ms\tremaining: 286ms\n",
      "77:\tlearn: 0.3241106\ttotal: 180ms\tremaining: 282ms\n",
      "78:\tlearn: 0.3228759\ttotal: 182ms\tremaining: 279ms\n",
      "79:\tlearn: 0.3219436\ttotal: 184ms\tremaining: 275ms\n",
      "80:\tlearn: 0.3206056\ttotal: 185ms\tremaining: 272ms\n",
      "81:\tlearn: 0.3191827\ttotal: 187ms\tremaining: 269ms\n",
      "82:\tlearn: 0.3170886\ttotal: 188ms\tremaining: 265ms\n",
      "83:\tlearn: 0.3160838\ttotal: 190ms\tremaining: 262ms\n",
      "84:\tlearn: 0.3150899\ttotal: 191ms\tremaining: 259ms\n",
      "85:\tlearn: 0.3140124\ttotal: 193ms\tremaining: 256ms\n",
      "86:\tlearn: 0.3130193\ttotal: 194ms\tremaining: 252ms\n",
      "87:\tlearn: 0.3106871\ttotal: 196ms\tremaining: 249ms\n",
      "88:\tlearn: 0.3086032\ttotal: 197ms\tremaining: 245ms\n",
      "89:\tlearn: 0.3064108\ttotal: 199ms\tremaining: 243ms\n",
      "90:\tlearn: 0.3045562\ttotal: 200ms\tremaining: 240ms\n",
      "91:\tlearn: 0.3036883\ttotal: 202ms\tremaining: 237ms\n",
      "92:\tlearn: 0.3032737\ttotal: 203ms\tremaining: 234ms\n",
      "93:\tlearn: 0.3023179\ttotal: 206ms\tremaining: 232ms\n",
      "94:\tlearn: 0.3009276\ttotal: 207ms\tremaining: 229ms\n",
      "95:\tlearn: 0.2995992\ttotal: 209ms\tremaining: 226ms\n",
      "96:\tlearn: 0.2985231\ttotal: 210ms\tremaining: 223ms\n",
      "97:\tlearn: 0.2976560\ttotal: 212ms\tremaining: 221ms\n",
      "98:\tlearn: 0.2963154\ttotal: 213ms\tremaining: 218ms\n",
      "99:\tlearn: 0.2953531\ttotal: 215ms\tremaining: 215ms\n",
      "100:\tlearn: 0.2938846\ttotal: 216ms\tremaining: 212ms\n",
      "101:\tlearn: 0.2921889\ttotal: 218ms\tremaining: 209ms\n",
      "102:\tlearn: 0.2912674\ttotal: 220ms\tremaining: 207ms\n",
      "103:\tlearn: 0.2908713\ttotal: 221ms\tremaining: 204ms\n",
      "104:\tlearn: 0.2899328\ttotal: 223ms\tremaining: 202ms\n",
      "105:\tlearn: 0.2890519\ttotal: 224ms\tremaining: 199ms\n",
      "106:\tlearn: 0.2877014\ttotal: 226ms\tremaining: 196ms\n",
      "107:\tlearn: 0.2861653\ttotal: 227ms\tremaining: 193ms\n",
      "108:\tlearn: 0.2856113\ttotal: 229ms\tremaining: 191ms\n",
      "109:\tlearn: 0.2849766\ttotal: 230ms\tremaining: 188ms\n",
      "110:\tlearn: 0.2834395\ttotal: 232ms\tremaining: 186ms\n",
      "111:\tlearn: 0.2827715\ttotal: 234ms\tremaining: 183ms\n",
      "112:\tlearn: 0.2818655\ttotal: 235ms\tremaining: 181ms\n",
      "113:\tlearn: 0.2807385\ttotal: 237ms\tremaining: 179ms\n",
      "114:\tlearn: 0.2796023\ttotal: 238ms\tremaining: 176ms\n",
      "115:\tlearn: 0.2784442\ttotal: 240ms\tremaining: 173ms\n",
      "116:\tlearn: 0.2768195\ttotal: 241ms\tremaining: 171ms\n",
      "117:\tlearn: 0.2764916\ttotal: 245ms\tremaining: 170ms\n",
      "118:\tlearn: 0.2746645\ttotal: 248ms\tremaining: 169ms\n",
      "119:\tlearn: 0.2741106\ttotal: 249ms\tremaining: 166ms\n",
      "120:\tlearn: 0.2735159\ttotal: 251ms\tremaining: 164ms\n",
      "121:\tlearn: 0.2730517\ttotal: 252ms\tremaining: 161ms\n",
      "122:\tlearn: 0.2722698\ttotal: 254ms\tremaining: 159ms\n",
      "123:\tlearn: 0.2716146\ttotal: 255ms\tremaining: 156ms\n",
      "124:\tlearn: 0.2700179\ttotal: 257ms\tremaining: 154ms\n",
      "125:\tlearn: 0.2696332\ttotal: 259ms\tremaining: 152ms\n",
      "126:\tlearn: 0.2687926\ttotal: 261ms\tremaining: 150ms\n",
      "127:\tlearn: 0.2678068\ttotal: 262ms\tremaining: 147ms\n",
      "128:\tlearn: 0.2670116\ttotal: 264ms\tremaining: 145ms\n",
      "129:\tlearn: 0.2661414\ttotal: 265ms\tremaining: 143ms\n",
      "130:\tlearn: 0.2650632\ttotal: 267ms\tremaining: 140ms\n",
      "131:\tlearn: 0.2648298\ttotal: 268ms\tremaining: 138ms\n",
      "132:\tlearn: 0.2641863\ttotal: 270ms\tremaining: 136ms\n",
      "133:\tlearn: 0.2633376\ttotal: 272ms\tremaining: 134ms\n",
      "134:\tlearn: 0.2624161\ttotal: 273ms\tremaining: 131ms\n",
      "135:\tlearn: 0.2618961\ttotal: 275ms\tremaining: 130ms\n",
      "136:\tlearn: 0.2610856\ttotal: 277ms\tremaining: 127ms\n",
      "137:\tlearn: 0.2603948\ttotal: 278ms\tremaining: 125ms\n",
      "138:\tlearn: 0.2588774\ttotal: 280ms\tremaining: 123ms\n",
      "139:\tlearn: 0.2572880\ttotal: 281ms\tremaining: 121ms\n",
      "140:\tlearn: 0.2563731\ttotal: 283ms\tremaining: 119ms\n",
      "141:\tlearn: 0.2556204\ttotal: 285ms\tremaining: 116ms\n",
      "142:\tlearn: 0.2547857\ttotal: 287ms\tremaining: 114ms\n",
      "143:\tlearn: 0.2529240\ttotal: 288ms\tremaining: 112ms\n",
      "144:\tlearn: 0.2521550\ttotal: 299ms\tremaining: 113ms\n",
      "145:\tlearn: 0.2513649\ttotal: 301ms\tremaining: 111ms\n",
      "146:\tlearn: 0.2497788\ttotal: 303ms\tremaining: 109ms\n",
      "147:\tlearn: 0.2479468\ttotal: 304ms\tremaining: 107ms\n",
      "148:\tlearn: 0.2466481\ttotal: 306ms\tremaining: 105ms\n",
      "149:\tlearn: 0.2460545\ttotal: 307ms\tremaining: 102ms\n",
      "150:\tlearn: 0.2452748\ttotal: 309ms\tremaining: 100ms\n",
      "151:\tlearn: 0.2450248\ttotal: 311ms\tremaining: 98.2ms\n",
      "152:\tlearn: 0.2444881\ttotal: 312ms\tremaining: 96ms\n",
      "153:\tlearn: 0.2432526\ttotal: 314ms\tremaining: 93.8ms\n",
      "154:\tlearn: 0.2427632\ttotal: 316ms\tremaining: 91.7ms\n",
      "155:\tlearn: 0.2425398\ttotal: 318ms\tremaining: 89.6ms\n",
      "156:\tlearn: 0.2416328\ttotal: 319ms\tremaining: 87.5ms\n",
      "157:\tlearn: 0.2409543\ttotal: 321ms\tremaining: 85.5ms\n",
      "158:\tlearn: 0.2403395\ttotal: 323ms\tremaining: 83.4ms\n",
      "159:\tlearn: 0.2395237\ttotal: 325ms\tremaining: 81.2ms\n",
      "160:\tlearn: 0.2390837\ttotal: 326ms\tremaining: 79.1ms\n",
      "161:\tlearn: 0.2384153\ttotal: 328ms\tremaining: 77ms\n",
      "162:\tlearn: 0.2376410\ttotal: 330ms\tremaining: 75ms\n",
      "163:\tlearn: 0.2366812\ttotal: 332ms\tremaining: 72.9ms\n",
      "164:\tlearn: 0.2348688\ttotal: 334ms\tremaining: 70.9ms\n",
      "165:\tlearn: 0.2344013\ttotal: 336ms\tremaining: 68.8ms\n",
      "166:\tlearn: 0.2328825\ttotal: 338ms\tremaining: 66.8ms\n",
      "167:\tlearn: 0.2319733\ttotal: 340ms\tremaining: 64.7ms\n",
      "168:\tlearn: 0.2312842\ttotal: 341ms\tremaining: 62.6ms\n",
      "169:\tlearn: 0.2306607\ttotal: 343ms\tremaining: 60.5ms\n",
      "170:\tlearn: 0.2290393\ttotal: 344ms\tremaining: 58.4ms\n",
      "171:\tlearn: 0.2284539\ttotal: 346ms\tremaining: 56.3ms\n",
      "172:\tlearn: 0.2277365\ttotal: 348ms\tremaining: 54.3ms\n",
      "173:\tlearn: 0.2257754\ttotal: 349ms\tremaining: 52.2ms\n",
      "174:\tlearn: 0.2252312\ttotal: 351ms\tremaining: 50.1ms\n",
      "175:\tlearn: 0.2233510\ttotal: 353ms\tremaining: 48.1ms\n",
      "176:\tlearn: 0.2228426\ttotal: 355ms\tremaining: 46.1ms\n",
      "177:\tlearn: 0.2223245\ttotal: 357ms\tremaining: 44.1ms\n",
      "178:\tlearn: 0.2206959\ttotal: 358ms\tremaining: 42ms\n",
      "179:\tlearn: 0.2199697\ttotal: 360ms\tremaining: 40ms\n",
      "180:\tlearn: 0.2193349\ttotal: 362ms\tremaining: 38ms\n",
      "181:\tlearn: 0.2184913\ttotal: 363ms\tremaining: 35.9ms\n",
      "182:\tlearn: 0.2180382\ttotal: 364ms\tremaining: 33.9ms\n",
      "183:\tlearn: 0.2175915\ttotal: 366ms\tremaining: 31.8ms\n",
      "184:\tlearn: 0.2170264\ttotal: 368ms\tremaining: 29.8ms\n",
      "185:\tlearn: 0.2166247\ttotal: 370ms\tremaining: 27.8ms\n",
      "186:\tlearn: 0.2162110\ttotal: 371ms\tremaining: 25.8ms\n",
      "187:\tlearn: 0.2155026\ttotal: 373ms\tremaining: 23.8ms\n",
      "188:\tlearn: 0.2152076\ttotal: 374ms\tremaining: 21.8ms\n",
      "189:\tlearn: 0.2138091\ttotal: 376ms\tremaining: 19.8ms\n",
      "190:\tlearn: 0.2122243\ttotal: 377ms\tremaining: 17.8ms\n",
      "191:\tlearn: 0.2109937\ttotal: 379ms\tremaining: 15.8ms\n",
      "192:\tlearn: 0.2099906\ttotal: 383ms\tremaining: 13.9ms\n",
      "193:\tlearn: 0.2095110\ttotal: 386ms\tremaining: 11.9ms\n",
      "194:\tlearn: 0.2084723\ttotal: 387ms\tremaining: 9.93ms\n",
      "195:\tlearn: 0.2076215\ttotal: 389ms\tremaining: 7.94ms\n",
      "196:\tlearn: 0.2071555\ttotal: 391ms\tremaining: 5.95ms\n",
      "197:\tlearn: 0.2064088\ttotal: 393ms\tremaining: 3.97ms\n",
      "198:\tlearn: 0.2062316\ttotal: 394ms\tremaining: 1.98ms\n",
      "199:\tlearn: 0.2056560\ttotal: 398ms\tremaining: 0us\n"
     ]
    }
   ],
   "source": [
    "catb = CatBoostClassifier(iterations = 200, \n",
    "                          learning_rate = 0.05, \n",
    "                          depth = 5)\n",
    "\n",
    "catb_tuned = catb.fit(X_train, y_train)\n",
    "y_pred = catb_tuned.predict(X_test)"
   ]
  },
  {
   "cell_type": "code",
   "execution_count": 166,
   "metadata": {},
   "outputs": [
    {
     "data": {
      "text/plain": [
       "0.7445887445887446"
      ]
     },
     "execution_count": 166,
     "metadata": {},
     "output_type": "execute_result"
    }
   ],
   "source": [
    "y_pred = catb_tuned.predict(X_test)\n",
    "accuracy_score(y_test, y_pred)"
   ]
  },
  {
   "cell_type": "markdown",
   "metadata": {},
   "source": [
    "# Tüm Modellerin Karşılaştırılması"
   ]
  },
  {
   "cell_type": "code",
   "execution_count": 167,
   "metadata": {},
   "outputs": [
    {
     "name": "stdout",
     "output_type": "stream",
     "text": [
      "----------------------------\n",
      "KNeighborsClassifier:\n",
      "Accuracy: 73.1602%\n",
      "----------------------------\n",
      "LogisticRegression:\n",
      "Accuracy: 75.3247%\n",
      "----------------------------\n",
      "SVC:\n",
      "Accuracy: 73.5931%\n",
      "----------------------------\n",
      "GaussianNB:\n",
      "Accuracy: 74.4589%\n",
      "----------------------------\n",
      "MLPClassifier:\n",
      "Accuracy: 34.6320%\n",
      "----------------------------\n",
      "DecisionTreeClassifier:\n",
      "Accuracy: 75.3247%\n",
      "----------------------------\n",
      "RandomForestClassifier:\n",
      "Accuracy: 75.7576%\n",
      "----------------------------\n",
      "GradientBoostingClassifier:\n",
      "Accuracy: 74.8918%\n",
      "----------------------------\n",
      "CatBoostClassifier:\n",
      "Accuracy: 74.4589%\n",
      "----------------------------\n",
      "LGBMClassifier:\n",
      "Accuracy: 75.3247%\n",
      "----------------------------\n",
      "XGBClassifier:\n",
      "Accuracy: 75.3247%\n"
     ]
    }
   ],
   "source": [
    "modeller = [\n",
    "    knn_tuned,\n",
    "    loj_model,\n",
    "    svc_tuned,\n",
    "    nb_model,\n",
    "    mlpc_tuned,\n",
    "    cart_tuned,\n",
    "    rf_tuned,\n",
    "    gbm_tuned,\n",
    "    catb_tuned,\n",
    "    lgbm_tuned,\n",
    "    xgb_tuned\n",
    "    \n",
    "]\n",
    "\n",
    "\n",
    "for model in modeller:\n",
    "    isimler = model.__class__.__name__\n",
    "    y_pred = model.predict(X_test)\n",
    "    dogruluk = accuracy_score(y_test, y_pred)\n",
    "    print(\"-\"*28)\n",
    "    print(isimler + \":\" )\n",
    "    print(\"Accuracy: {:.4%}\".format(dogruluk))"
   ]
  },
  {
   "cell_type": "code",
   "execution_count": 169,
   "metadata": {},
   "outputs": [
    {
     "data": {
      "image/png": "[encoded data removed]",
      "text/plain": [
       "<Figure size 640x480 with 1 Axes>"
      ]
     },
     "metadata": {},
     "output_type": "display_data"
    }
   ],
   "source": [
    "sonuc = []\n",
    "\n",
    "sonuclar = pd.DataFrame(columns= [\"Modeller\",\"Accuracy\"])\n",
    "\n",
    "for model in modeller:\n",
    "    isimler = model.__class__.__name__\n",
    "    y_pred = model.predict(X_test)\n",
    "    dogruluk = accuracy_score(y_test, y_pred)\n",
    "    sonuc = pd.DataFrame([[isimler, dogruluk*100]], columns= [\"Modeller\",\"Accuracy\"])\n",
    "    sonuclar = pd.concat([sonuclar, sonuc], ignore_index=True)  # concat ile ekleme\n",
    "\n",
    "sns.barplot(x= 'Accuracy', y = 'Modeller', data=sonuclar, color=\"r\")\n",
    "plt.xlabel('Accuracy %')\n",
    "plt.title('Modellerin Doğruluk Oranları');   "
   ]
  }
 ],
 "metadata": {
  "kernelspec": {
   "display_name": "Python 3",
   "language": "python",
   "name": "python3"
  },
  "language_info": {
   "codemirror_mode": {
    "name": "ipython",
    "version": 3
   },
   "file_extension": ".py",
   "mimetype": "text/x-python",
   "name": "python",
   "nbconvert_exporter": "python",
   "pygments_lexer": "ipython3",
   "version": "3.11.4"
  }
 },
 "nbformat": 4,
 "nbformat_minor": 2
}
