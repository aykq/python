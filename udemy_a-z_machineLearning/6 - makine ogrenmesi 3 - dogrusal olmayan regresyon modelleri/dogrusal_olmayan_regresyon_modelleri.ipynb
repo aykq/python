{
 "cells": [
  {
   "cell_type": "markdown",
   "metadata": {},
   "source": [
    "# Doğrusal Olmayan Regreson Modelleri"
   ]
  },
  {
   "cell_type": "code",
   "execution_count": 1,
   "metadata": {},
   "outputs": [],
   "source": [
    "import numpy as np\n",
    "import pandas as pd \n",
    "from sklearn.model_selection import train_test_split, GridSearchCV,cross_val_score\n",
    "from sklearn.metrics import mean_squared_error, r2_score\n",
    "import matplotlib.pyplot as plt\n",
    "from sklearn.preprocessing import scale \n",
    "from sklearn import model_selection\n",
    "from sklearn.tree import DecisionTreeRegressor, DecisionTreeClassifier\n",
    "from sklearn.neighbors import KNeighborsRegressor\n",
    "from sklearn.ensemble import BaggingRegressor\n",
    "\n",
    "from warnings import filterwarnings\n",
    "filterwarnings('ignore')"
   ]
  },
  {
   "cell_type": "markdown",
   "metadata": {},
   "source": [
    "# KNN"
   ]
  },
  {
   "cell_type": "code",
   "execution_count": 2,
   "metadata": {},
   "outputs": [],
   "source": [
    "hit = pd.read_csv(\"Hitters.csv\")\n",
    "df = hit.copy()\n",
    "df = df.dropna()\n",
    "dms = pd.get_dummies(df[['League', 'Division', 'NewLeague']])\n",
    "y = df[\"Salary\"]\n",
    "X_ = df.drop(['Salary', 'League', 'Division', 'NewLeague'], axis=1).astype('float64')\n",
    "X = pd.concat([X_, dms[['League_N', 'Division_W', 'NewLeague_N']]], axis=1)\n",
    "X_train, X_test, y_train, y_test = train_test_split(X, y, \n",
    "                                                    test_size=0.25, \n",
    "                                                    random_state=42)"
   ]
  },
  {
   "cell_type": "code",
   "execution_count": 3,
   "metadata": {},
   "outputs": [],
   "source": [
    "knn_model = KNeighborsRegressor().fit(X_train, y_train)"
   ]
  },
  {
   "cell_type": "code",
   "execution_count": 4,
   "metadata": {},
   "outputs": [
    {
     "data": {
      "text/html": [
       "<style>#sk-container-id-1 {color: black;}#sk-container-id-1 pre{padding: 0;}#sk-container-id-1 div.sk-toggleable {background-color: white;}#sk-container-id-1 label.sk-toggleable__label {cursor: pointer;display: block;width: 100%;margin-bottom: 0;padding: 0.3em;box-sizing: border-box;text-align: center;}#sk-container-id-1 label.sk-toggleable__label-arrow:before {content: \"▸\";float: left;margin-right: 0.25em;color: #696969;}#sk-container-id-1 label.sk-toggleable__label-arrow:hover:before {color: black;}#sk-container-id-1 div.sk-estimator:hover label.sk-toggleable__label-arrow:before {color: black;}#sk-container-id-1 div.sk-toggleable__content {max-height: 0;max-width: 0;overflow: hidden;text-align: left;background-color: #f0f8ff;}#sk-container-id-1 div.sk-toggleable__content pre {margin: 0.2em;color: black;border-radius: 0.25em;background-color: #f0f8ff;}#sk-container-id-1 input.sk-toggleable__control:checked~div.sk-toggleable__content {max-height: 200px;max-width: 100%;overflow: auto;}#sk-container-id-1 input.sk-toggleable__control:checked~label.sk-toggleable__label-arrow:before {content: \"▾\";}#sk-container-id-1 div.sk-estimator input.sk-toggleable__control:checked~label.sk-toggleable__label {background-color: #d4ebff;}#sk-container-id-1 div.sk-label input.sk-toggleable__control:checked~label.sk-toggleable__label {background-color: #d4ebff;}#sk-container-id-1 input.sk-hidden--visually {border: 0;clip: rect(1px 1px 1px 1px);clip: rect(1px, 1px, 1px, 1px);height: 1px;margin: -1px;overflow: hidden;padding: 0;position: absolute;width: 1px;}#sk-container-id-1 div.sk-estimator {font-family: monospace;background-color: #f0f8ff;border: 1px dotted black;border-radius: 0.25em;box-sizing: border-box;margin-bottom: 0.5em;}#sk-container-id-1 div.sk-estimator:hover {background-color: #d4ebff;}#sk-container-id-1 div.sk-parallel-item::after {content: \"\";width: 100%;border-bottom: 1px solid gray;flex-grow: 1;}#sk-container-id-1 div.sk-label:hover label.sk-toggleable__label {background-color: #d4ebff;}#sk-container-id-1 div.sk-serial::before {content: \"\";position: absolute;border-left: 1px solid gray;box-sizing: border-box;top: 0;bottom: 0;left: 50%;z-index: 0;}#sk-container-id-1 div.sk-serial {display: flex;flex-direction: column;align-items: center;background-color: white;padding-right: 0.2em;padding-left: 0.2em;position: relative;}#sk-container-id-1 div.sk-item {position: relative;z-index: 1;}#sk-container-id-1 div.sk-parallel {display: flex;align-items: stretch;justify-content: center;background-color: white;position: relative;}#sk-container-id-1 div.sk-item::before, #sk-container-id-1 div.sk-parallel-item::before {content: \"\";position: absolute;border-left: 1px solid gray;box-sizing: border-box;top: 0;bottom: 0;left: 50%;z-index: -1;}#sk-container-id-1 div.sk-parallel-item {display: flex;flex-direction: column;z-index: 1;position: relative;background-color: white;}#sk-container-id-1 div.sk-parallel-item:first-child::after {align-self: flex-end;width: 50%;}#sk-container-id-1 div.sk-parallel-item:last-child::after {align-self: flex-start;width: 50%;}#sk-container-id-1 div.sk-parallel-item:only-child::after {width: 0;}#sk-container-id-1 div.sk-dashed-wrapped {border: 1px dashed gray;margin: 0 0.4em 0.5em 0.4em;box-sizing: border-box;padding-bottom: 0.4em;background-color: white;}#sk-container-id-1 div.sk-label label {font-family: monospace;font-weight: bold;display: inline-block;line-height: 1.2em;}#sk-container-id-1 div.sk-label-container {text-align: center;}#sk-container-id-1 div.sk-container {/* jupyter's `normalize.less` sets `[hidden] { display: none; }` but bootstrap.min.css set `[hidden] { display: none !important; }` so we also need the `!important` here to be able to override the default hidden behavior on the sphinx rendered scikit-learn.org. See: https://github.com/scikit-learn/scikit-learn/issues/21755 */display: inline-block !important;position: relative;}#sk-container-id-1 div.sk-text-repr-fallback {display: none;}</style><div id=\"sk-container-id-1\" class=\"sk-top-container\"><div class=\"sk-text-repr-fallback\"><pre>KNeighborsRegressor()</pre><b>In a Jupyter environment, please rerun this cell to show the HTML representation or trust the notebook. <br />On GitHub, the HTML representation is unable to render, please try loading this page with nbviewer.org.</b></div><div class=\"sk-container\" hidden><div class=\"sk-item\"><div class=\"sk-estimator sk-toggleable\"><input class=\"sk-toggleable__control sk-hidden--visually\" id=\"sk-estimator-id-1\" type=\"checkbox\" checked><label for=\"sk-estimator-id-1\" class=\"sk-toggleable__label sk-toggleable__label-arrow\">KNeighborsRegressor</label><div class=\"sk-toggleable__content\"><pre>KNeighborsRegressor()</pre></div></div></div></div></div>"
      ],
      "text/plain": [
       "KNeighborsRegressor()"
      ]
     },
     "execution_count": 4,
     "metadata": {},
     "output_type": "execute_result"
    }
   ],
   "source": [
    "knn_model"
   ]
  },
  {
   "cell_type": "code",
   "execution_count": 5,
   "metadata": {},
   "outputs": [
    {
     "data": {
      "text/plain": [
       "5"
      ]
     },
     "execution_count": 5,
     "metadata": {},
     "output_type": "execute_result"
    }
   ],
   "source": [
    "knn_model.n_neighbors"
   ]
  },
  {
   "cell_type": "code",
   "execution_count": 6,
   "metadata": {},
   "outputs": [
    {
     "data": {
      "text/plain": [
       "'euclidean'"
      ]
     },
     "execution_count": 6,
     "metadata": {},
     "output_type": "execute_result"
    }
   ],
   "source": [
    "knn_model.effective_metric_"
   ]
  },
  {
   "cell_type": "markdown",
   "metadata": {},
   "source": [
    "## Tahmin"
   ]
  },
  {
   "cell_type": "code",
   "execution_count": 7,
   "metadata": {},
   "outputs": [],
   "source": [
    "y_pred = knn_model.predict(X_test)"
   ]
  },
  {
   "cell_type": "code",
   "execution_count": 8,
   "metadata": {},
   "outputs": [
    {
     "data": {
      "text/plain": [
       "426.6570764525201"
      ]
     },
     "execution_count": 8,
     "metadata": {},
     "output_type": "execute_result"
    }
   ],
   "source": [
    "np.sqrt(mean_squared_error(y_test, y_pred))"
   ]
  },
  {
   "cell_type": "code",
   "execution_count": 9,
   "metadata": {},
   "outputs": [
    {
     "name": "stdout",
     "output_type": "stream",
     "text": [
      "k = 1 için RMSE değeri:  0.0\n",
      "k = 2 için RMSE değeri:  179.52761335480352\n",
      "k = 3 için RMSE değeri:  205.20157172291863\n",
      "k = 4 için RMSE değeri:  220.5139794876305\n",
      "k = 5 için RMSE değeri:  239.6467132541376\n",
      "k = 6 için RMSE değeri:  243.5904190007242\n",
      "k = 7 için RMSE değeri:  258.1478781634636\n",
      "k = 8 için RMSE değeri:  266.05374203349805\n",
      "k = 9 için RMSE değeri:  269.73782093553376\n",
      "k = 10 için RMSE değeri:  271.2798300436963\n"
     ]
    }
   ],
   "source": [
    "RMSE = [] \n",
    "\n",
    "for k in range(10):\n",
    "    k = k+1\n",
    "    knn_model = KNeighborsRegressor(n_neighbors = k).fit(X_train, y_train)\n",
    "    y_pred = knn_model.predict(X_train) \n",
    "    rmse = np.sqrt(mean_squared_error(y_train,y_pred)) \n",
    "    RMSE.append(rmse) \n",
    "    print(\"k =\" , k , \"için RMSE değeri: \", rmse)\n"
   ]
  },
  {
   "cell_type": "markdown",
   "metadata": {},
   "source": [
    "## Model Tuning"
   ]
  },
  {
   "cell_type": "code",
   "execution_count": 10,
   "metadata": {},
   "outputs": [],
   "source": [
    "from sklearn.model_selection import GridSearchCV"
   ]
  },
  {
   "cell_type": "code",
   "execution_count": 11,
   "metadata": {},
   "outputs": [],
   "source": [
    "knn_params = {'n_neighbors': np.arange(1,30,1)}"
   ]
  },
  {
   "cell_type": "code",
   "execution_count": 12,
   "metadata": {},
   "outputs": [],
   "source": [
    "knn = KNeighborsRegressor()"
   ]
  },
  {
   "cell_type": "code",
   "execution_count": 13,
   "metadata": {},
   "outputs": [],
   "source": [
    "knn_cv_model = GridSearchCV(knn, knn_params, cv = 10)"
   ]
  },
  {
   "cell_type": "code",
   "execution_count": 14,
   "metadata": {},
   "outputs": [
    {
     "data": {
      "text/html": [
       "<style>#sk-container-id-2 {color: black;}#sk-container-id-2 pre{padding: 0;}#sk-container-id-2 div.sk-toggleable {background-color: white;}#sk-container-id-2 label.sk-toggleable__label {cursor: pointer;display: block;width: 100%;margin-bottom: 0;padding: 0.3em;box-sizing: border-box;text-align: center;}#sk-container-id-2 label.sk-toggleable__label-arrow:before {content: \"▸\";float: left;margin-right: 0.25em;color: #696969;}#sk-container-id-2 label.sk-toggleable__label-arrow:hover:before {color: black;}#sk-container-id-2 div.sk-estimator:hover label.sk-toggleable__label-arrow:before {color: black;}#sk-container-id-2 div.sk-toggleable__content {max-height: 0;max-width: 0;overflow: hidden;text-align: left;background-color: #f0f8ff;}#sk-container-id-2 div.sk-toggleable__content pre {margin: 0.2em;color: black;border-radius: 0.25em;background-color: #f0f8ff;}#sk-container-id-2 input.sk-toggleable__control:checked~div.sk-toggleable__content {max-height: 200px;max-width: 100%;overflow: auto;}#sk-container-id-2 input.sk-toggleable__control:checked~label.sk-toggleable__label-arrow:before {content: \"▾\";}#sk-container-id-2 div.sk-estimator input.sk-toggleable__control:checked~label.sk-toggleable__label {background-color: #d4ebff;}#sk-container-id-2 div.sk-label input.sk-toggleable__control:checked~label.sk-toggleable__label {background-color: #d4ebff;}#sk-container-id-2 input.sk-hidden--visually {border: 0;clip: rect(1px 1px 1px 1px);clip: rect(1px, 1px, 1px, 1px);height: 1px;margin: -1px;overflow: hidden;padding: 0;position: absolute;width: 1px;}#sk-container-id-2 div.sk-estimator {font-family: monospace;background-color: #f0f8ff;border: 1px dotted black;border-radius: 0.25em;box-sizing: border-box;margin-bottom: 0.5em;}#sk-container-id-2 div.sk-estimator:hover {background-color: #d4ebff;}#sk-container-id-2 div.sk-parallel-item::after {content: \"\";width: 100%;border-bottom: 1px solid gray;flex-grow: 1;}#sk-container-id-2 div.sk-label:hover label.sk-toggleable__label {background-color: #d4ebff;}#sk-container-id-2 div.sk-serial::before {content: \"\";position: absolute;border-left: 1px solid gray;box-sizing: border-box;top: 0;bottom: 0;left: 50%;z-index: 0;}#sk-container-id-2 div.sk-serial {display: flex;flex-direction: column;align-items: center;background-color: white;padding-right: 0.2em;padding-left: 0.2em;position: relative;}#sk-container-id-2 div.sk-item {position: relative;z-index: 1;}#sk-container-id-2 div.sk-parallel {display: flex;align-items: stretch;justify-content: center;background-color: white;position: relative;}#sk-container-id-2 div.sk-item::before, #sk-container-id-2 div.sk-parallel-item::before {content: \"\";position: absolute;border-left: 1px solid gray;box-sizing: border-box;top: 0;bottom: 0;left: 50%;z-index: -1;}#sk-container-id-2 div.sk-parallel-item {display: flex;flex-direction: column;z-index: 1;position: relative;background-color: white;}#sk-container-id-2 div.sk-parallel-item:first-child::after {align-self: flex-end;width: 50%;}#sk-container-id-2 div.sk-parallel-item:last-child::after {align-self: flex-start;width: 50%;}#sk-container-id-2 div.sk-parallel-item:only-child::after {width: 0;}#sk-container-id-2 div.sk-dashed-wrapped {border: 1px dashed gray;margin: 0 0.4em 0.5em 0.4em;box-sizing: border-box;padding-bottom: 0.4em;background-color: white;}#sk-container-id-2 div.sk-label label {font-family: monospace;font-weight: bold;display: inline-block;line-height: 1.2em;}#sk-container-id-2 div.sk-label-container {text-align: center;}#sk-container-id-2 div.sk-container {/* jupyter's `normalize.less` sets `[hidden] { display: none; }` but bootstrap.min.css set `[hidden] { display: none !important; }` so we also need the `!important` here to be able to override the default hidden behavior on the sphinx rendered scikit-learn.org. See: https://github.com/scikit-learn/scikit-learn/issues/21755 */display: inline-block !important;position: relative;}#sk-container-id-2 div.sk-text-repr-fallback {display: none;}</style><div id=\"sk-container-id-2\" class=\"sk-top-container\"><div class=\"sk-text-repr-fallback\"><pre>GridSearchCV(cv=10, estimator=KNeighborsRegressor(),\n",
       "             param_grid={&#x27;n_neighbors&#x27;: array([ 1,  2,  3,  4,  5,  6,  7,  8,  9, 10, 11, 12, 13, 14, 15, 16, 17,\n",
       "       18, 19, 20, 21, 22, 23, 24, 25, 26, 27, 28, 29])})</pre><b>In a Jupyter environment, please rerun this cell to show the HTML representation or trust the notebook. <br />On GitHub, the HTML representation is unable to render, please try loading this page with nbviewer.org.</b></div><div class=\"sk-container\" hidden><div class=\"sk-item sk-dashed-wrapped\"><div class=\"sk-label-container\"><div class=\"sk-label sk-toggleable\"><input class=\"sk-toggleable__control sk-hidden--visually\" id=\"sk-estimator-id-2\" type=\"checkbox\" ><label for=\"sk-estimator-id-2\" class=\"sk-toggleable__label sk-toggleable__label-arrow\">GridSearchCV</label><div class=\"sk-toggleable__content\"><pre>GridSearchCV(cv=10, estimator=KNeighborsRegressor(),\n",
       "             param_grid={&#x27;n_neighbors&#x27;: array([ 1,  2,  3,  4,  5,  6,  7,  8,  9, 10, 11, 12, 13, 14, 15, 16, 17,\n",
       "       18, 19, 20, 21, 22, 23, 24, 25, 26, 27, 28, 29])})</pre></div></div></div><div class=\"sk-parallel\"><div class=\"sk-parallel-item\"><div class=\"sk-item\"><div class=\"sk-label-container\"><div class=\"sk-label sk-toggleable\"><input class=\"sk-toggleable__control sk-hidden--visually\" id=\"sk-estimator-id-3\" type=\"checkbox\" ><label for=\"sk-estimator-id-3\" class=\"sk-toggleable__label sk-toggleable__label-arrow\">estimator: KNeighborsRegressor</label><div class=\"sk-toggleable__content\"><pre>KNeighborsRegressor()</pre></div></div></div><div class=\"sk-serial\"><div class=\"sk-item\"><div class=\"sk-estimator sk-toggleable\"><input class=\"sk-toggleable__control sk-hidden--visually\" id=\"sk-estimator-id-4\" type=\"checkbox\" ><label for=\"sk-estimator-id-4\" class=\"sk-toggleable__label sk-toggleable__label-arrow\">KNeighborsRegressor</label><div class=\"sk-toggleable__content\"><pre>KNeighborsRegressor()</pre></div></div></div></div></div></div></div></div></div></div>"
      ],
      "text/plain": [
       "GridSearchCV(cv=10, estimator=KNeighborsRegressor(),\n",
       "             param_grid={'n_neighbors': array([ 1,  2,  3,  4,  5,  6,  7,  8,  9, 10, 11, 12, 13, 14, 15, 16, 17,\n",
       "       18, 19, 20, 21, 22, 23, 24, 25, 26, 27, 28, 29])})"
      ]
     },
     "execution_count": 14,
     "metadata": {},
     "output_type": "execute_result"
    }
   ],
   "source": [
    "knn_cv_model.fit(X_train, y_train)"
   ]
  },
  {
   "cell_type": "code",
   "execution_count": 15,
   "metadata": {},
   "outputs": [
    {
     "data": {
      "text/plain": [
       "8"
      ]
     },
     "execution_count": 15,
     "metadata": {},
     "output_type": "execute_result"
    }
   ],
   "source": [
    "knn_cv_model.best_params_[\"n_neighbors\"]"
   ]
  },
  {
   "cell_type": "code",
   "execution_count": 16,
   "metadata": {},
   "outputs": [
    {
     "name": "stdout",
     "output_type": "stream",
     "text": [
      "k = 1 için RMSE değeri:  0.0 RMSE_CV değeri:  325.3947514706382\n",
      "k = 2 için RMSE değeri:  179.52761335480352 RMSE_CV değeri:  293.24000183333817\n",
      "k = 3 için RMSE değeri:  205.20157172291863 RMSE_CV değeri:  283.7486667487823\n",
      "k = 4 için RMSE değeri:  220.5139794876305 RMSE_CV değeri:  286.3240222024089\n",
      "k = 5 için RMSE değeri:  239.6467132541376 RMSE_CV değeri:  290.0705466132226\n",
      "k = 6 için RMSE değeri:  243.5904190007242 RMSE_CV değeri:  298.1263115575851\n",
      "k = 7 için RMSE değeri:  258.1478781634636 RMSE_CV değeri:  294.77070479194987\n",
      "k = 8 için RMSE değeri:  266.05374203349805 RMSE_CV değeri:  291.98672028891235\n",
      "k = 9 için RMSE değeri:  269.73782093553376 RMSE_CV değeri:  295.7162739573105\n",
      "k = 10 için RMSE değeri:  271.2798300436963 RMSE_CV değeri:  301.31047022701154\n"
     ]
    }
   ],
   "source": [
    "RMSE = [] \n",
    "RMSE_CV = []\n",
    "for k in range(10):\n",
    "    k = k+1\n",
    "    knn_model = KNeighborsRegressor(n_neighbors = k).fit(X_train, y_train)\n",
    "    y_pred = knn_model.predict(X_train) \n",
    "    rmse = np.sqrt(mean_squared_error(y_train,y_pred)) \n",
    "    rmse_cv = np.sqrt(-1*cross_val_score(knn_model, X_train, y_train, cv=10, \n",
    "                                         scoring = \"neg_mean_squared_error\").mean())\n",
    "    RMSE.append(rmse) \n",
    "    RMSE_CV.append(rmse_cv)\n",
    "    print(\"k =\" , k , \"için RMSE değeri: \", rmse, \"RMSE_CV değeri: \", rmse_cv )\n"
   ]
  },
  {
   "cell_type": "code",
   "execution_count": 17,
   "metadata": {},
   "outputs": [],
   "source": [
    "knn_tuned = KNeighborsRegressor(n_neighbors = knn_cv_model.best_params_[\"n_neighbors\"])"
   ]
  },
  {
   "cell_type": "code",
   "execution_count": 18,
   "metadata": {},
   "outputs": [
    {
     "data": {
      "text/html": [
       "<style>#sk-container-id-3 {color: black;}#sk-container-id-3 pre{padding: 0;}#sk-container-id-3 div.sk-toggleable {background-color: white;}#sk-container-id-3 label.sk-toggleable__label {cursor: pointer;display: block;width: 100%;margin-bottom: 0;padding: 0.3em;box-sizing: border-box;text-align: center;}#sk-container-id-3 label.sk-toggleable__label-arrow:before {content: \"▸\";float: left;margin-right: 0.25em;color: #696969;}#sk-container-id-3 label.sk-toggleable__label-arrow:hover:before {color: black;}#sk-container-id-3 div.sk-estimator:hover label.sk-toggleable__label-arrow:before {color: black;}#sk-container-id-3 div.sk-toggleable__content {max-height: 0;max-width: 0;overflow: hidden;text-align: left;background-color: #f0f8ff;}#sk-container-id-3 div.sk-toggleable__content pre {margin: 0.2em;color: black;border-radius: 0.25em;background-color: #f0f8ff;}#sk-container-id-3 input.sk-toggleable__control:checked~div.sk-toggleable__content {max-height: 200px;max-width: 100%;overflow: auto;}#sk-container-id-3 input.sk-toggleable__control:checked~label.sk-toggleable__label-arrow:before {content: \"▾\";}#sk-container-id-3 div.sk-estimator input.sk-toggleable__control:checked~label.sk-toggleable__label {background-color: #d4ebff;}#sk-container-id-3 div.sk-label input.sk-toggleable__control:checked~label.sk-toggleable__label {background-color: #d4ebff;}#sk-container-id-3 input.sk-hidden--visually {border: 0;clip: rect(1px 1px 1px 1px);clip: rect(1px, 1px, 1px, 1px);height: 1px;margin: -1px;overflow: hidden;padding: 0;position: absolute;width: 1px;}#sk-container-id-3 div.sk-estimator {font-family: monospace;background-color: #f0f8ff;border: 1px dotted black;border-radius: 0.25em;box-sizing: border-box;margin-bottom: 0.5em;}#sk-container-id-3 div.sk-estimator:hover {background-color: #d4ebff;}#sk-container-id-3 div.sk-parallel-item::after {content: \"\";width: 100%;border-bottom: 1px solid gray;flex-grow: 1;}#sk-container-id-3 div.sk-label:hover label.sk-toggleable__label {background-color: #d4ebff;}#sk-container-id-3 div.sk-serial::before {content: \"\";position: absolute;border-left: 1px solid gray;box-sizing: border-box;top: 0;bottom: 0;left: 50%;z-index: 0;}#sk-container-id-3 div.sk-serial {display: flex;flex-direction: column;align-items: center;background-color: white;padding-right: 0.2em;padding-left: 0.2em;position: relative;}#sk-container-id-3 div.sk-item {position: relative;z-index: 1;}#sk-container-id-3 div.sk-parallel {display: flex;align-items: stretch;justify-content: center;background-color: white;position: relative;}#sk-container-id-3 div.sk-item::before, #sk-container-id-3 div.sk-parallel-item::before {content: \"\";position: absolute;border-left: 1px solid gray;box-sizing: border-box;top: 0;bottom: 0;left: 50%;z-index: -1;}#sk-container-id-3 div.sk-parallel-item {display: flex;flex-direction: column;z-index: 1;position: relative;background-color: white;}#sk-container-id-3 div.sk-parallel-item:first-child::after {align-self: flex-end;width: 50%;}#sk-container-id-3 div.sk-parallel-item:last-child::after {align-self: flex-start;width: 50%;}#sk-container-id-3 div.sk-parallel-item:only-child::after {width: 0;}#sk-container-id-3 div.sk-dashed-wrapped {border: 1px dashed gray;margin: 0 0.4em 0.5em 0.4em;box-sizing: border-box;padding-bottom: 0.4em;background-color: white;}#sk-container-id-3 div.sk-label label {font-family: monospace;font-weight: bold;display: inline-block;line-height: 1.2em;}#sk-container-id-3 div.sk-label-container {text-align: center;}#sk-container-id-3 div.sk-container {/* jupyter's `normalize.less` sets `[hidden] { display: none; }` but bootstrap.min.css set `[hidden] { display: none !important; }` so we also need the `!important` here to be able to override the default hidden behavior on the sphinx rendered scikit-learn.org. See: https://github.com/scikit-learn/scikit-learn/issues/21755 */display: inline-block !important;position: relative;}#sk-container-id-3 div.sk-text-repr-fallback {display: none;}</style><div id=\"sk-container-id-3\" class=\"sk-top-container\"><div class=\"sk-text-repr-fallback\"><pre>KNeighborsRegressor(n_neighbors=8)</pre><b>In a Jupyter environment, please rerun this cell to show the HTML representation or trust the notebook. <br />On GitHub, the HTML representation is unable to render, please try loading this page with nbviewer.org.</b></div><div class=\"sk-container\" hidden><div class=\"sk-item\"><div class=\"sk-estimator sk-toggleable\"><input class=\"sk-toggleable__control sk-hidden--visually\" id=\"sk-estimator-id-5\" type=\"checkbox\" checked><label for=\"sk-estimator-id-5\" class=\"sk-toggleable__label sk-toggleable__label-arrow\">KNeighborsRegressor</label><div class=\"sk-toggleable__content\"><pre>KNeighborsRegressor(n_neighbors=8)</pre></div></div></div></div></div>"
      ],
      "text/plain": [
       "KNeighborsRegressor(n_neighbors=8)"
      ]
     },
     "execution_count": 18,
     "metadata": {},
     "output_type": "execute_result"
    }
   ],
   "source": [
    "knn_tuned.fit(X_train, y_train)"
   ]
  },
  {
   "cell_type": "code",
   "execution_count": 19,
   "metadata": {},
   "outputs": [
    {
     "data": {
      "text/plain": [
       "413.7094731463598"
      ]
     },
     "execution_count": 19,
     "metadata": {},
     "output_type": "execute_result"
    }
   ],
   "source": [
    "np.sqrt(mean_squared_error(y_test, knn_tuned.predict(X_test)))"
   ]
  },
  {
   "cell_type": "markdown",
   "metadata": {},
   "source": [
    "# SVR (Destek Vektör Regresyonu)"
   ]
  },
  {
   "cell_type": "code",
   "execution_count": 20,
   "metadata": {},
   "outputs": [],
   "source": [
    "hit = pd.read_csv(\"Hitters.csv\")\n",
    "df = hit.copy()\n",
    "df = df.dropna()\n",
    "dms = pd.get_dummies(df[['League', 'Division', 'NewLeague']])\n",
    "y = df[\"Salary\"]\n",
    "X_ = df.drop(['Salary', 'League', 'Division', 'NewLeague'], axis=1).astype('float64')\n",
    "X = pd.concat([X_, dms[['League_N', 'Division_W', 'NewLeague_N']]], axis=1)\n",
    "X_train, X_test, y_train, y_test = train_test_split(X, y, \n",
    "                                                    test_size=0.25, \n",
    "                                                    random_state=42)"
   ]
  },
  {
   "cell_type": "code",
   "execution_count": 21,
   "metadata": {},
   "outputs": [],
   "source": [
    "X_train = pd.DataFrame(X_train[\"Hits\"])\n",
    "X_test = pd.DataFrame(X_test[\"Hits\"])"
   ]
  },
  {
   "cell_type": "code",
   "execution_count": 22,
   "metadata": {},
   "outputs": [],
   "source": [
    "from sklearn.svm import SVR"
   ]
  },
  {
   "cell_type": "code",
   "execution_count": 23,
   "metadata": {},
   "outputs": [],
   "source": [
    "\n",
    "svr_model = SVR(kernel=\"linear\").fit(X_train, y_train)\n"
   ]
  },
  {
   "cell_type": "code",
   "execution_count": 24,
   "metadata": {},
   "outputs": [
    {
     "data": {
      "text/plain": [
       "array([403.52804878, 666.91219512, 706.66829268, 194.80853659,\n",
       "       423.40609756])"
      ]
     },
     "execution_count": 24,
     "metadata": {},
     "output_type": "execute_result"
    }
   ],
   "source": [
    "svr_model.predict(X_train)[0:5]"
   ]
  },
  {
   "cell_type": "code",
   "execution_count": 25,
   "metadata": {},
   "outputs": [
    {
     "name": "stdout",
     "output_type": "stream",
     "text": [
      "y = -48.69756097561513 + 4.969512195122093 x\n"
     ]
    }
   ],
   "source": [
    "print (\"y = {0} + {1} x\".format(svr_model.intercept_[0], \n",
    "                                svr_model.coef_[0][0])) "
   ]
  },
  {
   "cell_type": "code",
   "execution_count": 26,
   "metadata": {},
   "outputs": [
    {
     "data": {
      "text/plain": [
       "183    91.0\n",
       "Name: Hits, dtype: float64"
      ]
     },
     "execution_count": 26,
     "metadata": {},
     "output_type": "execute_result"
    }
   ],
   "source": [
    "X_train[\"Hits\"][0:1]"
   ]
  },
  {
   "cell_type": "code",
   "execution_count": 27,
   "metadata": {},
   "outputs": [
    {
     "data": {
      "text/plain": [
       "403.5280487804953"
      ]
     },
     "execution_count": 27,
     "metadata": {},
     "output_type": "execute_result"
    }
   ],
   "source": [
    "-48.69756097561513 + 4.969512195122093*91"
   ]
  },
  {
   "cell_type": "code",
   "execution_count": 28,
   "metadata": {},
   "outputs": [],
   "source": [
    "y_pred = svr_model.predict(X_train)"
   ]
  },
  {
   "cell_type": "code",
   "execution_count": 29,
   "metadata": {},
   "outputs": [
    {
     "data": {
      "text/plain": [
       "[<matplotlib.lines.Line2D at 0x22b25a030d0>]"
      ]
     },
     "execution_count": 29,
     "metadata": {},
     "output_type": "execute_result"
    },
    {
     "data": {
      "image/png": "[encoded data removed]",
      "text/plain": [
       "<Figure size 640x480 with 1 Axes>"
      ]
     },
     "metadata": {},
     "output_type": "display_data"
    }
   ],
   "source": [
    "plt.scatter(X_train, y_train)\n",
    "plt.plot(X_train,y_pred, color = \"r\")"
   ]
  },
  {
   "cell_type": "code",
   "execution_count": 30,
   "metadata": {},
   "outputs": [
    {
     "name": "stdout",
     "output_type": "stream",
     "text": [
      "y = -8.814095480334345 + 5.172456135470686 x\n"
     ]
    }
   ],
   "source": [
    "from sklearn.linear_model import LinearRegression\n",
    "lm_model = LinearRegression().fit(X_train, y_train)\n",
    "lm_pred  = lm_model.predict(X_train)\n",
    "print(\"y = {0} + {1} x\".format(lm_model.intercept_, lm_model.coef_[0]))"
   ]
  },
  {
   "cell_type": "code",
   "execution_count": 31,
   "metadata": {},
   "outputs": [
    {
     "data": {
      "text/plain": [
       "461.879412847498"
      ]
     },
     "execution_count": 31,
     "metadata": {},
     "output_type": "execute_result"
    }
   ],
   "source": [
    "-8.814095480334572 + 5.1724561354706875*91"
   ]
  },
  {
   "cell_type": "code",
   "execution_count": 32,
   "metadata": {},
   "outputs": [
    {
     "data": {
      "text/plain": [
       "Text(0, 0.5, 'Maaş (Salary)')"
      ]
     },
     "execution_count": 32,
     "metadata": {},
     "output_type": "execute_result"
    },
    {
     "data": {
      "image/png": "[encoded data removed]",
      "text/plain": [
       "<Figure size 640x480 with 1 Axes>"
      ]
     },
     "metadata": {},
     "output_type": "display_data"
    }
   ],
   "source": [
    "plt.scatter(X_train, y_train, alpha=0.5, s=23)\n",
    "plt.plot(X_train, lm_pred, 'g')\n",
    "plt.plot(X_train, y_pred, color='r')\n",
    "\n",
    "plt.xlabel(\"Atış Sayısı(Hits)\")\n",
    "plt.ylabel(\"Maaş (Salary)\")"
   ]
  },
  {
   "cell_type": "markdown",
   "metadata": {},
   "source": [
    "## Tahmin"
   ]
  },
  {
   "cell_type": "code",
   "execution_count": 33,
   "metadata": {},
   "outputs": [
    {
     "name": "stdout",
     "output_type": "stream",
     "text": [
      "y = -48.69756097561513 + 4.969512195122093 x\n"
     ]
    }
   ],
   "source": [
    "print (\"y = {0} + {1} x\".format(svr_model.intercept_[0], svr_model.coef_[0][0])) "
   ]
  },
  {
   "cell_type": "code",
   "execution_count": 34,
   "metadata": {},
   "outputs": [
    {
     "data": {
      "text/plain": [
       "array([403.52804878])"
      ]
     },
     "execution_count": 34,
     "metadata": {},
     "output_type": "execute_result"
    }
   ],
   "source": [
    "svr_model.predict([[91]])"
   ]
  },
  {
   "cell_type": "code",
   "execution_count": 35,
   "metadata": {},
   "outputs": [],
   "source": [
    "y_pred = svr_model.predict(X_test)"
   ]
  },
  {
   "cell_type": "code",
   "execution_count": 36,
   "metadata": {},
   "outputs": [
    {
     "data": {
      "text/plain": [
       "459.0187960365147"
      ]
     },
     "execution_count": 36,
     "metadata": {},
     "output_type": "execute_result"
    }
   ],
   "source": [
    "np.sqrt(mean_squared_error(y_test, y_pred))"
   ]
  },
  {
   "cell_type": "code",
   "execution_count": 37,
   "metadata": {},
   "outputs": [
    {
     "data": {
      "text/html": [
       "<style>#sk-container-id-4 {color: black;}#sk-container-id-4 pre{padding: 0;}#sk-container-id-4 div.sk-toggleable {background-color: white;}#sk-container-id-4 label.sk-toggleable__label {cursor: pointer;display: block;width: 100%;margin-bottom: 0;padding: 0.3em;box-sizing: border-box;text-align: center;}#sk-container-id-4 label.sk-toggleable__label-arrow:before {content: \"▸\";float: left;margin-right: 0.25em;color: #696969;}#sk-container-id-4 label.sk-toggleable__label-arrow:hover:before {color: black;}#sk-container-id-4 div.sk-estimator:hover label.sk-toggleable__label-arrow:before {color: black;}#sk-container-id-4 div.sk-toggleable__content {max-height: 0;max-width: 0;overflow: hidden;text-align: left;background-color: #f0f8ff;}#sk-container-id-4 div.sk-toggleable__content pre {margin: 0.2em;color: black;border-radius: 0.25em;background-color: #f0f8ff;}#sk-container-id-4 input.sk-toggleable__control:checked~div.sk-toggleable__content {max-height: 200px;max-width: 100%;overflow: auto;}#sk-container-id-4 input.sk-toggleable__control:checked~label.sk-toggleable__label-arrow:before {content: \"▾\";}#sk-container-id-4 div.sk-estimator input.sk-toggleable__control:checked~label.sk-toggleable__label {background-color: #d4ebff;}#sk-container-id-4 div.sk-label input.sk-toggleable__control:checked~label.sk-toggleable__label {background-color: #d4ebff;}#sk-container-id-4 input.sk-hidden--visually {border: 0;clip: rect(1px 1px 1px 1px);clip: rect(1px, 1px, 1px, 1px);height: 1px;margin: -1px;overflow: hidden;padding: 0;position: absolute;width: 1px;}#sk-container-id-4 div.sk-estimator {font-family: monospace;background-color: #f0f8ff;border: 1px dotted black;border-radius: 0.25em;box-sizing: border-box;margin-bottom: 0.5em;}#sk-container-id-4 div.sk-estimator:hover {background-color: #d4ebff;}#sk-container-id-4 div.sk-parallel-item::after {content: \"\";width: 100%;border-bottom: 1px solid gray;flex-grow: 1;}#sk-container-id-4 div.sk-label:hover label.sk-toggleable__label {background-color: #d4ebff;}#sk-container-id-4 div.sk-serial::before {content: \"\";position: absolute;border-left: 1px solid gray;box-sizing: border-box;top: 0;bottom: 0;left: 50%;z-index: 0;}#sk-container-id-4 div.sk-serial {display: flex;flex-direction: column;align-items: center;background-color: white;padding-right: 0.2em;padding-left: 0.2em;position: relative;}#sk-container-id-4 div.sk-item {position: relative;z-index: 1;}#sk-container-id-4 div.sk-parallel {display: flex;align-items: stretch;justify-content: center;background-color: white;position: relative;}#sk-container-id-4 div.sk-item::before, #sk-container-id-4 div.sk-parallel-item::before {content: \"\";position: absolute;border-left: 1px solid gray;box-sizing: border-box;top: 0;bottom: 0;left: 50%;z-index: -1;}#sk-container-id-4 div.sk-parallel-item {display: flex;flex-direction: column;z-index: 1;position: relative;background-color: white;}#sk-container-id-4 div.sk-parallel-item:first-child::after {align-self: flex-end;width: 50%;}#sk-container-id-4 div.sk-parallel-item:last-child::after {align-self: flex-start;width: 50%;}#sk-container-id-4 div.sk-parallel-item:only-child::after {width: 0;}#sk-container-id-4 div.sk-dashed-wrapped {border: 1px dashed gray;margin: 0 0.4em 0.5em 0.4em;box-sizing: border-box;padding-bottom: 0.4em;background-color: white;}#sk-container-id-4 div.sk-label label {font-family: monospace;font-weight: bold;display: inline-block;line-height: 1.2em;}#sk-container-id-4 div.sk-label-container {text-align: center;}#sk-container-id-4 div.sk-container {/* jupyter's `normalize.less` sets `[hidden] { display: none; }` but bootstrap.min.css set `[hidden] { display: none !important; }` so we also need the `!important` here to be able to override the default hidden behavior on the sphinx rendered scikit-learn.org. See: https://github.com/scikit-learn/scikit-learn/issues/21755 */display: inline-block !important;position: relative;}#sk-container-id-4 div.sk-text-repr-fallback {display: none;}</style><div id=\"sk-container-id-4\" class=\"sk-top-container\"><div class=\"sk-text-repr-fallback\"><pre>SVR(kernel=&#x27;linear&#x27;)</pre><b>In a Jupyter environment, please rerun this cell to show the HTML representation or trust the notebook. <br />On GitHub, the HTML representation is unable to render, please try loading this page with nbviewer.org.</b></div><div class=\"sk-container\" hidden><div class=\"sk-item\"><div class=\"sk-estimator sk-toggleable\"><input class=\"sk-toggleable__control sk-hidden--visually\" id=\"sk-estimator-id-6\" type=\"checkbox\" checked><label for=\"sk-estimator-id-6\" class=\"sk-toggleable__label sk-toggleable__label-arrow\">SVR</label><div class=\"sk-toggleable__content\"><pre>SVR(kernel=&#x27;linear&#x27;)</pre></div></div></div></div></div>"
      ],
      "text/plain": [
       "SVR(kernel='linear')"
      ]
     },
     "execution_count": 37,
     "metadata": {},
     "output_type": "execute_result"
    }
   ],
   "source": [
    "svr_model"
   ]
  },
  {
   "cell_type": "markdown",
   "metadata": {},
   "source": [
    "## Model Tuning"
   ]
  },
  {
   "cell_type": "code",
   "execution_count": 38,
   "metadata": {},
   "outputs": [
    {
     "data": {
      "text/html": [
       "<style>#sk-container-id-5 {color: black;}#sk-container-id-5 pre{padding: 0;}#sk-container-id-5 div.sk-toggleable {background-color: white;}#sk-container-id-5 label.sk-toggleable__label {cursor: pointer;display: block;width: 100%;margin-bottom: 0;padding: 0.3em;box-sizing: border-box;text-align: center;}#sk-container-id-5 label.sk-toggleable__label-arrow:before {content: \"▸\";float: left;margin-right: 0.25em;color: #696969;}#sk-container-id-5 label.sk-toggleable__label-arrow:hover:before {color: black;}#sk-container-id-5 div.sk-estimator:hover label.sk-toggleable__label-arrow:before {color: black;}#sk-container-id-5 div.sk-toggleable__content {max-height: 0;max-width: 0;overflow: hidden;text-align: left;background-color: #f0f8ff;}#sk-container-id-5 div.sk-toggleable__content pre {margin: 0.2em;color: black;border-radius: 0.25em;background-color: #f0f8ff;}#sk-container-id-5 input.sk-toggleable__control:checked~div.sk-toggleable__content {max-height: 200px;max-width: 100%;overflow: auto;}#sk-container-id-5 input.sk-toggleable__control:checked~label.sk-toggleable__label-arrow:before {content: \"▾\";}#sk-container-id-5 div.sk-estimator input.sk-toggleable__control:checked~label.sk-toggleable__label {background-color: #d4ebff;}#sk-container-id-5 div.sk-label input.sk-toggleable__control:checked~label.sk-toggleable__label {background-color: #d4ebff;}#sk-container-id-5 input.sk-hidden--visually {border: 0;clip: rect(1px 1px 1px 1px);clip: rect(1px, 1px, 1px, 1px);height: 1px;margin: -1px;overflow: hidden;padding: 0;position: absolute;width: 1px;}#sk-container-id-5 div.sk-estimator {font-family: monospace;background-color: #f0f8ff;border: 1px dotted black;border-radius: 0.25em;box-sizing: border-box;margin-bottom: 0.5em;}#sk-container-id-5 div.sk-estimator:hover {background-color: #d4ebff;}#sk-container-id-5 div.sk-parallel-item::after {content: \"\";width: 100%;border-bottom: 1px solid gray;flex-grow: 1;}#sk-container-id-5 div.sk-label:hover label.sk-toggleable__label {background-color: #d4ebff;}#sk-container-id-5 div.sk-serial::before {content: \"\";position: absolute;border-left: 1px solid gray;box-sizing: border-box;top: 0;bottom: 0;left: 50%;z-index: 0;}#sk-container-id-5 div.sk-serial {display: flex;flex-direction: column;align-items: center;background-color: white;padding-right: 0.2em;padding-left: 0.2em;position: relative;}#sk-container-id-5 div.sk-item {position: relative;z-index: 1;}#sk-container-id-5 div.sk-parallel {display: flex;align-items: stretch;justify-content: center;background-color: white;position: relative;}#sk-container-id-5 div.sk-item::before, #sk-container-id-5 div.sk-parallel-item::before {content: \"\";position: absolute;border-left: 1px solid gray;box-sizing: border-box;top: 0;bottom: 0;left: 50%;z-index: -1;}#sk-container-id-5 div.sk-parallel-item {display: flex;flex-direction: column;z-index: 1;position: relative;background-color: white;}#sk-container-id-5 div.sk-parallel-item:first-child::after {align-self: flex-end;width: 50%;}#sk-container-id-5 div.sk-parallel-item:last-child::after {align-self: flex-start;width: 50%;}#sk-container-id-5 div.sk-parallel-item:only-child::after {width: 0;}#sk-container-id-5 div.sk-dashed-wrapped {border: 1px dashed gray;margin: 0 0.4em 0.5em 0.4em;box-sizing: border-box;padding-bottom: 0.4em;background-color: white;}#sk-container-id-5 div.sk-label label {font-family: monospace;font-weight: bold;display: inline-block;line-height: 1.2em;}#sk-container-id-5 div.sk-label-container {text-align: center;}#sk-container-id-5 div.sk-container {/* jupyter's `normalize.less` sets `[hidden] { display: none; }` but bootstrap.min.css set `[hidden] { display: none !important; }` so we also need the `!important` here to be able to override the default hidden behavior on the sphinx rendered scikit-learn.org. See: https://github.com/scikit-learn/scikit-learn/issues/21755 */display: inline-block !important;position: relative;}#sk-container-id-5 div.sk-text-repr-fallback {display: none;}</style><div id=\"sk-container-id-5\" class=\"sk-top-container\"><div class=\"sk-text-repr-fallback\"><pre>SVR(kernel=&#x27;linear&#x27;)</pre><b>In a Jupyter environment, please rerun this cell to show the HTML representation or trust the notebook. <br />On GitHub, the HTML representation is unable to render, please try loading this page with nbviewer.org.</b></div><div class=\"sk-container\" hidden><div class=\"sk-item\"><div class=\"sk-estimator sk-toggleable\"><input class=\"sk-toggleable__control sk-hidden--visually\" id=\"sk-estimator-id-7\" type=\"checkbox\" checked><label for=\"sk-estimator-id-7\" class=\"sk-toggleable__label sk-toggleable__label-arrow\">SVR</label><div class=\"sk-toggleable__content\"><pre>SVR(kernel=&#x27;linear&#x27;)</pre></div></div></div></div></div>"
      ],
      "text/plain": [
       "SVR(kernel='linear')"
      ]
     },
     "execution_count": 38,
     "metadata": {},
     "output_type": "execute_result"
    }
   ],
   "source": [
    "svr_model"
   ]
  },
  {
   "cell_type": "code",
   "execution_count": 39,
   "metadata": {},
   "outputs": [],
   "source": [
    "svr_params = {\"C\": np.arange(0.1,2,0.1)}\n",
    "svr_cv_model = GridSearchCV(svr_model, svr_params, cv = 10).fit(X_train,y_train)"
   ]
  },
  {
   "cell_type": "code",
   "execution_count": 40,
   "metadata": {},
   "outputs": [
    {
     "data": {
      "text/plain": [
       "0.1"
      ]
     },
     "execution_count": 40,
     "metadata": {},
     "output_type": "execute_result"
    }
   ],
   "source": [
    "pd.Series(svr_cv_model.best_params_)[0]"
   ]
  },
  {
   "cell_type": "code",
   "execution_count": 41,
   "metadata": {},
   "outputs": [
    {
     "data": {
      "text/html": [
       "<style>#sk-container-id-6 {color: black;}#sk-container-id-6 pre{padding: 0;}#sk-container-id-6 div.sk-toggleable {background-color: white;}#sk-container-id-6 label.sk-toggleable__label {cursor: pointer;display: block;width: 100%;margin-bottom: 0;padding: 0.3em;box-sizing: border-box;text-align: center;}#sk-container-id-6 label.sk-toggleable__label-arrow:before {content: \"▸\";float: left;margin-right: 0.25em;color: #696969;}#sk-container-id-6 label.sk-toggleable__label-arrow:hover:before {color: black;}#sk-container-id-6 div.sk-estimator:hover label.sk-toggleable__label-arrow:before {color: black;}#sk-container-id-6 div.sk-toggleable__content {max-height: 0;max-width: 0;overflow: hidden;text-align: left;background-color: #f0f8ff;}#sk-container-id-6 div.sk-toggleable__content pre {margin: 0.2em;color: black;border-radius: 0.25em;background-color: #f0f8ff;}#sk-container-id-6 input.sk-toggleable__control:checked~div.sk-toggleable__content {max-height: 200px;max-width: 100%;overflow: auto;}#sk-container-id-6 input.sk-toggleable__control:checked~label.sk-toggleable__label-arrow:before {content: \"▾\";}#sk-container-id-6 div.sk-estimator input.sk-toggleable__control:checked~label.sk-toggleable__label {background-color: #d4ebff;}#sk-container-id-6 div.sk-label input.sk-toggleable__control:checked~label.sk-toggleable__label {background-color: #d4ebff;}#sk-container-id-6 input.sk-hidden--visually {border: 0;clip: rect(1px 1px 1px 1px);clip: rect(1px, 1px, 1px, 1px);height: 1px;margin: -1px;overflow: hidden;padding: 0;position: absolute;width: 1px;}#sk-container-id-6 div.sk-estimator {font-family: monospace;background-color: #f0f8ff;border: 1px dotted black;border-radius: 0.25em;box-sizing: border-box;margin-bottom: 0.5em;}#sk-container-id-6 div.sk-estimator:hover {background-color: #d4ebff;}#sk-container-id-6 div.sk-parallel-item::after {content: \"\";width: 100%;border-bottom: 1px solid gray;flex-grow: 1;}#sk-container-id-6 div.sk-label:hover label.sk-toggleable__label {background-color: #d4ebff;}#sk-container-id-6 div.sk-serial::before {content: \"\";position: absolute;border-left: 1px solid gray;box-sizing: border-box;top: 0;bottom: 0;left: 50%;z-index: 0;}#sk-container-id-6 div.sk-serial {display: flex;flex-direction: column;align-items: center;background-color: white;padding-right: 0.2em;padding-left: 0.2em;position: relative;}#sk-container-id-6 div.sk-item {position: relative;z-index: 1;}#sk-container-id-6 div.sk-parallel {display: flex;align-items: stretch;justify-content: center;background-color: white;position: relative;}#sk-container-id-6 div.sk-item::before, #sk-container-id-6 div.sk-parallel-item::before {content: \"\";position: absolute;border-left: 1px solid gray;box-sizing: border-box;top: 0;bottom: 0;left: 50%;z-index: -1;}#sk-container-id-6 div.sk-parallel-item {display: flex;flex-direction: column;z-index: 1;position: relative;background-color: white;}#sk-container-id-6 div.sk-parallel-item:first-child::after {align-self: flex-end;width: 50%;}#sk-container-id-6 div.sk-parallel-item:last-child::after {align-self: flex-start;width: 50%;}#sk-container-id-6 div.sk-parallel-item:only-child::after {width: 0;}#sk-container-id-6 div.sk-dashed-wrapped {border: 1px dashed gray;margin: 0 0.4em 0.5em 0.4em;box-sizing: border-box;padding-bottom: 0.4em;background-color: white;}#sk-container-id-6 div.sk-label label {font-family: monospace;font-weight: bold;display: inline-block;line-height: 1.2em;}#sk-container-id-6 div.sk-label-container {text-align: center;}#sk-container-id-6 div.sk-container {/* jupyter's `normalize.less` sets `[hidden] { display: none; }` but bootstrap.min.css set `[hidden] { display: none !important; }` so we also need the `!important` here to be able to override the default hidden behavior on the sphinx rendered scikit-learn.org. See: https://github.com/scikit-learn/scikit-learn/issues/21755 */display: inline-block !important;position: relative;}#sk-container-id-6 div.sk-text-repr-fallback {display: none;}</style><div id=\"sk-container-id-6\" class=\"sk-top-container\"><div class=\"sk-text-repr-fallback\"><pre>SVR(C=0.1, kernel=&#x27;linear&#x27;)</pre><b>In a Jupyter environment, please rerun this cell to show the HTML representation or trust the notebook. <br />On GitHub, the HTML representation is unable to render, please try loading this page with nbviewer.org.</b></div><div class=\"sk-container\" hidden><div class=\"sk-item\"><div class=\"sk-estimator sk-toggleable\"><input class=\"sk-toggleable__control sk-hidden--visually\" id=\"sk-estimator-id-8\" type=\"checkbox\" checked><label for=\"sk-estimator-id-8\" class=\"sk-toggleable__label sk-toggleable__label-arrow\">SVR</label><div class=\"sk-toggleable__content\"><pre>SVR(C=0.1, kernel=&#x27;linear&#x27;)</pre></div></div></div></div></div>"
      ],
      "text/plain": [
       "SVR(C=0.1, kernel='linear')"
      ]
     },
     "execution_count": 41,
     "metadata": {},
     "output_type": "execute_result"
    }
   ],
   "source": [
    "svr_tuned = SVR(kernel=\"linear\", C=pd.Series(svr_cv_model.best_params_)[0])\n",
    "svr_tuned.fit(X_train, y_train)"
   ]
  },
  {
   "cell_type": "code",
   "execution_count": 42,
   "metadata": {},
   "outputs": [],
   "source": [
    "y_pred = svr_tuned.predict(X_test)"
   ]
  },
  {
   "cell_type": "code",
   "execution_count": 43,
   "metadata": {},
   "outputs": [
    {
     "data": {
      "text/plain": [
       "458.198966781116"
      ]
     },
     "execution_count": 43,
     "metadata": {},
     "output_type": "execute_result"
    }
   ],
   "source": [
    "np.sqrt(mean_squared_error(y_test, y_pred))"
   ]
  },
  {
   "cell_type": "code",
   "execution_count": 44,
   "metadata": {},
   "outputs": [
    {
     "data": {
      "text/plain": [
       "458.198966781116"
      ]
     },
     "execution_count": 44,
     "metadata": {},
     "output_type": "execute_result"
    }
   ],
   "source": [
    "np.sqrt(mean_squared_error(y_test, y_pred))"
   ]
  },
  {
   "cell_type": "markdown",
   "metadata": {},
   "source": [
    "# Doğrusal Olmayan SVR"
   ]
  },
  {
   "cell_type": "code",
   "execution_count": 45,
   "metadata": {},
   "outputs": [],
   "source": [
    "np.random.seed(3)\n",
    "\n",
    "x_sim = np.random.uniform(2, 10, 145)\n",
    "y_sim = np.sin(x_sim) + np.random.normal(0, 0.4, 145)\n",
    "\n",
    "x_outliers = np.arange(2.5, 5, 0.5)\n",
    "y_outliers = -5*np.ones(5)\n",
    "\n",
    "x_sim_idx = np.argsort(np.concatenate([x_sim, x_outliers]))\n",
    "x_sim = np.concatenate([x_sim, x_outliers])[x_sim_idx]\n",
    "y_sim = np.concatenate([y_sim, y_outliers])[x_sim_idx]"
   ]
  },
  {
   "cell_type": "code",
   "execution_count": 46,
   "metadata": {},
   "outputs": [],
   "source": [
    "\n",
    "from sklearn.linear_model import LinearRegression\n",
    "ols = LinearRegression()\n",
    "ols.fit(np.sin(x_sim[:, np.newaxis]), y_sim)\n",
    "ols_pred = ols.predict(np.sin(x_sim[:, np.newaxis]))\n",
    "\n",
    "from sklearn.svm import SVR\n",
    "eps = 0.1\n",
    "svr = SVR(kernel=\"rbf\", epsilon=eps)\n",
    "svr.fit(x_sim[:, np.newaxis], y_sim)\n",
    "svr_pred = svr.predict(x_sim[:, np.newaxis])"
   ]
  },
  {
   "cell_type": "code",
   "execution_count": 47,
   "metadata": {},
   "outputs": [
    {
     "data": {
      "image/png": "[encoded data removed]",
      "text/plain": [
       "<Figure size 640x480 with 1 Axes>"
      ]
     },
     "metadata": {},
     "output_type": "display_data"
    }
   ],
   "source": [
    "plt.scatter(x_sim, y_sim, alpha=0.5, s=26)\n",
    "plt_ols, = plt.plot(x_sim, ols_pred, 'g')\n",
    "plt_svr, = plt.plot(x_sim, svr_pred, color='r')\n",
    "plt.xlabel(\"Bağımsız Değişken\")\n",
    "plt.ylabel(\"Bağımlı Değişken\")\n",
    "plt.ylim(-5.2, 2.2)\n",
    "plt.legend([plt_ols, plt_svr], ['EKK', 'SVR'], loc = 4);"
   ]
  },
  {
   "cell_type": "code",
   "execution_count": 48,
   "metadata": {},
   "outputs": [],
   "source": [
    "hit = pd.read_csv(\"Hitters.csv\")\n",
    "df = hit.copy()\n",
    "df = df.dropna()\n",
    "dms = pd.get_dummies(df[['League', 'Division', 'NewLeague']])\n",
    "y = df[\"Salary\"]\n",
    "X_ = df.drop(['Salary', 'League', 'Division', 'NewLeague'], axis=1).astype('float64')\n",
    "X = pd.concat([X_, dms[['League_N', 'Division_W', 'NewLeague_N']]], axis=1)\n",
    "X_train, X_test, y_train, y_test = train_test_split(X, y, \n",
    "                                                    test_size=0.25, \n",
    "                                                    random_state=42)"
   ]
  },
  {
   "cell_type": "code",
   "execution_count": 49,
   "metadata": {},
   "outputs": [],
   "source": [
    "svr_rbf = SVR(kernel=\"rbf\").fit(X_train, y_train)\n"
   ]
  },
  {
   "cell_type": "markdown",
   "metadata": {},
   "source": [
    "## Tahmin"
   ]
  },
  {
   "cell_type": "code",
   "execution_count": 50,
   "metadata": {},
   "outputs": [],
   "source": [
    "y_pred = svr_rbf.predict(X_test)"
   ]
  },
  {
   "cell_type": "code",
   "execution_count": 51,
   "metadata": {},
   "outputs": [
    {
     "data": {
      "text/plain": [
       "460.0032657244849"
      ]
     },
     "execution_count": 51,
     "metadata": {},
     "output_type": "execute_result"
    }
   ],
   "source": [
    "np.sqrt(mean_squared_error(y_test, y_pred))"
   ]
  },
  {
   "cell_type": "markdown",
   "metadata": {},
   "source": [
    "## Model Tuning"
   ]
  },
  {
   "cell_type": "code",
   "execution_count": 52,
   "metadata": {},
   "outputs": [
    {
     "data": {
      "text/html": [
       "<style>#sk-container-id-7 {color: black;}#sk-container-id-7 pre{padding: 0;}#sk-container-id-7 div.sk-toggleable {background-color: white;}#sk-container-id-7 label.sk-toggleable__label {cursor: pointer;display: block;width: 100%;margin-bottom: 0;padding: 0.3em;box-sizing: border-box;text-align: center;}#sk-container-id-7 label.sk-toggleable__label-arrow:before {content: \"▸\";float: left;margin-right: 0.25em;color: #696969;}#sk-container-id-7 label.sk-toggleable__label-arrow:hover:before {color: black;}#sk-container-id-7 div.sk-estimator:hover label.sk-toggleable__label-arrow:before {color: black;}#sk-container-id-7 div.sk-toggleable__content {max-height: 0;max-width: 0;overflow: hidden;text-align: left;background-color: #f0f8ff;}#sk-container-id-7 div.sk-toggleable__content pre {margin: 0.2em;color: black;border-radius: 0.25em;background-color: #f0f8ff;}#sk-container-id-7 input.sk-toggleable__control:checked~div.sk-toggleable__content {max-height: 200px;max-width: 100%;overflow: auto;}#sk-container-id-7 input.sk-toggleable__control:checked~label.sk-toggleable__label-arrow:before {content: \"▾\";}#sk-container-id-7 div.sk-estimator input.sk-toggleable__control:checked~label.sk-toggleable__label {background-color: #d4ebff;}#sk-container-id-7 div.sk-label input.sk-toggleable__control:checked~label.sk-toggleable__label {background-color: #d4ebff;}#sk-container-id-7 input.sk-hidden--visually {border: 0;clip: rect(1px 1px 1px 1px);clip: rect(1px, 1px, 1px, 1px);height: 1px;margin: -1px;overflow: hidden;padding: 0;position: absolute;width: 1px;}#sk-container-id-7 div.sk-estimator {font-family: monospace;background-color: #f0f8ff;border: 1px dotted black;border-radius: 0.25em;box-sizing: border-box;margin-bottom: 0.5em;}#sk-container-id-7 div.sk-estimator:hover {background-color: #d4ebff;}#sk-container-id-7 div.sk-parallel-item::after {content: \"\";width: 100%;border-bottom: 1px solid gray;flex-grow: 1;}#sk-container-id-7 div.sk-label:hover label.sk-toggleable__label {background-color: #d4ebff;}#sk-container-id-7 div.sk-serial::before {content: \"\";position: absolute;border-left: 1px solid gray;box-sizing: border-box;top: 0;bottom: 0;left: 50%;z-index: 0;}#sk-container-id-7 div.sk-serial {display: flex;flex-direction: column;align-items: center;background-color: white;padding-right: 0.2em;padding-left: 0.2em;position: relative;}#sk-container-id-7 div.sk-item {position: relative;z-index: 1;}#sk-container-id-7 div.sk-parallel {display: flex;align-items: stretch;justify-content: center;background-color: white;position: relative;}#sk-container-id-7 div.sk-item::before, #sk-container-id-7 div.sk-parallel-item::before {content: \"\";position: absolute;border-left: 1px solid gray;box-sizing: border-box;top: 0;bottom: 0;left: 50%;z-index: -1;}#sk-container-id-7 div.sk-parallel-item {display: flex;flex-direction: column;z-index: 1;position: relative;background-color: white;}#sk-container-id-7 div.sk-parallel-item:first-child::after {align-self: flex-end;width: 50%;}#sk-container-id-7 div.sk-parallel-item:last-child::after {align-self: flex-start;width: 50%;}#sk-container-id-7 div.sk-parallel-item:only-child::after {width: 0;}#sk-container-id-7 div.sk-dashed-wrapped {border: 1px dashed gray;margin: 0 0.4em 0.5em 0.4em;box-sizing: border-box;padding-bottom: 0.4em;background-color: white;}#sk-container-id-7 div.sk-label label {font-family: monospace;font-weight: bold;display: inline-block;line-height: 1.2em;}#sk-container-id-7 div.sk-label-container {text-align: center;}#sk-container-id-7 div.sk-container {/* jupyter's `normalize.less` sets `[hidden] { display: none; }` but bootstrap.min.css set `[hidden] { display: none !important; }` so we also need the `!important` here to be able to override the default hidden behavior on the sphinx rendered scikit-learn.org. See: https://github.com/scikit-learn/scikit-learn/issues/21755 */display: inline-block !important;position: relative;}#sk-container-id-7 div.sk-text-repr-fallback {display: none;}</style><div id=\"sk-container-id-7\" class=\"sk-top-container\"><div class=\"sk-text-repr-fallback\"><pre>SVR()</pre><b>In a Jupyter environment, please rerun this cell to show the HTML representation or trust the notebook. <br />On GitHub, the HTML representation is unable to render, please try loading this page with nbviewer.org.</b></div><div class=\"sk-container\" hidden><div class=\"sk-item\"><div class=\"sk-estimator sk-toggleable\"><input class=\"sk-toggleable__control sk-hidden--visually\" id=\"sk-estimator-id-9\" type=\"checkbox\" checked><label for=\"sk-estimator-id-9\" class=\"sk-toggleable__label sk-toggleable__label-arrow\">SVR</label><div class=\"sk-toggleable__content\"><pre>SVR()</pre></div></div></div></div></div>"
      ],
      "text/plain": [
       "SVR()"
      ]
     },
     "execution_count": 52,
     "metadata": {},
     "output_type": "execute_result"
    }
   ],
   "source": [
    "svr_rbf"
   ]
  },
  {
   "cell_type": "code",
   "execution_count": 53,
   "metadata": {},
   "outputs": [
    {
     "data": {
      "text/html": [
       "<style>#sk-container-id-8 {color: black;}#sk-container-id-8 pre{padding: 0;}#sk-container-id-8 div.sk-toggleable {background-color: white;}#sk-container-id-8 label.sk-toggleable__label {cursor: pointer;display: block;width: 100%;margin-bottom: 0;padding: 0.3em;box-sizing: border-box;text-align: center;}#sk-container-id-8 label.sk-toggleable__label-arrow:before {content: \"▸\";float: left;margin-right: 0.25em;color: #696969;}#sk-container-id-8 label.sk-toggleable__label-arrow:hover:before {color: black;}#sk-container-id-8 div.sk-estimator:hover label.sk-toggleable__label-arrow:before {color: black;}#sk-container-id-8 div.sk-toggleable__content {max-height: 0;max-width: 0;overflow: hidden;text-align: left;background-color: #f0f8ff;}#sk-container-id-8 div.sk-toggleable__content pre {margin: 0.2em;color: black;border-radius: 0.25em;background-color: #f0f8ff;}#sk-container-id-8 input.sk-toggleable__control:checked~div.sk-toggleable__content {max-height: 200px;max-width: 100%;overflow: auto;}#sk-container-id-8 input.sk-toggleable__control:checked~label.sk-toggleable__label-arrow:before {content: \"▾\";}#sk-container-id-8 div.sk-estimator input.sk-toggleable__control:checked~label.sk-toggleable__label {background-color: #d4ebff;}#sk-container-id-8 div.sk-label input.sk-toggleable__control:checked~label.sk-toggleable__label {background-color: #d4ebff;}#sk-container-id-8 input.sk-hidden--visually {border: 0;clip: rect(1px 1px 1px 1px);clip: rect(1px, 1px, 1px, 1px);height: 1px;margin: -1px;overflow: hidden;padding: 0;position: absolute;width: 1px;}#sk-container-id-8 div.sk-estimator {font-family: monospace;background-color: #f0f8ff;border: 1px dotted black;border-radius: 0.25em;box-sizing: border-box;margin-bottom: 0.5em;}#sk-container-id-8 div.sk-estimator:hover {background-color: #d4ebff;}#sk-container-id-8 div.sk-parallel-item::after {content: \"\";width: 100%;border-bottom: 1px solid gray;flex-grow: 1;}#sk-container-id-8 div.sk-label:hover label.sk-toggleable__label {background-color: #d4ebff;}#sk-container-id-8 div.sk-serial::before {content: \"\";position: absolute;border-left: 1px solid gray;box-sizing: border-box;top: 0;bottom: 0;left: 50%;z-index: 0;}#sk-container-id-8 div.sk-serial {display: flex;flex-direction: column;align-items: center;background-color: white;padding-right: 0.2em;padding-left: 0.2em;position: relative;}#sk-container-id-8 div.sk-item {position: relative;z-index: 1;}#sk-container-id-8 div.sk-parallel {display: flex;align-items: stretch;justify-content: center;background-color: white;position: relative;}#sk-container-id-8 div.sk-item::before, #sk-container-id-8 div.sk-parallel-item::before {content: \"\";position: absolute;border-left: 1px solid gray;box-sizing: border-box;top: 0;bottom: 0;left: 50%;z-index: -1;}#sk-container-id-8 div.sk-parallel-item {display: flex;flex-direction: column;z-index: 1;position: relative;background-color: white;}#sk-container-id-8 div.sk-parallel-item:first-child::after {align-self: flex-end;width: 50%;}#sk-container-id-8 div.sk-parallel-item:last-child::after {align-self: flex-start;width: 50%;}#sk-container-id-8 div.sk-parallel-item:only-child::after {width: 0;}#sk-container-id-8 div.sk-dashed-wrapped {border: 1px dashed gray;margin: 0 0.4em 0.5em 0.4em;box-sizing: border-box;padding-bottom: 0.4em;background-color: white;}#sk-container-id-8 div.sk-label label {font-family: monospace;font-weight: bold;display: inline-block;line-height: 1.2em;}#sk-container-id-8 div.sk-label-container {text-align: center;}#sk-container-id-8 div.sk-container {/* jupyter's `normalize.less` sets `[hidden] { display: none; }` but bootstrap.min.css set `[hidden] { display: none !important; }` so we also need the `!important` here to be able to override the default hidden behavior on the sphinx rendered scikit-learn.org. See: https://github.com/scikit-learn/scikit-learn/issues/21755 */display: inline-block !important;position: relative;}#sk-container-id-8 div.sk-text-repr-fallback {display: none;}</style><div id=\"sk-container-id-8\" class=\"sk-top-container\"><div class=\"sk-text-repr-fallback\"><pre>GridSearchCV(cv=10, estimator=SVR(),\n",
       "             param_grid={&#x27;C&#x27;: [0.01, 0.1, 0.4, 5, 10, 20, 30, 40, 50]})</pre><b>In a Jupyter environment, please rerun this cell to show the HTML representation or trust the notebook. <br />On GitHub, the HTML representation is unable to render, please try loading this page with nbviewer.org.</b></div><div class=\"sk-container\" hidden><div class=\"sk-item sk-dashed-wrapped\"><div class=\"sk-label-container\"><div class=\"sk-label sk-toggleable\"><input class=\"sk-toggleable__control sk-hidden--visually\" id=\"sk-estimator-id-10\" type=\"checkbox\" ><label for=\"sk-estimator-id-10\" class=\"sk-toggleable__label sk-toggleable__label-arrow\">GridSearchCV</label><div class=\"sk-toggleable__content\"><pre>GridSearchCV(cv=10, estimator=SVR(),\n",
       "             param_grid={&#x27;C&#x27;: [0.01, 0.1, 0.4, 5, 10, 20, 30, 40, 50]})</pre></div></div></div><div class=\"sk-parallel\"><div class=\"sk-parallel-item\"><div class=\"sk-item\"><div class=\"sk-label-container\"><div class=\"sk-label sk-toggleable\"><input class=\"sk-toggleable__control sk-hidden--visually\" id=\"sk-estimator-id-11\" type=\"checkbox\" ><label for=\"sk-estimator-id-11\" class=\"sk-toggleable__label sk-toggleable__label-arrow\">estimator: SVR</label><div class=\"sk-toggleable__content\"><pre>SVR()</pre></div></div></div><div class=\"sk-serial\"><div class=\"sk-item\"><div class=\"sk-estimator sk-toggleable\"><input class=\"sk-toggleable__control sk-hidden--visually\" id=\"sk-estimator-id-12\" type=\"checkbox\" ><label for=\"sk-estimator-id-12\" class=\"sk-toggleable__label sk-toggleable__label-arrow\">SVR</label><div class=\"sk-toggleable__content\"><pre>SVR()</pre></div></div></div></div></div></div></div></div></div></div>"
      ],
      "text/plain": [
       "GridSearchCV(cv=10, estimator=SVR(),\n",
       "             param_grid={'C': [0.01, 0.1, 0.4, 5, 10, 20, 30, 40, 50]})"
      ]
     },
     "execution_count": 53,
     "metadata": {},
     "output_type": "execute_result"
    }
   ],
   "source": [
    "svr_params = {\"C\": [0.01, 0.1,0.4,5,10,20,30,40,50]}\n",
    "svr_cv_model = GridSearchCV(svr_rbf,svr_params, cv = 10)\n",
    "svr_cv_model.fit(X_train, y_train)"
   ]
  },
  {
   "cell_type": "code",
   "execution_count": 54,
   "metadata": {},
   "outputs": [
    {
     "data": {
      "text/plain": [
       "50"
      ]
     },
     "execution_count": 54,
     "metadata": {},
     "output_type": "execute_result"
    }
   ],
   "source": [
    "pd.Series(svr_cv_model.best_params_)[0]"
   ]
  },
  {
   "cell_type": "code",
   "execution_count": 55,
   "metadata": {},
   "outputs": [
    {
     "data": {
      "text/html": [
       "<style>#sk-container-id-9 {color: black;}#sk-container-id-9 pre{padding: 0;}#sk-container-id-9 div.sk-toggleable {background-color: white;}#sk-container-id-9 label.sk-toggleable__label {cursor: pointer;display: block;width: 100%;margin-bottom: 0;padding: 0.3em;box-sizing: border-box;text-align: center;}#sk-container-id-9 label.sk-toggleable__label-arrow:before {content: \"▸\";float: left;margin-right: 0.25em;color: #696969;}#sk-container-id-9 label.sk-toggleable__label-arrow:hover:before {color: black;}#sk-container-id-9 div.sk-estimator:hover label.sk-toggleable__label-arrow:before {color: black;}#sk-container-id-9 div.sk-toggleable__content {max-height: 0;max-width: 0;overflow: hidden;text-align: left;background-color: #f0f8ff;}#sk-container-id-9 div.sk-toggleable__content pre {margin: 0.2em;color: black;border-radius: 0.25em;background-color: #f0f8ff;}#sk-container-id-9 input.sk-toggleable__control:checked~div.sk-toggleable__content {max-height: 200px;max-width: 100%;overflow: auto;}#sk-container-id-9 input.sk-toggleable__control:checked~label.sk-toggleable__label-arrow:before {content: \"▾\";}#sk-container-id-9 div.sk-estimator input.sk-toggleable__control:checked~label.sk-toggleable__label {background-color: #d4ebff;}#sk-container-id-9 div.sk-label input.sk-toggleable__control:checked~label.sk-toggleable__label {background-color: #d4ebff;}#sk-container-id-9 input.sk-hidden--visually {border: 0;clip: rect(1px 1px 1px 1px);clip: rect(1px, 1px, 1px, 1px);height: 1px;margin: -1px;overflow: hidden;padding: 0;position: absolute;width: 1px;}#sk-container-id-9 div.sk-estimator {font-family: monospace;background-color: #f0f8ff;border: 1px dotted black;border-radius: 0.25em;box-sizing: border-box;margin-bottom: 0.5em;}#sk-container-id-9 div.sk-estimator:hover {background-color: #d4ebff;}#sk-container-id-9 div.sk-parallel-item::after {content: \"\";width: 100%;border-bottom: 1px solid gray;flex-grow: 1;}#sk-container-id-9 div.sk-label:hover label.sk-toggleable__label {background-color: #d4ebff;}#sk-container-id-9 div.sk-serial::before {content: \"\";position: absolute;border-left: 1px solid gray;box-sizing: border-box;top: 0;bottom: 0;left: 50%;z-index: 0;}#sk-container-id-9 div.sk-serial {display: flex;flex-direction: column;align-items: center;background-color: white;padding-right: 0.2em;padding-left: 0.2em;position: relative;}#sk-container-id-9 div.sk-item {position: relative;z-index: 1;}#sk-container-id-9 div.sk-parallel {display: flex;align-items: stretch;justify-content: center;background-color: white;position: relative;}#sk-container-id-9 div.sk-item::before, #sk-container-id-9 div.sk-parallel-item::before {content: \"\";position: absolute;border-left: 1px solid gray;box-sizing: border-box;top: 0;bottom: 0;left: 50%;z-index: -1;}#sk-container-id-9 div.sk-parallel-item {display: flex;flex-direction: column;z-index: 1;position: relative;background-color: white;}#sk-container-id-9 div.sk-parallel-item:first-child::after {align-self: flex-end;width: 50%;}#sk-container-id-9 div.sk-parallel-item:last-child::after {align-self: flex-start;width: 50%;}#sk-container-id-9 div.sk-parallel-item:only-child::after {width: 0;}#sk-container-id-9 div.sk-dashed-wrapped {border: 1px dashed gray;margin: 0 0.4em 0.5em 0.4em;box-sizing: border-box;padding-bottom: 0.4em;background-color: white;}#sk-container-id-9 div.sk-label label {font-family: monospace;font-weight: bold;display: inline-block;line-height: 1.2em;}#sk-container-id-9 div.sk-label-container {text-align: center;}#sk-container-id-9 div.sk-container {/* jupyter's `normalize.less` sets `[hidden] { display: none; }` but bootstrap.min.css set `[hidden] { display: none !important; }` so we also need the `!important` here to be able to override the default hidden behavior on the sphinx rendered scikit-learn.org. See: https://github.com/scikit-learn/scikit-learn/issues/21755 */display: inline-block !important;position: relative;}#sk-container-id-9 div.sk-text-repr-fallback {display: none;}</style><div id=\"sk-container-id-9\" class=\"sk-top-container\"><div class=\"sk-text-repr-fallback\"><pre>SVR(C=50)</pre><b>In a Jupyter environment, please rerun this cell to show the HTML representation or trust the notebook. <br />On GitHub, the HTML representation is unable to render, please try loading this page with nbviewer.org.</b></div><div class=\"sk-container\" hidden><div class=\"sk-item\"><div class=\"sk-estimator sk-toggleable\"><input class=\"sk-toggleable__control sk-hidden--visually\" id=\"sk-estimator-id-13\" type=\"checkbox\" checked><label for=\"sk-estimator-id-13\" class=\"sk-toggleable__label sk-toggleable__label-arrow\">SVR</label><div class=\"sk-toggleable__content\"><pre>SVR(C=50)</pre></div></div></div></div></div>"
      ],
      "text/plain": [
       "SVR(C=50)"
      ]
     },
     "execution_count": 55,
     "metadata": {},
     "output_type": "execute_result"
    }
   ],
   "source": [
    "svr_tuned = SVR(kernel=\"rbf\", C = pd.Series(svr_cv_model.best_params_)[0])\n",
    "svr_tuned.fit(X_train, y_train)\n"
   ]
  },
  {
   "cell_type": "code",
   "execution_count": 56,
   "metadata": {},
   "outputs": [
    {
     "data": {
      "text/plain": [
       "428.00406888095694"
      ]
     },
     "execution_count": 56,
     "metadata": {},
     "output_type": "execute_result"
    }
   ],
   "source": [
    "y_pred = svr_tuned.predict(X_test)\n",
    "\n",
    "np.sqrt(mean_squared_error(y_test, y_pred))"
   ]
  },
  {
   "cell_type": "markdown",
   "metadata": {},
   "source": [
    "# Çok Katmanlı Algılayıcı"
   ]
  },
  {
   "cell_type": "code",
   "execution_count": 57,
   "metadata": {},
   "outputs": [],
   "source": [
    "hit = pd.read_csv(\"Hitters.csv\")\n",
    "df = hit.copy()\n",
    "df = df.dropna()\n",
    "dms = pd.get_dummies(df[['League', 'Division', 'NewLeague']])\n",
    "y = df[\"Salary\"]\n",
    "X_ = df.drop(['Salary', 'League', 'Division', 'NewLeague'], axis=1).astype('float64')\n",
    "X = pd.concat([X_, dms[['League_N', 'Division_W', 'NewLeague_N']]], axis=1)\n",
    "X_train, X_test, y_train, y_test = train_test_split(X, y, \n",
    "                                                    test_size=0.25, \n",
    "                                                    random_state=42)"
   ]
  },
  {
   "cell_type": "code",
   "execution_count": 58,
   "metadata": {},
   "outputs": [],
   "source": [
    "from sklearn.preprocessing import StandardScaler"
   ]
  },
  {
   "cell_type": "code",
   "execution_count": 59,
   "metadata": {},
   "outputs": [
    {
     "data": {
      "text/html": [
       "<style>#sk-container-id-10 {color: black;}#sk-container-id-10 pre{padding: 0;}#sk-container-id-10 div.sk-toggleable {background-color: white;}#sk-container-id-10 label.sk-toggleable__label {cursor: pointer;display: block;width: 100%;margin-bottom: 0;padding: 0.3em;box-sizing: border-box;text-align: center;}#sk-container-id-10 label.sk-toggleable__label-arrow:before {content: \"▸\";float: left;margin-right: 0.25em;color: #696969;}#sk-container-id-10 label.sk-toggleable__label-arrow:hover:before {color: black;}#sk-container-id-10 div.sk-estimator:hover label.sk-toggleable__label-arrow:before {color: black;}#sk-container-id-10 div.sk-toggleable__content {max-height: 0;max-width: 0;overflow: hidden;text-align: left;background-color: #f0f8ff;}#sk-container-id-10 div.sk-toggleable__content pre {margin: 0.2em;color: black;border-radius: 0.25em;background-color: #f0f8ff;}#sk-container-id-10 input.sk-toggleable__control:checked~div.sk-toggleable__content {max-height: 200px;max-width: 100%;overflow: auto;}#sk-container-id-10 input.sk-toggleable__control:checked~label.sk-toggleable__label-arrow:before {content: \"▾\";}#sk-container-id-10 div.sk-estimator input.sk-toggleable__control:checked~label.sk-toggleable__label {background-color: #d4ebff;}#sk-container-id-10 div.sk-label input.sk-toggleable__control:checked~label.sk-toggleable__label {background-color: #d4ebff;}#sk-container-id-10 input.sk-hidden--visually {border: 0;clip: rect(1px 1px 1px 1px);clip: rect(1px, 1px, 1px, 1px);height: 1px;margin: -1px;overflow: hidden;padding: 0;position: absolute;width: 1px;}#sk-container-id-10 div.sk-estimator {font-family: monospace;background-color: #f0f8ff;border: 1px dotted black;border-radius: 0.25em;box-sizing: border-box;margin-bottom: 0.5em;}#sk-container-id-10 div.sk-estimator:hover {background-color: #d4ebff;}#sk-container-id-10 div.sk-parallel-item::after {content: \"\";width: 100%;border-bottom: 1px solid gray;flex-grow: 1;}#sk-container-id-10 div.sk-label:hover label.sk-toggleable__label {background-color: #d4ebff;}#sk-container-id-10 div.sk-serial::before {content: \"\";position: absolute;border-left: 1px solid gray;box-sizing: border-box;top: 0;bottom: 0;left: 50%;z-index: 0;}#sk-container-id-10 div.sk-serial {display: flex;flex-direction: column;align-items: center;background-color: white;padding-right: 0.2em;padding-left: 0.2em;position: relative;}#sk-container-id-10 div.sk-item {position: relative;z-index: 1;}#sk-container-id-10 div.sk-parallel {display: flex;align-items: stretch;justify-content: center;background-color: white;position: relative;}#sk-container-id-10 div.sk-item::before, #sk-container-id-10 div.sk-parallel-item::before {content: \"\";position: absolute;border-left: 1px solid gray;box-sizing: border-box;top: 0;bottom: 0;left: 50%;z-index: -1;}#sk-container-id-10 div.sk-parallel-item {display: flex;flex-direction: column;z-index: 1;position: relative;background-color: white;}#sk-container-id-10 div.sk-parallel-item:first-child::after {align-self: flex-end;width: 50%;}#sk-container-id-10 div.sk-parallel-item:last-child::after {align-self: flex-start;width: 50%;}#sk-container-id-10 div.sk-parallel-item:only-child::after {width: 0;}#sk-container-id-10 div.sk-dashed-wrapped {border: 1px dashed gray;margin: 0 0.4em 0.5em 0.4em;box-sizing: border-box;padding-bottom: 0.4em;background-color: white;}#sk-container-id-10 div.sk-label label {font-family: monospace;font-weight: bold;display: inline-block;line-height: 1.2em;}#sk-container-id-10 div.sk-label-container {text-align: center;}#sk-container-id-10 div.sk-container {/* jupyter's `normalize.less` sets `[hidden] { display: none; }` but bootstrap.min.css set `[hidden] { display: none !important; }` so we also need the `!important` here to be able to override the default hidden behavior on the sphinx rendered scikit-learn.org. See: https://github.com/scikit-learn/scikit-learn/issues/21755 */display: inline-block !important;position: relative;}#sk-container-id-10 div.sk-text-repr-fallback {display: none;}</style><div id=\"sk-container-id-10\" class=\"sk-top-container\"><div class=\"sk-text-repr-fallback\"><pre>StandardScaler()</pre><b>In a Jupyter environment, please rerun this cell to show the HTML representation or trust the notebook. <br />On GitHub, the HTML representation is unable to render, please try loading this page with nbviewer.org.</b></div><div class=\"sk-container\" hidden><div class=\"sk-item\"><div class=\"sk-estimator sk-toggleable\"><input class=\"sk-toggleable__control sk-hidden--visually\" id=\"sk-estimator-id-14\" type=\"checkbox\" checked><label for=\"sk-estimator-id-14\" class=\"sk-toggleable__label sk-toggleable__label-arrow\">StandardScaler</label><div class=\"sk-toggleable__content\"><pre>StandardScaler()</pre></div></div></div></div></div>"
      ],
      "text/plain": [
       "StandardScaler()"
      ]
     },
     "execution_count": 59,
     "metadata": {},
     "output_type": "execute_result"
    }
   ],
   "source": [
    "scaler = StandardScaler()\n",
    "scaler.fit(X_train)"
   ]
  },
  {
   "cell_type": "code",
   "execution_count": 60,
   "metadata": {},
   "outputs": [],
   "source": [
    "X_train_scaled = scaler.transform(X_train)"
   ]
  },
  {
   "cell_type": "code",
   "execution_count": 61,
   "metadata": {},
   "outputs": [],
   "source": [
    "X_test_scaled = scaler.transform(X_test)"
   ]
  },
  {
   "cell_type": "code",
   "execution_count": 62,
   "metadata": {},
   "outputs": [],
   "source": [
    "from sklearn.neural_network import MLPRegressor"
   ]
  },
  {
   "cell_type": "code",
   "execution_count": 63,
   "metadata": {},
   "outputs": [],
   "source": [
    "mlp_model = MLPRegressor(hidden_layer_sizes = (100,20)).fit(X_train_scaled, y_train)"
   ]
  },
  {
   "cell_type": "code",
   "execution_count": 64,
   "metadata": {},
   "outputs": [
    {
     "data": {
      "text/html": [
       "<style>#sk-container-id-11 {color: black;}#sk-container-id-11 pre{padding: 0;}#sk-container-id-11 div.sk-toggleable {background-color: white;}#sk-container-id-11 label.sk-toggleable__label {cursor: pointer;display: block;width: 100%;margin-bottom: 0;padding: 0.3em;box-sizing: border-box;text-align: center;}#sk-container-id-11 label.sk-toggleable__label-arrow:before {content: \"▸\";float: left;margin-right: 0.25em;color: #696969;}#sk-container-id-11 label.sk-toggleable__label-arrow:hover:before {color: black;}#sk-container-id-11 div.sk-estimator:hover label.sk-toggleable__label-arrow:before {color: black;}#sk-container-id-11 div.sk-toggleable__content {max-height: 0;max-width: 0;overflow: hidden;text-align: left;background-color: #f0f8ff;}#sk-container-id-11 div.sk-toggleable__content pre {margin: 0.2em;color: black;border-radius: 0.25em;background-color: #f0f8ff;}#sk-container-id-11 input.sk-toggleable__control:checked~div.sk-toggleable__content {max-height: 200px;max-width: 100%;overflow: auto;}#sk-container-id-11 input.sk-toggleable__control:checked~label.sk-toggleable__label-arrow:before {content: \"▾\";}#sk-container-id-11 div.sk-estimator input.sk-toggleable__control:checked~label.sk-toggleable__label {background-color: #d4ebff;}#sk-container-id-11 div.sk-label input.sk-toggleable__control:checked~label.sk-toggleable__label {background-color: #d4ebff;}#sk-container-id-11 input.sk-hidden--visually {border: 0;clip: rect(1px 1px 1px 1px);clip: rect(1px, 1px, 1px, 1px);height: 1px;margin: -1px;overflow: hidden;padding: 0;position: absolute;width: 1px;}#sk-container-id-11 div.sk-estimator {font-family: monospace;background-color: #f0f8ff;border: 1px dotted black;border-radius: 0.25em;box-sizing: border-box;margin-bottom: 0.5em;}#sk-container-id-11 div.sk-estimator:hover {background-color: #d4ebff;}#sk-container-id-11 div.sk-parallel-item::after {content: \"\";width: 100%;border-bottom: 1px solid gray;flex-grow: 1;}#sk-container-id-11 div.sk-label:hover label.sk-toggleable__label {background-color: #d4ebff;}#sk-container-id-11 div.sk-serial::before {content: \"\";position: absolute;border-left: 1px solid gray;box-sizing: border-box;top: 0;bottom: 0;left: 50%;z-index: 0;}#sk-container-id-11 div.sk-serial {display: flex;flex-direction: column;align-items: center;background-color: white;padding-right: 0.2em;padding-left: 0.2em;position: relative;}#sk-container-id-11 div.sk-item {position: relative;z-index: 1;}#sk-container-id-11 div.sk-parallel {display: flex;align-items: stretch;justify-content: center;background-color: white;position: relative;}#sk-container-id-11 div.sk-item::before, #sk-container-id-11 div.sk-parallel-item::before {content: \"\";position: absolute;border-left: 1px solid gray;box-sizing: border-box;top: 0;bottom: 0;left: 50%;z-index: -1;}#sk-container-id-11 div.sk-parallel-item {display: flex;flex-direction: column;z-index: 1;position: relative;background-color: white;}#sk-container-id-11 div.sk-parallel-item:first-child::after {align-self: flex-end;width: 50%;}#sk-container-id-11 div.sk-parallel-item:last-child::after {align-self: flex-start;width: 50%;}#sk-container-id-11 div.sk-parallel-item:only-child::after {width: 0;}#sk-container-id-11 div.sk-dashed-wrapped {border: 1px dashed gray;margin: 0 0.4em 0.5em 0.4em;box-sizing: border-box;padding-bottom: 0.4em;background-color: white;}#sk-container-id-11 div.sk-label label {font-family: monospace;font-weight: bold;display: inline-block;line-height: 1.2em;}#sk-container-id-11 div.sk-label-container {text-align: center;}#sk-container-id-11 div.sk-container {/* jupyter's `normalize.less` sets `[hidden] { display: none; }` but bootstrap.min.css set `[hidden] { display: none !important; }` so we also need the `!important` here to be able to override the default hidden behavior on the sphinx rendered scikit-learn.org. See: https://github.com/scikit-learn/scikit-learn/issues/21755 */display: inline-block !important;position: relative;}#sk-container-id-11 div.sk-text-repr-fallback {display: none;}</style><div id=\"sk-container-id-11\" class=\"sk-top-container\"><div class=\"sk-text-repr-fallback\"><pre>MLPRegressor(hidden_layer_sizes=(100, 20))</pre><b>In a Jupyter environment, please rerun this cell to show the HTML representation or trust the notebook. <br />On GitHub, the HTML representation is unable to render, please try loading this page with nbviewer.org.</b></div><div class=\"sk-container\" hidden><div class=\"sk-item\"><div class=\"sk-estimator sk-toggleable\"><input class=\"sk-toggleable__control sk-hidden--visually\" id=\"sk-estimator-id-15\" type=\"checkbox\" checked><label for=\"sk-estimator-id-15\" class=\"sk-toggleable__label sk-toggleable__label-arrow\">MLPRegressor</label><div class=\"sk-toggleable__content\"><pre>MLPRegressor(hidden_layer_sizes=(100, 20))</pre></div></div></div></div></div>"
      ],
      "text/plain": [
       "MLPRegressor(hidden_layer_sizes=(100, 20))"
      ]
     },
     "execution_count": 64,
     "metadata": {},
     "output_type": "execute_result"
    }
   ],
   "source": [
    "mlp_model"
   ]
  },
  {
   "cell_type": "code",
   "execution_count": 65,
   "metadata": {},
   "outputs": [
    {
     "data": {
      "text/plain": [
       "4"
      ]
     },
     "execution_count": 65,
     "metadata": {},
     "output_type": "execute_result"
    }
   ],
   "source": [
    "mlp_model.n_layers_"
   ]
  },
  {
   "cell_type": "code",
   "execution_count": 66,
   "metadata": {},
   "outputs": [
    {
     "data": {
      "text/plain": [
       "(100, 20)"
      ]
     },
     "execution_count": 66,
     "metadata": {},
     "output_type": "execute_result"
    }
   ],
   "source": [
    "mlp_model.hidden_layer_sizes"
   ]
  },
  {
   "cell_type": "markdown",
   "metadata": {},
   "source": [
    "## Tahmin"
   ]
  },
  {
   "cell_type": "code",
   "execution_count": 67,
   "metadata": {},
   "outputs": [],
   "source": [
    "y_pred = mlp_model.predict(X_test_scaled)"
   ]
  },
  {
   "cell_type": "code",
   "execution_count": 68,
   "metadata": {},
   "outputs": [
    {
     "data": {
      "text/plain": [
       "527.4270090447499"
      ]
     },
     "execution_count": 68,
     "metadata": {},
     "output_type": "execute_result"
    }
   ],
   "source": [
    "np.sqrt(mean_squared_error(y_test, y_pred))"
   ]
  },
  {
   "cell_type": "markdown",
   "metadata": {},
   "source": [
    "## Model Tuning"
   ]
  },
  {
   "cell_type": "code",
   "execution_count": 69,
   "metadata": {},
   "outputs": [
    {
     "data": {
      "text/html": [
       "<style>#sk-container-id-12 {color: black;}#sk-container-id-12 pre{padding: 0;}#sk-container-id-12 div.sk-toggleable {background-color: white;}#sk-container-id-12 label.sk-toggleable__label {cursor: pointer;display: block;width: 100%;margin-bottom: 0;padding: 0.3em;box-sizing: border-box;text-align: center;}#sk-container-id-12 label.sk-toggleable__label-arrow:before {content: \"▸\";float: left;margin-right: 0.25em;color: #696969;}#sk-container-id-12 label.sk-toggleable__label-arrow:hover:before {color: black;}#sk-container-id-12 div.sk-estimator:hover label.sk-toggleable__label-arrow:before {color: black;}#sk-container-id-12 div.sk-toggleable__content {max-height: 0;max-width: 0;overflow: hidden;text-align: left;background-color: #f0f8ff;}#sk-container-id-12 div.sk-toggleable__content pre {margin: 0.2em;color: black;border-radius: 0.25em;background-color: #f0f8ff;}#sk-container-id-12 input.sk-toggleable__control:checked~div.sk-toggleable__content {max-height: 200px;max-width: 100%;overflow: auto;}#sk-container-id-12 input.sk-toggleable__control:checked~label.sk-toggleable__label-arrow:before {content: \"▾\";}#sk-container-id-12 div.sk-estimator input.sk-toggleable__control:checked~label.sk-toggleable__label {background-color: #d4ebff;}#sk-container-id-12 div.sk-label input.sk-toggleable__control:checked~label.sk-toggleable__label {background-color: #d4ebff;}#sk-container-id-12 input.sk-hidden--visually {border: 0;clip: rect(1px 1px 1px 1px);clip: rect(1px, 1px, 1px, 1px);height: 1px;margin: -1px;overflow: hidden;padding: 0;position: absolute;width: 1px;}#sk-container-id-12 div.sk-estimator {font-family: monospace;background-color: #f0f8ff;border: 1px dotted black;border-radius: 0.25em;box-sizing: border-box;margin-bottom: 0.5em;}#sk-container-id-12 div.sk-estimator:hover {background-color: #d4ebff;}#sk-container-id-12 div.sk-parallel-item::after {content: \"\";width: 100%;border-bottom: 1px solid gray;flex-grow: 1;}#sk-container-id-12 div.sk-label:hover label.sk-toggleable__label {background-color: #d4ebff;}#sk-container-id-12 div.sk-serial::before {content: \"\";position: absolute;border-left: 1px solid gray;box-sizing: border-box;top: 0;bottom: 0;left: 50%;z-index: 0;}#sk-container-id-12 div.sk-serial {display: flex;flex-direction: column;align-items: center;background-color: white;padding-right: 0.2em;padding-left: 0.2em;position: relative;}#sk-container-id-12 div.sk-item {position: relative;z-index: 1;}#sk-container-id-12 div.sk-parallel {display: flex;align-items: stretch;justify-content: center;background-color: white;position: relative;}#sk-container-id-12 div.sk-item::before, #sk-container-id-12 div.sk-parallel-item::before {content: \"\";position: absolute;border-left: 1px solid gray;box-sizing: border-box;top: 0;bottom: 0;left: 50%;z-index: -1;}#sk-container-id-12 div.sk-parallel-item {display: flex;flex-direction: column;z-index: 1;position: relative;background-color: white;}#sk-container-id-12 div.sk-parallel-item:first-child::after {align-self: flex-end;width: 50%;}#sk-container-id-12 div.sk-parallel-item:last-child::after {align-self: flex-start;width: 50%;}#sk-container-id-12 div.sk-parallel-item:only-child::after {width: 0;}#sk-container-id-12 div.sk-dashed-wrapped {border: 1px dashed gray;margin: 0 0.4em 0.5em 0.4em;box-sizing: border-box;padding-bottom: 0.4em;background-color: white;}#sk-container-id-12 div.sk-label label {font-family: monospace;font-weight: bold;display: inline-block;line-height: 1.2em;}#sk-container-id-12 div.sk-label-container {text-align: center;}#sk-container-id-12 div.sk-container {/* jupyter's `normalize.less` sets `[hidden] { display: none; }` but bootstrap.min.css set `[hidden] { display: none !important; }` so we also need the `!important` here to be able to override the default hidden behavior on the sphinx rendered scikit-learn.org. See: https://github.com/scikit-learn/scikit-learn/issues/21755 */display: inline-block !important;position: relative;}#sk-container-id-12 div.sk-text-repr-fallback {display: none;}</style><div id=\"sk-container-id-12\" class=\"sk-top-container\"><div class=\"sk-text-repr-fallback\"><pre>MLPRegressor(hidden_layer_sizes=(100, 20))</pre><b>In a Jupyter environment, please rerun this cell to show the HTML representation or trust the notebook. <br />On GitHub, the HTML representation is unable to render, please try loading this page with nbviewer.org.</b></div><div class=\"sk-container\" hidden><div class=\"sk-item\"><div class=\"sk-estimator sk-toggleable\"><input class=\"sk-toggleable__control sk-hidden--visually\" id=\"sk-estimator-id-16\" type=\"checkbox\" checked><label for=\"sk-estimator-id-16\" class=\"sk-toggleable__label sk-toggleable__label-arrow\">MLPRegressor</label><div class=\"sk-toggleable__content\"><pre>MLPRegressor(hidden_layer_sizes=(100, 20))</pre></div></div></div></div></div>"
      ],
      "text/plain": [
       "MLPRegressor(hidden_layer_sizes=(100, 20))"
      ]
     },
     "execution_count": 69,
     "metadata": {},
     "output_type": "execute_result"
    }
   ],
   "source": [
    "mlp_model"
   ]
  },
  {
   "cell_type": "code",
   "execution_count": 70,
   "metadata": {},
   "outputs": [],
   "source": [
    "mlp_params = {'alpha': [0.1, 0.01,0.02,0.005],\n",
    "             'hidden_layer_sizes': [(20,20),(100,50,150),(300,200,150)],\n",
    "             'activation': ['relu','logistic']}"
   ]
  },
  {
   "cell_type": "code",
   "execution_count": 71,
   "metadata": {},
   "outputs": [],
   "source": [
    "mlp_cv_model = GridSearchCV(mlp_model, mlp_params, cv = 10)"
   ]
  },
  {
   "cell_type": "code",
   "execution_count": 72,
   "metadata": {},
   "outputs": [
    {
     "data": {
      "text/html": [
       "<style>#sk-container-id-13 {color: black;}#sk-container-id-13 pre{padding: 0;}#sk-container-id-13 div.sk-toggleable {background-color: white;}#sk-container-id-13 label.sk-toggleable__label {cursor: pointer;display: block;width: 100%;margin-bottom: 0;padding: 0.3em;box-sizing: border-box;text-align: center;}#sk-container-id-13 label.sk-toggleable__label-arrow:before {content: \"▸\";float: left;margin-right: 0.25em;color: #696969;}#sk-container-id-13 label.sk-toggleable__label-arrow:hover:before {color: black;}#sk-container-id-13 div.sk-estimator:hover label.sk-toggleable__label-arrow:before {color: black;}#sk-container-id-13 div.sk-toggleable__content {max-height: 0;max-width: 0;overflow: hidden;text-align: left;background-color: #f0f8ff;}#sk-container-id-13 div.sk-toggleable__content pre {margin: 0.2em;color: black;border-radius: 0.25em;background-color: #f0f8ff;}#sk-container-id-13 input.sk-toggleable__control:checked~div.sk-toggleable__content {max-height: 200px;max-width: 100%;overflow: auto;}#sk-container-id-13 input.sk-toggleable__control:checked~label.sk-toggleable__label-arrow:before {content: \"▾\";}#sk-container-id-13 div.sk-estimator input.sk-toggleable__control:checked~label.sk-toggleable__label {background-color: #d4ebff;}#sk-container-id-13 div.sk-label input.sk-toggleable__control:checked~label.sk-toggleable__label {background-color: #d4ebff;}#sk-container-id-13 input.sk-hidden--visually {border: 0;clip: rect(1px 1px 1px 1px);clip: rect(1px, 1px, 1px, 1px);height: 1px;margin: -1px;overflow: hidden;padding: 0;position: absolute;width: 1px;}#sk-container-id-13 div.sk-estimator {font-family: monospace;background-color: #f0f8ff;border: 1px dotted black;border-radius: 0.25em;box-sizing: border-box;margin-bottom: 0.5em;}#sk-container-id-13 div.sk-estimator:hover {background-color: #d4ebff;}#sk-container-id-13 div.sk-parallel-item::after {content: \"\";width: 100%;border-bottom: 1px solid gray;flex-grow: 1;}#sk-container-id-13 div.sk-label:hover label.sk-toggleable__label {background-color: #d4ebff;}#sk-container-id-13 div.sk-serial::before {content: \"\";position: absolute;border-left: 1px solid gray;box-sizing: border-box;top: 0;bottom: 0;left: 50%;z-index: 0;}#sk-container-id-13 div.sk-serial {display: flex;flex-direction: column;align-items: center;background-color: white;padding-right: 0.2em;padding-left: 0.2em;position: relative;}#sk-container-id-13 div.sk-item {position: relative;z-index: 1;}#sk-container-id-13 div.sk-parallel {display: flex;align-items: stretch;justify-content: center;background-color: white;position: relative;}#sk-container-id-13 div.sk-item::before, #sk-container-id-13 div.sk-parallel-item::before {content: \"\";position: absolute;border-left: 1px solid gray;box-sizing: border-box;top: 0;bottom: 0;left: 50%;z-index: -1;}#sk-container-id-13 div.sk-parallel-item {display: flex;flex-direction: column;z-index: 1;position: relative;background-color: white;}#sk-container-id-13 div.sk-parallel-item:first-child::after {align-self: flex-end;width: 50%;}#sk-container-id-13 div.sk-parallel-item:last-child::after {align-self: flex-start;width: 50%;}#sk-container-id-13 div.sk-parallel-item:only-child::after {width: 0;}#sk-container-id-13 div.sk-dashed-wrapped {border: 1px dashed gray;margin: 0 0.4em 0.5em 0.4em;box-sizing: border-box;padding-bottom: 0.4em;background-color: white;}#sk-container-id-13 div.sk-label label {font-family: monospace;font-weight: bold;display: inline-block;line-height: 1.2em;}#sk-container-id-13 div.sk-label-container {text-align: center;}#sk-container-id-13 div.sk-container {/* jupyter's `normalize.less` sets `[hidden] { display: none; }` but bootstrap.min.css set `[hidden] { display: none !important; }` so we also need the `!important` here to be able to override the default hidden behavior on the sphinx rendered scikit-learn.org. See: https://github.com/scikit-learn/scikit-learn/issues/21755 */display: inline-block !important;position: relative;}#sk-container-id-13 div.sk-text-repr-fallback {display: none;}</style><div id=\"sk-container-id-13\" class=\"sk-top-container\"><div class=\"sk-text-repr-fallback\"><pre>GridSearchCV(cv=10, estimator=MLPRegressor(hidden_layer_sizes=(100, 20)),\n",
       "             param_grid={&#x27;activation&#x27;: [&#x27;relu&#x27;, &#x27;logistic&#x27;],\n",
       "                         &#x27;alpha&#x27;: [0.1, 0.01, 0.02, 0.005],\n",
       "                         &#x27;hidden_layer_sizes&#x27;: [(20, 20), (100, 50, 150),\n",
       "                                                (300, 200, 150)]})</pre><b>In a Jupyter environment, please rerun this cell to show the HTML representation or trust the notebook. <br />On GitHub, the HTML representation is unable to render, please try loading this page with nbviewer.org.</b></div><div class=\"sk-container\" hidden><div class=\"sk-item sk-dashed-wrapped\"><div class=\"sk-label-container\"><div class=\"sk-label sk-toggleable\"><input class=\"sk-toggleable__control sk-hidden--visually\" id=\"sk-estimator-id-17\" type=\"checkbox\" ><label for=\"sk-estimator-id-17\" class=\"sk-toggleable__label sk-toggleable__label-arrow\">GridSearchCV</label><div class=\"sk-toggleable__content\"><pre>GridSearchCV(cv=10, estimator=MLPRegressor(hidden_layer_sizes=(100, 20)),\n",
       "             param_grid={&#x27;activation&#x27;: [&#x27;relu&#x27;, &#x27;logistic&#x27;],\n",
       "                         &#x27;alpha&#x27;: [0.1, 0.01, 0.02, 0.005],\n",
       "                         &#x27;hidden_layer_sizes&#x27;: [(20, 20), (100, 50, 150),\n",
       "                                                (300, 200, 150)]})</pre></div></div></div><div class=\"sk-parallel\"><div class=\"sk-parallel-item\"><div class=\"sk-item\"><div class=\"sk-label-container\"><div class=\"sk-label sk-toggleable\"><input class=\"sk-toggleable__control sk-hidden--visually\" id=\"sk-estimator-id-18\" type=\"checkbox\" ><label for=\"sk-estimator-id-18\" class=\"sk-toggleable__label sk-toggleable__label-arrow\">estimator: MLPRegressor</label><div class=\"sk-toggleable__content\"><pre>MLPRegressor(hidden_layer_sizes=(100, 20))</pre></div></div></div><div class=\"sk-serial\"><div class=\"sk-item\"><div class=\"sk-estimator sk-toggleable\"><input class=\"sk-toggleable__control sk-hidden--visually\" id=\"sk-estimator-id-19\" type=\"checkbox\" ><label for=\"sk-estimator-id-19\" class=\"sk-toggleable__label sk-toggleable__label-arrow\">MLPRegressor</label><div class=\"sk-toggleable__content\"><pre>MLPRegressor(hidden_layer_sizes=(100, 20))</pre></div></div></div></div></div></div></div></div></div></div>"
      ],
      "text/plain": [
       "GridSearchCV(cv=10, estimator=MLPRegressor(hidden_layer_sizes=(100, 20)),\n",
       "             param_grid={'activation': ['relu', 'logistic'],\n",
       "                         'alpha': [0.1, 0.01, 0.02, 0.005],\n",
       "                         'hidden_layer_sizes': [(20, 20), (100, 50, 150),\n",
       "                                                (300, 200, 150)]})"
      ]
     },
     "execution_count": 72,
     "metadata": {},
     "output_type": "execute_result"
    }
   ],
   "source": [
    "mlp_cv_model.fit(X_train_scaled, y_train)"
   ]
  },
  {
   "cell_type": "code",
   "execution_count": 73,
   "metadata": {},
   "outputs": [
    {
     "data": {
      "text/plain": [
       "{'activation': 'relu', 'alpha': 0.01, 'hidden_layer_sizes': (100, 50, 150)}"
      ]
     },
     "execution_count": 73,
     "metadata": {},
     "output_type": "execute_result"
    }
   ],
   "source": [
    "mlp_cv_model.best_params_"
   ]
  },
  {
   "cell_type": "code",
   "execution_count": 74,
   "metadata": {},
   "outputs": [],
   "source": [
    "mlp_tuned = MLPRegressor(alpha = 0.02, hidden_layer_sizes = (100,50,150))"
   ]
  },
  {
   "cell_type": "code",
   "execution_count": 75,
   "metadata": {},
   "outputs": [
    {
     "data": {
      "text/html": [
       "<style>#sk-container-id-14 {color: black;}#sk-container-id-14 pre{padding: 0;}#sk-container-id-14 div.sk-toggleable {background-color: white;}#sk-container-id-14 label.sk-toggleable__label {cursor: pointer;display: block;width: 100%;margin-bottom: 0;padding: 0.3em;box-sizing: border-box;text-align: center;}#sk-container-id-14 label.sk-toggleable__label-arrow:before {content: \"▸\";float: left;margin-right: 0.25em;color: #696969;}#sk-container-id-14 label.sk-toggleable__label-arrow:hover:before {color: black;}#sk-container-id-14 div.sk-estimator:hover label.sk-toggleable__label-arrow:before {color: black;}#sk-container-id-14 div.sk-toggleable__content {max-height: 0;max-width: 0;overflow: hidden;text-align: left;background-color: #f0f8ff;}#sk-container-id-14 div.sk-toggleable__content pre {margin: 0.2em;color: black;border-radius: 0.25em;background-color: #f0f8ff;}#sk-container-id-14 input.sk-toggleable__control:checked~div.sk-toggleable__content {max-height: 200px;max-width: 100%;overflow: auto;}#sk-container-id-14 input.sk-toggleable__control:checked~label.sk-toggleable__label-arrow:before {content: \"▾\";}#sk-container-id-14 div.sk-estimator input.sk-toggleable__control:checked~label.sk-toggleable__label {background-color: #d4ebff;}#sk-container-id-14 div.sk-label input.sk-toggleable__control:checked~label.sk-toggleable__label {background-color: #d4ebff;}#sk-container-id-14 input.sk-hidden--visually {border: 0;clip: rect(1px 1px 1px 1px);clip: rect(1px, 1px, 1px, 1px);height: 1px;margin: -1px;overflow: hidden;padding: 0;position: absolute;width: 1px;}#sk-container-id-14 div.sk-estimator {font-family: monospace;background-color: #f0f8ff;border: 1px dotted black;border-radius: 0.25em;box-sizing: border-box;margin-bottom: 0.5em;}#sk-container-id-14 div.sk-estimator:hover {background-color: #d4ebff;}#sk-container-id-14 div.sk-parallel-item::after {content: \"\";width: 100%;border-bottom: 1px solid gray;flex-grow: 1;}#sk-container-id-14 div.sk-label:hover label.sk-toggleable__label {background-color: #d4ebff;}#sk-container-id-14 div.sk-serial::before {content: \"\";position: absolute;border-left: 1px solid gray;box-sizing: border-box;top: 0;bottom: 0;left: 50%;z-index: 0;}#sk-container-id-14 div.sk-serial {display: flex;flex-direction: column;align-items: center;background-color: white;padding-right: 0.2em;padding-left: 0.2em;position: relative;}#sk-container-id-14 div.sk-item {position: relative;z-index: 1;}#sk-container-id-14 div.sk-parallel {display: flex;align-items: stretch;justify-content: center;background-color: white;position: relative;}#sk-container-id-14 div.sk-item::before, #sk-container-id-14 div.sk-parallel-item::before {content: \"\";position: absolute;border-left: 1px solid gray;box-sizing: border-box;top: 0;bottom: 0;left: 50%;z-index: -1;}#sk-container-id-14 div.sk-parallel-item {display: flex;flex-direction: column;z-index: 1;position: relative;background-color: white;}#sk-container-id-14 div.sk-parallel-item:first-child::after {align-self: flex-end;width: 50%;}#sk-container-id-14 div.sk-parallel-item:last-child::after {align-self: flex-start;width: 50%;}#sk-container-id-14 div.sk-parallel-item:only-child::after {width: 0;}#sk-container-id-14 div.sk-dashed-wrapped {border: 1px dashed gray;margin: 0 0.4em 0.5em 0.4em;box-sizing: border-box;padding-bottom: 0.4em;background-color: white;}#sk-container-id-14 div.sk-label label {font-family: monospace;font-weight: bold;display: inline-block;line-height: 1.2em;}#sk-container-id-14 div.sk-label-container {text-align: center;}#sk-container-id-14 div.sk-container {/* jupyter's `normalize.less` sets `[hidden] { display: none; }` but bootstrap.min.css set `[hidden] { display: none !important; }` so we also need the `!important` here to be able to override the default hidden behavior on the sphinx rendered scikit-learn.org. See: https://github.com/scikit-learn/scikit-learn/issues/21755 */display: inline-block !important;position: relative;}#sk-container-id-14 div.sk-text-repr-fallback {display: none;}</style><div id=\"sk-container-id-14\" class=\"sk-top-container\"><div class=\"sk-text-repr-fallback\"><pre>MLPRegressor(alpha=0.02, hidden_layer_sizes=(100, 50, 150))</pre><b>In a Jupyter environment, please rerun this cell to show the HTML representation or trust the notebook. <br />On GitHub, the HTML representation is unable to render, please try loading this page with nbviewer.org.</b></div><div class=\"sk-container\" hidden><div class=\"sk-item\"><div class=\"sk-estimator sk-toggleable\"><input class=\"sk-toggleable__control sk-hidden--visually\" id=\"sk-estimator-id-20\" type=\"checkbox\" checked><label for=\"sk-estimator-id-20\" class=\"sk-toggleable__label sk-toggleable__label-arrow\">MLPRegressor</label><div class=\"sk-toggleable__content\"><pre>MLPRegressor(alpha=0.02, hidden_layer_sizes=(100, 50, 150))</pre></div></div></div></div></div>"
      ],
      "text/plain": [
       "MLPRegressor(alpha=0.02, hidden_layer_sizes=(100, 50, 150))"
      ]
     },
     "execution_count": 75,
     "metadata": {},
     "output_type": "execute_result"
    }
   ],
   "source": [
    "mlp_tuned.fit(X_train_scaled, y_train)"
   ]
  },
  {
   "cell_type": "code",
   "execution_count": 76,
   "metadata": {},
   "outputs": [],
   "source": [
    "y_pred = mlp_tuned.predict(X_test_scaled)"
   ]
  },
  {
   "cell_type": "code",
   "execution_count": 77,
   "metadata": {},
   "outputs": [
    {
     "data": {
      "text/plain": [
       "361.77739022461884"
      ]
     },
     "execution_count": 77,
     "metadata": {},
     "output_type": "execute_result"
    }
   ],
   "source": [
    "np.sqrt(mean_squared_error(y_test, y_pred))"
   ]
  },
  {
   "cell_type": "markdown",
   "metadata": {},
   "source": [
    "# CART"
   ]
  },
  {
   "cell_type": "code",
   "execution_count": 78,
   "metadata": {},
   "outputs": [],
   "source": [
    "hit = pd.read_csv(\"Hitters.csv\")\n",
    "df = hit.copy()\n",
    "df = df.dropna()\n",
    "dms = pd.get_dummies(df[['League', 'Division', 'NewLeague']])\n",
    "y = df[\"Salary\"]\n",
    "X_ = df.drop(['Salary', 'League', 'Division', 'NewLeague'], axis=1).astype('float64')\n",
    "X = pd.concat([X_, dms[['League_N', 'Division_W', 'NewLeague_N']]], axis=1)\n",
    "X_train, X_test, y_train, y_test = train_test_split(X, y, \n",
    "                                                    test_size=0.25, \n",
    "                                                    random_state=42)\n"
   ]
  },
  {
   "cell_type": "code",
   "execution_count": 79,
   "metadata": {},
   "outputs": [],
   "source": [
    "X_train = pd.DataFrame(X_train[\"Hits\"])\n",
    "X_test = pd.DataFrame(X_test[\"Hits\"])"
   ]
  },
  {
   "cell_type": "code",
   "execution_count": 80,
   "metadata": {},
   "outputs": [],
   "source": [
    "cart_model = DecisionTreeRegressor(min_samples_split = 2)"
   ]
  },
  {
   "cell_type": "code",
   "execution_count": 81,
   "metadata": {},
   "outputs": [
    {
     "data": {
      "text/html": [
       "<style>#sk-container-id-15 {color: black;}#sk-container-id-15 pre{padding: 0;}#sk-container-id-15 div.sk-toggleable {background-color: white;}#sk-container-id-15 label.sk-toggleable__label {cursor: pointer;display: block;width: 100%;margin-bottom: 0;padding: 0.3em;box-sizing: border-box;text-align: center;}#sk-container-id-15 label.sk-toggleable__label-arrow:before {content: \"▸\";float: left;margin-right: 0.25em;color: #696969;}#sk-container-id-15 label.sk-toggleable__label-arrow:hover:before {color: black;}#sk-container-id-15 div.sk-estimator:hover label.sk-toggleable__label-arrow:before {color: black;}#sk-container-id-15 div.sk-toggleable__content {max-height: 0;max-width: 0;overflow: hidden;text-align: left;background-color: #f0f8ff;}#sk-container-id-15 div.sk-toggleable__content pre {margin: 0.2em;color: black;border-radius: 0.25em;background-color: #f0f8ff;}#sk-container-id-15 input.sk-toggleable__control:checked~div.sk-toggleable__content {max-height: 200px;max-width: 100%;overflow: auto;}#sk-container-id-15 input.sk-toggleable__control:checked~label.sk-toggleable__label-arrow:before {content: \"▾\";}#sk-container-id-15 div.sk-estimator input.sk-toggleable__control:checked~label.sk-toggleable__label {background-color: #d4ebff;}#sk-container-id-15 div.sk-label input.sk-toggleable__control:checked~label.sk-toggleable__label {background-color: #d4ebff;}#sk-container-id-15 input.sk-hidden--visually {border: 0;clip: rect(1px 1px 1px 1px);clip: rect(1px, 1px, 1px, 1px);height: 1px;margin: -1px;overflow: hidden;padding: 0;position: absolute;width: 1px;}#sk-container-id-15 div.sk-estimator {font-family: monospace;background-color: #f0f8ff;border: 1px dotted black;border-radius: 0.25em;box-sizing: border-box;margin-bottom: 0.5em;}#sk-container-id-15 div.sk-estimator:hover {background-color: #d4ebff;}#sk-container-id-15 div.sk-parallel-item::after {content: \"\";width: 100%;border-bottom: 1px solid gray;flex-grow: 1;}#sk-container-id-15 div.sk-label:hover label.sk-toggleable__label {background-color: #d4ebff;}#sk-container-id-15 div.sk-serial::before {content: \"\";position: absolute;border-left: 1px solid gray;box-sizing: border-box;top: 0;bottom: 0;left: 50%;z-index: 0;}#sk-container-id-15 div.sk-serial {display: flex;flex-direction: column;align-items: center;background-color: white;padding-right: 0.2em;padding-left: 0.2em;position: relative;}#sk-container-id-15 div.sk-item {position: relative;z-index: 1;}#sk-container-id-15 div.sk-parallel {display: flex;align-items: stretch;justify-content: center;background-color: white;position: relative;}#sk-container-id-15 div.sk-item::before, #sk-container-id-15 div.sk-parallel-item::before {content: \"\";position: absolute;border-left: 1px solid gray;box-sizing: border-box;top: 0;bottom: 0;left: 50%;z-index: -1;}#sk-container-id-15 div.sk-parallel-item {display: flex;flex-direction: column;z-index: 1;position: relative;background-color: white;}#sk-container-id-15 div.sk-parallel-item:first-child::after {align-self: flex-end;width: 50%;}#sk-container-id-15 div.sk-parallel-item:last-child::after {align-self: flex-start;width: 50%;}#sk-container-id-15 div.sk-parallel-item:only-child::after {width: 0;}#sk-container-id-15 div.sk-dashed-wrapped {border: 1px dashed gray;margin: 0 0.4em 0.5em 0.4em;box-sizing: border-box;padding-bottom: 0.4em;background-color: white;}#sk-container-id-15 div.sk-label label {font-family: monospace;font-weight: bold;display: inline-block;line-height: 1.2em;}#sk-container-id-15 div.sk-label-container {text-align: center;}#sk-container-id-15 div.sk-container {/* jupyter's `normalize.less` sets `[hidden] { display: none; }` but bootstrap.min.css set `[hidden] { display: none !important; }` so we also need the `!important` here to be able to override the default hidden behavior on the sphinx rendered scikit-learn.org. See: https://github.com/scikit-learn/scikit-learn/issues/21755 */display: inline-block !important;position: relative;}#sk-container-id-15 div.sk-text-repr-fallback {display: none;}</style><div id=\"sk-container-id-15\" class=\"sk-top-container\"><div class=\"sk-text-repr-fallback\"><pre>DecisionTreeRegressor()</pre><b>In a Jupyter environment, please rerun this cell to show the HTML representation or trust the notebook. <br />On GitHub, the HTML representation is unable to render, please try loading this page with nbviewer.org.</b></div><div class=\"sk-container\" hidden><div class=\"sk-item\"><div class=\"sk-estimator sk-toggleable\"><input class=\"sk-toggleable__control sk-hidden--visually\" id=\"sk-estimator-id-21\" type=\"checkbox\" checked><label for=\"sk-estimator-id-21\" class=\"sk-toggleable__label sk-toggleable__label-arrow\">DecisionTreeRegressor</label><div class=\"sk-toggleable__content\"><pre>DecisionTreeRegressor()</pre></div></div></div></div></div>"
      ],
      "text/plain": [
       "DecisionTreeRegressor()"
      ]
     },
     "execution_count": 81,
     "metadata": {},
     "output_type": "execute_result"
    }
   ],
   "source": [
    "cart_model"
   ]
  },
  {
   "cell_type": "code",
   "execution_count": 82,
   "metadata": {},
   "outputs": [
    {
     "data": {
      "text/html": [
       "<style>#sk-container-id-16 {color: black;}#sk-container-id-16 pre{padding: 0;}#sk-container-id-16 div.sk-toggleable {background-color: white;}#sk-container-id-16 label.sk-toggleable__label {cursor: pointer;display: block;width: 100%;margin-bottom: 0;padding: 0.3em;box-sizing: border-box;text-align: center;}#sk-container-id-16 label.sk-toggleable__label-arrow:before {content: \"▸\";float: left;margin-right: 0.25em;color: #696969;}#sk-container-id-16 label.sk-toggleable__label-arrow:hover:before {color: black;}#sk-container-id-16 div.sk-estimator:hover label.sk-toggleable__label-arrow:before {color: black;}#sk-container-id-16 div.sk-toggleable__content {max-height: 0;max-width: 0;overflow: hidden;text-align: left;background-color: #f0f8ff;}#sk-container-id-16 div.sk-toggleable__content pre {margin: 0.2em;color: black;border-radius: 0.25em;background-color: #f0f8ff;}#sk-container-id-16 input.sk-toggleable__control:checked~div.sk-toggleable__content {max-height: 200px;max-width: 100%;overflow: auto;}#sk-container-id-16 input.sk-toggleable__control:checked~label.sk-toggleable__label-arrow:before {content: \"▾\";}#sk-container-id-16 div.sk-estimator input.sk-toggleable__control:checked~label.sk-toggleable__label {background-color: #d4ebff;}#sk-container-id-16 div.sk-label input.sk-toggleable__control:checked~label.sk-toggleable__label {background-color: #d4ebff;}#sk-container-id-16 input.sk-hidden--visually {border: 0;clip: rect(1px 1px 1px 1px);clip: rect(1px, 1px, 1px, 1px);height: 1px;margin: -1px;overflow: hidden;padding: 0;position: absolute;width: 1px;}#sk-container-id-16 div.sk-estimator {font-family: monospace;background-color: #f0f8ff;border: 1px dotted black;border-radius: 0.25em;box-sizing: border-box;margin-bottom: 0.5em;}#sk-container-id-16 div.sk-estimator:hover {background-color: #d4ebff;}#sk-container-id-16 div.sk-parallel-item::after {content: \"\";width: 100%;border-bottom: 1px solid gray;flex-grow: 1;}#sk-container-id-16 div.sk-label:hover label.sk-toggleable__label {background-color: #d4ebff;}#sk-container-id-16 div.sk-serial::before {content: \"\";position: absolute;border-left: 1px solid gray;box-sizing: border-box;top: 0;bottom: 0;left: 50%;z-index: 0;}#sk-container-id-16 div.sk-serial {display: flex;flex-direction: column;align-items: center;background-color: white;padding-right: 0.2em;padding-left: 0.2em;position: relative;}#sk-container-id-16 div.sk-item {position: relative;z-index: 1;}#sk-container-id-16 div.sk-parallel {display: flex;align-items: stretch;justify-content: center;background-color: white;position: relative;}#sk-container-id-16 div.sk-item::before, #sk-container-id-16 div.sk-parallel-item::before {content: \"\";position: absolute;border-left: 1px solid gray;box-sizing: border-box;top: 0;bottom: 0;left: 50%;z-index: -1;}#sk-container-id-16 div.sk-parallel-item {display: flex;flex-direction: column;z-index: 1;position: relative;background-color: white;}#sk-container-id-16 div.sk-parallel-item:first-child::after {align-self: flex-end;width: 50%;}#sk-container-id-16 div.sk-parallel-item:last-child::after {align-self: flex-start;width: 50%;}#sk-container-id-16 div.sk-parallel-item:only-child::after {width: 0;}#sk-container-id-16 div.sk-dashed-wrapped {border: 1px dashed gray;margin: 0 0.4em 0.5em 0.4em;box-sizing: border-box;padding-bottom: 0.4em;background-color: white;}#sk-container-id-16 div.sk-label label {font-family: monospace;font-weight: bold;display: inline-block;line-height: 1.2em;}#sk-container-id-16 div.sk-label-container {text-align: center;}#sk-container-id-16 div.sk-container {/* jupyter's `normalize.less` sets `[hidden] { display: none; }` but bootstrap.min.css set `[hidden] { display: none !important; }` so we also need the `!important` here to be able to override the default hidden behavior on the sphinx rendered scikit-learn.org. See: https://github.com/scikit-learn/scikit-learn/issues/21755 */display: inline-block !important;position: relative;}#sk-container-id-16 div.sk-text-repr-fallback {display: none;}</style><div id=\"sk-container-id-16\" class=\"sk-top-container\"><div class=\"sk-text-repr-fallback\"><pre>DecisionTreeRegressor()</pre><b>In a Jupyter environment, please rerun this cell to show the HTML representation or trust the notebook. <br />On GitHub, the HTML representation is unable to render, please try loading this page with nbviewer.org.</b></div><div class=\"sk-container\" hidden><div class=\"sk-item\"><div class=\"sk-estimator sk-toggleable\"><input class=\"sk-toggleable__control sk-hidden--visually\" id=\"sk-estimator-id-22\" type=\"checkbox\" checked><label for=\"sk-estimator-id-22\" class=\"sk-toggleable__label sk-toggleable__label-arrow\">DecisionTreeRegressor</label><div class=\"sk-toggleable__content\"><pre>DecisionTreeRegressor()</pre></div></div></div></div></div>"
      ],
      "text/plain": [
       "DecisionTreeRegressor()"
      ]
     },
     "execution_count": 82,
     "metadata": {},
     "output_type": "execute_result"
    }
   ],
   "source": [
    "cart_model.fit(X_train, y_train)"
   ]
  },
  {
   "cell_type": "code",
   "execution_count": 83,
   "metadata": {},
   "outputs": [
    {
     "data": {
      "image/png": "[encoded data removed]",
      "text/plain": [
       "<Figure size 640x480 with 1 Axes>"
      ]
     },
     "metadata": {},
     "output_type": "display_data"
    }
   ],
   "source": [
    "X_grid = np.arange(min(np.array(X_train)),max(np.array(X_train)), 0.01) \n",
    "X_grid = X_grid.reshape((len(X_grid), 1))  \n",
    "plt.scatter(X_train, y_train, color = 'red') \n",
    "plt.plot(X_grid, cart_model.predict(X_grid), color = 'blue')  \n",
    "plt.title('CART REGRESYON AĞACI')  \n",
    "plt.xlabel('Atış Sayısı(Hits)') \n",
    "plt.ylabel('Maaş (Salary)') ;"
   ]
  },
  {
   "cell_type": "code",
   "execution_count": 84,
   "metadata": {},
   "outputs": [],
   "source": [
    "from skompiler import skompile"
   ]
  },
  {
   "cell_type": "code",
   "execution_count": 86,
   "metadata": {},
   "outputs": [
    {
     "name": "stdout",
     "output_type": "stream",
     "text": [
      "((920.0 if x[0] <= 18.0 else ((500.0 if x[0] <= 34.5 else (70.0 if x[0] <= \n",
      "    38.0 else 175.0) if x[0] <= 39.5 else 90.0 if x[0] <= 40.5 else 67.5) if\n",
      "    x[0] <= 41.5 else 900.0 if x[0] <= 42.5 else (((((215.55566666666664 if\n",
      "    x[0] <= 44.5 else 180.0) if x[0] <= 46.5 else 347.5 if x[0] <= 48.0 else\n",
      "    337.5) if x[0] <= 50.0 else 70.0) if x[0] <= 51.5 else 507.5) if x[0] <=\n",
      "    52.5 else 150.0 if x[0] <= 53.5 else 146.83333333333334) if x[0] <= \n",
      "    54.5 else 1300.0 if x[0] <= 55.5 else (170.0 if x[0] <= 56.5 else \n",
      "    193.75) if x[0] <= 57.5 else ((((((340.0 if x[0] <= 59.0 else 418.5) if\n",
      "    x[0] <= 60.5 else 235.0 if x[0] <= 62.0 else 341.667) if x[0] <= 63.5 else\n",
      "    75.0) if x[0] <= 64.5 else 650.0) if x[0] <= 65.5 else 170.0 if x[0] <=\n",
      "    67.0 else 228.66666666666666) if x[0] <= 69.0 else 472.5) if x[0] <= \n",
      "    70.5 else (100.0 if x[0] <= 71.5 else 130.0) if x[0] <= 72.5 else \n",
      "    409.1665 if x[0] <= 74.5 else 215.0) if x[0] <= 76.5 else (((505.0 if x\n",
      "    [0] <= 77.5 else ((((328.88899999999995 if x[0] <= 79.0 else 700.0) if \n",
      "    x[0] <= 80.5 else 348.75 if x[0] <= 81.5 else 267.5) if x[0] <= 82.5 else\n",
      "    600.0 if x[0] <= 83.5 else 600.0) if x[0] <= 84.5 else (331.25 if x[0] <=\n",
      "    85.5 else (180.0 if x[0] <= 86.5 else 91.5) if x[0] <= 88.5 else 450.0 if\n",
      "    x[0] <= 90.5 else 125.0) if x[0] <= 91.5 else 411.25 if x[0] <= 92.5 else\n",
      "    250.0) if x[0] <= 93.5 else 670.0 if x[0] <= 94.5 else ((100.0 if x[0] <=\n",
      "    95.5 else 504.1665) if x[0] <= 96.5 else 210.0 if x[0] <= 98.0 else \n",
      "    87.5) if x[0] <= 100.0 else 466.0) if x[0] <= 101.5 else 247.5 if x[0] <=\n",
      "    102.5 else 257.3334) if x[0] <= 103.5 else (750.0 if x[0] <= 105.0 else\n",
      "    850.0) if x[0] <= 107.0 else 162.5 if x[0] <= 109.0 else (560.0 if x[0] <=\n",
      "    111.0 else 442.5 if x[0] <= 112.5 else 487.5) if x[0] <= 114.0 else \n",
      "    300.0) if x[0] <= 116.0 else 110.0) if x[0] <= 117.5 else ((((1300.0 if\n",
      "    x[0] <= 118.5 else 773.3333333333334 if x[0] <= 120.5 else 442.5) if x[\n",
      "    0] <= 122.5 else 1240.0 if x[0] <= 124.0 else 1925.571) if x[0] <= \n",
      "    125.5 else (561.25 if x[0] <= 126.5 else (695.2776666666667 if x[0] <= \n",
      "    127.5 else 1043.75) if x[0] <= 128.5 else (750.0 if x[0] <= 129.5 else \n",
      "    480.0) if x[0] <= 130.5 else 726.6666666666666) if x[0] <= 131.5 else (\n",
      "    ((611.6665 if x[0] <= 133.5 else 461.0) if x[0] <= 135.5 else 725.0) if\n",
      "    x[0] <= 137.0 else 152.5 if x[0] <= 138.5 else 555.0 if x[0] <= 139.5 else\n",
      "    200.0) if x[0] <= 140.5 else 712.5 if x[0] <= 141.5 else 777.5) if x[0] <=\n",
      "    143.0 else (((1021.6666666666666 if x[0] <= 144.5 else 500.0 if x[0] <=\n",
      "    145.5 else 815.0) if x[0] <= 146.5 else 1230.0 if x[0] <= 148.0 else \n",
      "    787.5 if x[0] <= 149.5 else 1000.0) if x[0] <= 150.5 else 2460.0) if x[\n",
      "    0] <= 151.5 else (451.6666666666667 if x[0] <= 153.0 else 580.0 if x[0] <=\n",
      "    155.5 else 530.0) if x[0] <= 157.5 else (((((775.0 if x[0] <= 158.5 else\n",
      "    759.1665) if x[0] <= 159.5 else 1670.0 if x[0] <= 161.5 else 923.0 if x\n",
      "    [0] <= 165.5 else 863.0556666666666) if x[0] <= 168.5 else \n",
      "    743.3333333333334) if x[0] <= 169.5 else 1118.75 if x[0] <= 170.5 else \n",
      "    1350.0) if x[0] <= 171.5 else 165.0 if x[0] <= 173.0 else (849.3335 if \n",
      "    x[0] <= 175.5 else 1350.0) if x[0] <= 177.5 else (740.0 if x[0] <= \n",
      "    178.5 else 575.0 if x[0] <= 181.5 else 630.0) if x[0] <= 185.0 else \n",
      "    1300.0 if x[0] <= 198.5 else 740.0) if x[0] <= 212.0 else 350.0) if x[0\n",
      "    ] <= 225.5 else 1975.0)\n",
      "\n"
     ]
    }
   ],
   "source": [
    "print(skompile(cart_model.predict).to('python/code'))"
   ]
  },
  {
   "cell_type": "markdown",
   "metadata": {},
   "source": [
    "## Tahmin"
   ]
  },
  {
   "cell_type": "code",
   "execution_count": 87,
   "metadata": {},
   "outputs": [],
   "source": [
    "x = [91]"
   ]
  },
  {
   "cell_type": "code",
   "execution_count": 88,
   "metadata": {},
   "outputs": [
    {
     "data": {
      "text/plain": [
       "345.2011551724138"
      ]
     },
     "execution_count": 88,
     "metadata": {},
     "output_type": "execute_result"
    }
   ],
   "source": [
    "(345.2011551724138 if x[0] <= 117.5 else ((((1300.0 if x[0] <= 118.5 else \n",
    "    641.0) if x[0] <= 122.5 else 1468.5236666666667) if x[0] <= 125.5 else \n",
    "    621.9679230769232) if x[0] <= 143.0 else (958.6111111111111 if x[0] <= \n",
    "    150.5 else 2460.0) if x[0] <= 151.5 else 499.1666666666667 if x[0] <= \n",
    "    157.5 else 892.5402413793104) if x[0] <= 225.5 else 1975.0)"
   ]
  },
  {
   "cell_type": "code",
   "execution_count": 89,
   "metadata": {},
   "outputs": [
    {
     "data": {
      "text/plain": [
       "array([ 725.    , 1230.    ,  725.    ,  504.1665,   67.5   ])"
      ]
     },
     "execution_count": 89,
     "metadata": {},
     "output_type": "execute_result"
    }
   ],
   "source": [
    "cart_model.predict(X_test)[0:5]"
   ]
  },
  {
   "cell_type": "code",
   "execution_count": 90,
   "metadata": {},
   "outputs": [
    {
     "data": {
      "text/plain": [
       "array([125.])"
      ]
     },
     "execution_count": 90,
     "metadata": {},
     "output_type": "execute_result"
    }
   ],
   "source": [
    "cart_model.predict([[91]])"
   ]
  },
  {
   "cell_type": "code",
   "execution_count": 91,
   "metadata": {},
   "outputs": [],
   "source": [
    "y_pred =cart_model.predict(X_test)"
   ]
  },
  {
   "cell_type": "code",
   "execution_count": 92,
   "metadata": {},
   "outputs": [
    {
     "data": {
      "text/plain": [
       "468.49579052913884"
      ]
     },
     "execution_count": 92,
     "metadata": {},
     "output_type": "execute_result"
    }
   ],
   "source": [
    "np.sqrt(mean_squared_error(y_test, y_pred))"
   ]
  },
  {
   "cell_type": "markdown",
   "metadata": {},
   "source": [
    "## Model Tuning"
   ]
  },
  {
   "cell_type": "code",
   "execution_count": 93,
   "metadata": {},
   "outputs": [],
   "source": [
    "cart_model = DecisionTreeRegressor()\n",
    "cart_model.fit(X_train, y_train)\n",
    "y_pred = cart_model.predict(X_test)"
   ]
  },
  {
   "cell_type": "code",
   "execution_count": 94,
   "metadata": {},
   "outputs": [
    {
     "data": {
      "text/plain": [
       "468.49579052913884"
      ]
     },
     "execution_count": 94,
     "metadata": {},
     "output_type": "execute_result"
    }
   ],
   "source": [
    "np.sqrt(mean_squared_error(y_test, y_pred))"
   ]
  },
  {
   "cell_type": "code",
   "execution_count": 95,
   "metadata": {},
   "outputs": [],
   "source": [
    "cart_params = {\"min_samples_split\": range(2,100),\n",
    "               \"max_leaf_nodes\": range(2,10)}"
   ]
  },
  {
   "cell_type": "code",
   "execution_count": 96,
   "metadata": {},
   "outputs": [],
   "source": [
    "cart_cv_model = GridSearchCV(cart_model, cart_params, cv = 10)"
   ]
  },
  {
   "cell_type": "code",
   "execution_count": 97,
   "metadata": {},
   "outputs": [
    {
     "data": {
      "text/html": [
       "<style>#sk-container-id-17 {color: black;}#sk-container-id-17 pre{padding: 0;}#sk-container-id-17 div.sk-toggleable {background-color: white;}#sk-container-id-17 label.sk-toggleable__label {cursor: pointer;display: block;width: 100%;margin-bottom: 0;padding: 0.3em;box-sizing: border-box;text-align: center;}#sk-container-id-17 label.sk-toggleable__label-arrow:before {content: \"▸\";float: left;margin-right: 0.25em;color: #696969;}#sk-container-id-17 label.sk-toggleable__label-arrow:hover:before {color: black;}#sk-container-id-17 div.sk-estimator:hover label.sk-toggleable__label-arrow:before {color: black;}#sk-container-id-17 div.sk-toggleable__content {max-height: 0;max-width: 0;overflow: hidden;text-align: left;background-color: #f0f8ff;}#sk-container-id-17 div.sk-toggleable__content pre {margin: 0.2em;color: black;border-radius: 0.25em;background-color: #f0f8ff;}#sk-container-id-17 input.sk-toggleable__control:checked~div.sk-toggleable__content {max-height: 200px;max-width: 100%;overflow: auto;}#sk-container-id-17 input.sk-toggleable__control:checked~label.sk-toggleable__label-arrow:before {content: \"▾\";}#sk-container-id-17 div.sk-estimator input.sk-toggleable__control:checked~label.sk-toggleable__label {background-color: #d4ebff;}#sk-container-id-17 div.sk-label input.sk-toggleable__control:checked~label.sk-toggleable__label {background-color: #d4ebff;}#sk-container-id-17 input.sk-hidden--visually {border: 0;clip: rect(1px 1px 1px 1px);clip: rect(1px, 1px, 1px, 1px);height: 1px;margin: -1px;overflow: hidden;padding: 0;position: absolute;width: 1px;}#sk-container-id-17 div.sk-estimator {font-family: monospace;background-color: #f0f8ff;border: 1px dotted black;border-radius: 0.25em;box-sizing: border-box;margin-bottom: 0.5em;}#sk-container-id-17 div.sk-estimator:hover {background-color: #d4ebff;}#sk-container-id-17 div.sk-parallel-item::after {content: \"\";width: 100%;border-bottom: 1px solid gray;flex-grow: 1;}#sk-container-id-17 div.sk-label:hover label.sk-toggleable__label {background-color: #d4ebff;}#sk-container-id-17 div.sk-serial::before {content: \"\";position: absolute;border-left: 1px solid gray;box-sizing: border-box;top: 0;bottom: 0;left: 50%;z-index: 0;}#sk-container-id-17 div.sk-serial {display: flex;flex-direction: column;align-items: center;background-color: white;padding-right: 0.2em;padding-left: 0.2em;position: relative;}#sk-container-id-17 div.sk-item {position: relative;z-index: 1;}#sk-container-id-17 div.sk-parallel {display: flex;align-items: stretch;justify-content: center;background-color: white;position: relative;}#sk-container-id-17 div.sk-item::before, #sk-container-id-17 div.sk-parallel-item::before {content: \"\";position: absolute;border-left: 1px solid gray;box-sizing: border-box;top: 0;bottom: 0;left: 50%;z-index: -1;}#sk-container-id-17 div.sk-parallel-item {display: flex;flex-direction: column;z-index: 1;position: relative;background-color: white;}#sk-container-id-17 div.sk-parallel-item:first-child::after {align-self: flex-end;width: 50%;}#sk-container-id-17 div.sk-parallel-item:last-child::after {align-self: flex-start;width: 50%;}#sk-container-id-17 div.sk-parallel-item:only-child::after {width: 0;}#sk-container-id-17 div.sk-dashed-wrapped {border: 1px dashed gray;margin: 0 0.4em 0.5em 0.4em;box-sizing: border-box;padding-bottom: 0.4em;background-color: white;}#sk-container-id-17 div.sk-label label {font-family: monospace;font-weight: bold;display: inline-block;line-height: 1.2em;}#sk-container-id-17 div.sk-label-container {text-align: center;}#sk-container-id-17 div.sk-container {/* jupyter's `normalize.less` sets `[hidden] { display: none; }` but bootstrap.min.css set `[hidden] { display: none !important; }` so we also need the `!important` here to be able to override the default hidden behavior on the sphinx rendered scikit-learn.org. See: https://github.com/scikit-learn/scikit-learn/issues/21755 */display: inline-block !important;position: relative;}#sk-container-id-17 div.sk-text-repr-fallback {display: none;}</style><div id=\"sk-container-id-17\" class=\"sk-top-container\"><div class=\"sk-text-repr-fallback\"><pre>GridSearchCV(cv=10, estimator=DecisionTreeRegressor(),\n",
       "             param_grid={&#x27;max_leaf_nodes&#x27;: range(2, 10),\n",
       "                         &#x27;min_samples_split&#x27;: range(2, 100)})</pre><b>In a Jupyter environment, please rerun this cell to show the HTML representation or trust the notebook. <br />On GitHub, the HTML representation is unable to render, please try loading this page with nbviewer.org.</b></div><div class=\"sk-container\" hidden><div class=\"sk-item sk-dashed-wrapped\"><div class=\"sk-label-container\"><div class=\"sk-label sk-toggleable\"><input class=\"sk-toggleable__control sk-hidden--visually\" id=\"sk-estimator-id-23\" type=\"checkbox\" ><label for=\"sk-estimator-id-23\" class=\"sk-toggleable__label sk-toggleable__label-arrow\">GridSearchCV</label><div class=\"sk-toggleable__content\"><pre>GridSearchCV(cv=10, estimator=DecisionTreeRegressor(),\n",
       "             param_grid={&#x27;max_leaf_nodes&#x27;: range(2, 10),\n",
       "                         &#x27;min_samples_split&#x27;: range(2, 100)})</pre></div></div></div><div class=\"sk-parallel\"><div class=\"sk-parallel-item\"><div class=\"sk-item\"><div class=\"sk-label-container\"><div class=\"sk-label sk-toggleable\"><input class=\"sk-toggleable__control sk-hidden--visually\" id=\"sk-estimator-id-24\" type=\"checkbox\" ><label for=\"sk-estimator-id-24\" class=\"sk-toggleable__label sk-toggleable__label-arrow\">estimator: DecisionTreeRegressor</label><div class=\"sk-toggleable__content\"><pre>DecisionTreeRegressor()</pre></div></div></div><div class=\"sk-serial\"><div class=\"sk-item\"><div class=\"sk-estimator sk-toggleable\"><input class=\"sk-toggleable__control sk-hidden--visually\" id=\"sk-estimator-id-25\" type=\"checkbox\" ><label for=\"sk-estimator-id-25\" class=\"sk-toggleable__label sk-toggleable__label-arrow\">DecisionTreeRegressor</label><div class=\"sk-toggleable__content\"><pre>DecisionTreeRegressor()</pre></div></div></div></div></div></div></div></div></div></div>"
      ],
      "text/plain": [
       "GridSearchCV(cv=10, estimator=DecisionTreeRegressor(),\n",
       "             param_grid={'max_leaf_nodes': range(2, 10),\n",
       "                         'min_samples_split': range(2, 100)})"
      ]
     },
     "execution_count": 97,
     "metadata": {},
     "output_type": "execute_result"
    }
   ],
   "source": [
    "cart_cv_model.fit(X_train, y_train)"
   ]
  },
  {
   "cell_type": "code",
   "execution_count": 98,
   "metadata": {},
   "outputs": [
    {
     "data": {
      "text/plain": [
       "{'max_leaf_nodes': 9, 'min_samples_split': 76}"
      ]
     },
     "execution_count": 98,
     "metadata": {},
     "output_type": "execute_result"
    }
   ],
   "source": [
    "cart_cv_model.best_params_"
   ]
  },
  {
   "cell_type": "code",
   "execution_count": 99,
   "metadata": {},
   "outputs": [],
   "source": [
    "cart_tuned = DecisionTreeRegressor(max_leaf_nodes = 9, min_samples_split = 37)"
   ]
  },
  {
   "cell_type": "code",
   "execution_count": 100,
   "metadata": {},
   "outputs": [
    {
     "data": {
      "text/html": [
       "<style>#sk-container-id-18 {color: black;}#sk-container-id-18 pre{padding: 0;}#sk-container-id-18 div.sk-toggleable {background-color: white;}#sk-container-id-18 label.sk-toggleable__label {cursor: pointer;display: block;width: 100%;margin-bottom: 0;padding: 0.3em;box-sizing: border-box;text-align: center;}#sk-container-id-18 label.sk-toggleable__label-arrow:before {content: \"▸\";float: left;margin-right: 0.25em;color: #696969;}#sk-container-id-18 label.sk-toggleable__label-arrow:hover:before {color: black;}#sk-container-id-18 div.sk-estimator:hover label.sk-toggleable__label-arrow:before {color: black;}#sk-container-id-18 div.sk-toggleable__content {max-height: 0;max-width: 0;overflow: hidden;text-align: left;background-color: #f0f8ff;}#sk-container-id-18 div.sk-toggleable__content pre {margin: 0.2em;color: black;border-radius: 0.25em;background-color: #f0f8ff;}#sk-container-id-18 input.sk-toggleable__control:checked~div.sk-toggleable__content {max-height: 200px;max-width: 100%;overflow: auto;}#sk-container-id-18 input.sk-toggleable__control:checked~label.sk-toggleable__label-arrow:before {content: \"▾\";}#sk-container-id-18 div.sk-estimator input.sk-toggleable__control:checked~label.sk-toggleable__label {background-color: #d4ebff;}#sk-container-id-18 div.sk-label input.sk-toggleable__control:checked~label.sk-toggleable__label {background-color: #d4ebff;}#sk-container-id-18 input.sk-hidden--visually {border: 0;clip: rect(1px 1px 1px 1px);clip: rect(1px, 1px, 1px, 1px);height: 1px;margin: -1px;overflow: hidden;padding: 0;position: absolute;width: 1px;}#sk-container-id-18 div.sk-estimator {font-family: monospace;background-color: #f0f8ff;border: 1px dotted black;border-radius: 0.25em;box-sizing: border-box;margin-bottom: 0.5em;}#sk-container-id-18 div.sk-estimator:hover {background-color: #d4ebff;}#sk-container-id-18 div.sk-parallel-item::after {content: \"\";width: 100%;border-bottom: 1px solid gray;flex-grow: 1;}#sk-container-id-18 div.sk-label:hover label.sk-toggleable__label {background-color: #d4ebff;}#sk-container-id-18 div.sk-serial::before {content: \"\";position: absolute;border-left: 1px solid gray;box-sizing: border-box;top: 0;bottom: 0;left: 50%;z-index: 0;}#sk-container-id-18 div.sk-serial {display: flex;flex-direction: column;align-items: center;background-color: white;padding-right: 0.2em;padding-left: 0.2em;position: relative;}#sk-container-id-18 div.sk-item {position: relative;z-index: 1;}#sk-container-id-18 div.sk-parallel {display: flex;align-items: stretch;justify-content: center;background-color: white;position: relative;}#sk-container-id-18 div.sk-item::before, #sk-container-id-18 div.sk-parallel-item::before {content: \"\";position: absolute;border-left: 1px solid gray;box-sizing: border-box;top: 0;bottom: 0;left: 50%;z-index: -1;}#sk-container-id-18 div.sk-parallel-item {display: flex;flex-direction: column;z-index: 1;position: relative;background-color: white;}#sk-container-id-18 div.sk-parallel-item:first-child::after {align-self: flex-end;width: 50%;}#sk-container-id-18 div.sk-parallel-item:last-child::after {align-self: flex-start;width: 50%;}#sk-container-id-18 div.sk-parallel-item:only-child::after {width: 0;}#sk-container-id-18 div.sk-dashed-wrapped {border: 1px dashed gray;margin: 0 0.4em 0.5em 0.4em;box-sizing: border-box;padding-bottom: 0.4em;background-color: white;}#sk-container-id-18 div.sk-label label {font-family: monospace;font-weight: bold;display: inline-block;line-height: 1.2em;}#sk-container-id-18 div.sk-label-container {text-align: center;}#sk-container-id-18 div.sk-container {/* jupyter's `normalize.less` sets `[hidden] { display: none; }` but bootstrap.min.css set `[hidden] { display: none !important; }` so we also need the `!important` here to be able to override the default hidden behavior on the sphinx rendered scikit-learn.org. See: https://github.com/scikit-learn/scikit-learn/issues/21755 */display: inline-block !important;position: relative;}#sk-container-id-18 div.sk-text-repr-fallback {display: none;}</style><div id=\"sk-container-id-18\" class=\"sk-top-container\"><div class=\"sk-text-repr-fallback\"><pre>DecisionTreeRegressor(max_leaf_nodes=9, min_samples_split=37)</pre><b>In a Jupyter environment, please rerun this cell to show the HTML representation or trust the notebook. <br />On GitHub, the HTML representation is unable to render, please try loading this page with nbviewer.org.</b></div><div class=\"sk-container\" hidden><div class=\"sk-item\"><div class=\"sk-estimator sk-toggleable\"><input class=\"sk-toggleable__control sk-hidden--visually\" id=\"sk-estimator-id-26\" type=\"checkbox\" checked><label for=\"sk-estimator-id-26\" class=\"sk-toggleable__label sk-toggleable__label-arrow\">DecisionTreeRegressor</label><div class=\"sk-toggleable__content\"><pre>DecisionTreeRegressor(max_leaf_nodes=9, min_samples_split=37)</pre></div></div></div></div></div>"
      ],
      "text/plain": [
       "DecisionTreeRegressor(max_leaf_nodes=9, min_samples_split=37)"
      ]
     },
     "execution_count": 100,
     "metadata": {},
     "output_type": "execute_result"
    }
   ],
   "source": [
    "cart_tuned.fit(X_train, y_train)"
   ]
  },
  {
   "cell_type": "code",
   "execution_count": 101,
   "metadata": {},
   "outputs": [],
   "source": [
    "y_pred = cart_tuned.predict(X_test)"
   ]
  },
  {
   "cell_type": "code",
   "execution_count": 102,
   "metadata": {},
   "outputs": [
    {
     "data": {
      "text/plain": [
       "434.2326688144208"
      ]
     },
     "execution_count": 102,
     "metadata": {},
     "output_type": "execute_result"
    }
   ],
   "source": [
    "np.sqrt(mean_squared_error(y_test, y_pred))"
   ]
  },
  {
   "cell_type": "markdown",
   "metadata": {},
   "source": [
    "# Bagged Trees Regresyon"
   ]
  },
  {
   "cell_type": "code",
   "execution_count": 103,
   "metadata": {},
   "outputs": [],
   "source": [
    "hit = pd.read_csv(\"Hitters.csv\")\n",
    "df = hit.copy()\n",
    "df = df.dropna()\n",
    "dms = pd.get_dummies(df[['League', 'Division', 'NewLeague']])\n",
    "y = df[\"Salary\"]\n",
    "X_ = df.drop(['Salary', 'League', 'Division', 'NewLeague'], axis=1).astype('float64')\n",
    "X = pd.concat([X_, dms[['League_N', 'Division_W', 'NewLeague_N']]], axis=1)\n",
    "X_train, X_test, y_train, y_test = train_test_split(X, y, \n",
    "                                                    test_size=0.25, \n",
    "                                                    random_state=42)\n"
   ]
  },
  {
   "cell_type": "code",
   "execution_count": 104,
   "metadata": {},
   "outputs": [
    {
     "data": {
      "text/html": [
       "<style>#sk-container-id-19 {color: black;}#sk-container-id-19 pre{padding: 0;}#sk-container-id-19 div.sk-toggleable {background-color: white;}#sk-container-id-19 label.sk-toggleable__label {cursor: pointer;display: block;width: 100%;margin-bottom: 0;padding: 0.3em;box-sizing: border-box;text-align: center;}#sk-container-id-19 label.sk-toggleable__label-arrow:before {content: \"▸\";float: left;margin-right: 0.25em;color: #696969;}#sk-container-id-19 label.sk-toggleable__label-arrow:hover:before {color: black;}#sk-container-id-19 div.sk-estimator:hover label.sk-toggleable__label-arrow:before {color: black;}#sk-container-id-19 div.sk-toggleable__content {max-height: 0;max-width: 0;overflow: hidden;text-align: left;background-color: #f0f8ff;}#sk-container-id-19 div.sk-toggleable__content pre {margin: 0.2em;color: black;border-radius: 0.25em;background-color: #f0f8ff;}#sk-container-id-19 input.sk-toggleable__control:checked~div.sk-toggleable__content {max-height: 200px;max-width: 100%;overflow: auto;}#sk-container-id-19 input.sk-toggleable__control:checked~label.sk-toggleable__label-arrow:before {content: \"▾\";}#sk-container-id-19 div.sk-estimator input.sk-toggleable__control:checked~label.sk-toggleable__label {background-color: #d4ebff;}#sk-container-id-19 div.sk-label input.sk-toggleable__control:checked~label.sk-toggleable__label {background-color: #d4ebff;}#sk-container-id-19 input.sk-hidden--visually {border: 0;clip: rect(1px 1px 1px 1px);clip: rect(1px, 1px, 1px, 1px);height: 1px;margin: -1px;overflow: hidden;padding: 0;position: absolute;width: 1px;}#sk-container-id-19 div.sk-estimator {font-family: monospace;background-color: #f0f8ff;border: 1px dotted black;border-radius: 0.25em;box-sizing: border-box;margin-bottom: 0.5em;}#sk-container-id-19 div.sk-estimator:hover {background-color: #d4ebff;}#sk-container-id-19 div.sk-parallel-item::after {content: \"\";width: 100%;border-bottom: 1px solid gray;flex-grow: 1;}#sk-container-id-19 div.sk-label:hover label.sk-toggleable__label {background-color: #d4ebff;}#sk-container-id-19 div.sk-serial::before {content: \"\";position: absolute;border-left: 1px solid gray;box-sizing: border-box;top: 0;bottom: 0;left: 50%;z-index: 0;}#sk-container-id-19 div.sk-serial {display: flex;flex-direction: column;align-items: center;background-color: white;padding-right: 0.2em;padding-left: 0.2em;position: relative;}#sk-container-id-19 div.sk-item {position: relative;z-index: 1;}#sk-container-id-19 div.sk-parallel {display: flex;align-items: stretch;justify-content: center;background-color: white;position: relative;}#sk-container-id-19 div.sk-item::before, #sk-container-id-19 div.sk-parallel-item::before {content: \"\";position: absolute;border-left: 1px solid gray;box-sizing: border-box;top: 0;bottom: 0;left: 50%;z-index: -1;}#sk-container-id-19 div.sk-parallel-item {display: flex;flex-direction: column;z-index: 1;position: relative;background-color: white;}#sk-container-id-19 div.sk-parallel-item:first-child::after {align-self: flex-end;width: 50%;}#sk-container-id-19 div.sk-parallel-item:last-child::after {align-self: flex-start;width: 50%;}#sk-container-id-19 div.sk-parallel-item:only-child::after {width: 0;}#sk-container-id-19 div.sk-dashed-wrapped {border: 1px dashed gray;margin: 0 0.4em 0.5em 0.4em;box-sizing: border-box;padding-bottom: 0.4em;background-color: white;}#sk-container-id-19 div.sk-label label {font-family: monospace;font-weight: bold;display: inline-block;line-height: 1.2em;}#sk-container-id-19 div.sk-label-container {text-align: center;}#sk-container-id-19 div.sk-container {/* jupyter's `normalize.less` sets `[hidden] { display: none; }` but bootstrap.min.css set `[hidden] { display: none !important; }` so we also need the `!important` here to be able to override the default hidden behavior on the sphinx rendered scikit-learn.org. See: https://github.com/scikit-learn/scikit-learn/issues/21755 */display: inline-block !important;position: relative;}#sk-container-id-19 div.sk-text-repr-fallback {display: none;}</style><div id=\"sk-container-id-19\" class=\"sk-top-container\"><div class=\"sk-text-repr-fallback\"><pre>BaggingRegressor(bootstrap_features=True)</pre><b>In a Jupyter environment, please rerun this cell to show the HTML representation or trust the notebook. <br />On GitHub, the HTML representation is unable to render, please try loading this page with nbviewer.org.</b></div><div class=\"sk-container\" hidden><div class=\"sk-item\"><div class=\"sk-estimator sk-toggleable\"><input class=\"sk-toggleable__control sk-hidden--visually\" id=\"sk-estimator-id-27\" type=\"checkbox\" checked><label for=\"sk-estimator-id-27\" class=\"sk-toggleable__label sk-toggleable__label-arrow\">BaggingRegressor</label><div class=\"sk-toggleable__content\"><pre>BaggingRegressor(bootstrap_features=True)</pre></div></div></div></div></div>"
      ],
      "text/plain": [
       "BaggingRegressor(bootstrap_features=True)"
      ]
     },
     "execution_count": 104,
     "metadata": {},
     "output_type": "execute_result"
    }
   ],
   "source": [
    "bag_model = BaggingRegressor(bootstrap_features = True)\n",
    "bag_model.fit(X_train, y_train)"
   ]
  },
  {
   "cell_type": "code",
   "execution_count": 105,
   "metadata": {},
   "outputs": [
    {
     "data": {
      "text/plain": [
       "10"
      ]
     },
     "execution_count": 105,
     "metadata": {},
     "output_type": "execute_result"
    }
   ],
   "source": [
    "bag_model.n_estimators"
   ]
  },
  {
   "cell_type": "code",
   "execution_count": 106,
   "metadata": {},
   "outputs": [
    {
     "data": {
      "text/plain": [
       "[DecisionTreeRegressor(random_state=1875850171),\n",
       " DecisionTreeRegressor(random_state=1686320658),\n",
       " DecisionTreeRegressor(random_state=2106270115),\n",
       " DecisionTreeRegressor(random_state=604160287),\n",
       " DecisionTreeRegressor(random_state=1818112300),\n",
       " DecisionTreeRegressor(random_state=1144551074),\n",
       " DecisionTreeRegressor(random_state=1634764234),\n",
       " DecisionTreeRegressor(random_state=820974251),\n",
       " DecisionTreeRegressor(random_state=1387516839),\n",
       " DecisionTreeRegressor(random_state=2009973545)]"
      ]
     },
     "execution_count": 106,
     "metadata": {},
     "output_type": "execute_result"
    }
   ],
   "source": [
    "bag_model.estimators_"
   ]
  },
  {
   "cell_type": "code",
   "execution_count": 107,
   "metadata": {},
   "outputs": [
    {
     "data": {
      "text/plain": [
       "[array([120, 102, 141,  16,  82,  35, 147,  84,   6, 161, 141, 164, 178,\n",
       "        119,  59,  89,  83, 116, 180,  74, 128,  70,  48,  73, 157, 173,\n",
       "         67,  89, 127, 108, 110, 162,  39, 151,  81,  52, 171,  40, 152,\n",
       "        129,  56, 100, 129, 125,  53, 101, 140, 101, 114,  26,   4,  19,\n",
       "         59,   1, 195, 132, 162,  79, 176,  97,  79, 165, 132, 163,  62,\n",
       "        147, 170,  92,  29,  44,   7, 195, 188,  52,  93, 183, 138, 175,\n",
       "         99,  40,  90,  45, 195,  20,  62,  86, 135, 115,  95,   7,  59,\n",
       "        123, 143, 171, 120,  72,  75, 183, 190,  64,  56,  83, 174,  94,\n",
       "        166, 132,  12,  25, 113, 185, 187,   8,  14,  70,  21,  36, 101,\n",
       "         30,  96, 112,   1, 138, 149,  46,  46,  78,  22, 109,  93, 140,\n",
       "         33,  70, 179,  38,  35,  85,  75,  11, 153, 151,  76,  39, 136,\n",
       "         99,  28, 108,  54, 179,  83,  32,   0, 130, 142, 194, 140,  38,\n",
       "         51,   6,  44,  70,  15, 174,  23, 125, 100,  90,  50, 139,  32,\n",
       "        107,  51, 143, 179, 185,  50,  27, 115, 175, 168, 166, 132,  63,\n",
       "         80, 180,  29,  70, 138, 118,  68,  37,  57,  32, 161, 117,  40,\n",
       "         57,  57]),\n",
       " array([175, 142,  67, 175,  63,  74,  42, 124, 165, 168,  50, 105,  87,\n",
       "        122,  11,  42, 155, 191,  83, 175,  96,  59,  71,  70, 172, 113,\n",
       "        119, 169, 192,   7, 104, 126, 179, 153,  50,  43,  12,  24,  42,\n",
       "        170, 173, 169,  43,  89,  91, 196,  17,  52,  67, 125, 128,  33,\n",
       "        180, 143, 149,  64, 144, 191,  65,   9,  87, 180,  83, 137, 130,\n",
       "        103, 137, 151, 119, 174, 105, 133,  65,  16,  41,   5,  18, 177,\n",
       "        140,  36, 126, 142,  57, 150, 172,  32, 123,  64, 168,   0, 126,\n",
       "          8, 116,  85,  19,   7,  28, 194, 146, 143, 153,  34,  19,  91,\n",
       "        137, 172,  11,  65,  48,  75,  42,  65, 108, 184, 174,  81, 125,\n",
       "         27,  12,  71,  98, 186,   5,  92, 178, 162,  12,  28, 138,  65,\n",
       "         22, 117, 160, 145, 177, 155, 164, 184, 125,  98,  40, 131, 159,\n",
       "        188, 193,  87,  71, 147, 196, 184,  76, 139,  22,  33,  48, 105,\n",
       "         86, 166, 158,  57, 179, 139, 177,  31,  29, 142,  72, 139,  47,\n",
       "         74,   6, 116, 118,  76,  80, 143, 144,  76, 173,  25,  77,  68,\n",
       "        149, 192, 111,  38, 172, 164,  65,  10, 170, 190, 112, 159, 162,\n",
       "          1,  66]),\n",
       " array([114,  83, 154,  30,  19, 164,  24, 186, 109, 174, 165,  87,   3,\n",
       "        170, 196, 116,  43, 171,  46, 142,   9, 116, 184,  90, 191,  26,\n",
       "        168, 153,  98,  20,  94, 119,  11, 138,  70, 135, 193,  54, 103,\n",
       "        150, 104, 183, 169,   7, 153,  52, 131, 127, 193, 167,  99,  90,\n",
       "        141, 172, 102, 158,  54, 146,  36,  16,  24,   4, 113,  22,  82,\n",
       "          0, 168,  54,  51, 120,  95,  63, 111, 182,  47,  41,  69,  57,\n",
       "        183, 167,  74,  44,  48, 168, 101, 111,  43, 182,  47,  96, 196,\n",
       "         65, 106, 158, 131, 113, 118,  55,  99,  15, 139, 105,  81, 114,\n",
       "         80,  30,  21, 162, 118,  50, 109,  92,  84,  74,  35,  46, 117,\n",
       "         61,   9,  23, 120, 127, 119, 190,  36, 175, 121, 161,  22,   9,\n",
       "         29, 109, 104, 123, 132,  40, 175, 106,  13, 111, 119, 151, 124,\n",
       "         98,   1, 136, 172,  51, 139,  73,  39, 194,  45, 106, 163, 192,\n",
       "        135, 171,  48,  70,  40, 175, 186, 190, 141, 166, 147,  56,   2,\n",
       "        188,  93, 128,  79, 120,  80,  27, 123,  73,  19,  44, 130,   0,\n",
       "         58,  28,  54,  26, 157,  23,  26, 147,  87,  20, 172, 139, 158,\n",
       "         60,  51]),\n",
       " array([107, 168, 125,  58, 151, 107, 130,  24,  84,  52, 100, 149,  87,\n",
       "        113,  85,  44, 142, 157,  78,  31,  34, 145,  89, 132,  19, 187,\n",
       "         87,  58,   5, 155, 125,   0,  34,  90, 191, 121, 130,  94,  63,\n",
       "         21,  88, 132,  76, 176, 104,   5, 126,  49,  89, 138,  60,  84,\n",
       "        157,   7,  21,   0,  35, 130,  40, 125, 131, 139,  23, 155, 129,\n",
       "         26,  17,  16, 147, 161, 193, 141, 125, 165, 118, 158,  90,  62,\n",
       "         13,  11, 193,  70,  14, 123, 159, 133,  50, 160, 109, 127,  67,\n",
       "        196,  96, 140, 145, 119, 131,  48, 164,  20,  80, 181,  74,  39,\n",
       "         52,   7, 186,  14,  96,   2, 142,  92, 173,  70, 152, 175,  37,\n",
       "          1,  77, 166,  62,  29, 120, 116, 152,  30,  45,  27, 139,   1,\n",
       "         81, 196, 194,  76, 138, 118,  10,  85,  50, 145, 156,  35, 122,\n",
       "          4, 127,  21, 130,  74, 135, 144, 150, 160, 142, 144, 136,  22,\n",
       "        147,  12, 164,  60,  85, 165,  16, 193, 180,  92, 132, 112, 158,\n",
       "        129, 173, 100, 117,  94, 180, 194, 116, 160, 196, 140, 107, 162,\n",
       "        134,  77, 142, 169,  48,   6, 112,  40, 146,  18,  71, 195,  95,\n",
       "         44,  98]),\n",
       " array([110,  43, 149,   0,  99,  43, 193, 105, 124, 122, 144,  88, 180,\n",
       "        170, 125, 104,  91,  62,  27,  84,  15, 186,   4, 179,  12, 190,\n",
       "        105, 172,  72,  56, 170, 124,  45,  92, 139,  12,  73, 160, 127,\n",
       "         42, 103, 131, 166,  51,  71, 143, 154, 134, 143,  55,   8,  85,\n",
       "         87,  29,  97,   4,  65, 149,  31,  16, 125,  61,  83,  66,  31,\n",
       "         15, 131,  23, 190, 171, 161, 145,  43,  21,   7, 172, 151,  15,\n",
       "        133, 145,  26, 138, 158,  90,  77, 184,  21, 122,  35, 122,  93,\n",
       "         21, 125,  63,  19, 100,   6, 183, 142, 167,  44,  84,  15,  69,\n",
       "          7,  70,  62, 163, 169,  19,  67,  91,   3,  16, 164, 107,  31,\n",
       "        103, 165,  22,   9, 108,   7, 136,  97,  48, 120, 126, 111, 117,\n",
       "        145, 187, 180,  84,  86, 111, 167, 192, 134,  48, 125, 116,  71,\n",
       "         89, 174, 185,  93, 173,  95, 159,  11, 182, 157,  59,  14,  27,\n",
       "         92,  82,  96,  32, 131, 191,  44, 132, 120,  42, 134, 115, 165,\n",
       "         96,  48,  54, 121,  77,   8,  49, 146, 133, 186, 102, 183,  57,\n",
       "        125, 143,  65, 109, 101, 158, 115,  26, 180,  92,  19,  26, 122,\n",
       "        168, 176]),\n",
       " array([161,  71,  54,  24, 127, 177,  73, 123,   6,  86,  22,  73,  17,\n",
       "         42, 121,  89, 178,   7,  64, 190,  89,  93,  51,   6, 190, 120,\n",
       "        162, 120, 108, 121,  65, 154,  32,  37,  48,  96,  64, 148,  73,\n",
       "        152, 186,  51,  15, 190,  79, 120,  28,  96,  36, 163,  96,  17,\n",
       "        104,  25, 196,  49,  74,  51,  62, 107, 103, 108, 143,  57, 188,\n",
       "        101, 158, 195,  33, 122,  23,  64,  97, 146,  24, 160,  27, 172,\n",
       "         27,  95,  22, 110,  52, 154,  22, 145,  66,   6, 196, 114,  28,\n",
       "        158, 115,  26,  25,  97,  49,  56,  52, 117, 155,  82, 154, 184,\n",
       "        137, 183, 147, 156,  58,  47,  27,  47, 176,  47, 180, 102, 119,\n",
       "        191,  66,  52, 160, 154,  35, 165, 191, 121,  12, 155,   4,  25,\n",
       "         40,  62,   0,  22,  72, 106,  39,  32, 110,  71,  14,  77, 159,\n",
       "        184, 158,  37, 118,  21, 109, 129, 105, 101, 147,  48,  73, 140,\n",
       "         86, 185,  76, 187,  71, 175, 189, 143,  51, 143, 115, 195,  81,\n",
       "         18,  24,  16, 184,  46, 149, 156,  31,  67,  36,  57, 104, 167,\n",
       "          9,  17,  94,  75,  39,  82, 186,  64,  28,   9, 153, 129,  20,\n",
       "        130,  55]),\n",
       " array([ 54, 115,  38,  30,  72, 144, 178, 176, 102,  51, 154, 129, 181,\n",
       "         77,  75, 180, 110,  75, 144, 196,  52, 196, 179, 174,  61, 115,\n",
       "         75, 157, 196, 193, 101, 127, 162,  51,  18, 132, 168,  79, 155,\n",
       "        114,  14, 138,  16, 158,  84, 135, 122,  74,  79,  45, 110, 114,\n",
       "        181, 106,  64,   2, 121, 155, 114,  72,  79, 131,  74, 162,   2,\n",
       "        174, 144, 183,  16,  93, 138, 182, 130,  94,  29,   8,   4, 118,\n",
       "        179, 131, 137, 152, 153, 145, 159,  85, 101, 194, 105,  90,  54,\n",
       "         51, 164, 111,  97, 189, 110,  62,  99, 165, 164, 172,   5, 194,\n",
       "        133, 130,  74,  42, 101,  22,  84, 126, 116,  94,  36,  66, 167,\n",
       "        100, 175,  26, 115,   1, 143, 181, 143, 126,  60, 149, 132,  96,\n",
       "         28, 169,  77, 188,  53,  66, 113, 129, 158,  80, 138, 128,  94,\n",
       "        105, 142, 116,  67,  59, 177, 183, 128, 175, 162,  72, 152,  40,\n",
       "         87, 161,  93, 105, 142, 184, 116, 104,  67,  31, 118,  58,  86,\n",
       "        104,  15,  22,  13, 175, 134, 116, 189,   7,  75,  27,  10, 145,\n",
       "         30, 127,  28,  31,  73,   3, 158,   2, 123, 144, 150, 157,  69,\n",
       "        138, 142]),\n",
       " array([139, 169, 105,  70,  46,  13, 171, 109,  43, 193,  50, 192, 167,\n",
       "          8, 189, 181,  63,   6,  24, 119, 143, 140,  79,  25, 192, 120,\n",
       "        145,   3,  99,  90, 139,  76,  73, 148, 169,  83, 137,  94, 136,\n",
       "        138,  18, 155, 175, 112,  31,  66,   8, 154, 118,  95, 172,  51,\n",
       "        158, 192,  11, 110,   2,  58,  75, 163, 121, 150,  77,  37, 146,\n",
       "         79,  87,  91, 137,  70, 135,  34, 140,  39,  65,  98,  71,  62,\n",
       "         52,   7,  26,  24,  90, 133,  93,  21, 112, 136, 160,  39,  43,\n",
       "         36,  57,  37,  25,  83,  75, 136, 170,  61,  27,  72,  75,  66,\n",
       "        105, 135,  13,  55,  79, 130, 110,  21,  53,   2, 141, 143, 122,\n",
       "        148, 146,  11,  36,  21,  66, 140, 159, 115,  80, 189,  42,  74,\n",
       "        153, 141, 158, 132,  51,  31,   7, 120, 167, 127, 103,  43, 169,\n",
       "          5,  74,  75, 167, 146, 141,  42, 119,  26,  25,  46,  31, 187,\n",
       "        168, 171,  80, 160, 135,  66,   3,  98, 120, 123,  42,  89, 151,\n",
       "         13,  55, 140, 127, 193, 158, 114, 143, 105,  47,  89, 146,  72,\n",
       "         11, 113,   4,  25, 143, 188,  81, 129,  36, 111,  96,  28,   4,\n",
       "        196,  95]),\n",
       " array([ 18, 194,  10,   1, 147,  20,  10, 162,  40, 143,  30, 162,  19,\n",
       "         28, 195,  32,  56,  61, 125, 171, 119,  78, 187, 143,  28, 188,\n",
       "        105,  63, 108, 154, 173,  14,  61, 163, 183, 103,  49, 159, 167,\n",
       "         20,  73, 155, 178,  15,   7, 155, 107, 151, 173,  58,  17, 100,\n",
       "         39,  95, 170, 174, 109,   6,  50,  51,  49,   0,  31,  80,   2,\n",
       "        114, 134,  39, 156,  90,  27,  89,  78,  41,  53, 130, 185,  58,\n",
       "         64,  27, 119, 155,  50, 159, 133,  64, 184, 168,   4, 129,  63,\n",
       "        175,  95,  82,   5, 141, 111, 130,  44,  29, 195,  21, 154, 142,\n",
       "         18, 128,  52,  17,   4,   8,  79, 143, 129, 184, 123,  35,  85,\n",
       "        115,  66, 113, 165,  17, 136, 140, 176, 151, 155,  80, 121,   0,\n",
       "        134, 191,  80,  45, 137, 175,  23,  69, 192,  29,  33, 112,  45,\n",
       "        157,  98,  24,  50,  42, 154,  47, 142, 183, 185, 152,  82,  78,\n",
       "        119,   3,  28,  18, 120,  31,  92, 107, 182, 182, 160, 116,  60,\n",
       "         87, 104,  72, 131, 185,  37,  71,  90,   7, 121,  59,  72, 187,\n",
       "         60, 104,  14, 194,  74, 150, 176,  17, 137,   5, 111, 150,   0,\n",
       "         62,  62]),\n",
       " array([146, 149,  89,  22,  77,  91,  61, 169, 150,  38, 178,  97,  65,\n",
       "         47, 187, 162, 125,  54, 143,   1, 183, 126, 191,  46, 124,  22,\n",
       "         57, 185, 169, 125,  82, 135,  92,  52,  97,  86,  87,  35, 150,\n",
       "        185, 188,   5, 111,  26,  20, 151, 194,  11,  89, 168, 101, 138,\n",
       "        104,  36,  25,  19,  59, 107, 192,   4, 190,  35, 187, 172,  24,\n",
       "        185,  30,  85,   1,  55,  98,   9,  69, 163, 142,  66, 178,  61,\n",
       "         52, 102, 138, 166, 151, 140, 100, 178, 183, 142,  54, 130,  38,\n",
       "        143, 107, 106,  20,  94,  42,  83, 192, 160,  74,   8,   5,  43,\n",
       "         40, 196,  62,  30,   4, 172,  16, 185,  35, 104, 143,  24, 165,\n",
       "         56,  14, 111,  45, 177, 104, 139, 159,  27, 170,  35, 120,  57,\n",
       "         43,  87,  37,  96, 185,  34,   8, 177,  14, 169, 100, 189,  92,\n",
       "         41, 122,  42, 167, 132, 132, 175,  65, 171,  85,  19,  58, 164,\n",
       "         20, 177,  22, 162,  41,  18, 100,  97,  43, 124,  23, 153,  22,\n",
       "          3, 156,  64, 180, 121, 117,  51, 168, 170, 110,  10,  94,  83,\n",
       "         86, 167,  57, 130,  83, 134,  63, 154, 125,  86,  86,  58,   9,\n",
       "         96, 110])]"
      ]
     },
     "execution_count": 107,
     "metadata": {},
     "output_type": "execute_result"
    }
   ],
   "source": [
    "bag_model.estimators_samples_"
   ]
  },
  {
   "cell_type": "code",
   "execution_count": 108,
   "metadata": {},
   "outputs": [
    {
     "data": {
      "text/plain": [
       "[array([ 1,  3, 15, 11,  8,  1,  0, 14,  2, 17,  6,  7, 15, 17, 17,  1,  3,\n",
       "        13, 14]),\n",
       " array([18, 16,  6,  7, 10,  8,  3, 11,  2,  1, 11,  8,  6,  4,  1, 14, 16,\n",
       "        15, 18]),\n",
       " array([ 3, 14,  7, 11,  0, 18,  4,  8, 12,  4, 14, 14,  4, 14, 13,  4,  4,\n",
       "         6, 15]),\n",
       " array([ 4, 15, 16,  9, 11, 18,  5, 14,  6, 17,  3, 12,  2,  5,  2,  4,  0,\n",
       "         9, 14]),\n",
       " array([12,  9,  7, 13, 18, 11, 13,  0,  4, 13, 10,  1,  8, 17, 14, 13, 13,\n",
       "        13, 11]),\n",
       " array([ 2, 15,  3, 14,  2,  5,  5, 12, 15, 18,  1,  1, 18,  8, 12,  7,  0,\n",
       "        18,  3]),\n",
       " array([10, 18,  2,  1,  8, 17,  1, 14, 15, 13, 13,  0, 15, 13, 13, 14, 15,\n",
       "        18,  1]),\n",
       " array([11, 16,  7,  6, 17,  9, 14,  4,  9,  9,  2,  5, 17,  3, 10, 11,  6,\n",
       "        11,  8]),\n",
       " array([ 7,  7, 17,  2,  7,  5, 10, 13,  9,  5, 16, 18, 17,  8, 13, 16, 12,\n",
       "         6, 12]),\n",
       " array([ 9,  0, 12,  8,  0, 16,  0,  3,  5, 15, 17, 10,  2,  9,  5,  0, 11,\n",
       "        14,  7])]"
      ]
     },
     "execution_count": 108,
     "metadata": {},
     "output_type": "execute_result"
    }
   ],
   "source": [
    "bag_model.estimators_features_"
   ]
  },
  {
   "cell_type": "code",
   "execution_count": 109,
   "metadata": {},
   "outputs": [
    {
     "data": {
      "text/html": [
       "<style>#sk-container-id-20 {color: black;}#sk-container-id-20 pre{padding: 0;}#sk-container-id-20 div.sk-toggleable {background-color: white;}#sk-container-id-20 label.sk-toggleable__label {cursor: pointer;display: block;width: 100%;margin-bottom: 0;padding: 0.3em;box-sizing: border-box;text-align: center;}#sk-container-id-20 label.sk-toggleable__label-arrow:before {content: \"▸\";float: left;margin-right: 0.25em;color: #696969;}#sk-container-id-20 label.sk-toggleable__label-arrow:hover:before {color: black;}#sk-container-id-20 div.sk-estimator:hover label.sk-toggleable__label-arrow:before {color: black;}#sk-container-id-20 div.sk-toggleable__content {max-height: 0;max-width: 0;overflow: hidden;text-align: left;background-color: #f0f8ff;}#sk-container-id-20 div.sk-toggleable__content pre {margin: 0.2em;color: black;border-radius: 0.25em;background-color: #f0f8ff;}#sk-container-id-20 input.sk-toggleable__control:checked~div.sk-toggleable__content {max-height: 200px;max-width: 100%;overflow: auto;}#sk-container-id-20 input.sk-toggleable__control:checked~label.sk-toggleable__label-arrow:before {content: \"▾\";}#sk-container-id-20 div.sk-estimator input.sk-toggleable__control:checked~label.sk-toggleable__label {background-color: #d4ebff;}#sk-container-id-20 div.sk-label input.sk-toggleable__control:checked~label.sk-toggleable__label {background-color: #d4ebff;}#sk-container-id-20 input.sk-hidden--visually {border: 0;clip: rect(1px 1px 1px 1px);clip: rect(1px, 1px, 1px, 1px);height: 1px;margin: -1px;overflow: hidden;padding: 0;position: absolute;width: 1px;}#sk-container-id-20 div.sk-estimator {font-family: monospace;background-color: #f0f8ff;border: 1px dotted black;border-radius: 0.25em;box-sizing: border-box;margin-bottom: 0.5em;}#sk-container-id-20 div.sk-estimator:hover {background-color: #d4ebff;}#sk-container-id-20 div.sk-parallel-item::after {content: \"\";width: 100%;border-bottom: 1px solid gray;flex-grow: 1;}#sk-container-id-20 div.sk-label:hover label.sk-toggleable__label {background-color: #d4ebff;}#sk-container-id-20 div.sk-serial::before {content: \"\";position: absolute;border-left: 1px solid gray;box-sizing: border-box;top: 0;bottom: 0;left: 50%;z-index: 0;}#sk-container-id-20 div.sk-serial {display: flex;flex-direction: column;align-items: center;background-color: white;padding-right: 0.2em;padding-left: 0.2em;position: relative;}#sk-container-id-20 div.sk-item {position: relative;z-index: 1;}#sk-container-id-20 div.sk-parallel {display: flex;align-items: stretch;justify-content: center;background-color: white;position: relative;}#sk-container-id-20 div.sk-item::before, #sk-container-id-20 div.sk-parallel-item::before {content: \"\";position: absolute;border-left: 1px solid gray;box-sizing: border-box;top: 0;bottom: 0;left: 50%;z-index: -1;}#sk-container-id-20 div.sk-parallel-item {display: flex;flex-direction: column;z-index: 1;position: relative;background-color: white;}#sk-container-id-20 div.sk-parallel-item:first-child::after {align-self: flex-end;width: 50%;}#sk-container-id-20 div.sk-parallel-item:last-child::after {align-self: flex-start;width: 50%;}#sk-container-id-20 div.sk-parallel-item:only-child::after {width: 0;}#sk-container-id-20 div.sk-dashed-wrapped {border: 1px dashed gray;margin: 0 0.4em 0.5em 0.4em;box-sizing: border-box;padding-bottom: 0.4em;background-color: white;}#sk-container-id-20 div.sk-label label {font-family: monospace;font-weight: bold;display: inline-block;line-height: 1.2em;}#sk-container-id-20 div.sk-label-container {text-align: center;}#sk-container-id-20 div.sk-container {/* jupyter's `normalize.less` sets `[hidden] { display: none; }` but bootstrap.min.css set `[hidden] { display: none !important; }` so we also need the `!important` here to be able to override the default hidden behavior on the sphinx rendered scikit-learn.org. See: https://github.com/scikit-learn/scikit-learn/issues/21755 */display: inline-block !important;position: relative;}#sk-container-id-20 div.sk-text-repr-fallback {display: none;}</style><div id=\"sk-container-id-20\" class=\"sk-top-container\"><div class=\"sk-text-repr-fallback\"><pre>DecisionTreeRegressor(random_state=1686320658)</pre><b>In a Jupyter environment, please rerun this cell to show the HTML representation or trust the notebook. <br />On GitHub, the HTML representation is unable to render, please try loading this page with nbviewer.org.</b></div><div class=\"sk-container\" hidden><div class=\"sk-item\"><div class=\"sk-estimator sk-toggleable\"><input class=\"sk-toggleable__control sk-hidden--visually\" id=\"sk-estimator-id-28\" type=\"checkbox\" checked><label for=\"sk-estimator-id-28\" class=\"sk-toggleable__label sk-toggleable__label-arrow\">DecisionTreeRegressor</label><div class=\"sk-toggleable__content\"><pre>DecisionTreeRegressor(random_state=1686320658)</pre></div></div></div></div></div>"
      ],
      "text/plain": [
       "DecisionTreeRegressor(random_state=1686320658)"
      ]
     },
     "execution_count": 109,
     "metadata": {},
     "output_type": "execute_result"
    }
   ],
   "source": [
    "bag_model.estimators_[1]"
   ]
  },
  {
   "cell_type": "markdown",
   "metadata": {},
   "source": [
    "## Tahmin"
   ]
  },
  {
   "cell_type": "code",
   "execution_count": 110,
   "metadata": {},
   "outputs": [],
   "source": [
    "y_pred = bag_model.predict(X_test)"
   ]
  },
  {
   "cell_type": "code",
   "execution_count": 111,
   "metadata": {},
   "outputs": [
    {
     "data": {
      "text/plain": [
       "329.4424429776916"
      ]
     },
     "execution_count": 111,
     "metadata": {},
     "output_type": "execute_result"
    }
   ],
   "source": [
    "np.sqrt(mean_squared_error(y_test, y_pred))"
   ]
  },
  {
   "cell_type": "code",
   "execution_count": 112,
   "metadata": {},
   "outputs": [],
   "source": [
    "iki_y_pred = bag_model.estimators_[1].fit(X_train, y_train).predict(X_test)"
   ]
  },
  {
   "cell_type": "code",
   "execution_count": 113,
   "metadata": {},
   "outputs": [
    {
     "data": {
      "text/plain": [
       "530.8569840261865"
      ]
     },
     "execution_count": 113,
     "metadata": {},
     "output_type": "execute_result"
    }
   ],
   "source": [
    "np.sqrt(mean_squared_error(y_test, iki_y_pred))"
   ]
  },
  {
   "cell_type": "code",
   "execution_count": 114,
   "metadata": {},
   "outputs": [],
   "source": [
    "yedi_y_pred = bag_model.estimators_[4].fit(X_train, y_train).predict(X_test)"
   ]
  },
  {
   "cell_type": "code",
   "execution_count": 115,
   "metadata": {},
   "outputs": [
    {
     "data": {
      "text/plain": [
       "440.43887842357327"
      ]
     },
     "execution_count": 115,
     "metadata": {},
     "output_type": "execute_result"
    }
   ],
   "source": [
    "np.sqrt(mean_squared_error(y_test, yedi_y_pred))"
   ]
  },
  {
   "cell_type": "markdown",
   "metadata": {},
   "source": [
    "# Model Tuning"
   ]
  },
  {
   "cell_type": "code",
   "execution_count": 116,
   "metadata": {},
   "outputs": [
    {
     "data": {
      "text/html": [
       "<style>#sk-container-id-21 {color: black;}#sk-container-id-21 pre{padding: 0;}#sk-container-id-21 div.sk-toggleable {background-color: white;}#sk-container-id-21 label.sk-toggleable__label {cursor: pointer;display: block;width: 100%;margin-bottom: 0;padding: 0.3em;box-sizing: border-box;text-align: center;}#sk-container-id-21 label.sk-toggleable__label-arrow:before {content: \"▸\";float: left;margin-right: 0.25em;color: #696969;}#sk-container-id-21 label.sk-toggleable__label-arrow:hover:before {color: black;}#sk-container-id-21 div.sk-estimator:hover label.sk-toggleable__label-arrow:before {color: black;}#sk-container-id-21 div.sk-toggleable__content {max-height: 0;max-width: 0;overflow: hidden;text-align: left;background-color: #f0f8ff;}#sk-container-id-21 div.sk-toggleable__content pre {margin: 0.2em;color: black;border-radius: 0.25em;background-color: #f0f8ff;}#sk-container-id-21 input.sk-toggleable__control:checked~div.sk-toggleable__content {max-height: 200px;max-width: 100%;overflow: auto;}#sk-container-id-21 input.sk-toggleable__control:checked~label.sk-toggleable__label-arrow:before {content: \"▾\";}#sk-container-id-21 div.sk-estimator input.sk-toggleable__control:checked~label.sk-toggleable__label {background-color: #d4ebff;}#sk-container-id-21 div.sk-label input.sk-toggleable__control:checked~label.sk-toggleable__label {background-color: #d4ebff;}#sk-container-id-21 input.sk-hidden--visually {border: 0;clip: rect(1px 1px 1px 1px);clip: rect(1px, 1px, 1px, 1px);height: 1px;margin: -1px;overflow: hidden;padding: 0;position: absolute;width: 1px;}#sk-container-id-21 div.sk-estimator {font-family: monospace;background-color: #f0f8ff;border: 1px dotted black;border-radius: 0.25em;box-sizing: border-box;margin-bottom: 0.5em;}#sk-container-id-21 div.sk-estimator:hover {background-color: #d4ebff;}#sk-container-id-21 div.sk-parallel-item::after {content: \"\";width: 100%;border-bottom: 1px solid gray;flex-grow: 1;}#sk-container-id-21 div.sk-label:hover label.sk-toggleable__label {background-color: #d4ebff;}#sk-container-id-21 div.sk-serial::before {content: \"\";position: absolute;border-left: 1px solid gray;box-sizing: border-box;top: 0;bottom: 0;left: 50%;z-index: 0;}#sk-container-id-21 div.sk-serial {display: flex;flex-direction: column;align-items: center;background-color: white;padding-right: 0.2em;padding-left: 0.2em;position: relative;}#sk-container-id-21 div.sk-item {position: relative;z-index: 1;}#sk-container-id-21 div.sk-parallel {display: flex;align-items: stretch;justify-content: center;background-color: white;position: relative;}#sk-container-id-21 div.sk-item::before, #sk-container-id-21 div.sk-parallel-item::before {content: \"\";position: absolute;border-left: 1px solid gray;box-sizing: border-box;top: 0;bottom: 0;left: 50%;z-index: -1;}#sk-container-id-21 div.sk-parallel-item {display: flex;flex-direction: column;z-index: 1;position: relative;background-color: white;}#sk-container-id-21 div.sk-parallel-item:first-child::after {align-self: flex-end;width: 50%;}#sk-container-id-21 div.sk-parallel-item:last-child::after {align-self: flex-start;width: 50%;}#sk-container-id-21 div.sk-parallel-item:only-child::after {width: 0;}#sk-container-id-21 div.sk-dashed-wrapped {border: 1px dashed gray;margin: 0 0.4em 0.5em 0.4em;box-sizing: border-box;padding-bottom: 0.4em;background-color: white;}#sk-container-id-21 div.sk-label label {font-family: monospace;font-weight: bold;display: inline-block;line-height: 1.2em;}#sk-container-id-21 div.sk-label-container {text-align: center;}#sk-container-id-21 div.sk-container {/* jupyter's `normalize.less` sets `[hidden] { display: none; }` but bootstrap.min.css set `[hidden] { display: none !important; }` so we also need the `!important` here to be able to override the default hidden behavior on the sphinx rendered scikit-learn.org. See: https://github.com/scikit-learn/scikit-learn/issues/21755 */display: inline-block !important;position: relative;}#sk-container-id-21 div.sk-text-repr-fallback {display: none;}</style><div id=\"sk-container-id-21\" class=\"sk-top-container\"><div class=\"sk-text-repr-fallback\"><pre>BaggingRegressor(bootstrap_features=True)</pre><b>In a Jupyter environment, please rerun this cell to show the HTML representation or trust the notebook. <br />On GitHub, the HTML representation is unable to render, please try loading this page with nbviewer.org.</b></div><div class=\"sk-container\" hidden><div class=\"sk-item\"><div class=\"sk-estimator sk-toggleable\"><input class=\"sk-toggleable__control sk-hidden--visually\" id=\"sk-estimator-id-29\" type=\"checkbox\" checked><label for=\"sk-estimator-id-29\" class=\"sk-toggleable__label sk-toggleable__label-arrow\">BaggingRegressor</label><div class=\"sk-toggleable__content\"><pre>BaggingRegressor(bootstrap_features=True)</pre></div></div></div></div></div>"
      ],
      "text/plain": [
       "BaggingRegressor(bootstrap_features=True)"
      ]
     },
     "execution_count": 116,
     "metadata": {},
     "output_type": "execute_result"
    }
   ],
   "source": [
    "bag_model = BaggingRegressor(bootstrap_features = True)\n",
    "bag_model.fit(X_train, y_train)"
   ]
  },
  {
   "cell_type": "code",
   "execution_count": 117,
   "metadata": {},
   "outputs": [],
   "source": [
    "bag_params = {\"n_estimators\": range(2,20)}"
   ]
  },
  {
   "cell_type": "code",
   "execution_count": 118,
   "metadata": {},
   "outputs": [],
   "source": [
    "bag_cv_model = GridSearchCV(bag_model, bag_params, cv = 10)"
   ]
  },
  {
   "cell_type": "code",
   "execution_count": 119,
   "metadata": {},
   "outputs": [
    {
     "data": {
      "text/html": [
       "<style>#sk-container-id-22 {color: black;}#sk-container-id-22 pre{padding: 0;}#sk-container-id-22 div.sk-toggleable {background-color: white;}#sk-container-id-22 label.sk-toggleable__label {cursor: pointer;display: block;width: 100%;margin-bottom: 0;padding: 0.3em;box-sizing: border-box;text-align: center;}#sk-container-id-22 label.sk-toggleable__label-arrow:before {content: \"▸\";float: left;margin-right: 0.25em;color: #696969;}#sk-container-id-22 label.sk-toggleable__label-arrow:hover:before {color: black;}#sk-container-id-22 div.sk-estimator:hover label.sk-toggleable__label-arrow:before {color: black;}#sk-container-id-22 div.sk-toggleable__content {max-height: 0;max-width: 0;overflow: hidden;text-align: left;background-color: #f0f8ff;}#sk-container-id-22 div.sk-toggleable__content pre {margin: 0.2em;color: black;border-radius: 0.25em;background-color: #f0f8ff;}#sk-container-id-22 input.sk-toggleable__control:checked~div.sk-toggleable__content {max-height: 200px;max-width: 100%;overflow: auto;}#sk-container-id-22 input.sk-toggleable__control:checked~label.sk-toggleable__label-arrow:before {content: \"▾\";}#sk-container-id-22 div.sk-estimator input.sk-toggleable__control:checked~label.sk-toggleable__label {background-color: #d4ebff;}#sk-container-id-22 div.sk-label input.sk-toggleable__control:checked~label.sk-toggleable__label {background-color: #d4ebff;}#sk-container-id-22 input.sk-hidden--visually {border: 0;clip: rect(1px 1px 1px 1px);clip: rect(1px, 1px, 1px, 1px);height: 1px;margin: -1px;overflow: hidden;padding: 0;position: absolute;width: 1px;}#sk-container-id-22 div.sk-estimator {font-family: monospace;background-color: #f0f8ff;border: 1px dotted black;border-radius: 0.25em;box-sizing: border-box;margin-bottom: 0.5em;}#sk-container-id-22 div.sk-estimator:hover {background-color: #d4ebff;}#sk-container-id-22 div.sk-parallel-item::after {content: \"\";width: 100%;border-bottom: 1px solid gray;flex-grow: 1;}#sk-container-id-22 div.sk-label:hover label.sk-toggleable__label {background-color: #d4ebff;}#sk-container-id-22 div.sk-serial::before {content: \"\";position: absolute;border-left: 1px solid gray;box-sizing: border-box;top: 0;bottom: 0;left: 50%;z-index: 0;}#sk-container-id-22 div.sk-serial {display: flex;flex-direction: column;align-items: center;background-color: white;padding-right: 0.2em;padding-left: 0.2em;position: relative;}#sk-container-id-22 div.sk-item {position: relative;z-index: 1;}#sk-container-id-22 div.sk-parallel {display: flex;align-items: stretch;justify-content: center;background-color: white;position: relative;}#sk-container-id-22 div.sk-item::before, #sk-container-id-22 div.sk-parallel-item::before {content: \"\";position: absolute;border-left: 1px solid gray;box-sizing: border-box;top: 0;bottom: 0;left: 50%;z-index: -1;}#sk-container-id-22 div.sk-parallel-item {display: flex;flex-direction: column;z-index: 1;position: relative;background-color: white;}#sk-container-id-22 div.sk-parallel-item:first-child::after {align-self: flex-end;width: 50%;}#sk-container-id-22 div.sk-parallel-item:last-child::after {align-self: flex-start;width: 50%;}#sk-container-id-22 div.sk-parallel-item:only-child::after {width: 0;}#sk-container-id-22 div.sk-dashed-wrapped {border: 1px dashed gray;margin: 0 0.4em 0.5em 0.4em;box-sizing: border-box;padding-bottom: 0.4em;background-color: white;}#sk-container-id-22 div.sk-label label {font-family: monospace;font-weight: bold;display: inline-block;line-height: 1.2em;}#sk-container-id-22 div.sk-label-container {text-align: center;}#sk-container-id-22 div.sk-container {/* jupyter's `normalize.less` sets `[hidden] { display: none; }` but bootstrap.min.css set `[hidden] { display: none !important; }` so we also need the `!important` here to be able to override the default hidden behavior on the sphinx rendered scikit-learn.org. See: https://github.com/scikit-learn/scikit-learn/issues/21755 */display: inline-block !important;position: relative;}#sk-container-id-22 div.sk-text-repr-fallback {display: none;}</style><div id=\"sk-container-id-22\" class=\"sk-top-container\"><div class=\"sk-text-repr-fallback\"><pre>GridSearchCV(cv=10, estimator=BaggingRegressor(bootstrap_features=True),\n",
       "             param_grid={&#x27;n_estimators&#x27;: range(2, 20)})</pre><b>In a Jupyter environment, please rerun this cell to show the HTML representation or trust the notebook. <br />On GitHub, the HTML representation is unable to render, please try loading this page with nbviewer.org.</b></div><div class=\"sk-container\" hidden><div class=\"sk-item sk-dashed-wrapped\"><div class=\"sk-label-container\"><div class=\"sk-label sk-toggleable\"><input class=\"sk-toggleable__control sk-hidden--visually\" id=\"sk-estimator-id-30\" type=\"checkbox\" ><label for=\"sk-estimator-id-30\" class=\"sk-toggleable__label sk-toggleable__label-arrow\">GridSearchCV</label><div class=\"sk-toggleable__content\"><pre>GridSearchCV(cv=10, estimator=BaggingRegressor(bootstrap_features=True),\n",
       "             param_grid={&#x27;n_estimators&#x27;: range(2, 20)})</pre></div></div></div><div class=\"sk-parallel\"><div class=\"sk-parallel-item\"><div class=\"sk-item\"><div class=\"sk-label-container\"><div class=\"sk-label sk-toggleable\"><input class=\"sk-toggleable__control sk-hidden--visually\" id=\"sk-estimator-id-31\" type=\"checkbox\" ><label for=\"sk-estimator-id-31\" class=\"sk-toggleable__label sk-toggleable__label-arrow\">estimator: BaggingRegressor</label><div class=\"sk-toggleable__content\"><pre>BaggingRegressor(bootstrap_features=True)</pre></div></div></div><div class=\"sk-serial\"><div class=\"sk-item\"><div class=\"sk-estimator sk-toggleable\"><input class=\"sk-toggleable__control sk-hidden--visually\" id=\"sk-estimator-id-32\" type=\"checkbox\" ><label for=\"sk-estimator-id-32\" class=\"sk-toggleable__label sk-toggleable__label-arrow\">BaggingRegressor</label><div class=\"sk-toggleable__content\"><pre>BaggingRegressor(bootstrap_features=True)</pre></div></div></div></div></div></div></div></div></div></div>"
      ],
      "text/plain": [
       "GridSearchCV(cv=10, estimator=BaggingRegressor(bootstrap_features=True),\n",
       "             param_grid={'n_estimators': range(2, 20)})"
      ]
     },
     "execution_count": 119,
     "metadata": {},
     "output_type": "execute_result"
    }
   ],
   "source": [
    "bag_cv_model.fit(X_train, y_train)"
   ]
  },
  {
   "cell_type": "code",
   "execution_count": 120,
   "metadata": {},
   "outputs": [
    {
     "data": {
      "text/plain": [
       "{'n_estimators': 5}"
      ]
     },
     "execution_count": 120,
     "metadata": {},
     "output_type": "execute_result"
    }
   ],
   "source": [
    "bag_cv_model.best_params_"
   ]
  },
  {
   "cell_type": "code",
   "execution_count": 121,
   "metadata": {},
   "outputs": [],
   "source": [
    "bag_tuned = BaggingRegressor( n_estimators = 14, random_state = 45)"
   ]
  },
  {
   "cell_type": "code",
   "execution_count": 122,
   "metadata": {},
   "outputs": [
    {
     "data": {
      "text/html": [
       "<style>#sk-container-id-23 {color: black;}#sk-container-id-23 pre{padding: 0;}#sk-container-id-23 div.sk-toggleable {background-color: white;}#sk-container-id-23 label.sk-toggleable__label {cursor: pointer;display: block;width: 100%;margin-bottom: 0;padding: 0.3em;box-sizing: border-box;text-align: center;}#sk-container-id-23 label.sk-toggleable__label-arrow:before {content: \"▸\";float: left;margin-right: 0.25em;color: #696969;}#sk-container-id-23 label.sk-toggleable__label-arrow:hover:before {color: black;}#sk-container-id-23 div.sk-estimator:hover label.sk-toggleable__label-arrow:before {color: black;}#sk-container-id-23 div.sk-toggleable__content {max-height: 0;max-width: 0;overflow: hidden;text-align: left;background-color: #f0f8ff;}#sk-container-id-23 div.sk-toggleable__content pre {margin: 0.2em;color: black;border-radius: 0.25em;background-color: #f0f8ff;}#sk-container-id-23 input.sk-toggleable__control:checked~div.sk-toggleable__content {max-height: 200px;max-width: 100%;overflow: auto;}#sk-container-id-23 input.sk-toggleable__control:checked~label.sk-toggleable__label-arrow:before {content: \"▾\";}#sk-container-id-23 div.sk-estimator input.sk-toggleable__control:checked~label.sk-toggleable__label {background-color: #d4ebff;}#sk-container-id-23 div.sk-label input.sk-toggleable__control:checked~label.sk-toggleable__label {background-color: #d4ebff;}#sk-container-id-23 input.sk-hidden--visually {border: 0;clip: rect(1px 1px 1px 1px);clip: rect(1px, 1px, 1px, 1px);height: 1px;margin: -1px;overflow: hidden;padding: 0;position: absolute;width: 1px;}#sk-container-id-23 div.sk-estimator {font-family: monospace;background-color: #f0f8ff;border: 1px dotted black;border-radius: 0.25em;box-sizing: border-box;margin-bottom: 0.5em;}#sk-container-id-23 div.sk-estimator:hover {background-color: #d4ebff;}#sk-container-id-23 div.sk-parallel-item::after {content: \"\";width: 100%;border-bottom: 1px solid gray;flex-grow: 1;}#sk-container-id-23 div.sk-label:hover label.sk-toggleable__label {background-color: #d4ebff;}#sk-container-id-23 div.sk-serial::before {content: \"\";position: absolute;border-left: 1px solid gray;box-sizing: border-box;top: 0;bottom: 0;left: 50%;z-index: 0;}#sk-container-id-23 div.sk-serial {display: flex;flex-direction: column;align-items: center;background-color: white;padding-right: 0.2em;padding-left: 0.2em;position: relative;}#sk-container-id-23 div.sk-item {position: relative;z-index: 1;}#sk-container-id-23 div.sk-parallel {display: flex;align-items: stretch;justify-content: center;background-color: white;position: relative;}#sk-container-id-23 div.sk-item::before, #sk-container-id-23 div.sk-parallel-item::before {content: \"\";position: absolute;border-left: 1px solid gray;box-sizing: border-box;top: 0;bottom: 0;left: 50%;z-index: -1;}#sk-container-id-23 div.sk-parallel-item {display: flex;flex-direction: column;z-index: 1;position: relative;background-color: white;}#sk-container-id-23 div.sk-parallel-item:first-child::after {align-self: flex-end;width: 50%;}#sk-container-id-23 div.sk-parallel-item:last-child::after {align-self: flex-start;width: 50%;}#sk-container-id-23 div.sk-parallel-item:only-child::after {width: 0;}#sk-container-id-23 div.sk-dashed-wrapped {border: 1px dashed gray;margin: 0 0.4em 0.5em 0.4em;box-sizing: border-box;padding-bottom: 0.4em;background-color: white;}#sk-container-id-23 div.sk-label label {font-family: monospace;font-weight: bold;display: inline-block;line-height: 1.2em;}#sk-container-id-23 div.sk-label-container {text-align: center;}#sk-container-id-23 div.sk-container {/* jupyter's `normalize.less` sets `[hidden] { display: none; }` but bootstrap.min.css set `[hidden] { display: none !important; }` so we also need the `!important` here to be able to override the default hidden behavior on the sphinx rendered scikit-learn.org. See: https://github.com/scikit-learn/scikit-learn/issues/21755 */display: inline-block !important;position: relative;}#sk-container-id-23 div.sk-text-repr-fallback {display: none;}</style><div id=\"sk-container-id-23\" class=\"sk-top-container\"><div class=\"sk-text-repr-fallback\"><pre>BaggingRegressor(n_estimators=14, random_state=45)</pre><b>In a Jupyter environment, please rerun this cell to show the HTML representation or trust the notebook. <br />On GitHub, the HTML representation is unable to render, please try loading this page with nbviewer.org.</b></div><div class=\"sk-container\" hidden><div class=\"sk-item\"><div class=\"sk-estimator sk-toggleable\"><input class=\"sk-toggleable__control sk-hidden--visually\" id=\"sk-estimator-id-33\" type=\"checkbox\" checked><label for=\"sk-estimator-id-33\" class=\"sk-toggleable__label sk-toggleable__label-arrow\">BaggingRegressor</label><div class=\"sk-toggleable__content\"><pre>BaggingRegressor(n_estimators=14, random_state=45)</pre></div></div></div></div></div>"
      ],
      "text/plain": [
       "BaggingRegressor(n_estimators=14, random_state=45)"
      ]
     },
     "execution_count": 122,
     "metadata": {},
     "output_type": "execute_result"
    }
   ],
   "source": [
    "bag_tuned.fit(X_train, y_train)"
   ]
  },
  {
   "cell_type": "code",
   "execution_count": 123,
   "metadata": {},
   "outputs": [],
   "source": [
    "y_pred = bag_tuned.predict(X_test)"
   ]
  },
  {
   "cell_type": "code",
   "execution_count": 124,
   "metadata": {},
   "outputs": [
    {
     "data": {
      "text/plain": [
       "346.457987188104"
      ]
     },
     "execution_count": 124,
     "metadata": {},
     "output_type": "execute_result"
    }
   ],
   "source": [
    "np.sqrt(mean_squared_error(y_test, y_pred))"
   ]
  },
  {
   "cell_type": "markdown",
   "metadata": {},
   "source": [
    "# Random Forests"
   ]
  },
  {
   "cell_type": "code",
   "execution_count": 125,
   "metadata": {},
   "outputs": [],
   "source": [
    "hit = pd.read_csv(\"Hitters.csv\")\n",
    "df = hit.copy()\n",
    "df = df.dropna()\n",
    "dms = pd.get_dummies(df[['League', 'Division', 'NewLeague']])\n",
    "y = df[\"Salary\"]\n",
    "X_ = df.drop(['Salary', 'League', 'Division', 'NewLeague'], axis=1).astype('float64')\n",
    "X = pd.concat([X_, dms[['League_N', 'Division_W', 'NewLeague_N']]], axis=1)\n",
    "X_train, X_test, y_train, y_test = train_test_split(X, y, \n",
    "                                                    test_size=0.25, \n",
    "                                                    random_state=42)\n"
   ]
  },
  {
   "cell_type": "code",
   "execution_count": 126,
   "metadata": {},
   "outputs": [],
   "source": [
    "from sklearn.ensemble import RandomForestRegressor"
   ]
  },
  {
   "cell_type": "code",
   "execution_count": 127,
   "metadata": {},
   "outputs": [],
   "source": [
    "rf_model = RandomForestRegressor(random_state = 42)"
   ]
  },
  {
   "cell_type": "code",
   "execution_count": 128,
   "metadata": {},
   "outputs": [
    {
     "data": {
      "text/html": [
       "<style>#sk-container-id-24 {color: black;}#sk-container-id-24 pre{padding: 0;}#sk-container-id-24 div.sk-toggleable {background-color: white;}#sk-container-id-24 label.sk-toggleable__label {cursor: pointer;display: block;width: 100%;margin-bottom: 0;padding: 0.3em;box-sizing: border-box;text-align: center;}#sk-container-id-24 label.sk-toggleable__label-arrow:before {content: \"▸\";float: left;margin-right: 0.25em;color: #696969;}#sk-container-id-24 label.sk-toggleable__label-arrow:hover:before {color: black;}#sk-container-id-24 div.sk-estimator:hover label.sk-toggleable__label-arrow:before {color: black;}#sk-container-id-24 div.sk-toggleable__content {max-height: 0;max-width: 0;overflow: hidden;text-align: left;background-color: #f0f8ff;}#sk-container-id-24 div.sk-toggleable__content pre {margin: 0.2em;color: black;border-radius: 0.25em;background-color: #f0f8ff;}#sk-container-id-24 input.sk-toggleable__control:checked~div.sk-toggleable__content {max-height: 200px;max-width: 100%;overflow: auto;}#sk-container-id-24 input.sk-toggleable__control:checked~label.sk-toggleable__label-arrow:before {content: \"▾\";}#sk-container-id-24 div.sk-estimator input.sk-toggleable__control:checked~label.sk-toggleable__label {background-color: #d4ebff;}#sk-container-id-24 div.sk-label input.sk-toggleable__control:checked~label.sk-toggleable__label {background-color: #d4ebff;}#sk-container-id-24 input.sk-hidden--visually {border: 0;clip: rect(1px 1px 1px 1px);clip: rect(1px, 1px, 1px, 1px);height: 1px;margin: -1px;overflow: hidden;padding: 0;position: absolute;width: 1px;}#sk-container-id-24 div.sk-estimator {font-family: monospace;background-color: #f0f8ff;border: 1px dotted black;border-radius: 0.25em;box-sizing: border-box;margin-bottom: 0.5em;}#sk-container-id-24 div.sk-estimator:hover {background-color: #d4ebff;}#sk-container-id-24 div.sk-parallel-item::after {content: \"\";width: 100%;border-bottom: 1px solid gray;flex-grow: 1;}#sk-container-id-24 div.sk-label:hover label.sk-toggleable__label {background-color: #d4ebff;}#sk-container-id-24 div.sk-serial::before {content: \"\";position: absolute;border-left: 1px solid gray;box-sizing: border-box;top: 0;bottom: 0;left: 50%;z-index: 0;}#sk-container-id-24 div.sk-serial {display: flex;flex-direction: column;align-items: center;background-color: white;padding-right: 0.2em;padding-left: 0.2em;position: relative;}#sk-container-id-24 div.sk-item {position: relative;z-index: 1;}#sk-container-id-24 div.sk-parallel {display: flex;align-items: stretch;justify-content: center;background-color: white;position: relative;}#sk-container-id-24 div.sk-item::before, #sk-container-id-24 div.sk-parallel-item::before {content: \"\";position: absolute;border-left: 1px solid gray;box-sizing: border-box;top: 0;bottom: 0;left: 50%;z-index: -1;}#sk-container-id-24 div.sk-parallel-item {display: flex;flex-direction: column;z-index: 1;position: relative;background-color: white;}#sk-container-id-24 div.sk-parallel-item:first-child::after {align-self: flex-end;width: 50%;}#sk-container-id-24 div.sk-parallel-item:last-child::after {align-self: flex-start;width: 50%;}#sk-container-id-24 div.sk-parallel-item:only-child::after {width: 0;}#sk-container-id-24 div.sk-dashed-wrapped {border: 1px dashed gray;margin: 0 0.4em 0.5em 0.4em;box-sizing: border-box;padding-bottom: 0.4em;background-color: white;}#sk-container-id-24 div.sk-label label {font-family: monospace;font-weight: bold;display: inline-block;line-height: 1.2em;}#sk-container-id-24 div.sk-label-container {text-align: center;}#sk-container-id-24 div.sk-container {/* jupyter's `normalize.less` sets `[hidden] { display: none; }` but bootstrap.min.css set `[hidden] { display: none !important; }` so we also need the `!important` here to be able to override the default hidden behavior on the sphinx rendered scikit-learn.org. See: https://github.com/scikit-learn/scikit-learn/issues/21755 */display: inline-block !important;position: relative;}#sk-container-id-24 div.sk-text-repr-fallback {display: none;}</style><div id=\"sk-container-id-24\" class=\"sk-top-container\"><div class=\"sk-text-repr-fallback\"><pre>RandomForestRegressor(random_state=42)</pre><b>In a Jupyter environment, please rerun this cell to show the HTML representation or trust the notebook. <br />On GitHub, the HTML representation is unable to render, please try loading this page with nbviewer.org.</b></div><div class=\"sk-container\" hidden><div class=\"sk-item\"><div class=\"sk-estimator sk-toggleable\"><input class=\"sk-toggleable__control sk-hidden--visually\" id=\"sk-estimator-id-34\" type=\"checkbox\" checked><label for=\"sk-estimator-id-34\" class=\"sk-toggleable__label sk-toggleable__label-arrow\">RandomForestRegressor</label><div class=\"sk-toggleable__content\"><pre>RandomForestRegressor(random_state=42)</pre></div></div></div></div></div>"
      ],
      "text/plain": [
       "RandomForestRegressor(random_state=42)"
      ]
     },
     "execution_count": 128,
     "metadata": {},
     "output_type": "execute_result"
    }
   ],
   "source": [
    "rf_model.fit(X_train, y_train)"
   ]
  },
  {
   "cell_type": "markdown",
   "metadata": {},
   "source": [
    "## Tahmin"
   ]
  },
  {
   "cell_type": "code",
   "execution_count": 129,
   "metadata": {},
   "outputs": [
    {
     "data": {
      "text/plain": [
       "array([ 738.69167,  913.51164, 1181.145  ,  139.65167,  634.60833])"
      ]
     },
     "execution_count": 129,
     "metadata": {},
     "output_type": "execute_result"
    }
   ],
   "source": [
    "rf_model.predict(X_test)[0:5]"
   ]
  },
  {
   "cell_type": "code",
   "execution_count": 130,
   "metadata": {},
   "outputs": [],
   "source": [
    "y_pred = rf_model.predict(X_test)"
   ]
  },
  {
   "cell_type": "code",
   "execution_count": 131,
   "metadata": {},
   "outputs": [
    {
     "data": {
      "text/plain": [
       "344.8191624908484"
      ]
     },
     "execution_count": 131,
     "metadata": {},
     "output_type": "execute_result"
    }
   ],
   "source": [
    "np.sqrt(mean_squared_error(y_test, y_pred))"
   ]
  },
  {
   "cell_type": "markdown",
   "metadata": {},
   "source": [
    "## Model Tuning"
   ]
  },
  {
   "cell_type": "code",
   "execution_count": 132,
   "metadata": {},
   "outputs": [],
   "source": [
    "rf_params = {'max_depth': list(range(1,10)),\n",
    "            'max_features': [3,5,10,15],\n",
    "            'n_estimators' : [100, 200, 500, 1000, 2000]}"
   ]
  },
  {
   "cell_type": "code",
   "execution_count": 133,
   "metadata": {},
   "outputs": [],
   "source": [
    "rf_model = RandomForestRegressor(random_state = 42)"
   ]
  },
  {
   "cell_type": "code",
   "execution_count": 134,
   "metadata": {},
   "outputs": [],
   "source": [
    "rf_cv_model = GridSearchCV(rf_model, \n",
    "                           rf_params, \n",
    "                           cv = 10, \n",
    "                            n_jobs = -1)"
   ]
  },
  {
   "cell_type": "code",
   "execution_count": 135,
   "metadata": {},
   "outputs": [
    {
     "data": {
      "text/html": [
       "<style>#sk-container-id-25 {color: black;}#sk-container-id-25 pre{padding: 0;}#sk-container-id-25 div.sk-toggleable {background-color: white;}#sk-container-id-25 label.sk-toggleable__label {cursor: pointer;display: block;width: 100%;margin-bottom: 0;padding: 0.3em;box-sizing: border-box;text-align: center;}#sk-container-id-25 label.sk-toggleable__label-arrow:before {content: \"▸\";float: left;margin-right: 0.25em;color: #696969;}#sk-container-id-25 label.sk-toggleable__label-arrow:hover:before {color: black;}#sk-container-id-25 div.sk-estimator:hover label.sk-toggleable__label-arrow:before {color: black;}#sk-container-id-25 div.sk-toggleable__content {max-height: 0;max-width: 0;overflow: hidden;text-align: left;background-color: #f0f8ff;}#sk-container-id-25 div.sk-toggleable__content pre {margin: 0.2em;color: black;border-radius: 0.25em;background-color: #f0f8ff;}#sk-container-id-25 input.sk-toggleable__control:checked~div.sk-toggleable__content {max-height: 200px;max-width: 100%;overflow: auto;}#sk-container-id-25 input.sk-toggleable__control:checked~label.sk-toggleable__label-arrow:before {content: \"▾\";}#sk-container-id-25 div.sk-estimator input.sk-toggleable__control:checked~label.sk-toggleable__label {background-color: #d4ebff;}#sk-container-id-25 div.sk-label input.sk-toggleable__control:checked~label.sk-toggleable__label {background-color: #d4ebff;}#sk-container-id-25 input.sk-hidden--visually {border: 0;clip: rect(1px 1px 1px 1px);clip: rect(1px, 1px, 1px, 1px);height: 1px;margin: -1px;overflow: hidden;padding: 0;position: absolute;width: 1px;}#sk-container-id-25 div.sk-estimator {font-family: monospace;background-color: #f0f8ff;border: 1px dotted black;border-radius: 0.25em;box-sizing: border-box;margin-bottom: 0.5em;}#sk-container-id-25 div.sk-estimator:hover {background-color: #d4ebff;}#sk-container-id-25 div.sk-parallel-item::after {content: \"\";width: 100%;border-bottom: 1px solid gray;flex-grow: 1;}#sk-container-id-25 div.sk-label:hover label.sk-toggleable__label {background-color: #d4ebff;}#sk-container-id-25 div.sk-serial::before {content: \"\";position: absolute;border-left: 1px solid gray;box-sizing: border-box;top: 0;bottom: 0;left: 50%;z-index: 0;}#sk-container-id-25 div.sk-serial {display: flex;flex-direction: column;align-items: center;background-color: white;padding-right: 0.2em;padding-left: 0.2em;position: relative;}#sk-container-id-25 div.sk-item {position: relative;z-index: 1;}#sk-container-id-25 div.sk-parallel {display: flex;align-items: stretch;justify-content: center;background-color: white;position: relative;}#sk-container-id-25 div.sk-item::before, #sk-container-id-25 div.sk-parallel-item::before {content: \"\";position: absolute;border-left: 1px solid gray;box-sizing: border-box;top: 0;bottom: 0;left: 50%;z-index: -1;}#sk-container-id-25 div.sk-parallel-item {display: flex;flex-direction: column;z-index: 1;position: relative;background-color: white;}#sk-container-id-25 div.sk-parallel-item:first-child::after {align-self: flex-end;width: 50%;}#sk-container-id-25 div.sk-parallel-item:last-child::after {align-self: flex-start;width: 50%;}#sk-container-id-25 div.sk-parallel-item:only-child::after {width: 0;}#sk-container-id-25 div.sk-dashed-wrapped {border: 1px dashed gray;margin: 0 0.4em 0.5em 0.4em;box-sizing: border-box;padding-bottom: 0.4em;background-color: white;}#sk-container-id-25 div.sk-label label {font-family: monospace;font-weight: bold;display: inline-block;line-height: 1.2em;}#sk-container-id-25 div.sk-label-container {text-align: center;}#sk-container-id-25 div.sk-container {/* jupyter's `normalize.less` sets `[hidden] { display: none; }` but bootstrap.min.css set `[hidden] { display: none !important; }` so we also need the `!important` here to be able to override the default hidden behavior on the sphinx rendered scikit-learn.org. See: https://github.com/scikit-learn/scikit-learn/issues/21755 */display: inline-block !important;position: relative;}#sk-container-id-25 div.sk-text-repr-fallback {display: none;}</style><div id=\"sk-container-id-25\" class=\"sk-top-container\"><div class=\"sk-text-repr-fallback\"><pre>GridSearchCV(cv=10, estimator=RandomForestRegressor(random_state=42), n_jobs=-1,\n",
       "             param_grid={&#x27;max_depth&#x27;: [1, 2, 3, 4, 5, 6, 7, 8, 9],\n",
       "                         &#x27;max_features&#x27;: [3, 5, 10, 15],\n",
       "                         &#x27;n_estimators&#x27;: [100, 200, 500, 1000, 2000]})</pre><b>In a Jupyter environment, please rerun this cell to show the HTML representation or trust the notebook. <br />On GitHub, the HTML representation is unable to render, please try loading this page with nbviewer.org.</b></div><div class=\"sk-container\" hidden><div class=\"sk-item sk-dashed-wrapped\"><div class=\"sk-label-container\"><div class=\"sk-label sk-toggleable\"><input class=\"sk-toggleable__control sk-hidden--visually\" id=\"sk-estimator-id-35\" type=\"checkbox\" ><label for=\"sk-estimator-id-35\" class=\"sk-toggleable__label sk-toggleable__label-arrow\">GridSearchCV</label><div class=\"sk-toggleable__content\"><pre>GridSearchCV(cv=10, estimator=RandomForestRegressor(random_state=42), n_jobs=-1,\n",
       "             param_grid={&#x27;max_depth&#x27;: [1, 2, 3, 4, 5, 6, 7, 8, 9],\n",
       "                         &#x27;max_features&#x27;: [3, 5, 10, 15],\n",
       "                         &#x27;n_estimators&#x27;: [100, 200, 500, 1000, 2000]})</pre></div></div></div><div class=\"sk-parallel\"><div class=\"sk-parallel-item\"><div class=\"sk-item\"><div class=\"sk-label-container\"><div class=\"sk-label sk-toggleable\"><input class=\"sk-toggleable__control sk-hidden--visually\" id=\"sk-estimator-id-36\" type=\"checkbox\" ><label for=\"sk-estimator-id-36\" class=\"sk-toggleable__label sk-toggleable__label-arrow\">estimator: RandomForestRegressor</label><div class=\"sk-toggleable__content\"><pre>RandomForestRegressor(random_state=42)</pre></div></div></div><div class=\"sk-serial\"><div class=\"sk-item\"><div class=\"sk-estimator sk-toggleable\"><input class=\"sk-toggleable__control sk-hidden--visually\" id=\"sk-estimator-id-37\" type=\"checkbox\" ><label for=\"sk-estimator-id-37\" class=\"sk-toggleable__label sk-toggleable__label-arrow\">RandomForestRegressor</label><div class=\"sk-toggleable__content\"><pre>RandomForestRegressor(random_state=42)</pre></div></div></div></div></div></div></div></div></div></div>"
      ],
      "text/plain": [
       "GridSearchCV(cv=10, estimator=RandomForestRegressor(random_state=42), n_jobs=-1,\n",
       "             param_grid={'max_depth': [1, 2, 3, 4, 5, 6, 7, 8, 9],\n",
       "                         'max_features': [3, 5, 10, 15],\n",
       "                         'n_estimators': [100, 200, 500, 1000, 2000]})"
      ]
     },
     "execution_count": 135,
     "metadata": {},
     "output_type": "execute_result"
    }
   ],
   "source": [
    "rf_cv_model.fit(X_train, y_train)"
   ]
  },
  {
   "cell_type": "code",
   "execution_count": 136,
   "metadata": {},
   "outputs": [
    {
     "data": {
      "text/plain": [
       "{'max_depth': 8, 'max_features': 3, 'n_estimators': 200}"
      ]
     },
     "execution_count": 136,
     "metadata": {},
     "output_type": "execute_result"
    }
   ],
   "source": [
    "rf_cv_model.best_params_"
   ]
  },
  {
   "cell_type": "code",
   "execution_count": 137,
   "metadata": {},
   "outputs": [],
   "source": [
    "rf_tuned = RandomForestRegressor(max_depth  = 8, \n",
    "                                 max_features = 3, \n",
    "                                 n_estimators =200)"
   ]
  },
  {
   "cell_type": "code",
   "execution_count": 138,
   "metadata": {},
   "outputs": [
    {
     "data": {
      "text/html": [
       "<style>#sk-container-id-26 {color: black;}#sk-container-id-26 pre{padding: 0;}#sk-container-id-26 div.sk-toggleable {background-color: white;}#sk-container-id-26 label.sk-toggleable__label {cursor: pointer;display: block;width: 100%;margin-bottom: 0;padding: 0.3em;box-sizing: border-box;text-align: center;}#sk-container-id-26 label.sk-toggleable__label-arrow:before {content: \"▸\";float: left;margin-right: 0.25em;color: #696969;}#sk-container-id-26 label.sk-toggleable__label-arrow:hover:before {color: black;}#sk-container-id-26 div.sk-estimator:hover label.sk-toggleable__label-arrow:before {color: black;}#sk-container-id-26 div.sk-toggleable__content {max-height: 0;max-width: 0;overflow: hidden;text-align: left;background-color: #f0f8ff;}#sk-container-id-26 div.sk-toggleable__content pre {margin: 0.2em;color: black;border-radius: 0.25em;background-color: #f0f8ff;}#sk-container-id-26 input.sk-toggleable__control:checked~div.sk-toggleable__content {max-height: 200px;max-width: 100%;overflow: auto;}#sk-container-id-26 input.sk-toggleable__control:checked~label.sk-toggleable__label-arrow:before {content: \"▾\";}#sk-container-id-26 div.sk-estimator input.sk-toggleable__control:checked~label.sk-toggleable__label {background-color: #d4ebff;}#sk-container-id-26 div.sk-label input.sk-toggleable__control:checked~label.sk-toggleable__label {background-color: #d4ebff;}#sk-container-id-26 input.sk-hidden--visually {border: 0;clip: rect(1px 1px 1px 1px);clip: rect(1px, 1px, 1px, 1px);height: 1px;margin: -1px;overflow: hidden;padding: 0;position: absolute;width: 1px;}#sk-container-id-26 div.sk-estimator {font-family: monospace;background-color: #f0f8ff;border: 1px dotted black;border-radius: 0.25em;box-sizing: border-box;margin-bottom: 0.5em;}#sk-container-id-26 div.sk-estimator:hover {background-color: #d4ebff;}#sk-container-id-26 div.sk-parallel-item::after {content: \"\";width: 100%;border-bottom: 1px solid gray;flex-grow: 1;}#sk-container-id-26 div.sk-label:hover label.sk-toggleable__label {background-color: #d4ebff;}#sk-container-id-26 div.sk-serial::before {content: \"\";position: absolute;border-left: 1px solid gray;box-sizing: border-box;top: 0;bottom: 0;left: 50%;z-index: 0;}#sk-container-id-26 div.sk-serial {display: flex;flex-direction: column;align-items: center;background-color: white;padding-right: 0.2em;padding-left: 0.2em;position: relative;}#sk-container-id-26 div.sk-item {position: relative;z-index: 1;}#sk-container-id-26 div.sk-parallel {display: flex;align-items: stretch;justify-content: center;background-color: white;position: relative;}#sk-container-id-26 div.sk-item::before, #sk-container-id-26 div.sk-parallel-item::before {content: \"\";position: absolute;border-left: 1px solid gray;box-sizing: border-box;top: 0;bottom: 0;left: 50%;z-index: -1;}#sk-container-id-26 div.sk-parallel-item {display: flex;flex-direction: column;z-index: 1;position: relative;background-color: white;}#sk-container-id-26 div.sk-parallel-item:first-child::after {align-self: flex-end;width: 50%;}#sk-container-id-26 div.sk-parallel-item:last-child::after {align-self: flex-start;width: 50%;}#sk-container-id-26 div.sk-parallel-item:only-child::after {width: 0;}#sk-container-id-26 div.sk-dashed-wrapped {border: 1px dashed gray;margin: 0 0.4em 0.5em 0.4em;box-sizing: border-box;padding-bottom: 0.4em;background-color: white;}#sk-container-id-26 div.sk-label label {font-family: monospace;font-weight: bold;display: inline-block;line-height: 1.2em;}#sk-container-id-26 div.sk-label-container {text-align: center;}#sk-container-id-26 div.sk-container {/* jupyter's `normalize.less` sets `[hidden] { display: none; }` but bootstrap.min.css set `[hidden] { display: none !important; }` so we also need the `!important` here to be able to override the default hidden behavior on the sphinx rendered scikit-learn.org. See: https://github.com/scikit-learn/scikit-learn/issues/21755 */display: inline-block !important;position: relative;}#sk-container-id-26 div.sk-text-repr-fallback {display: none;}</style><div id=\"sk-container-id-26\" class=\"sk-top-container\"><div class=\"sk-text-repr-fallback\"><pre>RandomForestRegressor(max_depth=8, max_features=3, n_estimators=200)</pre><b>In a Jupyter environment, please rerun this cell to show the HTML representation or trust the notebook. <br />On GitHub, the HTML representation is unable to render, please try loading this page with nbviewer.org.</b></div><div class=\"sk-container\" hidden><div class=\"sk-item\"><div class=\"sk-estimator sk-toggleable\"><input class=\"sk-toggleable__control sk-hidden--visually\" id=\"sk-estimator-id-38\" type=\"checkbox\" checked><label for=\"sk-estimator-id-38\" class=\"sk-toggleable__label sk-toggleable__label-arrow\">RandomForestRegressor</label><div class=\"sk-toggleable__content\"><pre>RandomForestRegressor(max_depth=8, max_features=3, n_estimators=200)</pre></div></div></div></div></div>"
      ],
      "text/plain": [
       "RandomForestRegressor(max_depth=8, max_features=3, n_estimators=200)"
      ]
     },
     "execution_count": 138,
     "metadata": {},
     "output_type": "execute_result"
    }
   ],
   "source": [
    "rf_tuned.fit(X_train, y_train)"
   ]
  },
  {
   "cell_type": "code",
   "execution_count": 139,
   "metadata": {},
   "outputs": [],
   "source": [
    "y_pred = rf_tuned.predict(X_test)"
   ]
  },
  {
   "cell_type": "code",
   "execution_count": 140,
   "metadata": {},
   "outputs": [
    {
     "data": {
      "text/plain": [
       "343.6939662734028"
      ]
     },
     "execution_count": 140,
     "metadata": {},
     "output_type": "execute_result"
    }
   ],
   "source": [
    "np.sqrt(mean_squared_error(y_test, y_pred))"
   ]
  },
  {
   "cell_type": "code",
   "execution_count": 141,
   "metadata": {},
   "outputs": [],
   "source": [
    "Importance = pd.DataFrame({\"Importance\": rf_tuned.feature_importances_*100},\n",
    "                         index = X_train.columns)"
   ]
  },
  {
   "cell_type": "code",
   "execution_count": 142,
   "metadata": {},
   "outputs": [
    {
     "data": {
      "text/plain": [
       "Text(0.5, 0, 'Değişken Önem Düzeyleri')"
      ]
     },
     "execution_count": 142,
     "metadata": {},
     "output_type": "execute_result"
    },
    {
     "data": {
      "image/png": "[encoded data removed]",
      "text/plain": [
       "<Figure size 640x480 with 1 Axes>"
      ]
     },
     "metadata": {},
     "output_type": "display_data"
    }
   ],
   "source": [
    "Importance.sort_values(by = \"Importance\", \n",
    "                       axis = 0, \n",
    "                       ascending = True).plot(kind =\"barh\", color = \"r\")\n",
    "\n",
    "plt.xlabel(\"Değişken Önem Düzeyleri\")"
   ]
  },
  {
   "cell_type": "markdown",
   "metadata": {},
   "source": [
    "# Gradient Boosting Machines"
   ]
  },
  {
   "cell_type": "code",
   "execution_count": 143,
   "metadata": {},
   "outputs": [],
   "source": [
    "from sklearn.ensemble import GradientBoostingRegressor"
   ]
  },
  {
   "cell_type": "code",
   "execution_count": 144,
   "metadata": {},
   "outputs": [
    {
     "data": {
      "text/html": [
       "<style>#sk-container-id-27 {color: black;}#sk-container-id-27 pre{padding: 0;}#sk-container-id-27 div.sk-toggleable {background-color: white;}#sk-container-id-27 label.sk-toggleable__label {cursor: pointer;display: block;width: 100%;margin-bottom: 0;padding: 0.3em;box-sizing: border-box;text-align: center;}#sk-container-id-27 label.sk-toggleable__label-arrow:before {content: \"▸\";float: left;margin-right: 0.25em;color: #696969;}#sk-container-id-27 label.sk-toggleable__label-arrow:hover:before {color: black;}#sk-container-id-27 div.sk-estimator:hover label.sk-toggleable__label-arrow:before {color: black;}#sk-container-id-27 div.sk-toggleable__content {max-height: 0;max-width: 0;overflow: hidden;text-align: left;background-color: #f0f8ff;}#sk-container-id-27 div.sk-toggleable__content pre {margin: 0.2em;color: black;border-radius: 0.25em;background-color: #f0f8ff;}#sk-container-id-27 input.sk-toggleable__control:checked~div.sk-toggleable__content {max-height: 200px;max-width: 100%;overflow: auto;}#sk-container-id-27 input.sk-toggleable__control:checked~label.sk-toggleable__label-arrow:before {content: \"▾\";}#sk-container-id-27 div.sk-estimator input.sk-toggleable__control:checked~label.sk-toggleable__label {background-color: #d4ebff;}#sk-container-id-27 div.sk-label input.sk-toggleable__control:checked~label.sk-toggleable__label {background-color: #d4ebff;}#sk-container-id-27 input.sk-hidden--visually {border: 0;clip: rect(1px 1px 1px 1px);clip: rect(1px, 1px, 1px, 1px);height: 1px;margin: -1px;overflow: hidden;padding: 0;position: absolute;width: 1px;}#sk-container-id-27 div.sk-estimator {font-family: monospace;background-color: #f0f8ff;border: 1px dotted black;border-radius: 0.25em;box-sizing: border-box;margin-bottom: 0.5em;}#sk-container-id-27 div.sk-estimator:hover {background-color: #d4ebff;}#sk-container-id-27 div.sk-parallel-item::after {content: \"\";width: 100%;border-bottom: 1px solid gray;flex-grow: 1;}#sk-container-id-27 div.sk-label:hover label.sk-toggleable__label {background-color: #d4ebff;}#sk-container-id-27 div.sk-serial::before {content: \"\";position: absolute;border-left: 1px solid gray;box-sizing: border-box;top: 0;bottom: 0;left: 50%;z-index: 0;}#sk-container-id-27 div.sk-serial {display: flex;flex-direction: column;align-items: center;background-color: white;padding-right: 0.2em;padding-left: 0.2em;position: relative;}#sk-container-id-27 div.sk-item {position: relative;z-index: 1;}#sk-container-id-27 div.sk-parallel {display: flex;align-items: stretch;justify-content: center;background-color: white;position: relative;}#sk-container-id-27 div.sk-item::before, #sk-container-id-27 div.sk-parallel-item::before {content: \"\";position: absolute;border-left: 1px solid gray;box-sizing: border-box;top: 0;bottom: 0;left: 50%;z-index: -1;}#sk-container-id-27 div.sk-parallel-item {display: flex;flex-direction: column;z-index: 1;position: relative;background-color: white;}#sk-container-id-27 div.sk-parallel-item:first-child::after {align-self: flex-end;width: 50%;}#sk-container-id-27 div.sk-parallel-item:last-child::after {align-self: flex-start;width: 50%;}#sk-container-id-27 div.sk-parallel-item:only-child::after {width: 0;}#sk-container-id-27 div.sk-dashed-wrapped {border: 1px dashed gray;margin: 0 0.4em 0.5em 0.4em;box-sizing: border-box;padding-bottom: 0.4em;background-color: white;}#sk-container-id-27 div.sk-label label {font-family: monospace;font-weight: bold;display: inline-block;line-height: 1.2em;}#sk-container-id-27 div.sk-label-container {text-align: center;}#sk-container-id-27 div.sk-container {/* jupyter's `normalize.less` sets `[hidden] { display: none; }` but bootstrap.min.css set `[hidden] { display: none !important; }` so we also need the `!important` here to be able to override the default hidden behavior on the sphinx rendered scikit-learn.org. See: https://github.com/scikit-learn/scikit-learn/issues/21755 */display: inline-block !important;position: relative;}#sk-container-id-27 div.sk-text-repr-fallback {display: none;}</style><div id=\"sk-container-id-27\" class=\"sk-top-container\"><div class=\"sk-text-repr-fallback\"><pre>GradientBoostingRegressor()</pre><b>In a Jupyter environment, please rerun this cell to show the HTML representation or trust the notebook. <br />On GitHub, the HTML representation is unable to render, please try loading this page with nbviewer.org.</b></div><div class=\"sk-container\" hidden><div class=\"sk-item\"><div class=\"sk-estimator sk-toggleable\"><input class=\"sk-toggleable__control sk-hidden--visually\" id=\"sk-estimator-id-39\" type=\"checkbox\" checked><label for=\"sk-estimator-id-39\" class=\"sk-toggleable__label sk-toggleable__label-arrow\">GradientBoostingRegressor</label><div class=\"sk-toggleable__content\"><pre>GradientBoostingRegressor()</pre></div></div></div></div></div>"
      ],
      "text/plain": [
       "GradientBoostingRegressor()"
      ]
     },
     "execution_count": 144,
     "metadata": {},
     "output_type": "execute_result"
    }
   ],
   "source": [
    "gbm_model = GradientBoostingRegressor()\n",
    "gbm_model.fit(X_train, y_train)"
   ]
  },
  {
   "cell_type": "markdown",
   "metadata": {},
   "source": [
    "## Tahmin"
   ]
  },
  {
   "cell_type": "code",
   "execution_count": 145,
   "metadata": {},
   "outputs": [
    {
     "data": {
      "text/plain": [
       "353.9224989904392"
      ]
     },
     "execution_count": 145,
     "metadata": {},
     "output_type": "execute_result"
    }
   ],
   "source": [
    "y_pred = gbm_model.predict(X_test)\n",
    "np.sqrt(mean_squared_error(y_test, y_pred))"
   ]
  },
  {
   "cell_type": "markdown",
   "metadata": {},
   "source": [
    "## Model Tuning"
   ]
  },
  {
   "cell_type": "code",
   "execution_count": 146,
   "metadata": {},
   "outputs": [],
   "source": [
    "gbm_params = {\n",
    "    'learning_rate': [0.001, 0.01, 0.1, 0.2],\n",
    "    'max_depth': [3, 5, 8,50,100],\n",
    "    'n_estimators': [200, 500, 1000, 2000],\n",
    "    'subsample': [1,0.5,0.75],\n",
    "}"
   ]
  },
  {
   "cell_type": "code",
   "execution_count": 147,
   "metadata": {},
   "outputs": [
    {
     "name": "stdout",
     "output_type": "stream",
     "text": [
      "Fitting 10 folds for each of 240 candidates, totalling 2400 fits\n"
     ]
    },
    {
     "data": {
      "text/html": [
       "<style>#sk-container-id-28 {color: black;}#sk-container-id-28 pre{padding: 0;}#sk-container-id-28 div.sk-toggleable {background-color: white;}#sk-container-id-28 label.sk-toggleable__label {cursor: pointer;display: block;width: 100%;margin-bottom: 0;padding: 0.3em;box-sizing: border-box;text-align: center;}#sk-container-id-28 label.sk-toggleable__label-arrow:before {content: \"▸\";float: left;margin-right: 0.25em;color: #696969;}#sk-container-id-28 label.sk-toggleable__label-arrow:hover:before {color: black;}#sk-container-id-28 div.sk-estimator:hover label.sk-toggleable__label-arrow:before {color: black;}#sk-container-id-28 div.sk-toggleable__content {max-height: 0;max-width: 0;overflow: hidden;text-align: left;background-color: #f0f8ff;}#sk-container-id-28 div.sk-toggleable__content pre {margin: 0.2em;color: black;border-radius: 0.25em;background-color: #f0f8ff;}#sk-container-id-28 input.sk-toggleable__control:checked~div.sk-toggleable__content {max-height: 200px;max-width: 100%;overflow: auto;}#sk-container-id-28 input.sk-toggleable__control:checked~label.sk-toggleable__label-arrow:before {content: \"▾\";}#sk-container-id-28 div.sk-estimator input.sk-toggleable__control:checked~label.sk-toggleable__label {background-color: #d4ebff;}#sk-container-id-28 div.sk-label input.sk-toggleable__control:checked~label.sk-toggleable__label {background-color: #d4ebff;}#sk-container-id-28 input.sk-hidden--visually {border: 0;clip: rect(1px 1px 1px 1px);clip: rect(1px, 1px, 1px, 1px);height: 1px;margin: -1px;overflow: hidden;padding: 0;position: absolute;width: 1px;}#sk-container-id-28 div.sk-estimator {font-family: monospace;background-color: #f0f8ff;border: 1px dotted black;border-radius: 0.25em;box-sizing: border-box;margin-bottom: 0.5em;}#sk-container-id-28 div.sk-estimator:hover {background-color: #d4ebff;}#sk-container-id-28 div.sk-parallel-item::after {content: \"\";width: 100%;border-bottom: 1px solid gray;flex-grow: 1;}#sk-container-id-28 div.sk-label:hover label.sk-toggleable__label {background-color: #d4ebff;}#sk-container-id-28 div.sk-serial::before {content: \"\";position: absolute;border-left: 1px solid gray;box-sizing: border-box;top: 0;bottom: 0;left: 50%;z-index: 0;}#sk-container-id-28 div.sk-serial {display: flex;flex-direction: column;align-items: center;background-color: white;padding-right: 0.2em;padding-left: 0.2em;position: relative;}#sk-container-id-28 div.sk-item {position: relative;z-index: 1;}#sk-container-id-28 div.sk-parallel {display: flex;align-items: stretch;justify-content: center;background-color: white;position: relative;}#sk-container-id-28 div.sk-item::before, #sk-container-id-28 div.sk-parallel-item::before {content: \"\";position: absolute;border-left: 1px solid gray;box-sizing: border-box;top: 0;bottom: 0;left: 50%;z-index: -1;}#sk-container-id-28 div.sk-parallel-item {display: flex;flex-direction: column;z-index: 1;position: relative;background-color: white;}#sk-container-id-28 div.sk-parallel-item:first-child::after {align-self: flex-end;width: 50%;}#sk-container-id-28 div.sk-parallel-item:last-child::after {align-self: flex-start;width: 50%;}#sk-container-id-28 div.sk-parallel-item:only-child::after {width: 0;}#sk-container-id-28 div.sk-dashed-wrapped {border: 1px dashed gray;margin: 0 0.4em 0.5em 0.4em;box-sizing: border-box;padding-bottom: 0.4em;background-color: white;}#sk-container-id-28 div.sk-label label {font-family: monospace;font-weight: bold;display: inline-block;line-height: 1.2em;}#sk-container-id-28 div.sk-label-container {text-align: center;}#sk-container-id-28 div.sk-container {/* jupyter's `normalize.less` sets `[hidden] { display: none; }` but bootstrap.min.css set `[hidden] { display: none !important; }` so we also need the `!important` here to be able to override the default hidden behavior on the sphinx rendered scikit-learn.org. See: https://github.com/scikit-learn/scikit-learn/issues/21755 */display: inline-block !important;position: relative;}#sk-container-id-28 div.sk-text-repr-fallback {display: none;}</style><div id=\"sk-container-id-28\" class=\"sk-top-container\"><div class=\"sk-text-repr-fallback\"><pre>GridSearchCV(cv=10, estimator=GradientBoostingRegressor(), n_jobs=-1,\n",
       "             param_grid={&#x27;learning_rate&#x27;: [0.001, 0.01, 0.1, 0.2],\n",
       "                         &#x27;max_depth&#x27;: [3, 5, 8, 50, 100],\n",
       "                         &#x27;n_estimators&#x27;: [200, 500, 1000, 2000],\n",
       "                         &#x27;subsample&#x27;: [1, 0.5, 0.75]},\n",
       "             verbose=2)</pre><b>In a Jupyter environment, please rerun this cell to show the HTML representation or trust the notebook. <br />On GitHub, the HTML representation is unable to render, please try loading this page with nbviewer.org.</b></div><div class=\"sk-container\" hidden><div class=\"sk-item sk-dashed-wrapped\"><div class=\"sk-label-container\"><div class=\"sk-label sk-toggleable\"><input class=\"sk-toggleable__control sk-hidden--visually\" id=\"sk-estimator-id-40\" type=\"checkbox\" ><label for=\"sk-estimator-id-40\" class=\"sk-toggleable__label sk-toggleable__label-arrow\">GridSearchCV</label><div class=\"sk-toggleable__content\"><pre>GridSearchCV(cv=10, estimator=GradientBoostingRegressor(), n_jobs=-1,\n",
       "             param_grid={&#x27;learning_rate&#x27;: [0.001, 0.01, 0.1, 0.2],\n",
       "                         &#x27;max_depth&#x27;: [3, 5, 8, 50, 100],\n",
       "                         &#x27;n_estimators&#x27;: [200, 500, 1000, 2000],\n",
       "                         &#x27;subsample&#x27;: [1, 0.5, 0.75]},\n",
       "             verbose=2)</pre></div></div></div><div class=\"sk-parallel\"><div class=\"sk-parallel-item\"><div class=\"sk-item\"><div class=\"sk-label-container\"><div class=\"sk-label sk-toggleable\"><input class=\"sk-toggleable__control sk-hidden--visually\" id=\"sk-estimator-id-41\" type=\"checkbox\" ><label for=\"sk-estimator-id-41\" class=\"sk-toggleable__label sk-toggleable__label-arrow\">estimator: GradientBoostingRegressor</label><div class=\"sk-toggleable__content\"><pre>GradientBoostingRegressor()</pre></div></div></div><div class=\"sk-serial\"><div class=\"sk-item\"><div class=\"sk-estimator sk-toggleable\"><input class=\"sk-toggleable__control sk-hidden--visually\" id=\"sk-estimator-id-42\" type=\"checkbox\" ><label for=\"sk-estimator-id-42\" class=\"sk-toggleable__label sk-toggleable__label-arrow\">GradientBoostingRegressor</label><div class=\"sk-toggleable__content\"><pre>GradientBoostingRegressor()</pre></div></div></div></div></div></div></div></div></div></div>"
      ],
      "text/plain": [
       "GridSearchCV(cv=10, estimator=GradientBoostingRegressor(), n_jobs=-1,\n",
       "             param_grid={'learning_rate': [0.001, 0.01, 0.1, 0.2],\n",
       "                         'max_depth': [3, 5, 8, 50, 100],\n",
       "                         'n_estimators': [200, 500, 1000, 2000],\n",
       "                         'subsample': [1, 0.5, 0.75]},\n",
       "             verbose=2)"
      ]
     },
     "execution_count": 147,
     "metadata": {},
     "output_type": "execute_result"
    }
   ],
   "source": [
    "gbm = GradientBoostingRegressor()\n",
    "gbm_cv_model = GridSearchCV(gbm, gbm_params, cv = 10, n_jobs = -1, verbose = 2)\n",
    "gbm_cv_model.fit(X_train, y_train)"
   ]
  },
  {
   "cell_type": "code",
   "execution_count": 148,
   "metadata": {},
   "outputs": [
    {
     "data": {
      "text/plain": [
       "{'learning_rate': 0.1, 'max_depth': 3, 'n_estimators': 500, 'subsample': 0.5}"
      ]
     },
     "execution_count": 148,
     "metadata": {},
     "output_type": "execute_result"
    }
   ],
   "source": [
    "gbm_cv_model.best_params_"
   ]
  },
  {
   "cell_type": "code",
   "execution_count": 149,
   "metadata": {},
   "outputs": [],
   "source": [
    "gbm_tuned = GradientBoostingRegressor(learning_rate = 0.1,  \n",
    "                                      max_depth = 5, \n",
    "                                      n_estimators = 200, \n",
    "                                      subsample = 0.5)\n",
    "\n",
    "gbm_tuned = gbm_tuned.fit(X_train,y_train)"
   ]
  },
  {
   "cell_type": "code",
   "execution_count": 150,
   "metadata": {},
   "outputs": [
    {
     "data": {
      "text/plain": [
       "329.2590160897694"
      ]
     },
     "execution_count": 150,
     "metadata": {},
     "output_type": "execute_result"
    }
   ],
   "source": [
    "y_pred = gbm_tuned.predict(X_test)\n",
    "np.sqrt(mean_squared_error(y_test, y_pred))"
   ]
  },
  {
   "cell_type": "code",
   "execution_count": 151,
   "metadata": {},
   "outputs": [],
   "source": [
    "Importance = pd.DataFrame({\"Importance\": gbm_tuned.feature_importances_*100},\n",
    "                         index = X_train.columns)"
   ]
  },
  {
   "cell_type": "code",
   "execution_count": 152,
   "metadata": {},
   "outputs": [
    {
     "data": {
      "text/plain": [
       "Text(0.5, 0, 'Değişken Önem Düzeyleri')"
      ]
     },
     "execution_count": 152,
     "metadata": {},
     "output_type": "execute_result"
    },
    {
     "data": {
      "image/png": "[encoded data removed]",
      "text/plain": [
       "<Figure size 640x480 with 1 Axes>"
      ]
     },
     "metadata": {},
     "output_type": "display_data"
    }
   ],
   "source": [
    "Importance.sort_values(by = \"Importance\", \n",
    "                       axis = 0, \n",
    "                       ascending = True).plot(kind =\"barh\", color = \"r\")\n",
    "\n",
    "plt.xlabel(\"Değişken Önem Düzeyleri\")"
   ]
  },
  {
   "cell_type": "markdown",
   "metadata": {},
   "source": [
    "# XGBoost"
   ]
  },
  {
   "cell_type": "code",
   "execution_count": 153,
   "metadata": {},
   "outputs": [],
   "source": [
    "hit = pd.read_csv(\"Hitters.csv\")\n",
    "df = hit.copy()\n",
    "df = df.dropna()\n",
    "dms = pd.get_dummies(df[['League', 'Division', 'NewLeague']])\n",
    "y = df[\"Salary\"]\n",
    "X_ = df.drop(['Salary', 'League', 'Division', 'NewLeague'], axis=1).astype('float64')\n",
    "X = pd.concat([X_, dms[['League_N', 'Division_W', 'NewLeague_N']]], axis=1)\n",
    "X_train, X_test, y_train, y_test = train_test_split(X, y, \n",
    "                                                    test_size=0.25, \n",
    "                                                    random_state=42)\n"
   ]
  },
  {
   "cell_type": "code",
   "execution_count": 154,
   "metadata": {},
   "outputs": [],
   "source": [
    "#!pip install xgboost"
   ]
  },
  {
   "cell_type": "code",
   "execution_count": 155,
   "metadata": {},
   "outputs": [],
   "source": [
    "import xgboost as xgb"
   ]
  },
  {
   "cell_type": "code",
   "execution_count": 156,
   "metadata": {},
   "outputs": [],
   "source": [
    "DM_train = xgb.DMatrix(data = X_train, label = y_train)\n",
    "DM_test = xgb.DMatrix(data = X_test, label = y_test)"
   ]
  },
  {
   "cell_type": "code",
   "execution_count": 157,
   "metadata": {},
   "outputs": [],
   "source": [
    "from xgboost import XGBRegressor"
   ]
  },
  {
   "cell_type": "code",
   "execution_count": 158,
   "metadata": {},
   "outputs": [],
   "source": [
    "xgb_model = XGBRegressor().fit(X_train, y_train)"
   ]
  },
  {
   "cell_type": "markdown",
   "metadata": {},
   "source": [
    "## Tahmin"
   ]
  },
  {
   "cell_type": "code",
   "execution_count": 159,
   "metadata": {},
   "outputs": [
    {
     "data": {
      "text/plain": [
       "366.3863437634965"
      ]
     },
     "execution_count": 159,
     "metadata": {},
     "output_type": "execute_result"
    }
   ],
   "source": [
    "y_pred = xgb_model.predict(X_test)\n",
    "np.sqrt(mean_squared_error(y_test, y_pred))"
   ]
  },
  {
   "cell_type": "markdown",
   "metadata": {},
   "source": [
    "## Model Tuning"
   ]
  },
  {
   "cell_type": "code",
   "execution_count": 160,
   "metadata": {},
   "outputs": [
    {
     "data": {
      "text/html": [
       "<style>#sk-container-id-29 {color: black;}#sk-container-id-29 pre{padding: 0;}#sk-container-id-29 div.sk-toggleable {background-color: white;}#sk-container-id-29 label.sk-toggleable__label {cursor: pointer;display: block;width: 100%;margin-bottom: 0;padding: 0.3em;box-sizing: border-box;text-align: center;}#sk-container-id-29 label.sk-toggleable__label-arrow:before {content: \"▸\";float: left;margin-right: 0.25em;color: #696969;}#sk-container-id-29 label.sk-toggleable__label-arrow:hover:before {color: black;}#sk-container-id-29 div.sk-estimator:hover label.sk-toggleable__label-arrow:before {color: black;}#sk-container-id-29 div.sk-toggleable__content {max-height: 0;max-width: 0;overflow: hidden;text-align: left;background-color: #f0f8ff;}#sk-container-id-29 div.sk-toggleable__content pre {margin: 0.2em;color: black;border-radius: 0.25em;background-color: #f0f8ff;}#sk-container-id-29 input.sk-toggleable__control:checked~div.sk-toggleable__content {max-height: 200px;max-width: 100%;overflow: auto;}#sk-container-id-29 input.sk-toggleable__control:checked~label.sk-toggleable__label-arrow:before {content: \"▾\";}#sk-container-id-29 div.sk-estimator input.sk-toggleable__control:checked~label.sk-toggleable__label {background-color: #d4ebff;}#sk-container-id-29 div.sk-label input.sk-toggleable__control:checked~label.sk-toggleable__label {background-color: #d4ebff;}#sk-container-id-29 input.sk-hidden--visually {border: 0;clip: rect(1px 1px 1px 1px);clip: rect(1px, 1px, 1px, 1px);height: 1px;margin: -1px;overflow: hidden;padding: 0;position: absolute;width: 1px;}#sk-container-id-29 div.sk-estimator {font-family: monospace;background-color: #f0f8ff;border: 1px dotted black;border-radius: 0.25em;box-sizing: border-box;margin-bottom: 0.5em;}#sk-container-id-29 div.sk-estimator:hover {background-color: #d4ebff;}#sk-container-id-29 div.sk-parallel-item::after {content: \"\";width: 100%;border-bottom: 1px solid gray;flex-grow: 1;}#sk-container-id-29 div.sk-label:hover label.sk-toggleable__label {background-color: #d4ebff;}#sk-container-id-29 div.sk-serial::before {content: \"\";position: absolute;border-left: 1px solid gray;box-sizing: border-box;top: 0;bottom: 0;left: 50%;z-index: 0;}#sk-container-id-29 div.sk-serial {display: flex;flex-direction: column;align-items: center;background-color: white;padding-right: 0.2em;padding-left: 0.2em;position: relative;}#sk-container-id-29 div.sk-item {position: relative;z-index: 1;}#sk-container-id-29 div.sk-parallel {display: flex;align-items: stretch;justify-content: center;background-color: white;position: relative;}#sk-container-id-29 div.sk-item::before, #sk-container-id-29 div.sk-parallel-item::before {content: \"\";position: absolute;border-left: 1px solid gray;box-sizing: border-box;top: 0;bottom: 0;left: 50%;z-index: -1;}#sk-container-id-29 div.sk-parallel-item {display: flex;flex-direction: column;z-index: 1;position: relative;background-color: white;}#sk-container-id-29 div.sk-parallel-item:first-child::after {align-self: flex-end;width: 50%;}#sk-container-id-29 div.sk-parallel-item:last-child::after {align-self: flex-start;width: 50%;}#sk-container-id-29 div.sk-parallel-item:only-child::after {width: 0;}#sk-container-id-29 div.sk-dashed-wrapped {border: 1px dashed gray;margin: 0 0.4em 0.5em 0.4em;box-sizing: border-box;padding-bottom: 0.4em;background-color: white;}#sk-container-id-29 div.sk-label label {font-family: monospace;font-weight: bold;display: inline-block;line-height: 1.2em;}#sk-container-id-29 div.sk-label-container {text-align: center;}#sk-container-id-29 div.sk-container {/* jupyter's `normalize.less` sets `[hidden] { display: none; }` but bootstrap.min.css set `[hidden] { display: none !important; }` so we also need the `!important` here to be able to override the default hidden behavior on the sphinx rendered scikit-learn.org. See: https://github.com/scikit-learn/scikit-learn/issues/21755 */display: inline-block !important;position: relative;}#sk-container-id-29 div.sk-text-repr-fallback {display: none;}</style><div id=\"sk-container-id-29\" class=\"sk-top-container\"><div class=\"sk-text-repr-fallback\"><pre>XGBRegressor(base_score=None, booster=None, callbacks=None,\n",
       "             colsample_bylevel=None, colsample_bynode=None,\n",
       "             colsample_bytree=None, device=None, early_stopping_rounds=None,\n",
       "             enable_categorical=False, eval_metric=None, feature_types=None,\n",
       "             gamma=None, grow_policy=None, importance_type=None,\n",
       "             interaction_constraints=None, learning_rate=None, max_bin=None,\n",
       "             max_cat_threshold=None, max_cat_to_onehot=None,\n",
       "             max_delta_step=None, max_depth=None, max_leaves=None,\n",
       "             min_child_weight=None, missing=nan, monotone_constraints=None,\n",
       "             multi_strategy=None, n_estimators=None, n_jobs=None,\n",
       "             num_parallel_tree=None, random_state=None, ...)</pre><b>In a Jupyter environment, please rerun this cell to show the HTML representation or trust the notebook. <br />On GitHub, the HTML representation is unable to render, please try loading this page with nbviewer.org.</b></div><div class=\"sk-container\" hidden><div class=\"sk-item\"><div class=\"sk-estimator sk-toggleable\"><input class=\"sk-toggleable__control sk-hidden--visually\" id=\"sk-estimator-id-43\" type=\"checkbox\" checked><label for=\"sk-estimator-id-43\" class=\"sk-toggleable__label sk-toggleable__label-arrow\">XGBRegressor</label><div class=\"sk-toggleable__content\"><pre>XGBRegressor(base_score=None, booster=None, callbacks=None,\n",
       "             colsample_bylevel=None, colsample_bynode=None,\n",
       "             colsample_bytree=None, device=None, early_stopping_rounds=None,\n",
       "             enable_categorical=False, eval_metric=None, feature_types=None,\n",
       "             gamma=None, grow_policy=None, importance_type=None,\n",
       "             interaction_constraints=None, learning_rate=None, max_bin=None,\n",
       "             max_cat_threshold=None, max_cat_to_onehot=None,\n",
       "             max_delta_step=None, max_depth=None, max_leaves=None,\n",
       "             min_child_weight=None, missing=nan, monotone_constraints=None,\n",
       "             multi_strategy=None, n_estimators=None, n_jobs=None,\n",
       "             num_parallel_tree=None, random_state=None, ...)</pre></div></div></div></div></div>"
      ],
      "text/plain": [
       "XGBRegressor(base_score=None, booster=None, callbacks=None,\n",
       "             colsample_bylevel=None, colsample_bynode=None,\n",
       "             colsample_bytree=None, device=None, early_stopping_rounds=None,\n",
       "             enable_categorical=False, eval_metric=None, feature_types=None,\n",
       "             gamma=None, grow_policy=None, importance_type=None,\n",
       "             interaction_constraints=None, learning_rate=None, max_bin=None,\n",
       "             max_cat_threshold=None, max_cat_to_onehot=None,\n",
       "             max_delta_step=None, max_depth=None, max_leaves=None,\n",
       "             min_child_weight=None, missing=nan, monotone_constraints=None,\n",
       "             multi_strategy=None, n_estimators=None, n_jobs=None,\n",
       "             num_parallel_tree=None, random_state=None, ...)"
      ]
     },
     "execution_count": 160,
     "metadata": {},
     "output_type": "execute_result"
    }
   ],
   "source": [
    "xgb_model"
   ]
  },
  {
   "cell_type": "code",
   "execution_count": 161,
   "metadata": {},
   "outputs": [],
   "source": [
    "xgb_grid = {\n",
    "     'colsample_bytree': [0.4, 0.5,0.6,0.9,1], \n",
    "     'n_estimators':[100, 200, 500, 1000],\n",
    "     'max_depth': [2,3,4,5,6],\n",
    "     'learning_rate': [0.1, 0.01, 0.5]\n",
    "}\n"
   ]
  },
  {
   "cell_type": "code",
   "execution_count": 162,
   "metadata": {},
   "outputs": [
    {
     "name": "stdout",
     "output_type": "stream",
     "text": [
      "Fitting 10 folds for each of 300 candidates, totalling 3000 fits\n"
     ]
    },
    {
     "data": {
      "text/html": [
       "<style>#sk-container-id-30 {color: black;}#sk-container-id-30 pre{padding: 0;}#sk-container-id-30 div.sk-toggleable {background-color: white;}#sk-container-id-30 label.sk-toggleable__label {cursor: pointer;display: block;width: 100%;margin-bottom: 0;padding: 0.3em;box-sizing: border-box;text-align: center;}#sk-container-id-30 label.sk-toggleable__label-arrow:before {content: \"▸\";float: left;margin-right: 0.25em;color: #696969;}#sk-container-id-30 label.sk-toggleable__label-arrow:hover:before {color: black;}#sk-container-id-30 div.sk-estimator:hover label.sk-toggleable__label-arrow:before {color: black;}#sk-container-id-30 div.sk-toggleable__content {max-height: 0;max-width: 0;overflow: hidden;text-align: left;background-color: #f0f8ff;}#sk-container-id-30 div.sk-toggleable__content pre {margin: 0.2em;color: black;border-radius: 0.25em;background-color: #f0f8ff;}#sk-container-id-30 input.sk-toggleable__control:checked~div.sk-toggleable__content {max-height: 200px;max-width: 100%;overflow: auto;}#sk-container-id-30 input.sk-toggleable__control:checked~label.sk-toggleable__label-arrow:before {content: \"▾\";}#sk-container-id-30 div.sk-estimator input.sk-toggleable__control:checked~label.sk-toggleable__label {background-color: #d4ebff;}#sk-container-id-30 div.sk-label input.sk-toggleable__control:checked~label.sk-toggleable__label {background-color: #d4ebff;}#sk-container-id-30 input.sk-hidden--visually {border: 0;clip: rect(1px 1px 1px 1px);clip: rect(1px, 1px, 1px, 1px);height: 1px;margin: -1px;overflow: hidden;padding: 0;position: absolute;width: 1px;}#sk-container-id-30 div.sk-estimator {font-family: monospace;background-color: #f0f8ff;border: 1px dotted black;border-radius: 0.25em;box-sizing: border-box;margin-bottom: 0.5em;}#sk-container-id-30 div.sk-estimator:hover {background-color: #d4ebff;}#sk-container-id-30 div.sk-parallel-item::after {content: \"\";width: 100%;border-bottom: 1px solid gray;flex-grow: 1;}#sk-container-id-30 div.sk-label:hover label.sk-toggleable__label {background-color: #d4ebff;}#sk-container-id-30 div.sk-serial::before {content: \"\";position: absolute;border-left: 1px solid gray;box-sizing: border-box;top: 0;bottom: 0;left: 50%;z-index: 0;}#sk-container-id-30 div.sk-serial {display: flex;flex-direction: column;align-items: center;background-color: white;padding-right: 0.2em;padding-left: 0.2em;position: relative;}#sk-container-id-30 div.sk-item {position: relative;z-index: 1;}#sk-container-id-30 div.sk-parallel {display: flex;align-items: stretch;justify-content: center;background-color: white;position: relative;}#sk-container-id-30 div.sk-item::before, #sk-container-id-30 div.sk-parallel-item::before {content: \"\";position: absolute;border-left: 1px solid gray;box-sizing: border-box;top: 0;bottom: 0;left: 50%;z-index: -1;}#sk-container-id-30 div.sk-parallel-item {display: flex;flex-direction: column;z-index: 1;position: relative;background-color: white;}#sk-container-id-30 div.sk-parallel-item:first-child::after {align-self: flex-end;width: 50%;}#sk-container-id-30 div.sk-parallel-item:last-child::after {align-self: flex-start;width: 50%;}#sk-container-id-30 div.sk-parallel-item:only-child::after {width: 0;}#sk-container-id-30 div.sk-dashed-wrapped {border: 1px dashed gray;margin: 0 0.4em 0.5em 0.4em;box-sizing: border-box;padding-bottom: 0.4em;background-color: white;}#sk-container-id-30 div.sk-label label {font-family: monospace;font-weight: bold;display: inline-block;line-height: 1.2em;}#sk-container-id-30 div.sk-label-container {text-align: center;}#sk-container-id-30 div.sk-container {/* jupyter's `normalize.less` sets `[hidden] { display: none; }` but bootstrap.min.css set `[hidden] { display: none !important; }` so we also need the `!important` here to be able to override the default hidden behavior on the sphinx rendered scikit-learn.org. See: https://github.com/scikit-learn/scikit-learn/issues/21755 */display: inline-block !important;position: relative;}#sk-container-id-30 div.sk-text-repr-fallback {display: none;}</style><div id=\"sk-container-id-30\" class=\"sk-top-container\"><div class=\"sk-text-repr-fallback\"><pre>GridSearchCV(cv=10,\n",
       "             estimator=XGBRegressor(base_score=None, booster=None,\n",
       "                                    callbacks=None, colsample_bylevel=None,\n",
       "                                    colsample_bynode=None,\n",
       "                                    colsample_bytree=None, device=None,\n",
       "                                    early_stopping_rounds=None,\n",
       "                                    enable_categorical=False, eval_metric=None,\n",
       "                                    feature_types=None, gamma=None,\n",
       "                                    grow_policy=None, importance_type=None,\n",
       "                                    interaction_constraints=None,\n",
       "                                    learning_rate=None,...\n",
       "                                    max_cat_to_onehot=None, max_delta_step=None,\n",
       "                                    max_depth=None, max_leaves=None,\n",
       "                                    min_child_weight=None, missing=nan,\n",
       "                                    monotone_constraints=None,\n",
       "                                    multi_strategy=None, n_estimators=None,\n",
       "                                    n_jobs=None, num_parallel_tree=None,\n",
       "                                    random_state=None, ...),\n",
       "             n_jobs=-1,\n",
       "             param_grid={&#x27;colsample_bytree&#x27;: [0.4, 0.5, 0.6, 0.9, 1],\n",
       "                         &#x27;learning_rate&#x27;: [0.1, 0.01, 0.5],\n",
       "                         &#x27;max_depth&#x27;: [2, 3, 4, 5, 6],\n",
       "                         &#x27;n_estimators&#x27;: [100, 200, 500, 1000]},\n",
       "             verbose=2)</pre><b>In a Jupyter environment, please rerun this cell to show the HTML representation or trust the notebook. <br />On GitHub, the HTML representation is unable to render, please try loading this page with nbviewer.org.</b></div><div class=\"sk-container\" hidden><div class=\"sk-item sk-dashed-wrapped\"><div class=\"sk-label-container\"><div class=\"sk-label sk-toggleable\"><input class=\"sk-toggleable__control sk-hidden--visually\" id=\"sk-estimator-id-44\" type=\"checkbox\" ><label for=\"sk-estimator-id-44\" class=\"sk-toggleable__label sk-toggleable__label-arrow\">GridSearchCV</label><div class=\"sk-toggleable__content\"><pre>GridSearchCV(cv=10,\n",
       "             estimator=XGBRegressor(base_score=None, booster=None,\n",
       "                                    callbacks=None, colsample_bylevel=None,\n",
       "                                    colsample_bynode=None,\n",
       "                                    colsample_bytree=None, device=None,\n",
       "                                    early_stopping_rounds=None,\n",
       "                                    enable_categorical=False, eval_metric=None,\n",
       "                                    feature_types=None, gamma=None,\n",
       "                                    grow_policy=None, importance_type=None,\n",
       "                                    interaction_constraints=None,\n",
       "                                    learning_rate=None,...\n",
       "                                    max_cat_to_onehot=None, max_delta_step=None,\n",
       "                                    max_depth=None, max_leaves=None,\n",
       "                                    min_child_weight=None, missing=nan,\n",
       "                                    monotone_constraints=None,\n",
       "                                    multi_strategy=None, n_estimators=None,\n",
       "                                    n_jobs=None, num_parallel_tree=None,\n",
       "                                    random_state=None, ...),\n",
       "             n_jobs=-1,\n",
       "             param_grid={&#x27;colsample_bytree&#x27;: [0.4, 0.5, 0.6, 0.9, 1],\n",
       "                         &#x27;learning_rate&#x27;: [0.1, 0.01, 0.5],\n",
       "                         &#x27;max_depth&#x27;: [2, 3, 4, 5, 6],\n",
       "                         &#x27;n_estimators&#x27;: [100, 200, 500, 1000]},\n",
       "             verbose=2)</pre></div></div></div><div class=\"sk-parallel\"><div class=\"sk-parallel-item\"><div class=\"sk-item\"><div class=\"sk-label-container\"><div class=\"sk-label sk-toggleable\"><input class=\"sk-toggleable__control sk-hidden--visually\" id=\"sk-estimator-id-45\" type=\"checkbox\" ><label for=\"sk-estimator-id-45\" class=\"sk-toggleable__label sk-toggleable__label-arrow\">estimator: XGBRegressor</label><div class=\"sk-toggleable__content\"><pre>XGBRegressor(base_score=None, booster=None, callbacks=None,\n",
       "             colsample_bylevel=None, colsample_bynode=None,\n",
       "             colsample_bytree=None, device=None, early_stopping_rounds=None,\n",
       "             enable_categorical=False, eval_metric=None, feature_types=None,\n",
       "             gamma=None, grow_policy=None, importance_type=None,\n",
       "             interaction_constraints=None, learning_rate=None, max_bin=None,\n",
       "             max_cat_threshold=None, max_cat_to_onehot=None,\n",
       "             max_delta_step=None, max_depth=None, max_leaves=None,\n",
       "             min_child_weight=None, missing=nan, monotone_constraints=None,\n",
       "             multi_strategy=None, n_estimators=None, n_jobs=None,\n",
       "             num_parallel_tree=None, random_state=None, ...)</pre></div></div></div><div class=\"sk-serial\"><div class=\"sk-item\"><div class=\"sk-estimator sk-toggleable\"><input class=\"sk-toggleable__control sk-hidden--visually\" id=\"sk-estimator-id-46\" type=\"checkbox\" ><label for=\"sk-estimator-id-46\" class=\"sk-toggleable__label sk-toggleable__label-arrow\">XGBRegressor</label><div class=\"sk-toggleable__content\"><pre>XGBRegressor(base_score=None, booster=None, callbacks=None,\n",
       "             colsample_bylevel=None, colsample_bynode=None,\n",
       "             colsample_bytree=None, device=None, early_stopping_rounds=None,\n",
       "             enable_categorical=False, eval_metric=None, feature_types=None,\n",
       "             gamma=None, grow_policy=None, importance_type=None,\n",
       "             interaction_constraints=None, learning_rate=None, max_bin=None,\n",
       "             max_cat_threshold=None, max_cat_to_onehot=None,\n",
       "             max_delta_step=None, max_depth=None, max_leaves=None,\n",
       "             min_child_weight=None, missing=nan, monotone_constraints=None,\n",
       "             multi_strategy=None, n_estimators=None, n_jobs=None,\n",
       "             num_parallel_tree=None, random_state=None, ...)</pre></div></div></div></div></div></div></div></div></div></div>"
      ],
      "text/plain": [
       "GridSearchCV(cv=10,\n",
       "             estimator=XGBRegressor(base_score=None, booster=None,\n",
       "                                    callbacks=None, colsample_bylevel=None,\n",
       "                                    colsample_bynode=None,\n",
       "                                    colsample_bytree=None, device=None,\n",
       "                                    early_stopping_rounds=None,\n",
       "                                    enable_categorical=False, eval_metric=None,\n",
       "                                    feature_types=None, gamma=None,\n",
       "                                    grow_policy=None, importance_type=None,\n",
       "                                    interaction_constraints=None,\n",
       "                                    learning_rate=None,...\n",
       "                                    max_cat_to_onehot=None, max_delta_step=None,\n",
       "                                    max_depth=None, max_leaves=None,\n",
       "                                    min_child_weight=None, missing=nan,\n",
       "                                    monotone_constraints=None,\n",
       "                                    multi_strategy=None, n_estimators=None,\n",
       "                                    n_jobs=None, num_parallel_tree=None,\n",
       "                                    random_state=None, ...),\n",
       "             n_jobs=-1,\n",
       "             param_grid={'colsample_bytree': [0.4, 0.5, 0.6, 0.9, 1],\n",
       "                         'learning_rate': [0.1, 0.01, 0.5],\n",
       "                         'max_depth': [2, 3, 4, 5, 6],\n",
       "                         'n_estimators': [100, 200, 500, 1000]},\n",
       "             verbose=2)"
      ]
     },
     "execution_count": 162,
     "metadata": {},
     "output_type": "execute_result"
    }
   ],
   "source": [
    "xgb = XGBRegressor()\n",
    "\n",
    "xgb_cv = GridSearchCV(xgb, \n",
    "                      param_grid = xgb_grid, \n",
    "                      cv = 10, \n",
    "                      n_jobs = -1,\n",
    "                      verbose = 2)\n",
    "\n",
    "\n",
    "xgb_cv.fit(X_train, y_train)"
   ]
  },
  {
   "cell_type": "code",
   "execution_count": 163,
   "metadata": {},
   "outputs": [
    {
     "data": {
      "text/plain": [
       "{'colsample_bytree': 0.4,\n",
       " 'learning_rate': 0.1,\n",
       " 'max_depth': 6,\n",
       " 'n_estimators': 100}"
      ]
     },
     "execution_count": 163,
     "metadata": {},
     "output_type": "execute_result"
    }
   ],
   "source": [
    "xgb_cv.best_params_"
   ]
  },
  {
   "cell_type": "code",
   "execution_count": 164,
   "metadata": {},
   "outputs": [],
   "source": [
    "xgb_tuned = XGBRegressor(colsample_bytree = 0.9, \n",
    "                         learning_rate = 0.01, \n",
    "                         max_depth = 5, \n",
    "                         n_estimators = 1000) \n",
    "\n",
    "xgb_tuned = xgb_tuned.fit(X_train,y_train)"
   ]
  },
  {
   "cell_type": "code",
   "execution_count": 165,
   "metadata": {},
   "outputs": [
    {
     "data": {
      "text/plain": [
       "358.4814337048325"
      ]
     },
     "execution_count": 165,
     "metadata": {},
     "output_type": "execute_result"
    }
   ],
   "source": [
    "y_pred = xgb_tuned.predict(X_test)\n",
    "np.sqrt(mean_squared_error(y_test, y_pred))"
   ]
  },
  {
   "cell_type": "markdown",
   "metadata": {},
   "source": [
    "# Light GBM"
   ]
  },
  {
   "cell_type": "code",
   "execution_count": 166,
   "metadata": {},
   "outputs": [],
   "source": [
    "hit = pd.read_csv(\"Hitters.csv\")\n",
    "df = hit.copy()\n",
    "df = df.dropna()\n",
    "dms = pd.get_dummies(df[['League', 'Division', 'NewLeague']])\n",
    "y = df[\"Salary\"]\n",
    "X_ = df.drop(['Salary', 'League', 'Division', 'NewLeague'], axis=1).astype('float64')\n",
    "X = pd.concat([X_, dms[['League_N', 'Division_W', 'NewLeague_N']]], axis=1)\n",
    "X_train, X_test, y_train, y_test = train_test_split(X, y, \n",
    "                                                    test_size=0.25, \n",
    "                                                    random_state=42)\n"
   ]
  },
  {
   "cell_type": "code",
   "execution_count": 168,
   "metadata": {},
   "outputs": [],
   "source": [
    "from lightgbm import LGBMRegressor"
   ]
  },
  {
   "cell_type": "code",
   "execution_count": 170,
   "metadata": {},
   "outputs": [],
   "source": [
    "from lightgbm import LGBMRegressor"
   ]
  },
  {
   "cell_type": "code",
   "execution_count": 171,
   "metadata": {},
   "outputs": [
    {
     "name": "stdout",
     "output_type": "stream",
     "text": [
      "[LightGBM] [Info] Auto-choosing row-wise multi-threading, the overhead of testing was 0.000838 seconds.\n",
      "You can set `force_row_wise=true` to remove the overhead.\n",
      "And if memory is not enough, you can set `force_col_wise=true`.\n",
      "[LightGBM] [Info] Total Bins 831\n",
      "[LightGBM] [Info] Number of data points in the train set: 197, number of used features: 19\n",
      "[LightGBM] [Info] Start training from score 543.483442\n",
      "[LightGBM] [Warning] No further splits with positive gain, best gain: -inf\n",
      "[LightGBM] [Warning] No further splits with positive gain, best gain: -inf\n",
      "[LightGBM] [Warning] No further splits with positive gain, best gain: -inf\n",
      "[LightGBM] [Warning] No further splits with positive gain, best gain: -inf\n",
      "[LightGBM] [Warning] No further splits with positive gain, best gain: -inf\n",
      "[LightGBM] [Warning] No further splits with positive gain, best gain: -inf\n",
      "[LightGBM] [Warning] No further splits with positive gain, best gain: -inf\n",
      "[LightGBM] [Warning] No further splits with positive gain, best gain: -inf\n",
      "[LightGBM] [Warning] No further splits with positive gain, best gain: -inf\n",
      "[LightGBM] [Warning] No further splits with positive gain, best gain: -inf\n",
      "[LightGBM] [Warning] No further splits with positive gain, best gain: -inf\n",
      "[LightGBM] [Warning] No further splits with positive gain, best gain: -inf\n",
      "[LightGBM] [Warning] No further splits with positive gain, best gain: -inf\n",
      "[LightGBM] [Warning] No further splits with positive gain, best gain: -inf\n",
      "[LightGBM] [Warning] No further splits with positive gain, best gain: -inf\n",
      "[LightGBM] [Warning] No further splits with positive gain, best gain: -inf\n",
      "[LightGBM] [Warning] No further splits with positive gain, best gain: -inf\n",
      "[LightGBM] [Warning] No further splits with positive gain, best gain: -inf\n",
      "[LightGBM] [Warning] No further splits with positive gain, best gain: -inf\n",
      "[LightGBM] [Warning] No further splits with positive gain, best gain: -inf\n",
      "[LightGBM] [Warning] No further splits with positive gain, best gain: -inf\n",
      "[LightGBM] [Warning] No further splits with positive gain, best gain: -inf\n",
      "[LightGBM] [Warning] No further splits with positive gain, best gain: -inf\n",
      "[LightGBM] [Warning] No further splits with positive gain, best gain: -inf\n",
      "[LightGBM] [Warning] No further splits with positive gain, best gain: -inf\n",
      "[LightGBM] [Warning] No further splits with positive gain, best gain: -inf\n",
      "[LightGBM] [Warning] No further splits with positive gain, best gain: -inf\n",
      "[LightGBM] [Warning] No further splits with positive gain, best gain: -inf\n",
      "[LightGBM] [Warning] No further splits with positive gain, best gain: -inf\n",
      "[LightGBM] [Warning] No further splits with positive gain, best gain: -inf\n",
      "[LightGBM] [Warning] No further splits with positive gain, best gain: -inf\n",
      "[LightGBM] [Warning] No further splits with positive gain, best gain: -inf\n",
      "[LightGBM] [Warning] No further splits with positive gain, best gain: -inf\n",
      "[LightGBM] [Warning] No further splits with positive gain, best gain: -inf\n",
      "[LightGBM] [Warning] No further splits with positive gain, best gain: -inf\n",
      "[LightGBM] [Warning] No further splits with positive gain, best gain: -inf\n",
      "[LightGBM] [Warning] No further splits with positive gain, best gain: -inf\n",
      "[LightGBM] [Warning] No further splits with positive gain, best gain: -inf\n",
      "[LightGBM] [Warning] No further splits with positive gain, best gain: -inf\n",
      "[LightGBM] [Warning] No further splits with positive gain, best gain: -inf\n",
      "[LightGBM] [Warning] No further splits with positive gain, best gain: -inf\n",
      "[LightGBM] [Warning] No further splits with positive gain, best gain: -inf\n",
      "[LightGBM] [Warning] No further splits with positive gain, best gain: -inf\n",
      "[LightGBM] [Warning] No further splits with positive gain, best gain: -inf\n",
      "[LightGBM] [Warning] No further splits with positive gain, best gain: -inf\n",
      "[LightGBM] [Warning] No further splits with positive gain, best gain: -inf\n",
      "[LightGBM] [Warning] No further splits with positive gain, best gain: -inf\n",
      "[LightGBM] [Warning] No further splits with positive gain, best gain: -inf\n",
      "[LightGBM] [Warning] No further splits with positive gain, best gain: -inf\n",
      "[LightGBM] [Warning] No further splits with positive gain, best gain: -inf\n",
      "[LightGBM] [Warning] No further splits with positive gain, best gain: -inf\n",
      "[LightGBM] [Warning] No further splits with positive gain, best gain: -inf\n",
      "[LightGBM] [Warning] No further splits with positive gain, best gain: -inf\n",
      "[LightGBM] [Warning] No further splits with positive gain, best gain: -inf\n",
      "[LightGBM] [Warning] No further splits with positive gain, best gain: -inf\n",
      "[LightGBM] [Warning] No further splits with positive gain, best gain: -inf\n",
      "[LightGBM] [Warning] No further splits with positive gain, best gain: -inf\n",
      "[LightGBM] [Warning] No further splits with positive gain, best gain: -inf\n",
      "[LightGBM] [Warning] No further splits with positive gain, best gain: -inf\n",
      "[LightGBM] [Warning] No further splits with positive gain, best gain: -inf\n",
      "[LightGBM] [Warning] No further splits with positive gain, best gain: -inf\n",
      "[LightGBM] [Warning] No further splits with positive gain, best gain: -inf\n",
      "[LightGBM] [Warning] No further splits with positive gain, best gain: -inf\n",
      "[LightGBM] [Warning] No further splits with positive gain, best gain: -inf\n",
      "[LightGBM] [Warning] No further splits with positive gain, best gain: -inf\n",
      "[LightGBM] [Warning] No further splits with positive gain, best gain: -inf\n",
      "[LightGBM] [Warning] No further splits with positive gain, best gain: -inf\n",
      "[LightGBM] [Warning] No further splits with positive gain, best gain: -inf\n",
      "[LightGBM] [Warning] No further splits with positive gain, best gain: -inf\n",
      "[LightGBM] [Warning] No further splits with positive gain, best gain: -inf\n",
      "[LightGBM] [Warning] No further splits with positive gain, best gain: -inf\n",
      "[LightGBM] [Warning] No further splits with positive gain, best gain: -inf\n",
      "[LightGBM] [Warning] No further splits with positive gain, best gain: -inf\n",
      "[LightGBM] [Warning] No further splits with positive gain, best gain: -inf\n",
      "[LightGBM] [Warning] No further splits with positive gain, best gain: -inf\n",
      "[LightGBM] [Warning] No further splits with positive gain, best gain: -inf\n",
      "[LightGBM] [Warning] No further splits with positive gain, best gain: -inf\n",
      "[LightGBM] [Warning] No further splits with positive gain, best gain: -inf\n",
      "[LightGBM] [Warning] No further splits with positive gain, best gain: -inf\n",
      "[LightGBM] [Warning] No further splits with positive gain, best gain: -inf\n",
      "[LightGBM] [Warning] No further splits with positive gain, best gain: -inf\n",
      "[LightGBM] [Warning] No further splits with positive gain, best gain: -inf\n",
      "[LightGBM] [Warning] No further splits with positive gain, best gain: -inf\n",
      "[LightGBM] [Warning] No further splits with positive gain, best gain: -inf\n",
      "[LightGBM] [Warning] No further splits with positive gain, best gain: -inf\n",
      "[LightGBM] [Warning] No further splits with positive gain, best gain: -inf\n",
      "[LightGBM] [Warning] No further splits with positive gain, best gain: -inf\n",
      "[LightGBM] [Warning] No further splits with positive gain, best gain: -inf\n",
      "[LightGBM] [Warning] No further splits with positive gain, best gain: -inf\n",
      "[LightGBM] [Warning] No further splits with positive gain, best gain: -inf\n",
      "[LightGBM] [Warning] No further splits with positive gain, best gain: -inf\n",
      "[LightGBM] [Warning] No further splits with positive gain, best gain: -inf\n",
      "[LightGBM] [Warning] No further splits with positive gain, best gain: -inf\n",
      "[LightGBM] [Warning] No further splits with positive gain, best gain: -inf\n",
      "[LightGBM] [Warning] No further splits with positive gain, best gain: -inf\n",
      "[LightGBM] [Warning] No further splits with positive gain, best gain: -inf\n",
      "[LightGBM] [Warning] No further splits with positive gain, best gain: -inf\n",
      "[LightGBM] [Warning] No further splits with positive gain, best gain: -inf\n",
      "[LightGBM] [Warning] No further splits with positive gain, best gain: -inf\n",
      "[LightGBM] [Warning] No further splits with positive gain, best gain: -inf\n"
     ]
    }
   ],
   "source": [
    "lgbm = LGBMRegressor()\n",
    "lgbm_model = lgbm.fit(X_train, y_train)"
   ]
  },
  {
   "cell_type": "markdown",
   "metadata": {},
   "source": [
    "## Tahmin"
   ]
  },
  {
   "cell_type": "code",
   "execution_count": 172,
   "metadata": {},
   "outputs": [],
   "source": [
    "y_pred = lgbm_model.predict(X_test, \n",
    "                            num_iteration = lgbm_model.best_iteration_)"
   ]
  },
  {
   "cell_type": "code",
   "execution_count": 173,
   "metadata": {},
   "outputs": [
    {
     "data": {
      "text/plain": [
       "363.8712087611089"
      ]
     },
     "execution_count": 173,
     "metadata": {},
     "output_type": "execute_result"
    }
   ],
   "source": [
    "np.sqrt(mean_squared_error(y_test, y_pred))"
   ]
  },
  {
   "cell_type": "markdown",
   "metadata": {},
   "source": [
    "## Model Tuning"
   ]
  },
  {
   "cell_type": "code",
   "execution_count": 174,
   "metadata": {},
   "outputs": [
    {
     "data": {
      "text/html": [
       "<style>#sk-container-id-31 {color: black;}#sk-container-id-31 pre{padding: 0;}#sk-container-id-31 div.sk-toggleable {background-color: white;}#sk-container-id-31 label.sk-toggleable__label {cursor: pointer;display: block;width: 100%;margin-bottom: 0;padding: 0.3em;box-sizing: border-box;text-align: center;}#sk-container-id-31 label.sk-toggleable__label-arrow:before {content: \"▸\";float: left;margin-right: 0.25em;color: #696969;}#sk-container-id-31 label.sk-toggleable__label-arrow:hover:before {color: black;}#sk-container-id-31 div.sk-estimator:hover label.sk-toggleable__label-arrow:before {color: black;}#sk-container-id-31 div.sk-toggleable__content {max-height: 0;max-width: 0;overflow: hidden;text-align: left;background-color: #f0f8ff;}#sk-container-id-31 div.sk-toggleable__content pre {margin: 0.2em;color: black;border-radius: 0.25em;background-color: #f0f8ff;}#sk-container-id-31 input.sk-toggleable__control:checked~div.sk-toggleable__content {max-height: 200px;max-width: 100%;overflow: auto;}#sk-container-id-31 input.sk-toggleable__control:checked~label.sk-toggleable__label-arrow:before {content: \"▾\";}#sk-container-id-31 div.sk-estimator input.sk-toggleable__control:checked~label.sk-toggleable__label {background-color: #d4ebff;}#sk-container-id-31 div.sk-label input.sk-toggleable__control:checked~label.sk-toggleable__label {background-color: #d4ebff;}#sk-container-id-31 input.sk-hidden--visually {border: 0;clip: rect(1px 1px 1px 1px);clip: rect(1px, 1px, 1px, 1px);height: 1px;margin: -1px;overflow: hidden;padding: 0;position: absolute;width: 1px;}#sk-container-id-31 div.sk-estimator {font-family: monospace;background-color: #f0f8ff;border: 1px dotted black;border-radius: 0.25em;box-sizing: border-box;margin-bottom: 0.5em;}#sk-container-id-31 div.sk-estimator:hover {background-color: #d4ebff;}#sk-container-id-31 div.sk-parallel-item::after {content: \"\";width: 100%;border-bottom: 1px solid gray;flex-grow: 1;}#sk-container-id-31 div.sk-label:hover label.sk-toggleable__label {background-color: #d4ebff;}#sk-container-id-31 div.sk-serial::before {content: \"\";position: absolute;border-left: 1px solid gray;box-sizing: border-box;top: 0;bottom: 0;left: 50%;z-index: 0;}#sk-container-id-31 div.sk-serial {display: flex;flex-direction: column;align-items: center;background-color: white;padding-right: 0.2em;padding-left: 0.2em;position: relative;}#sk-container-id-31 div.sk-item {position: relative;z-index: 1;}#sk-container-id-31 div.sk-parallel {display: flex;align-items: stretch;justify-content: center;background-color: white;position: relative;}#sk-container-id-31 div.sk-item::before, #sk-container-id-31 div.sk-parallel-item::before {content: \"\";position: absolute;border-left: 1px solid gray;box-sizing: border-box;top: 0;bottom: 0;left: 50%;z-index: -1;}#sk-container-id-31 div.sk-parallel-item {display: flex;flex-direction: column;z-index: 1;position: relative;background-color: white;}#sk-container-id-31 div.sk-parallel-item:first-child::after {align-self: flex-end;width: 50%;}#sk-container-id-31 div.sk-parallel-item:last-child::after {align-self: flex-start;width: 50%;}#sk-container-id-31 div.sk-parallel-item:only-child::after {width: 0;}#sk-container-id-31 div.sk-dashed-wrapped {border: 1px dashed gray;margin: 0 0.4em 0.5em 0.4em;box-sizing: border-box;padding-bottom: 0.4em;background-color: white;}#sk-container-id-31 div.sk-label label {font-family: monospace;font-weight: bold;display: inline-block;line-height: 1.2em;}#sk-container-id-31 div.sk-label-container {text-align: center;}#sk-container-id-31 div.sk-container {/* jupyter's `normalize.less` sets `[hidden] { display: none; }` but bootstrap.min.css set `[hidden] { display: none !important; }` so we also need the `!important` here to be able to override the default hidden behavior on the sphinx rendered scikit-learn.org. See: https://github.com/scikit-learn/scikit-learn/issues/21755 */display: inline-block !important;position: relative;}#sk-container-id-31 div.sk-text-repr-fallback {display: none;}</style><div id=\"sk-container-id-31\" class=\"sk-top-container\"><div class=\"sk-text-repr-fallback\"><pre>LGBMRegressor()</pre><b>In a Jupyter environment, please rerun this cell to show the HTML representation or trust the notebook. <br />On GitHub, the HTML representation is unable to render, please try loading this page with nbviewer.org.</b></div><div class=\"sk-container\" hidden><div class=\"sk-item\"><div class=\"sk-estimator sk-toggleable\"><input class=\"sk-toggleable__control sk-hidden--visually\" id=\"sk-estimator-id-47\" type=\"checkbox\" checked><label for=\"sk-estimator-id-47\" class=\"sk-toggleable__label sk-toggleable__label-arrow\">LGBMRegressor</label><div class=\"sk-toggleable__content\"><pre>LGBMRegressor()</pre></div></div></div></div></div>"
      ],
      "text/plain": [
       "LGBMRegressor()"
      ]
     },
     "execution_count": 174,
     "metadata": {},
     "output_type": "execute_result"
    }
   ],
   "source": [
    "lgbm_model"
   ]
  },
  {
   "cell_type": "code",
   "execution_count": 175,
   "metadata": {},
   "outputs": [],
   "source": [
    "lgbm_grid = {\n",
    "    'colsample_bytree': [0.4, 0.5,0.6,0.9,1],\n",
    "    'learning_rate': [0.01, 0.1, 0.5,1],\n",
    "    'n_estimators': [20, 40, 100, 200, 500,1000],\n",
    "    'max_depth': [1,2,3,4,5,6,7,8] }\n",
    "\n",
    "lgbm = LGBMRegressor()\n",
    "lgbm_cv_model = GridSearchCV(lgbm, lgbm_grid, cv=10, n_jobs = -1, verbose = 2)"
   ]
  },
  {
   "cell_type": "code",
   "execution_count": 176,
   "metadata": {},
   "outputs": [
    {
     "name": "stdout",
     "output_type": "stream",
     "text": [
      "Fitting 10 folds for each of 960 candidates, totalling 9600 fits\n",
      "[LightGBM] [Warning] Accuracy may be bad since you didn't explicitly set num_leaves OR 2^max_depth > num_leaves. (num_leaves=31).\n",
      "[LightGBM] [Warning] Accuracy may be bad since you didn't explicitly set num_leaves OR 2^max_depth > num_leaves. (num_leaves=31).\n",
      "[LightGBM] [Info] Auto-choosing col-wise multi-threading, the overhead of testing was 0.000106 seconds.\n",
      "You can set `force_col_wise=true` to remove the overhead.\n",
      "[LightGBM] [Info] Total Bins 831\n",
      "[LightGBM] [Info] Number of data points in the train set: 197, number of used features: 19\n",
      "[LightGBM] [Info] Start training from score 543.483442\n",
      "[LightGBM] [Warning] No further splits with positive gain, best gain: -inf\n",
      "[LightGBM] [Warning] No further splits with positive gain, best gain: -inf\n",
      "[LightGBM] [Warning] No further splits with positive gain, best gain: -inf\n",
      "[LightGBM] [Warning] No further splits with positive gain, best gain: -inf\n",
      "[LightGBM] [Warning] No further splits with positive gain, best gain: -inf\n",
      "[LightGBM] [Warning] No further splits with positive gain, best gain: -inf\n",
      "[LightGBM] [Warning] No further splits with positive gain, best gain: -inf\n",
      "[LightGBM] [Warning] No further splits with positive gain, best gain: -inf\n",
      "[LightGBM] [Warning] No further splits with positive gain, best gain: -inf\n",
      "[LightGBM] [Warning] No further splits with positive gain, best gain: -inf\n",
      "[LightGBM] [Warning] No further splits with positive gain, best gain: -inf\n",
      "[LightGBM] [Warning] No further splits with positive gain, best gain: -inf\n",
      "[LightGBM] [Warning] No further splits with positive gain, best gain: -inf\n",
      "[LightGBM] [Warning] No further splits with positive gain, best gain: -inf\n",
      "[LightGBM] [Warning] No further splits with positive gain, best gain: -inf\n",
      "[LightGBM] [Warning] No further splits with positive gain, best gain: -inf\n",
      "[LightGBM] [Warning] No further splits with positive gain, best gain: -inf\n",
      "[LightGBM] [Warning] No further splits with positive gain, best gain: -inf\n",
      "[LightGBM] [Warning] No further splits with positive gain, best gain: -inf\n",
      "[LightGBM] [Warning] No further splits with positive gain, best gain: -inf\n"
     ]
    },
    {
     "data": {
      "text/html": [
       "<style>#sk-container-id-32 {color: black;}#sk-container-id-32 pre{padding: 0;}#sk-container-id-32 div.sk-toggleable {background-color: white;}#sk-container-id-32 label.sk-toggleable__label {cursor: pointer;display: block;width: 100%;margin-bottom: 0;padding: 0.3em;box-sizing: border-box;text-align: center;}#sk-container-id-32 label.sk-toggleable__label-arrow:before {content: \"▸\";float: left;margin-right: 0.25em;color: #696969;}#sk-container-id-32 label.sk-toggleable__label-arrow:hover:before {color: black;}#sk-container-id-32 div.sk-estimator:hover label.sk-toggleable__label-arrow:before {color: black;}#sk-container-id-32 div.sk-toggleable__content {max-height: 0;max-width: 0;overflow: hidden;text-align: left;background-color: #f0f8ff;}#sk-container-id-32 div.sk-toggleable__content pre {margin: 0.2em;color: black;border-radius: 0.25em;background-color: #f0f8ff;}#sk-container-id-32 input.sk-toggleable__control:checked~div.sk-toggleable__content {max-height: 200px;max-width: 100%;overflow: auto;}#sk-container-id-32 input.sk-toggleable__control:checked~label.sk-toggleable__label-arrow:before {content: \"▾\";}#sk-container-id-32 div.sk-estimator input.sk-toggleable__control:checked~label.sk-toggleable__label {background-color: #d4ebff;}#sk-container-id-32 div.sk-label input.sk-toggleable__control:checked~label.sk-toggleable__label {background-color: #d4ebff;}#sk-container-id-32 input.sk-hidden--visually {border: 0;clip: rect(1px 1px 1px 1px);clip: rect(1px, 1px, 1px, 1px);height: 1px;margin: -1px;overflow: hidden;padding: 0;position: absolute;width: 1px;}#sk-container-id-32 div.sk-estimator {font-family: monospace;background-color: #f0f8ff;border: 1px dotted black;border-radius: 0.25em;box-sizing: border-box;margin-bottom: 0.5em;}#sk-container-id-32 div.sk-estimator:hover {background-color: #d4ebff;}#sk-container-id-32 div.sk-parallel-item::after {content: \"\";width: 100%;border-bottom: 1px solid gray;flex-grow: 1;}#sk-container-id-32 div.sk-label:hover label.sk-toggleable__label {background-color: #d4ebff;}#sk-container-id-32 div.sk-serial::before {content: \"\";position: absolute;border-left: 1px solid gray;box-sizing: border-box;top: 0;bottom: 0;left: 50%;z-index: 0;}#sk-container-id-32 div.sk-serial {display: flex;flex-direction: column;align-items: center;background-color: white;padding-right: 0.2em;padding-left: 0.2em;position: relative;}#sk-container-id-32 div.sk-item {position: relative;z-index: 1;}#sk-container-id-32 div.sk-parallel {display: flex;align-items: stretch;justify-content: center;background-color: white;position: relative;}#sk-container-id-32 div.sk-item::before, #sk-container-id-32 div.sk-parallel-item::before {content: \"\";position: absolute;border-left: 1px solid gray;box-sizing: border-box;top: 0;bottom: 0;left: 50%;z-index: -1;}#sk-container-id-32 div.sk-parallel-item {display: flex;flex-direction: column;z-index: 1;position: relative;background-color: white;}#sk-container-id-32 div.sk-parallel-item:first-child::after {align-self: flex-end;width: 50%;}#sk-container-id-32 div.sk-parallel-item:last-child::after {align-self: flex-start;width: 50%;}#sk-container-id-32 div.sk-parallel-item:only-child::after {width: 0;}#sk-container-id-32 div.sk-dashed-wrapped {border: 1px dashed gray;margin: 0 0.4em 0.5em 0.4em;box-sizing: border-box;padding-bottom: 0.4em;background-color: white;}#sk-container-id-32 div.sk-label label {font-family: monospace;font-weight: bold;display: inline-block;line-height: 1.2em;}#sk-container-id-32 div.sk-label-container {text-align: center;}#sk-container-id-32 div.sk-container {/* jupyter's `normalize.less` sets `[hidden] { display: none; }` but bootstrap.min.css set `[hidden] { display: none !important; }` so we also need the `!important` here to be able to override the default hidden behavior on the sphinx rendered scikit-learn.org. See: https://github.com/scikit-learn/scikit-learn/issues/21755 */display: inline-block !important;position: relative;}#sk-container-id-32 div.sk-text-repr-fallback {display: none;}</style><div id=\"sk-container-id-32\" class=\"sk-top-container\"><div class=\"sk-text-repr-fallback\"><pre>GridSearchCV(cv=10, estimator=LGBMRegressor(), n_jobs=-1,\n",
       "             param_grid={&#x27;colsample_bytree&#x27;: [0.4, 0.5, 0.6, 0.9, 1],\n",
       "                         &#x27;learning_rate&#x27;: [0.01, 0.1, 0.5, 1],\n",
       "                         &#x27;max_depth&#x27;: [1, 2, 3, 4, 5, 6, 7, 8],\n",
       "                         &#x27;n_estimators&#x27;: [20, 40, 100, 200, 500, 1000]},\n",
       "             verbose=2)</pre><b>In a Jupyter environment, please rerun this cell to show the HTML representation or trust the notebook. <br />On GitHub, the HTML representation is unable to render, please try loading this page with nbviewer.org.</b></div><div class=\"sk-container\" hidden><div class=\"sk-item sk-dashed-wrapped\"><div class=\"sk-label-container\"><div class=\"sk-label sk-toggleable\"><input class=\"sk-toggleable__control sk-hidden--visually\" id=\"sk-estimator-id-48\" type=\"checkbox\" ><label for=\"sk-estimator-id-48\" class=\"sk-toggleable__label sk-toggleable__label-arrow\">GridSearchCV</label><div class=\"sk-toggleable__content\"><pre>GridSearchCV(cv=10, estimator=LGBMRegressor(), n_jobs=-1,\n",
       "             param_grid={&#x27;colsample_bytree&#x27;: [0.4, 0.5, 0.6, 0.9, 1],\n",
       "                         &#x27;learning_rate&#x27;: [0.01, 0.1, 0.5, 1],\n",
       "                         &#x27;max_depth&#x27;: [1, 2, 3, 4, 5, 6, 7, 8],\n",
       "                         &#x27;n_estimators&#x27;: [20, 40, 100, 200, 500, 1000]},\n",
       "             verbose=2)</pre></div></div></div><div class=\"sk-parallel\"><div class=\"sk-parallel-item\"><div class=\"sk-item\"><div class=\"sk-label-container\"><div class=\"sk-label sk-toggleable\"><input class=\"sk-toggleable__control sk-hidden--visually\" id=\"sk-estimator-id-49\" type=\"checkbox\" ><label for=\"sk-estimator-id-49\" class=\"sk-toggleable__label sk-toggleable__label-arrow\">estimator: LGBMRegressor</label><div class=\"sk-toggleable__content\"><pre>LGBMRegressor()</pre></div></div></div><div class=\"sk-serial\"><div class=\"sk-item\"><div class=\"sk-estimator sk-toggleable\"><input class=\"sk-toggleable__control sk-hidden--visually\" id=\"sk-estimator-id-50\" type=\"checkbox\" ><label for=\"sk-estimator-id-50\" class=\"sk-toggleable__label sk-toggleable__label-arrow\">LGBMRegressor</label><div class=\"sk-toggleable__content\"><pre>LGBMRegressor()</pre></div></div></div></div></div></div></div></div></div></div>"
      ],
      "text/plain": [
       "GridSearchCV(cv=10, estimator=LGBMRegressor(), n_jobs=-1,\n",
       "             param_grid={'colsample_bytree': [0.4, 0.5, 0.6, 0.9, 1],\n",
       "                         'learning_rate': [0.01, 0.1, 0.5, 1],\n",
       "                         'max_depth': [1, 2, 3, 4, 5, 6, 7, 8],\n",
       "                         'n_estimators': [20, 40, 100, 200, 500, 1000]},\n",
       "             verbose=2)"
      ]
     },
     "execution_count": 176,
     "metadata": {},
     "output_type": "execute_result"
    }
   ],
   "source": [
    "lgbm_cv_model.fit(X_train, y_train)"
   ]
  },
  {
   "cell_type": "code",
   "execution_count": 177,
   "metadata": {},
   "outputs": [
    {
     "data": {
      "text/plain": [
       "{'colsample_bytree': 0.5,\n",
       " 'learning_rate': 0.1,\n",
       " 'max_depth': 6,\n",
       " 'n_estimators': 20}"
      ]
     },
     "execution_count": 177,
     "metadata": {},
     "output_type": "execute_result"
    }
   ],
   "source": [
    "lgbm_cv_model.best_params_"
   ]
  },
  {
   "cell_type": "code",
   "execution_count": 178,
   "metadata": {},
   "outputs": [
    {
     "name": "stdout",
     "output_type": "stream",
     "text": [
      "[LightGBM] [Warning] Accuracy may be bad since you didn't explicitly set num_leaves OR 2^max_depth > num_leaves. (num_leaves=31).\n",
      "[LightGBM] [Warning] Accuracy may be bad since you didn't explicitly set num_leaves OR 2^max_depth > num_leaves. (num_leaves=31).\n",
      "[LightGBM] [Info] Auto-choosing col-wise multi-threading, the overhead of testing was 0.000101 seconds.\n",
      "You can set `force_col_wise=true` to remove the overhead.\n",
      "[LightGBM] [Info] Total Bins 831\n",
      "[LightGBM] [Info] Number of data points in the train set: 197, number of used features: 19\n",
      "[LightGBM] [Info] Start training from score 543.483442\n",
      "[LightGBM] [Warning] No further splits with positive gain, best gain: -inf\n",
      "[LightGBM] [Warning] No further splits with positive gain, best gain: -inf\n",
      "[LightGBM] [Warning] No further splits with positive gain, best gain: -inf\n",
      "[LightGBM] [Warning] No further splits with positive gain, best gain: -inf\n",
      "[LightGBM] [Warning] No further splits with positive gain, best gain: -inf\n",
      "[LightGBM] [Warning] No further splits with positive gain, best gain: -inf\n",
      "[LightGBM] [Warning] No further splits with positive gain, best gain: -inf\n",
      "[LightGBM] [Warning] No further splits with positive gain, best gain: -inf\n",
      "[LightGBM] [Warning] No further splits with positive gain, best gain: -inf\n",
      "[LightGBM] [Warning] No further splits with positive gain, best gain: -inf\n",
      "[LightGBM] [Warning] No further splits with positive gain, best gain: -inf\n",
      "[LightGBM] [Warning] No further splits with positive gain, best gain: -inf\n",
      "[LightGBM] [Warning] No further splits with positive gain, best gain: -inf\n",
      "[LightGBM] [Warning] No further splits with positive gain, best gain: -inf\n",
      "[LightGBM] [Warning] No further splits with positive gain, best gain: -inf\n",
      "[LightGBM] [Warning] No further splits with positive gain, best gain: -inf\n",
      "[LightGBM] [Warning] No further splits with positive gain, best gain: -inf\n",
      "[LightGBM] [Warning] No further splits with positive gain, best gain: -inf\n",
      "[LightGBM] [Warning] No further splits with positive gain, best gain: -inf\n",
      "[LightGBM] [Warning] No further splits with positive gain, best gain: -inf\n",
      "[LightGBM] [Warning] No further splits with positive gain, best gain: -inf\n",
      "[LightGBM] [Warning] No further splits with positive gain, best gain: -inf\n",
      "[LightGBM] [Warning] No further splits with positive gain, best gain: -inf\n",
      "[LightGBM] [Warning] No further splits with positive gain, best gain: -inf\n",
      "[LightGBM] [Warning] No further splits with positive gain, best gain: -inf\n",
      "[LightGBM] [Warning] No further splits with positive gain, best gain: -inf\n",
      "[LightGBM] [Warning] No further splits with positive gain, best gain: -inf\n",
      "[LightGBM] [Warning] No further splits with positive gain, best gain: -inf\n",
      "[LightGBM] [Warning] No further splits with positive gain, best gain: -inf\n",
      "[LightGBM] [Warning] No further splits with positive gain, best gain: -inf\n",
      "[LightGBM] [Warning] No further splits with positive gain, best gain: -inf\n",
      "[LightGBM] [Warning] No further splits with positive gain, best gain: -inf\n",
      "[LightGBM] [Warning] No further splits with positive gain, best gain: -inf\n",
      "[LightGBM] [Warning] No further splits with positive gain, best gain: -inf\n",
      "[LightGBM] [Warning] No further splits with positive gain, best gain: -inf\n",
      "[LightGBM] [Warning] No further splits with positive gain, best gain: -inf\n",
      "[LightGBM] [Warning] No further splits with positive gain, best gain: -inf\n",
      "[LightGBM] [Warning] No further splits with positive gain, best gain: -inf\n",
      "[LightGBM] [Warning] No further splits with positive gain, best gain: -inf\n",
      "[LightGBM] [Warning] No further splits with positive gain, best gain: -inf\n"
     ]
    }
   ],
   "source": [
    "lgbm_tuned = LGBMRegressor(learning_rate = 0.1, \n",
    "                           max_depth = 7, \n",
    "                           n_estimators = 40,\n",
    "                          colsample_bytree = 0.6)\n",
    "\n",
    "lgbm_tuned = lgbm_tuned.fit(X_train,y_train)"
   ]
  },
  {
   "cell_type": "code",
   "execution_count": 179,
   "metadata": {},
   "outputs": [
    {
     "name": "stdout",
     "output_type": "stream",
     "text": [
      "[LightGBM] [Warning] Accuracy may be bad since you didn't explicitly set num_leaves OR 2^max_depth > num_leaves. (num_leaves=31).\n"
     ]
    }
   ],
   "source": [
    "y_pred = lgbm_tuned.predict(X_test)"
   ]
  },
  {
   "cell_type": "code",
   "execution_count": 180,
   "metadata": {},
   "outputs": [
    {
     "data": {
      "text/plain": [
       "372.7342551250238"
      ]
     },
     "execution_count": 180,
     "metadata": {},
     "output_type": "execute_result"
    }
   ],
   "source": [
    "np.sqrt(mean_squared_error(y_test, y_pred))"
   ]
  },
  {
   "cell_type": "markdown",
   "metadata": {},
   "source": [
    "# CatBoost"
   ]
  },
  {
   "cell_type": "code",
   "execution_count": 181,
   "metadata": {},
   "outputs": [],
   "source": [
    "hit = pd.read_csv(\"Hitters.csv\")\n",
    "df = hit.copy()\n",
    "df = df.dropna()\n",
    "dms = pd.get_dummies(df[['League', 'Division', 'NewLeague']])\n",
    "y = df[\"Salary\"]\n",
    "X_ = df.drop(['Salary', 'League', 'Division', 'NewLeague'], axis=1).astype('float64')\n",
    "X = pd.concat([X_, dms[['League_N', 'Division_W', 'NewLeague_N']]], axis=1)\n",
    "X_train, X_test, y_train, y_test = train_test_split(X, y, \n",
    "                                                    test_size=0.25, \n",
    "                                                    random_state=42)\n"
   ]
  },
  {
   "cell_type": "code",
   "execution_count": 182,
   "metadata": {},
   "outputs": [],
   "source": [
    "from catboost import CatBoostRegressor"
   ]
  },
  {
   "cell_type": "code",
   "execution_count": 183,
   "metadata": {},
   "outputs": [
    {
     "name": "stdout",
     "output_type": "stream",
     "text": [
      "Learning rate set to 0.031674\n",
      "0:\tlearn: 437.6430699\ttotal: 150ms\tremaining: 2m 29s\n",
      "1:\tlearn: 431.3923642\ttotal: 151ms\tremaining: 1m 15s\n",
      "2:\tlearn: 424.8820360\ttotal: 152ms\tremaining: 50.4s\n",
      "3:\tlearn: 418.2514904\ttotal: 152ms\tremaining: 37.9s\n",
      "4:\tlearn: 412.6394021\ttotal: 153ms\tremaining: 30.5s\n",
      "5:\tlearn: 406.6247020\ttotal: 154ms\tremaining: 25.5s\n",
      "6:\tlearn: 400.5321206\ttotal: 155ms\tremaining: 21.9s\n",
      "7:\tlearn: 394.6683437\ttotal: 155ms\tremaining: 19.3s\n",
      "8:\tlearn: 388.2496484\ttotal: 156ms\tremaining: 17.2s\n",
      "9:\tlearn: 382.9448842\ttotal: 157ms\tremaining: 15.6s\n",
      "10:\tlearn: 377.2600080\ttotal: 158ms\tremaining: 14.2s\n",
      "11:\tlearn: 372.4829606\ttotal: 159ms\tremaining: 13.1s\n",
      "12:\tlearn: 366.6823437\ttotal: 159ms\tremaining: 12.1s\n",
      "13:\tlearn: 362.6076230\ttotal: 160ms\tremaining: 11.3s\n",
      "14:\tlearn: 358.0107745\ttotal: 161ms\tremaining: 10.6s\n",
      "15:\tlearn: 353.2802665\ttotal: 162ms\tremaining: 9.95s\n",
      "16:\tlearn: 348.5646265\ttotal: 163ms\tremaining: 9.4s\n",
      "17:\tlearn: 343.6407912\ttotal: 163ms\tremaining: 8.91s\n",
      "18:\tlearn: 339.2363847\ttotal: 164ms\tremaining: 8.48s\n",
      "19:\tlearn: 334.3431252\ttotal: 165ms\tremaining: 8.09s\n",
      "20:\tlearn: 330.3247028\ttotal: 166ms\tremaining: 7.73s\n",
      "21:\tlearn: 326.6118334\ttotal: 167ms\tremaining: 7.4s\n",
      "22:\tlearn: 322.7759981\ttotal: 167ms\tremaining: 7.11s\n",
      "23:\tlearn: 318.9511822\ttotal: 168ms\tremaining: 6.84s\n",
      "24:\tlearn: 315.4216253\ttotal: 169ms\tremaining: 6.59s\n",
      "25:\tlearn: 311.3551377\ttotal: 170ms\tremaining: 6.36s\n",
      "26:\tlearn: 308.1492371\ttotal: 171ms\tremaining: 6.14s\n",
      "27:\tlearn: 304.7284729\ttotal: 171ms\tremaining: 5.95s\n",
      "28:\tlearn: 301.3893204\ttotal: 172ms\tremaining: 5.76s\n",
      "29:\tlearn: 298.2080758\ttotal: 173ms\tremaining: 5.59s\n",
      "30:\tlearn: 295.6878398\ttotal: 174ms\tremaining: 5.43s\n",
      "31:\tlearn: 292.3912243\ttotal: 174ms\tremaining: 5.28s\n",
      "32:\tlearn: 289.6345744\ttotal: 175ms\tremaining: 5.13s\n",
      "33:\tlearn: 287.2158711\ttotal: 176ms\tremaining: 5s\n",
      "34:\tlearn: 284.3879081\ttotal: 177ms\tremaining: 4.87s\n",
      "35:\tlearn: 281.7994818\ttotal: 178ms\tremaining: 4.75s\n",
      "36:\tlearn: 279.2028261\ttotal: 178ms\tremaining: 4.64s\n",
      "37:\tlearn: 276.5821160\ttotal: 179ms\tremaining: 4.53s\n",
      "38:\tlearn: 273.8890894\ttotal: 180ms\tremaining: 4.43s\n",
      "39:\tlearn: 271.1681677\ttotal: 181ms\tremaining: 4.33s\n",
      "40:\tlearn: 269.0159531\ttotal: 181ms\tremaining: 4.24s\n",
      "41:\tlearn: 266.3601804\ttotal: 182ms\tremaining: 4.16s\n",
      "42:\tlearn: 263.8608958\ttotal: 183ms\tremaining: 4.07s\n",
      "43:\tlearn: 261.1405566\ttotal: 184ms\tremaining: 4s\n",
      "44:\tlearn: 258.9314736\ttotal: 185ms\tremaining: 3.93s\n",
      "45:\tlearn: 256.3885577\ttotal: 186ms\tremaining: 3.85s\n",
      "46:\tlearn: 254.2857349\ttotal: 187ms\tremaining: 3.79s\n",
      "47:\tlearn: 252.2347121\ttotal: 188ms\tremaining: 3.72s\n",
      "48:\tlearn: 250.1779367\ttotal: 188ms\tremaining: 3.65s\n",
      "49:\tlearn: 248.2687430\ttotal: 189ms\tremaining: 3.59s\n",
      "50:\tlearn: 246.3685582\ttotal: 190ms\tremaining: 3.53s\n",
      "51:\tlearn: 244.8719988\ttotal: 191ms\tremaining: 3.47s\n",
      "52:\tlearn: 242.7348892\ttotal: 191ms\tremaining: 3.42s\n",
      "53:\tlearn: 241.1611112\ttotal: 192ms\tremaining: 3.36s\n",
      "54:\tlearn: 239.4819462\ttotal: 193ms\tremaining: 3.31s\n",
      "55:\tlearn: 237.3877895\ttotal: 194ms\tremaining: 3.26s\n",
      "56:\tlearn: 235.7619262\ttotal: 194ms\tremaining: 3.21s\n",
      "57:\tlearn: 233.9604804\ttotal: 195ms\tremaining: 3.17s\n",
      "58:\tlearn: 232.4948011\ttotal: 196ms\tremaining: 3.12s\n",
      "59:\tlearn: 230.6283304\ttotal: 196ms\tremaining: 3.08s\n",
      "60:\tlearn: 228.9920307\ttotal: 197ms\tremaining: 3.04s\n",
      "61:\tlearn: 227.5197637\ttotal: 198ms\tremaining: 3s\n",
      "62:\tlearn: 226.0561213\ttotal: 199ms\tremaining: 2.96s\n",
      "63:\tlearn: 224.3484762\ttotal: 200ms\tremaining: 2.92s\n",
      "64:\tlearn: 223.0652023\ttotal: 200ms\tremaining: 2.88s\n",
      "65:\tlearn: 221.6608069\ttotal: 201ms\tremaining: 2.85s\n",
      "66:\tlearn: 220.2445284\ttotal: 202ms\tremaining: 2.81s\n",
      "67:\tlearn: 219.0044262\ttotal: 203ms\tremaining: 2.78s\n",
      "68:\tlearn: 217.4624313\ttotal: 203ms\tremaining: 2.75s\n",
      "69:\tlearn: 216.0502248\ttotal: 204ms\tremaining: 2.71s\n",
      "70:\tlearn: 214.5361705\ttotal: 205ms\tremaining: 2.68s\n",
      "71:\tlearn: 213.1812509\ttotal: 206ms\tremaining: 2.65s\n",
      "72:\tlearn: 211.7399390\ttotal: 206ms\tremaining: 2.62s\n",
      "73:\tlearn: 210.5557639\ttotal: 207ms\tremaining: 2.59s\n",
      "74:\tlearn: 209.4242283\ttotal: 208ms\tremaining: 2.56s\n",
      "75:\tlearn: 208.4366109\ttotal: 209ms\tremaining: 2.54s\n",
      "76:\tlearn: 207.4514860\ttotal: 209ms\tremaining: 2.51s\n",
      "77:\tlearn: 206.1912213\ttotal: 210ms\tremaining: 2.48s\n",
      "78:\tlearn: 205.2585316\ttotal: 211ms\tremaining: 2.46s\n",
      "79:\tlearn: 203.8747879\ttotal: 212ms\tremaining: 2.44s\n",
      "80:\tlearn: 202.5993031\ttotal: 213ms\tremaining: 2.41s\n",
      "81:\tlearn: 201.4719061\ttotal: 213ms\tremaining: 2.39s\n",
      "82:\tlearn: 200.2871874\ttotal: 214ms\tremaining: 2.37s\n",
      "83:\tlearn: 199.1074683\ttotal: 215ms\tremaining: 2.34s\n",
      "84:\tlearn: 197.8511342\ttotal: 216ms\tremaining: 2.32s\n",
      "85:\tlearn: 196.8788042\ttotal: 216ms\tremaining: 2.3s\n",
      "86:\tlearn: 195.9815130\ttotal: 217ms\tremaining: 2.28s\n",
      "87:\tlearn: 195.0807956\ttotal: 218ms\tremaining: 2.26s\n",
      "88:\tlearn: 193.9775466\ttotal: 219ms\tremaining: 2.24s\n",
      "89:\tlearn: 192.8810426\ttotal: 220ms\tremaining: 2.22s\n",
      "90:\tlearn: 192.5363626\ttotal: 220ms\tremaining: 2.2s\n",
      "91:\tlearn: 191.3259849\ttotal: 221ms\tremaining: 2.18s\n",
      "92:\tlearn: 190.3650025\ttotal: 222ms\tremaining: 2.16s\n",
      "93:\tlearn: 189.3255643\ttotal: 223ms\tremaining: 2.15s\n",
      "94:\tlearn: 188.2433480\ttotal: 223ms\tremaining: 2.13s\n",
      "95:\tlearn: 187.2786096\ttotal: 224ms\tremaining: 2.11s\n",
      "96:\tlearn: 186.1284681\ttotal: 225ms\tremaining: 2.09s\n",
      "97:\tlearn: 185.0190872\ttotal: 226ms\tremaining: 2.08s\n",
      "98:\tlearn: 184.2888024\ttotal: 227ms\tremaining: 2.06s\n",
      "99:\tlearn: 183.3111217\ttotal: 227ms\tremaining: 2.05s\n",
      "100:\tlearn: 182.2519940\ttotal: 228ms\tremaining: 2.03s\n",
      "101:\tlearn: 181.0186200\ttotal: 229ms\tremaining: 2.01s\n",
      "102:\tlearn: 179.9672344\ttotal: 230ms\tremaining: 2s\n",
      "103:\tlearn: 178.9776753\ttotal: 230ms\tremaining: 1.98s\n",
      "104:\tlearn: 178.2445101\ttotal: 231ms\tremaining: 1.97s\n",
      "105:\tlearn: 177.4055906\ttotal: 232ms\tremaining: 1.96s\n",
      "106:\tlearn: 176.2405445\ttotal: 233ms\tremaining: 1.94s\n",
      "107:\tlearn: 175.1813091\ttotal: 233ms\tremaining: 1.93s\n",
      "108:\tlearn: 174.5537682\ttotal: 234ms\tremaining: 1.91s\n",
      "109:\tlearn: 173.8231890\ttotal: 235ms\tremaining: 1.9s\n",
      "110:\tlearn: 172.9324461\ttotal: 236ms\tremaining: 1.89s\n",
      "111:\tlearn: 172.0019421\ttotal: 236ms\tremaining: 1.87s\n",
      "112:\tlearn: 171.2945678\ttotal: 237ms\tremaining: 1.86s\n",
      "113:\tlearn: 170.4815313\ttotal: 238ms\tremaining: 1.85s\n",
      "114:\tlearn: 169.9491294\ttotal: 238ms\tremaining: 1.83s\n",
      "115:\tlearn: 169.2483859\ttotal: 239ms\tremaining: 1.82s\n",
      "116:\tlearn: 168.7342383\ttotal: 240ms\tremaining: 1.81s\n",
      "117:\tlearn: 168.1837140\ttotal: 241ms\tremaining: 1.8s\n",
      "118:\tlearn: 167.1222358\ttotal: 241ms\tremaining: 1.79s\n",
      "119:\tlearn: 166.3472734\ttotal: 242ms\tremaining: 1.78s\n",
      "120:\tlearn: 165.5330342\ttotal: 243ms\tremaining: 1.76s\n",
      "121:\tlearn: 164.8476246\ttotal: 244ms\tremaining: 1.75s\n",
      "122:\tlearn: 164.2399797\ttotal: 244ms\tremaining: 1.74s\n",
      "123:\tlearn: 164.0121571\ttotal: 245ms\tremaining: 1.73s\n",
      "124:\tlearn: 162.9794212\ttotal: 246ms\tremaining: 1.72s\n",
      "125:\tlearn: 162.2095741\ttotal: 247ms\tremaining: 1.71s\n",
      "126:\tlearn: 161.1695920\ttotal: 247ms\tremaining: 1.7s\n",
      "127:\tlearn: 160.3516612\ttotal: 248ms\tremaining: 1.69s\n",
      "128:\tlearn: 159.1596356\ttotal: 249ms\tremaining: 1.68s\n",
      "129:\tlearn: 158.5354394\ttotal: 249ms\tremaining: 1.67s\n",
      "130:\tlearn: 157.5922383\ttotal: 250ms\tremaining: 1.66s\n",
      "131:\tlearn: 156.9689796\ttotal: 251ms\tremaining: 1.65s\n",
      "132:\tlearn: 156.4170623\ttotal: 252ms\tremaining: 1.64s\n",
      "133:\tlearn: 156.1222595\ttotal: 252ms\tremaining: 1.63s\n",
      "134:\tlearn: 155.5996569\ttotal: 253ms\tremaining: 1.62s\n",
      "135:\tlearn: 154.8990155\ttotal: 254ms\tremaining: 1.61s\n",
      "136:\tlearn: 154.3704896\ttotal: 255ms\tremaining: 1.6s\n",
      "137:\tlearn: 153.8560012\ttotal: 256ms\tremaining: 1.6s\n",
      "138:\tlearn: 153.2399938\ttotal: 256ms\tremaining: 1.59s\n",
      "139:\tlearn: 152.2142414\ttotal: 257ms\tremaining: 1.58s\n",
      "140:\tlearn: 151.5976950\ttotal: 258ms\tremaining: 1.57s\n",
      "141:\tlearn: 151.4426506\ttotal: 258ms\tremaining: 1.56s\n",
      "142:\tlearn: 150.8467135\ttotal: 259ms\tremaining: 1.55s\n",
      "143:\tlearn: 150.0175883\ttotal: 260ms\tremaining: 1.54s\n",
      "144:\tlearn: 149.6327647\ttotal: 261ms\tremaining: 1.54s\n",
      "145:\tlearn: 148.9265718\ttotal: 261ms\tremaining: 1.53s\n",
      "146:\tlearn: 148.4460764\ttotal: 262ms\tremaining: 1.52s\n",
      "147:\tlearn: 147.8108318\ttotal: 263ms\tremaining: 1.51s\n",
      "148:\tlearn: 147.2766525\ttotal: 263ms\tremaining: 1.5s\n",
      "149:\tlearn: 146.8537279\ttotal: 264ms\tremaining: 1.5s\n",
      "150:\tlearn: 146.0227438\ttotal: 265ms\tremaining: 1.49s\n",
      "151:\tlearn: 145.5603059\ttotal: 266ms\tremaining: 1.48s\n",
      "152:\tlearn: 145.0318400\ttotal: 266ms\tremaining: 1.47s\n",
      "153:\tlearn: 144.6082188\ttotal: 267ms\tremaining: 1.47s\n",
      "154:\tlearn: 144.2070501\ttotal: 268ms\tremaining: 1.46s\n",
      "155:\tlearn: 143.8060676\ttotal: 269ms\tremaining: 1.45s\n",
      "156:\tlearn: 143.3819707\ttotal: 269ms\tremaining: 1.45s\n",
      "157:\tlearn: 143.0764402\ttotal: 270ms\tremaining: 1.44s\n",
      "158:\tlearn: 142.4609449\ttotal: 271ms\tremaining: 1.43s\n",
      "159:\tlearn: 142.3321970\ttotal: 272ms\tremaining: 1.43s\n",
      "160:\tlearn: 141.9044208\ttotal: 272ms\tremaining: 1.42s\n",
      "161:\tlearn: 141.4544471\ttotal: 273ms\tremaining: 1.41s\n",
      "162:\tlearn: 140.9391569\ttotal: 274ms\tremaining: 1.41s\n",
      "163:\tlearn: 140.3413557\ttotal: 275ms\tremaining: 1.4s\n",
      "164:\tlearn: 139.7992277\ttotal: 275ms\tremaining: 1.39s\n",
      "165:\tlearn: 139.3139418\ttotal: 276ms\tremaining: 1.39s\n",
      "166:\tlearn: 139.1617594\ttotal: 277ms\tremaining: 1.38s\n",
      "167:\tlearn: 138.8837397\ttotal: 278ms\tremaining: 1.37s\n",
      "168:\tlearn: 138.6951410\ttotal: 278ms\tremaining: 1.37s\n",
      "169:\tlearn: 138.0167618\ttotal: 279ms\tremaining: 1.36s\n",
      "170:\tlearn: 137.7020324\ttotal: 280ms\tremaining: 1.36s\n",
      "171:\tlearn: 137.1976478\ttotal: 280ms\tremaining: 1.35s\n",
      "172:\tlearn: 136.6670434\ttotal: 281ms\tremaining: 1.34s\n",
      "173:\tlearn: 136.4670074\ttotal: 282ms\tremaining: 1.34s\n",
      "174:\tlearn: 136.0663779\ttotal: 283ms\tremaining: 1.33s\n",
      "175:\tlearn: 135.9542221\ttotal: 283ms\tremaining: 1.33s\n",
      "176:\tlearn: 135.6178437\ttotal: 284ms\tremaining: 1.32s\n",
      "177:\tlearn: 134.6062854\ttotal: 285ms\tremaining: 1.32s\n",
      "178:\tlearn: 134.5063344\ttotal: 285ms\tremaining: 1.31s\n",
      "179:\tlearn: 133.9371247\ttotal: 286ms\tremaining: 1.3s\n",
      "180:\tlearn: 133.8431589\ttotal: 286ms\tremaining: 1.3s\n",
      "181:\tlearn: 133.4293648\ttotal: 287ms\tremaining: 1.29s\n",
      "182:\tlearn: 133.2065999\ttotal: 288ms\tremaining: 1.28s\n",
      "183:\tlearn: 132.9235113\ttotal: 289ms\tremaining: 1.28s\n",
      "184:\tlearn: 132.6695944\ttotal: 289ms\tremaining: 1.27s\n",
      "185:\tlearn: 132.3135234\ttotal: 290ms\tremaining: 1.27s\n",
      "186:\tlearn: 132.2233433\ttotal: 291ms\tremaining: 1.26s\n",
      "187:\tlearn: 132.0628764\ttotal: 291ms\tremaining: 1.26s\n",
      "188:\tlearn: 131.8624217\ttotal: 292ms\tremaining: 1.25s\n",
      "189:\tlearn: 131.3846390\ttotal: 293ms\tremaining: 1.25s\n",
      "190:\tlearn: 131.0638781\ttotal: 294ms\tremaining: 1.24s\n",
      "191:\tlearn: 130.4721276\ttotal: 294ms\tremaining: 1.24s\n",
      "192:\tlearn: 129.9910319\ttotal: 295ms\tremaining: 1.23s\n",
      "193:\tlearn: 129.7074214\ttotal: 296ms\tremaining: 1.23s\n",
      "194:\tlearn: 129.0491404\ttotal: 296ms\tremaining: 1.22s\n",
      "195:\tlearn: 128.6928621\ttotal: 297ms\tremaining: 1.22s\n",
      "196:\tlearn: 128.5117514\ttotal: 298ms\tremaining: 1.21s\n",
      "197:\tlearn: 128.4035709\ttotal: 299ms\tremaining: 1.21s\n",
      "198:\tlearn: 127.9924182\ttotal: 300ms\tremaining: 1.21s\n",
      "199:\tlearn: 127.7690317\ttotal: 300ms\tremaining: 1.2s\n",
      "200:\tlearn: 127.6252249\ttotal: 301ms\tremaining: 1.2s\n",
      "201:\tlearn: 127.4951417\ttotal: 302ms\tremaining: 1.19s\n",
      "202:\tlearn: 127.0315349\ttotal: 303ms\tremaining: 1.19s\n",
      "203:\tlearn: 126.7791475\ttotal: 303ms\tremaining: 1.18s\n",
      "204:\tlearn: 126.4903107\ttotal: 304ms\tremaining: 1.18s\n",
      "205:\tlearn: 126.0664803\ttotal: 305ms\tremaining: 1.18s\n",
      "206:\tlearn: 125.3934071\ttotal: 306ms\tremaining: 1.17s\n",
      "207:\tlearn: 125.0899622\ttotal: 306ms\tremaining: 1.17s\n",
      "208:\tlearn: 124.7757310\ttotal: 307ms\tremaining: 1.16s\n",
      "209:\tlearn: 124.5475960\ttotal: 308ms\tremaining: 1.16s\n",
      "210:\tlearn: 124.1962887\ttotal: 309ms\tremaining: 1.15s\n",
      "211:\tlearn: 123.9686937\ttotal: 309ms\tremaining: 1.15s\n",
      "212:\tlearn: 123.0280048\ttotal: 310ms\tremaining: 1.15s\n",
      "213:\tlearn: 122.5447141\ttotal: 311ms\tremaining: 1.14s\n",
      "214:\tlearn: 122.1785305\ttotal: 311ms\tremaining: 1.14s\n",
      "215:\tlearn: 121.4403560\ttotal: 312ms\tremaining: 1.13s\n",
      "216:\tlearn: 120.8269584\ttotal: 313ms\tremaining: 1.13s\n",
      "217:\tlearn: 120.2399329\ttotal: 314ms\tremaining: 1.13s\n",
      "218:\tlearn: 119.4852557\ttotal: 314ms\tremaining: 1.12s\n",
      "219:\tlearn: 119.2094151\ttotal: 315ms\tremaining: 1.12s\n",
      "220:\tlearn: 119.0417229\ttotal: 316ms\tremaining: 1.11s\n",
      "221:\tlearn: 118.9557915\ttotal: 317ms\tremaining: 1.11s\n",
      "222:\tlearn: 118.3082421\ttotal: 317ms\tremaining: 1.1s\n",
      "223:\tlearn: 117.7364211\ttotal: 318ms\tremaining: 1.1s\n",
      "224:\tlearn: 117.6324235\ttotal: 319ms\tremaining: 1.1s\n",
      "225:\tlearn: 117.2879743\ttotal: 320ms\tremaining: 1.09s\n",
      "226:\tlearn: 117.0422612\ttotal: 320ms\tremaining: 1.09s\n",
      "227:\tlearn: 116.8001379\ttotal: 321ms\tremaining: 1.09s\n",
      "228:\tlearn: 116.4854978\ttotal: 322ms\tremaining: 1.08s\n",
      "229:\tlearn: 115.7559740\ttotal: 323ms\tremaining: 1.08s\n",
      "230:\tlearn: 115.1896271\ttotal: 323ms\tremaining: 1.08s\n",
      "231:\tlearn: 114.9666291\ttotal: 324ms\tremaining: 1.07s\n",
      "232:\tlearn: 114.1239318\ttotal: 325ms\tremaining: 1.07s\n",
      "233:\tlearn: 113.9964466\ttotal: 326ms\tremaining: 1.07s\n",
      "234:\tlearn: 113.8912592\ttotal: 327ms\tremaining: 1.06s\n",
      "235:\tlearn: 113.4606970\ttotal: 327ms\tremaining: 1.06s\n",
      "236:\tlearn: 113.0958922\ttotal: 328ms\tremaining: 1.06s\n",
      "237:\tlearn: 113.0091361\ttotal: 329ms\tremaining: 1.05s\n",
      "238:\tlearn: 112.7657197\ttotal: 330ms\tremaining: 1.05s\n",
      "239:\tlearn: 112.2315070\ttotal: 330ms\tremaining: 1.04s\n",
      "240:\tlearn: 111.9507125\ttotal: 331ms\tremaining: 1.04s\n",
      "241:\tlearn: 111.7384492\ttotal: 332ms\tremaining: 1.04s\n",
      "242:\tlearn: 111.0693763\ttotal: 332ms\tremaining: 1.03s\n",
      "243:\tlearn: 110.3499926\ttotal: 333ms\tremaining: 1.03s\n",
      "244:\tlearn: 110.2316231\ttotal: 334ms\tremaining: 1.03s\n",
      "245:\tlearn: 109.6985998\ttotal: 335ms\tremaining: 1.02s\n",
      "246:\tlearn: 109.4279824\ttotal: 335ms\tremaining: 1.02s\n",
      "247:\tlearn: 109.1466762\ttotal: 336ms\tremaining: 1.02s\n",
      "248:\tlearn: 108.9628542\ttotal: 337ms\tremaining: 1.01s\n",
      "249:\tlearn: 108.7268676\ttotal: 338ms\tremaining: 1.01s\n",
      "250:\tlearn: 108.0921190\ttotal: 338ms\tremaining: 1.01s\n",
      "251:\tlearn: 107.6167844\ttotal: 339ms\tremaining: 1.01s\n",
      "252:\tlearn: 106.9716563\ttotal: 340ms\tremaining: 1s\n",
      "253:\tlearn: 106.4272485\ttotal: 341ms\tremaining: 1s\n",
      "254:\tlearn: 106.2032614\ttotal: 341ms\tremaining: 997ms\n",
      "255:\tlearn: 105.5756794\ttotal: 342ms\tremaining: 995ms\n",
      "256:\tlearn: 105.4918649\ttotal: 343ms\tremaining: 992ms\n",
      "257:\tlearn: 105.2466976\ttotal: 344ms\tremaining: 988ms\n",
      "258:\tlearn: 105.0461428\ttotal: 344ms\tremaining: 986ms\n",
      "259:\tlearn: 104.5887628\ttotal: 345ms\tremaining: 982ms\n",
      "260:\tlearn: 104.1305873\ttotal: 346ms\tremaining: 979ms\n",
      "261:\tlearn: 103.5527158\ttotal: 347ms\tremaining: 976ms\n",
      "262:\tlearn: 103.0334823\ttotal: 347ms\tremaining: 973ms\n",
      "263:\tlearn: 102.6732388\ttotal: 348ms\tremaining: 970ms\n",
      "264:\tlearn: 102.4678728\ttotal: 349ms\tremaining: 967ms\n",
      "265:\tlearn: 101.9608852\ttotal: 349ms\tremaining: 964ms\n",
      "266:\tlearn: 101.4449668\ttotal: 350ms\tremaining: 961ms\n",
      "267:\tlearn: 100.9647899\ttotal: 351ms\tremaining: 958ms\n",
      "268:\tlearn: 100.4376357\ttotal: 352ms\tremaining: 956ms\n",
      "269:\tlearn: 100.1038322\ttotal: 352ms\tremaining: 953ms\n",
      "270:\tlearn: 99.8991183\ttotal: 353ms\tremaining: 950ms\n",
      "271:\tlearn: 99.4016031\ttotal: 354ms\tremaining: 947ms\n",
      "272:\tlearn: 98.9231252\ttotal: 354ms\tremaining: 944ms\n",
      "273:\tlearn: 98.5734863\ttotal: 355ms\tremaining: 941ms\n",
      "274:\tlearn: 98.3333355\ttotal: 356ms\tremaining: 939ms\n",
      "275:\tlearn: 97.9164082\ttotal: 357ms\tremaining: 936ms\n",
      "276:\tlearn: 97.3911203\ttotal: 358ms\tremaining: 933ms\n",
      "277:\tlearn: 96.9317789\ttotal: 358ms\tremaining: 930ms\n",
      "278:\tlearn: 96.6243997\ttotal: 359ms\tremaining: 928ms\n",
      "279:\tlearn: 96.3288821\ttotal: 360ms\tremaining: 925ms\n",
      "280:\tlearn: 95.8579534\ttotal: 360ms\tremaining: 922ms\n",
      "281:\tlearn: 95.4136026\ttotal: 361ms\tremaining: 919ms\n",
      "282:\tlearn: 95.3442077\ttotal: 362ms\tremaining: 917ms\n",
      "283:\tlearn: 95.1166584\ttotal: 363ms\tremaining: 914ms\n",
      "284:\tlearn: 94.8017360\ttotal: 363ms\tremaining: 911ms\n",
      "285:\tlearn: 94.5863908\ttotal: 364ms\tremaining: 909ms\n",
      "286:\tlearn: 94.4111694\ttotal: 365ms\tremaining: 906ms\n",
      "287:\tlearn: 94.2678024\ttotal: 366ms\tremaining: 904ms\n",
      "288:\tlearn: 93.7753419\ttotal: 366ms\tremaining: 901ms\n",
      "289:\tlearn: 93.3772710\ttotal: 367ms\tremaining: 898ms\n",
      "290:\tlearn: 92.8750904\ttotal: 368ms\tremaining: 896ms\n",
      "291:\tlearn: 92.6654794\ttotal: 368ms\tremaining: 893ms\n",
      "292:\tlearn: 92.2659876\ttotal: 369ms\tremaining: 891ms\n",
      "293:\tlearn: 92.0282495\ttotal: 370ms\tremaining: 888ms\n",
      "294:\tlearn: 91.8288855\ttotal: 371ms\tremaining: 888ms\n",
      "295:\tlearn: 91.6752612\ttotal: 372ms\tremaining: 885ms\n",
      "296:\tlearn: 91.2561883\ttotal: 373ms\tremaining: 883ms\n",
      "297:\tlearn: 91.0227123\ttotal: 374ms\tremaining: 882ms\n",
      "298:\tlearn: 90.8392142\ttotal: 375ms\tremaining: 880ms\n",
      "299:\tlearn: 90.6853014\ttotal: 376ms\tremaining: 878ms\n",
      "300:\tlearn: 90.5986761\ttotal: 377ms\tremaining: 876ms\n",
      "301:\tlearn: 90.2180036\ttotal: 378ms\tremaining: 874ms\n",
      "302:\tlearn: 89.8313622\ttotal: 379ms\tremaining: 873ms\n",
      "303:\tlearn: 89.6872837\ttotal: 380ms\tremaining: 871ms\n",
      "304:\tlearn: 89.3853276\ttotal: 381ms\tremaining: 869ms\n",
      "305:\tlearn: 88.9459206\ttotal: 382ms\tremaining: 867ms\n",
      "306:\tlearn: 88.7258770\ttotal: 383ms\tremaining: 865ms\n",
      "307:\tlearn: 88.5374358\ttotal: 384ms\tremaining: 863ms\n",
      "308:\tlearn: 88.0624447\ttotal: 385ms\tremaining: 861ms\n",
      "309:\tlearn: 87.7942692\ttotal: 386ms\tremaining: 859ms\n",
      "310:\tlearn: 87.6354184\ttotal: 387ms\tremaining: 857ms\n",
      "311:\tlearn: 87.4879486\ttotal: 388ms\tremaining: 855ms\n",
      "312:\tlearn: 87.0294739\ttotal: 389ms\tremaining: 853ms\n",
      "313:\tlearn: 86.6746221\ttotal: 390ms\tremaining: 851ms\n",
      "314:\tlearn: 86.2792146\ttotal: 390ms\tremaining: 849ms\n",
      "315:\tlearn: 86.2127070\ttotal: 391ms\tremaining: 847ms\n",
      "316:\tlearn: 86.1507368\ttotal: 392ms\tremaining: 845ms\n",
      "317:\tlearn: 85.7089141\ttotal: 393ms\tremaining: 843ms\n",
      "318:\tlearn: 85.6035137\ttotal: 394ms\tremaining: 841ms\n",
      "319:\tlearn: 85.3587988\ttotal: 395ms\tremaining: 839ms\n",
      "320:\tlearn: 84.9660906\ttotal: 396ms\tremaining: 837ms\n",
      "321:\tlearn: 84.5474713\ttotal: 397ms\tremaining: 835ms\n",
      "322:\tlearn: 84.1996852\ttotal: 398ms\tremaining: 833ms\n",
      "323:\tlearn: 84.0654282\ttotal: 398ms\tremaining: 831ms\n",
      "324:\tlearn: 83.7937327\ttotal: 399ms\tremaining: 830ms\n",
      "325:\tlearn: 83.5064288\ttotal: 400ms\tremaining: 828ms\n",
      "326:\tlearn: 83.3997655\ttotal: 401ms\tremaining: 826ms\n",
      "327:\tlearn: 83.2958622\ttotal: 402ms\tremaining: 824ms\n",
      "328:\tlearn: 82.9877578\ttotal: 403ms\tremaining: 822ms\n",
      "329:\tlearn: 82.6286638\ttotal: 404ms\tremaining: 820ms\n",
      "330:\tlearn: 82.2827132\ttotal: 405ms\tremaining: 818ms\n",
      "331:\tlearn: 82.0895251\ttotal: 406ms\tremaining: 816ms\n",
      "332:\tlearn: 82.0130649\ttotal: 407ms\tremaining: 814ms\n",
      "333:\tlearn: 81.6771734\ttotal: 408ms\tremaining: 813ms\n",
      "334:\tlearn: 81.3519124\ttotal: 408ms\tremaining: 811ms\n",
      "335:\tlearn: 81.0170326\ttotal: 409ms\tremaining: 809ms\n",
      "336:\tlearn: 80.6917886\ttotal: 410ms\tremaining: 807ms\n",
      "337:\tlearn: 80.3455177\ttotal: 411ms\tremaining: 805ms\n",
      "338:\tlearn: 80.0260727\ttotal: 412ms\tremaining: 803ms\n",
      "339:\tlearn: 79.9154748\ttotal: 413ms\tremaining: 802ms\n",
      "340:\tlearn: 79.7813079\ttotal: 414ms\tremaining: 800ms\n",
      "341:\tlearn: 79.3513293\ttotal: 415ms\tremaining: 798ms\n",
      "342:\tlearn: 78.8666019\ttotal: 416ms\tremaining: 796ms\n",
      "343:\tlearn: 78.7959013\ttotal: 417ms\tremaining: 794ms\n",
      "344:\tlearn: 78.7081334\ttotal: 417ms\tremaining: 793ms\n",
      "345:\tlearn: 78.3354931\ttotal: 418ms\tremaining: 791ms\n",
      "346:\tlearn: 77.9475067\ttotal: 419ms\tremaining: 789ms\n",
      "347:\tlearn: 77.8910420\ttotal: 420ms\tremaining: 787ms\n",
      "348:\tlearn: 77.5461672\ttotal: 421ms\tremaining: 785ms\n",
      "349:\tlearn: 77.3717101\ttotal: 422ms\tremaining: 784ms\n",
      "350:\tlearn: 77.0729657\ttotal: 423ms\tremaining: 782ms\n",
      "351:\tlearn: 76.7699287\ttotal: 424ms\tremaining: 780ms\n",
      "352:\tlearn: 76.6029759\ttotal: 425ms\tremaining: 778ms\n",
      "353:\tlearn: 76.1642615\ttotal: 426ms\tremaining: 777ms\n",
      "354:\tlearn: 76.1202523\ttotal: 426ms\tremaining: 775ms\n",
      "355:\tlearn: 75.9487132\ttotal: 427ms\tremaining: 773ms\n",
      "356:\tlearn: 75.6748479\ttotal: 428ms\tremaining: 771ms\n",
      "357:\tlearn: 75.4290864\ttotal: 429ms\tremaining: 770ms\n",
      "358:\tlearn: 75.0463849\ttotal: 430ms\tremaining: 768ms\n",
      "359:\tlearn: 74.9902381\ttotal: 431ms\tremaining: 766ms\n",
      "360:\tlearn: 74.5243875\ttotal: 432ms\tremaining: 765ms\n",
      "361:\tlearn: 74.1913065\ttotal: 433ms\tremaining: 763ms\n",
      "362:\tlearn: 73.8413359\ttotal: 434ms\tremaining: 762ms\n",
      "363:\tlearn: 73.7602119\ttotal: 435ms\tremaining: 760ms\n",
      "364:\tlearn: 73.3278135\ttotal: 436ms\tremaining: 758ms\n",
      "365:\tlearn: 72.9524336\ttotal: 437ms\tremaining: 757ms\n",
      "366:\tlearn: 72.6791856\ttotal: 438ms\tremaining: 755ms\n",
      "367:\tlearn: 72.4333577\ttotal: 438ms\tremaining: 753ms\n",
      "368:\tlearn: 72.1672937\ttotal: 439ms\tremaining: 751ms\n",
      "369:\tlearn: 71.9070276\ttotal: 440ms\tremaining: 750ms\n",
      "370:\tlearn: 71.5496196\ttotal: 441ms\tremaining: 748ms\n",
      "371:\tlearn: 71.3161902\ttotal: 442ms\tremaining: 746ms\n",
      "372:\tlearn: 71.1259191\ttotal: 443ms\tremaining: 745ms\n",
      "373:\tlearn: 70.9889962\ttotal: 444ms\tremaining: 743ms\n",
      "374:\tlearn: 70.7417966\ttotal: 445ms\tremaining: 741ms\n",
      "375:\tlearn: 70.4931174\ttotal: 446ms\tremaining: 740ms\n",
      "376:\tlearn: 70.3300576\ttotal: 447ms\tremaining: 738ms\n",
      "377:\tlearn: 69.9233248\ttotal: 448ms\tremaining: 736ms\n",
      "378:\tlearn: 69.6261005\ttotal: 449ms\tremaining: 735ms\n",
      "379:\tlearn: 69.3989708\ttotal: 449ms\tremaining: 733ms\n",
      "380:\tlearn: 69.0085387\ttotal: 450ms\tremaining: 732ms\n",
      "381:\tlearn: 68.7604153\ttotal: 451ms\tremaining: 730ms\n",
      "382:\tlearn: 68.4602767\ttotal: 452ms\tremaining: 728ms\n",
      "383:\tlearn: 68.1005452\ttotal: 453ms\tremaining: 727ms\n",
      "384:\tlearn: 68.0540467\ttotal: 454ms\tremaining: 725ms\n",
      "385:\tlearn: 67.8972753\ttotal: 455ms\tremaining: 724ms\n",
      "386:\tlearn: 67.5389629\ttotal: 456ms\tremaining: 722ms\n",
      "387:\tlearn: 67.2390178\ttotal: 457ms\tremaining: 721ms\n",
      "388:\tlearn: 67.0279888\ttotal: 458ms\tremaining: 719ms\n",
      "389:\tlearn: 66.8375919\ttotal: 459ms\tremaining: 718ms\n",
      "390:\tlearn: 66.4118315\ttotal: 460ms\tremaining: 716ms\n",
      "391:\tlearn: 66.3642690\ttotal: 461ms\tremaining: 714ms\n",
      "392:\tlearn: 66.1673138\ttotal: 462ms\tremaining: 713ms\n",
      "393:\tlearn: 66.0177482\ttotal: 463ms\tremaining: 712ms\n",
      "394:\tlearn: 65.8018038\ttotal: 464ms\tremaining: 710ms\n",
      "395:\tlearn: 65.6886505\ttotal: 465ms\tremaining: 709ms\n",
      "396:\tlearn: 65.6120185\ttotal: 466ms\tremaining: 707ms\n",
      "397:\tlearn: 65.5746662\ttotal: 466ms\tremaining: 706ms\n",
      "398:\tlearn: 65.2974851\ttotal: 467ms\tremaining: 704ms\n",
      "399:\tlearn: 65.2464764\ttotal: 468ms\tremaining: 702ms\n",
      "400:\tlearn: 65.1241314\ttotal: 469ms\tremaining: 701ms\n",
      "401:\tlearn: 65.0515740\ttotal: 470ms\tremaining: 699ms\n",
      "402:\tlearn: 64.8089636\ttotal: 471ms\tremaining: 698ms\n",
      "403:\tlearn: 64.5992230\ttotal: 472ms\tremaining: 697ms\n",
      "404:\tlearn: 64.2907010\ttotal: 473ms\tremaining: 695ms\n",
      "405:\tlearn: 64.1568642\ttotal: 474ms\tremaining: 694ms\n",
      "406:\tlearn: 63.8279106\ttotal: 476ms\tremaining: 693ms\n",
      "407:\tlearn: 63.5558565\ttotal: 476ms\tremaining: 691ms\n",
      "408:\tlearn: 63.3865445\ttotal: 477ms\tremaining: 690ms\n",
      "409:\tlearn: 63.2752408\ttotal: 478ms\tremaining: 688ms\n",
      "410:\tlearn: 63.1070190\ttotal: 479ms\tremaining: 687ms\n",
      "411:\tlearn: 62.7868376\ttotal: 480ms\tremaining: 685ms\n",
      "412:\tlearn: 62.5345803\ttotal: 481ms\tremaining: 684ms\n",
      "413:\tlearn: 62.2729058\ttotal: 482ms\tremaining: 682ms\n",
      "414:\tlearn: 61.9850985\ttotal: 483ms\tremaining: 681ms\n",
      "415:\tlearn: 61.7784164\ttotal: 484ms\tremaining: 679ms\n",
      "416:\tlearn: 61.7431976\ttotal: 485ms\tremaining: 678ms\n",
      "417:\tlearn: 61.4309964\ttotal: 485ms\tremaining: 676ms\n",
      "418:\tlearn: 61.3513660\ttotal: 486ms\tremaining: 674ms\n",
      "419:\tlearn: 61.1253739\ttotal: 487ms\tremaining: 673ms\n",
      "420:\tlearn: 61.0742571\ttotal: 488ms\tremaining: 672ms\n",
      "421:\tlearn: 61.0390980\ttotal: 489ms\tremaining: 670ms\n",
      "422:\tlearn: 61.0095757\ttotal: 490ms\tremaining: 669ms\n",
      "423:\tlearn: 60.6843255\ttotal: 491ms\tremaining: 667ms\n",
      "424:\tlearn: 60.4045551\ttotal: 492ms\tremaining: 666ms\n",
      "425:\tlearn: 60.3649587\ttotal: 493ms\tremaining: 664ms\n",
      "426:\tlearn: 60.3315828\ttotal: 494ms\tremaining: 663ms\n",
      "427:\tlearn: 60.1047027\ttotal: 494ms\tremaining: 661ms\n",
      "428:\tlearn: 59.9170736\ttotal: 495ms\tremaining: 659ms\n",
      "429:\tlearn: 59.6875648\ttotal: 496ms\tremaining: 658ms\n",
      "430:\tlearn: 59.6662150\ttotal: 497ms\tremaining: 656ms\n",
      "431:\tlearn: 59.4208112\ttotal: 498ms\tremaining: 655ms\n",
      "432:\tlearn: 59.2358034\ttotal: 499ms\tremaining: 653ms\n",
      "433:\tlearn: 58.9818868\ttotal: 500ms\tremaining: 652ms\n",
      "434:\tlearn: 58.7089433\ttotal: 501ms\tremaining: 651ms\n",
      "435:\tlearn: 58.5898817\ttotal: 502ms\tremaining: 650ms\n",
      "436:\tlearn: 58.5425342\ttotal: 503ms\tremaining: 648ms\n",
      "437:\tlearn: 58.2884605\ttotal: 504ms\tremaining: 647ms\n",
      "438:\tlearn: 58.2643873\ttotal: 505ms\tremaining: 646ms\n",
      "439:\tlearn: 58.2330868\ttotal: 506ms\tremaining: 644ms\n",
      "440:\tlearn: 57.9676592\ttotal: 507ms\tremaining: 643ms\n",
      "441:\tlearn: 57.7670212\ttotal: 508ms\tremaining: 641ms\n",
      "442:\tlearn: 57.5322464\ttotal: 509ms\tremaining: 640ms\n",
      "443:\tlearn: 57.2771620\ttotal: 510ms\tremaining: 638ms\n",
      "444:\tlearn: 57.0227885\ttotal: 511ms\tremaining: 637ms\n",
      "445:\tlearn: 56.7616770\ttotal: 511ms\tremaining: 635ms\n",
      "446:\tlearn: 56.7367450\ttotal: 512ms\tremaining: 634ms\n",
      "447:\tlearn: 56.6715001\ttotal: 513ms\tremaining: 632ms\n",
      "448:\tlearn: 56.4881346\ttotal: 514ms\tremaining: 631ms\n",
      "449:\tlearn: 56.3749776\ttotal: 515ms\tremaining: 630ms\n",
      "450:\tlearn: 56.2172319\ttotal: 516ms\tremaining: 628ms\n",
      "451:\tlearn: 55.9461925\ttotal: 517ms\tremaining: 627ms\n",
      "452:\tlearn: 55.8884270\ttotal: 518ms\tremaining: 626ms\n",
      "453:\tlearn: 55.7987432\ttotal: 519ms\tremaining: 624ms\n",
      "454:\tlearn: 55.7376337\ttotal: 520ms\tremaining: 623ms\n",
      "455:\tlearn: 55.5150595\ttotal: 521ms\tremaining: 622ms\n",
      "456:\tlearn: 55.4819680\ttotal: 522ms\tremaining: 620ms\n",
      "457:\tlearn: 55.1719919\ttotal: 523ms\tremaining: 619ms\n",
      "458:\tlearn: 55.1295759\ttotal: 524ms\tremaining: 618ms\n",
      "459:\tlearn: 55.0856302\ttotal: 525ms\tremaining: 616ms\n",
      "460:\tlearn: 54.8056235\ttotal: 526ms\tremaining: 615ms\n",
      "461:\tlearn: 54.4030407\ttotal: 527ms\tremaining: 614ms\n",
      "462:\tlearn: 54.3308204\ttotal: 528ms\tremaining: 612ms\n",
      "463:\tlearn: 54.0283724\ttotal: 529ms\tremaining: 611ms\n",
      "464:\tlearn: 53.9962714\ttotal: 530ms\tremaining: 610ms\n",
      "465:\tlearn: 53.8149476\ttotal: 531ms\tremaining: 608ms\n",
      "466:\tlearn: 53.7806209\ttotal: 532ms\tremaining: 607ms\n",
      "467:\tlearn: 53.7585727\ttotal: 532ms\tremaining: 605ms\n",
      "468:\tlearn: 53.5042777\ttotal: 533ms\tremaining: 604ms\n",
      "469:\tlearn: 53.3257034\ttotal: 534ms\tremaining: 603ms\n",
      "470:\tlearn: 53.0801119\ttotal: 535ms\tremaining: 601ms\n",
      "471:\tlearn: 53.0136550\ttotal: 536ms\tremaining: 600ms\n",
      "472:\tlearn: 52.9408930\ttotal: 537ms\tremaining: 598ms\n",
      "473:\tlearn: 52.7089062\ttotal: 538ms\tremaining: 597ms\n",
      "474:\tlearn: 52.6819781\ttotal: 539ms\tremaining: 595ms\n",
      "475:\tlearn: 52.5065568\ttotal: 540ms\tremaining: 594ms\n",
      "476:\tlearn: 52.3688770\ttotal: 540ms\tremaining: 592ms\n",
      "477:\tlearn: 52.2402473\ttotal: 541ms\tremaining: 591ms\n",
      "478:\tlearn: 52.1406517\ttotal: 542ms\tremaining: 590ms\n",
      "479:\tlearn: 52.1107144\ttotal: 543ms\tremaining: 588ms\n",
      "480:\tlearn: 51.9239449\ttotal: 544ms\tremaining: 587ms\n",
      "481:\tlearn: 51.7096820\ttotal: 545ms\tremaining: 585ms\n",
      "482:\tlearn: 51.6266918\ttotal: 545ms\tremaining: 584ms\n",
      "483:\tlearn: 51.5969797\ttotal: 546ms\tremaining: 582ms\n",
      "484:\tlearn: 51.4480162\ttotal: 547ms\tremaining: 581ms\n",
      "485:\tlearn: 51.2269261\ttotal: 548ms\tremaining: 579ms\n",
      "486:\tlearn: 50.9904632\ttotal: 549ms\tremaining: 578ms\n",
      "487:\tlearn: 50.9342043\ttotal: 550ms\tremaining: 577ms\n",
      "488:\tlearn: 50.8423680\ttotal: 550ms\tremaining: 575ms\n",
      "489:\tlearn: 50.7269788\ttotal: 551ms\tremaining: 574ms\n",
      "490:\tlearn: 50.5384699\ttotal: 552ms\tremaining: 572ms\n",
      "491:\tlearn: 50.5047793\ttotal: 553ms\tremaining: 571ms\n",
      "492:\tlearn: 50.3234448\ttotal: 554ms\tremaining: 570ms\n",
      "493:\tlearn: 50.1653421\ttotal: 555ms\tremaining: 568ms\n",
      "494:\tlearn: 49.9835558\ttotal: 556ms\tremaining: 567ms\n",
      "495:\tlearn: 49.8884283\ttotal: 556ms\tremaining: 565ms\n",
      "496:\tlearn: 49.6217364\ttotal: 557ms\tremaining: 564ms\n",
      "497:\tlearn: 49.5268562\ttotal: 559ms\tremaining: 563ms\n",
      "498:\tlearn: 49.3078402\ttotal: 559ms\tremaining: 562ms\n",
      "499:\tlearn: 49.2571676\ttotal: 560ms\tremaining: 560ms\n",
      "500:\tlearn: 49.2173141\ttotal: 561ms\tremaining: 559ms\n",
      "501:\tlearn: 48.9813103\ttotal: 562ms\tremaining: 558ms\n",
      "502:\tlearn: 48.8304542\ttotal: 563ms\tremaining: 556ms\n",
      "503:\tlearn: 48.7430936\ttotal: 564ms\tremaining: 555ms\n",
      "504:\tlearn: 48.5493989\ttotal: 565ms\tremaining: 554ms\n",
      "505:\tlearn: 48.5134839\ttotal: 566ms\tremaining: 553ms\n",
      "506:\tlearn: 48.3516141\ttotal: 567ms\tremaining: 551ms\n",
      "507:\tlearn: 48.0631542\ttotal: 568ms\tremaining: 550ms\n",
      "508:\tlearn: 47.8591880\ttotal: 569ms\tremaining: 549ms\n",
      "509:\tlearn: 47.7182444\ttotal: 570ms\tremaining: 548ms\n",
      "510:\tlearn: 47.6301870\ttotal: 571ms\tremaining: 547ms\n",
      "511:\tlearn: 47.4767324\ttotal: 573ms\tremaining: 546ms\n",
      "512:\tlearn: 47.2822625\ttotal: 574ms\tremaining: 545ms\n",
      "513:\tlearn: 47.1022658\ttotal: 575ms\tremaining: 544ms\n",
      "514:\tlearn: 47.0536181\ttotal: 576ms\tremaining: 542ms\n",
      "515:\tlearn: 47.0249559\ttotal: 577ms\tremaining: 541ms\n",
      "516:\tlearn: 46.8789720\ttotal: 577ms\tremaining: 539ms\n",
      "517:\tlearn: 46.7133769\ttotal: 578ms\tremaining: 538ms\n",
      "518:\tlearn: 46.5157986\ttotal: 579ms\tremaining: 537ms\n",
      "519:\tlearn: 46.3630405\ttotal: 580ms\tremaining: 535ms\n",
      "520:\tlearn: 46.1730188\ttotal: 581ms\tremaining: 534ms\n",
      "521:\tlearn: 46.1360908\ttotal: 582ms\tremaining: 533ms\n",
      "522:\tlearn: 45.9652487\ttotal: 583ms\tremaining: 532ms\n",
      "523:\tlearn: 45.8122703\ttotal: 584ms\tremaining: 530ms\n",
      "524:\tlearn: 45.4984451\ttotal: 585ms\tremaining: 529ms\n",
      "525:\tlearn: 45.3161076\ttotal: 586ms\tremaining: 528ms\n",
      "526:\tlearn: 45.2802854\ttotal: 587ms\tremaining: 527ms\n",
      "527:\tlearn: 45.2448275\ttotal: 588ms\tremaining: 525ms\n",
      "528:\tlearn: 45.0816321\ttotal: 589ms\tremaining: 524ms\n",
      "529:\tlearn: 44.9794319\ttotal: 590ms\tremaining: 523ms\n",
      "530:\tlearn: 44.6832140\ttotal: 591ms\tremaining: 522ms\n",
      "531:\tlearn: 44.4460046\ttotal: 591ms\tremaining: 520ms\n",
      "532:\tlearn: 44.2118287\ttotal: 592ms\tremaining: 519ms\n",
      "533:\tlearn: 44.0693524\ttotal: 593ms\tremaining: 518ms\n",
      "534:\tlearn: 43.7781614\ttotal: 594ms\tremaining: 516ms\n",
      "535:\tlearn: 43.5541731\ttotal: 595ms\tremaining: 515ms\n",
      "536:\tlearn: 43.5134866\ttotal: 596ms\tremaining: 514ms\n",
      "537:\tlearn: 43.3609810\ttotal: 597ms\tremaining: 512ms\n",
      "538:\tlearn: 43.1828364\ttotal: 598ms\tremaining: 511ms\n",
      "539:\tlearn: 43.1681810\ttotal: 598ms\tremaining: 510ms\n",
      "540:\tlearn: 43.0597548\ttotal: 599ms\tremaining: 509ms\n",
      "541:\tlearn: 43.0399237\ttotal: 601ms\tremaining: 508ms\n",
      "542:\tlearn: 42.7955247\ttotal: 602ms\tremaining: 507ms\n",
      "543:\tlearn: 42.5339065\ttotal: 604ms\tremaining: 506ms\n",
      "544:\tlearn: 42.4295635\ttotal: 605ms\tremaining: 505ms\n",
      "545:\tlearn: 42.2338376\ttotal: 606ms\tremaining: 504ms\n",
      "546:\tlearn: 42.0124060\ttotal: 607ms\tremaining: 503ms\n",
      "547:\tlearn: 41.8255183\ttotal: 609ms\tremaining: 502ms\n",
      "548:\tlearn: 41.6388681\ttotal: 610ms\tremaining: 501ms\n",
      "549:\tlearn: 41.4001270\ttotal: 611ms\tremaining: 500ms\n",
      "550:\tlearn: 41.1013528\ttotal: 612ms\tremaining: 499ms\n",
      "551:\tlearn: 41.0100295\ttotal: 613ms\tremaining: 498ms\n",
      "552:\tlearn: 40.9906076\ttotal: 614ms\tremaining: 496ms\n",
      "553:\tlearn: 40.8809109\ttotal: 615ms\tremaining: 495ms\n",
      "554:\tlearn: 40.7831302\ttotal: 616ms\tremaining: 494ms\n",
      "555:\tlearn: 40.7317763\ttotal: 617ms\tremaining: 493ms\n",
      "556:\tlearn: 40.6321710\ttotal: 618ms\tremaining: 492ms\n",
      "557:\tlearn: 40.4475073\ttotal: 619ms\tremaining: 490ms\n",
      "558:\tlearn: 40.2859957\ttotal: 620ms\tremaining: 489ms\n",
      "559:\tlearn: 40.0262057\ttotal: 621ms\tremaining: 488ms\n",
      "560:\tlearn: 39.9326350\ttotal: 622ms\tremaining: 487ms\n",
      "561:\tlearn: 39.8735956\ttotal: 623ms\tremaining: 486ms\n",
      "562:\tlearn: 39.7083019\ttotal: 624ms\tremaining: 485ms\n",
      "563:\tlearn: 39.5379855\ttotal: 625ms\tremaining: 483ms\n",
      "564:\tlearn: 39.3451301\ttotal: 626ms\tremaining: 482ms\n",
      "565:\tlearn: 39.2041273\ttotal: 627ms\tremaining: 481ms\n",
      "566:\tlearn: 38.9870162\ttotal: 628ms\tremaining: 479ms\n",
      "567:\tlearn: 38.8638040\ttotal: 629ms\tremaining: 478ms\n",
      "568:\tlearn: 38.7752116\ttotal: 630ms\tremaining: 477ms\n",
      "569:\tlearn: 38.6530297\ttotal: 631ms\tremaining: 476ms\n",
      "570:\tlearn: 38.5505372\ttotal: 632ms\tremaining: 475ms\n",
      "571:\tlearn: 38.5134486\ttotal: 633ms\tremaining: 474ms\n",
      "572:\tlearn: 38.3680902\ttotal: 634ms\tremaining: 473ms\n",
      "573:\tlearn: 38.1897295\ttotal: 635ms\tremaining: 471ms\n",
      "574:\tlearn: 38.1083536\ttotal: 636ms\tremaining: 470ms\n",
      "575:\tlearn: 37.9229216\ttotal: 637ms\tremaining: 469ms\n",
      "576:\tlearn: 37.8377087\ttotal: 638ms\tremaining: 467ms\n",
      "577:\tlearn: 37.7966900\ttotal: 638ms\tremaining: 466ms\n",
      "578:\tlearn: 37.6700761\ttotal: 639ms\tremaining: 465ms\n",
      "579:\tlearn: 37.6355177\ttotal: 640ms\tremaining: 463ms\n",
      "580:\tlearn: 37.4648199\ttotal: 641ms\tremaining: 462ms\n",
      "581:\tlearn: 37.2959505\ttotal: 642ms\tremaining: 461ms\n",
      "582:\tlearn: 37.1423961\ttotal: 642ms\tremaining: 459ms\n",
      "583:\tlearn: 36.9297315\ttotal: 643ms\tremaining: 458ms\n",
      "584:\tlearn: 36.8850382\ttotal: 644ms\tremaining: 457ms\n",
      "585:\tlearn: 36.7546519\ttotal: 645ms\tremaining: 456ms\n",
      "586:\tlearn: 36.7377554\ttotal: 646ms\tremaining: 455ms\n",
      "587:\tlearn: 36.6899102\ttotal: 647ms\tremaining: 453ms\n",
      "588:\tlearn: 36.5617094\ttotal: 648ms\tremaining: 452ms\n",
      "589:\tlearn: 36.4272921\ttotal: 649ms\tremaining: 451ms\n",
      "590:\tlearn: 36.2657889\ttotal: 650ms\tremaining: 450ms\n",
      "591:\tlearn: 36.2539345\ttotal: 650ms\tremaining: 448ms\n",
      "592:\tlearn: 36.2314399\ttotal: 651ms\tremaining: 447ms\n",
      "593:\tlearn: 36.0683824\ttotal: 652ms\tremaining: 446ms\n",
      "594:\tlearn: 35.9283095\ttotal: 653ms\tremaining: 445ms\n",
      "595:\tlearn: 35.7968288\ttotal: 654ms\tremaining: 444ms\n",
      "596:\tlearn: 35.7223423\ttotal: 655ms\tremaining: 442ms\n",
      "597:\tlearn: 35.5848854\ttotal: 656ms\tremaining: 441ms\n",
      "598:\tlearn: 35.4754344\ttotal: 657ms\tremaining: 440ms\n",
      "599:\tlearn: 35.3533890\ttotal: 658ms\tremaining: 438ms\n",
      "600:\tlearn: 35.2201505\ttotal: 659ms\tremaining: 437ms\n",
      "601:\tlearn: 35.0873272\ttotal: 660ms\tremaining: 436ms\n",
      "602:\tlearn: 35.0461873\ttotal: 660ms\tremaining: 435ms\n",
      "603:\tlearn: 34.9273071\ttotal: 661ms\tremaining: 434ms\n",
      "604:\tlearn: 34.8162855\ttotal: 662ms\tremaining: 432ms\n",
      "605:\tlearn: 34.7130059\ttotal: 663ms\tremaining: 431ms\n",
      "606:\tlearn: 34.5585617\ttotal: 664ms\tremaining: 430ms\n",
      "607:\tlearn: 34.4611907\ttotal: 665ms\tremaining: 429ms\n",
      "608:\tlearn: 34.4326546\ttotal: 665ms\tremaining: 427ms\n",
      "609:\tlearn: 34.2846979\ttotal: 666ms\tremaining: 426ms\n",
      "610:\tlearn: 34.1734501\ttotal: 667ms\tremaining: 425ms\n",
      "611:\tlearn: 34.0230965\ttotal: 668ms\tremaining: 423ms\n",
      "612:\tlearn: 33.8282501\ttotal: 669ms\tremaining: 422ms\n",
      "613:\tlearn: 33.7746747\ttotal: 669ms\tremaining: 421ms\n",
      "614:\tlearn: 33.7068386\ttotal: 670ms\tremaining: 420ms\n",
      "615:\tlearn: 33.5780800\ttotal: 671ms\tremaining: 418ms\n",
      "616:\tlearn: 33.4695325\ttotal: 672ms\tremaining: 417ms\n",
      "617:\tlearn: 33.3463443\ttotal: 673ms\tremaining: 416ms\n",
      "618:\tlearn: 33.2877395\ttotal: 674ms\tremaining: 415ms\n",
      "619:\tlearn: 33.2418826\ttotal: 675ms\tremaining: 414ms\n",
      "620:\tlearn: 33.1045465\ttotal: 676ms\tremaining: 413ms\n",
      "621:\tlearn: 32.9400639\ttotal: 677ms\tremaining: 411ms\n",
      "622:\tlearn: 32.8996970\ttotal: 678ms\tremaining: 410ms\n",
      "623:\tlearn: 32.7429487\ttotal: 679ms\tremaining: 409ms\n",
      "624:\tlearn: 32.6132355\ttotal: 680ms\tremaining: 408ms\n",
      "625:\tlearn: 32.4714976\ttotal: 680ms\tremaining: 407ms\n",
      "626:\tlearn: 32.4320448\ttotal: 681ms\tremaining: 405ms\n",
      "627:\tlearn: 32.2628258\ttotal: 682ms\tremaining: 404ms\n",
      "628:\tlearn: 32.2038569\ttotal: 683ms\tremaining: 403ms\n",
      "629:\tlearn: 32.0940738\ttotal: 684ms\tremaining: 402ms\n",
      "630:\tlearn: 32.0068495\ttotal: 685ms\tremaining: 400ms\n",
      "631:\tlearn: 31.9053748\ttotal: 685ms\tremaining: 399ms\n",
      "632:\tlearn: 31.7715772\ttotal: 686ms\tremaining: 398ms\n",
      "633:\tlearn: 31.6687835\ttotal: 687ms\tremaining: 397ms\n",
      "634:\tlearn: 31.6368050\ttotal: 688ms\tremaining: 395ms\n",
      "635:\tlearn: 31.5709628\ttotal: 689ms\tremaining: 394ms\n",
      "636:\tlearn: 31.4052213\ttotal: 690ms\tremaining: 393ms\n",
      "637:\tlearn: 31.2452229\ttotal: 691ms\tremaining: 392ms\n",
      "638:\tlearn: 31.1221828\ttotal: 692ms\tremaining: 391ms\n",
      "639:\tlearn: 31.0853500\ttotal: 692ms\tremaining: 389ms\n",
      "640:\tlearn: 30.9167355\ttotal: 693ms\tremaining: 388ms\n",
      "641:\tlearn: 30.8667253\ttotal: 694ms\tremaining: 387ms\n",
      "642:\tlearn: 30.7427129\ttotal: 695ms\tremaining: 386ms\n",
      "643:\tlearn: 30.5748228\ttotal: 696ms\tremaining: 385ms\n",
      "644:\tlearn: 30.5080592\ttotal: 697ms\tremaining: 383ms\n",
      "645:\tlearn: 30.3444228\ttotal: 698ms\tremaining: 382ms\n",
      "646:\tlearn: 30.1858385\ttotal: 699ms\tremaining: 381ms\n",
      "647:\tlearn: 30.1481951\ttotal: 699ms\tremaining: 380ms\n",
      "648:\tlearn: 30.1139150\ttotal: 700ms\tremaining: 379ms\n",
      "649:\tlearn: 30.0147177\ttotal: 701ms\tremaining: 378ms\n",
      "650:\tlearn: 29.8610501\ttotal: 702ms\tremaining: 377ms\n",
      "651:\tlearn: 29.7793561\ttotal: 703ms\tremaining: 375ms\n",
      "652:\tlearn: 29.6870188\ttotal: 704ms\tremaining: 374ms\n",
      "653:\tlearn: 29.6229921\ttotal: 705ms\tremaining: 373ms\n",
      "654:\tlearn: 29.5806823\ttotal: 706ms\tremaining: 372ms\n",
      "655:\tlearn: 29.4903496\ttotal: 707ms\tremaining: 371ms\n",
      "656:\tlearn: 29.4011642\ttotal: 708ms\tremaining: 370ms\n",
      "657:\tlearn: 29.3880977\ttotal: 709ms\tremaining: 368ms\n",
      "658:\tlearn: 29.2615919\ttotal: 710ms\tremaining: 367ms\n",
      "659:\tlearn: 29.1004727\ttotal: 711ms\tremaining: 366ms\n",
      "660:\tlearn: 29.0530692\ttotal: 711ms\tremaining: 365ms\n",
      "661:\tlearn: 28.9863628\ttotal: 712ms\tremaining: 364ms\n",
      "662:\tlearn: 28.8714304\ttotal: 713ms\tremaining: 363ms\n",
      "663:\tlearn: 28.7331979\ttotal: 714ms\tremaining: 361ms\n",
      "664:\tlearn: 28.6366801\ttotal: 715ms\tremaining: 360ms\n",
      "665:\tlearn: 28.5716341\ttotal: 716ms\tremaining: 359ms\n",
      "666:\tlearn: 28.4974876\ttotal: 717ms\tremaining: 358ms\n",
      "667:\tlearn: 28.4112710\ttotal: 718ms\tremaining: 357ms\n",
      "668:\tlearn: 28.2984651\ttotal: 719ms\tremaining: 356ms\n",
      "669:\tlearn: 28.1339510\ttotal: 720ms\tremaining: 355ms\n",
      "670:\tlearn: 28.1075789\ttotal: 721ms\tremaining: 353ms\n",
      "671:\tlearn: 28.0922293\ttotal: 722ms\tremaining: 352ms\n",
      "672:\tlearn: 27.9723760\ttotal: 723ms\tremaining: 351ms\n",
      "673:\tlearn: 27.9055283\ttotal: 723ms\tremaining: 350ms\n",
      "674:\tlearn: 27.8205243\ttotal: 725ms\tremaining: 349ms\n",
      "675:\tlearn: 27.8084834\ttotal: 726ms\tremaining: 348ms\n",
      "676:\tlearn: 27.7891840\ttotal: 726ms\tremaining: 347ms\n",
      "677:\tlearn: 27.6730952\ttotal: 727ms\tremaining: 345ms\n",
      "678:\tlearn: 27.6094279\ttotal: 728ms\tremaining: 344ms\n",
      "679:\tlearn: 27.5709406\ttotal: 729ms\tremaining: 343ms\n",
      "680:\tlearn: 27.5062932\ttotal: 730ms\tremaining: 342ms\n",
      "681:\tlearn: 27.4149358\ttotal: 731ms\tremaining: 341ms\n",
      "682:\tlearn: 27.3480578\ttotal: 732ms\tremaining: 340ms\n",
      "683:\tlearn: 27.2546632\ttotal: 733ms\tremaining: 339ms\n",
      "684:\tlearn: 27.1581242\ttotal: 734ms\tremaining: 338ms\n",
      "685:\tlearn: 27.1291330\ttotal: 735ms\tremaining: 336ms\n",
      "686:\tlearn: 27.0589760\ttotal: 736ms\tremaining: 335ms\n",
      "687:\tlearn: 26.9207571\ttotal: 737ms\tremaining: 334ms\n",
      "688:\tlearn: 26.8046340\ttotal: 738ms\tremaining: 333ms\n",
      "689:\tlearn: 26.7346039\ttotal: 739ms\tremaining: 332ms\n",
      "690:\tlearn: 26.6359238\ttotal: 740ms\tremaining: 331ms\n",
      "691:\tlearn: 26.5458163\ttotal: 741ms\tremaining: 330ms\n",
      "692:\tlearn: 26.5287024\ttotal: 742ms\tremaining: 329ms\n",
      "693:\tlearn: 26.4436127\ttotal: 743ms\tremaining: 328ms\n",
      "694:\tlearn: 26.3860996\ttotal: 744ms\tremaining: 326ms\n",
      "695:\tlearn: 26.3271824\ttotal: 745ms\tremaining: 325ms\n",
      "696:\tlearn: 26.1929180\ttotal: 746ms\tremaining: 324ms\n",
      "697:\tlearn: 26.0989501\ttotal: 747ms\tremaining: 323ms\n",
      "698:\tlearn: 26.0348052\ttotal: 748ms\tremaining: 322ms\n",
      "699:\tlearn: 25.9715846\ttotal: 749ms\tremaining: 321ms\n",
      "700:\tlearn: 25.8624783\ttotal: 750ms\tremaining: 320ms\n",
      "701:\tlearn: 25.8020332\ttotal: 751ms\tremaining: 319ms\n",
      "702:\tlearn: 25.7940141\ttotal: 752ms\tremaining: 318ms\n",
      "703:\tlearn: 25.6937173\ttotal: 753ms\tremaining: 316ms\n",
      "704:\tlearn: 25.6133995\ttotal: 754ms\tremaining: 315ms\n",
      "705:\tlearn: 25.5272559\ttotal: 755ms\tremaining: 314ms\n",
      "706:\tlearn: 25.5087600\ttotal: 756ms\tremaining: 313ms\n",
      "707:\tlearn: 25.3506858\ttotal: 757ms\tremaining: 312ms\n",
      "708:\tlearn: 25.3314352\ttotal: 758ms\tremaining: 311ms\n",
      "709:\tlearn: 25.3263712\ttotal: 758ms\tremaining: 310ms\n",
      "710:\tlearn: 25.2377772\ttotal: 759ms\tremaining: 309ms\n",
      "711:\tlearn: 25.1296003\ttotal: 760ms\tremaining: 307ms\n",
      "712:\tlearn: 25.1138661\ttotal: 761ms\tremaining: 306ms\n",
      "713:\tlearn: 25.0606164\ttotal: 762ms\tremaining: 305ms\n",
      "714:\tlearn: 24.9701122\ttotal: 763ms\tremaining: 304ms\n",
      "715:\tlearn: 24.9266980\ttotal: 764ms\tremaining: 303ms\n",
      "716:\tlearn: 24.8355245\ttotal: 765ms\tremaining: 302ms\n",
      "717:\tlearn: 24.7892595\ttotal: 766ms\tremaining: 301ms\n",
      "718:\tlearn: 24.7784156\ttotal: 766ms\tremaining: 300ms\n",
      "719:\tlearn: 24.7204068\ttotal: 767ms\tremaining: 298ms\n",
      "720:\tlearn: 24.6868946\ttotal: 768ms\tremaining: 297ms\n",
      "721:\tlearn: 24.5835248\ttotal: 769ms\tremaining: 296ms\n",
      "722:\tlearn: 24.4605667\ttotal: 770ms\tremaining: 295ms\n",
      "723:\tlearn: 24.3780491\ttotal: 770ms\tremaining: 294ms\n",
      "724:\tlearn: 24.3695387\ttotal: 771ms\tremaining: 293ms\n",
      "725:\tlearn: 24.2713928\ttotal: 772ms\tremaining: 291ms\n",
      "726:\tlearn: 24.2564573\ttotal: 773ms\tremaining: 290ms\n",
      "727:\tlearn: 24.1259045\ttotal: 774ms\tremaining: 289ms\n",
      "728:\tlearn: 24.0410925\ttotal: 775ms\tremaining: 288ms\n",
      "729:\tlearn: 23.9454740\ttotal: 776ms\tremaining: 287ms\n",
      "730:\tlearn: 23.9293944\ttotal: 777ms\tremaining: 286ms\n",
      "731:\tlearn: 23.8408373\ttotal: 777ms\tremaining: 285ms\n",
      "732:\tlearn: 23.7301307\ttotal: 778ms\tremaining: 284ms\n",
      "733:\tlearn: 23.6751178\ttotal: 779ms\tremaining: 282ms\n",
      "734:\tlearn: 23.5518474\ttotal: 780ms\tremaining: 281ms\n",
      "735:\tlearn: 23.5054838\ttotal: 781ms\tremaining: 280ms\n",
      "736:\tlearn: 23.4781040\ttotal: 782ms\tremaining: 279ms\n",
      "737:\tlearn: 23.3774725\ttotal: 783ms\tremaining: 278ms\n",
      "738:\tlearn: 23.3081022\ttotal: 783ms\tremaining: 277ms\n",
      "739:\tlearn: 23.2915892\ttotal: 784ms\tremaining: 276ms\n",
      "740:\tlearn: 23.2095735\ttotal: 785ms\tremaining: 274ms\n",
      "741:\tlearn: 23.1588315\ttotal: 786ms\tremaining: 273ms\n",
      "742:\tlearn: 23.1197993\ttotal: 786ms\tremaining: 272ms\n",
      "743:\tlearn: 23.0327780\ttotal: 787ms\tremaining: 271ms\n",
      "744:\tlearn: 22.9759480\ttotal: 788ms\tremaining: 270ms\n",
      "745:\tlearn: 22.8751423\ttotal: 789ms\tremaining: 269ms\n",
      "746:\tlearn: 22.7768127\ttotal: 790ms\tremaining: 268ms\n",
      "747:\tlearn: 22.6474970\ttotal: 791ms\tremaining: 266ms\n",
      "748:\tlearn: 22.5780525\ttotal: 792ms\tremaining: 265ms\n",
      "749:\tlearn: 22.5338308\ttotal: 793ms\tremaining: 264ms\n",
      "750:\tlearn: 22.4330276\ttotal: 793ms\tremaining: 263ms\n",
      "751:\tlearn: 22.4193891\ttotal: 794ms\tremaining: 262ms\n",
      "752:\tlearn: 22.4093040\ttotal: 795ms\tremaining: 261ms\n",
      "753:\tlearn: 22.3758979\ttotal: 796ms\tremaining: 260ms\n",
      "754:\tlearn: 22.3560173\ttotal: 797ms\tremaining: 258ms\n",
      "755:\tlearn: 22.3264261\ttotal: 797ms\tremaining: 257ms\n",
      "756:\tlearn: 22.2796605\ttotal: 798ms\tremaining: 256ms\n",
      "757:\tlearn: 22.2253439\ttotal: 799ms\tremaining: 255ms\n",
      "758:\tlearn: 22.1636409\ttotal: 800ms\tremaining: 254ms\n",
      "759:\tlearn: 22.1078491\ttotal: 800ms\tremaining: 253ms\n",
      "760:\tlearn: 22.0275756\ttotal: 801ms\tremaining: 252ms\n",
      "761:\tlearn: 22.0174143\ttotal: 802ms\tremaining: 250ms\n",
      "762:\tlearn: 21.9887391\ttotal: 803ms\tremaining: 249ms\n",
      "763:\tlearn: 21.9746733\ttotal: 804ms\tremaining: 248ms\n",
      "764:\tlearn: 21.9529216\ttotal: 805ms\tremaining: 247ms\n",
      "765:\tlearn: 21.8767644\ttotal: 806ms\tremaining: 246ms\n",
      "766:\tlearn: 21.8668039\ttotal: 806ms\tremaining: 245ms\n",
      "767:\tlearn: 21.8008688\ttotal: 807ms\tremaining: 244ms\n",
      "768:\tlearn: 21.7612208\ttotal: 808ms\tremaining: 243ms\n",
      "769:\tlearn: 21.6977978\ttotal: 809ms\tremaining: 242ms\n",
      "770:\tlearn: 21.6870461\ttotal: 810ms\tremaining: 240ms\n",
      "771:\tlearn: 21.6599780\ttotal: 811ms\tremaining: 239ms\n",
      "772:\tlearn: 21.5522064\ttotal: 811ms\tremaining: 238ms\n",
      "773:\tlearn: 21.5426327\ttotal: 812ms\tremaining: 237ms\n",
      "774:\tlearn: 21.4391089\ttotal: 813ms\tremaining: 236ms\n",
      "775:\tlearn: 21.4042993\ttotal: 814ms\tremaining: 235ms\n",
      "776:\tlearn: 21.3284836\ttotal: 815ms\tremaining: 234ms\n",
      "777:\tlearn: 21.3163774\ttotal: 815ms\tremaining: 233ms\n",
      "778:\tlearn: 21.2708416\ttotal: 816ms\tremaining: 232ms\n",
      "779:\tlearn: 21.2056943\ttotal: 817ms\tremaining: 230ms\n",
      "780:\tlearn: 21.1434774\ttotal: 818ms\tremaining: 229ms\n",
      "781:\tlearn: 21.0672473\ttotal: 819ms\tremaining: 228ms\n",
      "782:\tlearn: 20.9629645\ttotal: 820ms\tremaining: 227ms\n",
      "783:\tlearn: 20.9522537\ttotal: 821ms\tremaining: 226ms\n",
      "784:\tlearn: 20.9252425\ttotal: 822ms\tremaining: 225ms\n",
      "785:\tlearn: 20.8576799\ttotal: 822ms\tremaining: 224ms\n",
      "786:\tlearn: 20.7922970\ttotal: 823ms\tremaining: 223ms\n",
      "787:\tlearn: 20.7802134\ttotal: 824ms\tremaining: 222ms\n",
      "788:\tlearn: 20.7125213\ttotal: 825ms\tremaining: 221ms\n",
      "789:\tlearn: 20.7000005\ttotal: 826ms\tremaining: 219ms\n",
      "790:\tlearn: 20.6366378\ttotal: 826ms\tremaining: 218ms\n",
      "791:\tlearn: 20.6170923\ttotal: 827ms\tremaining: 217ms\n",
      "792:\tlearn: 20.5485950\ttotal: 828ms\tremaining: 216ms\n",
      "793:\tlearn: 20.5212323\ttotal: 829ms\tremaining: 215ms\n",
      "794:\tlearn: 20.5004347\ttotal: 830ms\tremaining: 214ms\n",
      "795:\tlearn: 20.4884649\ttotal: 830ms\tremaining: 213ms\n",
      "796:\tlearn: 20.3727007\ttotal: 831ms\tremaining: 212ms\n",
      "797:\tlearn: 20.2776166\ttotal: 832ms\tremaining: 211ms\n",
      "798:\tlearn: 20.2690965\ttotal: 833ms\tremaining: 210ms\n",
      "799:\tlearn: 20.2166634\ttotal: 834ms\tremaining: 209ms\n",
      "800:\tlearn: 20.1160179\ttotal: 835ms\tremaining: 207ms\n",
      "801:\tlearn: 20.0642268\ttotal: 836ms\tremaining: 206ms\n",
      "802:\tlearn: 20.0323601\ttotal: 837ms\tremaining: 205ms\n",
      "803:\tlearn: 19.9485334\ttotal: 838ms\tremaining: 204ms\n",
      "804:\tlearn: 19.9071725\ttotal: 838ms\tremaining: 203ms\n",
      "805:\tlearn: 19.8943564\ttotal: 839ms\tremaining: 202ms\n",
      "806:\tlearn: 19.7804687\ttotal: 840ms\tremaining: 201ms\n",
      "807:\tlearn: 19.7343406\ttotal: 841ms\tremaining: 200ms\n",
      "808:\tlearn: 19.6963930\ttotal: 841ms\tremaining: 199ms\n",
      "809:\tlearn: 19.6705675\ttotal: 842ms\tremaining: 198ms\n",
      "810:\tlearn: 19.6382933\ttotal: 843ms\tremaining: 196ms\n",
      "811:\tlearn: 19.5889191\ttotal: 844ms\tremaining: 195ms\n",
      "812:\tlearn: 19.5638487\ttotal: 845ms\tremaining: 194ms\n",
      "813:\tlearn: 19.4926424\ttotal: 846ms\tremaining: 193ms\n",
      "814:\tlearn: 19.3961396\ttotal: 846ms\tremaining: 192ms\n",
      "815:\tlearn: 19.3880242\ttotal: 847ms\tremaining: 191ms\n",
      "816:\tlearn: 19.2808372\ttotal: 848ms\tremaining: 190ms\n",
      "817:\tlearn: 19.1712815\ttotal: 849ms\tremaining: 189ms\n",
      "818:\tlearn: 19.0909823\ttotal: 850ms\tremaining: 188ms\n",
      "819:\tlearn: 18.9993504\ttotal: 851ms\tremaining: 187ms\n",
      "820:\tlearn: 18.9773399\ttotal: 852ms\tremaining: 186ms\n",
      "821:\tlearn: 18.8989735\ttotal: 852ms\tremaining: 185ms\n",
      "822:\tlearn: 18.8275176\ttotal: 853ms\tremaining: 183ms\n",
      "823:\tlearn: 18.8092278\ttotal: 854ms\tremaining: 182ms\n",
      "824:\tlearn: 18.7938447\ttotal: 855ms\tremaining: 181ms\n",
      "825:\tlearn: 18.7871267\ttotal: 856ms\tremaining: 180ms\n",
      "826:\tlearn: 18.7299674\ttotal: 857ms\tremaining: 179ms\n",
      "827:\tlearn: 18.6808264\ttotal: 857ms\tremaining: 178ms\n",
      "828:\tlearn: 18.5984875\ttotal: 858ms\tremaining: 177ms\n",
      "829:\tlearn: 18.5170088\ttotal: 859ms\tremaining: 176ms\n",
      "830:\tlearn: 18.4707382\ttotal: 860ms\tremaining: 175ms\n",
      "831:\tlearn: 18.4368619\ttotal: 861ms\tremaining: 174ms\n",
      "832:\tlearn: 18.3683191\ttotal: 862ms\tremaining: 173ms\n",
      "833:\tlearn: 18.3295058\ttotal: 862ms\tremaining: 172ms\n",
      "834:\tlearn: 18.2587263\ttotal: 863ms\tremaining: 171ms\n",
      "835:\tlearn: 18.2103679\ttotal: 864ms\tremaining: 170ms\n",
      "836:\tlearn: 18.1781032\ttotal: 865ms\tremaining: 168ms\n",
      "837:\tlearn: 18.0746921\ttotal: 866ms\tremaining: 167ms\n",
      "838:\tlearn: 18.0131984\ttotal: 867ms\tremaining: 166ms\n",
      "839:\tlearn: 17.9510877\ttotal: 868ms\tremaining: 165ms\n",
      "840:\tlearn: 17.8893536\ttotal: 868ms\tremaining: 164ms\n",
      "841:\tlearn: 17.8813583\ttotal: 869ms\tremaining: 163ms\n",
      "842:\tlearn: 17.8129857\ttotal: 870ms\tremaining: 162ms\n",
      "843:\tlearn: 17.7981202\ttotal: 871ms\tremaining: 161ms\n",
      "844:\tlearn: 17.7414627\ttotal: 872ms\tremaining: 160ms\n",
      "845:\tlearn: 17.7255534\ttotal: 872ms\tremaining: 159ms\n",
      "846:\tlearn: 17.6965545\ttotal: 873ms\tremaining: 158ms\n",
      "847:\tlearn: 17.6499397\ttotal: 874ms\tremaining: 157ms\n",
      "848:\tlearn: 17.6133852\ttotal: 874ms\tremaining: 156ms\n",
      "849:\tlearn: 17.5621620\ttotal: 875ms\tremaining: 154ms\n",
      "850:\tlearn: 17.5064049\ttotal: 876ms\tremaining: 153ms\n",
      "851:\tlearn: 17.4643467\ttotal: 877ms\tremaining: 152ms\n",
      "852:\tlearn: 17.4569544\ttotal: 878ms\tremaining: 151ms\n",
      "853:\tlearn: 17.3731897\ttotal: 878ms\tremaining: 150ms\n",
      "854:\tlearn: 17.3313609\ttotal: 879ms\tremaining: 149ms\n",
      "855:\tlearn: 17.2781582\ttotal: 880ms\tremaining: 148ms\n",
      "856:\tlearn: 17.2283433\ttotal: 881ms\tremaining: 147ms\n",
      "857:\tlearn: 17.1944614\ttotal: 882ms\tremaining: 146ms\n",
      "858:\tlearn: 17.1573393\ttotal: 883ms\tremaining: 145ms\n",
      "859:\tlearn: 17.0975067\ttotal: 884ms\tremaining: 144ms\n",
      "860:\tlearn: 17.0462043\ttotal: 884ms\tremaining: 143ms\n",
      "861:\tlearn: 17.0118805\ttotal: 885ms\tremaining: 142ms\n",
      "862:\tlearn: 17.0045195\ttotal: 886ms\tremaining: 141ms\n",
      "863:\tlearn: 16.9528999\ttotal: 887ms\tremaining: 140ms\n",
      "864:\tlearn: 16.9270632\ttotal: 887ms\tremaining: 139ms\n",
      "865:\tlearn: 16.8915252\ttotal: 888ms\tremaining: 137ms\n",
      "866:\tlearn: 16.7946576\ttotal: 889ms\tremaining: 136ms\n",
      "867:\tlearn: 16.7737222\ttotal: 890ms\tremaining: 135ms\n",
      "868:\tlearn: 16.7192509\ttotal: 891ms\tremaining: 134ms\n",
      "869:\tlearn: 16.7138388\ttotal: 891ms\tremaining: 133ms\n",
      "870:\tlearn: 16.6877768\ttotal: 892ms\tremaining: 132ms\n",
      "871:\tlearn: 16.6265748\ttotal: 893ms\tremaining: 131ms\n",
      "872:\tlearn: 16.5641199\ttotal: 894ms\tremaining: 130ms\n",
      "873:\tlearn: 16.4935111\ttotal: 895ms\tremaining: 129ms\n",
      "874:\tlearn: 16.4250863\ttotal: 896ms\tremaining: 128ms\n",
      "875:\tlearn: 16.3566947\ttotal: 896ms\tremaining: 127ms\n",
      "876:\tlearn: 16.2731185\ttotal: 897ms\tremaining: 126ms\n",
      "877:\tlearn: 16.2207923\ttotal: 898ms\tremaining: 125ms\n",
      "878:\tlearn: 16.2073108\ttotal: 899ms\tremaining: 124ms\n",
      "879:\tlearn: 16.1336576\ttotal: 900ms\tremaining: 123ms\n",
      "880:\tlearn: 16.0994139\ttotal: 901ms\tremaining: 122ms\n",
      "881:\tlearn: 16.0720217\ttotal: 902ms\tremaining: 121ms\n",
      "882:\tlearn: 16.0192163\ttotal: 902ms\tremaining: 120ms\n",
      "883:\tlearn: 16.0021989\ttotal: 903ms\tremaining: 119ms\n",
      "884:\tlearn: 15.9003005\ttotal: 904ms\tremaining: 117ms\n",
      "885:\tlearn: 15.8685768\ttotal: 905ms\tremaining: 116ms\n",
      "886:\tlearn: 15.7757199\ttotal: 906ms\tremaining: 115ms\n",
      "887:\tlearn: 15.7280015\ttotal: 907ms\tremaining: 114ms\n",
      "888:\tlearn: 15.7037867\ttotal: 908ms\tremaining: 113ms\n",
      "889:\tlearn: 15.6876254\ttotal: 909ms\tremaining: 112ms\n",
      "890:\tlearn: 15.6002589\ttotal: 910ms\tremaining: 111ms\n",
      "891:\tlearn: 15.5663914\ttotal: 910ms\tremaining: 110ms\n",
      "892:\tlearn: 15.4827503\ttotal: 911ms\tremaining: 109ms\n",
      "893:\tlearn: 15.4422647\ttotal: 912ms\tremaining: 108ms\n",
      "894:\tlearn: 15.4230904\ttotal: 913ms\tremaining: 107ms\n",
      "895:\tlearn: 15.3907978\ttotal: 914ms\tremaining: 106ms\n",
      "896:\tlearn: 15.3022423\ttotal: 914ms\tremaining: 105ms\n",
      "897:\tlearn: 15.2770800\ttotal: 915ms\tremaining: 104ms\n",
      "898:\tlearn: 15.2708396\ttotal: 916ms\tremaining: 103ms\n",
      "899:\tlearn: 15.2217814\ttotal: 917ms\tremaining: 102ms\n",
      "900:\tlearn: 15.2150872\ttotal: 917ms\tremaining: 101ms\n",
      "901:\tlearn: 15.1938758\ttotal: 918ms\tremaining: 99.8ms\n",
      "902:\tlearn: 15.1087389\ttotal: 919ms\tremaining: 98.7ms\n",
      "903:\tlearn: 15.0270836\ttotal: 920ms\tremaining: 97.7ms\n",
      "904:\tlearn: 14.9579009\ttotal: 921ms\tremaining: 96.7ms\n",
      "905:\tlearn: 14.9321713\ttotal: 922ms\tremaining: 95.6ms\n",
      "906:\tlearn: 14.9254894\ttotal: 923ms\tremaining: 94.6ms\n",
      "907:\tlearn: 14.8662999\ttotal: 923ms\tremaining: 93.6ms\n",
      "908:\tlearn: 14.7969088\ttotal: 924ms\tremaining: 92.5ms\n",
      "909:\tlearn: 14.7187437\ttotal: 925ms\tremaining: 91.5ms\n",
      "910:\tlearn: 14.6594229\ttotal: 926ms\tremaining: 90.5ms\n",
      "911:\tlearn: 14.6109629\ttotal: 927ms\tremaining: 89.4ms\n",
      "912:\tlearn: 14.5833869\ttotal: 928ms\tremaining: 88.4ms\n",
      "913:\tlearn: 14.5677206\ttotal: 928ms\tremaining: 87.4ms\n",
      "914:\tlearn: 14.5260964\ttotal: 929ms\tremaining: 86.3ms\n",
      "915:\tlearn: 14.4838792\ttotal: 930ms\tremaining: 85.3ms\n",
      "916:\tlearn: 14.4614097\ttotal: 931ms\tremaining: 84.3ms\n",
      "917:\tlearn: 14.4432212\ttotal: 932ms\tremaining: 83.2ms\n",
      "918:\tlearn: 14.4363977\ttotal: 933ms\tremaining: 82.2ms\n",
      "919:\tlearn: 14.3740822\ttotal: 934ms\tremaining: 81.2ms\n",
      "920:\tlearn: 14.3363459\ttotal: 935ms\tremaining: 80.2ms\n",
      "921:\tlearn: 14.2862425\ttotal: 935ms\tremaining: 79.1ms\n",
      "922:\tlearn: 14.2195191\ttotal: 936ms\tremaining: 78.1ms\n",
      "923:\tlearn: 14.1752422\ttotal: 937ms\tremaining: 77.1ms\n",
      "924:\tlearn: 14.1582897\ttotal: 938ms\tremaining: 76.1ms\n",
      "925:\tlearn: 14.0892518\ttotal: 939ms\tremaining: 75ms\n",
      "926:\tlearn: 14.0163904\ttotal: 940ms\tremaining: 74ms\n",
      "927:\tlearn: 13.9674906\ttotal: 940ms\tremaining: 73ms\n",
      "928:\tlearn: 13.9421041\ttotal: 941ms\tremaining: 71.9ms\n",
      "929:\tlearn: 13.9264108\ttotal: 942ms\tremaining: 70.9ms\n",
      "930:\tlearn: 13.8953443\ttotal: 943ms\tremaining: 69.9ms\n",
      "931:\tlearn: 13.8514821\ttotal: 944ms\tremaining: 68.9ms\n",
      "932:\tlearn: 13.8317730\ttotal: 945ms\tremaining: 67.8ms\n",
      "933:\tlearn: 13.7980615\ttotal: 946ms\tremaining: 66.8ms\n",
      "934:\tlearn: 13.7252551\ttotal: 947ms\tremaining: 65.8ms\n",
      "935:\tlearn: 13.6867475\ttotal: 947ms\tremaining: 64.8ms\n",
      "936:\tlearn: 13.6663164\ttotal: 948ms\tremaining: 63.8ms\n",
      "937:\tlearn: 13.6108173\ttotal: 949ms\tremaining: 62.7ms\n",
      "938:\tlearn: 13.5827380\ttotal: 950ms\tremaining: 61.7ms\n",
      "939:\tlearn: 13.5211246\ttotal: 951ms\tremaining: 60.7ms\n",
      "940:\tlearn: 13.4752089\ttotal: 951ms\tremaining: 59.6ms\n",
      "941:\tlearn: 13.4283115\ttotal: 952ms\tremaining: 58.6ms\n",
      "942:\tlearn: 13.3912327\ttotal: 953ms\tremaining: 57.6ms\n",
      "943:\tlearn: 13.3593766\ttotal: 954ms\tremaining: 56.6ms\n",
      "944:\tlearn: 13.3015250\ttotal: 955ms\tremaining: 55.6ms\n",
      "945:\tlearn: 13.2587480\ttotal: 955ms\tremaining: 54.5ms\n",
      "946:\tlearn: 13.1949436\ttotal: 956ms\tremaining: 53.5ms\n",
      "947:\tlearn: 13.1552441\ttotal: 957ms\tremaining: 52.5ms\n",
      "948:\tlearn: 13.0700947\ttotal: 958ms\tremaining: 51.5ms\n",
      "949:\tlearn: 13.0460884\ttotal: 959ms\tremaining: 50.5ms\n",
      "950:\tlearn: 13.0315972\ttotal: 960ms\tremaining: 49.4ms\n",
      "951:\tlearn: 12.9964111\ttotal: 960ms\tremaining: 48.4ms\n",
      "952:\tlearn: 12.9757139\ttotal: 961ms\tremaining: 47.4ms\n",
      "953:\tlearn: 12.9120533\ttotal: 963ms\tremaining: 46.4ms\n",
      "954:\tlearn: 12.8776679\ttotal: 963ms\tremaining: 45.4ms\n",
      "955:\tlearn: 12.8703243\ttotal: 964ms\tremaining: 44.4ms\n",
      "956:\tlearn: 12.8058615\ttotal: 965ms\tremaining: 43.4ms\n",
      "957:\tlearn: 12.7637381\ttotal: 966ms\tremaining: 42.3ms\n",
      "958:\tlearn: 12.7517063\ttotal: 967ms\tremaining: 41.3ms\n",
      "959:\tlearn: 12.7382108\ttotal: 968ms\tremaining: 40.3ms\n",
      "960:\tlearn: 12.6881713\ttotal: 968ms\tremaining: 39.3ms\n",
      "961:\tlearn: 12.6728317\ttotal: 969ms\tremaining: 38.3ms\n",
      "962:\tlearn: 12.6386609\ttotal: 970ms\tremaining: 37.3ms\n",
      "963:\tlearn: 12.5837642\ttotal: 971ms\tremaining: 36.2ms\n",
      "964:\tlearn: 12.5689789\ttotal: 971ms\tremaining: 35.2ms\n",
      "965:\tlearn: 12.5362136\ttotal: 972ms\tremaining: 34.2ms\n",
      "966:\tlearn: 12.5186020\ttotal: 973ms\tremaining: 33.2ms\n",
      "967:\tlearn: 12.4787889\ttotal: 974ms\tremaining: 32.2ms\n",
      "968:\tlearn: 12.4463866\ttotal: 975ms\tremaining: 31.2ms\n",
      "969:\tlearn: 12.3919484\ttotal: 976ms\tremaining: 30.2ms\n",
      "970:\tlearn: 12.3583173\ttotal: 976ms\tremaining: 29.2ms\n",
      "971:\tlearn: 12.3430204\ttotal: 977ms\tremaining: 28.2ms\n",
      "972:\tlearn: 12.3036135\ttotal: 978ms\tremaining: 27.1ms\n",
      "973:\tlearn: 12.2785886\ttotal: 979ms\tremaining: 26.1ms\n",
      "974:\tlearn: 12.2424148\ttotal: 980ms\tremaining: 25.1ms\n",
      "975:\tlearn: 12.2287225\ttotal: 981ms\tremaining: 24.1ms\n",
      "976:\tlearn: 12.1894056\ttotal: 982ms\tremaining: 23.1ms\n",
      "977:\tlearn: 12.1399699\ttotal: 983ms\tremaining: 22.1ms\n",
      "978:\tlearn: 12.1165698\ttotal: 984ms\tremaining: 21.1ms\n",
      "979:\tlearn: 12.1084930\ttotal: 985ms\tremaining: 20.1ms\n",
      "980:\tlearn: 12.1041455\ttotal: 985ms\tremaining: 19.1ms\n",
      "981:\tlearn: 12.0749440\ttotal: 986ms\tremaining: 18.1ms\n",
      "982:\tlearn: 12.0676323\ttotal: 987ms\tremaining: 17.1ms\n",
      "983:\tlearn: 12.0253491\ttotal: 988ms\tremaining: 16.1ms\n",
      "984:\tlearn: 11.9725269\ttotal: 989ms\tremaining: 15.1ms\n",
      "985:\tlearn: 11.9344239\ttotal: 989ms\tremaining: 14ms\n",
      "986:\tlearn: 11.8870660\ttotal: 990ms\tremaining: 13ms\n",
      "987:\tlearn: 11.8411099\ttotal: 991ms\tremaining: 12ms\n",
      "988:\tlearn: 11.7973602\ttotal: 992ms\tremaining: 11ms\n",
      "989:\tlearn: 11.7514376\ttotal: 994ms\tremaining: 10ms\n",
      "990:\tlearn: 11.7232746\ttotal: 994ms\tremaining: 9.03ms\n",
      "991:\tlearn: 11.6852796\ttotal: 995ms\tremaining: 8.03ms\n",
      "992:\tlearn: 11.6463794\ttotal: 996ms\tremaining: 7.02ms\n",
      "993:\tlearn: 11.6106308\ttotal: 997ms\tremaining: 6.02ms\n",
      "994:\tlearn: 11.5731961\ttotal: 998ms\tremaining: 5.01ms\n",
      "995:\tlearn: 11.5417359\ttotal: 998ms\tremaining: 4.01ms\n",
      "996:\tlearn: 11.5167117\ttotal: 999ms\tremaining: 3.01ms\n",
      "997:\tlearn: 11.4745232\ttotal: 1s\tremaining: 2ms\n",
      "998:\tlearn: 11.4604481\ttotal: 1s\tremaining: 1ms\n",
      "999:\tlearn: 11.4510502\ttotal: 1s\tremaining: 0us\n"
     ]
    }
   ],
   "source": [
    "catb = CatBoostRegressor()\n",
    "catb_model = catb.fit(X_train, y_train)"
   ]
  },
  {
   "cell_type": "markdown",
   "metadata": {},
   "source": [
    "## Tahmin"
   ]
  },
  {
   "cell_type": "code",
   "execution_count": 184,
   "metadata": {},
   "outputs": [
    {
     "data": {
      "text/plain": [
       "351.194631344607"
      ]
     },
     "execution_count": 184,
     "metadata": {},
     "output_type": "execute_result"
    }
   ],
   "source": [
    "y_pred = catb_model.predict(X_test)\n",
    "np.sqrt(mean_squared_error(y_test, y_pred))"
   ]
  },
  {
   "cell_type": "markdown",
   "metadata": {},
   "source": [
    "## Model Tuning"
   ]
  },
  {
   "cell_type": "code",
   "execution_count": 185,
   "metadata": {},
   "outputs": [],
   "source": [
    "catb_grid = {\n",
    "    'iterations': [200,500,1000,2000],\n",
    "    'learning_rate': [0.01, 0.03, 0.05, 0.1],\n",
    "    'depth': [3,4,5,6,7,8] }"
   ]
  },
  {
   "cell_type": "code",
   "execution_count": 186,
   "metadata": {},
   "outputs": [],
   "source": [
    "catb = CatBoostRegressor()\n",
    "catb_cv_model = GridSearchCV(catb, catb_grid, cv=5, n_jobs = -1, verbose = 2)"
   ]
  },
  {
   "cell_type": "code",
   "execution_count": 187,
   "metadata": {},
   "outputs": [
    {
     "name": "stdout",
     "output_type": "stream",
     "text": [
      "Fitting 5 folds for each of 96 candidates, totalling 480 fits\n",
      "0:\tlearn: 422.4143448\ttotal: 810us\tremaining: 810ms\n",
      "1:\tlearn: 404.1864276\ttotal: 1.48ms\tremaining: 740ms\n",
      "2:\tlearn: 386.3231718\ttotal: 2.01ms\tremaining: 669ms\n",
      "3:\tlearn: 370.5548032\ttotal: 2.55ms\tremaining: 636ms\n",
      "4:\tlearn: 354.9242038\ttotal: 3.11ms\tremaining: 620ms\n",
      "5:\tlearn: 342.3403984\ttotal: 3.76ms\tremaining: 623ms\n",
      "6:\tlearn: 328.2370070\ttotal: 4.39ms\tremaining: 623ms\n",
      "7:\tlearn: 317.5056526\ttotal: 4.96ms\tremaining: 615ms\n",
      "8:\tlearn: 306.6243511\ttotal: 5.61ms\tremaining: 618ms\n",
      "9:\tlearn: 297.3147023\ttotal: 6.14ms\tremaining: 608ms\n",
      "10:\tlearn: 288.3685892\ttotal: 6.7ms\tremaining: 603ms\n",
      "11:\tlearn: 281.0996220\ttotal: 7.2ms\tremaining: 593ms\n",
      "12:\tlearn: 273.2254898\ttotal: 7.71ms\tremaining: 585ms\n",
      "13:\tlearn: 266.9003385\ttotal: 8.25ms\tremaining: 581ms\n",
      "14:\tlearn: 261.9092500\ttotal: 8.84ms\tremaining: 581ms\n",
      "15:\tlearn: 256.2637350\ttotal: 9.39ms\tremaining: 578ms\n",
      "16:\tlearn: 250.3667935\ttotal: 9.93ms\tremaining: 574ms\n",
      "17:\tlearn: 244.8631098\ttotal: 10.5ms\tremaining: 571ms\n",
      "18:\tlearn: 240.1540669\ttotal: 11ms\tremaining: 567ms\n",
      "19:\tlearn: 235.6057263\ttotal: 11.6ms\tremaining: 567ms\n",
      "20:\tlearn: 231.2431102\ttotal: 12.1ms\tremaining: 563ms\n",
      "21:\tlearn: 226.4912464\ttotal: 12.6ms\tremaining: 561ms\n",
      "22:\tlearn: 223.5591707\ttotal: 12.9ms\tremaining: 548ms\n",
      "23:\tlearn: 219.6098928\ttotal: 13.4ms\tremaining: 546ms\n",
      "24:\tlearn: 215.3653069\ttotal: 13.9ms\tremaining: 544ms\n",
      "25:\tlearn: 212.0589058\ttotal: 14.5ms\tremaining: 542ms\n",
      "26:\tlearn: 209.7717728\ttotal: 15ms\tremaining: 540ms\n",
      "27:\tlearn: 206.4800180\ttotal: 15.5ms\tremaining: 540ms\n",
      "28:\tlearn: 204.4998286\ttotal: 16.1ms\tremaining: 538ms\n",
      "29:\tlearn: 202.5999376\ttotal: 16.6ms\tremaining: 538ms\n",
      "30:\tlearn: 199.5099986\ttotal: 17.2ms\tremaining: 538ms\n",
      "31:\tlearn: 196.9435690\ttotal: 17.7ms\tremaining: 536ms\n",
      "32:\tlearn: 194.9855023\ttotal: 18.3ms\tremaining: 536ms\n",
      "33:\tlearn: 193.0037094\ttotal: 18.8ms\tremaining: 534ms\n",
      "34:\tlearn: 191.6771224\ttotal: 19.3ms\tremaining: 533ms\n",
      "35:\tlearn: 188.6440989\ttotal: 19.9ms\tremaining: 534ms\n",
      "36:\tlearn: 186.7575822\ttotal: 20.5ms\tremaining: 533ms\n",
      "37:\tlearn: 183.5070965\ttotal: 21ms\tremaining: 532ms\n",
      "38:\tlearn: 181.9932704\ttotal: 21.5ms\tremaining: 530ms\n",
      "39:\tlearn: 180.4612043\ttotal: 22ms\tremaining: 529ms\n",
      "40:\tlearn: 178.9727236\ttotal: 22.6ms\tremaining: 528ms\n",
      "41:\tlearn: 176.9704782\ttotal: 23.1ms\tremaining: 526ms\n",
      "42:\tlearn: 172.9583917\ttotal: 23.6ms\tremaining: 526ms\n",
      "43:\tlearn: 172.0259404\ttotal: 24.2ms\tremaining: 525ms\n",
      "44:\tlearn: 169.6703908\ttotal: 24.7ms\tremaining: 524ms\n",
      "45:\tlearn: 167.0349788\ttotal: 25.2ms\tremaining: 523ms\n",
      "46:\tlearn: 166.0151540\ttotal: 25.7ms\tremaining: 521ms\n",
      "47:\tlearn: 164.3432866\ttotal: 26.2ms\tremaining: 521ms\n",
      "48:\tlearn: 163.7139546\ttotal: 26.8ms\tremaining: 520ms\n",
      "49:\tlearn: 162.0231882\ttotal: 27.3ms\tremaining: 518ms\n",
      "50:\tlearn: 159.4806540\ttotal: 27.8ms\tremaining: 517ms\n",
      "51:\tlearn: 156.5835618\ttotal: 28.3ms\tremaining: 516ms\n",
      "52:\tlearn: 155.1124833\ttotal: 28.8ms\tremaining: 515ms\n",
      "53:\tlearn: 154.3849650\ttotal: 29.4ms\tremaining: 514ms\n",
      "54:\tlearn: 153.2243534\ttotal: 29.9ms\tremaining: 514ms\n",
      "55:\tlearn: 152.3205510\ttotal: 30.5ms\tremaining: 514ms\n",
      "56:\tlearn: 151.0666069\ttotal: 31.1ms\tremaining: 514ms\n",
      "57:\tlearn: 150.0992693\ttotal: 31.6ms\tremaining: 512ms\n",
      "58:\tlearn: 149.7214223\ttotal: 32.1ms\tremaining: 512ms\n",
      "59:\tlearn: 149.3420563\ttotal: 32.6ms\tremaining: 511ms\n",
      "60:\tlearn: 147.1527638\ttotal: 33.2ms\tremaining: 510ms\n",
      "61:\tlearn: 146.0849045\ttotal: 34.2ms\tremaining: 518ms\n",
      "62:\tlearn: 145.2592821\ttotal: 34.9ms\tremaining: 519ms\n",
      "63:\tlearn: 143.9723823\ttotal: 35.6ms\tremaining: 521ms\n",
      "64:\tlearn: 142.9337890\ttotal: 36.1ms\tremaining: 520ms\n",
      "65:\tlearn: 141.2456060\ttotal: 36.8ms\tremaining: 521ms\n",
      "66:\tlearn: 140.0933886\ttotal: 37.4ms\tremaining: 520ms\n",
      "67:\tlearn: 139.0122411\ttotal: 37.9ms\tremaining: 520ms\n",
      "68:\tlearn: 137.0658535\ttotal: 38.5ms\tremaining: 519ms\n",
      "69:\tlearn: 136.5187600\ttotal: 39ms\tremaining: 518ms\n",
      "70:\tlearn: 135.3177866\ttotal: 39.6ms\tremaining: 518ms\n",
      "71:\tlearn: 134.4397288\ttotal: 40.1ms\tremaining: 517ms\n",
      "72:\tlearn: 133.9689054\ttotal: 40.6ms\tremaining: 516ms\n",
      "73:\tlearn: 132.9503812\ttotal: 41.2ms\tremaining: 516ms\n",
      "74:\tlearn: 132.4790284\ttotal: 41.8ms\tremaining: 515ms\n",
      "75:\tlearn: 130.0079846\ttotal: 42.3ms\tremaining: 514ms\n",
      "76:\tlearn: 128.6536311\ttotal: 42.9ms\tremaining: 514ms\n",
      "77:\tlearn: 126.4149435\ttotal: 43.4ms\tremaining: 513ms\n",
      "78:\tlearn: 124.7339610\ttotal: 44ms\tremaining: 513ms\n",
      "79:\tlearn: 123.6799098\ttotal: 44.6ms\tremaining: 513ms\n",
      "80:\tlearn: 122.0132818\ttotal: 45.2ms\tremaining: 512ms\n",
      "81:\tlearn: 121.7718402\ttotal: 45.8ms\tremaining: 512ms\n",
      "82:\tlearn: 121.0226763\ttotal: 46.3ms\tremaining: 511ms\n",
      "83:\tlearn: 119.0352412\ttotal: 46.8ms\tremaining: 510ms\n",
      "84:\tlearn: 118.1578472\ttotal: 47.4ms\tremaining: 510ms\n",
      "85:\tlearn: 117.3963152\ttotal: 48ms\tremaining: 510ms\n",
      "86:\tlearn: 116.8601830\ttotal: 48.5ms\tremaining: 509ms\n",
      "87:\tlearn: 115.1485488\ttotal: 49.1ms\tremaining: 509ms\n",
      "88:\tlearn: 113.3802066\ttotal: 49.7ms\tremaining: 509ms\n",
      "89:\tlearn: 111.8047507\ttotal: 50.3ms\tremaining: 508ms\n",
      "90:\tlearn: 111.2173889\ttotal: 50.9ms\tremaining: 508ms\n",
      "91:\tlearn: 109.7797673\ttotal: 51.4ms\tremaining: 508ms\n",
      "92:\tlearn: 108.5968886\ttotal: 52ms\tremaining: 507ms\n",
      "93:\tlearn: 107.3902106\ttotal: 52.5ms\tremaining: 506ms\n",
      "94:\tlearn: 106.5920119\ttotal: 53.1ms\tremaining: 506ms\n",
      "95:\tlearn: 105.9400132\ttotal: 53.6ms\tremaining: 505ms\n",
      "96:\tlearn: 104.5018068\ttotal: 54.2ms\tremaining: 504ms\n",
      "97:\tlearn: 104.2449785\ttotal: 54.8ms\tremaining: 504ms\n",
      "98:\tlearn: 102.4745810\ttotal: 55.3ms\tremaining: 503ms\n",
      "99:\tlearn: 101.5007722\ttotal: 55.9ms\tremaining: 503ms\n",
      "100:\tlearn: 101.0929742\ttotal: 56.5ms\tremaining: 503ms\n",
      "101:\tlearn: 100.8864538\ttotal: 57ms\tremaining: 502ms\n",
      "102:\tlearn: 99.5007076\ttotal: 57.6ms\tremaining: 501ms\n",
      "103:\tlearn: 98.1646778\ttotal: 58.2ms\tremaining: 501ms\n",
      "104:\tlearn: 97.1950961\ttotal: 58.7ms\tremaining: 501ms\n",
      "105:\tlearn: 96.0991462\ttotal: 59.3ms\tremaining: 500ms\n",
      "106:\tlearn: 95.4337941\ttotal: 59.9ms\tremaining: 500ms\n",
      "107:\tlearn: 94.9099345\ttotal: 60.4ms\tremaining: 499ms\n",
      "108:\tlearn: 94.3889362\ttotal: 60.9ms\tremaining: 498ms\n",
      "109:\tlearn: 94.2091744\ttotal: 61.4ms\tremaining: 497ms\n",
      "110:\tlearn: 92.8508793\ttotal: 62.2ms\tremaining: 498ms\n",
      "111:\tlearn: 92.1784338\ttotal: 62.7ms\tremaining: 497ms\n",
      "112:\tlearn: 91.6689944\ttotal: 63.3ms\tremaining: 497ms\n",
      "113:\tlearn: 90.6644520\ttotal: 63.8ms\tremaining: 496ms\n",
      "114:\tlearn: 90.5375287\ttotal: 64.4ms\tremaining: 496ms\n",
      "115:\tlearn: 90.3442623\ttotal: 65ms\tremaining: 495ms\n",
      "116:\tlearn: 89.3637881\ttotal: 65.6ms\tremaining: 495ms\n",
      "117:\tlearn: 88.5340073\ttotal: 66.1ms\tremaining: 494ms\n",
      "118:\tlearn: 88.3598014\ttotal: 66.7ms\tremaining: 494ms\n",
      "119:\tlearn: 87.1290719\ttotal: 67.3ms\tremaining: 493ms\n",
      "120:\tlearn: 87.0034893\ttotal: 67.9ms\tremaining: 493ms\n",
      "121:\tlearn: 85.9581724\ttotal: 68.6ms\tremaining: 493ms\n",
      "122:\tlearn: 84.7062226\ttotal: 69.1ms\tremaining: 493ms\n",
      "123:\tlearn: 84.6114296\ttotal: 69.8ms\tremaining: 493ms\n",
      "124:\tlearn: 83.3769126\ttotal: 70.3ms\tremaining: 492ms\n",
      "125:\tlearn: 82.2866094\ttotal: 70.9ms\tremaining: 492ms\n",
      "126:\tlearn: 81.7817112\ttotal: 71.6ms\tremaining: 492ms\n",
      "127:\tlearn: 80.3710545\ttotal: 72.1ms\tremaining: 491ms\n",
      "128:\tlearn: 79.3458239\ttotal: 72.7ms\tremaining: 491ms\n",
      "129:\tlearn: 78.8966509\ttotal: 73.3ms\tremaining: 491ms\n",
      "130:\tlearn: 78.7683699\ttotal: 74ms\tremaining: 491ms\n",
      "131:\tlearn: 78.0116712\ttotal: 74.6ms\tremaining: 491ms\n",
      "132:\tlearn: 77.5728582\ttotal: 75.1ms\tremaining: 490ms\n",
      "133:\tlearn: 76.4635356\ttotal: 75.7ms\tremaining: 489ms\n",
      "134:\tlearn: 75.6109482\ttotal: 76.4ms\tremaining: 490ms\n",
      "135:\tlearn: 74.8287886\ttotal: 77ms\tremaining: 489ms\n",
      "136:\tlearn: 74.2493825\ttotal: 77.7ms\tremaining: 490ms\n",
      "137:\tlearn: 73.3192822\ttotal: 78.3ms\tremaining: 489ms\n",
      "138:\tlearn: 72.9755066\ttotal: 79ms\tremaining: 489ms\n",
      "139:\tlearn: 72.8423874\ttotal: 79.5ms\tremaining: 489ms\n",
      "140:\tlearn: 71.5949506\ttotal: 80.1ms\tremaining: 488ms\n",
      "141:\tlearn: 70.9408732\ttotal: 80.6ms\tremaining: 487ms\n",
      "142:\tlearn: 70.1699642\ttotal: 81.1ms\tremaining: 486ms\n",
      "143:\tlearn: 69.8737644\ttotal: 81.7ms\tremaining: 485ms\n",
      "144:\tlearn: 69.0963759\ttotal: 82.2ms\tremaining: 485ms\n",
      "145:\tlearn: 68.9702397\ttotal: 82.7ms\tremaining: 484ms\n",
      "146:\tlearn: 67.8950397\ttotal: 83.2ms\tremaining: 483ms\n",
      "147:\tlearn: 67.1501269\ttotal: 83.7ms\tremaining: 482ms\n",
      "148:\tlearn: 66.4028868\ttotal: 84.3ms\tremaining: 481ms\n",
      "149:\tlearn: 65.3349813\ttotal: 84.8ms\tremaining: 481ms\n",
      "150:\tlearn: 64.6766190\ttotal: 85.5ms\tremaining: 480ms\n",
      "151:\tlearn: 63.7390417\ttotal: 86ms\tremaining: 480ms\n",
      "152:\tlearn: 62.9043101\ttotal: 86.5ms\tremaining: 479ms\n",
      "153:\tlearn: 62.5922794\ttotal: 87ms\tremaining: 478ms\n",
      "154:\tlearn: 62.1160450\ttotal: 87.6ms\tremaining: 478ms\n",
      "155:\tlearn: 61.7702532\ttotal: 88.2ms\tremaining: 477ms\n",
      "156:\tlearn: 61.2433354\ttotal: 88.8ms\tremaining: 477ms\n",
      "157:\tlearn: 60.8455422\ttotal: 89.4ms\tremaining: 476ms\n",
      "158:\tlearn: 60.6755303\ttotal: 90.1ms\tremaining: 477ms\n",
      "159:\tlearn: 59.9631043\ttotal: 90.6ms\tremaining: 476ms\n",
      "160:\tlearn: 59.2211911\ttotal: 91.2ms\tremaining: 475ms\n",
      "161:\tlearn: 59.1400932\ttotal: 91.8ms\tremaining: 475ms\n",
      "162:\tlearn: 58.9164262\ttotal: 92.4ms\tremaining: 474ms\n",
      "163:\tlearn: 58.2084420\ttotal: 93ms\tremaining: 474ms\n",
      "164:\tlearn: 57.9934649\ttotal: 93.6ms\tremaining: 473ms\n",
      "165:\tlearn: 57.3736694\ttotal: 94.2ms\tremaining: 473ms\n",
      "166:\tlearn: 56.8338370\ttotal: 94.7ms\tremaining: 472ms\n",
      "167:\tlearn: 56.5518049\ttotal: 95.2ms\tremaining: 471ms\n",
      "168:\tlearn: 55.9777349\ttotal: 95.8ms\tremaining: 471ms\n",
      "169:\tlearn: 55.4485860\ttotal: 96.3ms\tremaining: 470ms\n",
      "170:\tlearn: 55.0892542\ttotal: 96.9ms\tremaining: 470ms\n",
      "171:\tlearn: 54.9915464\ttotal: 97.5ms\tremaining: 469ms\n",
      "172:\tlearn: 54.3968112\ttotal: 98ms\tremaining: 469ms\n",
      "173:\tlearn: 53.7708163\ttotal: 98.6ms\tremaining: 468ms\n",
      "174:\tlearn: 53.1993023\ttotal: 99.3ms\tremaining: 468ms\n",
      "175:\tlearn: 52.7773821\ttotal: 100ms\tremaining: 468ms\n",
      "176:\tlearn: 52.5186612\ttotal: 101ms\tremaining: 468ms\n",
      "177:\tlearn: 52.0038075\ttotal: 101ms\tremaining: 468ms\n",
      "178:\tlearn: 51.7971195\ttotal: 102ms\tremaining: 468ms\n",
      "179:\tlearn: 51.4334863\ttotal: 103ms\tremaining: 467ms\n",
      "180:\tlearn: 50.9151359\ttotal: 103ms\tremaining: 467ms\n",
      "181:\tlearn: 50.8252320\ttotal: 104ms\tremaining: 467ms\n",
      "182:\tlearn: 50.4143487\ttotal: 105ms\tremaining: 467ms\n",
      "183:\tlearn: 50.0253432\ttotal: 105ms\tremaining: 466ms\n",
      "184:\tlearn: 49.6769233\ttotal: 106ms\tremaining: 467ms\n",
      "185:\tlearn: 49.5689505\ttotal: 107ms\tremaining: 466ms\n",
      "186:\tlearn: 49.0813531\ttotal: 107ms\tremaining: 466ms\n",
      "187:\tlearn: 48.9396335\ttotal: 108ms\tremaining: 466ms\n",
      "188:\tlearn: 48.5040716\ttotal: 108ms\tremaining: 465ms\n",
      "189:\tlearn: 47.9644995\ttotal: 109ms\tremaining: 464ms\n",
      "190:\tlearn: 47.8292554\ttotal: 110ms\tremaining: 464ms\n",
      "191:\tlearn: 47.4433025\ttotal: 110ms\tremaining: 464ms\n",
      "192:\tlearn: 46.9286959\ttotal: 111ms\tremaining: 464ms\n",
      "193:\tlearn: 46.3092347\ttotal: 111ms\tremaining: 463ms\n",
      "194:\tlearn: 45.7431428\ttotal: 112ms\tremaining: 463ms\n",
      "195:\tlearn: 45.6714261\ttotal: 113ms\tremaining: 463ms\n",
      "196:\tlearn: 45.5088158\ttotal: 113ms\tremaining: 462ms\n",
      "197:\tlearn: 45.4713460\ttotal: 114ms\tremaining: 462ms\n",
      "198:\tlearn: 45.0942536\ttotal: 115ms\tremaining: 461ms\n",
      "199:\tlearn: 44.7625600\ttotal: 115ms\tremaining: 460ms\n",
      "200:\tlearn: 44.3247006\ttotal: 116ms\tremaining: 460ms\n",
      "201:\tlearn: 43.8054974\ttotal: 116ms\tremaining: 460ms\n",
      "202:\tlearn: 43.3359785\ttotal: 117ms\tremaining: 459ms\n",
      "203:\tlearn: 42.8698272\ttotal: 118ms\tremaining: 459ms\n",
      "204:\tlearn: 42.4275364\ttotal: 118ms\tremaining: 459ms\n",
      "205:\tlearn: 41.9463597\ttotal: 119ms\tremaining: 459ms\n",
      "206:\tlearn: 41.7547985\ttotal: 120ms\tremaining: 458ms\n",
      "207:\tlearn: 41.6019714\ttotal: 120ms\tremaining: 458ms\n",
      "208:\tlearn: 41.4342896\ttotal: 121ms\tremaining: 458ms\n",
      "209:\tlearn: 41.0764993\ttotal: 122ms\tremaining: 457ms\n",
      "210:\tlearn: 40.7895715\ttotal: 122ms\tremaining: 457ms\n",
      "211:\tlearn: 40.4428042\ttotal: 123ms\tremaining: 457ms\n",
      "212:\tlearn: 39.9370849\ttotal: 123ms\tremaining: 456ms\n",
      "213:\tlearn: 39.4885257\ttotal: 124ms\tremaining: 456ms\n",
      "214:\tlearn: 39.1268375\ttotal: 125ms\tremaining: 455ms\n",
      "215:\tlearn: 38.9591271\ttotal: 125ms\tremaining: 455ms\n",
      "216:\tlearn: 38.8008893\ttotal: 126ms\tremaining: 454ms\n",
      "217:\tlearn: 38.4956003\ttotal: 127ms\tremaining: 454ms\n",
      "218:\tlearn: 38.3528545\ttotal: 127ms\tremaining: 454ms\n",
      "219:\tlearn: 38.1794276\ttotal: 128ms\tremaining: 453ms\n",
      "220:\tlearn: 38.1135196\ttotal: 128ms\tremaining: 452ms\n",
      "221:\tlearn: 37.9126665\ttotal: 129ms\tremaining: 452ms\n",
      "222:\tlearn: 37.5375523\ttotal: 130ms\tremaining: 452ms\n",
      "223:\tlearn: 37.3774479\ttotal: 130ms\tremaining: 451ms\n",
      "224:\tlearn: 36.8965396\ttotal: 131ms\tremaining: 450ms\n",
      "225:\tlearn: 36.4012999\ttotal: 131ms\tremaining: 450ms\n",
      "226:\tlearn: 35.9300616\ttotal: 132ms\tremaining: 450ms\n",
      "227:\tlearn: 35.6148029\ttotal: 133ms\tremaining: 450ms\n",
      "228:\tlearn: 35.2741594\ttotal: 133ms\tremaining: 449ms\n",
      "229:\tlearn: 35.0196015\ttotal: 134ms\tremaining: 449ms\n",
      "230:\tlearn: 34.5877862\ttotal: 135ms\tremaining: 449ms\n",
      "231:\tlearn: 34.4128370\ttotal: 136ms\tremaining: 449ms\n",
      "232:\tlearn: 34.2685016\ttotal: 136ms\tremaining: 448ms\n",
      "233:\tlearn: 34.2021290\ttotal: 137ms\tremaining: 447ms\n",
      "234:\tlearn: 34.1117548\ttotal: 137ms\tremaining: 446ms\n",
      "235:\tlearn: 33.7038307\ttotal: 138ms\tremaining: 446ms\n",
      "236:\tlearn: 33.6591145\ttotal: 138ms\tremaining: 445ms\n",
      "237:\tlearn: 33.6134076\ttotal: 139ms\tremaining: 444ms\n",
      "238:\tlearn: 33.3091022\ttotal: 139ms\tremaining: 444ms\n",
      "239:\tlearn: 33.2050988\ttotal: 140ms\tremaining: 443ms\n",
      "240:\tlearn: 32.7984087\ttotal: 141ms\tremaining: 443ms\n",
      "241:\tlearn: 32.4886567\ttotal: 141ms\tremaining: 442ms\n",
      "242:\tlearn: 32.3354906\ttotal: 142ms\tremaining: 442ms\n",
      "243:\tlearn: 32.1610609\ttotal: 143ms\tremaining: 442ms\n",
      "244:\tlearn: 31.9242693\ttotal: 143ms\tremaining: 441ms\n",
      "245:\tlearn: 31.4693550\ttotal: 144ms\tremaining: 441ms\n",
      "246:\tlearn: 31.1071532\ttotal: 145ms\tremaining: 441ms\n",
      "247:\tlearn: 30.7311162\ttotal: 145ms\tremaining: 440ms\n",
      "248:\tlearn: 30.4892550\ttotal: 146ms\tremaining: 440ms\n",
      "249:\tlearn: 30.3680212\ttotal: 147ms\tremaining: 440ms\n",
      "250:\tlearn: 30.1346007\ttotal: 147ms\tremaining: 439ms\n",
      "251:\tlearn: 29.8046285\ttotal: 148ms\tremaining: 439ms\n",
      "252:\tlearn: 29.6637514\ttotal: 148ms\tremaining: 438ms\n",
      "253:\tlearn: 29.5176095\ttotal: 149ms\tremaining: 438ms\n",
      "254:\tlearn: 29.3723319\ttotal: 150ms\tremaining: 438ms\n",
      "255:\tlearn: 29.1301438\ttotal: 150ms\tremaining: 437ms\n",
      "256:\tlearn: 29.1025017\ttotal: 151ms\tremaining: 437ms\n",
      "257:\tlearn: 28.8276340\ttotal: 152ms\tremaining: 436ms\n",
      "258:\tlearn: 28.6313979\ttotal: 152ms\tremaining: 435ms\n",
      "259:\tlearn: 28.3904787\ttotal: 153ms\tremaining: 435ms\n",
      "260:\tlearn: 27.9496011\ttotal: 153ms\tremaining: 435ms\n",
      "261:\tlearn: 27.6744647\ttotal: 154ms\tremaining: 434ms\n",
      "262:\tlearn: 27.5631687\ttotal: 155ms\tremaining: 434ms\n",
      "263:\tlearn: 27.2940171\ttotal: 155ms\tremaining: 433ms\n",
      "264:\tlearn: 27.0524989\ttotal: 156ms\tremaining: 433ms\n",
      "265:\tlearn: 26.9019408\ttotal: 157ms\tremaining: 432ms\n",
      "266:\tlearn: 26.7539234\ttotal: 157ms\tremaining: 432ms\n",
      "267:\tlearn: 26.5906135\ttotal: 158ms\tremaining: 431ms\n",
      "268:\tlearn: 26.3413069\ttotal: 158ms\tremaining: 430ms\n",
      "269:\tlearn: 26.2300985\ttotal: 159ms\tremaining: 430ms\n",
      "270:\tlearn: 25.7633750\ttotal: 160ms\tremaining: 430ms\n",
      "271:\tlearn: 25.5999298\ttotal: 160ms\tremaining: 429ms\n",
      "272:\tlearn: 25.4034221\ttotal: 161ms\tremaining: 429ms\n",
      "273:\tlearn: 25.3449361\ttotal: 162ms\tremaining: 428ms\n",
      "274:\tlearn: 25.1308675\ttotal: 162ms\tremaining: 428ms\n",
      "275:\tlearn: 24.8170605\ttotal: 163ms\tremaining: 427ms\n",
      "276:\tlearn: 24.5265387\ttotal: 163ms\tremaining: 427ms\n",
      "277:\tlearn: 24.3891773\ttotal: 164ms\tremaining: 426ms\n",
      "278:\tlearn: 24.1691955\ttotal: 165ms\tremaining: 425ms\n",
      "279:\tlearn: 23.9780841\ttotal: 165ms\tremaining: 425ms\n",
      "280:\tlearn: 23.7459991\ttotal: 166ms\tremaining: 424ms\n",
      "281:\tlearn: 23.5762098\ttotal: 166ms\tremaining: 424ms\n",
      "282:\tlearn: 23.4130148\ttotal: 167ms\tremaining: 423ms\n",
      "283:\tlearn: 23.1365659\ttotal: 168ms\tremaining: 423ms\n",
      "284:\tlearn: 22.9605139\ttotal: 168ms\tremaining: 422ms\n",
      "285:\tlearn: 22.8198952\ttotal: 169ms\tremaining: 422ms\n",
      "286:\tlearn: 22.7220776\ttotal: 170ms\tremaining: 421ms\n",
      "287:\tlearn: 22.6349162\ttotal: 170ms\tremaining: 421ms\n",
      "288:\tlearn: 22.5037731\ttotal: 171ms\tremaining: 421ms\n",
      "289:\tlearn: 22.4280658\ttotal: 172ms\tremaining: 420ms\n",
      "290:\tlearn: 22.4111078\ttotal: 172ms\tremaining: 420ms\n",
      "291:\tlearn: 22.2582825\ttotal: 173ms\tremaining: 419ms\n",
      "292:\tlearn: 22.0361847\ttotal: 174ms\tremaining: 419ms\n",
      "293:\tlearn: 21.9197616\ttotal: 174ms\tremaining: 418ms\n",
      "294:\tlearn: 21.8934931\ttotal: 175ms\tremaining: 418ms\n",
      "295:\tlearn: 21.8385467\ttotal: 175ms\tremaining: 417ms\n",
      "296:\tlearn: 21.6056469\ttotal: 176ms\tremaining: 416ms\n",
      "297:\tlearn: 21.3638471\ttotal: 177ms\tremaining: 416ms\n",
      "298:\tlearn: 21.2403020\ttotal: 177ms\tremaining: 415ms\n",
      "299:\tlearn: 20.9940588\ttotal: 178ms\tremaining: 415ms\n",
      "300:\tlearn: 20.8606002\ttotal: 178ms\tremaining: 414ms\n",
      "301:\tlearn: 20.7521062\ttotal: 179ms\tremaining: 414ms\n",
      "302:\tlearn: 20.4914061\ttotal: 180ms\tremaining: 413ms\n",
      "303:\tlearn: 20.4390781\ttotal: 180ms\tremaining: 413ms\n",
      "304:\tlearn: 20.4261039\ttotal: 181ms\tremaining: 412ms\n",
      "305:\tlearn: 20.3429361\ttotal: 181ms\tremaining: 411ms\n",
      "306:\tlearn: 20.3186699\ttotal: 182ms\tremaining: 411ms\n",
      "307:\tlearn: 20.2200547\ttotal: 183ms\tremaining: 411ms\n",
      "308:\tlearn: 20.0363798\ttotal: 183ms\tremaining: 410ms\n",
      "309:\tlearn: 19.9375964\ttotal: 184ms\tremaining: 409ms\n",
      "310:\tlearn: 19.8562475\ttotal: 185ms\tremaining: 409ms\n",
      "311:\tlearn: 19.7207383\ttotal: 185ms\tremaining: 408ms\n",
      "312:\tlearn: 19.5840205\ttotal: 186ms\tremaining: 408ms\n",
      "313:\tlearn: 19.4498604\ttotal: 186ms\tremaining: 407ms\n",
      "314:\tlearn: 19.3106313\ttotal: 187ms\tremaining: 407ms\n",
      "315:\tlearn: 19.1555646\ttotal: 188ms\tremaining: 407ms\n",
      "316:\tlearn: 19.1426558\ttotal: 189ms\tremaining: 407ms\n",
      "317:\tlearn: 19.0179770\ttotal: 189ms\tremaining: 406ms\n",
      "318:\tlearn: 18.9331646\ttotal: 190ms\tremaining: 405ms\n",
      "319:\tlearn: 18.7759664\ttotal: 191ms\tremaining: 405ms\n",
      "320:\tlearn: 18.7302473\ttotal: 191ms\tremaining: 405ms\n",
      "321:\tlearn: 18.6822773\ttotal: 192ms\tremaining: 404ms\n",
      "322:\tlearn: 18.6212081\ttotal: 192ms\tremaining: 403ms\n",
      "323:\tlearn: 18.3825932\ttotal: 193ms\tremaining: 403ms\n",
      "324:\tlearn: 18.0840511\ttotal: 194ms\tremaining: 402ms\n",
      "325:\tlearn: 17.9626242\ttotal: 194ms\tremaining: 402ms\n",
      "326:\tlearn: 17.8194649\ttotal: 195ms\tremaining: 402ms\n",
      "327:\tlearn: 17.6897852\ttotal: 196ms\tremaining: 401ms\n",
      "328:\tlearn: 17.6729587\ttotal: 196ms\tremaining: 401ms\n",
      "329:\tlearn: 17.5730192\ttotal: 197ms\tremaining: 400ms\n",
      "330:\tlearn: 17.3061709\ttotal: 198ms\tremaining: 400ms\n",
      "331:\tlearn: 17.2732138\ttotal: 199ms\tremaining: 399ms\n",
      "332:\tlearn: 17.1284244\ttotal: 199ms\tremaining: 399ms\n",
      "333:\tlearn: 17.0578788\ttotal: 200ms\tremaining: 399ms\n",
      "334:\tlearn: 16.9109643\ttotal: 200ms\tremaining: 398ms\n",
      "335:\tlearn: 16.6595095\ttotal: 201ms\tremaining: 397ms\n",
      "336:\tlearn: 16.5240861\ttotal: 202ms\tremaining: 397ms\n",
      "337:\tlearn: 16.3631551\ttotal: 202ms\tremaining: 396ms\n",
      "338:\tlearn: 16.2364521\ttotal: 203ms\tremaining: 396ms\n",
      "339:\tlearn: 16.1259236\ttotal: 203ms\tremaining: 395ms\n",
      "340:\tlearn: 16.1070160\ttotal: 204ms\tremaining: 395ms\n",
      "341:\tlearn: 15.9446333\ttotal: 205ms\tremaining: 394ms\n",
      "342:\tlearn: 15.8404109\ttotal: 206ms\tremaining: 394ms\n",
      "343:\tlearn: 15.7616719\ttotal: 206ms\tremaining: 393ms\n",
      "344:\tlearn: 15.7046860\ttotal: 207ms\tremaining: 393ms\n",
      "345:\tlearn: 15.5565531\ttotal: 207ms\tremaining: 392ms\n",
      "346:\tlearn: 15.4739767\ttotal: 208ms\tremaining: 391ms\n",
      "347:\tlearn: 15.4214691\ttotal: 209ms\tremaining: 391ms\n",
      "348:\tlearn: 15.3830392\ttotal: 209ms\tremaining: 390ms\n",
      "349:\tlearn: 15.2925503\ttotal: 210ms\tremaining: 390ms\n",
      "350:\tlearn: 15.2685305\ttotal: 210ms\tremaining: 389ms\n",
      "351:\tlearn: 15.0959980\ttotal: 211ms\tremaining: 388ms\n",
      "352:\tlearn: 15.0185539\ttotal: 212ms\tremaining: 388ms\n",
      "353:\tlearn: 14.9344909\ttotal: 212ms\tremaining: 388ms\n",
      "354:\tlearn: 14.8185511\ttotal: 213ms\tremaining: 387ms\n",
      "355:\tlearn: 14.7621205\ttotal: 214ms\tremaining: 387ms\n",
      "356:\tlearn: 14.6824384\ttotal: 214ms\tremaining: 386ms\n",
      "357:\tlearn: 14.5918871\ttotal: 215ms\tremaining: 385ms\n",
      "358:\tlearn: 14.4898356\ttotal: 216ms\tremaining: 385ms\n",
      "359:\tlearn: 14.4773981\ttotal: 216ms\tremaining: 384ms\n",
      "360:\tlearn: 14.3256006\ttotal: 217ms\tremaining: 384ms\n",
      "361:\tlearn: 14.1704867\ttotal: 217ms\tremaining: 383ms\n",
      "362:\tlearn: 14.0453382\ttotal: 218ms\tremaining: 383ms\n",
      "363:\tlearn: 13.9488312\ttotal: 219ms\tremaining: 382ms\n",
      "364:\tlearn: 13.8932251\ttotal: 219ms\tremaining: 381ms\n",
      "365:\tlearn: 13.7368549\ttotal: 220ms\tremaining: 381ms\n",
      "366:\tlearn: 13.6533268\ttotal: 220ms\tremaining: 380ms\n",
      "367:\tlearn: 13.5191569\ttotal: 221ms\tremaining: 379ms\n",
      "368:\tlearn: 13.4712080\ttotal: 222ms\tremaining: 379ms\n",
      "369:\tlearn: 13.3454926\ttotal: 222ms\tremaining: 378ms\n",
      "370:\tlearn: 13.2804919\ttotal: 223ms\tremaining: 378ms\n",
      "371:\tlearn: 13.2609934\ttotal: 223ms\tremaining: 377ms\n",
      "372:\tlearn: 13.1804458\ttotal: 224ms\tremaining: 376ms\n",
      "373:\tlearn: 13.0381162\ttotal: 225ms\tremaining: 376ms\n",
      "374:\tlearn: 13.0250736\ttotal: 225ms\tremaining: 376ms\n",
      "375:\tlearn: 13.0006609\ttotal: 226ms\tremaining: 375ms\n",
      "376:\tlearn: 12.8507663\ttotal: 227ms\tremaining: 375ms\n",
      "377:\tlearn: 12.6986039\ttotal: 227ms\tremaining: 374ms\n",
      "378:\tlearn: 12.5574544\ttotal: 228ms\tremaining: 374ms\n",
      "379:\tlearn: 12.4864386\ttotal: 229ms\tremaining: 373ms\n",
      "380:\tlearn: 12.3739036\ttotal: 229ms\tremaining: 372ms\n",
      "381:\tlearn: 12.3110117\ttotal: 230ms\tremaining: 372ms\n",
      "382:\tlearn: 12.2077088\ttotal: 230ms\tremaining: 371ms\n",
      "383:\tlearn: 12.1065885\ttotal: 231ms\tremaining: 371ms\n",
      "384:\tlearn: 12.0323948\ttotal: 232ms\tremaining: 370ms\n",
      "385:\tlearn: 12.0014896\ttotal: 232ms\tremaining: 370ms\n",
      "386:\tlearn: 11.8568080\ttotal: 233ms\tremaining: 369ms\n",
      "387:\tlearn: 11.7867144\ttotal: 233ms\tremaining: 368ms\n",
      "388:\tlearn: 11.7500836\ttotal: 234ms\tremaining: 368ms\n",
      "389:\tlearn: 11.7348877\ttotal: 235ms\tremaining: 367ms\n",
      "390:\tlearn: 11.7286653\ttotal: 235ms\tremaining: 366ms\n",
      "391:\tlearn: 11.6241305\ttotal: 236ms\tremaining: 366ms\n",
      "392:\tlearn: 11.5960420\ttotal: 237ms\tremaining: 365ms\n",
      "393:\tlearn: 11.5729987\ttotal: 237ms\tremaining: 365ms\n",
      "394:\tlearn: 11.5635235\ttotal: 238ms\tremaining: 364ms\n",
      "395:\tlearn: 11.4873129\ttotal: 238ms\tremaining: 363ms\n",
      "396:\tlearn: 11.3564378\ttotal: 239ms\tremaining: 363ms\n",
      "397:\tlearn: 11.2078876\ttotal: 240ms\tremaining: 363ms\n",
      "398:\tlearn: 11.1598904\ttotal: 240ms\tremaining: 362ms\n",
      "399:\tlearn: 11.0885074\ttotal: 241ms\tremaining: 361ms\n",
      "400:\tlearn: 11.0278575\ttotal: 242ms\tremaining: 361ms\n",
      "401:\tlearn: 10.9865756\ttotal: 242ms\tremaining: 360ms\n",
      "402:\tlearn: 10.8794931\ttotal: 243ms\tremaining: 360ms\n",
      "403:\tlearn: 10.8382558\ttotal: 244ms\tremaining: 359ms\n",
      "404:\tlearn: 10.7596014\ttotal: 244ms\tremaining: 359ms\n",
      "405:\tlearn: 10.7064165\ttotal: 245ms\tremaining: 358ms\n",
      "406:\tlearn: 10.6372130\ttotal: 245ms\tremaining: 357ms\n",
      "407:\tlearn: 10.5505037\ttotal: 246ms\tremaining: 357ms\n",
      "408:\tlearn: 10.4676489\ttotal: 246ms\tremaining: 356ms\n",
      "409:\tlearn: 10.3632792\ttotal: 247ms\tremaining: 355ms\n",
      "410:\tlearn: 10.3399756\ttotal: 248ms\tremaining: 355ms\n",
      "411:\tlearn: 10.2905778\ttotal: 248ms\tremaining: 354ms\n",
      "412:\tlearn: 10.2175164\ttotal: 249ms\tremaining: 354ms\n",
      "413:\tlearn: 10.1482923\ttotal: 249ms\tremaining: 353ms\n",
      "414:\tlearn: 10.0590953\ttotal: 250ms\tremaining: 352ms\n",
      "415:\tlearn: 9.9982795\ttotal: 251ms\tremaining: 352ms\n",
      "416:\tlearn: 9.9099074\ttotal: 251ms\tremaining: 351ms\n",
      "417:\tlearn: 9.8641812\ttotal: 252ms\tremaining: 351ms\n",
      "418:\tlearn: 9.8207799\ttotal: 252ms\tremaining: 350ms\n",
      "419:\tlearn: 9.7000976\ttotal: 253ms\tremaining: 349ms\n",
      "420:\tlearn: 9.6211675\ttotal: 254ms\tremaining: 349ms\n",
      "421:\tlearn: 9.5821946\ttotal: 254ms\tremaining: 348ms\n",
      "422:\tlearn: 9.5314530\ttotal: 255ms\tremaining: 347ms\n",
      "423:\tlearn: 9.5231706\ttotal: 255ms\tremaining: 347ms\n",
      "424:\tlearn: 9.4897613\ttotal: 256ms\tremaining: 346ms\n",
      "425:\tlearn: 9.4178254\ttotal: 256ms\tremaining: 345ms\n",
      "426:\tlearn: 9.3468512\ttotal: 273ms\tremaining: 366ms\n",
      "427:\tlearn: 9.2916542\ttotal: 274ms\tremaining: 366ms\n",
      "428:\tlearn: 9.2671046\ttotal: 274ms\tremaining: 365ms\n",
      "429:\tlearn: 9.1507425\ttotal: 275ms\tremaining: 364ms\n",
      "430:\tlearn: 9.0905964\ttotal: 275ms\tremaining: 363ms\n",
      "431:\tlearn: 9.0599172\ttotal: 276ms\tremaining: 363ms\n",
      "432:\tlearn: 8.9911670\ttotal: 276ms\tremaining: 362ms\n",
      "433:\tlearn: 8.9769178\ttotal: 277ms\tremaining: 361ms\n",
      "434:\tlearn: 8.9011639\ttotal: 277ms\tremaining: 360ms\n",
      "435:\tlearn: 8.8578447\ttotal: 278ms\tremaining: 359ms\n",
      "436:\tlearn: 8.7766216\ttotal: 278ms\tremaining: 359ms\n",
      "437:\tlearn: 8.7600187\ttotal: 279ms\tremaining: 358ms\n",
      "438:\tlearn: 8.7039464\ttotal: 279ms\tremaining: 357ms\n",
      "439:\tlearn: 8.6701908\ttotal: 280ms\tremaining: 356ms\n",
      "440:\tlearn: 8.6561906\ttotal: 281ms\tremaining: 356ms\n",
      "441:\tlearn: 8.6030579\ttotal: 281ms\tremaining: 355ms\n",
      "442:\tlearn: 8.5192884\ttotal: 282ms\tremaining: 354ms\n",
      "443:\tlearn: 8.4605490\ttotal: 282ms\tremaining: 353ms\n",
      "444:\tlearn: 8.3846572\ttotal: 283ms\tremaining: 353ms\n",
      "445:\tlearn: 8.3429264\ttotal: 284ms\tremaining: 352ms\n",
      "446:\tlearn: 8.3068488\ttotal: 284ms\tremaining: 351ms\n",
      "447:\tlearn: 8.2662142\ttotal: 285ms\tremaining: 351ms\n",
      "448:\tlearn: 8.1806196\ttotal: 285ms\tremaining: 350ms\n",
      "449:\tlearn: 8.1475696\ttotal: 286ms\tremaining: 349ms\n",
      "450:\tlearn: 8.1145904\ttotal: 286ms\tremaining: 348ms\n",
      "451:\tlearn: 8.0740309\ttotal: 287ms\tremaining: 348ms\n",
      "452:\tlearn: 8.0095799\ttotal: 287ms\tremaining: 347ms\n",
      "453:\tlearn: 7.9857193\ttotal: 288ms\tremaining: 346ms\n",
      "454:\tlearn: 7.9300069\ttotal: 288ms\tremaining: 345ms\n",
      "455:\tlearn: 7.9088282\ttotal: 289ms\tremaining: 345ms\n",
      "456:\tlearn: 7.8726359\ttotal: 289ms\tremaining: 344ms\n",
      "457:\tlearn: 7.8453260\ttotal: 290ms\tremaining: 343ms\n",
      "458:\tlearn: 7.8015145\ttotal: 290ms\tremaining: 342ms\n",
      "459:\tlearn: 7.7552434\ttotal: 291ms\tremaining: 341ms\n",
      "460:\tlearn: 7.7033074\ttotal: 291ms\tremaining: 341ms\n",
      "461:\tlearn: 7.6732816\ttotal: 292ms\tremaining: 340ms\n",
      "462:\tlearn: 7.6387343\ttotal: 292ms\tremaining: 339ms\n",
      "463:\tlearn: 7.5939225\ttotal: 293ms\tremaining: 338ms\n",
      "464:\tlearn: 7.5495985\ttotal: 293ms\tremaining: 338ms\n",
      "465:\tlearn: 7.5164784\ttotal: 294ms\tremaining: 337ms\n",
      "466:\tlearn: 7.4692120\ttotal: 294ms\tremaining: 336ms\n",
      "467:\tlearn: 7.4602739\ttotal: 295ms\tremaining: 335ms\n",
      "468:\tlearn: 7.4245927\ttotal: 295ms\tremaining: 334ms\n",
      "469:\tlearn: 7.3402299\ttotal: 296ms\tremaining: 334ms\n",
      "470:\tlearn: 7.2998185\ttotal: 296ms\tremaining: 333ms\n",
      "471:\tlearn: 7.2014577\ttotal: 297ms\tremaining: 332ms\n",
      "472:\tlearn: 7.1904207\ttotal: 298ms\tremaining: 332ms\n",
      "473:\tlearn: 7.1527862\ttotal: 298ms\tremaining: 331ms\n",
      "474:\tlearn: 7.0771473\ttotal: 299ms\tremaining: 330ms\n",
      "475:\tlearn: 7.0539525\ttotal: 299ms\tremaining: 329ms\n",
      "476:\tlearn: 6.9846025\ttotal: 300ms\tremaining: 328ms\n",
      "477:\tlearn: 6.9534313\ttotal: 300ms\tremaining: 328ms\n",
      "478:\tlearn: 6.8975880\ttotal: 301ms\tremaining: 327ms\n",
      "479:\tlearn: 6.8254191\ttotal: 301ms\tremaining: 326ms\n",
      "480:\tlearn: 6.8112478\ttotal: 302ms\tremaining: 326ms\n",
      "481:\tlearn: 6.7648902\ttotal: 302ms\tremaining: 325ms\n",
      "482:\tlearn: 6.6860735\ttotal: 303ms\tremaining: 324ms\n",
      "483:\tlearn: 6.6633461\ttotal: 303ms\tremaining: 323ms\n",
      "484:\tlearn: 6.6475279\ttotal: 304ms\tremaining: 323ms\n",
      "485:\tlearn: 6.5921608\ttotal: 304ms\tremaining: 322ms\n",
      "486:\tlearn: 6.5602794\ttotal: 305ms\tremaining: 321ms\n",
      "487:\tlearn: 6.5499659\ttotal: 305ms\tremaining: 320ms\n",
      "488:\tlearn: 6.4940006\ttotal: 306ms\tremaining: 320ms\n",
      "489:\tlearn: 6.4247752\ttotal: 306ms\tremaining: 319ms\n",
      "490:\tlearn: 6.3877601\ttotal: 307ms\tremaining: 318ms\n",
      "491:\tlearn: 6.3314191\ttotal: 307ms\tremaining: 317ms\n",
      "492:\tlearn: 6.2812751\ttotal: 308ms\tremaining: 317ms\n",
      "493:\tlearn: 6.2685065\ttotal: 309ms\tremaining: 316ms\n",
      "494:\tlearn: 6.2241138\ttotal: 309ms\tremaining: 315ms\n",
      "495:\tlearn: 6.1695214\ttotal: 309ms\tremaining: 314ms\n",
      "496:\tlearn: 6.1421906\ttotal: 310ms\tremaining: 314ms\n",
      "497:\tlearn: 6.1331850\ttotal: 311ms\tremaining: 313ms\n",
      "498:\tlearn: 6.1166327\ttotal: 311ms\tremaining: 312ms\n",
      "499:\tlearn: 6.0829602\ttotal: 312ms\tremaining: 312ms\n",
      "500:\tlearn: 6.0650422\ttotal: 312ms\tremaining: 311ms\n",
      "501:\tlearn: 6.0436563\ttotal: 313ms\tremaining: 310ms\n",
      "502:\tlearn: 5.9902804\ttotal: 313ms\tremaining: 310ms\n",
      "503:\tlearn: 5.9121675\ttotal: 314ms\tremaining: 309ms\n",
      "504:\tlearn: 5.9091850\ttotal: 314ms\tremaining: 308ms\n",
      "505:\tlearn: 5.8967995\ttotal: 315ms\tremaining: 307ms\n",
      "506:\tlearn: 5.8430221\ttotal: 315ms\tremaining: 307ms\n",
      "507:\tlearn: 5.8135495\ttotal: 316ms\tremaining: 306ms\n",
      "508:\tlearn: 5.7890913\ttotal: 316ms\tremaining: 305ms\n",
      "509:\tlearn: 5.7577091\ttotal: 317ms\tremaining: 304ms\n",
      "510:\tlearn: 5.7523488\ttotal: 317ms\tremaining: 304ms\n",
      "511:\tlearn: 5.6546493\ttotal: 318ms\tremaining: 303ms\n",
      "512:\tlearn: 5.6194513\ttotal: 319ms\tremaining: 302ms\n",
      "513:\tlearn: 5.5672252\ttotal: 319ms\tremaining: 302ms\n",
      "514:\tlearn: 5.5539421\ttotal: 320ms\tremaining: 301ms\n",
      "515:\tlearn: 5.5185620\ttotal: 320ms\tremaining: 300ms\n",
      "516:\tlearn: 5.4789463\ttotal: 321ms\tremaining: 300ms\n",
      "517:\tlearn: 5.4236755\ttotal: 321ms\tremaining: 299ms\n",
      "518:\tlearn: 5.3864207\ttotal: 322ms\tremaining: 298ms\n",
      "519:\tlearn: 5.3533466\ttotal: 322ms\tremaining: 297ms\n",
      "520:\tlearn: 5.3369921\ttotal: 323ms\tremaining: 297ms\n",
      "521:\tlearn: 5.2560437\ttotal: 323ms\tremaining: 296ms\n",
      "522:\tlearn: 5.2017840\ttotal: 324ms\tremaining: 295ms\n",
      "523:\tlearn: 5.1755812\ttotal: 324ms\tremaining: 295ms\n",
      "524:\tlearn: 5.1385832\ttotal: 325ms\tremaining: 294ms\n",
      "525:\tlearn: 5.1335579\ttotal: 325ms\tremaining: 293ms\n",
      "526:\tlearn: 5.0585358\ttotal: 326ms\tremaining: 293ms\n",
      "527:\tlearn: 5.0021152\ttotal: 326ms\tremaining: 292ms\n",
      "528:\tlearn: 4.9822398\ttotal: 327ms\tremaining: 291ms\n",
      "529:\tlearn: 4.9752376\ttotal: 327ms\tremaining: 290ms\n",
      "530:\tlearn: 4.9479232\ttotal: 328ms\tremaining: 290ms\n",
      "531:\tlearn: 4.9271142\ttotal: 329ms\tremaining: 289ms\n",
      "532:\tlearn: 4.9023595\ttotal: 329ms\tremaining: 289ms\n",
      "533:\tlearn: 4.8555527\ttotal: 330ms\tremaining: 288ms\n",
      "534:\tlearn: 4.8367794\ttotal: 330ms\tremaining: 287ms\n",
      "535:\tlearn: 4.7952444\ttotal: 331ms\tremaining: 286ms\n",
      "536:\tlearn: 4.7409194\ttotal: 332ms\tremaining: 286ms\n",
      "537:\tlearn: 4.6929973\ttotal: 332ms\tremaining: 285ms\n",
      "538:\tlearn: 4.6579685\ttotal: 333ms\tremaining: 285ms\n",
      "539:\tlearn: 4.6195745\ttotal: 333ms\tremaining: 284ms\n",
      "540:\tlearn: 4.5964136\ttotal: 334ms\tremaining: 283ms\n",
      "541:\tlearn: 4.5836819\ttotal: 334ms\tremaining: 283ms\n",
      "542:\tlearn: 4.5766395\ttotal: 335ms\tremaining: 282ms\n",
      "543:\tlearn: 4.5639948\ttotal: 335ms\tremaining: 281ms\n",
      "544:\tlearn: 4.5321336\ttotal: 336ms\tremaining: 280ms\n",
      "545:\tlearn: 4.5257262\ttotal: 336ms\tremaining: 280ms\n",
      "546:\tlearn: 4.5121200\ttotal: 337ms\tremaining: 279ms\n",
      "547:\tlearn: 4.5000971\ttotal: 337ms\tremaining: 278ms\n",
      "548:\tlearn: 4.4699564\ttotal: 338ms\tremaining: 278ms\n",
      "549:\tlearn: 4.4223918\ttotal: 338ms\tremaining: 277ms\n",
      "550:\tlearn: 4.3900850\ttotal: 339ms\tremaining: 276ms\n",
      "551:\tlearn: 4.3865832\ttotal: 340ms\tremaining: 276ms\n",
      "552:\tlearn: 4.3555236\ttotal: 340ms\tremaining: 275ms\n",
      "553:\tlearn: 4.3326942\ttotal: 341ms\tremaining: 274ms\n",
      "554:\tlearn: 4.3083453\ttotal: 341ms\tremaining: 273ms\n",
      "555:\tlearn: 4.2783012\ttotal: 342ms\tremaining: 273ms\n",
      "556:\tlearn: 4.2386680\ttotal: 342ms\tremaining: 272ms\n",
      "557:\tlearn: 4.1982182\ttotal: 343ms\tremaining: 271ms\n",
      "558:\tlearn: 4.1818634\ttotal: 343ms\tremaining: 271ms\n",
      "559:\tlearn: 4.1603123\ttotal: 344ms\tremaining: 270ms\n",
      "560:\tlearn: 4.1162392\ttotal: 344ms\tremaining: 269ms\n",
      "561:\tlearn: 4.0942539\ttotal: 345ms\tremaining: 269ms\n",
      "562:\tlearn: 4.0833944\ttotal: 345ms\tremaining: 268ms\n",
      "563:\tlearn: 4.0651220\ttotal: 346ms\tremaining: 267ms\n",
      "564:\tlearn: 4.0359525\ttotal: 346ms\tremaining: 267ms\n",
      "565:\tlearn: 4.0331482\ttotal: 347ms\tremaining: 266ms\n",
      "566:\tlearn: 4.0110785\ttotal: 347ms\tremaining: 265ms\n",
      "567:\tlearn: 3.9846807\ttotal: 348ms\tremaining: 265ms\n",
      "568:\tlearn: 3.9611224\ttotal: 348ms\tremaining: 264ms\n",
      "569:\tlearn: 3.9238317\ttotal: 349ms\tremaining: 263ms\n",
      "570:\tlearn: 3.9105718\ttotal: 349ms\tremaining: 262ms\n",
      "571:\tlearn: 3.8725349\ttotal: 350ms\tremaining: 262ms\n",
      "572:\tlearn: 3.8589458\ttotal: 350ms\tremaining: 261ms\n",
      "573:\tlearn: 3.8201118\ttotal: 351ms\tremaining: 260ms\n",
      "574:\tlearn: 3.8100971\ttotal: 351ms\tremaining: 260ms\n",
      "575:\tlearn: 3.7824233\ttotal: 352ms\tremaining: 259ms\n",
      "576:\tlearn: 3.7652240\ttotal: 353ms\tremaining: 258ms\n",
      "577:\tlearn: 3.7320270\ttotal: 353ms\tremaining: 258ms\n",
      "578:\tlearn: 3.7227983\ttotal: 354ms\tremaining: 257ms\n",
      "579:\tlearn: 3.7007934\ttotal: 354ms\tremaining: 256ms\n",
      "580:\tlearn: 3.6703626\ttotal: 355ms\tremaining: 256ms\n",
      "581:\tlearn: 3.6587500\ttotal: 355ms\tremaining: 255ms\n",
      "582:\tlearn: 3.6435213\ttotal: 356ms\tremaining: 255ms\n",
      "583:\tlearn: 3.6165255\ttotal: 356ms\tremaining: 254ms\n",
      "584:\tlearn: 3.5921438\ttotal: 357ms\tremaining: 253ms\n",
      "585:\tlearn: 3.5823094\ttotal: 357ms\tremaining: 253ms\n",
      "586:\tlearn: 3.5707107\ttotal: 358ms\tremaining: 252ms\n",
      "587:\tlearn: 3.5585582\ttotal: 359ms\tremaining: 251ms\n",
      "588:\tlearn: 3.5083056\ttotal: 359ms\tremaining: 251ms\n",
      "589:\tlearn: 3.4896083\ttotal: 360ms\tremaining: 250ms\n",
      "590:\tlearn: 3.4745190\ttotal: 360ms\tremaining: 249ms\n",
      "591:\tlearn: 3.4627260\ttotal: 361ms\tremaining: 249ms\n",
      "592:\tlearn: 3.4385625\ttotal: 361ms\tremaining: 248ms\n",
      "593:\tlearn: 3.3997235\ttotal: 362ms\tremaining: 247ms\n",
      "594:\tlearn: 3.3764192\ttotal: 362ms\tremaining: 247ms\n",
      "595:\tlearn: 3.3590522\ttotal: 363ms\tremaining: 246ms\n",
      "596:\tlearn: 3.3474857\ttotal: 363ms\tremaining: 245ms\n",
      "597:\tlearn: 3.3123623\ttotal: 364ms\tremaining: 244ms\n",
      "598:\tlearn: 3.2999589\ttotal: 364ms\tremaining: 244ms\n",
      "599:\tlearn: 3.2767538\ttotal: 365ms\tremaining: 243ms\n",
      "600:\tlearn: 3.2530783\ttotal: 365ms\tremaining: 242ms\n",
      "601:\tlearn: 3.2269777\ttotal: 366ms\tremaining: 242ms\n",
      "602:\tlearn: 3.1938868\ttotal: 366ms\tremaining: 241ms\n",
      "603:\tlearn: 3.1728589\ttotal: 367ms\tremaining: 240ms\n",
      "604:\tlearn: 3.1549029\ttotal: 367ms\tremaining: 240ms\n",
      "605:\tlearn: 3.1478118\ttotal: 368ms\tremaining: 239ms\n",
      "606:\tlearn: 3.1145245\ttotal: 368ms\tremaining: 238ms\n",
      "607:\tlearn: 3.0718905\ttotal: 369ms\tremaining: 238ms\n",
      "608:\tlearn: 3.0352714\ttotal: 369ms\tremaining: 237ms\n",
      "609:\tlearn: 2.9984985\ttotal: 370ms\tremaining: 236ms\n",
      "610:\tlearn: 2.9594115\ttotal: 370ms\tremaining: 236ms\n",
      "611:\tlearn: 2.9438145\ttotal: 371ms\tremaining: 235ms\n",
      "612:\tlearn: 2.9265773\ttotal: 372ms\tremaining: 235ms\n",
      "613:\tlearn: 2.9036898\ttotal: 372ms\tremaining: 234ms\n",
      "614:\tlearn: 2.8790612\ttotal: 373ms\tremaining: 233ms\n",
      "615:\tlearn: 2.8654898\ttotal: 373ms\tremaining: 233ms\n",
      "616:\tlearn: 2.8462561\ttotal: 374ms\tremaining: 232ms\n",
      "617:\tlearn: 2.8254976\ttotal: 374ms\tremaining: 231ms\n",
      "618:\tlearn: 2.8190407\ttotal: 375ms\tremaining: 231ms\n",
      "619:\tlearn: 2.8129812\ttotal: 375ms\tremaining: 230ms\n",
      "620:\tlearn: 2.8097755\ttotal: 375ms\tremaining: 229ms\n",
      "621:\tlearn: 2.7960320\ttotal: 376ms\tremaining: 228ms\n",
      "622:\tlearn: 2.7878495\ttotal: 376ms\tremaining: 228ms\n",
      "623:\tlearn: 2.7602980\ttotal: 377ms\tremaining: 227ms\n",
      "624:\tlearn: 2.7341408\ttotal: 377ms\tremaining: 226ms\n",
      "625:\tlearn: 2.7302545\ttotal: 378ms\tremaining: 226ms\n",
      "626:\tlearn: 2.7120252\ttotal: 378ms\tremaining: 225ms\n",
      "627:\tlearn: 2.7075024\ttotal: 379ms\tremaining: 224ms\n",
      "628:\tlearn: 2.6970031\ttotal: 379ms\tremaining: 224ms\n",
      "629:\tlearn: 2.6928246\ttotal: 380ms\tremaining: 223ms\n",
      "630:\tlearn: 2.6709120\ttotal: 380ms\tremaining: 222ms\n",
      "631:\tlearn: 2.6656247\ttotal: 381ms\tremaining: 222ms\n",
      "632:\tlearn: 2.6452838\ttotal: 381ms\tremaining: 221ms\n",
      "633:\tlearn: 2.6271014\ttotal: 382ms\tremaining: 220ms\n",
      "634:\tlearn: 2.6089454\ttotal: 382ms\tremaining: 220ms\n",
      "635:\tlearn: 2.5996271\ttotal: 383ms\tremaining: 219ms\n",
      "636:\tlearn: 2.5923568\ttotal: 383ms\tremaining: 218ms\n",
      "637:\tlearn: 2.5837611\ttotal: 384ms\tremaining: 218ms\n",
      "638:\tlearn: 2.5726721\ttotal: 384ms\tremaining: 217ms\n",
      "639:\tlearn: 2.5577477\ttotal: 385ms\tremaining: 216ms\n",
      "640:\tlearn: 2.5500744\ttotal: 385ms\tremaining: 216ms\n",
      "641:\tlearn: 2.5274442\ttotal: 386ms\tremaining: 215ms\n",
      "642:\tlearn: 2.5157559\ttotal: 386ms\tremaining: 214ms\n",
      "643:\tlearn: 2.5053856\ttotal: 387ms\tremaining: 214ms\n",
      "644:\tlearn: 2.4841922\ttotal: 387ms\tremaining: 213ms\n",
      "645:\tlearn: 2.4674035\ttotal: 388ms\tremaining: 212ms\n",
      "646:\tlearn: 2.4484158\ttotal: 388ms\tremaining: 212ms\n",
      "647:\tlearn: 2.4263246\ttotal: 389ms\tremaining: 211ms\n",
      "648:\tlearn: 2.4052258\ttotal: 389ms\tremaining: 211ms\n",
      "649:\tlearn: 2.3816894\ttotal: 390ms\tremaining: 210ms\n",
      "650:\tlearn: 2.3659119\ttotal: 391ms\tremaining: 209ms\n",
      "651:\tlearn: 2.3576051\ttotal: 391ms\tremaining: 209ms\n",
      "652:\tlearn: 2.3288476\ttotal: 392ms\tremaining: 208ms\n",
      "653:\tlearn: 2.3109502\ttotal: 392ms\tremaining: 208ms\n",
      "654:\tlearn: 2.3021504\ttotal: 393ms\tremaining: 207ms\n",
      "655:\tlearn: 2.3009515\ttotal: 393ms\tremaining: 206ms\n",
      "656:\tlearn: 2.2893680\ttotal: 394ms\tremaining: 206ms\n",
      "657:\tlearn: 2.2852898\ttotal: 395ms\tremaining: 205ms\n",
      "658:\tlearn: 2.2647131\ttotal: 395ms\tremaining: 205ms\n",
      "659:\tlearn: 2.2437777\ttotal: 396ms\tremaining: 204ms\n",
      "660:\tlearn: 2.2228007\ttotal: 396ms\tremaining: 203ms\n",
      "661:\tlearn: 2.2030047\ttotal: 397ms\tremaining: 203ms\n",
      "662:\tlearn: 2.1823076\ttotal: 398ms\tremaining: 202ms\n",
      "663:\tlearn: 2.1607769\ttotal: 398ms\tremaining: 202ms\n",
      "664:\tlearn: 2.1491049\ttotal: 399ms\tremaining: 201ms\n",
      "665:\tlearn: 2.1403920\ttotal: 399ms\tremaining: 200ms\n",
      "666:\tlearn: 2.1255852\ttotal: 400ms\tremaining: 200ms\n",
      "667:\tlearn: 2.1087714\ttotal: 401ms\tremaining: 199ms\n",
      "668:\tlearn: 2.1033385\ttotal: 401ms\tremaining: 198ms\n",
      "669:\tlearn: 2.0923091\ttotal: 402ms\tremaining: 198ms\n",
      "670:\tlearn: 2.0834076\ttotal: 402ms\tremaining: 197ms\n",
      "671:\tlearn: 2.0735926\ttotal: 403ms\tremaining: 197ms\n",
      "672:\tlearn: 2.0603541\ttotal: 404ms\tremaining: 196ms\n",
      "673:\tlearn: 2.0576392\ttotal: 404ms\tremaining: 196ms\n",
      "674:\tlearn: 2.0455537\ttotal: 405ms\tremaining: 195ms\n",
      "675:\tlearn: 2.0282804\ttotal: 405ms\tremaining: 194ms\n",
      "676:\tlearn: 2.0217423\ttotal: 406ms\tremaining: 194ms\n",
      "677:\tlearn: 2.0119192\ttotal: 407ms\tremaining: 193ms\n",
      "678:\tlearn: 2.0001332\ttotal: 407ms\tremaining: 192ms\n",
      "679:\tlearn: 1.9979894\ttotal: 408ms\tremaining: 192ms\n",
      "680:\tlearn: 1.9907747\ttotal: 408ms\tremaining: 191ms\n",
      "681:\tlearn: 1.9736817\ttotal: 409ms\tremaining: 191ms\n",
      "682:\tlearn: 1.9600965\ttotal: 409ms\tremaining: 190ms\n",
      "683:\tlearn: 1.9539201\ttotal: 410ms\tremaining: 189ms\n",
      "684:\tlearn: 1.9449369\ttotal: 410ms\tremaining: 189ms\n",
      "685:\tlearn: 1.9419454\ttotal: 411ms\tremaining: 188ms\n",
      "686:\tlearn: 1.9326842\ttotal: 412ms\tremaining: 188ms\n",
      "687:\tlearn: 1.9288548\ttotal: 412ms\tremaining: 187ms\n",
      "688:\tlearn: 1.9236716\ttotal: 413ms\tremaining: 186ms\n",
      "689:\tlearn: 1.9228496\ttotal: 413ms\tremaining: 186ms\n",
      "690:\tlearn: 1.9176354\ttotal: 414ms\tremaining: 185ms\n",
      "691:\tlearn: 1.9147659\ttotal: 415ms\tremaining: 185ms\n",
      "692:\tlearn: 1.9079892\ttotal: 415ms\tremaining: 184ms\n",
      "693:\tlearn: 1.9048238\ttotal: 416ms\tremaining: 183ms\n",
      "694:\tlearn: 1.8959419\ttotal: 416ms\tremaining: 183ms\n",
      "695:\tlearn: 1.8711502\ttotal: 417ms\tremaining: 182ms\n",
      "696:\tlearn: 1.8583228\ttotal: 418ms\tremaining: 182ms\n",
      "697:\tlearn: 1.8482604\ttotal: 418ms\tremaining: 181ms\n",
      "698:\tlearn: 1.8456936\ttotal: 419ms\tremaining: 180ms\n",
      "699:\tlearn: 1.8273471\ttotal: 419ms\tremaining: 180ms\n",
      "700:\tlearn: 1.8067825\ttotal: 420ms\tremaining: 179ms\n",
      "701:\tlearn: 1.8022221\ttotal: 421ms\tremaining: 179ms\n",
      "702:\tlearn: 1.7912070\ttotal: 421ms\tremaining: 178ms\n",
      "703:\tlearn: 1.7755760\ttotal: 422ms\tremaining: 177ms\n",
      "704:\tlearn: 1.7712682\ttotal: 422ms\tremaining: 177ms\n",
      "705:\tlearn: 1.7648319\ttotal: 423ms\tremaining: 176ms\n",
      "706:\tlearn: 1.7532904\ttotal: 424ms\tremaining: 176ms\n",
      "707:\tlearn: 1.7463625\ttotal: 424ms\tremaining: 175ms\n",
      "708:\tlearn: 1.7418161\ttotal: 425ms\tremaining: 174ms\n",
      "709:\tlearn: 1.7272345\ttotal: 425ms\tremaining: 174ms\n",
      "710:\tlearn: 1.7217505\ttotal: 426ms\tremaining: 173ms\n",
      "711:\tlearn: 1.7151154\ttotal: 426ms\tremaining: 172ms\n",
      "712:\tlearn: 1.7092925\ttotal: 427ms\tremaining: 172ms\n",
      "713:\tlearn: 1.7025995\ttotal: 428ms\tremaining: 171ms\n",
      "714:\tlearn: 1.6807623\ttotal: 428ms\tremaining: 171ms\n",
      "715:\tlearn: 1.6674907\ttotal: 429ms\tremaining: 170ms\n",
      "716:\tlearn: 1.6544638\ttotal: 429ms\tremaining: 169ms\n",
      "717:\tlearn: 1.6411236\ttotal: 430ms\tremaining: 169ms\n",
      "718:\tlearn: 1.6290477\ttotal: 430ms\tremaining: 168ms\n",
      "719:\tlearn: 1.6222366\ttotal: 431ms\tremaining: 168ms\n",
      "720:\tlearn: 1.6142656\ttotal: 432ms\tremaining: 167ms\n",
      "721:\tlearn: 1.6004470\ttotal: 432ms\tremaining: 166ms\n",
      "722:\tlearn: 1.5932177\ttotal: 433ms\tremaining: 166ms\n",
      "723:\tlearn: 1.5743215\ttotal: 433ms\tremaining: 165ms\n",
      "724:\tlearn: 1.5629066\ttotal: 434ms\tremaining: 165ms\n",
      "725:\tlearn: 1.5505525\ttotal: 435ms\tremaining: 164ms\n",
      "726:\tlearn: 1.5302974\ttotal: 435ms\tremaining: 163ms\n",
      "727:\tlearn: 1.5260700\ttotal: 436ms\tremaining: 163ms\n",
      "728:\tlearn: 1.5188723\ttotal: 436ms\tremaining: 162ms\n",
      "729:\tlearn: 1.5085309\ttotal: 437ms\tremaining: 162ms\n",
      "730:\tlearn: 1.5038733\ttotal: 438ms\tremaining: 161ms\n",
      "731:\tlearn: 1.5008194\ttotal: 438ms\tremaining: 160ms\n",
      "732:\tlearn: 1.4908829\ttotal: 439ms\tremaining: 160ms\n",
      "733:\tlearn: 1.4782605\ttotal: 439ms\tremaining: 159ms\n",
      "734:\tlearn: 1.4639356\ttotal: 440ms\tremaining: 159ms\n",
      "735:\tlearn: 1.4471455\ttotal: 441ms\tremaining: 158ms\n",
      "736:\tlearn: 1.4454285\ttotal: 441ms\tremaining: 157ms\n",
      "737:\tlearn: 1.4416273\ttotal: 442ms\tremaining: 157ms\n",
      "738:\tlearn: 1.4302267\ttotal: 442ms\tremaining: 156ms\n",
      "739:\tlearn: 1.4219328\ttotal: 443ms\tremaining: 156ms\n",
      "740:\tlearn: 1.4105579\ttotal: 443ms\tremaining: 155ms\n",
      "741:\tlearn: 1.4075838\ttotal: 444ms\tremaining: 154ms\n",
      "742:\tlearn: 1.4017014\ttotal: 445ms\tremaining: 154ms\n",
      "743:\tlearn: 1.3974208\ttotal: 445ms\tremaining: 153ms\n",
      "744:\tlearn: 1.3862572\ttotal: 446ms\tremaining: 153ms\n",
      "745:\tlearn: 1.3729360\ttotal: 446ms\tremaining: 152ms\n",
      "746:\tlearn: 1.3630904\ttotal: 447ms\tremaining: 151ms\n",
      "747:\tlearn: 1.3477583\ttotal: 447ms\tremaining: 151ms\n",
      "748:\tlearn: 1.3348270\ttotal: 448ms\tremaining: 150ms\n",
      "749:\tlearn: 1.3236754\ttotal: 449ms\tremaining: 150ms\n",
      "750:\tlearn: 1.3171961\ttotal: 449ms\tremaining: 149ms\n",
      "751:\tlearn: 1.3113457\ttotal: 450ms\tremaining: 148ms\n",
      "752:\tlearn: 1.3036391\ttotal: 450ms\tremaining: 148ms\n",
      "753:\tlearn: 1.2935829\ttotal: 451ms\tremaining: 147ms\n",
      "754:\tlearn: 1.2837612\ttotal: 452ms\tremaining: 147ms\n",
      "755:\tlearn: 1.2768260\ttotal: 452ms\tremaining: 146ms\n",
      "756:\tlearn: 1.2689370\ttotal: 453ms\tremaining: 145ms\n",
      "757:\tlearn: 1.2561567\ttotal: 453ms\tremaining: 145ms\n",
      "758:\tlearn: 1.2475100\ttotal: 454ms\tremaining: 144ms\n",
      "759:\tlearn: 1.2405978\ttotal: 454ms\tremaining: 143ms\n",
      "760:\tlearn: 1.2342628\ttotal: 455ms\tremaining: 143ms\n",
      "761:\tlearn: 1.2271880\ttotal: 456ms\tremaining: 142ms\n",
      "762:\tlearn: 1.2138527\ttotal: 456ms\tremaining: 142ms\n",
      "763:\tlearn: 1.2076889\ttotal: 457ms\tremaining: 141ms\n",
      "764:\tlearn: 1.2041847\ttotal: 457ms\tremaining: 140ms\n",
      "765:\tlearn: 1.1970019\ttotal: 458ms\tremaining: 140ms\n",
      "766:\tlearn: 1.1892878\ttotal: 458ms\tremaining: 139ms\n",
      "767:\tlearn: 1.1858432\ttotal: 459ms\tremaining: 139ms\n",
      "768:\tlearn: 1.1746182\ttotal: 459ms\tremaining: 138ms\n",
      "769:\tlearn: 1.1694876\ttotal: 460ms\tremaining: 137ms\n",
      "770:\tlearn: 1.1657055\ttotal: 461ms\tremaining: 137ms\n",
      "771:\tlearn: 1.1556043\ttotal: 461ms\tremaining: 136ms\n",
      "772:\tlearn: 1.1540774\ttotal: 462ms\tremaining: 136ms\n",
      "773:\tlearn: 1.1473715\ttotal: 462ms\tremaining: 135ms\n",
      "774:\tlearn: 1.1419763\ttotal: 463ms\tremaining: 134ms\n",
      "775:\tlearn: 1.1303590\ttotal: 464ms\tremaining: 134ms\n",
      "776:\tlearn: 1.1230587\ttotal: 464ms\tremaining: 133ms\n",
      "777:\tlearn: 1.1143917\ttotal: 465ms\tremaining: 133ms\n",
      "778:\tlearn: 1.1112687\ttotal: 465ms\tremaining: 132ms\n",
      "779:\tlearn: 1.1009863\ttotal: 466ms\tremaining: 131ms\n",
      "780:\tlearn: 1.0899260\ttotal: 467ms\tremaining: 131ms\n",
      "781:\tlearn: 1.0855158\ttotal: 467ms\tremaining: 130ms\n",
      "782:\tlearn: 1.0808031\ttotal: 468ms\tremaining: 130ms\n",
      "783:\tlearn: 1.0763884\ttotal: 468ms\tremaining: 129ms\n",
      "784:\tlearn: 1.0710758\ttotal: 469ms\tremaining: 128ms\n",
      "785:\tlearn: 1.0634482\ttotal: 470ms\tremaining: 128ms\n",
      "786:\tlearn: 1.0529874\ttotal: 470ms\tremaining: 127ms\n",
      "787:\tlearn: 1.0501903\ttotal: 471ms\tremaining: 127ms\n",
      "788:\tlearn: 1.0410587\ttotal: 471ms\tremaining: 126ms\n",
      "789:\tlearn: 1.0386261\ttotal: 472ms\tremaining: 126ms\n",
      "790:\tlearn: 1.0351082\ttotal: 473ms\tremaining: 125ms\n",
      "791:\tlearn: 1.0320987\ttotal: 473ms\tremaining: 124ms\n",
      "792:\tlearn: 1.0294915\ttotal: 474ms\tremaining: 124ms\n",
      "793:\tlearn: 1.0233284\ttotal: 474ms\tremaining: 123ms\n",
      "794:\tlearn: 1.0176815\ttotal: 475ms\tremaining: 122ms\n",
      "795:\tlearn: 1.0074411\ttotal: 476ms\tremaining: 122ms\n",
      "796:\tlearn: 1.0020197\ttotal: 476ms\tremaining: 121ms\n",
      "797:\tlearn: 0.9989044\ttotal: 477ms\tremaining: 121ms\n",
      "798:\tlearn: 0.9937483\ttotal: 478ms\tremaining: 120ms\n",
      "799:\tlearn: 0.9867329\ttotal: 478ms\tremaining: 120ms\n",
      "800:\tlearn: 0.9819829\ttotal: 479ms\tremaining: 119ms\n",
      "801:\tlearn: 0.9777514\ttotal: 479ms\tremaining: 118ms\n",
      "802:\tlearn: 0.9757462\ttotal: 480ms\tremaining: 118ms\n",
      "803:\tlearn: 0.9702440\ttotal: 481ms\tremaining: 117ms\n",
      "804:\tlearn: 0.9636471\ttotal: 481ms\tremaining: 117ms\n",
      "805:\tlearn: 0.9548362\ttotal: 482ms\tremaining: 116ms\n",
      "806:\tlearn: 0.9470745\ttotal: 482ms\tremaining: 115ms\n",
      "807:\tlearn: 0.9408578\ttotal: 483ms\tremaining: 115ms\n",
      "808:\tlearn: 0.9350692\ttotal: 483ms\tremaining: 114ms\n",
      "809:\tlearn: 0.9290967\ttotal: 484ms\tremaining: 114ms\n",
      "810:\tlearn: 0.9267158\ttotal: 484ms\tremaining: 113ms\n",
      "811:\tlearn: 0.9235794\ttotal: 485ms\tremaining: 112ms\n",
      "812:\tlearn: 0.9226084\ttotal: 486ms\tremaining: 112ms\n",
      "813:\tlearn: 0.9139012\ttotal: 486ms\tremaining: 111ms\n",
      "814:\tlearn: 0.9073690\ttotal: 487ms\tremaining: 110ms\n",
      "815:\tlearn: 0.9024018\ttotal: 487ms\tremaining: 110ms\n",
      "816:\tlearn: 0.9001693\ttotal: 488ms\tremaining: 109ms\n",
      "817:\tlearn: 0.8970481\ttotal: 488ms\tremaining: 109ms\n",
      "818:\tlearn: 0.8907494\ttotal: 489ms\tremaining: 108ms\n",
      "819:\tlearn: 0.8886718\ttotal: 490ms\tremaining: 107ms\n",
      "820:\tlearn: 0.8869259\ttotal: 490ms\tremaining: 107ms\n",
      "821:\tlearn: 0.8804683\ttotal: 491ms\tremaining: 106ms\n",
      "822:\tlearn: 0.8666371\ttotal: 491ms\tremaining: 106ms\n",
      "823:\tlearn: 0.8659600\ttotal: 492ms\tremaining: 105ms\n",
      "824:\tlearn: 0.8604612\ttotal: 492ms\tremaining: 104ms\n",
      "825:\tlearn: 0.8544955\ttotal: 493ms\tremaining: 104ms\n",
      "826:\tlearn: 0.8496739\ttotal: 494ms\tremaining: 103ms\n",
      "827:\tlearn: 0.8420906\ttotal: 494ms\tremaining: 103ms\n",
      "828:\tlearn: 0.8398457\ttotal: 495ms\tremaining: 102ms\n",
      "829:\tlearn: 0.8358570\ttotal: 496ms\tremaining: 101ms\n",
      "830:\tlearn: 0.8293211\ttotal: 496ms\tremaining: 101ms\n",
      "831:\tlearn: 0.8236188\ttotal: 497ms\tremaining: 100ms\n",
      "832:\tlearn: 0.8175017\ttotal: 497ms\tremaining: 99.7ms\n",
      "833:\tlearn: 0.8128315\ttotal: 498ms\tremaining: 99.1ms\n",
      "834:\tlearn: 0.8096197\ttotal: 498ms\tremaining: 98.5ms\n",
      "835:\tlearn: 0.8027133\ttotal: 499ms\tremaining: 97.9ms\n",
      "836:\tlearn: 0.7987555\ttotal: 500ms\tremaining: 97.3ms\n",
      "837:\tlearn: 0.7928141\ttotal: 500ms\tremaining: 96.7ms\n",
      "838:\tlearn: 0.7897563\ttotal: 501ms\tremaining: 96.1ms\n",
      "839:\tlearn: 0.7876758\ttotal: 501ms\tremaining: 95.5ms\n",
      "840:\tlearn: 0.7777598\ttotal: 502ms\tremaining: 94.9ms\n",
      "841:\tlearn: 0.7767597\ttotal: 502ms\tremaining: 94.3ms\n",
      "842:\tlearn: 0.7665043\ttotal: 503ms\tremaining: 93.7ms\n",
      "843:\tlearn: 0.7626478\ttotal: 503ms\tremaining: 93.1ms\n",
      "844:\tlearn: 0.7540439\ttotal: 504ms\tremaining: 92.5ms\n",
      "845:\tlearn: 0.7508537\ttotal: 505ms\tremaining: 91.9ms\n",
      "846:\tlearn: 0.7459152\ttotal: 505ms\tremaining: 91.3ms\n",
      "847:\tlearn: 0.7447900\ttotal: 506ms\tremaining: 90.7ms\n",
      "848:\tlearn: 0.7418475\ttotal: 506ms\tremaining: 90.1ms\n",
      "849:\tlearn: 0.7379949\ttotal: 507ms\tremaining: 89.5ms\n",
      "850:\tlearn: 0.7369054\ttotal: 508ms\tremaining: 88.9ms\n",
      "851:\tlearn: 0.7327236\ttotal: 508ms\tremaining: 88.3ms\n",
      "852:\tlearn: 0.7311790\ttotal: 509ms\tremaining: 87.7ms\n",
      "853:\tlearn: 0.7226495\ttotal: 509ms\tremaining: 87.1ms\n",
      "854:\tlearn: 0.7168390\ttotal: 510ms\tremaining: 86.5ms\n",
      "855:\tlearn: 0.7117890\ttotal: 511ms\tremaining: 85.9ms\n",
      "856:\tlearn: 0.7040100\ttotal: 511ms\tremaining: 85.3ms\n",
      "857:\tlearn: 0.6960021\ttotal: 512ms\tremaining: 84.7ms\n",
      "858:\tlearn: 0.6920263\ttotal: 512ms\tremaining: 84.1ms\n",
      "859:\tlearn: 0.6853317\ttotal: 513ms\tremaining: 83.5ms\n",
      "860:\tlearn: 0.6805108\ttotal: 513ms\tremaining: 82.9ms\n",
      "861:\tlearn: 0.6771728\ttotal: 514ms\tremaining: 82.3ms\n",
      "862:\tlearn: 0.6708199\ttotal: 515ms\tremaining: 81.7ms\n",
      "863:\tlearn: 0.6689468\ttotal: 515ms\tremaining: 81.1ms\n",
      "864:\tlearn: 0.6647579\ttotal: 516ms\tremaining: 80.5ms\n",
      "865:\tlearn: 0.6587745\ttotal: 516ms\tremaining: 79.9ms\n",
      "866:\tlearn: 0.6549437\ttotal: 517ms\tremaining: 79.3ms\n",
      "867:\tlearn: 0.6484944\ttotal: 517ms\tremaining: 78.7ms\n",
      "868:\tlearn: 0.6455316\ttotal: 518ms\tremaining: 78.1ms\n",
      "869:\tlearn: 0.6420739\ttotal: 519ms\tremaining: 77.5ms\n",
      "870:\tlearn: 0.6375667\ttotal: 519ms\tremaining: 76.9ms\n",
      "871:\tlearn: 0.6358236\ttotal: 520ms\tremaining: 76.3ms\n",
      "872:\tlearn: 0.6320335\ttotal: 520ms\tremaining: 75.7ms\n",
      "873:\tlearn: 0.6288025\ttotal: 521ms\tremaining: 75.1ms\n",
      "874:\tlearn: 0.6243292\ttotal: 521ms\tremaining: 74.5ms\n",
      "875:\tlearn: 0.6165696\ttotal: 522ms\tremaining: 73.9ms\n",
      "876:\tlearn: 0.6128782\ttotal: 523ms\tremaining: 73.3ms\n",
      "877:\tlearn: 0.6057460\ttotal: 523ms\tremaining: 72.7ms\n",
      "878:\tlearn: 0.6048833\ttotal: 524ms\tremaining: 72.1ms\n",
      "879:\tlearn: 0.5984637\ttotal: 524ms\tremaining: 71.5ms\n",
      "880:\tlearn: 0.5935168\ttotal: 525ms\tremaining: 70.9ms\n",
      "881:\tlearn: 0.5892604\ttotal: 526ms\tremaining: 70.3ms\n",
      "882:\tlearn: 0.5846504\ttotal: 526ms\tremaining: 69.7ms\n",
      "883:\tlearn: 0.5814985\ttotal: 527ms\tremaining: 69.1ms\n",
      "884:\tlearn: 0.5778053\ttotal: 527ms\tremaining: 68.5ms\n",
      "885:\tlearn: 0.5739896\ttotal: 528ms\tremaining: 67.9ms\n",
      "886:\tlearn: 0.5729847\ttotal: 529ms\tremaining: 67.4ms\n",
      "887:\tlearn: 0.5724598\ttotal: 529ms\tremaining: 66.8ms\n",
      "888:\tlearn: 0.5718988\ttotal: 530ms\tremaining: 66.2ms\n",
      "889:\tlearn: 0.5672314\ttotal: 531ms\tremaining: 65.6ms\n",
      "890:\tlearn: 0.5659035\ttotal: 531ms\tremaining: 65ms\n",
      "891:\tlearn: 0.5587131\ttotal: 532ms\tremaining: 64.4ms\n",
      "892:\tlearn: 0.5562858\ttotal: 532ms\tremaining: 63.8ms\n",
      "893:\tlearn: 0.5555127\ttotal: 533ms\tremaining: 63.2ms\n",
      "894:\tlearn: 0.5527685\ttotal: 533ms\tremaining: 62.6ms\n",
      "895:\tlearn: 0.5499500\ttotal: 534ms\tremaining: 62ms\n",
      "896:\tlearn: 0.5456148\ttotal: 535ms\tremaining: 61.4ms\n",
      "897:\tlearn: 0.5403285\ttotal: 535ms\tremaining: 60.8ms\n",
      "898:\tlearn: 0.5377774\ttotal: 536ms\tremaining: 60.2ms\n",
      "899:\tlearn: 0.5371353\ttotal: 536ms\tremaining: 59.6ms\n",
      "900:\tlearn: 0.5332613\ttotal: 537ms\tremaining: 59ms\n",
      "901:\tlearn: 0.5289379\ttotal: 538ms\tremaining: 58.4ms\n",
      "902:\tlearn: 0.5277948\ttotal: 538ms\tremaining: 57.8ms\n",
      "903:\tlearn: 0.5229979\ttotal: 539ms\tremaining: 57.2ms\n",
      "904:\tlearn: 0.5176545\ttotal: 539ms\tremaining: 56.6ms\n",
      "905:\tlearn: 0.5167566\ttotal: 540ms\tremaining: 56ms\n",
      "906:\tlearn: 0.5163313\ttotal: 541ms\tremaining: 55.4ms\n",
      "907:\tlearn: 0.5116777\ttotal: 541ms\tremaining: 54.8ms\n",
      "908:\tlearn: 0.5097952\ttotal: 542ms\tremaining: 54.2ms\n",
      "909:\tlearn: 0.5071290\ttotal: 542ms\tremaining: 53.6ms\n",
      "910:\tlearn: 0.5049191\ttotal: 543ms\tremaining: 53ms\n",
      "911:\tlearn: 0.5018383\ttotal: 544ms\tremaining: 52.4ms\n",
      "912:\tlearn: 0.5007466\ttotal: 544ms\tremaining: 51.8ms\n",
      "913:\tlearn: 0.4998771\ttotal: 545ms\tremaining: 51.3ms\n",
      "914:\tlearn: 0.4954624\ttotal: 545ms\tremaining: 50.7ms\n",
      "915:\tlearn: 0.4942071\ttotal: 546ms\tremaining: 50.1ms\n",
      "916:\tlearn: 0.4893003\ttotal: 547ms\tremaining: 49.5ms\n",
      "917:\tlearn: 0.4870233\ttotal: 547ms\tremaining: 48.9ms\n",
      "918:\tlearn: 0.4830379\ttotal: 548ms\tremaining: 48.3ms\n",
      "919:\tlearn: 0.4753426\ttotal: 548ms\tremaining: 47.7ms\n",
      "920:\tlearn: 0.4730706\ttotal: 549ms\tremaining: 47.1ms\n",
      "921:\tlearn: 0.4679650\ttotal: 549ms\tremaining: 46.5ms\n",
      "922:\tlearn: 0.4651630\ttotal: 550ms\tremaining: 45.9ms\n",
      "923:\tlearn: 0.4634313\ttotal: 551ms\tremaining: 45.3ms\n",
      "924:\tlearn: 0.4607284\ttotal: 551ms\tremaining: 44.7ms\n",
      "925:\tlearn: 0.4589159\ttotal: 552ms\tremaining: 44.1ms\n",
      "926:\tlearn: 0.4532169\ttotal: 552ms\tremaining: 43.5ms\n",
      "927:\tlearn: 0.4509932\ttotal: 553ms\tremaining: 42.9ms\n",
      "928:\tlearn: 0.4506088\ttotal: 554ms\tremaining: 42.3ms\n",
      "929:\tlearn: 0.4501478\ttotal: 554ms\tremaining: 41.7ms\n",
      "930:\tlearn: 0.4490581\ttotal: 555ms\tremaining: 41.1ms\n",
      "931:\tlearn: 0.4447316\ttotal: 555ms\tremaining: 40.5ms\n",
      "932:\tlearn: 0.4415148\ttotal: 556ms\tremaining: 39.9ms\n",
      "933:\tlearn: 0.4391051\ttotal: 557ms\tremaining: 39.3ms\n",
      "934:\tlearn: 0.4357356\ttotal: 557ms\tremaining: 38.7ms\n",
      "935:\tlearn: 0.4323983\ttotal: 558ms\tremaining: 38.1ms\n",
      "936:\tlearn: 0.4302143\ttotal: 558ms\tremaining: 37.5ms\n",
      "937:\tlearn: 0.4289117\ttotal: 559ms\tremaining: 36.9ms\n",
      "938:\tlearn: 0.4284339\ttotal: 560ms\tremaining: 36.4ms\n",
      "939:\tlearn: 0.4244107\ttotal: 560ms\tremaining: 35.8ms\n",
      "940:\tlearn: 0.4237451\ttotal: 561ms\tremaining: 35.2ms\n",
      "941:\tlearn: 0.4215386\ttotal: 561ms\tremaining: 34.5ms\n",
      "942:\tlearn: 0.4180705\ttotal: 562ms\tremaining: 34ms\n",
      "943:\tlearn: 0.4154760\ttotal: 562ms\tremaining: 33.4ms\n",
      "944:\tlearn: 0.4124859\ttotal: 563ms\tremaining: 32.8ms\n",
      "945:\tlearn: 0.4119886\ttotal: 564ms\tremaining: 32.2ms\n",
      "946:\tlearn: 0.4115906\ttotal: 565ms\tremaining: 31.6ms\n",
      "947:\tlearn: 0.4081974\ttotal: 566ms\tremaining: 31ms\n",
      "948:\tlearn: 0.4064530\ttotal: 566ms\tremaining: 30.4ms\n",
      "949:\tlearn: 0.4040915\ttotal: 567ms\tremaining: 29.8ms\n",
      "950:\tlearn: 0.4008861\ttotal: 567ms\tremaining: 29.2ms\n",
      "951:\tlearn: 0.3970913\ttotal: 568ms\tremaining: 28.6ms\n",
      "952:\tlearn: 0.3943258\ttotal: 568ms\tremaining: 28ms\n",
      "953:\tlearn: 0.3926270\ttotal: 569ms\tremaining: 27.4ms\n",
      "954:\tlearn: 0.3909448\ttotal: 569ms\tremaining: 26.8ms\n",
      "955:\tlearn: 0.3887707\ttotal: 570ms\tremaining: 26.2ms\n",
      "956:\tlearn: 0.3868345\ttotal: 571ms\tremaining: 25.6ms\n",
      "957:\tlearn: 0.3839349\ttotal: 571ms\tremaining: 25.1ms\n",
      "958:\tlearn: 0.3808497\ttotal: 572ms\tremaining: 24.5ms\n",
      "959:\tlearn: 0.3779283\ttotal: 573ms\tremaining: 23.9ms\n",
      "960:\tlearn: 0.3755090\ttotal: 573ms\tremaining: 23.3ms\n",
      "961:\tlearn: 0.3734292\ttotal: 574ms\tremaining: 22.7ms\n",
      "962:\tlearn: 0.3731558\ttotal: 574ms\tremaining: 22.1ms\n",
      "963:\tlearn: 0.3716642\ttotal: 575ms\tremaining: 21.5ms\n",
      "964:\tlearn: 0.3700879\ttotal: 576ms\tremaining: 20.9ms\n",
      "965:\tlearn: 0.3676034\ttotal: 576ms\tremaining: 20.3ms\n",
      "966:\tlearn: 0.3640425\ttotal: 577ms\tremaining: 19.7ms\n",
      "967:\tlearn: 0.3632495\ttotal: 577ms\tremaining: 19.1ms\n",
      "968:\tlearn: 0.3603878\ttotal: 578ms\tremaining: 18.5ms\n",
      "969:\tlearn: 0.3584398\ttotal: 579ms\tremaining: 17.9ms\n",
      "970:\tlearn: 0.3560019\ttotal: 579ms\tremaining: 17.3ms\n",
      "971:\tlearn: 0.3535719\ttotal: 580ms\tremaining: 16.7ms\n",
      "972:\tlearn: 0.3518950\ttotal: 580ms\tremaining: 16.1ms\n",
      "973:\tlearn: 0.3479039\ttotal: 581ms\tremaining: 15.5ms\n",
      "974:\tlearn: 0.3463938\ttotal: 582ms\tremaining: 14.9ms\n",
      "975:\tlearn: 0.3433932\ttotal: 582ms\tremaining: 14.3ms\n",
      "976:\tlearn: 0.3410148\ttotal: 583ms\tremaining: 13.7ms\n",
      "977:\tlearn: 0.3393532\ttotal: 583ms\tremaining: 13.1ms\n",
      "978:\tlearn: 0.3373067\ttotal: 584ms\tremaining: 12.5ms\n",
      "979:\tlearn: 0.3359122\ttotal: 585ms\tremaining: 11.9ms\n",
      "980:\tlearn: 0.3340848\ttotal: 585ms\tremaining: 11.3ms\n",
      "981:\tlearn: 0.3331220\ttotal: 586ms\tremaining: 10.7ms\n",
      "982:\tlearn: 0.3308795\ttotal: 587ms\tremaining: 10.1ms\n",
      "983:\tlearn: 0.3288012\ttotal: 587ms\tremaining: 9.55ms\n",
      "984:\tlearn: 0.3271648\ttotal: 588ms\tremaining: 8.95ms\n",
      "985:\tlearn: 0.3246514\ttotal: 588ms\tremaining: 8.35ms\n",
      "986:\tlearn: 0.3218383\ttotal: 589ms\tremaining: 7.76ms\n",
      "987:\tlearn: 0.3206535\ttotal: 589ms\tremaining: 7.16ms\n",
      "988:\tlearn: 0.3190063\ttotal: 590ms\tremaining: 6.56ms\n",
      "989:\tlearn: 0.3176250\ttotal: 590ms\tremaining: 5.96ms\n",
      "990:\tlearn: 0.3146329\ttotal: 591ms\tremaining: 5.37ms\n",
      "991:\tlearn: 0.3130835\ttotal: 592ms\tremaining: 4.77ms\n",
      "992:\tlearn: 0.3107534\ttotal: 592ms\tremaining: 4.17ms\n",
      "993:\tlearn: 0.3089626\ttotal: 593ms\tremaining: 3.58ms\n",
      "994:\tlearn: 0.3080205\ttotal: 593ms\tremaining: 2.98ms\n",
      "995:\tlearn: 0.3055692\ttotal: 594ms\tremaining: 2.38ms\n",
      "996:\tlearn: 0.3035687\ttotal: 594ms\tremaining: 1.79ms\n",
      "997:\tlearn: 0.3019582\ttotal: 595ms\tremaining: 1.19ms\n",
      "998:\tlearn: 0.3000480\ttotal: 596ms\tremaining: 596us\n",
      "999:\tlearn: 0.2971131\ttotal: 596ms\tremaining: 0us\n"
     ]
    },
    {
     "data": {
      "text/html": [
       "<style>#sk-container-id-33 {color: black;}#sk-container-id-33 pre{padding: 0;}#sk-container-id-33 div.sk-toggleable {background-color: white;}#sk-container-id-33 label.sk-toggleable__label {cursor: pointer;display: block;width: 100%;margin-bottom: 0;padding: 0.3em;box-sizing: border-box;text-align: center;}#sk-container-id-33 label.sk-toggleable__label-arrow:before {content: \"▸\";float: left;margin-right: 0.25em;color: #696969;}#sk-container-id-33 label.sk-toggleable__label-arrow:hover:before {color: black;}#sk-container-id-33 div.sk-estimator:hover label.sk-toggleable__label-arrow:before {color: black;}#sk-container-id-33 div.sk-toggleable__content {max-height: 0;max-width: 0;overflow: hidden;text-align: left;background-color: #f0f8ff;}#sk-container-id-33 div.sk-toggleable__content pre {margin: 0.2em;color: black;border-radius: 0.25em;background-color: #f0f8ff;}#sk-container-id-33 input.sk-toggleable__control:checked~div.sk-toggleable__content {max-height: 200px;max-width: 100%;overflow: auto;}#sk-container-id-33 input.sk-toggleable__control:checked~label.sk-toggleable__label-arrow:before {content: \"▾\";}#sk-container-id-33 div.sk-estimator input.sk-toggleable__control:checked~label.sk-toggleable__label {background-color: #d4ebff;}#sk-container-id-33 div.sk-label input.sk-toggleable__control:checked~label.sk-toggleable__label {background-color: #d4ebff;}#sk-container-id-33 input.sk-hidden--visually {border: 0;clip: rect(1px 1px 1px 1px);clip: rect(1px, 1px, 1px, 1px);height: 1px;margin: -1px;overflow: hidden;padding: 0;position: absolute;width: 1px;}#sk-container-id-33 div.sk-estimator {font-family: monospace;background-color: #f0f8ff;border: 1px dotted black;border-radius: 0.25em;box-sizing: border-box;margin-bottom: 0.5em;}#sk-container-id-33 div.sk-estimator:hover {background-color: #d4ebff;}#sk-container-id-33 div.sk-parallel-item::after {content: \"\";width: 100%;border-bottom: 1px solid gray;flex-grow: 1;}#sk-container-id-33 div.sk-label:hover label.sk-toggleable__label {background-color: #d4ebff;}#sk-container-id-33 div.sk-serial::before {content: \"\";position: absolute;border-left: 1px solid gray;box-sizing: border-box;top: 0;bottom: 0;left: 50%;z-index: 0;}#sk-container-id-33 div.sk-serial {display: flex;flex-direction: column;align-items: center;background-color: white;padding-right: 0.2em;padding-left: 0.2em;position: relative;}#sk-container-id-33 div.sk-item {position: relative;z-index: 1;}#sk-container-id-33 div.sk-parallel {display: flex;align-items: stretch;justify-content: center;background-color: white;position: relative;}#sk-container-id-33 div.sk-item::before, #sk-container-id-33 div.sk-parallel-item::before {content: \"\";position: absolute;border-left: 1px solid gray;box-sizing: border-box;top: 0;bottom: 0;left: 50%;z-index: -1;}#sk-container-id-33 div.sk-parallel-item {display: flex;flex-direction: column;z-index: 1;position: relative;background-color: white;}#sk-container-id-33 div.sk-parallel-item:first-child::after {align-self: flex-end;width: 50%;}#sk-container-id-33 div.sk-parallel-item:last-child::after {align-self: flex-start;width: 50%;}#sk-container-id-33 div.sk-parallel-item:only-child::after {width: 0;}#sk-container-id-33 div.sk-dashed-wrapped {border: 1px dashed gray;margin: 0 0.4em 0.5em 0.4em;box-sizing: border-box;padding-bottom: 0.4em;background-color: white;}#sk-container-id-33 div.sk-label label {font-family: monospace;font-weight: bold;display: inline-block;line-height: 1.2em;}#sk-container-id-33 div.sk-label-container {text-align: center;}#sk-container-id-33 div.sk-container {/* jupyter's `normalize.less` sets `[hidden] { display: none; }` but bootstrap.min.css set `[hidden] { display: none !important; }` so we also need the `!important` here to be able to override the default hidden behavior on the sphinx rendered scikit-learn.org. See: https://github.com/scikit-learn/scikit-learn/issues/21755 */display: inline-block !important;position: relative;}#sk-container-id-33 div.sk-text-repr-fallback {display: none;}</style><div id=\"sk-container-id-33\" class=\"sk-top-container\"><div class=\"sk-text-repr-fallback\"><pre>GridSearchCV(cv=5,\n",
       "             estimator=&lt;catboost.core.CatBoostRegressor object at 0x0000022B2B9C2BD0&gt;,\n",
       "             n_jobs=-1,\n",
       "             param_grid={&#x27;depth&#x27;: [3, 4, 5, 6, 7, 8],\n",
       "                         &#x27;iterations&#x27;: [200, 500, 1000, 2000],\n",
       "                         &#x27;learning_rate&#x27;: [0.01, 0.03, 0.05, 0.1]},\n",
       "             verbose=2)</pre><b>In a Jupyter environment, please rerun this cell to show the HTML representation or trust the notebook. <br />On GitHub, the HTML representation is unable to render, please try loading this page with nbviewer.org.</b></div><div class=\"sk-container\" hidden><div class=\"sk-item sk-dashed-wrapped\"><div class=\"sk-label-container\"><div class=\"sk-label sk-toggleable\"><input class=\"sk-toggleable__control sk-hidden--visually\" id=\"sk-estimator-id-51\" type=\"checkbox\" ><label for=\"sk-estimator-id-51\" class=\"sk-toggleable__label sk-toggleable__label-arrow\">GridSearchCV</label><div class=\"sk-toggleable__content\"><pre>GridSearchCV(cv=5,\n",
       "             estimator=&lt;catboost.core.CatBoostRegressor object at 0x0000022B2B9C2BD0&gt;,\n",
       "             n_jobs=-1,\n",
       "             param_grid={&#x27;depth&#x27;: [3, 4, 5, 6, 7, 8],\n",
       "                         &#x27;iterations&#x27;: [200, 500, 1000, 2000],\n",
       "                         &#x27;learning_rate&#x27;: [0.01, 0.03, 0.05, 0.1]},\n",
       "             verbose=2)</pre></div></div></div><div class=\"sk-parallel\"><div class=\"sk-parallel-item\"><div class=\"sk-item\"><div class=\"sk-label-container\"><div class=\"sk-label sk-toggleable\"><input class=\"sk-toggleable__control sk-hidden--visually\" id=\"sk-estimator-id-52\" type=\"checkbox\" ><label for=\"sk-estimator-id-52\" class=\"sk-toggleable__label sk-toggleable__label-arrow\">estimator: CatBoostRegressor</label><div class=\"sk-toggleable__content\"><pre>&lt;catboost.core.CatBoostRegressor object at 0x0000022B2B9C2BD0&gt;</pre></div></div></div><div class=\"sk-serial\"><div class=\"sk-item\"><div class=\"sk-estimator sk-toggleable\"><input class=\"sk-toggleable__control sk-hidden--visually\" id=\"sk-estimator-id-53\" type=\"checkbox\" ><label for=\"sk-estimator-id-53\" class=\"sk-toggleable__label sk-toggleable__label-arrow\">CatBoostRegressor</label><div class=\"sk-toggleable__content\"><pre>&lt;catboost.core.CatBoostRegressor object at 0x0000022B2B9C2BD0&gt;</pre></div></div></div></div></div></div></div></div></div></div>"
      ],
      "text/plain": [
       "GridSearchCV(cv=5,\n",
       "             estimator=<catboost.core.CatBoostRegressor object at 0x0000022B2B9C2BD0>,\n",
       "             n_jobs=-1,\n",
       "             param_grid={'depth': [3, 4, 5, 6, 7, 8],\n",
       "                         'iterations': [200, 500, 1000, 2000],\n",
       "                         'learning_rate': [0.01, 0.03, 0.05, 0.1]},\n",
       "             verbose=2)"
      ]
     },
     "execution_count": 187,
     "metadata": {},
     "output_type": "execute_result"
    }
   ],
   "source": [
    "catb_cv_model.fit(X_train, y_train)"
   ]
  },
  {
   "cell_type": "code",
   "execution_count": 188,
   "metadata": {},
   "outputs": [
    {
     "data": {
      "text/plain": [
       "{'depth': 5, 'iterations': 1000, 'learning_rate': 0.1}"
      ]
     },
     "execution_count": 188,
     "metadata": {},
     "output_type": "execute_result"
    }
   ],
   "source": [
    "catb_cv_model.best_params_"
   ]
  },
  {
   "cell_type": "code",
   "execution_count": 189,
   "metadata": {},
   "outputs": [
    {
     "name": "stdout",
     "output_type": "stream",
     "text": [
      "0:\tlearn: 442.4903140\ttotal: 2.51ms\tremaining: 499ms\n",
      "1:\tlearn: 440.4621805\ttotal: 4.73ms\tremaining: 468ms\n",
      "2:\tlearn: 438.5132091\ttotal: 6.6ms\tremaining: 433ms\n",
      "3:\tlearn: 436.2180377\ttotal: 8.62ms\tremaining: 422ms\n",
      "4:\tlearn: 434.0461579\ttotal: 10.6ms\tremaining: 414ms\n",
      "5:\tlearn: 431.8437770\ttotal: 12.5ms\tremaining: 406ms\n",
      "6:\tlearn: 430.1594587\ttotal: 14.5ms\tremaining: 400ms\n",
      "7:\tlearn: 428.0941830\ttotal: 16.2ms\tremaining: 388ms\n",
      "8:\tlearn: 426.0998774\ttotal: 17.8ms\tremaining: 379ms\n",
      "9:\tlearn: 424.0249067\ttotal: 18.4ms\tremaining: 349ms\n",
      "10:\tlearn: 422.1921868\ttotal: 20.1ms\tremaining: 346ms\n",
      "11:\tlearn: 420.2506764\ttotal: 21.8ms\tremaining: 342ms\n",
      "12:\tlearn: 418.3116383\ttotal: 23.6ms\tremaining: 340ms\n",
      "13:\tlearn: 416.2966847\ttotal: 25.3ms\tremaining: 336ms\n",
      "14:\tlearn: 414.5776175\ttotal: 26.9ms\tremaining: 332ms\n",
      "15:\tlearn: 412.8009394\ttotal: 28.7ms\tremaining: 330ms\n",
      "16:\tlearn: 410.9774146\ttotal: 30.4ms\tremaining: 327ms\n",
      "17:\tlearn: 409.1047417\ttotal: 32.2ms\tremaining: 325ms\n",
      "18:\tlearn: 407.6243957\ttotal: 33.8ms\tremaining: 322ms\n",
      "19:\tlearn: 405.9072209\ttotal: 35.5ms\tremaining: 319ms\n",
      "20:\tlearn: 404.2566200\ttotal: 37.1ms\tremaining: 316ms\n",
      "21:\tlearn: 402.5329859\ttotal: 38.9ms\tremaining: 314ms\n",
      "22:\tlearn: 400.6495607\ttotal: 40.7ms\tremaining: 313ms\n",
      "23:\tlearn: 398.8468643\ttotal: 42.4ms\tremaining: 311ms\n",
      "24:\tlearn: 397.0329195\ttotal: 44.2ms\tremaining: 309ms\n",
      "25:\tlearn: 395.4747968\ttotal: 45.9ms\tremaining: 307ms\n",
      "26:\tlearn: 393.7206925\ttotal: 47.5ms\tremaining: 305ms\n",
      "27:\tlearn: 392.2904125\ttotal: 49.2ms\tremaining: 302ms\n",
      "28:\tlearn: 390.5630617\ttotal: 50.9ms\tremaining: 300ms\n",
      "29:\tlearn: 389.1479370\ttotal: 52.6ms\tremaining: 298ms\n",
      "30:\tlearn: 387.6030700\ttotal: 54.6ms\tremaining: 298ms\n",
      "31:\tlearn: 386.0164157\ttotal: 56.7ms\tremaining: 298ms\n",
      "32:\tlearn: 384.1076046\ttotal: 58.6ms\tremaining: 296ms\n",
      "33:\tlearn: 382.3830744\ttotal: 60.4ms\tremaining: 295ms\n",
      "34:\tlearn: 380.5987560\ttotal: 62.1ms\tremaining: 293ms\n",
      "35:\tlearn: 379.0931667\ttotal: 63.7ms\tremaining: 290ms\n",
      "36:\tlearn: 377.6455643\ttotal: 65.9ms\tremaining: 290ms\n",
      "37:\tlearn: 376.0951499\ttotal: 67.9ms\tremaining: 290ms\n",
      "38:\tlearn: 374.6596684\ttotal: 70.1ms\tremaining: 289ms\n",
      "39:\tlearn: 372.8982744\ttotal: 71.9ms\tremaining: 288ms\n",
      "40:\tlearn: 371.4430906\ttotal: 73.7ms\tremaining: 286ms\n",
      "41:\tlearn: 370.1346896\ttotal: 75.4ms\tremaining: 284ms\n",
      "42:\tlearn: 368.3409801\ttotal: 77.4ms\tremaining: 283ms\n",
      "43:\tlearn: 366.9161522\ttotal: 79.6ms\tremaining: 282ms\n",
      "44:\tlearn: 365.5390053\ttotal: 81.3ms\tremaining: 280ms\n",
      "45:\tlearn: 364.0156710\ttotal: 82.9ms\tremaining: 278ms\n",
      "46:\tlearn: 362.5688240\ttotal: 84.8ms\tremaining: 276ms\n",
      "47:\tlearn: 361.0766459\ttotal: 86.5ms\tremaining: 274ms\n",
      "48:\tlearn: 359.4068914\ttotal: 88.2ms\tremaining: 272ms\n",
      "49:\tlearn: 358.0264840\ttotal: 89.9ms\tremaining: 270ms\n",
      "50:\tlearn: 356.6569261\ttotal: 91.6ms\tremaining: 268ms\n",
      "51:\tlearn: 355.3295581\ttotal: 93.3ms\tremaining: 266ms\n",
      "52:\tlearn: 353.7981543\ttotal: 95ms\tremaining: 263ms\n",
      "53:\tlearn: 352.3857927\ttotal: 96.7ms\tremaining: 261ms\n",
      "54:\tlearn: 351.0170630\ttotal: 98.5ms\tremaining: 260ms\n",
      "55:\tlearn: 349.5583299\ttotal: 100ms\tremaining: 258ms\n",
      "56:\tlearn: 348.3551914\ttotal: 102ms\tremaining: 255ms\n",
      "57:\tlearn: 347.0770426\ttotal: 103ms\tremaining: 253ms\n",
      "58:\tlearn: 345.9005401\ttotal: 105ms\tremaining: 251ms\n",
      "59:\tlearn: 344.5492739\ttotal: 107ms\tremaining: 249ms\n",
      "60:\tlearn: 343.4861303\ttotal: 108ms\tremaining: 247ms\n",
      "61:\tlearn: 342.1246162\ttotal: 110ms\tremaining: 245ms\n",
      "62:\tlearn: 340.6842766\ttotal: 112ms\tremaining: 243ms\n",
      "63:\tlearn: 339.3315019\ttotal: 113ms\tremaining: 241ms\n",
      "64:\tlearn: 337.8521507\ttotal: 115ms\tremaining: 239ms\n",
      "65:\tlearn: 336.5759989\ttotal: 117ms\tremaining: 237ms\n",
      "66:\tlearn: 335.2858902\ttotal: 118ms\tremaining: 235ms\n",
      "67:\tlearn: 334.0030235\ttotal: 120ms\tremaining: 233ms\n",
      "68:\tlearn: 332.7313763\ttotal: 122ms\tremaining: 231ms\n",
      "69:\tlearn: 331.5974885\ttotal: 123ms\tremaining: 229ms\n",
      "70:\tlearn: 330.5354149\ttotal: 125ms\tremaining: 227ms\n",
      "71:\tlearn: 329.3024752\ttotal: 126ms\tremaining: 225ms\n",
      "72:\tlearn: 328.0534820\ttotal: 128ms\tremaining: 223ms\n",
      "73:\tlearn: 326.9395455\ttotal: 130ms\tremaining: 221ms\n",
      "74:\tlearn: 325.5288974\ttotal: 132ms\tremaining: 220ms\n",
      "75:\tlearn: 324.3277188\ttotal: 134ms\tremaining: 218ms\n",
      "76:\tlearn: 323.0868571\ttotal: 135ms\tremaining: 216ms\n",
      "77:\tlearn: 321.8690017\ttotal: 137ms\tremaining: 214ms\n",
      "78:\tlearn: 320.9509169\ttotal: 139ms\tremaining: 213ms\n",
      "79:\tlearn: 319.8700363\ttotal: 140ms\tremaining: 211ms\n",
      "80:\tlearn: 318.4920699\ttotal: 142ms\tremaining: 209ms\n",
      "81:\tlearn: 317.4778062\ttotal: 144ms\tremaining: 208ms\n",
      "82:\tlearn: 316.3636635\ttotal: 146ms\tremaining: 206ms\n",
      "83:\tlearn: 315.1041604\ttotal: 148ms\tremaining: 204ms\n",
      "84:\tlearn: 314.0018701\ttotal: 150ms\tremaining: 203ms\n",
      "85:\tlearn: 312.8242118\ttotal: 152ms\tremaining: 201ms\n",
      "86:\tlearn: 311.7133822\ttotal: 153ms\tremaining: 199ms\n",
      "87:\tlearn: 310.6125773\ttotal: 155ms\tremaining: 197ms\n",
      "88:\tlearn: 309.5934070\ttotal: 157ms\tremaining: 196ms\n",
      "89:\tlearn: 308.6035314\ttotal: 159ms\tremaining: 194ms\n",
      "90:\tlearn: 307.4645756\ttotal: 161ms\tremaining: 193ms\n",
      "91:\tlearn: 306.3359620\ttotal: 163ms\tremaining: 191ms\n",
      "92:\tlearn: 305.3546576\ttotal: 164ms\tremaining: 189ms\n",
      "93:\tlearn: 304.3497567\ttotal: 166ms\tremaining: 187ms\n",
      "94:\tlearn: 303.3926155\ttotal: 168ms\tremaining: 185ms\n",
      "95:\tlearn: 302.1234778\ttotal: 169ms\tremaining: 183ms\n",
      "96:\tlearn: 300.8748060\ttotal: 171ms\tremaining: 181ms\n",
      "97:\tlearn: 299.8192745\ttotal: 172ms\tremaining: 180ms\n",
      "98:\tlearn: 298.8369756\ttotal: 175ms\tremaining: 178ms\n",
      "99:\tlearn: 297.8913508\ttotal: 177ms\tremaining: 177ms\n",
      "100:\tlearn: 296.8220741\ttotal: 179ms\tremaining: 175ms\n",
      "101:\tlearn: 295.8591240\ttotal: 181ms\tremaining: 174ms\n",
      "102:\tlearn: 295.0212733\ttotal: 183ms\tremaining: 173ms\n",
      "103:\tlearn: 293.9712550\ttotal: 186ms\tremaining: 171ms\n",
      "104:\tlearn: 292.8563786\ttotal: 188ms\tremaining: 170ms\n",
      "105:\tlearn: 291.8182216\ttotal: 190ms\tremaining: 168ms\n",
      "106:\tlearn: 290.8176654\ttotal: 192ms\tremaining: 166ms\n",
      "107:\tlearn: 289.9383970\ttotal: 192ms\tremaining: 164ms\n",
      "108:\tlearn: 288.7005005\ttotal: 194ms\tremaining: 162ms\n",
      "109:\tlearn: 287.7512562\ttotal: 196ms\tremaining: 160ms\n",
      "110:\tlearn: 286.8929047\ttotal: 197ms\tremaining: 158ms\n",
      "111:\tlearn: 285.9704538\ttotal: 199ms\tremaining: 156ms\n",
      "112:\tlearn: 284.9057160\ttotal: 200ms\tremaining: 154ms\n",
      "113:\tlearn: 284.1826027\ttotal: 202ms\tremaining: 152ms\n",
      "114:\tlearn: 283.1170272\ttotal: 204ms\tremaining: 151ms\n",
      "115:\tlearn: 282.0680805\ttotal: 205ms\tremaining: 149ms\n",
      "116:\tlearn: 281.2294931\ttotal: 207ms\tremaining: 147ms\n",
      "117:\tlearn: 280.2761021\ttotal: 209ms\tremaining: 145ms\n",
      "118:\tlearn: 279.4292163\ttotal: 210ms\tremaining: 143ms\n",
      "119:\tlearn: 278.5105683\ttotal: 212ms\tremaining: 141ms\n",
      "120:\tlearn: 277.6361767\ttotal: 213ms\tremaining: 139ms\n",
      "121:\tlearn: 276.8037869\ttotal: 215ms\tremaining: 137ms\n",
      "122:\tlearn: 276.0239867\ttotal: 217ms\tremaining: 136ms\n",
      "123:\tlearn: 275.1795488\ttotal: 218ms\tremaining: 134ms\n",
      "124:\tlearn: 274.3292722\ttotal: 220ms\tremaining: 132ms\n",
      "125:\tlearn: 273.4198837\ttotal: 222ms\tremaining: 130ms\n",
      "126:\tlearn: 272.5973891\ttotal: 223ms\tremaining: 128ms\n",
      "127:\tlearn: 271.8101515\ttotal: 225ms\tremaining: 127ms\n",
      "128:\tlearn: 270.9025424\ttotal: 227ms\tremaining: 125ms\n",
      "129:\tlearn: 270.0364886\ttotal: 229ms\tremaining: 123ms\n",
      "130:\tlearn: 269.0385322\ttotal: 231ms\tremaining: 122ms\n",
      "131:\tlearn: 268.1937827\ttotal: 232ms\tremaining: 120ms\n",
      "132:\tlearn: 267.4049794\ttotal: 234ms\tremaining: 118ms\n",
      "133:\tlearn: 266.6338446\ttotal: 236ms\tremaining: 116ms\n",
      "134:\tlearn: 265.8071481\ttotal: 241ms\tremaining: 116ms\n",
      "135:\tlearn: 264.8647141\ttotal: 245ms\tremaining: 115ms\n",
      "136:\tlearn: 264.1327683\ttotal: 248ms\tremaining: 114ms\n",
      "137:\tlearn: 263.2736152\ttotal: 251ms\tremaining: 113ms\n",
      "138:\tlearn: 262.3035083\ttotal: 254ms\tremaining: 112ms\n",
      "139:\tlearn: 261.5548509\ttotal: 257ms\tremaining: 110ms\n",
      "140:\tlearn: 260.6810614\ttotal: 261ms\tremaining: 109ms\n",
      "141:\tlearn: 259.9520565\ttotal: 263ms\tremaining: 108ms\n",
      "142:\tlearn: 259.1637940\ttotal: 266ms\tremaining: 106ms\n",
      "143:\tlearn: 258.4748956\ttotal: 269ms\tremaining: 104ms\n",
      "144:\tlearn: 257.7311746\ttotal: 270ms\tremaining: 103ms\n",
      "145:\tlearn: 256.9606337\ttotal: 272ms\tremaining: 101ms\n",
      "146:\tlearn: 256.3518311\ttotal: 274ms\tremaining: 98.7ms\n",
      "147:\tlearn: 255.5049330\ttotal: 276ms\tremaining: 97ms\n",
      "148:\tlearn: 254.7238850\ttotal: 279ms\tremaining: 95.4ms\n",
      "149:\tlearn: 253.8840501\ttotal: 281ms\tremaining: 93.6ms\n",
      "150:\tlearn: 253.0754983\ttotal: 283ms\tremaining: 91.8ms\n",
      "151:\tlearn: 252.2453750\ttotal: 284ms\tremaining: 89.8ms\n",
      "152:\tlearn: 251.5607633\ttotal: 286ms\tremaining: 87.8ms\n",
      "153:\tlearn: 250.9442552\ttotal: 288ms\tremaining: 85.9ms\n",
      "154:\tlearn: 250.1822151\ttotal: 289ms\tremaining: 84ms\n",
      "155:\tlearn: 249.4448988\ttotal: 291ms\tremaining: 82ms\n",
      "156:\tlearn: 248.7637093\ttotal: 292ms\tremaining: 80.1ms\n",
      "157:\tlearn: 248.1165411\ttotal: 294ms\tremaining: 78.2ms\n",
      "158:\tlearn: 247.4318005\ttotal: 296ms\tremaining: 76.3ms\n",
      "159:\tlearn: 246.6414875\ttotal: 298ms\tremaining: 74.4ms\n",
      "160:\tlearn: 245.9710878\ttotal: 299ms\tremaining: 72.5ms\n",
      "161:\tlearn: 245.2531651\ttotal: 301ms\tremaining: 70.5ms\n",
      "162:\tlearn: 244.3669394\ttotal: 302ms\tremaining: 68.6ms\n",
      "163:\tlearn: 243.5127155\ttotal: 304ms\tremaining: 66.7ms\n",
      "164:\tlearn: 242.7095888\ttotal: 305ms\tremaining: 64.8ms\n",
      "165:\tlearn: 242.0376740\ttotal: 307ms\tremaining: 62.9ms\n",
      "166:\tlearn: 241.2252825\ttotal: 309ms\tremaining: 61ms\n",
      "167:\tlearn: 240.5849477\ttotal: 311ms\tremaining: 59.1ms\n",
      "168:\tlearn: 239.7800585\ttotal: 312ms\tremaining: 57.3ms\n",
      "169:\tlearn: 239.1427178\ttotal: 314ms\tremaining: 55.4ms\n",
      "170:\tlearn: 238.5203908\ttotal: 316ms\tremaining: 53.5ms\n",
      "171:\tlearn: 237.7975333\ttotal: 317ms\tremaining: 51.6ms\n",
      "172:\tlearn: 237.3602037\ttotal: 318ms\tremaining: 49.6ms\n",
      "173:\tlearn: 236.6786338\ttotal: 319ms\tremaining: 47.7ms\n",
      "174:\tlearn: 236.0202210\ttotal: 321ms\tremaining: 45.8ms\n",
      "175:\tlearn: 235.3476701\ttotal: 322ms\tremaining: 44ms\n",
      "176:\tlearn: 234.6718452\ttotal: 324ms\tremaining: 42.1ms\n",
      "177:\tlearn: 233.8885269\ttotal: 326ms\tremaining: 40.3ms\n",
      "178:\tlearn: 233.1892495\ttotal: 327ms\tremaining: 38.4ms\n",
      "179:\tlearn: 232.5527509\ttotal: 329ms\tremaining: 36.5ms\n",
      "180:\tlearn: 231.9618575\ttotal: 331ms\tremaining: 34.7ms\n",
      "181:\tlearn: 231.3342102\ttotal: 332ms\tremaining: 32.9ms\n",
      "182:\tlearn: 230.7244333\ttotal: 334ms\tremaining: 31ms\n",
      "183:\tlearn: 230.1436842\ttotal: 335ms\tremaining: 29.2ms\n",
      "184:\tlearn: 229.5095318\ttotal: 337ms\tremaining: 27.3ms\n",
      "185:\tlearn: 228.8917327\ttotal: 339ms\tremaining: 25.5ms\n",
      "186:\tlearn: 228.2636690\ttotal: 340ms\tremaining: 23.7ms\n",
      "187:\tlearn: 227.6023563\ttotal: 342ms\tremaining: 21.8ms\n",
      "188:\tlearn: 227.0846972\ttotal: 343ms\tremaining: 20ms\n",
      "189:\tlearn: 226.4545281\ttotal: 345ms\tremaining: 18.2ms\n",
      "190:\tlearn: 225.8981660\ttotal: 347ms\tremaining: 16.3ms\n",
      "191:\tlearn: 225.3663235\ttotal: 348ms\tremaining: 14.5ms\n",
      "192:\tlearn: 224.7996893\ttotal: 350ms\tremaining: 12.7ms\n",
      "193:\tlearn: 224.2439337\ttotal: 351ms\tremaining: 10.9ms\n",
      "194:\tlearn: 223.6864443\ttotal: 353ms\tremaining: 9.05ms\n",
      "195:\tlearn: 223.1405707\ttotal: 355ms\tremaining: 7.24ms\n",
      "196:\tlearn: 222.4965559\ttotal: 356ms\tremaining: 5.43ms\n",
      "197:\tlearn: 221.9452309\ttotal: 358ms\tremaining: 3.62ms\n",
      "198:\tlearn: 221.4075421\ttotal: 359ms\tremaining: 1.81ms\n",
      "199:\tlearn: 220.9138000\ttotal: 361ms\tremaining: 0us\n"
     ]
    }
   ],
   "source": [
    "catb_tuned = CatBoostRegressor(iterations = 200, \n",
    "                               learning_rate = 0.01, \n",
    "                               depth = 8)\n",
    "\n",
    "catb_tuned = catb_tuned.fit(X_train,y_train)"
   ]
  },
  {
   "cell_type": "code",
   "execution_count": 190,
   "metadata": {},
   "outputs": [
    {
     "data": {
      "text/plain": [
       "369.6970696250705"
      ]
     },
     "execution_count": 190,
     "metadata": {},
     "output_type": "execute_result"
    }
   ],
   "source": [
    "y_pred = catb_tuned.predict(X_test)\n",
    "np.sqrt(mean_squared_error(y_test, y_pred))"
   ]
  }
 ],
 "metadata": {
  "kernelspec": {
   "display_name": "Python 3",
   "language": "python",
   "name": "python3"
  },
  "language_info": {
   "codemirror_mode": {
    "name": "ipython",
    "version": 3
   },
   "file_extension": ".py",
   "mimetype": "text/x-python",
   "name": "python",
   "nbconvert_exporter": "python",
   "pygments_lexer": "ipython3",
   "version": "3.11.4"
  }
 },
 "nbformat": 4,
 "nbformat_minor": 2
}
